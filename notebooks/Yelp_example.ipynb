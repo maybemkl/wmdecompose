{
 "cells": [
  {
   "cell_type": "code",
   "execution_count": 372,
   "metadata": {},
   "outputs": [],
   "source": [
    "import os\n",
    "import sys\n",
    "\n",
    "root_dir = os.path.join(os.getcwd(), '..')\n",
    "sys.path.append(root_dir)"
   ]
  },
  {
   "cell_type": "code",
   "execution_count": 373,
   "metadata": {},
   "outputs": [
    {
     "name": "stdout",
     "output_type": "stream",
     "text": [
      "The autoreload extension is already loaded. To reload it, use:\n",
      "  %reload_ext autoreload\n"
     ]
    }
   ],
   "source": [
    "from collections import defaultdict\n",
    "from flow_wmd.documents import Document\n",
    "from flow_wmd.gale_shapeley import Matcher\n",
    "from flow_wmd.models import LC_RWMD, WMD, WMDManyToMany, WMDPairs\n",
    "from flow_wmd.utils import *\n",
    "\n",
    "from gensim.models import KeyedVectors\n",
    "from nltk.corpus import stopwords\n",
    "from nltk.tokenize import ToktokTokenizer\n",
    "from scipy.spatial.distance import is_valid_dm, cdist\n",
    "from sklearn.decomposition import PCA\n",
    "from sklearn.feature_extraction.text import TfidfVectorizer\n",
    "from sklearn.manifold import TSNE\n",
    "from sklearn.metrics import silhouette_score\n",
    "from sklearn import cluster\n",
    "\n",
    "import matplotlib.pyplot as plt\n",
    "import numpy as np\n",
    "import pandas as pd\n",
    "import re\n",
    "import seaborn as sns\n",
    "import umap\n",
    "import umap.plot\n",
    "\n",
    "%load_ext autoreload\n",
    "%autoreload 2"
   ]
  },
  {
   "cell_type": "markdown",
   "metadata": {},
   "source": [
    "## 1. Prepare IMDB data"
   ]
  },
  {
   "cell_type": "markdown",
   "metadata": {},
   "source": [
    "### 1.1 Load data and stopwords."
   ]
  },
  {
   "cell_type": "code",
   "execution_count": 374,
   "metadata": {},
   "outputs": [
    {
     "name": "stdout",
     "output_type": "stream",
     "text": [
      "CPU times: user 3min 6s, sys: 47.2 s, total: 3min 53s\n",
      "Wall time: 5min 24s\n"
     ]
    }
   ],
   "source": [
    "%%time\n",
    "\n",
    "PATH = \"../data/yelp_dataset/\"\n",
    "yelp_data = []\n",
    "r_dtypes = {\"review_id\":str,\n",
    "            \"user_id\":str,\n",
    "            \"business_id\":str,\n",
    "            \"stars\": np.int32, \n",
    "            \"date\":str,\n",
    "            \"text\":str,\n",
    "            \"useful\": np.int32, \n",
    "            \"funny\": np.int32,\n",
    "            \"cool\": np.int32}\n",
    "drop = ['review_id', 'user_id', 'useful', 'funny', 'cool']\n",
    "query = \"date >= '2017-12-01' and (stars==1 or stars ==5)\"\n",
    "\n",
    "with open(f\"{PATH}yelp_academic_dataset_review.json\", \"r\") as f:\n",
    "    reader = pd.read_json(f, orient=\"records\", lines=True, dtype=r_dtypes, chunksize=1000)\n",
    "    for chunk in reader:\n",
    "        reduced_chunk = chunk.drop(columns=drop).query(query)\n",
    "        yelp_data.append(reduced_chunk)\n",
    "    \n",
    "yelp_data = pd.concat(yelp_data, ignore_index=True)\n"
   ]
  },
  {
   "cell_type": "code",
   "execution_count": 375,
   "metadata": {},
   "outputs": [
    {
     "data": {
      "text/plain": [
       "(1948607, 4)"
      ]
     },
     "execution_count": 375,
     "metadata": {},
     "output_type": "execute_result"
    }
   ],
   "source": [
    "yelp_data.shape"
   ]
  },
  {
   "cell_type": "code",
   "execution_count": 376,
   "metadata": {},
   "outputs": [
    {
     "data": {
      "text/plain": [
       "(160585, 14)"
      ]
     },
     "execution_count": 376,
     "metadata": {},
     "output_type": "execute_result"
    }
   ],
   "source": [
    "yelp_business = pd.read_json(f\"{PATH}yelp_academic_dataset_business.json\", orient=\"records\", lines=True)\n",
    "yelp_business.shape"
   ]
  },
  {
   "cell_type": "code",
   "execution_count": 377,
   "metadata": {},
   "outputs": [
    {
     "data": {
      "text/plain": [
       "(30815, 14)"
      ]
     },
     "execution_count": 377,
     "metadata": {},
     "output_type": "execute_result"
    }
   ],
   "source": [
    "yelp_business = yelp_business[yelp_business.city.isin([\"Portland\", \"Atlanta\"])]\n",
    "yelp_business.shape"
   ]
  },
  {
   "cell_type": "code",
   "execution_count": 378,
   "metadata": {},
   "outputs": [],
   "source": [
    "yelp_merged = yelp_data.merge(yelp_business, on='business_id')"
   ]
  },
  {
   "cell_type": "code",
   "execution_count": 379,
   "metadata": {},
   "outputs": [
    {
     "data": {
      "text/plain": [
       "(451826, 17)"
      ]
     },
     "execution_count": 379,
     "metadata": {},
     "output_type": "execute_result"
    }
   ],
   "source": [
    "yelp_merged.shape"
   ]
  },
  {
   "cell_type": "code",
   "execution_count": 380,
   "metadata": {},
   "outputs": [],
   "source": [
    "yelp_merged = yelp_merged.rename(columns={\"stars_x\":\"stars\"})"
   ]
  },
  {
   "cell_type": "code",
   "execution_count": 381,
   "metadata": {},
   "outputs": [
    {
     "data": {
      "text/plain": [
       "(2000, 18)"
      ]
     },
     "execution_count": 381,
     "metadata": {},
     "output_type": "execute_result"
    }
   ],
   "source": [
    "s_size = 500\n",
    "rs = 42\n",
    "sample = yelp_merged.groupby([\"city\", \"stars\"]).sample(n=s_size, random_state=rs).reset_index()\n",
    "sample.shape"
   ]
  },
  {
   "cell_type": "code",
   "execution_count": 382,
   "metadata": {},
   "outputs": [],
   "source": [
    "stopword_list=stopwords.words('english')"
   ]
  },
  {
   "cell_type": "markdown",
   "metadata": {},
   "source": [
    "### 1.2 Remove special formatting and stopwords"
   ]
  },
  {
   "cell_type": "code",
   "execution_count": 383,
   "metadata": {},
   "outputs": [],
   "source": [
    "tokenizer = ToktokTokenizer()"
   ]
  },
  {
   "cell_type": "markdown",
   "metadata": {},
   "source": [
    "Remove stopwords before denoising, lemmatizing and removing special characters."
   ]
  },
  {
   "cell_type": "code",
   "execution_count": 384,
   "metadata": {},
   "outputs": [
    {
     "name": "stdout",
     "output_type": "stream",
     "text": [
      "CPU times: user 794 ms, sys: 27.8 ms, total: 821 ms\n",
      "Wall time: 864 ms\n"
     ]
    }
   ],
   "source": [
    "%%time \n",
    "\n",
    "sample['review_clean']= [remove_stopwords(r, stopword_list, tokenizer) for r in sample['text']]"
   ]
  },
  {
   "cell_type": "markdown",
   "metadata": {},
   "source": [
    "Denoise, remove special characters, lemmatize."
   ]
  },
  {
   "cell_type": "code",
   "execution_count": 385,
   "metadata": {},
   "outputs": [
    {
     "name": "stdout",
     "output_type": "stream",
     "text": [
      "CPU times: user 626 ms, sys: 110 ms, total: 737 ms\n",
      "Wall time: 870 ms\n"
     ]
    }
   ],
   "source": [
    "%%time\n",
    "\n",
    "sample['review_clean']=sample['review_clean'].apply(denoise_text)\n",
    "sample['review_clean']=sample['review_clean'].apply(remove_special_characters)\n",
    "sample['review_clean']=sample['review_clean'].apply(simple_lemmatizer)"
   ]
  },
  {
   "cell_type": "markdown",
   "metadata": {},
   "source": [
    "Remove stopwords again, after other preprocessing."
   ]
  },
  {
   "cell_type": "code",
   "execution_count": 386,
   "metadata": {},
   "outputs": [
    {
     "name": "stdout",
     "output_type": "stream",
     "text": [
      "CPU times: user 535 ms, sys: 15 ms, total: 550 ms\n",
      "Wall time: 681 ms\n"
     ]
    }
   ],
   "source": [
    "%%time \n",
    "\n",
    "sample['review_clean']= [remove_stopwords(r, stopword_list, tokenizer) for r in sample['review_clean']]"
   ]
  },
  {
   "cell_type": "markdown",
   "metadata": {},
   "source": [
    "Find phrases."
   ]
  },
  {
   "cell_type": "code",
   "execution_count": 387,
   "metadata": {},
   "outputs": [],
   "source": [
    "PHRASING = True\n",
    "MIN = 500\n",
    "THRESHOLD = 200"
   ]
  },
  {
   "cell_type": "code",
   "execution_count": 388,
   "metadata": {},
   "outputs": [
    {
     "name": "stdout",
     "output_type": "stream",
     "text": [
      "CPU times: user 1.66 s, sys: 41.7 ms, total: 1.71 s\n",
      "Wall time: 1.78 s\n"
     ]
    }
   ],
   "source": [
    "%%time\n",
    "\n",
    "if PHRASING:\n",
    "    sample['review_clean']= get_phrases([tokenizer.tokenize(i) for i in sample['review_clean']],\n",
    "                                        min_count = MIN, \n",
    "                                        threshold = THRESHOLD)"
   ]
  },
  {
   "cell_type": "markdown",
   "metadata": {},
   "source": [
    "Data _before_ preprocessing and phrasing."
   ]
  },
  {
   "cell_type": "code",
   "execution_count": 428,
   "metadata": {},
   "outputs": [
    {
     "data": {
      "text/plain": [
       "'Most unprofessional restaurant manager I\\'ve ever dealt with.\\n\\nI ordered a large veggie quesadilla (12$) and my friend got a small chicken quesadilla (6.50$). Upon arrival we realize they are the same size, but mine is cut. \\n\\nI brought this to Jazzy, our server, attention and showed her and she was like yea thats not right. I am happy to pay the 6.50$ for the size of quesadilla I received. \\n\\nThe manager, Rosa, comes to the table and explains that I got a large, it is made with two tortillas. I show her the fold of  single tortilla. Then she says well actually its one 12\" tortilla and my friends was a 10\". I tell her there is no way mine could have been 12\" it is the same diameter as my friends. \\nShe continues that it is large because it has \"more stuffing\". I ask her to bring me a tortilla. She brings both sizes and insists I got a large and says i am paying full price or 2$ off. I insist I\\'m paying menu price for what I received. (6.5$).\\nShe storms off. I take my slice of quesadilla, hold it up to the smaller tortilla and they are the same size. Without hesitation she touches my food with her bare hands and begins to dig inside. To which I state, \"dont touch my food!\" \\n\\nShe took the price off the quesadilla off and told me I am banned from coming back, since she was unable to admit that a kitchen mistake was made and charge me accordingly. She justified the mistake by changing the criteria of \\'large or small\\' 2 times and then touched a patron\\'s food bare handed. \\n\\nToo bad I won\\'t be eating anymore of Jazzy\\'s awesome guacamole.'"
      ]
     },
     "execution_count": 428,
     "metadata": {},
     "output_type": "execute_result"
    }
   ],
   "source": [
    "sample['text'][6]"
   ]
  },
  {
   "cell_type": "markdown",
   "metadata": {},
   "source": [
    "Data _after_ preprocessing and phrasing."
   ]
  },
  {
   "cell_type": "code",
   "execution_count": 425,
   "metadata": {},
   "outputs": [
    {
     "data": {
      "text/plain": [
       "'unprofessional restaurant manager ever dealt ordered large veggie quesadilla friend got small chicken quesadilla upon arrival realize size mine cut brought jazzy server attention showed like yea thats right happy pay size quesadilla received manager rosa come table explains got large made two tortilla show fold single tortilla say well actually one tortilla friend tell way mine could diameter friend continues large stuffing ask bring tortilla brings size insists got large say paying full price insist paying menu price received storm take slice quesadilla hold smaller tortilla size without hesitation touch food bare hand begin dig inside state dont touch food took price quesadilla told banned coming_back since unable admit kitchen mistake made charge accordingly justified mistake changing criterion large small time touched patron food bare handed bad eating anymore jazzy awesome guacamole'"
      ]
     },
     "execution_count": 425,
     "metadata": {},
     "output_type": "execute_result"
    }
   ],
   "source": [
    "#sample['review_clean'][0]\n",
    "\" \".join(sample['review_clean'][6])"
   ]
  },
  {
   "cell_type": "code",
   "execution_count": 400,
   "metadata": {},
   "outputs": [],
   "source": [
    "sample[\"sentiment\"] = ['positive' if s == 5 else 'negative' for s in sample['stars']]"
   ]
  },
  {
   "cell_type": "code",
   "execution_count": 401,
   "metadata": {},
   "outputs": [
    {
     "data": {
      "text/html": [
       "<div>\n",
       "<style scoped>\n",
       "    .dataframe tbody tr th:only-of-type {\n",
       "        vertical-align: middle;\n",
       "    }\n",
       "\n",
       "    .dataframe tbody tr th {\n",
       "        vertical-align: top;\n",
       "    }\n",
       "\n",
       "    .dataframe thead th {\n",
       "        text-align: right;\n",
       "    }\n",
       "</style>\n",
       "<table border=\"1\" class=\"dataframe\">\n",
       "  <thead>\n",
       "    <tr style=\"text-align: right;\">\n",
       "      <th></th>\n",
       "      <th>sentiment</th>\n",
       "      <th>stars</th>\n",
       "    </tr>\n",
       "  </thead>\n",
       "  <tbody>\n",
       "    <tr>\n",
       "      <th>0</th>\n",
       "      <td>negative</td>\n",
       "      <td>1</td>\n",
       "    </tr>\n",
       "    <tr>\n",
       "      <th>1</th>\n",
       "      <td>negative</td>\n",
       "      <td>1</td>\n",
       "    </tr>\n",
       "    <tr>\n",
       "      <th>2</th>\n",
       "      <td>negative</td>\n",
       "      <td>1</td>\n",
       "    </tr>\n",
       "    <tr>\n",
       "      <th>3</th>\n",
       "      <td>negative</td>\n",
       "      <td>1</td>\n",
       "    </tr>\n",
       "    <tr>\n",
       "      <th>4</th>\n",
       "      <td>negative</td>\n",
       "      <td>1</td>\n",
       "    </tr>\n",
       "    <tr>\n",
       "      <th>...</th>\n",
       "      <td>...</td>\n",
       "      <td>...</td>\n",
       "    </tr>\n",
       "    <tr>\n",
       "      <th>1995</th>\n",
       "      <td>positive</td>\n",
       "      <td>5</td>\n",
       "    </tr>\n",
       "    <tr>\n",
       "      <th>1996</th>\n",
       "      <td>positive</td>\n",
       "      <td>5</td>\n",
       "    </tr>\n",
       "    <tr>\n",
       "      <th>1997</th>\n",
       "      <td>positive</td>\n",
       "      <td>5</td>\n",
       "    </tr>\n",
       "    <tr>\n",
       "      <th>1998</th>\n",
       "      <td>positive</td>\n",
       "      <td>5</td>\n",
       "    </tr>\n",
       "    <tr>\n",
       "      <th>1999</th>\n",
       "      <td>positive</td>\n",
       "      <td>5</td>\n",
       "    </tr>\n",
       "  </tbody>\n",
       "</table>\n",
       "<p>2000 rows × 2 columns</p>\n",
       "</div>"
      ],
      "text/plain": [
       "     sentiment  stars\n",
       "0     negative      1\n",
       "1     negative      1\n",
       "2     negative      1\n",
       "3     negative      1\n",
       "4     negative      1\n",
       "...        ...    ...\n",
       "1995  positive      5\n",
       "1996  positive      5\n",
       "1997  positive      5\n",
       "1998  positive      5\n",
       "1999  positive      5\n",
       "\n",
       "[2000 rows x 2 columns]"
      ]
     },
     "execution_count": 401,
     "metadata": {},
     "output_type": "execute_result"
    }
   ],
   "source": [
    "sample[[\"sentiment\", \"stars\"]]"
   ]
  },
  {
   "cell_type": "code",
   "execution_count": 673,
   "metadata": {},
   "outputs": [
    {
     "data": {
      "text/html": [
       "<div>\n",
       "<style scoped>\n",
       "    .dataframe tbody tr th:only-of-type {\n",
       "        vertical-align: middle;\n",
       "    }\n",
       "\n",
       "    .dataframe tbody tr th {\n",
       "        vertical-align: top;\n",
       "    }\n",
       "\n",
       "    .dataframe thead th {\n",
       "        text-align: right;\n",
       "    }\n",
       "</style>\n",
       "<table border=\"1\" class=\"dataframe\">\n",
       "  <thead>\n",
       "    <tr style=\"text-align: right;\">\n",
       "      <th></th>\n",
       "      <th>level_0</th>\n",
       "      <th>index</th>\n",
       "      <th>business_id</th>\n",
       "      <th>stars</th>\n",
       "      <th>text</th>\n",
       "      <th>date</th>\n",
       "      <th>name</th>\n",
       "      <th>address</th>\n",
       "      <th>city</th>\n",
       "      <th>state</th>\n",
       "      <th>...</th>\n",
       "      <th>latitude</th>\n",
       "      <th>longitude</th>\n",
       "      <th>stars_y</th>\n",
       "      <th>review_count</th>\n",
       "      <th>is_open</th>\n",
       "      <th>attributes</th>\n",
       "      <th>categories</th>\n",
       "      <th>hours</th>\n",
       "      <th>review_clean</th>\n",
       "      <th>sentiment</th>\n",
       "    </tr>\n",
       "  </thead>\n",
       "  <tbody>\n",
       "    <tr>\n",
       "      <th>0</th>\n",
       "      <td>0</td>\n",
       "      <td>240568</td>\n",
       "      <td>X3uNEXlRhtKnArhxSGrBIQ</td>\n",
       "      <td>1</td>\n",
       "      <td>Going through the drive through wasn't bad but...</td>\n",
       "      <td>2018-01-27 16:37:31</td>\n",
       "      <td>Einstein Bros Bagels</td>\n",
       "      <td>1100 Hammond Dr Ne, Ste 600</td>\n",
       "      <td>Atlanta</td>\n",
       "      <td>GA</td>\n",
       "      <td>...</td>\n",
       "      <td>33.919266</td>\n",
       "      <td>-84.351989</td>\n",
       "      <td>2.5</td>\n",
       "      <td>154</td>\n",
       "      <td>1</td>\n",
       "      <td>{'BusinessParking': '{'garage': False, 'street...</td>\n",
       "      <td>Bagels, Food, Restaurants, Breakfast &amp; Brunch</td>\n",
       "      <td>{'Monday': '5:0-17:0', 'Tuesday': '5:0-17:0', ...</td>\n",
       "      <td>[going, drive, bad, wait, item, took, little, ...</td>\n",
       "      <td>negative</td>\n",
       "    </tr>\n",
       "    <tr>\n",
       "      <th>1155</th>\n",
       "      <td>1155</td>\n",
       "      <td>237865</td>\n",
       "      <td>CoZbETgq7mF5JzzxLMeF6Q</td>\n",
       "      <td>1</td>\n",
       "      <td>I never thought I'd be one to give pizza anyth...</td>\n",
       "      <td>2020-10-09 04:09:17</td>\n",
       "      <td>Via Chicago</td>\n",
       "      <td>2013 NE Alberta Ave</td>\n",
       "      <td>Portland</td>\n",
       "      <td>OR</td>\n",
       "      <td>...</td>\n",
       "      <td>45.559203</td>\n",
       "      <td>-122.644492</td>\n",
       "      <td>4.0</td>\n",
       "      <td>308</td>\n",
       "      <td>1</td>\n",
       "      <td>{'RestaurantsGoodForGroups': 'True', 'BikePark...</td>\n",
       "      <td>Restaurants, Pizza, Food Stands</td>\n",
       "      <td>{'Monday': '11:0-22:0', 'Tuesday': '11:0-23:0'...</td>\n",
       "      <td>[never, thought, one, give, pizza, anything, l...</td>\n",
       "      <td>negative</td>\n",
       "    </tr>\n",
       "    <tr>\n",
       "      <th>1156</th>\n",
       "      <td>1156</td>\n",
       "      <td>88041</td>\n",
       "      <td>ufnpH_JO9QJKeDf7g7Y9oA</td>\n",
       "      <td>1</td>\n",
       "      <td>I'm 63 and normally don't write reviews becaus...</td>\n",
       "      <td>2018-07-28 20:58:58</td>\n",
       "      <td>Quest Diagnostics</td>\n",
       "      <td>13485 Nw Cornell Rd</td>\n",
       "      <td>Portland</td>\n",
       "      <td>OR</td>\n",
       "      <td>...</td>\n",
       "      <td>45.527992</td>\n",
       "      <td>-122.814475</td>\n",
       "      <td>2.5</td>\n",
       "      <td>6</td>\n",
       "      <td>1</td>\n",
       "      <td>None</td>\n",
       "      <td>Laboratory Testing, Diagnostic Services, Healt...</td>\n",
       "      <td>{'Monday': '13:0-16:30', 'Tuesday': '13:0-16:3...</td>\n",
       "      <td>[normally, write_review, business_owner, lot, ...</td>\n",
       "      <td>negative</td>\n",
       "    </tr>\n",
       "    <tr>\n",
       "      <th>1157</th>\n",
       "      <td>1157</td>\n",
       "      <td>280702</td>\n",
       "      <td>xeFke1EuoYXOZaX1rTQYEw</td>\n",
       "      <td>1</td>\n",
       "      <td>Such a disappointment! Went at noon on a Frida...</td>\n",
       "      <td>2018-07-13 21:01:30</td>\n",
       "      <td>Thai Champa</td>\n",
       "      <td>938 E Burnside St</td>\n",
       "      <td>Portland</td>\n",
       "      <td>OR</td>\n",
       "      <td>...</td>\n",
       "      <td>45.522733</td>\n",
       "      <td>-122.656442</td>\n",
       "      <td>4.5</td>\n",
       "      <td>325</td>\n",
       "      <td>1</td>\n",
       "      <td>{'Alcohol': ''none'', 'HappyHour': 'False', 'H...</td>\n",
       "      <td>Restaurants, Food Trucks, Laotian, Thai, Food</td>\n",
       "      <td>{'Monday': '0:0-0:0', 'Tuesday': '17:0-22:0', ...</td>\n",
       "      <td>[disappointment, went, noon, friday, guess, lu...</td>\n",
       "      <td>negative</td>\n",
       "    </tr>\n",
       "    <tr>\n",
       "      <th>1158</th>\n",
       "      <td>1158</td>\n",
       "      <td>132920</td>\n",
       "      <td>GMar8UtettoKJ6FZgG1gDg</td>\n",
       "      <td>1</td>\n",
       "      <td>I am thinking about refinancing only to rid my...</td>\n",
       "      <td>2020-05-29 16:09:43</td>\n",
       "      <td>Gregory Funding Llc</td>\n",
       "      <td>425 NW 10th Ave Ste 307</td>\n",
       "      <td>Portland</td>\n",
       "      <td>OR</td>\n",
       "      <td>...</td>\n",
       "      <td>45.526141</td>\n",
       "      <td>-122.681258</td>\n",
       "      <td>1.5</td>\n",
       "      <td>7</td>\n",
       "      <td>0</td>\n",
       "      <td>None</td>\n",
       "      <td>Home Services, Real Estate, Mortgage Brokers</td>\n",
       "      <td>None</td>\n",
       "      <td>[thinking, refinancing, rid, new, loan, servic...</td>\n",
       "      <td>negative</td>\n",
       "    </tr>\n",
       "  </tbody>\n",
       "</table>\n",
       "<p>5 rows × 21 columns</p>\n",
       "</div>"
      ],
      "text/plain": [
       "      level_0   index             business_id  stars  \\\n",
       "0           0  240568  X3uNEXlRhtKnArhxSGrBIQ      1   \n",
       "1155     1155  237865  CoZbETgq7mF5JzzxLMeF6Q      1   \n",
       "1156     1156   88041  ufnpH_JO9QJKeDf7g7Y9oA      1   \n",
       "1157     1157  280702  xeFke1EuoYXOZaX1rTQYEw      1   \n",
       "1158     1158  132920  GMar8UtettoKJ6FZgG1gDg      1   \n",
       "\n",
       "                                                   text                 date  \\\n",
       "0     Going through the drive through wasn't bad but...  2018-01-27 16:37:31   \n",
       "1155  I never thought I'd be one to give pizza anyth...  2020-10-09 04:09:17   \n",
       "1156  I'm 63 and normally don't write reviews becaus...  2018-07-28 20:58:58   \n",
       "1157  Such a disappointment! Went at noon on a Frida...  2018-07-13 21:01:30   \n",
       "1158  I am thinking about refinancing only to rid my...  2020-05-29 16:09:43   \n",
       "\n",
       "                      name                      address      city state  ...  \\\n",
       "0     Einstein Bros Bagels  1100 Hammond Dr Ne, Ste 600   Atlanta    GA  ...   \n",
       "1155           Via Chicago          2013 NE Alberta Ave  Portland    OR  ...   \n",
       "1156     Quest Diagnostics          13485 Nw Cornell Rd  Portland    OR  ...   \n",
       "1157           Thai Champa            938 E Burnside St  Portland    OR  ...   \n",
       "1158   Gregory Funding Llc      425 NW 10th Ave Ste 307  Portland    OR  ...   \n",
       "\n",
       "       latitude   longitude  stars_y  review_count  is_open  \\\n",
       "0     33.919266  -84.351989      2.5           154        1   \n",
       "1155  45.559203 -122.644492      4.0           308        1   \n",
       "1156  45.527992 -122.814475      2.5             6        1   \n",
       "1157  45.522733 -122.656442      4.5           325        1   \n",
       "1158  45.526141 -122.681258      1.5             7        0   \n",
       "\n",
       "                                             attributes  \\\n",
       "0     {'BusinessParking': '{'garage': False, 'street...   \n",
       "1155  {'RestaurantsGoodForGroups': 'True', 'BikePark...   \n",
       "1156                                               None   \n",
       "1157  {'Alcohol': ''none'', 'HappyHour': 'False', 'H...   \n",
       "1158                                               None   \n",
       "\n",
       "                                             categories  \\\n",
       "0         Bagels, Food, Restaurants, Breakfast & Brunch   \n",
       "1155                    Restaurants, Pizza, Food Stands   \n",
       "1156  Laboratory Testing, Diagnostic Services, Healt...   \n",
       "1157      Restaurants, Food Trucks, Laotian, Thai, Food   \n",
       "1158       Home Services, Real Estate, Mortgage Brokers   \n",
       "\n",
       "                                                  hours  \\\n",
       "0     {'Monday': '5:0-17:0', 'Tuesday': '5:0-17:0', ...   \n",
       "1155  {'Monday': '11:0-22:0', 'Tuesday': '11:0-23:0'...   \n",
       "1156  {'Monday': '13:0-16:30', 'Tuesday': '13:0-16:3...   \n",
       "1157  {'Monday': '0:0-0:0', 'Tuesday': '17:0-22:0', ...   \n",
       "1158                                               None   \n",
       "\n",
       "                                           review_clean sentiment  \n",
       "0     [going, drive, bad, wait, item, took, little, ...  negative  \n",
       "1155  [never, thought, one, give, pizza, anything, l...  negative  \n",
       "1156  [normally, write_review, business_owner, lot, ...  negative  \n",
       "1157  [disappointment, went, noon, friday, guess, lu...  negative  \n",
       "1158  [thinking, refinancing, rid, new, loan, servic...  negative  \n",
       "\n",
       "[5 rows x 21 columns]"
      ]
     },
     "execution_count": 673,
     "metadata": {},
     "output_type": "execute_result"
    }
   ],
   "source": [
    "sample.head()"
   ]
  },
  {
   "cell_type": "code",
   "execution_count": 674,
   "metadata": {},
   "outputs": [
    {
     "data": {
      "text/plain": [
       "Index(['level_0', 'index', 'business_id', 'stars', 'text', 'date', 'name',\n",
       "       'address', 'city', 'state', 'postal_code', 'latitude', 'longitude',\n",
       "       'stars_y', 'review_count', 'is_open', 'attributes', 'categories',\n",
       "       'hours', 'review_clean', 'sentiment'],\n",
       "      dtype='object')"
      ]
     },
     "execution_count": 674,
     "metadata": {},
     "output_type": "execute_result"
    }
   ],
   "source": [
    "sample.columns"
   ]
  },
  {
   "cell_type": "code",
   "execution_count": 683,
   "metadata": {},
   "outputs": [],
   "source": [
    "sample = sample.sort_values(\"sentiment\").drop('level_0', axis=1).reset_index()"
   ]
  },
  {
   "cell_type": "markdown",
   "metadata": {},
   "source": [
    "### 1.3 Separate pos and neg reviews"
   ]
  },
  {
   "cell_type": "code",
   "execution_count": 687,
   "metadata": {},
   "outputs": [],
   "source": [
    "pos = sample[sample.sentiment == \"positive\"].reset_index(drop=True)\n",
    "neg = sample[sample.sentiment == \"negative\"].reset_index(drop=True)"
   ]
  },
  {
   "cell_type": "code",
   "execution_count": 688,
   "metadata": {},
   "outputs": [],
   "source": [
    "pos = pos.review_clean.tolist()\n",
    "neg = neg.review_clean.tolist()"
   ]
  },
  {
   "cell_type": "markdown",
   "metadata": {},
   "source": [
    "## 2. WMD"
   ]
  },
  {
   "cell_type": "markdown",
   "metadata": {},
   "source": [
    "### 2.1 Tokenize and \"sample\" data"
   ]
  },
  {
   "cell_type": "code",
   "execution_count": 689,
   "metadata": {},
   "outputs": [],
   "source": [
    "pos_tok = list(map(lambda x: tokenize(x, tokenizer), pos[:2000]))\n",
    "neg_tok = list(map(lambda x: tokenize(x, tokenizer), neg[:2000]))"
   ]
  },
  {
   "cell_type": "code",
   "execution_count": 690,
   "metadata": {},
   "outputs": [],
   "source": [
    "pos_sample = [\" \".join(doc) for doc in pos_tok]\n",
    "neg_sample = [\" \".join(doc) for doc in neg_tok]"
   ]
  },
  {
   "cell_type": "code",
   "execution_count": 691,
   "metadata": {},
   "outputs": [
    {
     "name": "stdout",
     "output_type": "stream",
     "text": [
      "1000\n",
      "1000\n"
     ]
    }
   ],
   "source": [
    "print(len(pos_sample))\n",
    "print(len(neg_sample))"
   ]
  },
  {
   "cell_type": "markdown",
   "metadata": {},
   "source": [
    "### 2.2 Load pretrained Google News W2V model"
   ]
  },
  {
   "cell_type": "code",
   "execution_count": 416,
   "metadata": {},
   "outputs": [],
   "source": [
    "finetuned = False"
   ]
  },
  {
   "cell_type": "code",
   "execution_count": 420,
   "metadata": {},
   "outputs": [
    {
     "name": "stdout",
     "output_type": "stream",
     "text": [
      "Loading GoogleNews Vectors\n",
      "CPU times: user 48.8 s, sys: 3.89 s, total: 52.7 s\n",
      "Wall time: 55.7 s\n"
     ]
    }
   ],
   "source": [
    "if not finetuned:\n",
    "    print(\"Loading GoogleNews Vectors\")\n",
    "    %time model = KeyedVectors.load_word2vec_format('../embeddings/GoogleNews-vectors-negative300.bin.gz', binary=True)\n",
    "else:\n",
    "    print(\"Loading GoogleNews Vectors finetuned using Yelp review data.\")\n",
    "    %time model = KeyedVectors.load_word2vec_format('../embeddings/yelp_w2v.txt', binary=False)"
   ]
  },
  {
   "cell_type": "code",
   "execution_count": 421,
   "metadata": {},
   "outputs": [
    {
     "data": {
      "text/plain": [
       "0.26227182149887085"
      ]
     },
     "execution_count": 421,
     "metadata": {},
     "output_type": "execute_result"
    }
   ],
   "source": [
    "model.distance(\"taco\", \"burrito\")"
   ]
  },
  {
   "cell_type": "code",
   "execution_count": 426,
   "metadata": {},
   "outputs": [
    {
     "data": {
      "text/plain": [
       "0.3457874059677124"
      ]
     },
     "execution_count": 426,
     "metadata": {},
     "output_type": "execute_result"
    }
   ],
   "source": [
    "model.distance(\"quesadilla\",\"tostada\")"
   ]
  },
  {
   "cell_type": "code",
   "execution_count": 427,
   "metadata": {},
   "outputs": [
    {
     "data": {
      "text/plain": [
       "0.24882382154464722"
      ]
     },
     "execution_count": 427,
     "metadata": {},
     "output_type": "execute_result"
    }
   ],
   "source": [
    "model.distance(\"sushi\", \"sashimi\")"
   ]
  },
  {
   "cell_type": "markdown",
   "metadata": {},
   "source": [
    "### 2.3 Load corpus and remove OOV words"
   ]
  },
  {
   "cell_type": "code",
   "execution_count": 692,
   "metadata": {},
   "outputs": [
    {
     "name": "stderr",
     "output_type": "stream",
     "text": [
      "/Users/mikaelbrunila/Documents/Code/flow-wmd/venv-fwmd/lib/python3.8/site-packages/sklearn/feature_extraction/text.py:489: UserWarning: The parameter 'token_pattern' will not be used since 'tokenizer' is not None'\n",
      "  warnings.warn(\"The parameter 'token_pattern' will not be used\"\n"
     ]
    },
    {
     "name": "stdout",
     "output_type": "stream",
     "text": [
      "CPU times: user 737 ms, sys: 40.2 ms, total: 777 ms\n",
      "Wall time: 841 ms\n"
     ]
    },
    {
     "data": {
      "text/plain": [
       "TfidfVectorizer(norm='l1',\n",
       "                tokenizer=<function tfidf_tokenize at 0x7ff7cafd1dc0>,\n",
       "                use_idf=False)"
      ]
     },
     "execution_count": 692,
     "metadata": {},
     "output_type": "execute_result"
    }
   ],
   "source": [
    "%%time\n",
    "\n",
    "corpus = pos_sample + neg_sample\n",
    "vectorizer = TfidfVectorizer(use_idf=False, tokenizer=tfidf_tokenize, norm='l1')\n",
    "vectorizer.fit(corpus)"
   ]
  },
  {
   "cell_type": "code",
   "execution_count": 693,
   "metadata": {},
   "outputs": [
    {
     "name": "stdout",
     "output_type": "stream",
     "text": [
      "CPU times: user 25.3 ms, sys: 187 ms, total: 212 ms\n",
      "Wall time: 452 ms\n"
     ]
    }
   ],
   "source": [
    "%time oov = [word for word in vectorizer.get_feature_names() if word not in model.key_to_index.keys()]"
   ]
  },
  {
   "cell_type": "code",
   "execution_count": 694,
   "metadata": {},
   "outputs": [
    {
     "data": {
      "text/plain": [
       "1273"
      ]
     },
     "execution_count": 694,
     "metadata": {},
     "output_type": "execute_result"
    }
   ],
   "source": [
    "len(oov)"
   ]
  },
  {
   "cell_type": "code",
   "execution_count": 695,
   "metadata": {},
   "outputs": [
    {
     "name": "stdout",
     "output_type": "stream",
     "text": [
      "[\"'\", ',', '[', ']', 'able_get', 'ablebodied', 'ableist', 'absolute_worst', 'absolutely_awful', 'absolutely_delicious', 'absolutely_horrible', 'absolutely_love', 'acknowledgement', 'across_street', 'acted_like', 'acura', 'adel', 'adobada', 'advantaclean', 'aetrex', 'africanamerican', 'aftergot', 'afuri', 'agedashi', 'agreedupon', 'ahc', 'ahead_time', 'ahmayzing', 'aida', 'aiden', 'aimee', 'airbnb', 'airflyer', 'aislebins', 'aknowledgemnt', 'aladdin', 'alamir_pdx', 'alana', 'alcia', 'aliera', 'allthey', 'alpharetta', 'alphonio', 'already_paid', 'altanera', 'alvarowas', 'amam', 'amana', 'amazing_job', 'americanized']\n"
     ]
    }
   ],
   "source": [
    "print(oov[:50])"
   ]
  },
  {
   "cell_type": "code",
   "execution_count": 696,
   "metadata": {},
   "outputs": [
    {
     "name": "stdout",
     "output_type": "stream",
     "text": [
      "CPU times: user 885 ms, sys: 20.3 ms, total: 906 ms\n",
      "Wall time: 973 ms\n",
      "CPU times: user 1.39 s, sys: 33.6 ms, total: 1.42 s\n",
      "Wall time: 1.49 s\n"
     ]
    }
   ],
   "source": [
    "%time pos_sample = list(map(lambda x: remove_oov(x, tokenizer, oov), pos_sample[:2000]))\n",
    "%time neg_sample = list(map(lambda x: remove_oov(x, tokenizer, oov), neg_sample[:2000]))"
   ]
  },
  {
   "cell_type": "code",
   "execution_count": 697,
   "metadata": {},
   "outputs": [
    {
     "data": {
      "text/plain": [
       "'food delicious outdoor_seating bit chilly wait pick'"
      ]
     },
     "execution_count": 697,
     "metadata": {},
     "output_type": "execute_result"
    }
   ],
   "source": [
    "pos_sample[5]"
   ]
  },
  {
   "cell_type": "code",
   "execution_count": 698,
   "metadata": {},
   "outputs": [
    {
     "name": "stdout",
     "output_type": "stream",
     "text": [
      "CPU times: user 27 µs, sys: 0 ns, total: 27 µs\n",
      "Wall time: 30 µs\n",
      "CPU times: user 215 ms, sys: 14.5 ms, total: 230 ms\n",
      "Wall time: 249 ms\n"
     ]
    },
    {
     "data": {
      "text/plain": [
       "TfidfVectorizer(norm='l1',\n",
       "                tokenizer=<function tfidf_tokenize at 0x7ff7cafd1dc0>)"
      ]
     },
     "execution_count": 698,
     "metadata": {},
     "output_type": "execute_result"
    }
   ],
   "source": [
    "corpus = pos_sample + neg_sample\n",
    "\n",
    "%time vectorizer = TfidfVectorizer(use_idf=True, tokenizer=tfidf_tokenize,norm='l1')\n",
    "%time vectorizer.fit(corpus)"
   ]
  },
  {
   "cell_type": "markdown",
   "metadata": {},
   "source": [
    "Bag-of-words vectorizer."
   ]
  },
  {
   "cell_type": "code",
   "execution_count": 699,
   "metadata": {},
   "outputs": [
    {
     "name": "stdout",
     "output_type": "stream",
     "text": [
      "CPU times: user 1 µs, sys: 1e+03 ns, total: 2 µs\n",
      "Wall time: 4.05 µs\n"
     ]
    }
   ],
   "source": [
    "%time\n",
    "pos_nbow = vectorizer.transform(pos_sample)\n",
    "neg_nbow = vectorizer.transform(neg_sample)"
   ]
  },
  {
   "cell_type": "code",
   "execution_count": 700,
   "metadata": {},
   "outputs": [],
   "source": [
    "pos_tok = list(map(lambda x: tokenize(x, tokenizer), pos_sample[:2000]))\n",
    "neg_tok =list(map(lambda x: tokenize(x, tokenizer), neg_sample[:2000]))"
   ]
  },
  {
   "cell_type": "code",
   "execution_count": 701,
   "metadata": {},
   "outputs": [
    {
     "name": "stdout",
     "output_type": "stream",
     "text": [
      "['food', 'delicious', 'outdoor_seating', 'bit', 'chilly', 'wait', 'pick']\n"
     ]
    }
   ],
   "source": [
    "print(pos_tok[5][:20])"
   ]
  },
  {
   "cell_type": "code",
   "execution_count": 702,
   "metadata": {},
   "outputs": [
    {
     "name": "stdout",
     "output_type": "stream",
     "text": [
      "CPU times: user 12.3 ms, sys: 98 µs, total: 12.4 ms\n",
      "Wall time: 12.4 ms\n"
     ]
    }
   ],
   "source": [
    "%time oov_ = [word for word in vectorizer.get_feature_names() if word not in model.key_to_index.keys()]"
   ]
  },
  {
   "cell_type": "code",
   "execution_count": 703,
   "metadata": {},
   "outputs": [
    {
     "data": {
      "text/plain": [
       "0"
      ]
     },
     "execution_count": 703,
     "metadata": {},
     "output_type": "execute_result"
    }
   ],
   "source": [
    "len(oov_)"
   ]
  },
  {
   "cell_type": "markdown",
   "metadata": {},
   "source": [
    "### 2.4 Get features and embeddings"
   ]
  },
  {
   "cell_type": "code",
   "execution_count": 704,
   "metadata": {},
   "outputs": [],
   "source": [
    "features = vectorizer.get_feature_names()\n",
    "word2idx = {word: idx for idx, word in enumerate(vectorizer.get_feature_names())}\n",
    "idx2word = {idx: word for idx, word in enumerate(vectorizer.get_feature_names())}"
   ]
  },
  {
   "cell_type": "markdown",
   "metadata": {},
   "source": [
    "Get the embedding matrix \"E\" for all features."
   ]
  },
  {
   "cell_type": "code",
   "execution_count": 705,
   "metadata": {},
   "outputs": [],
   "source": [
    "E = model[features]\n",
    "#E = np.vstack([model.get_vector(word) for word in vectorizer.get_feature_names()])"
   ]
  },
  {
   "cell_type": "markdown",
   "metadata": {},
   "source": [
    "### 2.5 Cluster"
   ]
  },
  {
   "cell_type": "markdown",
   "metadata": {},
   "source": [
    "In order to make the results of the WMD model more interpretable, we add the option to inspect the output not only by individual words, but also by *word clusters*. We do this by clustering the input words with two different algorithms\n",
    "and assigning each word to a cluster."
   ]
  },
  {
   "cell_type": "markdown",
   "metadata": {},
   "source": [
    "#### 2.5.1 Kmeans"
   ]
  },
  {
   "cell_type": "markdown",
   "metadata": {},
   "source": [
    "First, we get the embeddings for the words that are in our feature space."
   ]
  },
  {
   "cell_type": "code",
   "execution_count": 585,
   "metadata": {},
   "outputs": [],
   "source": [
    "#X = model[features]"
   ]
  },
  {
   "cell_type": "markdown",
   "metadata": {},
   "source": [
    "Then we select the number of clusters we want, initialize the Kmeans model and fit it."
   ]
  },
  {
   "cell_type": "code",
   "execution_count": 586,
   "metadata": {},
   "outputs": [
    {
     "name": "stdout",
     "output_type": "stream",
     "text": [
      "CPU times: user 3 µs, sys: 0 ns, total: 3 µs\n",
      "Wall time: 7.15 µs\n"
     ]
    }
   ],
   "source": [
    "%%time\n",
    "\n",
    "K = range(10,210, 10)"
   ]
  },
  {
   "cell_type": "code",
   "execution_count": 587,
   "metadata": {},
   "outputs": [
    {
     "name": "stdout",
     "output_type": "stream",
     "text": [
      "For n_clusters = 10 The average silhouette_score is : 0.0048870924\n",
      "For n_clusters = 20 The average silhouette_score is : -0.0045487885\n",
      "For n_clusters = 30 The average silhouette_score is : -0.013450309\n",
      "For n_clusters = 40 The average silhouette_score is : -0.013978215\n",
      "For n_clusters = 50 The average silhouette_score is : -0.028676057\n",
      "For n_clusters = 60 The average silhouette_score is : -0.053541888\n",
      "For n_clusters = 70 The average silhouette_score is : -0.035639092\n",
      "For n_clusters = 80 The average silhouette_score is : -0.027800914\n",
      "For n_clusters = 90 The average silhouette_score is : -0.034088783\n",
      "For n_clusters = 100 The average silhouette_score is : -0.042346764\n",
      "For n_clusters = 110 The average silhouette_score is : -0.041213974\n",
      "For n_clusters = 120 The average silhouette_score is : -0.042985883\n",
      "For n_clusters = 130 The average silhouette_score is : -0.0457045\n",
      "For n_clusters = 140 The average silhouette_score is : -0.051638562\n",
      "For n_clusters = 150 The average silhouette_score is : -0.055394642\n",
      "For n_clusters = 160 The average silhouette_score is : -0.048286237\n",
      "For n_clusters = 170 The average silhouette_score is : -0.030314585\n",
      "For n_clusters = 180 The average silhouette_score is : -0.053530127\n",
      "For n_clusters = 190 The average silhouette_score is : -0.036591936\n",
      "For n_clusters = 200 The average silhouette_score is : -0.055864427\n",
      "CPU times: user 41min 41s, sys: 6min 4s, total: 47min 46s\n",
      "Wall time: 11min 49s\n"
     ]
    }
   ],
   "source": [
    "%%time\n",
    "\n",
    "wvec_ssd, wvec_silhouette = kmeans_search(E, K)"
   ]
  },
  {
   "cell_type": "code",
   "execution_count": 588,
   "metadata": {},
   "outputs": [
    {
     "data": {
      "image/png": "[encoded data removed]",
      "text/plain": [
       "<Figure size 432x288 with 1 Axes>"
      ]
     },
     "metadata": {
      "needs_background": "light"
     },
     "output_type": "display_data"
    }
   ],
   "source": [
    "plot_kmeans(K,wvec_ssd,\"elbow\")"
   ]
  },
  {
   "cell_type": "code",
   "execution_count": 589,
   "metadata": {},
   "outputs": [
    {
     "data": {
      "image/png": "[encoded data removed]",
      "text/plain": [
       "<Figure size 432x288 with 1 Axes>"
      ]
     },
     "metadata": {
      "needs_background": "light"
     },
     "output_type": "display_data"
    }
   ],
   "source": [
    "plot_kmeans(K,wvec_silhouette,\"silhouette\")"
   ]
  },
  {
   "cell_type": "markdown",
   "metadata": {},
   "source": [
    "Assign labels and centroids to separate variables for later use."
   ]
  },
  {
   "cell_type": "markdown",
   "metadata": {},
   "source": [
    "#### 2.5.2 T-SNE + Kmeans"
   ]
  },
  {
   "cell_type": "code",
   "execution_count": 590,
   "metadata": {},
   "outputs": [],
   "source": [
    "method='barnes_hut'\n",
    "n_components = 2\n",
    "verbose = 1"
   ]
  },
  {
   "cell_type": "code",
   "execution_count": 591,
   "metadata": {},
   "outputs": [
    {
     "name": "stdout",
     "output_type": "stream",
     "text": [
      "[t-SNE] Computing 91 nearest neighbors...\n",
      "[t-SNE] Indexed 9413 samples in 0.007s...\n",
      "[t-SNE] Computed neighbors for 9413 samples in 2.342s...\n",
      "[t-SNE] Computed conditional probabilities for sample 1000 / 9413\n",
      "[t-SNE] Computed conditional probabilities for sample 2000 / 9413\n",
      "[t-SNE] Computed conditional probabilities for sample 3000 / 9413\n",
      "[t-SNE] Computed conditional probabilities for sample 4000 / 9413\n",
      "[t-SNE] Computed conditional probabilities for sample 5000 / 9413\n",
      "[t-SNE] Computed conditional probabilities for sample 6000 / 9413\n",
      "[t-SNE] Computed conditional probabilities for sample 7000 / 9413\n",
      "[t-SNE] Computed conditional probabilities for sample 8000 / 9413\n",
      "[t-SNE] Computed conditional probabilities for sample 9000 / 9413\n",
      "[t-SNE] Computed conditional probabilities for sample 9413 / 9413\n",
      "[t-SNE] Mean sigma: 0.684253\n",
      "[t-SNE] KL divergence after 250 iterations with early exaggeration: 110.945068\n",
      "[t-SNE] KL divergence after 1000 iterations: 3.106699\n"
     ]
    }
   ],
   "source": [
    "E_tsne = TSNE(n_components=n_components, method=method, verbose=verbose).fit_transform(E)"
   ]
  },
  {
   "cell_type": "code",
   "execution_count": 592,
   "metadata": {},
   "outputs": [
    {
     "data": {
      "image/png": "[encoded data removed]",
      "text/plain": [
       "<Figure size 432x288 with 1 Axes>"
      ]
     },
     "metadata": {
      "needs_background": "light"
     },
     "output_type": "display_data"
    }
   ],
   "source": [
    "plt.scatter(E_tsne[:, 0], E_tsne[:, 1], s=1);"
   ]
  },
  {
   "cell_type": "code",
   "execution_count": 593,
   "metadata": {},
   "outputs": [
    {
     "name": "stdout",
     "output_type": "stream",
     "text": [
      "For n_clusters = 10 The average silhouette_score is : 0.34488717\n",
      "For n_clusters = 20 The average silhouette_score is : 0.3372342\n",
      "For n_clusters = 30 The average silhouette_score is : 0.3312462\n",
      "For n_clusters = 40 The average silhouette_score is : 0.3336319\n",
      "For n_clusters = 50 The average silhouette_score is : 0.33292577\n",
      "For n_clusters = 60 The average silhouette_score is : 0.33240375\n",
      "For n_clusters = 70 The average silhouette_score is : 0.33114016\n",
      "For n_clusters = 80 The average silhouette_score is : 0.33670086\n",
      "For n_clusters = 90 The average silhouette_score is : 0.33434618\n",
      "For n_clusters = 100 The average silhouette_score is : 0.33501622\n",
      "For n_clusters = 110 The average silhouette_score is : 0.332212\n",
      "For n_clusters = 120 The average silhouette_score is : 0.33530146\n",
      "For n_clusters = 130 The average silhouette_score is : 0.33940127\n",
      "For n_clusters = 140 The average silhouette_score is : 0.33824897\n",
      "For n_clusters = 150 The average silhouette_score is : 0.33759972\n",
      "For n_clusters = 160 The average silhouette_score is : 0.338538\n",
      "For n_clusters = 170 The average silhouette_score is : 0.3367158\n",
      "For n_clusters = 180 The average silhouette_score is : 0.340452\n",
      "For n_clusters = 190 The average silhouette_score is : 0.34009293\n",
      "For n_clusters = 200 The average silhouette_score is : 0.34116793\n",
      "CPU times: user 7min 18s, sys: 40.6 s, total: 7min 59s\n",
      "Wall time: 1min 28s\n"
     ]
    }
   ],
   "source": [
    "%%time\n",
    "\n",
    "tsne_ssd, tsne_silhouette = kmeans_search(E_tsne, K)"
   ]
  },
  {
   "cell_type": "code",
   "execution_count": 594,
   "metadata": {},
   "outputs": [
    {
     "data": {
      "image/png": "[encoded data removed]",
      "text/plain": [
       "<Figure size 432x288 with 1 Axes>"
      ]
     },
     "metadata": {
      "needs_background": "light"
     },
     "output_type": "display_data"
    }
   ],
   "source": [
    "plot_kmeans(K,tsne_ssd,\"elbow\")"
   ]
  },
  {
   "cell_type": "code",
   "execution_count": 595,
   "metadata": {},
   "outputs": [
    {
     "data": {
      "image/png": "[encoded data removed]",
      "text/plain": [
       "<Figure size 432x288 with 1 Axes>"
      ]
     },
     "metadata": {
      "needs_background": "light"
     },
     "output_type": "display_data"
    }
   ],
   "source": [
    "plot_kmeans(K,tsne_silhouette,\"silhouette\")"
   ]
  },
  {
   "cell_type": "markdown",
   "metadata": {},
   "source": [
    "#### 2.5.3 PCA + Kmeans"
   ]
  },
  {
   "cell_type": "code",
   "execution_count": 596,
   "metadata": {},
   "outputs": [],
   "source": [
    "n_components = 0.9\n",
    "verbose = 1"
   ]
  },
  {
   "cell_type": "code",
   "execution_count": 597,
   "metadata": {},
   "outputs": [],
   "source": [
    "pca_fit = PCA(n_components = n_components).fit(E)"
   ]
  },
  {
   "cell_type": "code",
   "execution_count": 598,
   "metadata": {},
   "outputs": [
    {
     "name": "stdout",
     "output_type": "stream",
     "text": [
      "223\n",
      "[0.0425863  0.02936171 0.02077154 0.01640652 0.01537853 0.01520989\n",
      " 0.01391615 0.01250578 0.01124508 0.01088646 0.01039432 0.00969045\n",
      " 0.00926796 0.00876875 0.00834858 0.00826789 0.00789331 0.00761299\n",
      " 0.00753696 0.00723431 0.00717772 0.00703408 0.00677471 0.00664112\n",
      " 0.00656772 0.00641005 0.00634135 0.00622863 0.00610965 0.00597832\n",
      " 0.00592486 0.00576861 0.00567186 0.00558054 0.00550333 0.00536556\n",
      " 0.00527132 0.00519128 0.0051543  0.00504555 0.00502225 0.00496014\n",
      " 0.00492316 0.00486792 0.00483825 0.00476409 0.00470758 0.00465494\n",
      " 0.00458735 0.00455864 0.00450269 0.0044208  0.00440022 0.00437838\n",
      " 0.00431066 0.00424952 0.00423462 0.00421048 0.00414769 0.00406015\n",
      " 0.00405572 0.00404131 0.00397421 0.00395434 0.00390802 0.00386373\n",
      " 0.00383442 0.00379924 0.00379052 0.00377549 0.00373654 0.00368607\n",
      " 0.00366969 0.00362445 0.00357398 0.00355799 0.00353417 0.00350639\n",
      " 0.00347852 0.00346484 0.0034269  0.00339724 0.00338981 0.00336939\n",
      " 0.00336473 0.00334317 0.00331275 0.00328065 0.00327175 0.00323132\n",
      " 0.003221   0.00321141 0.00318815 0.00316091 0.00315208 0.00313208\n",
      " 0.00310781 0.00309143 0.00306193 0.0030545  0.00303391 0.00299539\n",
      " 0.00299165 0.00298314 0.00295644 0.00293748 0.00292805 0.00290367\n",
      " 0.0028866  0.00287657 0.00286075 0.00283354 0.00281767 0.00280852\n",
      " 0.00279433 0.00278355 0.00276281 0.00274721 0.00273747 0.00273537\n",
      " 0.00269574 0.00267932 0.00267212 0.00265803 0.00265074 0.00263616\n",
      " 0.00262703 0.00260512 0.00259476 0.00259421 0.00258041 0.0025774\n",
      " 0.00255597 0.00254078 0.00253358 0.00253056 0.00250852 0.00250519\n",
      " 0.00249096 0.0024814  0.00247577 0.00246094 0.00245869 0.0024349\n",
      " 0.00242716 0.00240252 0.00239917 0.00237689 0.00236638 0.00235099\n",
      " 0.00234432 0.00232674 0.00231729 0.00231532 0.00229652 0.00229082\n",
      " 0.00227619 0.00226616 0.00225824 0.00224555 0.00223585 0.00222889\n",
      " 0.00222121 0.00221049 0.00219248 0.00218558 0.00217388 0.00216243\n",
      " 0.00215633 0.00214558 0.00213686 0.00212106 0.00210101 0.00209633\n",
      " 0.00209226 0.00208704 0.00207732 0.00206998 0.00206194 0.00203795\n",
      " 0.00203004 0.00201978 0.00201424 0.00200254 0.00199589 0.00198357\n",
      " 0.00197197 0.00196454 0.00194947 0.00194664 0.00193917 0.00192749\n",
      " 0.00192466 0.00191512 0.00190883 0.00189984 0.00189037 0.00188881\n",
      " 0.00187897 0.00186375 0.00186054 0.00184904 0.00181998 0.00181898\n",
      " 0.00180669 0.00180029 0.0017864  0.00178177 0.00177795 0.00176382\n",
      " 0.00175735 0.00174623 0.00174545 0.00173702 0.00172695 0.00171606\n",
      " 0.00171479 0.00169753 0.00169262 0.00168398 0.00167815 0.00166308\n",
      " 0.00165733]\n",
      "0.90159714\n"
     ]
    }
   ],
   "source": [
    "print(len(pca_fit.explained_variance_ratio_))\n",
    "print(pca_fit.explained_variance_ratio_)\n",
    "print(np.sum(pca_fit.explained_variance_ratio_))"
   ]
  },
  {
   "cell_type": "code",
   "execution_count": 599,
   "metadata": {},
   "outputs": [],
   "source": [
    "E_pca = pca_fit.transform(E)"
   ]
  },
  {
   "cell_type": "code",
   "execution_count": 600,
   "metadata": {},
   "outputs": [
    {
     "data": {
      "image/png": "[encoded data removed]",
      "text/plain": [
       "<Figure size 432x288 with 1 Axes>"
      ]
     },
     "metadata": {
      "needs_background": "light"
     },
     "output_type": "display_data"
    }
   ],
   "source": [
    "plt.scatter(E_pca[:, 0], E_pca[:, 1], s=1);"
   ]
  },
  {
   "cell_type": "code",
   "execution_count": 601,
   "metadata": {},
   "outputs": [
    {
     "name": "stdout",
     "output_type": "stream",
     "text": [
      "For n_clusters = 10 The average silhouette_score is : 0.012352858\n",
      "For n_clusters = 20 The average silhouette_score is : 0.0058038337\n",
      "For n_clusters = 30 The average silhouette_score is : -0.003994512\n",
      "For n_clusters = 40 The average silhouette_score is : -0.021709612\n",
      "For n_clusters = 50 The average silhouette_score is : -0.008725485\n",
      "For n_clusters = 60 The average silhouette_score is : -0.04823015\n",
      "For n_clusters = 70 The average silhouette_score is : -0.022156313\n",
      "For n_clusters = 80 The average silhouette_score is : -0.049250927\n",
      "For n_clusters = 90 The average silhouette_score is : -0.021058626\n",
      "For n_clusters = 100 The average silhouette_score is : -0.011208477\n",
      "For n_clusters = 110 The average silhouette_score is : -0.024578236\n",
      "For n_clusters = 120 The average silhouette_score is : -0.044699457\n",
      "For n_clusters = 130 The average silhouette_score is : -0.037258327\n",
      "For n_clusters = 140 The average silhouette_score is : -0.032816883\n",
      "For n_clusters = 150 The average silhouette_score is : -0.014798848\n",
      "For n_clusters = 160 The average silhouette_score is : -0.039625958\n",
      "For n_clusters = 170 The average silhouette_score is : -0.03513822\n",
      "For n_clusters = 180 The average silhouette_score is : -0.033273824\n",
      "For n_clusters = 190 The average silhouette_score is : -0.055636045\n",
      "For n_clusters = 200 The average silhouette_score is : -0.053232867\n",
      "CPU times: user 33min 28s, sys: 4min 45s, total: 38min 14s\n",
      "Wall time: 8min 1s\n"
     ]
    }
   ],
   "source": [
    "%%time\n",
    "\n",
    "pca_ssd, pca_silhouette = kmeans_search(E_pca, K)"
   ]
  },
  {
   "cell_type": "code",
   "execution_count": 602,
   "metadata": {},
   "outputs": [
    {
     "data": {
      "image/png": "[encoded data removed]",
      "text/plain": [
       "<Figure size 432x288 with 1 Axes>"
      ]
     },
     "metadata": {
      "needs_background": "light"
     },
     "output_type": "display_data"
    }
   ],
   "source": [
    "plot_kmeans(K,pca_ssd,\"elbow\")"
   ]
  },
  {
   "cell_type": "code",
   "execution_count": 603,
   "metadata": {},
   "outputs": [
    {
     "data": {
      "image/png": "[encoded data removed]",
      "text/plain": [
       "<Figure size 432x288 with 1 Axes>"
      ]
     },
     "metadata": {
      "needs_background": "light"
     },
     "output_type": "display_data"
    }
   ],
   "source": [
    "plot_kmeans(K,pca_silhouette,\"silhouette\")"
   ]
  },
  {
   "cell_type": "markdown",
   "metadata": {},
   "source": [
    "#### 2.5.4 UMAP + Kmeans"
   ]
  },
  {
   "cell_type": "code",
   "execution_count": 604,
   "metadata": {},
   "outputs": [
    {
     "name": "stdout",
     "output_type": "stream",
     "text": [
      "CPU times: user 29.3 s, sys: 450 ms, total: 29.7 s\n",
      "Wall time: 30.1 s\n"
     ]
    }
   ],
   "source": [
    "%%time\n",
    "\n",
    "metric = 'cosine'\n",
    "dm = cdist(E, E, metric)\n",
    "np.fill_diagonal(dm, 0)"
   ]
  },
  {
   "cell_type": "code",
   "execution_count": 605,
   "metadata": {},
   "outputs": [
    {
     "data": {
      "text/plain": [
       "True"
      ]
     },
     "execution_count": 605,
     "metadata": {},
     "output_type": "execute_result"
    }
   ],
   "source": [
    "is_valid_dm(dm)"
   ]
  },
  {
   "cell_type": "code",
   "execution_count": 606,
   "metadata": {},
   "outputs": [
    {
     "name": "stdout",
     "output_type": "stream",
     "text": [
      "0.9248557342994198 0.08732844843311895\n"
     ]
    }
   ],
   "source": [
    "mean, std = np.mean(dm), np.std(dm)\n",
    "print(mean, std)"
   ]
  },
  {
   "cell_type": "code",
   "execution_count": 607,
   "metadata": {},
   "outputs": [
    {
     "name": "stdout",
     "output_type": "stream",
     "text": [
      "Min distance: 0.4882134921338251\n",
      "N. neighbors: 9\n",
      "N. compontents: 2\n"
     ]
    }
   ],
   "source": [
    "min_dist=mean - 5*std\n",
    "n_neighbors = int(0.001*len(E))\n",
    "n_components=2\n",
    "print(f\"Min distance: {min_dist}\")\n",
    "print(f\"N. neighbors: {n_neighbors}\")\n",
    "print(f\"N. compontents: {n_components}\")"
   ]
  },
  {
   "cell_type": "code",
   "execution_count": 608,
   "metadata": {},
   "outputs": [
    {
     "name": "stdout",
     "output_type": "stream",
     "text": [
      "UMAP(dens_frac=0.0, dens_lambda=0.0, min_dist=0.4882134921338251, n_neighbors=9,\n",
      "     random_state=42, verbose=1)\n",
      "Construct fuzzy simplicial set\n",
      "Mon Jul 26 15:10:55 2021 Finding Nearest Neighbors\n",
      "Mon Jul 26 15:10:55 2021 Building RP forest with 10 trees\n",
      "Mon Jul 26 15:10:56 2021 NN descent for 13 iterations\n",
      "\t 1  /  13\n",
      "\t 2  /  13\n",
      "\t 3  /  13\n",
      "\t 4  /  13\n",
      "\t 5  /  13\n",
      "\t 6  /  13\n",
      "\t 7  /  13\n",
      "\tStopping threshold met -- exiting after 7 iterations\n",
      "Mon Jul 26 15:10:57 2021 Finished Nearest Neighbor Search\n",
      "Mon Jul 26 15:10:57 2021 Construct embedding\n",
      "\tcompleted  0  /  500 epochs\n",
      "\tcompleted  50  /  500 epochs\n",
      "\tcompleted  100  /  500 epochs\n",
      "\tcompleted  150  /  500 epochs\n",
      "\tcompleted  200  /  500 epochs\n",
      "\tcompleted  250  /  500 epochs\n",
      "\tcompleted  300  /  500 epochs\n",
      "\tcompleted  350  /  500 epochs\n",
      "\tcompleted  400  /  500 epochs\n",
      "\tcompleted  450  /  500 epochs\n",
      "Mon Jul 26 15:11:22 2021 Finished embedding\n",
      "CPU times: user 15 s, sys: 5.55 s, total: 20.5 s\n",
      "Wall time: 26.7 s\n"
     ]
    }
   ],
   "source": [
    "%%time\n",
    "\n",
    "E_umap = umap.UMAP(\n",
    "    n_neighbors=n_neighbors,\n",
    "    min_dist=min_dist,\n",
    "    n_components=n_components,\n",
    "    random_state=42,\n",
    "    verbose=verbose\n",
    ").fit_transform(E)"
   ]
  },
  {
   "cell_type": "code",
   "execution_count": 609,
   "metadata": {},
   "outputs": [
    {
     "data": {
      "image/png": "[encoded data removed]",
      "text/plain": [
       "<Figure size 432x288 with 1 Axes>"
      ]
     },
     "metadata": {
      "needs_background": "light"
     },
     "output_type": "display_data"
    }
   ],
   "source": [
    "plt.scatter(E_umap[:, 0], E_umap[:, 1], s=1);"
   ]
  },
  {
   "cell_type": "code",
   "execution_count": 610,
   "metadata": {},
   "outputs": [
    {
     "name": "stdout",
     "output_type": "stream",
     "text": [
      "For n_clusters = 10 The average silhouette_score is : 0.34773073\n",
      "For n_clusters = 20 The average silhouette_score is : 0.33901826\n",
      "For n_clusters = 30 The average silhouette_score is : 0.33505654\n",
      "For n_clusters = 40 The average silhouette_score is : 0.33489707\n",
      "For n_clusters = 50 The average silhouette_score is : 0.33510685\n",
      "For n_clusters = 60 The average silhouette_score is : 0.3385732\n",
      "For n_clusters = 70 The average silhouette_score is : 0.33857962\n",
      "For n_clusters = 80 The average silhouette_score is : 0.34351763\n",
      "For n_clusters = 90 The average silhouette_score is : 0.34230384\n",
      "For n_clusters = 100 The average silhouette_score is : 0.33888248\n",
      "For n_clusters = 110 The average silhouette_score is : 0.34269255\n",
      "For n_clusters = 120 The average silhouette_score is : 0.33791223\n",
      "For n_clusters = 130 The average silhouette_score is : 0.3402726\n",
      "For n_clusters = 140 The average silhouette_score is : 0.34286374\n",
      "For n_clusters = 150 The average silhouette_score is : 0.34359643\n",
      "For n_clusters = 160 The average silhouette_score is : 0.34447196\n",
      "For n_clusters = 170 The average silhouette_score is : 0.34345177\n",
      "For n_clusters = 180 The average silhouette_score is : 0.3410193\n",
      "For n_clusters = 190 The average silhouette_score is : 0.34333116\n",
      "For n_clusters = 200 The average silhouette_score is : 0.3439852\n",
      "CPU times: user 7min 15s, sys: 33.4 s, total: 7min 48s\n",
      "Wall time: 1min 17s\n"
     ]
    }
   ],
   "source": [
    "%%time\n",
    "\n",
    "umap_ssd, umap_silhouette = kmeans_search(E_umap, K)"
   ]
  },
  {
   "cell_type": "code",
   "execution_count": 611,
   "metadata": {},
   "outputs": [
    {
     "data": {
      "image/png": "[encoded data removed]",
      "text/plain": [
       "<Figure size 432x288 with 1 Axes>"
      ]
     },
     "metadata": {
      "needs_background": "light"
     },
     "output_type": "display_data"
    }
   ],
   "source": [
    "plot_kmeans(K,umap_ssd,\"elbow\")"
   ]
  },
  {
   "cell_type": "code",
   "execution_count": 612,
   "metadata": {},
   "outputs": [
    {
     "data": {
      "image/png": "[encoded data removed]",
      "text/plain": [
       "<Figure size 432x288 with 1 Axes>"
      ]
     },
     "metadata": {
      "needs_background": "light"
     },
     "output_type": "display_data"
    }
   ],
   "source": [
    "plot_kmeans(K,umap_silhouette,\"silhouette\")"
   ]
  },
  {
   "cell_type": "markdown",
   "metadata": {},
   "source": [
    "#### 2.5.5 Choose clustering model"
   ]
  },
  {
   "cell_type": "code",
   "execution_count": 706,
   "metadata": {},
   "outputs": [],
   "source": [
    "k = 100"
   ]
  },
  {
   "cell_type": "code",
   "execution_count": 707,
   "metadata": {},
   "outputs": [
    {
     "name": "stdout",
     "output_type": "stream",
     "text": [
      "CPU times: user 2min, sys: 16.5 s, total: 2min 16s\n",
      "Wall time: 30.3 s\n"
     ]
    }
   ],
   "source": [
    "%%time\n",
    "\n",
    "km_base = cluster.KMeans(n_clusters=k,max_iter=300).fit(E)\n",
    "labels = km_base.labels_\n",
    "centroids = km_base.cluster_centers_\n",
    "\n",
    "km_pca = cluster.KMeans(n_clusters=k,max_iter=300).fit(E_pca)\n",
    "labels_pca = km_pca.labels_\n",
    "\n",
    "km_umap = cluster.KMeans(n_clusters=k,max_iter=300).fit(E_umap)\n",
    "labels_umap=km_umap.labels_\n",
    "\n",
    "km_tsne = cluster.KMeans(n_clusters=k,max_iter=300).fit(E_tsne)\n",
    "labels_tsne = km_tsne.labels_"
   ]
  },
  {
   "cell_type": "markdown",
   "metadata": {},
   "source": [
    "Create an index that maps each word to a cluster."
   ]
  },
  {
   "cell_type": "code",
   "execution_count": 708,
   "metadata": {},
   "outputs": [],
   "source": [
    "word2cluster = {features[idx]: cl for idx, cl in enumerate(labels)}"
   ]
  },
  {
   "cell_type": "code",
   "execution_count": 709,
   "metadata": {},
   "outputs": [
    {
     "name": "stdout",
     "output_type": "stream",
     "text": [
      "[('_', 92), ('aa', 20), ('aaa', 96), ('aaargh', 20), ('aardvark', 18), ('aaron', 43), ('aban', 20), ('abatement', 23), ('abby', 96), ('abe', 20)]\n"
     ]
    }
   ],
   "source": [
    "print(take(10, word2cluster.items()))"
   ]
  },
  {
   "cell_type": "markdown",
   "metadata": {},
   "source": [
    "Now, conversely, create an index that maps each cluster to a word."
   ]
  },
  {
   "cell_type": "code",
   "execution_count": 710,
   "metadata": {},
   "outputs": [],
   "source": [
    "cluster2words = defaultdict(list)\n",
    "for key, value in word2cluster.items():\n",
    "    cluster2words[value].append(key)"
   ]
  },
  {
   "cell_type": "code",
   "execution_count": 711,
   "metadata": {},
   "outputs": [
    {
     "name": "stdout",
     "output_type": "stream",
     "text": [
      "169\n",
      "['accepting', 'accumulating', 'acting', 'adapting', 'addressing', 'adhering', 'adjusting', 'amassing', 'answering', 'applying', 'appreciating', 'articulating', 'assuming', 'assuring', 'avoiding', 'balancing', 'battling', 'becoming', 'bettering', 'blending', 'blocking', 'bringing', 'canceling', 'carrying', 'cashing', 'changing', 'charging', 'checking', 'choosing', 'clarifying', 'committing', 'completing', 'considering', 'consolidating', 'continuing', 'controlling', 'counting', 'covering', 'creating', 'customizing', 'cutting', 'dealing', 'debating', 'deciphering', 'delivering', 'destroying', 'determining', 'disconnecting', 'discovering', 'discussing', 'disguising', 'distancing', 'drawing', 'encouraging', 'enforcing', 'enhancing', 'ensuring', 'entering', 'exchanging', 'exposing', 'extending', 'fighting', 'figuring', 'finding', 'fixing', 'focusing', 'forgetting', 'forming', 'fulfilling', 'gaining', 'getting', 'giving', 'guarding', 'handling', 'holding', 'hosting', 'hurting', 'ignoring', 'imposing', 'improving', 'incorporating', 'indulging', 'inheriting', 'installing', 'isolating', 'joining', 'judging', 'keeping', 'learning', 'letting', 'locating', 'looking', 'loosing', 'losing', 'lowering', 'maintaining', 'making', 'managing', 'matching', 'milking']\n"
     ]
    }
   ],
   "source": [
    "print(len(cluster2words[0]))\n",
    "print(cluster2words[0][:100])"
   ]
  },
  {
   "cell_type": "code",
   "execution_count": 712,
   "metadata": {},
   "outputs": [
    {
     "name": "stdout",
     "output_type": "stream",
     "text": [
      "191\n",
      "['absorbed', 'accepted', 'accommodated', 'acquired', 'acted', 'adapted', 'addressed', 'adhered', 'administered', 'advertised', 'altered', 'answered', 'applied', 'appointed', 'approved', 'arranged', 'assisted', 'audited', 'available', 'backed', 'billed', 'boxed', 'built', 'carried', 'certified', 'challenged', 'changed', 'checked', 'cleared', 'closed', 'commenced', 'communicated', 'complemented', 'completed', 'conducted', 'considered', 'constructed', 'contained', 'contracted', 'controlled', 'converted', 'corrected', 'counted', 'covered', 'crafted', 'created', 'dated', 'dealt', 'deemed', 'delivered', 'designated', 'developed', 'directed', 'discontinued', 'discovered', 'displayed', 'distanced', 'distributed', 'documented', 'done', 'drawn', 'embraced', 'employed', 'enforced', 'entered', 'executed', 'extracted', 'fashioned', 'featured', 'filled', 'flagged', 'folded', 'forgotten', 'formed', 'forsaken', 'forwarded', 'found', 'frequented', 'handled', 'held', 'identified', 'inspected', 'installed', 'introduced', 'inundated', 'investigated', 'ironed', 'issued', 'judged', 'known', 'labeled', 'launched', 'listed', 'logged', 'maintained', 'manned', 'mastered', 'matched', 'minuted', 'named']\n"
     ]
    }
   ],
   "source": [
    "print(len(cluster2words[1]))\n",
    "print(cluster2words[1][:100])"
   ]
  },
  {
   "cell_type": "markdown",
   "metadata": {},
   "source": [
    "### 2.6 Initialize documents"
   ]
  },
  {
   "cell_type": "markdown",
   "metadata": {},
   "source": [
    "Transform all reviews into \"documents\", each with a set of weights per word in the corpus (\"nbow\"), the sum of these weights (\"weights_sum\"), the indeces of the words in the documents (\"idxs\") and the word vectors corresponding to each word (\"vecs\")."
   ]
  },
  {
   "cell_type": "code",
   "execution_count": 713,
   "metadata": {},
   "outputs": [
    {
     "data": {
      "text/plain": [
       "<1x9413 sparse matrix of type '<class 'numpy.float64'>'\n",
       "\twith 25 stored elements in Compressed Sparse Row format>"
      ]
     },
     "execution_count": 713,
     "metadata": {},
     "output_type": "execute_result"
    }
   ],
   "source": [
    "pos_nbow[0]"
   ]
  },
  {
   "cell_type": "code",
   "execution_count": 714,
   "metadata": {},
   "outputs": [
    {
     "name": "stdout",
     "output_type": "stream",
     "text": [
      "CPU times: user 395 ms, sys: 150 ms, total: 545 ms\n",
      "Wall time: 696 ms\n"
     ]
    }
   ],
   "source": [
    "%%time \n",
    "\n",
    "pos_docs, neg_docs = [], []\n",
    "\n",
    "for idx, doc in enumerate(pos_tok):\n",
    "    pos_docs.append(Document(doc, pos_nbow[idx], word2idx, E))\n",
    "    \n",
    "for idx, doc in enumerate(neg_tok):\n",
    "    neg_docs.append(Document(doc, neg_nbow[idx], word2idx, E))"
   ]
  },
  {
   "cell_type": "code",
   "execution_count": 715,
   "metadata": {},
   "outputs": [
    {
     "data": {
      "text/plain": [
       "array([[0., 0., 0., ..., 0., 0., 0.]])"
      ]
     },
     "execution_count": 715,
     "metadata": {},
     "output_type": "execute_result"
    }
   ],
   "source": [
    "pos_docs[0].nbow"
   ]
  },
  {
   "cell_type": "code",
   "execution_count": 716,
   "metadata": {},
   "outputs": [
    {
     "data": {
      "text/plain": [
       "0.9999999999999998"
      ]
     },
     "execution_count": 716,
     "metadata": {},
     "output_type": "execute_result"
    }
   ],
   "source": [
    "pos_docs[0].weights_sum"
   ]
  },
  {
   "cell_type": "code",
   "execution_count": 717,
   "metadata": {},
   "outputs": [
    {
     "data": {
      "text/plain": [
       "[259, 8071, 5512, 8330, 2582, 3607, 6043, 9118, 8484, 2349]"
      ]
     },
     "execution_count": 717,
     "metadata": {},
     "output_type": "execute_result"
    }
   ],
   "source": [
    "pos_docs[0].idxs[:10]"
   ]
  },
  {
   "cell_type": "code",
   "execution_count": 718,
   "metadata": {},
   "outputs": [
    {
     "data": {
      "text/plain": [
       "array([ 0.07373047,  0.00405884, -0.13574219,  0.02209473,  0.18066406,\n",
       "       -0.04663086,  0.22460938, -0.22949219, -0.04003906,  0.22558594],\n",
       "      dtype=float32)"
      ]
     },
     "execution_count": 718,
     "metadata": {},
     "output_type": "execute_result"
    }
   ],
   "source": [
    "pos_docs[0].vecs[:1][0][:10]"
   ]
  },
  {
   "cell_type": "markdown",
   "metadata": {},
   "source": [
    "### 2.7 Linear-Complexity Relaxed WMD (LC-RWMD)"
   ]
  },
  {
   "cell_type": "markdown",
   "metadata": {},
   "source": [
    "Run the [Linear-Complexity Relaxed WMD](https://arxiv.org/abs/1711.07227) to get the distances between all positive and all negative reviews."
   ]
  },
  {
   "cell_type": "code",
   "execution_count": 719,
   "metadata": {},
   "outputs": [],
   "source": [
    "lc_rwmd = LC_RWMD(pos_docs, neg_docs,pos_nbow,neg_nbow,E)"
   ]
  },
  {
   "cell_type": "code",
   "execution_count": 720,
   "metadata": {},
   "outputs": [
    {
     "name": "stdout",
     "output_type": "stream",
     "text": [
      "CPU times: user 3min 43s, sys: 53.5 s, total: 4min 36s\n",
      "Wall time: 1min 19s\n"
     ]
    }
   ],
   "source": [
    "%time lc_rwmd.get_D()\n",
    "#%time lc_rwmd.get_L(1)\n",
    "#%time lc_rwmd.get_rwmd()"
   ]
  },
  {
   "cell_type": "markdown",
   "metadata": {},
   "source": [
    "### 2.8 Gale-Shapeley Pairing"
   ]
  },
  {
   "cell_type": "markdown",
   "metadata": {},
   "source": [
    "Use the [Gale-Shapeley matching algorithm](https://en.wikipedia.org/wiki/Gale%E2%80%93Shapley_algorithm) to find the optimal pairs between positive and negative reviews. This iterates over all the reviews and finds the set of matches that pairs each review with its optimal match given that all positive reviews have to be matched with a negative review and vice versa. The output is a dictionary of key-value pairs, where each pair represents an optimal match."
   ]
  },
  {
   "cell_type": "code",
   "execution_count": 721,
   "metadata": {},
   "outputs": [
    {
     "name": "stdout",
     "output_type": "stream",
     "text": [
      "CPU times: user 6.99 s, sys: 438 ms, total: 7.43 s\n",
      "Wall time: 7.97 s\n"
     ]
    }
   ],
   "source": [
    "%%time\n",
    "\n",
    "matcher = Matcher(lc_rwmd.D)\n",
    "engaged = matcher.matchmaker()\n",
    "matcher.check()\n",
    "pairs = engaged"
   ]
  },
  {
   "cell_type": "markdown",
   "metadata": {},
   "source": [
    "Let's look at the output of Gale-Shapeley:"
   ]
  },
  {
   "cell_type": "code",
   "execution_count": 722,
   "metadata": {},
   "outputs": [
    {
     "data": {
      "text/plain": [
       "1000"
      ]
     },
     "execution_count": 722,
     "metadata": {},
     "output_type": "execute_result"
    }
   ],
   "source": [
    "len(pairs)"
   ]
  },
  {
   "cell_type": "code",
   "execution_count": 723,
   "metadata": {},
   "outputs": [
    {
     "data": {
      "text/plain": [
       "[(0, 185),\n",
       " (325, 483),\n",
       " (380, 740),\n",
       " (910, 278),\n",
       " (973, 693),\n",
       " (678, 842),\n",
       " (103, 341),\n",
       " (821, 277),\n",
       " (700, 836),\n",
       " (186, 757)]"
      ]
     },
     "execution_count": 723,
     "metadata": {},
     "output_type": "execute_result"
    }
   ],
   "source": [
    "take(10, pairs.items())"
   ]
  },
  {
   "cell_type": "code",
   "execution_count": 724,
   "metadata": {},
   "outputs": [],
   "source": [
    "example_pairs = [(' '.join(word for word in pos_docs[p[0]].words), \n",
    "                  ' '.join(word for word in neg_docs[p[1]].words))\n",
    "                 for p in take(10, pairs.items())]"
   ]
  },
  {
   "cell_type": "code",
   "execution_count": 725,
   "metadata": {},
   "outputs": [
    {
     "data": {
      "text/plain": [
       "'find road hotel entire experience great food fast delicious lamb plate outstanding portion huge person sufficed u cannot imagine large person would ambience nice server gracious even unexpectedly comped already happy family extra dessert atlanta make point returning'"
      ]
     },
     "execution_count": 725,
     "metadata": {},
     "output_type": "execute_result"
    }
   ],
   "source": [
    "example_pairs[9][0]"
   ]
  },
  {
   "cell_type": "code",
   "execution_count": 726,
   "metadata": {},
   "outputs": [
    {
     "data": {
      "text/plain": [
       "'terrible service company justice client neighborhood unless cleaning others mess leave debris everywhere blow street picking routinely cut neighbor yard every monday crew three guy happens working mine well saw blow debris street hope would pick instead picked larger piece packing drive asked clean mess left driver looked laughed immediately called company attempt reached owner previously unable leave message voice mail full informed crew mess left behind informed would send back clean mess mind called pm still clean would never hire crew ever crew overlook issue owner say lot see white truck advertising rio lawn care toting trailer crew stuffed cab beware end mess hand neighbor hired job right blowing debris street picking anyone justice maybe name changed rio lawn care group guy give damn'"
      ]
     },
     "execution_count": 726,
     "metadata": {},
     "output_type": "execute_result"
    }
   ],
   "source": [
    "example_pairs[9][1]"
   ]
  },
  {
   "cell_type": "code",
   "execution_count": 727,
   "metadata": {},
   "outputs": [
    {
     "data": {
      "text/plain": [
       "1000"
      ]
     },
     "execution_count": 727,
     "metadata": {},
     "output_type": "execute_result"
    }
   ],
   "source": [
    "len(pairs)"
   ]
  },
  {
   "cell_type": "markdown",
   "metadata": {},
   "source": [
    "### 2.9 Pairwise WMD with Baseline Kmeans"
   ]
  },
  {
   "cell_type": "markdown",
   "metadata": {},
   "source": [
    "Calculate the pairwise distances between the documents selected by the Galey-Shapeley algorithm _without_ returning the flow between individual words."
   ]
  },
  {
   "cell_type": "code",
   "execution_count": 514,
   "metadata": {},
   "outputs": [
    {
     "name": "stdout",
     "output_type": "stream",
     "text": [
      "Calculated distances between 0 documents.\n",
      "Calculated distances between 100 documents.\n",
      "Calculated distances between 200 documents.\n",
      "Calculated distances between 300 documents.\n",
      "Calculated distances between 400 documents.\n",
      "Calculated distances between 500 documents.\n",
      "Calculated distances between 600 documents.\n",
      "Calculated distances between 700 documents.\n",
      "Calculated distances between 800 documents.\n",
      "Calculated distances between 900 documents.\n",
      "CPU times: user 53.6 s, sys: 7.86 s, total: 1min 1s\n",
      "Wall time: 17.7 s\n"
     ]
    }
   ],
   "source": [
    "%%time \n",
    "\n",
    "wmd_pairs = WMDPairs(pos_docs,neg_docs,pairs,E,idx2word)\n",
    "wmd_pairs.get_distances(thread=False)"
   ]
  },
  {
   "cell_type": "markdown",
   "metadata": {},
   "source": [
    "The return value is a matrix of distances between the document pairs."
   ]
  },
  {
   "cell_type": "code",
   "execution_count": 515,
   "metadata": {},
   "outputs": [
    {
     "data": {
      "text/plain": [
       "array([[0., 0., 0., ..., 0., 0., 0.],\n",
       "       [0., 0., 0., ..., 0., 0., 0.],\n",
       "       [0., 0., 0., ..., 0., 0., 0.],\n",
       "       ...,\n",
       "       [0., 0., 0., ..., 0., 0., 0.],\n",
       "       [0., 0., 0., ..., 0., 0., 0.],\n",
       "       [0., 0., 0., ..., 0., 0., 0.]])"
      ]
     },
     "execution_count": 515,
     "metadata": {},
     "output_type": "execute_result"
    }
   ],
   "source": [
    "wmd_pairs.distances"
   ]
  },
  {
   "cell_type": "markdown",
   "metadata": {},
   "source": [
    "Calculate the pairwise distances between the documents selected by the Galey-Shapeley algorithm, this time also returning the flow between individual words."
   ]
  },
  {
   "cell_type": "code",
   "execution_count": 635,
   "metadata": {},
   "outputs": [
    {
     "data": {
      "text/plain": [
       "1000"
      ]
     },
     "execution_count": 635,
     "metadata": {},
     "output_type": "execute_result"
    }
   ],
   "source": [
    "len(pairs)"
   ]
  },
  {
   "cell_type": "code",
   "execution_count": 728,
   "metadata": {},
   "outputs": [
    {
     "name": "stdout",
     "output_type": "stream",
     "text": [
      "Calculated distances between approximately 0 documents.\n",
      "Calculated distances between approximately 100 documents.\n",
      "Calculated distances between approximately 200 documents.\n",
      "Calculated distances between approximately 300 documents.\n",
      "Calculated distances between approximately 400 documents.\n",
      "Calculated distances between approximately 500 documents.\n",
      "Calculated distances between approximately 600 documents.\n",
      "Calculated distances between approximately 700 documents.\n",
      "Calculated distances between approximately 800 documents.\n",
      "Calculated distances between approximately 900 documents.\n",
      "CPU times: user 57.4 s, sys: 9.81 s, total: 1min 7s\n",
      "Wall time: 21.3 s\n"
     ]
    }
   ],
   "source": [
    "%%time \n",
    "\n",
    "wmd_pairs_flow = WMDPairs(pos_docs,neg_docs,pairs,E,idx2word)\n",
    "wmd_pairs_flow.get_distances(return_flow = True, \n",
    "                             sum_clusters = True, \n",
    "                             w2c = word2cluster, \n",
    "                             c2w = cluster2words,\n",
    "                             thread = True)"
   ]
  },
  {
   "cell_type": "markdown",
   "metadata": {},
   "source": [
    "Now we have three return values.\n",
    "\n",
    "The first one is again a matrix of distances between the document pairs."
   ]
  },
  {
   "cell_type": "code",
   "execution_count": 729,
   "metadata": {},
   "outputs": [
    {
     "data": {
      "text/plain": [
       "array([[0., 0., 0., ..., 0., 0., 0.],\n",
       "       [0., 0., 0., ..., 0., 0., 0.],\n",
       "       [0., 0., 0., ..., 0., 0., 0.],\n",
       "       ...,\n",
       "       [0., 0., 0., ..., 0., 0., 0.],\n",
       "       [0., 0., 0., ..., 0., 0., 0.],\n",
       "       [0., 0., 0., ..., 0., 0., 0.]])"
      ]
     },
     "execution_count": 729,
     "metadata": {},
     "output_type": "execute_result"
    }
   ],
   "source": [
    "wmd_pairs_flow.distances"
   ]
  },
  {
   "cell_type": "markdown",
   "metadata": {},
   "source": [
    "The second return value is a list of tuples with all the words that contributed the most to the distance from the positive documents to the negative ones. These are _not_ sorted from high to low or vice versa."
   ]
  },
  {
   "cell_type": "code",
   "execution_count": 730,
   "metadata": {},
   "outputs": [
    {
     "data": {
      "text/plain": [
       "[('lightbulb', 0.05604),\n",
       " ('modification', 0.07395),\n",
       " ('idea', 1.17658),\n",
       " ('cancer', 0.24135),\n",
       " ('bumper', 0.17876),\n",
       " ('coffee_shop', 1.6339000000000001),\n",
       " ('typical', 0.41081999999999996),\n",
       " ('dahl', 0.1502),\n",
       " ('readily', 0.08349999999999999),\n",
       " ('kill', 0.23582999999999998)]"
      ]
     },
     "execution_count": 730,
     "metadata": {},
     "output_type": "execute_result"
    }
   ],
   "source": [
    "take(10, wmd_pairs_flow.wc_X1.items())"
   ]
  },
  {
   "cell_type": "markdown",
   "metadata": {},
   "source": [
    "The third return value is a list of tuples with all the words that contributed the most to the distance from the negative documents to the positive ones. Again, these are _not_ sorted from high to low or vice versa."
   ]
  },
  {
   "cell_type": "code",
   "execution_count": 731,
   "metadata": {},
   "outputs": [
    {
     "data": {
      "text/plain": [
       "[('pitch', 0.11775),\n",
       " ('disarray', 0.17053),\n",
       " ('idea', 1.4532200000000002),\n",
       " ('farming', 0.16962),\n",
       " ('disciplined', 0.05097),\n",
       " ('cancer', 0.0299),\n",
       " ('bumper', 0.05765),\n",
       " ('dazzling', 0.02367),\n",
       " ('coffee_shop', 0.40275000000000005),\n",
       " ('errant', 0.15117)]"
      ]
     },
     "execution_count": 731,
     "metadata": {},
     "output_type": "execute_result"
    }
   ],
   "source": [
    "take(10, wmd_pairs_flow.wc_X2.items())"
   ]
  },
  {
   "cell_type": "code",
   "execution_count": 732,
   "metadata": {},
   "outputs": [
    {
     "data": {
      "text/plain": [
       "[(92, 117.64261999999978),\n",
       " (20, 42.17017000000003),\n",
       " (96, 46.12493000000003),\n",
       " (18, 21.820099999999993),\n",
       " (43, 36.511479999999985),\n",
       " (23, 17.90931999999999),\n",
       " (98, 48.16253000000004),\n",
       " (6, 37.966960000000036),\n",
       " (51, 6.685210000000001),\n",
       " (33, 27.660010000000007)]"
      ]
     },
     "execution_count": 732,
     "metadata": {},
     "output_type": "execute_result"
    }
   ],
   "source": [
    "take(10, wmd_pairs_flow.cc_X1.items())"
   ]
  },
  {
   "cell_type": "code",
   "execution_count": 733,
   "metadata": {},
   "outputs": [
    {
     "data": {
      "text/plain": [
       "[(92, 119.24228000000019),\n",
       " (20, 28.172730000000012),\n",
       " (96, 35.50952000000002),\n",
       " (18, 13.496470000000008),\n",
       " (43, 16.659290000000006),\n",
       " (23, 29.616199999999996),\n",
       " (98, 73.58049999999997),\n",
       " (6, 39.483109999999975),\n",
       " (51, 36.855869999999996),\n",
       " (33, 42.62919000000001)]"
      ]
     },
     "execution_count": 733,
     "metadata": {},
     "output_type": "execute_result"
    }
   ],
   "source": [
    "take(10, wmd_pairs_flow.cc_X2.items())"
   ]
  },
  {
   "cell_type": "code",
   "execution_count": 734,
   "metadata": {},
   "outputs": [
    {
     "data": {
      "text/plain": [
       "{48: 196.5206099999999,\n",
       " 5: 158.13011000000023,\n",
       " 80: 147.4804499999998,\n",
       " 73: 128.11017000000004,\n",
       " 92: 117.64261999999978,\n",
       " 50: 117.40084000000002,\n",
       " 94: 86.50199999999991,\n",
       " 76: 73.63160999999998,\n",
       " 36: 72.76903999999998,\n",
       " 64: 64.13877000000001}"
      ]
     },
     "execution_count": 734,
     "metadata": {},
     "output_type": "execute_result"
    }
   ],
   "source": [
    "{k: v for k, v in sorted(wmd_pairs_flow.cc_X1.items(), key=lambda item: item[1], reverse=True)[:10]}"
   ]
  },
  {
   "cell_type": "code",
   "execution_count": 735,
   "metadata": {},
   "outputs": [],
   "source": [
    "wmd_pairs_flow.get_differences()"
   ]
  },
  {
   "cell_type": "markdown",
   "metadata": {},
   "source": [
    "### 3.1 Intepreting pairwise WMD flows"
   ]
  },
  {
   "cell_type": "markdown",
   "metadata": {},
   "source": [
    "Now, let's sort the distances of the words that created the most distance from the positive to the negative reviews."
   ]
  },
  {
   "cell_type": "code",
   "execution_count": 736,
   "metadata": {},
   "outputs": [
    {
     "data": {
      "text/plain": [
       "{'great': 27.2323,\n",
       " 'amazing': 22.91165,\n",
       " 'delicious': 18.128419999999995,\n",
       " 'food': 15.10841999999999,\n",
       " 'love': 13.119259999999997,\n",
       " 'best': 11.516340000000001,\n",
       " 'atmosphere': 11.22939,\n",
       " 'excellent': 9.5167,\n",
       " 'awesome': 8.749070000000003,\n",
       " 'friendly': 8.445900000000004,\n",
       " 'good': 8.388950000000005,\n",
       " 'nice': 8.282919999999999,\n",
       " 'place': 7.70643999999999,\n",
       " 'spot': 7.701960000000004,\n",
       " 'favorite': 7.521600000000001,\n",
       " 'atlanta': 7.342120000000001,\n",
       " 'thank': 7.227059999999998,\n",
       " 'portland': 6.985549999999998,\n",
       " 'fresh': 6.663120000000001,\n",
       " 'always': 6.6478399999999995,\n",
       " 'loved': 6.496219999999997,\n",
       " 'perfect': 6.279870000000001,\n",
       " 'fantastic': 5.87134,\n",
       " 'definitely': 5.680690000000002,\n",
       " 'sweet': 5.6327500000000015,\n",
       " 'tasty': 5.50172,\n",
       " 'breakfast': 5.432550000000001,\n",
       " 'service': 5.41752,\n",
       " 'selection': 5.391830000000001,\n",
       " 'super': 5.376689999999999}"
      ]
     },
     "execution_count": 736,
     "metadata": {},
     "output_type": "execute_result"
    }
   ],
   "source": [
    "{k: v for k, v in sorted(wmd_pairs_flow.wc_X1_diff.items(), key=lambda item: item[1], reverse=True)[:30]}"
   ]
  },
  {
   "cell_type": "markdown",
   "metadata": {},
   "source": [
    "Next, let's see what added most distance when moving from the negative to the positive reviews."
   ]
  },
  {
   "cell_type": "code",
   "execution_count": 737,
   "metadata": {},
   "outputs": [
    {
     "data": {
      "text/plain": [
       "{'rude': 10.685100000000007,\n",
       " 'order': 9.7056,\n",
       " 'told': 9.132390000000001,\n",
       " 'never': 7.815060000000001,\n",
       " 'worst': 7.629339999999997,\n",
       " 'minute': 7.143380000000004,\n",
       " 'asked': 6.823400000000001,\n",
       " 'said': 6.378379999999998,\n",
       " 'customer': 6.299439999999999,\n",
       " 'min': 6.29672,\n",
       " 'hour': 6.264730000000002,\n",
       " 'horrible': 6.2373699999999985,\n",
       " 'manager': 5.726669999999997,\n",
       " 'pm': 5.67029,\n",
       " 'get': 5.63423,\n",
       " 'u': 5.282059999999995,\n",
       " 'called': 5.228719999999999,\n",
       " 'phone': 5.213199999999997,\n",
       " 'call': 4.962499999999999,\n",
       " 'employee': 4.881930000000002,\n",
       " 'bad': 4.704530000000001,\n",
       " 'terrible': 4.69561,\n",
       " 'closed': 4.63775,\n",
       " 'car': 4.521030000000001,\n",
       " 'money': 4.4363100000000015,\n",
       " 'waited': 4.35998,\n",
       " 'people': 4.265060000000002,\n",
       " 'business': 4.13073,\n",
       " 'would': 3.968199999999996,\n",
       " 'refund': 3.9666299999999985}"
      ]
     },
     "execution_count": 737,
     "metadata": {},
     "output_type": "execute_result"
    }
   ],
   "source": [
    "{k: v for k, v in sorted(wmd_pairs_flow.wc_X2_diff.items(), key=lambda item: item[1], reverse=True)[:30]}"
   ]
  },
  {
   "cell_type": "markdown",
   "metadata": {},
   "source": [
    "Finally, let's look at the distances between the two sets by clustering similar words, in order to get a better sense of what kind of \"topics\" that separate them. Each cluster has a weight that matches the sum of the words belonging to that cluster. We choose *n* top clusters to inspect. To make the clusters interpretable, we also represent each of them by *m* keywords, selected based on the cost they individually add between the two sets."
   ]
  },
  {
   "cell_type": "code",
   "execution_count": 785,
   "metadata": {},
   "outputs": [],
   "source": [
    "n_clusters = 10\n",
    "n_words = 10"
   ]
  },
  {
   "cell_type": "code",
   "execution_count": 786,
   "metadata": {},
   "outputs": [],
   "source": [
    "c1 = output_clusters(wc=wmd_pairs_flow.wc_X1_diff.items(), \n",
    "                     cc=wmd_pairs_flow.cc_X1.items(), \n",
    "                     c2w=cluster2words, \n",
    "                     n_clusters=n_clusters, \n",
    "                     n_words=n_words)\n",
    "c2 = output_clusters(wc=wmd_pairs_flow.wc_X2_diff.items(), \n",
    "                     cc=wmd_pairs_flow.cc_X2.items(), \n",
    "                     c2w=cluster2words, \n",
    "                     n_clusters=n_clusters, \n",
    "                     n_words=n_words)"
   ]
  },
  {
   "cell_type": "markdown",
   "metadata": {},
   "source": [
    "Positive to negative clusters."
   ]
  },
  {
   "cell_type": "code",
   "execution_count": 787,
   "metadata": {},
   "outputs": [
    {
     "data": {
      "text/html": [
       "<div>\n",
       "<style scoped>\n",
       "    .dataframe tbody tr th:only-of-type {\n",
       "        vertical-align: middle;\n",
       "    }\n",
       "\n",
       "    .dataframe tbody tr th {\n",
       "        vertical-align: top;\n",
       "    }\n",
       "\n",
       "    .dataframe thead th {\n",
       "        text-align: right;\n",
       "    }\n",
       "</style>\n",
       "<table border=\"1\" class=\"dataframe\">\n",
       "  <thead>\n",
       "    <tr style=\"text-align: right;\">\n",
       "      <th></th>\n",
       "      <th>48</th>\n",
       "      <th>5</th>\n",
       "      <th>80</th>\n",
       "      <th>73</th>\n",
       "      <th>92</th>\n",
       "      <th>50</th>\n",
       "      <th>94</th>\n",
       "      <th>76</th>\n",
       "      <th>36</th>\n",
       "      <th>64</th>\n",
       "    </tr>\n",
       "  </thead>\n",
       "  <tbody>\n",
       "    <tr>\n",
       "      <th>0</th>\n",
       "      <td>great (27.23)</td>\n",
       "      <td>always (6.65)</td>\n",
       "      <td>place (7.71)</td>\n",
       "      <td>delicious (18.13)</td>\n",
       "      <td>variety (2.7)</td>\n",
       "      <td>pizza (3.52)</td>\n",
       "      <td>wait (3.87)</td>\n",
       "      <td>love (13.12)</td>\n",
       "      <td>service (5.42)</td>\n",
       "      <td>donut (3.66)</td>\n",
       "    </tr>\n",
       "    <tr>\n",
       "      <th>1</th>\n",
       "      <td>amazing (22.91)</td>\n",
       "      <td>definitely (5.68)</td>\n",
       "      <td>spot (7.7)</td>\n",
       "      <td>food (15.11)</td>\n",
       "      <td>different (2.57)</td>\n",
       "      <td>dish (3.5)</td>\n",
       "      <td>disappoint (2.13)</td>\n",
       "      <td>thank (7.23)</td>\n",
       "      <td>staff (4.43)</td>\n",
       "      <td>bowl (3.21)</td>\n",
       "    </tr>\n",
       "    <tr>\n",
       "      <th>2</th>\n",
       "      <td>best (11.52)</td>\n",
       "      <td>everything (5.37)</td>\n",
       "      <td>team (3.16)</td>\n",
       "      <td>tasty (5.5)</td>\n",
       "      <td>new (2.41)</td>\n",
       "      <td>chicken (3.01)</td>\n",
       "      <td>die (1.93)</td>\n",
       "      <td>loved (6.5)</td>\n",
       "      <td>environment (3.86)</td>\n",
       "      <td>biscuit (3.17)</td>\n",
       "    </tr>\n",
       "    <tr>\n",
       "      <th>3</th>\n",
       "      <td>excellent (9.52)</td>\n",
       "      <td>especially (2.59)</td>\n",
       "      <td>weekend (1.47)</td>\n",
       "      <td>menu (5.04)</td>\n",
       "      <td>also (2.21)</td>\n",
       "      <td>burger (2.81)</td>\n",
       "      <td>jam (1.29)</td>\n",
       "      <td>welcoming (4.18)</td>\n",
       "      <td>experience (3.11)</td>\n",
       "      <td>egg (1.68)</td>\n",
       "    </tr>\n",
       "    <tr>\n",
       "      <th>4</th>\n",
       "      <td>awesome (8.75)</td>\n",
       "      <td>really (2.4)</td>\n",
       "      <td>beat (1.27)</td>\n",
       "      <td>vegan (4.23)</td>\n",
       "      <td>hand (1.86)</td>\n",
       "      <td>chicken_sandwich (2.78)</td>\n",
       "      <td>chop (1.07)</td>\n",
       "      <td>enjoyed (3.97)</td>\n",
       "      <td>work (1.55)</td>\n",
       "      <td>baked (1.52)</td>\n",
       "    </tr>\n",
       "    <tr>\n",
       "      <th>5</th>\n",
       "      <td>good (8.39)</td>\n",
       "      <td>little (2.26)</td>\n",
       "      <td>anniversary (1.08)</td>\n",
       "      <td>yummy (4.22)</td>\n",
       "      <td>many (1.7)</td>\n",
       "      <td>sandwich (2.64)</td>\n",
       "      <td>sit (0.97)</td>\n",
       "      <td>glad (2.64)</td>\n",
       "      <td>inspection (0.8)</td>\n",
       "      <td>cake (1.35)</td>\n",
       "    </tr>\n",
       "    <tr>\n",
       "      <th>6</th>\n",
       "      <td>nice (8.28)</td>\n",
       "      <td>everyone (1.78)</td>\n",
       "      <td>pairing (1.02)</td>\n",
       "      <td>meal (3.6)</td>\n",
       "      <td>seasonal (1.63)</td>\n",
       "      <td>fried_chicken (2.49)</td>\n",
       "      <td>poke (0.88)</td>\n",
       "      <td>happy (2.29)</td>\n",
       "      <td>partner (0.74)</td>\n",
       "      <td>collard_green (1.26)</td>\n",
       "    </tr>\n",
       "    <tr>\n",
       "      <th>7</th>\n",
       "      <td>favorite (7.52)</td>\n",
       "      <td>lot (1.63)</td>\n",
       "      <td>winner (0.99)</td>\n",
       "      <td>chef (3.39)</td>\n",
       "      <td>portion (1.61)</td>\n",
       "      <td>bread (2.45)</td>\n",
       "      <td>miss (0.88)</td>\n",
       "      <td>enjoy (2.05)</td>\n",
       "      <td>dean (0.64)</td>\n",
       "      <td>eaten (0.99)</td>\n",
       "    </tr>\n",
       "    <tr>\n",
       "      <th>8</th>\n",
       "      <td>perfect (6.28)</td>\n",
       "      <td>feel (1.48)</td>\n",
       "      <td>fastest (0.98)</td>\n",
       "      <td>outdoor_seating (3.08)</td>\n",
       "      <td>beyond (1.45)</td>\n",
       "      <td>lamb (2.37)</td>\n",
       "      <td>flare (0.78)</td>\n",
       "      <td>excited (1.52)</td>\n",
       "      <td>expert (0.6)</td>\n",
       "      <td>pie (0.98)</td>\n",
       "    </tr>\n",
       "    <tr>\n",
       "      <th>9</th>\n",
       "      <td>fantastic (5.87)</td>\n",
       "      <td>much (1.46)</td>\n",
       "      <td>event (0.98)</td>\n",
       "      <td>restaurant (2.58)</td>\n",
       "      <td>future (1.25)</td>\n",
       "      <td>dessert (2.33)</td>\n",
       "      <td>chase (0.72)</td>\n",
       "      <td>thanks (1.31)</td>\n",
       "      <td>master (0.45)</td>\n",
       "      <td>yum (0.98)</td>\n",
       "    </tr>\n",
       "  </tbody>\n",
       "</table>\n",
       "</div>"
      ],
      "text/plain": [
       "                 48                 5                   80  \\\n",
       "0     great (27.23)      always (6.65)        place (7.71)   \n",
       "1   amazing (22.91)  definitely (5.68)          spot (7.7)   \n",
       "2      best (11.52)  everything (5.37)         team (3.16)   \n",
       "3  excellent (9.52)  especially (2.59)      weekend (1.47)   \n",
       "4    awesome (8.75)       really (2.4)         beat (1.27)   \n",
       "5       good (8.39)      little (2.26)  anniversary (1.08)   \n",
       "6       nice (8.28)    everyone (1.78)      pairing (1.02)   \n",
       "7   favorite (7.52)         lot (1.63)       winner (0.99)   \n",
       "8    perfect (6.28)        feel (1.48)      fastest (0.98)   \n",
       "9  fantastic (5.87)        much (1.46)        event (0.98)   \n",
       "\n",
       "                       73                92                       50  \\\n",
       "0       delicious (18.13)     variety (2.7)             pizza (3.52)   \n",
       "1            food (15.11)  different (2.57)               dish (3.5)   \n",
       "2             tasty (5.5)        new (2.41)           chicken (3.01)   \n",
       "3             menu (5.04)       also (2.21)            burger (2.81)   \n",
       "4            vegan (4.23)       hand (1.86)  chicken_sandwich (2.78)   \n",
       "5            yummy (4.22)        many (1.7)          sandwich (2.64)   \n",
       "6              meal (3.6)   seasonal (1.63)     fried_chicken (2.49)   \n",
       "7             chef (3.39)    portion (1.61)             bread (2.45)   \n",
       "8  outdoor_seating (3.08)     beyond (1.45)              lamb (2.37)   \n",
       "9       restaurant (2.58)     future (1.25)           dessert (2.33)   \n",
       "\n",
       "                  94                76                  36  \\\n",
       "0        wait (3.87)      love (13.12)      service (5.42)   \n",
       "1  disappoint (2.13)      thank (7.23)        staff (4.43)   \n",
       "2         die (1.93)       loved (6.5)  environment (3.86)   \n",
       "3         jam (1.29)  welcoming (4.18)   experience (3.11)   \n",
       "4        chop (1.07)    enjoyed (3.97)         work (1.55)   \n",
       "5         sit (0.97)       glad (2.64)    inspection (0.8)   \n",
       "6        poke (0.88)      happy (2.29)      partner (0.74)   \n",
       "7        miss (0.88)      enjoy (2.05)         dean (0.64)   \n",
       "8       flare (0.78)    excited (1.52)        expert (0.6)   \n",
       "9       chase (0.72)     thanks (1.31)       master (0.45)   \n",
       "\n",
       "                     64  \n",
       "0          donut (3.66)  \n",
       "1           bowl (3.21)  \n",
       "2        biscuit (3.17)  \n",
       "3            egg (1.68)  \n",
       "4          baked (1.52)  \n",
       "5           cake (1.35)  \n",
       "6  collard_green (1.26)  \n",
       "7          eaten (0.99)  \n",
       "8            pie (0.98)  \n",
       "9            yum (0.98)  "
      ]
     },
     "execution_count": 787,
     "metadata": {},
     "output_type": "execute_result"
    }
   ],
   "source": [
    "c1"
   ]
  },
  {
   "cell_type": "markdown",
   "metadata": {},
   "source": [
    "Negative to positive clusters."
   ]
  },
  {
   "cell_type": "code",
   "execution_count": 788,
   "metadata": {},
   "outputs": [
    {
     "data": {
      "text/html": [
       "<div>\n",
       "<style scoped>\n",
       "    .dataframe tbody tr th:only-of-type {\n",
       "        vertical-align: middle;\n",
       "    }\n",
       "\n",
       "    .dataframe tbody tr th {\n",
       "        vertical-align: top;\n",
       "    }\n",
       "\n",
       "    .dataframe thead th {\n",
       "        text-align: right;\n",
       "    }\n",
       "</style>\n",
       "<table border=\"1\" class=\"dataframe\">\n",
       "  <thead>\n",
       "    <tr style=\"text-align: right;\">\n",
       "      <th></th>\n",
       "      <th>5</th>\n",
       "      <th>80</th>\n",
       "      <th>92</th>\n",
       "      <th>94</th>\n",
       "      <th>52</th>\n",
       "      <th>36</th>\n",
       "      <th>26</th>\n",
       "      <th>98</th>\n",
       "      <th>8</th>\n",
       "      <th>60</th>\n",
       "    </tr>\n",
       "  </thead>\n",
       "  <tbody>\n",
       "    <tr>\n",
       "      <th>0</th>\n",
       "      <td>never (7.82)</td>\n",
       "      <td>one (3.75)</td>\n",
       "      <td>without (2.13)</td>\n",
       "      <td>get (5.63)</td>\n",
       "      <td>asked (6.82)</td>\n",
       "      <td>manager (5.73)</td>\n",
       "      <td>left (3.37)</td>\n",
       "      <td>give (3.45)</td>\n",
       "      <td>answer (2.48)</td>\n",
       "      <td>appointment (2.59)</td>\n",
       "    </tr>\n",
       "    <tr>\n",
       "      <th>1</th>\n",
       "      <td>still (3.69)</td>\n",
       "      <td>close (2.35)</td>\n",
       "      <td>instead (2.0)</td>\n",
       "      <td>suck (3.01)</td>\n",
       "      <td>waited (4.36)</td>\n",
       "      <td>management (2.86)</td>\n",
       "      <td>sat (2.76)</td>\n",
       "      <td>take (2.46)</td>\n",
       "      <td>response (2.41)</td>\n",
       "      <td>review (2.57)</td>\n",
       "    </tr>\n",
       "    <tr>\n",
       "      <th>2</th>\n",
       "      <td>even (3.25)</td>\n",
       "      <td>line (2.32)</td>\n",
       "      <td>number (1.74)</td>\n",
       "      <td>drive (2.75)</td>\n",
       "      <td>would (3.97)</td>\n",
       "      <td>associate (1.27)</td>\n",
       "      <td>walked (2.18)</td>\n",
       "      <td>cancel (1.91)</td>\n",
       "      <td>item (2.16)</td>\n",
       "      <td>charge (2.48)</td>\n",
       "    </tr>\n",
       "    <tr>\n",
       "      <th>3</th>\n",
       "      <td>nothing (3.2)</td>\n",
       "      <td>another (2.13)</td>\n",
       "      <td>least (1.62)</td>\n",
       "      <td>tip (2.66)</td>\n",
       "      <td>ordered (3.39)</td>\n",
       "      <td>corporate (1.17)</td>\n",
       "      <td>threw (2.17)</td>\n",
       "      <td>use (1.86)</td>\n",
       "      <td>picture (2.09)</td>\n",
       "      <td>sign (2.41)</td>\n",
       "    </tr>\n",
       "    <tr>\n",
       "      <th>4</th>\n",
       "      <td>someone (2.91)</td>\n",
       "      <td>two (2.06)</td>\n",
       "      <td>elsewhere (1.59)</td>\n",
       "      <td>move (2.03)</td>\n",
       "      <td>please (3.38)</td>\n",
       "      <td>training (1.04)</td>\n",
       "      <td>went (1.89)</td>\n",
       "      <td>help (1.78)</td>\n",
       "      <td>piece (2.06)</td>\n",
       "      <td>delivery (2.09)</td>\n",
       "    </tr>\n",
       "    <tr>\n",
       "      <th>5</th>\n",
       "      <td>way (2.53)</td>\n",
       "      <td>run (2.04)</td>\n",
       "      <td>apparently (1.37)</td>\n",
       "      <td>lie (1.35)</td>\n",
       "      <td>waiting (2.82)</td>\n",
       "      <td>system (1.03)</td>\n",
       "      <td>sucked (1.79)</td>\n",
       "      <td>avoid (1.73)</td>\n",
       "      <td>account (1.77)</td>\n",
       "      <td>bill (1.97)</td>\n",
       "    </tr>\n",
       "    <tr>\n",
       "      <th>6</th>\n",
       "      <td>like (2.11)</td>\n",
       "      <td>front (1.78)</td>\n",
       "      <td>however (1.31)</td>\n",
       "      <td>put (1.26)</td>\n",
       "      <td>asking (2.58)</td>\n",
       "      <td>member (1.02)</td>\n",
       "      <td>took (1.78)</td>\n",
       "      <td>stay (1.27)</td>\n",
       "      <td>reason (1.32)</td>\n",
       "      <td>claim (1.86)</td>\n",
       "    </tr>\n",
       "    <tr>\n",
       "      <th>7</th>\n",
       "      <td>anything (2.07)</td>\n",
       "      <td>half (1.62)</td>\n",
       "      <td>complete (1.16)</td>\n",
       "      <td>pick (1.02)</td>\n",
       "      <td>want (2.46)</td>\n",
       "      <td>tech (1.01)</td>\n",
       "      <td>drove (1.74)</td>\n",
       "      <td>save (1.21)</td>\n",
       "      <td>act (1.21)</td>\n",
       "      <td>reservation (1.39)</td>\n",
       "    </tr>\n",
       "    <tr>\n",
       "      <th>8</th>\n",
       "      <td>going (1.91)</td>\n",
       "      <td>past (1.33)</td>\n",
       "      <td>already (1.15)</td>\n",
       "      <td>fly (0.98)</td>\n",
       "      <td>wanted (2.31)</td>\n",
       "      <td>support (1.0)</td>\n",
       "      <td>gone (1.45)</td>\n",
       "      <td>change (1.03)</td>\n",
       "      <td>issue (1.2)</td>\n",
       "      <td>card (1.35)</td>\n",
       "    </tr>\n",
       "    <tr>\n",
       "      <th>9</th>\n",
       "      <td>mean (1.79)</td>\n",
       "      <td>time (1.17)</td>\n",
       "      <td>either (1.0)</td>\n",
       "      <td>dump (0.97)</td>\n",
       "      <td>refused (2.3)</td>\n",
       "      <td>maintenance (0.95)</td>\n",
       "      <td>saw (1.34)</td>\n",
       "      <td>send (0.95)</td>\n",
       "      <td>word (1.19)</td>\n",
       "      <td>open (1.32)</td>\n",
       "    </tr>\n",
       "  </tbody>\n",
       "</table>\n",
       "</div>"
      ],
      "text/plain": [
       "                5               80                 92            94  \\\n",
       "0     never (7.82)      one (3.75)     without (2.13)    get (5.63)   \n",
       "1     still (3.69)    close (2.35)      instead (2.0)   suck (3.01)   \n",
       "2      even (3.25)     line (2.32)      number (1.74)  drive (2.75)   \n",
       "3    nothing (3.2)  another (2.13)       least (1.62)    tip (2.66)   \n",
       "4   someone (2.91)      two (2.06)   elsewhere (1.59)   move (2.03)   \n",
       "5       way (2.53)      run (2.04)  apparently (1.37)    lie (1.35)   \n",
       "6      like (2.11)    front (1.78)     however (1.31)    put (1.26)   \n",
       "7  anything (2.07)     half (1.62)    complete (1.16)   pick (1.02)   \n",
       "8     going (1.91)     past (1.33)     already (1.15)    fly (0.98)   \n",
       "9      mean (1.79)     time (1.17)       either (1.0)   dump (0.97)   \n",
       "\n",
       "               52                  36             26             98  \\\n",
       "0    asked (6.82)      manager (5.73)    left (3.37)    give (3.45)   \n",
       "1   waited (4.36)   management (2.86)     sat (2.76)    take (2.46)   \n",
       "2    would (3.97)    associate (1.27)  walked (2.18)  cancel (1.91)   \n",
       "3  ordered (3.39)    corporate (1.17)   threw (2.17)     use (1.86)   \n",
       "4   please (3.38)     training (1.04)    went (1.89)    help (1.78)   \n",
       "5  waiting (2.82)       system (1.03)  sucked (1.79)   avoid (1.73)   \n",
       "6   asking (2.58)       member (1.02)    took (1.78)    stay (1.27)   \n",
       "7     want (2.46)         tech (1.01)   drove (1.74)    save (1.21)   \n",
       "8   wanted (2.31)       support (1.0)    gone (1.45)  change (1.03)   \n",
       "9   refused (2.3)  maintenance (0.95)     saw (1.34)    send (0.95)   \n",
       "\n",
       "                8                   60  \n",
       "0    answer (2.48)  appointment (2.59)  \n",
       "1  response (2.41)       review (2.57)  \n",
       "2      item (2.16)       charge (2.48)  \n",
       "3   picture (2.09)         sign (2.41)  \n",
       "4     piece (2.06)     delivery (2.09)  \n",
       "5   account (1.77)         bill (1.97)  \n",
       "6    reason (1.32)        claim (1.86)  \n",
       "7       act (1.21)  reservation (1.39)  \n",
       "8      issue (1.2)         card (1.35)  \n",
       "9      word (1.19)         open (1.32)  "
      ]
     },
     "execution_count": 788,
     "metadata": {},
     "output_type": "execute_result"
    }
   ],
   "source": [
    "c2 "
   ]
  },
  {
   "cell_type": "code",
   "execution_count": 789,
   "metadata": {},
   "outputs": [],
   "source": [
    "x1_costs = pd.DataFrame(wmd_pairs_flow.X1_feat)\n",
    "x1_costs.index = list(pairs.keys())\n",
    "x1_costs = x1_costs.sort_index()\n",
    "x1_costs = x1_costs[c1.columns]\n",
    "x1_costs['city'] = sample[:1000].city"
   ]
  },
  {
   "cell_type": "code",
   "execution_count": 791,
   "metadata": {},
   "outputs": [
    {
     "data": {
      "text/plain": [
       "Counter({'Atlanta': 500, 'Portland': 500})"
      ]
     },
     "execution_count": 791,
     "metadata": {},
     "output_type": "execute_result"
    }
   ],
   "source": [
    "Counter(x1_costs.city)"
   ]
  },
  {
   "cell_type": "code",
   "execution_count": 792,
   "metadata": {},
   "outputs": [
    {
     "data": {
      "text/html": [
       "<div>\n",
       "<style scoped>\n",
       "    .dataframe tbody tr th:only-of-type {\n",
       "        vertical-align: middle;\n",
       "    }\n",
       "\n",
       "    .dataframe tbody tr th {\n",
       "        vertical-align: top;\n",
       "    }\n",
       "\n",
       "    .dataframe thead th {\n",
       "        text-align: right;\n",
       "    }\n",
       "</style>\n",
       "<table border=\"1\" class=\"dataframe\">\n",
       "  <thead>\n",
       "    <tr style=\"text-align: right;\">\n",
       "      <th></th>\n",
       "      <th>city</th>\n",
       "      <th>cluster</th>\n",
       "      <th>value</th>\n",
       "    </tr>\n",
       "  </thead>\n",
       "  <tbody>\n",
       "    <tr>\n",
       "      <th>0</th>\n",
       "      <td>Atlanta</td>\n",
       "      <td>48</td>\n",
       "      <td>0.14181</td>\n",
       "    </tr>\n",
       "    <tr>\n",
       "      <th>1</th>\n",
       "      <td>Atlanta</td>\n",
       "      <td>48</td>\n",
       "      <td>0.15748</td>\n",
       "    </tr>\n",
       "    <tr>\n",
       "      <th>2</th>\n",
       "      <td>Atlanta</td>\n",
       "      <td>48</td>\n",
       "      <td>0.08548</td>\n",
       "    </tr>\n",
       "    <tr>\n",
       "      <th>3</th>\n",
       "      <td>Atlanta</td>\n",
       "      <td>48</td>\n",
       "      <td>0.10744</td>\n",
       "    </tr>\n",
       "    <tr>\n",
       "      <th>4</th>\n",
       "      <td>Atlanta</td>\n",
       "      <td>48</td>\n",
       "      <td>0.08456</td>\n",
       "    </tr>\n",
       "  </tbody>\n",
       "</table>\n",
       "</div>"
      ],
      "text/plain": [
       "      city cluster    value\n",
       "0  Atlanta      48  0.14181\n",
       "1  Atlanta      48  0.15748\n",
       "2  Atlanta      48  0.08548\n",
       "3  Atlanta      48  0.10744\n",
       "4  Atlanta      48  0.08456"
      ]
     },
     "execution_count": 792,
     "metadata": {},
     "output_type": "execute_result"
    }
   ],
   "source": [
    "x1_costs_long = pd.melt(x1_costs, id_vars=['city']).rename(columns={\"variable\":\"cluster\"})\n",
    "x1_costs_long.head()"
   ]
  },
  {
   "cell_type": "code",
   "execution_count": 823,
   "metadata": {},
   "outputs": [],
   "source": [
    "x1_costs_long = x1_costs_long[x1_costs_long.value != 0]"
   ]
  },
  {
   "cell_type": "code",
   "execution_count": 845,
   "metadata": {},
   "outputs": [
    {
     "data": {
      "image/png": "[encoded data removed]",
      "text/plain": [
       "<Figure size 1260x720 with 10 Axes>"
      ]
     },
     "metadata": {
      "needs_background": "light"
     },
     "output_type": "display_data"
    }
   ],
   "source": [
    "g = sns.catplot(x=\"city\", \n",
    "                y=\"value\", \n",
    "                col=\"cluster\", \n",
    "                data=x1_costs_long, \n",
    "                kind=\"box\",\n",
    "                height=5, \n",
    "                aspect=.7,\n",
    "                col_wrap=5,\n",
    "                margin_titles=True);\n",
    "g.map_dataframe(sns.stripplot, \n",
    "                x=\"city\", \n",
    "                y=\"value\", \n",
    "                palette=[\"#404040\"], \n",
    "                alpha=0.2, dodge=True)\n",
    "g.set_axis_labels(\"City\", \"Cost\")\n",
    "for ax in g.axes.flatten():\n",
    "    ax.tick_params(labelbottom=True)\n"
   ]
  },
  {
   "cell_type": "code",
   "execution_count": 819,
   "metadata": {},
   "outputs": [],
   "source": [
    "x2_costs = pd.DataFrame(wmd_pairs_flow.X1_feat)\n",
    "x2_costs.index = list(pairs.values())\n",
    "x2_costs = x2_costs.sort_index()\n",
    "x2_costs = x2_costs[c2.columns]\n",
    "x2_costs['city'] = sample[1000:2000].city.tolist()"
   ]
  },
  {
   "cell_type": "code",
   "execution_count": 820,
   "metadata": {},
   "outputs": [
    {
     "data": {
      "text/html": [
       "<div>\n",
       "<style scoped>\n",
       "    .dataframe tbody tr th:only-of-type {\n",
       "        vertical-align: middle;\n",
       "    }\n",
       "\n",
       "    .dataframe tbody tr th {\n",
       "        vertical-align: top;\n",
       "    }\n",
       "\n",
       "    .dataframe thead th {\n",
       "        text-align: right;\n",
       "    }\n",
       "</style>\n",
       "<table border=\"1\" class=\"dataframe\">\n",
       "  <thead>\n",
       "    <tr style=\"text-align: right;\">\n",
       "      <th></th>\n",
       "      <th>city</th>\n",
       "      <th>cluster</th>\n",
       "      <th>value</th>\n",
       "    </tr>\n",
       "  </thead>\n",
       "  <tbody>\n",
       "    <tr>\n",
       "      <th>0</th>\n",
       "      <td>Atlanta</td>\n",
       "      <td>5</td>\n",
       "      <td>0.07772</td>\n",
       "    </tr>\n",
       "    <tr>\n",
       "      <th>1</th>\n",
       "      <td>Atlanta</td>\n",
       "      <td>5</td>\n",
       "      <td>0.07759</td>\n",
       "    </tr>\n",
       "    <tr>\n",
       "      <th>2</th>\n",
       "      <td>Atlanta</td>\n",
       "      <td>5</td>\n",
       "      <td>0.02983</td>\n",
       "    </tr>\n",
       "    <tr>\n",
       "      <th>3</th>\n",
       "      <td>Atlanta</td>\n",
       "      <td>5</td>\n",
       "      <td>0.00000</td>\n",
       "    </tr>\n",
       "    <tr>\n",
       "      <th>4</th>\n",
       "      <td>Atlanta</td>\n",
       "      <td>5</td>\n",
       "      <td>0.00000</td>\n",
       "    </tr>\n",
       "  </tbody>\n",
       "</table>\n",
       "</div>"
      ],
      "text/plain": [
       "      city cluster    value\n",
       "0  Atlanta       5  0.07772\n",
       "1  Atlanta       5  0.07759\n",
       "2  Atlanta       5  0.02983\n",
       "3  Atlanta       5  0.00000\n",
       "4  Atlanta       5  0.00000"
      ]
     },
     "execution_count": 820,
     "metadata": {},
     "output_type": "execute_result"
    }
   ],
   "source": [
    "x2_costs_long = pd.melt(x2_costs, id_vars=['city']).rename(columns={\"variable\":\"cluster\"})\n",
    "x2_costs_long.head()"
   ]
  },
  {
   "cell_type": "code",
   "execution_count": 827,
   "metadata": {},
   "outputs": [],
   "source": [
    "x2_costs_long = x2_costs_long[x2_costs_long.value != 0]"
   ]
  },
  {
   "cell_type": "code",
   "execution_count": 843,
   "metadata": {},
   "outputs": [
    {
     "data": {
      "image/png": "[encoded data removed]",
      "text/plain": [
       "<Figure size 1260x720 with 10 Axes>"
      ]
     },
     "metadata": {
      "needs_background": "light"
     },
     "output_type": "display_data"
    }
   ],
   "source": [
    "g = sns.catplot(x=\"city\", \n",
    "                y=\"value\", \n",
    "                col=\"cluster\", \n",
    "                data=x2_costs_long, \n",
    "                kind=\"box\",\n",
    "                height=5, \n",
    "                aspect=.7,\n",
    "                col_wrap=5,\n",
    "                margin_titles=True);\n",
    "g.map_dataframe(sns.stripplot, \n",
    "                x=\"city\", \n",
    "                y=\"value\", \n",
    "                palette=[\"#404040\"], \n",
    "                alpha=0.2, dodge=True)\n",
    "g.set_axis_labels(\"City\", \"Cost\")\n",
    "for ax in g.axes.flatten():\n",
    "    ax.tick_params(labelbottom=True)\n"
   ]
  },
  {
   "cell_type": "markdown",
   "metadata": {},
   "source": [
    "## 4 Better clusters with UMAP and T-SNE"
   ]
  },
  {
   "cell_type": "markdown",
   "metadata": {},
   "source": [
    "#### 4.1 UMAP + Kmeans"
   ]
  },
  {
   "cell_type": "code",
   "execution_count": 118,
   "metadata": {},
   "outputs": [],
   "source": [
    "word2cluster_u = {features[idx]: cl for idx, cl in enumerate(labels_umap)}"
   ]
  },
  {
   "cell_type": "code",
   "execution_count": 119,
   "metadata": {},
   "outputs": [
    {
     "name": "stdout",
     "output_type": "stream",
     "text": [
      "[(']', 84), ('^_', 49), ('`', 4), ('aaargh', 3), ('aaliyah', 8), ('aamir_khan', 54), ('aaron', 13), ('aaron_eckhart', 18), ('ab_tak', 93), ('abandon', 92)]\n"
     ]
    }
   ],
   "source": [
    "print(take(10, word2cluster_u.items()))"
   ]
  },
  {
   "cell_type": "markdown",
   "metadata": {},
   "source": [
    "Now, conversely, create an index that maps each cluster to a word."
   ]
  },
  {
   "cell_type": "code",
   "execution_count": 120,
   "metadata": {},
   "outputs": [],
   "source": [
    "cluster2words_u = defaultdict(list)\n",
    "for key, value in word2cluster_u.items():\n",
    "    cluster2words_u[value].append(key)"
   ]
  },
  {
   "cell_type": "code",
   "execution_count": 121,
   "metadata": {},
   "outputs": [
    {
     "name": "stdout",
     "output_type": "stream",
     "text": [
      "Calculated distances between approximately 0 documents.\n",
      "Calculated distances between approximately 100 documents.\n",
      "Calculated distances between approximately 200 documents.\n",
      "Calculated distances between approximately 300 documents.\n",
      "Calculated distances between approximately 400 documents.\n",
      "CPU times: user 2min 3s, sys: 15.9 s, total: 2min 19s\n",
      "Wall time: 1min 13s\n"
     ]
    }
   ],
   "source": [
    "%%time \n",
    "\n",
    "wmd_pairs_flow_u = WMDPairs(pos_docs,neg_docs,pairs,E,idx2word)\n",
    "wmd_pairs_flow_u.get_distances(return_flow = True, \n",
    "                               sum_clusters = True, \n",
    "                               w2c = word2cluster_u, \n",
    "                               c2w = cluster2words_u,\n",
    "                               thread = True)"
   ]
  },
  {
   "cell_type": "code",
   "execution_count": 123,
   "metadata": {},
   "outputs": [],
   "source": [
    "wmd_pairs_flow_u.get_differences()"
   ]
  },
  {
   "cell_type": "code",
   "execution_count": 125,
   "metadata": {},
   "outputs": [],
   "source": [
    "c1_u = output_clusters(wc=wmd_pairs_flow_u.wc_X1_diff.items(), \n",
    "                     cc=wmd_pairs_flow_u.cc_X1.items(), \n",
    "                     c2w=cluster2words_u, \n",
    "                     n_clusters=n_clusters, \n",
    "                     n_words=n_words)\n",
    "c2_u = output_clusters(wc=wmd_pairs_flow_u.wc_X2_diff.items(), \n",
    "                     cc=wmd_pairs_flow_u.cc_X2.items(), \n",
    "                     c2w=cluster2words_u, \n",
    "                     n_clusters=n_clusters, \n",
    "                     n_words=n_words)"
   ]
  },
  {
   "cell_type": "code",
   "execution_count": 126,
   "metadata": {},
   "outputs": [
    {
     "data": {
      "text/html": [
       "<div>\n",
       "<style scoped>\n",
       "    .dataframe tbody tr th:only-of-type {\n",
       "        vertical-align: middle;\n",
       "    }\n",
       "\n",
       "    .dataframe tbody tr th {\n",
       "        vertical-align: top;\n",
       "    }\n",
       "\n",
       "    .dataframe thead th {\n",
       "        text-align: right;\n",
       "    }\n",
       "</style>\n",
       "<table border=\"1\" class=\"dataframe\">\n",
       "  <thead>\n",
       "    <tr style=\"text-align: right;\">\n",
       "      <th></th>\n",
       "      <th>38</th>\n",
       "      <th>65</th>\n",
       "      <th>48</th>\n",
       "      <th>50</th>\n",
       "      <th>6</th>\n",
       "      <th>45</th>\n",
       "      <th>78</th>\n",
       "      <th>16</th>\n",
       "      <th>14</th>\n",
       "      <th>68</th>\n",
       "    </tr>\n",
       "  </thead>\n",
       "  <tbody>\n",
       "    <tr>\n",
       "      <th>0</th>\n",
       "      <td>great (2.48)</td>\n",
       "      <td>loved (1.27)</td>\n",
       "      <td>game (1.77)</td>\n",
       "      <td>dvd (0.7)</td>\n",
       "      <td>still (1.8)</td>\n",
       "      <td>year (0.8)</td>\n",
       "      <td>film (0.68)</td>\n",
       "      <td>little (1.23)</td>\n",
       "      <td>performance (1.36)</td>\n",
       "      <td>story (0.7)</td>\n",
       "    </tr>\n",
       "    <tr>\n",
       "      <th>1</th>\n",
       "      <td>best (2.03)</td>\n",
       "      <td>enjoy (0.72)</td>\n",
       "      <td>hard (0.42)</td>\n",
       "      <td>show (0.4)</td>\n",
       "      <td>disney (0.89)</td>\n",
       "      <td>new (0.67)</td>\n",
       "      <td>although (0.37)</td>\n",
       "      <td>entertaining (0.66)</td>\n",
       "      <td>role (0.9)</td>\n",
       "      <td>quality (0.3)</td>\n",
       "    </tr>\n",
       "    <tr>\n",
       "      <th>2</th>\n",
       "      <td>excellent (1.42)</td>\n",
       "      <td>well_worth (0.67)</td>\n",
       "      <td>cartoon (0.18)</td>\n",
       "      <td>hope (0.39)</td>\n",
       "      <td>every (0.34)</td>\n",
       "      <td>night (0.43)</td>\n",
       "      <td>cinema (0.36)</td>\n",
       "      <td>hilarious (0.5)</td>\n",
       "      <td>star (0.55)</td>\n",
       "      <td>quite (0.3)</td>\n",
       "    </tr>\n",
       "    <tr>\n",
       "      <th>3</th>\n",
       "      <td>wonderful (1.3)</td>\n",
       "      <td>want (0.42)</td>\n",
       "      <td>people (0.16)</td>\n",
       "      <td>channel (0.37)</td>\n",
       "      <td>compared (0.19)</td>\n",
       "      <td>day (0.39)</td>\n",
       "      <td>hollywood (0.22)</td>\n",
       "      <td>comedy (0.43)</td>\n",
       "      <td>play (0.46)</td>\n",
       "      <td>edge_seat (0.23)</td>\n",
       "    </tr>\n",
       "    <tr>\n",
       "      <th>4</th>\n",
       "      <td>song (0.96)</td>\n",
       "      <td>check (0.25)</td>\n",
       "      <td>segal (0.15)</td>\n",
       "      <td>found (0.34)</td>\n",
       "      <td>taste (0.19)</td>\n",
       "      <td>old (0.38)</td>\n",
       "      <td>though (0.18)</td>\n",
       "      <td>plus (0.32)</td>\n",
       "      <td>playing (0.39)</td>\n",
       "      <td>build (0.23)</td>\n",
       "    </tr>\n",
       "    <tr>\n",
       "      <th>5</th>\n",
       "      <td>brilliant (0.83)</td>\n",
       "      <td>liked (0.23)</td>\n",
       "      <td>meatball (0.14)</td>\n",
       "      <td>buy (0.33)</td>\n",
       "      <td>much (0.16)</td>\n",
       "      <td>lived (0.35)</td>\n",
       "      <td>throughout (0.17)</td>\n",
       "      <td>fulci (0.3)</td>\n",
       "      <td>great_job (0.31)</td>\n",
       "      <td>clever (0.23)</td>\n",
       "    </tr>\n",
       "    <tr>\n",
       "      <th>6</th>\n",
       "      <td>perfect (0.75)</td>\n",
       "      <td>enjoyed (0.21)</td>\n",
       "      <td>animated (0.14)</td>\n",
       "      <td>glad (0.31)</td>\n",
       "      <td>one (0.15)</td>\n",
       "      <td>late (0.33)</td>\n",
       "      <td>filled (0.17)</td>\n",
       "      <td>humor (0.28)</td>\n",
       "      <td>hamlet (0.2)</td>\n",
       "      <td>bit (0.23)</td>\n",
       "    </tr>\n",
       "    <tr>\n",
       "      <th>7</th>\n",
       "      <td>beautiful (0.68)</td>\n",
       "      <td>would_recommend (0.19)</td>\n",
       "      <td>subtitle (0.14)</td>\n",
       "      <td>film_festival (0.27)</td>\n",
       "      <td>sf (0.14)</td>\n",
       "      <td>memory (0.29)</td>\n",
       "      <td>pure (0.14)</td>\n",
       "      <td>martial_art (0.26)</td>\n",
       "      <td>davy (0.19)</td>\n",
       "      <td>romantic_comedy (0.22)</td>\n",
       "    </tr>\n",
       "    <tr>\n",
       "      <th>8</th>\n",
       "      <td>soundtrack (0.67)</td>\n",
       "      <td>seen (0.17)</td>\n",
       "      <td>serial (0.13)</td>\n",
       "      <td>first_saw (0.25)</td>\n",
       "      <td>eighty (0.14)</td>\n",
       "      <td>grew (0.25)</td>\n",
       "      <td>part (0.12)</td>\n",
       "      <td>enjoyable (0.23)</td>\n",
       "      <td>rest_cast (0.18)</td>\n",
       "      <td>extremely (0.19)</td>\n",
       "    </tr>\n",
       "    <tr>\n",
       "      <th>9</th>\n",
       "      <td>amazing (0.65)</td>\n",
       "      <td>thought (0.17)</td>\n",
       "      <td>exactly (0.13)</td>\n",
       "      <td>video (0.25)</td>\n",
       "      <td>perhaps (0.13)</td>\n",
       "      <td>last (0.25)</td>\n",
       "      <td>dated (0.11)</td>\n",
       "      <td>humour (0.21)</td>\n",
       "      <td>supporting_cast (0.18)</td>\n",
       "      <td>suspenseful (0.13)</td>\n",
       "    </tr>\n",
       "  </tbody>\n",
       "</table>\n",
       "</div>"
      ],
      "text/plain": [
       "                  38                      65               48  \\\n",
       "0       great (2.48)            loved (1.27)      game (1.77)   \n",
       "1        best (2.03)            enjoy (0.72)      hard (0.42)   \n",
       "2   excellent (1.42)       well_worth (0.67)   cartoon (0.18)   \n",
       "3    wonderful (1.3)             want (0.42)    people (0.16)   \n",
       "4        song (0.96)            check (0.25)     segal (0.15)   \n",
       "5   brilliant (0.83)            liked (0.23)  meatball (0.14)   \n",
       "6     perfect (0.75)          enjoyed (0.21)  animated (0.14)   \n",
       "7   beautiful (0.68)  would_recommend (0.19)  subtitle (0.14)   \n",
       "8  soundtrack (0.67)             seen (0.17)    serial (0.13)   \n",
       "9     amazing (0.65)          thought (0.17)   exactly (0.13)   \n",
       "\n",
       "                     50               6              45                 78  \\\n",
       "0             dvd (0.7)      still (1.8)     year (0.8)        film (0.68)   \n",
       "1            show (0.4)    disney (0.89)     new (0.67)    although (0.37)   \n",
       "2           hope (0.39)     every (0.34)   night (0.43)      cinema (0.36)   \n",
       "3        channel (0.37)  compared (0.19)     day (0.39)   hollywood (0.22)   \n",
       "4          found (0.34)     taste (0.19)     old (0.38)      though (0.18)   \n",
       "5            buy (0.33)      much (0.16)   lived (0.35)  throughout (0.17)   \n",
       "6           glad (0.31)       one (0.15)    late (0.33)      filled (0.17)   \n",
       "7  film_festival (0.27)        sf (0.14)  memory (0.29)        pure (0.14)   \n",
       "8      first_saw (0.25)    eighty (0.14)    grew (0.25)        part (0.12)   \n",
       "9          video (0.25)   perhaps (0.13)    last (0.25)       dated (0.11)   \n",
       "\n",
       "                    16                      14                      68  \n",
       "0        little (1.23)      performance (1.36)             story (0.7)  \n",
       "1  entertaining (0.66)              role (0.9)           quality (0.3)  \n",
       "2      hilarious (0.5)             star (0.55)             quite (0.3)  \n",
       "3        comedy (0.43)             play (0.46)        edge_seat (0.23)  \n",
       "4          plus (0.32)          playing (0.39)            build (0.23)  \n",
       "5          fulci (0.3)        great_job (0.31)           clever (0.23)  \n",
       "6         humor (0.28)            hamlet (0.2)              bit (0.23)  \n",
       "7   martial_art (0.26)             davy (0.19)  romantic_comedy (0.22)  \n",
       "8     enjoyable (0.23)        rest_cast (0.18)        extremely (0.19)  \n",
       "9        humour (0.21)  supporting_cast (0.18)      suspenseful (0.13)  "
      ]
     },
     "execution_count": 126,
     "metadata": {},
     "output_type": "execute_result"
    }
   ],
   "source": [
    "c1_u"
   ]
  },
  {
   "cell_type": "code",
   "execution_count": 127,
   "metadata": {},
   "outputs": [
    {
     "data": {
      "text/html": [
       "<div>\n",
       "<style scoped>\n",
       "    .dataframe tbody tr th:only-of-type {\n",
       "        vertical-align: middle;\n",
       "    }\n",
       "\n",
       "    .dataframe tbody tr th {\n",
       "        vertical-align: top;\n",
       "    }\n",
       "\n",
       "    .dataframe thead th {\n",
       "        text-align: right;\n",
       "    }\n",
       "</style>\n",
       "<table border=\"1\" class=\"dataframe\">\n",
       "  <thead>\n",
       "    <tr style=\"text-align: right;\">\n",
       "      <th></th>\n",
       "      <th>65</th>\n",
       "      <th>48</th>\n",
       "      <th>56</th>\n",
       "      <th>6</th>\n",
       "      <th>30</th>\n",
       "      <th>16</th>\n",
       "      <th>63</th>\n",
       "      <th>50</th>\n",
       "      <th>78</th>\n",
       "      <th>77</th>\n",
       "    </tr>\n",
       "  </thead>\n",
       "  <tbody>\n",
       "    <tr>\n",
       "      <th>0</th>\n",
       "      <td>movie (2.33)</td>\n",
       "      <td>would (0.5)</td>\n",
       "      <td>bad (5.31)</td>\n",
       "      <td>even (1.48)</td>\n",
       "      <td>worst (2.48)</td>\n",
       "      <td>stupid (1.61)</td>\n",
       "      <td>better (1.0)</td>\n",
       "      <td>came (0.35)</td>\n",
       "      <td>director (0.41)</td>\n",
       "      <td>supposed (0.74)</td>\n",
       "    </tr>\n",
       "    <tr>\n",
       "      <th>1</th>\n",
       "      <td>really (0.94)</td>\n",
       "      <td>reason (0.47)</td>\n",
       "      <td>plot (1.52)</td>\n",
       "      <td>could (1.22)</td>\n",
       "      <td>ever_seen (0.95)</td>\n",
       "      <td>funny (0.87)</td>\n",
       "      <td>least (0.77)</td>\n",
       "      <td>fox (0.31)</td>\n",
       "      <td>effort (0.34)</td>\n",
       "      <td>case (0.52)</td>\n",
       "    </tr>\n",
       "    <tr>\n",
       "      <th>2</th>\n",
       "      <td>rating (0.84)</td>\n",
       "      <td>going (0.46)</td>\n",
       "      <td>boring (1.38)</td>\n",
       "      <td>instead (1.03)</td>\n",
       "      <td>one_worst (0.88)</td>\n",
       "      <td>joke (0.76)</td>\n",
       "      <td>nothing (0.76)</td>\n",
       "      <td>sat (0.31)</td>\n",
       "      <td>seems (0.27)</td>\n",
       "      <td>making (0.43)</td>\n",
       "    </tr>\n",
       "    <tr>\n",
       "      <th>3</th>\n",
       "      <td>say (0.72)</td>\n",
       "      <td>gave (0.42)</td>\n",
       "      <td>awful (1.34)</td>\n",
       "      <td>made (0.83)</td>\n",
       "      <td>ever (0.74)</td>\n",
       "      <td>idiotic (0.39)</td>\n",
       "      <td>ok (0.63)</td>\n",
       "      <td>episode (0.31)</td>\n",
       "      <td>numerous (0.27)</td>\n",
       "      <td>understand (0.39)</td>\n",
       "    </tr>\n",
       "    <tr>\n",
       "      <th>4</th>\n",
       "      <td>rent (0.7)</td>\n",
       "      <td>basically (0.42)</td>\n",
       "      <td>terrible (1.24)</td>\n",
       "      <td>enough (0.72)</td>\n",
       "      <td>hour (0.74)</td>\n",
       "      <td>unrealistic (0.37)</td>\n",
       "      <td>cheap (0.6)</td>\n",
       "      <td>finished (0.28)</td>\n",
       "      <td>point (0.27)</td>\n",
       "      <td>obviously (0.36)</td>\n",
       "    </tr>\n",
       "    <tr>\n",
       "      <th>5</th>\n",
       "      <td>maybe (0.61)</td>\n",
       "      <td>never (0.4)</td>\n",
       "      <td>poor (1.12)</td>\n",
       "      <td>idea (0.59)</td>\n",
       "      <td>minute (0.72)</td>\n",
       "      <td>lot (0.37)</td>\n",
       "      <td>anything (0.56)</td>\n",
       "      <td>picked (0.27)</td>\n",
       "      <td>contain (0.19)</td>\n",
       "      <td>project (0.27)</td>\n",
       "    </tr>\n",
       "    <tr>\n",
       "      <th>6</th>\n",
       "      <td>anyone (0.61)</td>\n",
       "      <td>wrong (0.4)</td>\n",
       "      <td>horrible (0.93)</td>\n",
       "      <td>either (0.46)</td>\n",
       "      <td>worse (0.72)</td>\n",
       "      <td>overall (0.32)</td>\n",
       "      <td>sequel (0.43)</td>\n",
       "      <td>series (0.25)</td>\n",
       "      <td>example (0.18)</td>\n",
       "      <td>sort (0.26)</td>\n",
       "    </tr>\n",
       "    <tr>\n",
       "      <th>7</th>\n",
       "      <td>watching (0.52)</td>\n",
       "      <td>happen (0.39)</td>\n",
       "      <td>script (0.7)</td>\n",
       "      <td>rest (0.45)</td>\n",
       "      <td>something (0.68)</td>\n",
       "      <td>nudity (0.29)</td>\n",
       "      <td>whole_thing (0.42)</td>\n",
       "      <td>blockbuster (0.25)</td>\n",
       "      <td>almost (0.15)</td>\n",
       "      <td>fact (0.26)</td>\n",
       "    </tr>\n",
       "    <tr>\n",
       "      <th>8</th>\n",
       "      <td>review (0.52)</td>\n",
       "      <td>tried (0.37)</td>\n",
       "      <td>dialog (0.63)</td>\n",
       "      <td>make_sense (0.45)</td>\n",
       "      <td>waste (0.65)</td>\n",
       "      <td>serious (0.28)</td>\n",
       "      <td>b (0.41)</td>\n",
       "      <td>rented (0.21)</td>\n",
       "      <td>shocking (0.15)</td>\n",
       "      <td>blame (0.25)</td>\n",
       "    </tr>\n",
       "    <tr>\n",
       "      <th>9</th>\n",
       "      <td>recommend (0.48)</td>\n",
       "      <td>like (0.37)</td>\n",
       "      <td>dull (0.6)</td>\n",
       "      <td>producer (0.36)</td>\n",
       "      <td>waste_time (0.61)</td>\n",
       "      <td>disgusting (0.28)</td>\n",
       "      <td>expect (0.39)</td>\n",
       "      <td>went_see (0.21)</td>\n",
       "      <td>columbo (0.14)</td>\n",
       "      <td>confused (0.25)</td>\n",
       "    </tr>\n",
       "  </tbody>\n",
       "</table>\n",
       "</div>"
      ],
      "text/plain": [
       "                 65                48               56                 6   \\\n",
       "0      movie (2.33)       would (0.5)       bad (5.31)        even (1.48)   \n",
       "1     really (0.94)     reason (0.47)      plot (1.52)       could (1.22)   \n",
       "2     rating (0.84)      going (0.46)    boring (1.38)     instead (1.03)   \n",
       "3        say (0.72)       gave (0.42)     awful (1.34)        made (0.83)   \n",
       "4        rent (0.7)  basically (0.42)  terrible (1.24)      enough (0.72)   \n",
       "5      maybe (0.61)       never (0.4)      poor (1.12)        idea (0.59)   \n",
       "6     anyone (0.61)       wrong (0.4)  horrible (0.93)      either (0.46)   \n",
       "7   watching (0.52)     happen (0.39)     script (0.7)        rest (0.45)   \n",
       "8     review (0.52)      tried (0.37)    dialog (0.63)  make_sense (0.45)   \n",
       "9  recommend (0.48)       like (0.37)       dull (0.6)    producer (0.36)   \n",
       "\n",
       "                  30                  16                  63  \\\n",
       "0       worst (2.48)       stupid (1.61)        better (1.0)   \n",
       "1   ever_seen (0.95)        funny (0.87)        least (0.77)   \n",
       "2   one_worst (0.88)         joke (0.76)      nothing (0.76)   \n",
       "3        ever (0.74)      idiotic (0.39)           ok (0.63)   \n",
       "4        hour (0.74)  unrealistic (0.37)         cheap (0.6)   \n",
       "5      minute (0.72)          lot (0.37)     anything (0.56)   \n",
       "6       worse (0.72)      overall (0.32)       sequel (0.43)   \n",
       "7   something (0.68)       nudity (0.29)  whole_thing (0.42)   \n",
       "8       waste (0.65)      serious (0.28)            b (0.41)   \n",
       "9  waste_time (0.61)   disgusting (0.28)       expect (0.39)   \n",
       "\n",
       "                   50               78                 77  \n",
       "0         came (0.35)  director (0.41)    supposed (0.74)  \n",
       "1          fox (0.31)    effort (0.34)        case (0.52)  \n",
       "2          sat (0.31)     seems (0.27)      making (0.43)  \n",
       "3      episode (0.31)  numerous (0.27)  understand (0.39)  \n",
       "4     finished (0.28)     point (0.27)   obviously (0.36)  \n",
       "5       picked (0.27)   contain (0.19)     project (0.27)  \n",
       "6       series (0.25)   example (0.18)        sort (0.26)  \n",
       "7  blockbuster (0.25)    almost (0.15)        fact (0.26)  \n",
       "8       rented (0.21)  shocking (0.15)       blame (0.25)  \n",
       "9     went_see (0.21)   columbo (0.14)    confused (0.25)  "
      ]
     },
     "execution_count": 127,
     "metadata": {},
     "output_type": "execute_result"
    }
   ],
   "source": [
    "c2_u"
   ]
  },
  {
   "cell_type": "markdown",
   "metadata": {},
   "source": [
    "#### 4.1 T-SNE + Kmeans"
   ]
  },
  {
   "cell_type": "code",
   "execution_count": 128,
   "metadata": {},
   "outputs": [],
   "source": [
    "word2cluster_t = {features[idx]: cl for idx, cl in enumerate(labels_tsne)}"
   ]
  },
  {
   "cell_type": "code",
   "execution_count": 129,
   "metadata": {},
   "outputs": [
    {
     "name": "stdout",
     "output_type": "stream",
     "text": [
      "[(']', 65), ('^_', 25), ('`', 45), ('aaargh', 79), ('aaliyah', 39), ('aamir_khan', 56), ('aaron', 84), ('aaron_eckhart', 20), ('ab_tak', 54), ('abandon', 74)]\n"
     ]
    }
   ],
   "source": [
    "print(take(10, word2cluster_t.items()))"
   ]
  },
  {
   "cell_type": "markdown",
   "metadata": {},
   "source": [
    "Now, conversely, create an index that maps each cluster to a word."
   ]
  },
  {
   "cell_type": "code",
   "execution_count": 139,
   "metadata": {},
   "outputs": [],
   "source": [
    "cluster2words_t = defaultdict(list)\n",
    "for key, value in word2cluster_t.items():\n",
    "    cluster2words_t[value].append(key)"
   ]
  },
  {
   "cell_type": "code",
   "execution_count": 141,
   "metadata": {},
   "outputs": [
    {
     "name": "stdout",
     "output_type": "stream",
     "text": [
      "Calculated distances between approximately 0 documents.\n",
      "Calculated distances between approximately 100 documents.\n",
      "Calculated distances between approximately 200 documents.\n",
      "Calculated distances between approximately 300 documents.\n",
      "Calculated distances between approximately 400 documents.\n",
      "CPU times: user 2min 5s, sys: 14.9 s, total: 2min 20s\n",
      "Wall time: 1min 16s\n"
     ]
    }
   ],
   "source": [
    "%%time \n",
    "\n",
    "wmd_pairs_flow_t = WMDPairs(pos_docs,neg_docs,pairs,E,idx2word)\n",
    "wmd_pairs_flow_t.get_distances(return_flow = True, \n",
    "                               sum_clusters = True, \n",
    "                               w2c = word2cluster_t, \n",
    "                               c2w = cluster2words_t,\n",
    "                               thread = True)"
   ]
  },
  {
   "cell_type": "code",
   "execution_count": 142,
   "metadata": {},
   "outputs": [],
   "source": [
    "wmd_pairs_flow_t.get_differences()"
   ]
  },
  {
   "cell_type": "code",
   "execution_count": 143,
   "metadata": {},
   "outputs": [],
   "source": [
    "c1_t = output_clusters(wc=wmd_pairs_flow_t.wc_X1_diff.items(), \n",
    "                     cc=wmd_pairs_flow_t.cc_X1.items(), \n",
    "                     c2w=cluster2words_t, \n",
    "                     n_clusters=n_clusters, \n",
    "                     n_words=n_words)\n",
    "c2_t = output_clusters(wc=wmd_pairs_flow_t.wc_X2_diff.items(), \n",
    "                     cc=wmd_pairs_flow_t.cc_X2.items(), \n",
    "                     c2w=cluster2words_t, \n",
    "                     n_clusters=n_clusters, \n",
    "                     n_words=n_words)"
   ]
  },
  {
   "cell_type": "code",
   "execution_count": 144,
   "metadata": {},
   "outputs": [
    {
     "data": {
      "text/html": [
       "<div>\n",
       "<style scoped>\n",
       "    .dataframe tbody tr th:only-of-type {\n",
       "        vertical-align: middle;\n",
       "    }\n",
       "\n",
       "    .dataframe tbody tr th {\n",
       "        vertical-align: top;\n",
       "    }\n",
       "\n",
       "    .dataframe thead th {\n",
       "        text-align: right;\n",
       "    }\n",
       "</style>\n",
       "<table border=\"1\" class=\"dataframe\">\n",
       "  <thead>\n",
       "    <tr style=\"text-align: right;\">\n",
       "      <th></th>\n",
       "      <th>92</th>\n",
       "      <th>67</th>\n",
       "      <th>86</th>\n",
       "      <th>48</th>\n",
       "      <th>99</th>\n",
       "      <th>87</th>\n",
       "      <th>10</th>\n",
       "      <th>31</th>\n",
       "      <th>17</th>\n",
       "      <th>95</th>\n",
       "    </tr>\n",
       "  </thead>\n",
       "  <tbody>\n",
       "    <tr>\n",
       "      <th>0</th>\n",
       "      <td>loved (1.27)</td>\n",
       "      <td>great (2.48)</td>\n",
       "      <td>disney (0.89)</td>\n",
       "      <td>thought (0.17)</td>\n",
       "      <td>game (1.77)</td>\n",
       "      <td>performance (1.36)</td>\n",
       "      <td>dvd (0.7)</td>\n",
       "      <td>real (0.65)</td>\n",
       "      <td>feeling (0.6)</td>\n",
       "      <td>year (0.8)</td>\n",
       "    </tr>\n",
       "    <tr>\n",
       "      <th>1</th>\n",
       "      <td>time (0.84)</td>\n",
       "      <td>excellent (1.42)</td>\n",
       "      <td>film (0.68)</td>\n",
       "      <td>people (0.16)</td>\n",
       "      <td>hilarious (0.5)</td>\n",
       "      <td>role (0.9)</td>\n",
       "      <td>hope (0.39)</td>\n",
       "      <td>often (0.4)</td>\n",
       "      <td>feel (0.54)</td>\n",
       "      <td>night (0.43)</td>\n",
       "    </tr>\n",
       "    <tr>\n",
       "      <th>2</th>\n",
       "      <td>well_worth (0.67)</td>\n",
       "      <td>wonderful (1.3)</td>\n",
       "      <td>entertaining (0.66)</td>\n",
       "      <td>exactly (0.13)</td>\n",
       "      <td>comedy (0.43)</td>\n",
       "      <td>star (0.55)</td>\n",
       "      <td>channel (0.37)</td>\n",
       "      <td>moving (0.35)</td>\n",
       "      <td>message (0.43)</td>\n",
       "      <td>day (0.39)</td>\n",
       "    </tr>\n",
       "    <tr>\n",
       "      <th>3</th>\n",
       "      <td>fan (0.55)</td>\n",
       "      <td>song (0.96)</td>\n",
       "      <td>definitely (0.54)</td>\n",
       "      <td>folk (0.12)</td>\n",
       "      <td>scifi (0.43)</td>\n",
       "      <td>play (0.46)</td>\n",
       "      <td>found (0.34)</td>\n",
       "      <td>filmed (0.21)</td>\n",
       "      <td>reality (0.34)</td>\n",
       "      <td>lived (0.35)</td>\n",
       "    </tr>\n",
       "    <tr>\n",
       "      <th>4</th>\n",
       "      <td>wish (0.28)</td>\n",
       "      <td>brilliant (0.83)</td>\n",
       "      <td>special (0.39)</td>\n",
       "      <td>shocked (0.11)</td>\n",
       "      <td>show (0.4)</td>\n",
       "      <td>playing (0.39)</td>\n",
       "      <td>buy (0.33)</td>\n",
       "      <td>top (0.17)</td>\n",
       "      <td>theme (0.3)</td>\n",
       "      <td>memory (0.29)</td>\n",
       "    </tr>\n",
       "    <tr>\n",
       "      <th>5</th>\n",
       "      <td>liked (0.23)</td>\n",
       "      <td>perfect (0.75)</td>\n",
       "      <td>cinema (0.36)</td>\n",
       "      <td>happy_ending (0.11)</td>\n",
       "      <td>humor (0.28)</td>\n",
       "      <td>great_job (0.31)</td>\n",
       "      <td>glad (0.31)</td>\n",
       "      <td>main (0.15)</td>\n",
       "      <td>issue (0.21)</td>\n",
       "      <td>future (0.26)</td>\n",
       "    </tr>\n",
       "    <tr>\n",
       "      <th>6</th>\n",
       "      <td>enjoyed (0.21)</td>\n",
       "      <td>beautiful (0.68)</td>\n",
       "      <td>particularly (0.35)</td>\n",
       "      <td>wanting (0.09)</td>\n",
       "      <td>short (0.24)</td>\n",
       "      <td>usual (0.25)</td>\n",
       "      <td>film_festival (0.27)</td>\n",
       "      <td>character (0.15)</td>\n",
       "      <td>society (0.18)</td>\n",
       "      <td>grew (0.25)</td>\n",
       "    </tr>\n",
       "    <tr>\n",
       "      <th>7</th>\n",
       "      <td>seen (0.17)</td>\n",
       "      <td>soundtrack (0.67)</td>\n",
       "      <td>classic (0.33)</td>\n",
       "      <td>figured (0.08)</td>\n",
       "      <td>clever (0.23)</td>\n",
       "      <td>rest_cast (0.18)</td>\n",
       "      <td>first_saw (0.25)</td>\n",
       "      <td>segment (0.13)</td>\n",
       "      <td>importance (0.17)</td>\n",
       "      <td>last (0.25)</td>\n",
       "    </tr>\n",
       "    <tr>\n",
       "      <th>8</th>\n",
       "      <td>buy_copy (0.16)</td>\n",
       "      <td>amazing (0.65)</td>\n",
       "      <td>work (0.33)</td>\n",
       "      <td>running_time (0.08)</td>\n",
       "      <td>humour (0.21)</td>\n",
       "      <td>supporting_cast (0.18)</td>\n",
       "      <td>video (0.25)</td>\n",
       "      <td>sequence (0.13)</td>\n",
       "      <td>complex (0.16)</td>\n",
       "      <td>took (0.22)</td>\n",
       "    </tr>\n",
       "    <tr>\n",
       "      <th>9</th>\n",
       "      <td>really_liked (0.16)</td>\n",
       "      <td>incredible (0.59)</td>\n",
       "      <td>highly_recommend (0.28)</td>\n",
       "      <td>cared (0.08)</td>\n",
       "      <td>one_liner (0.17)</td>\n",
       "      <td>shine (0.17)</td>\n",
       "      <td>theater (0.21)</td>\n",
       "      <td>edited (0.11)</td>\n",
       "      <td>dealing (0.16)</td>\n",
       "      <td>weekend (0.21)</td>\n",
       "    </tr>\n",
       "  </tbody>\n",
       "</table>\n",
       "</div>"
      ],
      "text/plain": [
       "                    92                 67                       86  \\\n",
       "0         loved (1.27)       great (2.48)            disney (0.89)   \n",
       "1          time (0.84)   excellent (1.42)              film (0.68)   \n",
       "2    well_worth (0.67)    wonderful (1.3)      entertaining (0.66)   \n",
       "3           fan (0.55)        song (0.96)        definitely (0.54)   \n",
       "4          wish (0.28)   brilliant (0.83)           special (0.39)   \n",
       "5         liked (0.23)     perfect (0.75)            cinema (0.36)   \n",
       "6       enjoyed (0.21)   beautiful (0.68)      particularly (0.35)   \n",
       "7          seen (0.17)  soundtrack (0.67)           classic (0.33)   \n",
       "8      buy_copy (0.16)     amazing (0.65)              work (0.33)   \n",
       "9  really_liked (0.16)  incredible (0.59)  highly_recommend (0.28)   \n",
       "\n",
       "                    48                99                      87  \\\n",
       "0       thought (0.17)       game (1.77)      performance (1.36)   \n",
       "1        people (0.16)   hilarious (0.5)              role (0.9)   \n",
       "2       exactly (0.13)     comedy (0.43)             star (0.55)   \n",
       "3          folk (0.12)      scifi (0.43)             play (0.46)   \n",
       "4       shocked (0.11)        show (0.4)          playing (0.39)   \n",
       "5  happy_ending (0.11)      humor (0.28)        great_job (0.31)   \n",
       "6       wanting (0.09)      short (0.24)            usual (0.25)   \n",
       "7       figured (0.08)     clever (0.23)        rest_cast (0.18)   \n",
       "8  running_time (0.08)     humour (0.21)  supporting_cast (0.18)   \n",
       "9         cared (0.08)  one_liner (0.17)            shine (0.17)   \n",
       "\n",
       "                     10                31                 17              95  \n",
       "0             dvd (0.7)       real (0.65)      feeling (0.6)      year (0.8)  \n",
       "1           hope (0.39)       often (0.4)        feel (0.54)    night (0.43)  \n",
       "2        channel (0.37)     moving (0.35)     message (0.43)      day (0.39)  \n",
       "3          found (0.34)     filmed (0.21)     reality (0.34)    lived (0.35)  \n",
       "4            buy (0.33)        top (0.17)        theme (0.3)   memory (0.29)  \n",
       "5           glad (0.31)       main (0.15)       issue (0.21)   future (0.26)  \n",
       "6  film_festival (0.27)  character (0.15)     society (0.18)     grew (0.25)  \n",
       "7      first_saw (0.25)    segment (0.13)  importance (0.17)     last (0.25)  \n",
       "8          video (0.25)   sequence (0.13)     complex (0.16)     took (0.22)  \n",
       "9        theater (0.21)     edited (0.11)     dealing (0.16)  weekend (0.21)  "
      ]
     },
     "execution_count": 144,
     "metadata": {},
     "output_type": "execute_result"
    }
   ],
   "source": [
    "c1_t"
   ]
  },
  {
   "cell_type": "code",
   "execution_count": 145,
   "metadata": {},
   "outputs": [
    {
     "data": {
      "text/html": [
       "<div>\n",
       "<style scoped>\n",
       "    .dataframe tbody tr th:only-of-type {\n",
       "        vertical-align: middle;\n",
       "    }\n",
       "\n",
       "    .dataframe tbody tr th {\n",
       "        vertical-align: top;\n",
       "    }\n",
       "\n",
       "    .dataframe thead th {\n",
       "        text-align: right;\n",
       "    }\n",
       "</style>\n",
       "<table border=\"1\" class=\"dataframe\">\n",
       "  <thead>\n",
       "    <tr style=\"text-align: right;\">\n",
       "      <th></th>\n",
       "      <th>28</th>\n",
       "      <th>92</th>\n",
       "      <th>48</th>\n",
       "      <th>89</th>\n",
       "      <th>49</th>\n",
       "      <th>19</th>\n",
       "      <th>31</th>\n",
       "      <th>42</th>\n",
       "      <th>82</th>\n",
       "      <th>86</th>\n",
       "    </tr>\n",
       "  </thead>\n",
       "  <tbody>\n",
       "    <tr>\n",
       "      <th>0</th>\n",
       "      <td>bad (5.31)</td>\n",
       "      <td>movie (2.33)</td>\n",
       "      <td>hour (0.74)</td>\n",
       "      <td>worst (2.48)</td>\n",
       "      <td>even (1.48)</td>\n",
       "      <td>really (0.94)</td>\n",
       "      <td>shot (0.67)</td>\n",
       "      <td>could (1.22)</td>\n",
       "      <td>made (0.83)</td>\n",
       "      <td>better (1.0)</td>\n",
       "    </tr>\n",
       "    <tr>\n",
       "      <th>1</th>\n",
       "      <td>stupid (1.61)</td>\n",
       "      <td>rating (0.84)</td>\n",
       "      <td>minute (0.72)</td>\n",
       "      <td>ever_seen (0.95)</td>\n",
       "      <td>enough (0.72)</td>\n",
       "      <td>maybe (0.61)</td>\n",
       "      <td>scene (0.54)</td>\n",
       "      <td>instead (1.03)</td>\n",
       "      <td>supposed (0.74)</td>\n",
       "      <td>original (0.33)</td>\n",
       "    </tr>\n",
       "    <tr>\n",
       "      <th>2</th>\n",
       "      <td>plot (1.52)</td>\n",
       "      <td>say (0.72)</td>\n",
       "      <td>anyone (0.61)</td>\n",
       "      <td>one_worst (0.88)</td>\n",
       "      <td>idea (0.59)</td>\n",
       "      <td>mean (0.42)</td>\n",
       "      <td>camera (0.51)</td>\n",
       "      <td>least (0.77)</td>\n",
       "      <td>making (0.43)</td>\n",
       "      <td>overall (0.32)</td>\n",
       "    </tr>\n",
       "    <tr>\n",
       "      <th>3</th>\n",
       "      <td>boring (1.38)</td>\n",
       "      <td>watching (0.52)</td>\n",
       "      <td>bored (0.58)</td>\n",
       "      <td>ever (0.74)</td>\n",
       "      <td>premise (0.45)</td>\n",
       "      <td>guess (0.38)</td>\n",
       "      <td>numerous (0.27)</td>\n",
       "      <td>nothing (0.76)</td>\n",
       "      <td>wrong (0.4)</td>\n",
       "      <td>serious (0.28)</td>\n",
       "    </tr>\n",
       "    <tr>\n",
       "      <th>4</th>\n",
       "      <td>awful (1.34)</td>\n",
       "      <td>review (0.52)</td>\n",
       "      <td>end (0.5)</td>\n",
       "      <td>rent (0.7)</td>\n",
       "      <td>disappointing (0.36)</td>\n",
       "      <td>like (0.37)</td>\n",
       "      <td>main_character (0.27)</td>\n",
       "      <td>anything (0.56)</td>\n",
       "      <td>line (0.27)</td>\n",
       "      <td>produced (0.14)</td>\n",
       "    </tr>\n",
       "    <tr>\n",
       "      <th>5</th>\n",
       "      <td>terrible (1.24)</td>\n",
       "      <td>reason (0.47)</td>\n",
       "      <td>depressing (0.49)</td>\n",
       "      <td>something (0.68)</td>\n",
       "      <td>producer (0.36)</td>\n",
       "      <td>someone (0.35)</td>\n",
       "      <td>echo (0.19)</td>\n",
       "      <td>either (0.46)</td>\n",
       "      <td>meant (0.17)</td>\n",
       "      <td>standard (0.08)</td>\n",
       "    </tr>\n",
       "    <tr>\n",
       "      <th>6</th>\n",
       "      <td>poor (1.12)</td>\n",
       "      <td>disappointed (0.34)</td>\n",
       "      <td>actually (0.47)</td>\n",
       "      <td>waste (0.65)</td>\n",
       "      <td>unfortunately (0.35)</td>\n",
       "      <td>seriously (0.32)</td>\n",
       "      <td>example (0.18)</td>\n",
       "      <td>gave (0.42)</td>\n",
       "      <td>looking (0.17)</td>\n",
       "      <td>bollywood (0.08)</td>\n",
       "    </tr>\n",
       "    <tr>\n",
       "      <th>7</th>\n",
       "      <td>horrible (0.93)</td>\n",
       "      <td>comment (0.34)</td>\n",
       "      <td>going (0.46)</td>\n",
       "      <td>waste_time (0.61)</td>\n",
       "      <td>stereotype (0.29)</td>\n",
       "      <td>anymore (0.26)</td>\n",
       "      <td>relentlessly (0.17)</td>\n",
       "      <td>laugh (0.34)</td>\n",
       "      <td>ruin (0.15)</td>\n",
       "      <td>worked (0.07)</td>\n",
       "    </tr>\n",
       "    <tr>\n",
       "      <th>8</th>\n",
       "      <td>worse (0.72)</td>\n",
       "      <td>saying (0.33)</td>\n",
       "      <td>make_sense (0.45)</td>\n",
       "      <td>ever_made (0.56)</td>\n",
       "      <td>seems (0.27)</td>\n",
       "      <td>hate (0.24)</td>\n",
       "      <td>clip (0.16)</td>\n",
       "      <td>cool (0.32)</td>\n",
       "      <td>appeal (0.13)</td>\n",
       "      <td>equally (0.07)</td>\n",
       "    </tr>\n",
       "    <tr>\n",
       "      <th>9</th>\n",
       "      <td>dialog (0.63)</td>\n",
       "      <td>hated (0.32)</td>\n",
       "      <td>seemed (0.45)</td>\n",
       "      <td>recommend (0.48)</td>\n",
       "      <td>project (0.27)</td>\n",
       "      <td>hell (0.24)</td>\n",
       "      <td>particular (0.16)</td>\n",
       "      <td>seagal (0.29)</td>\n",
       "      <td>describe (0.12)</td>\n",
       "      <td>dubbed (0.07)</td>\n",
       "    </tr>\n",
       "  </tbody>\n",
       "</table>\n",
       "</div>"
      ],
      "text/plain": [
       "                28                   92                 48                 89  \\\n",
       "0       bad (5.31)         movie (2.33)        hour (0.74)       worst (2.48)   \n",
       "1    stupid (1.61)        rating (0.84)      minute (0.72)   ever_seen (0.95)   \n",
       "2      plot (1.52)           say (0.72)      anyone (0.61)   one_worst (0.88)   \n",
       "3    boring (1.38)      watching (0.52)       bored (0.58)        ever (0.74)   \n",
       "4     awful (1.34)        review (0.52)          end (0.5)         rent (0.7)   \n",
       "5  terrible (1.24)        reason (0.47)  depressing (0.49)   something (0.68)   \n",
       "6      poor (1.12)  disappointed (0.34)    actually (0.47)       waste (0.65)   \n",
       "7  horrible (0.93)       comment (0.34)       going (0.46)  waste_time (0.61)   \n",
       "8     worse (0.72)        saying (0.33)  make_sense (0.45)   ever_made (0.56)   \n",
       "9    dialog (0.63)         hated (0.32)      seemed (0.45)   recommend (0.48)   \n",
       "\n",
       "                     49                19                     31  \\\n",
       "0           even (1.48)     really (0.94)            shot (0.67)   \n",
       "1         enough (0.72)      maybe (0.61)           scene (0.54)   \n",
       "2           idea (0.59)       mean (0.42)          camera (0.51)   \n",
       "3        premise (0.45)      guess (0.38)        numerous (0.27)   \n",
       "4  disappointing (0.36)       like (0.37)  main_character (0.27)   \n",
       "5       producer (0.36)    someone (0.35)            echo (0.19)   \n",
       "6  unfortunately (0.35)  seriously (0.32)         example (0.18)   \n",
       "7     stereotype (0.29)    anymore (0.26)    relentlessly (0.17)   \n",
       "8          seems (0.27)       hate (0.24)            clip (0.16)   \n",
       "9        project (0.27)       hell (0.24)      particular (0.16)   \n",
       "\n",
       "                42               82                86  \n",
       "0     could (1.22)      made (0.83)      better (1.0)  \n",
       "1   instead (1.03)  supposed (0.74)   original (0.33)  \n",
       "2     least (0.77)    making (0.43)    overall (0.32)  \n",
       "3   nothing (0.76)      wrong (0.4)    serious (0.28)  \n",
       "4  anything (0.56)      line (0.27)   produced (0.14)  \n",
       "5    either (0.46)     meant (0.17)   standard (0.08)  \n",
       "6      gave (0.42)   looking (0.17)  bollywood (0.08)  \n",
       "7     laugh (0.34)      ruin (0.15)     worked (0.07)  \n",
       "8      cool (0.32)    appeal (0.13)    equally (0.07)  \n",
       "9    seagal (0.29)  describe (0.12)     dubbed (0.07)  "
      ]
     },
     "execution_count": 145,
     "metadata": {},
     "output_type": "execute_result"
    }
   ],
   "source": [
    "c2_t"
   ]
  },
  {
   "cell_type": "markdown",
   "metadata": {},
   "source": [
    "## 5 Reduced Dimension Inputs"
   ]
  },
  {
   "cell_type": "markdown",
   "metadata": {},
   "source": [
    "### 5.1 UMAP"
   ]
  },
  {
   "cell_type": "code",
   "execution_count": null,
   "metadata": {},
   "outputs": [],
   "source": [
    "### TODO: lcwmd with UMAP"
   ]
  },
  {
   "cell_type": "code",
   "execution_count": 170,
   "metadata": {},
   "outputs": [
    {
     "name": "stdout",
     "output_type": "stream",
     "text": [
      "Calculated distances between approximately 0 documents.\n",
      "Calculated distances between approximately 100 documents.\n",
      "Calculated distances between approximately 200 documents.\n",
      "Calculated distances between approximately 300 documents.\n",
      "Calculated distances between approximately 400 documents.\n",
      "CPU times: user 1min 34s, sys: 4.71 s, total: 1min 39s\n",
      "Wall time: 1min 30s\n"
     ]
    }
   ],
   "source": [
    "%%time \n",
    "\n",
    "wmd_pairs_flow_uvecs = WMDPairs(pos_docs,neg_docs,pairs,E_umap,idx2word)\n",
    "wmd_pairs_flow_uvecs.get_distances(return_flow = True, \n",
    "                               sum_clusters = True, \n",
    "                               w2c = word2cluster_u, \n",
    "                               c2w = cluster2words_u,\n",
    "                               thread = True)"
   ]
  },
  {
   "cell_type": "markdown",
   "metadata": {},
   "source": [
    "### 5.2 T-SNE"
   ]
  },
  {
   "cell_type": "markdown",
   "metadata": {},
   "source": [
    "## 6 Statistical Models"
   ]
  },
  {
   "cell_type": "code",
   "execution_count": 234,
   "metadata": {},
   "outputs": [],
   "source": [
    "import statsmodels.api as sm"
   ]
  },
  {
   "cell_type": "code",
   "execution_count": 317,
   "metadata": {},
   "outputs": [
    {
     "data": {
      "text/plain": [
       "0.39088"
      ]
     },
     "execution_count": 317,
     "metadata": {},
     "output_type": "execute_result"
    }
   ],
   "source": [
    "np.max(wmd_pairs_flow.X1_feat)"
   ]
  },
  {
   "cell_type": "code",
   "execution_count": 276,
   "metadata": {},
   "outputs": [],
   "source": [
    "feats = np.copy(wmd_pairs_flow.X1_feat)"
   ]
  },
  {
   "cell_type": "code",
   "execution_count": 277,
   "metadata": {},
   "outputs": [
    {
     "data": {
      "text/plain": [
       "array([[1., 0., 0., ..., 0., 0., 1.],\n",
       "       [0., 1., 0., ..., 1., 1., 1.],\n",
       "       [0., 0., 0., ..., 0., 1., 0.],\n",
       "       ...,\n",
       "       [0., 1., 0., ..., 1., 1., 0.],\n",
       "       [0., 0., 0., ..., 1., 0., 0.],\n",
       "       [0., 1., 1., ..., 1., 1., 1.]])"
      ]
     },
     "execution_count": 277,
     "metadata": {},
     "output_type": "execute_result"
    }
   ],
   "source": [
    "feats[feats>0] = 1\n",
    "feats"
   ]
  },
  {
   "cell_type": "code",
   "execution_count": 258,
   "metadata": {},
   "outputs": [
    {
     "data": {
      "text/plain": [
       "39.0"
      ]
     },
     "execution_count": 258,
     "metadata": {},
     "output_type": "execute_result"
    }
   ],
   "source": [
    "np.sum(feats[0,])"
   ]
  },
  {
   "cell_type": "code",
   "execution_count": 279,
   "metadata": {},
   "outputs": [],
   "source": [
    "ols = sm.OLS(np.sum(wmd_pairs_flow.X1_feat, axis=1), feats)\n",
    "res = ols.fit()"
   ]
  },
  {
   "cell_type": "code",
   "execution_count": 289,
   "metadata": {},
   "outputs": [],
   "source": [
    "params = list(np.round(res.params, 3))"
   ]
  },
  {
   "cell_type": "code",
   "execution_count": 309,
   "metadata": {},
   "outputs": [
    {
     "data": {
      "text/plain": [
       "15"
      ]
     },
     "execution_count": 309,
     "metadata": {},
     "output_type": "execute_result"
    }
   ],
   "source": [
    "params.index(sorted(params)[-97])"
   ]
  },
  {
   "cell_type": "code",
   "execution_count": 311,
   "metadata": {},
   "outputs": [
    {
     "data": {
      "text/plain": [
       "0.003"
      ]
     },
     "execution_count": 311,
     "metadata": {},
     "output_type": "execute_result"
    }
   ],
   "source": [
    "params[97]"
   ]
  },
  {
   "cell_type": "code",
   "execution_count": 318,
   "metadata": {},
   "outputs": [
    {
     "name": "stdout",
     "output_type": "stream",
     "text": [
      "['addressed', 'allowed', 'apparent', 'avoids', 'breakdown', 'carefully', 'central', 'central_character', 'change', 'changing', 'choosing', 'chosen', 'claustrophobia', 'clear', 'close', 'closest', 'coincidence', 'comedy_tragedy', 'common', 'complicated', 'concentrate', 'concerned', 'concerning', 'conflict', 'connect', 'connected', 'connecting', 'connection', 'consequently', 'construct', 'contempt', 'continuing', 'conviction', 'dealt', 'despicable', 'despite_fact', 'detached', 'develop', 'developed', 'developing', 'development', 'develops', 'device', 'dignity', 'disparate', 'dominate', 'dramatically', 'drawn', 'eliminated', 'encountered', 'establish', 'established', 'establishing', 'event', 'event_unfold', 'evolve', 'evolves', 'explicitly', 'explored', 'fall_apart', 'feel_sympathy', 'fictional', 'focus', 'focused', 'focusing', 'follow', 'following', 'form', 'forward', 'foundation', 'framework', 'gap', 'general', 'glimpse', 'gradual', 'hint', 'hinted', 'hopeless', 'identified', 'ignoring', 'illustrate', 'illustrates', 'incident', 'increasingly', 'inevitable', 'inevitably', 'initial', 'interact', 'interaction', 'interest', 'intertwine', 'intertwined', 'interwoven', 'ironically', 'key', 'laid', 'larger', 'lead', 'leading', 'link', 'linked', 'literal', 'love_triangle', 'madness', 'major', 'manifest', 'metaphorical', 'metaphysical', 'missing', 'misunderstood', 'namely', 'neglected', 'never_fully', 'observer', 'occur', 'occurrence', 'occurring', 'occurs', 'offered', 'onesided', 'ongoing', 'opposed', 'ordinary', 'origin', 'outcome', 'outrage', 'parallel', 'participant', 'past', 'past_present', 'pattern', 'physical', 'pivotal', 'possibility', 'present', 'primary', 'progress', 'protagonist', 'puzzle', 'quickly', 'rapidly', 'reflected', 'reflecting', 'reflection', 'regarding', 'relation', 'relentless', 'remain', 'remains', 'resolve', 'resolved', 'resulting', 'reveal', 'revealed', 'revelation', 'schizophrenic', 'seemingly', 'selected', 'sens', 'separate', 'serf', 'serve', 'served', 'shaped', 'showing', 'showing_u', 'shown', 'significance', 'slowly', 'solved', 'sordid', 'span', 'story_told', 'story_unfolds', 'strength', 'strong', 'successfully', 'surface', 'taking_place', 'telling_story', 'tendency', 'thread', 'timeline', 'transcend', 'treatment', 'triumph', 'turning_point', 'unclear', 'unexplained', 'unfolding', 'unfolds', 'unlikely', 'unravel', 'unsuccessful', 'us', 'use', 'used', 'using', 'weakness', 'within']\n"
     ]
    }
   ],
   "source": [
    "print(cluster2words[97])"
   ]
  },
  {
   "cell_type": "markdown",
   "metadata": {},
   "source": [
    "## Appendix: Many-to-many WMD"
   ]
  },
  {
   "cell_type": "markdown",
   "metadata": {},
   "source": [
    "This was a first attempt to do the flows from words between many documents, without first filtering using Gale-Shapeley. However, this proved too inefficient. As you can see looking at the CPU times, it is very slow even with extremely small samples and the time complexity is quadratic (or worse?), meaning it rapidly gets even worse as the sample size increases."
   ]
  },
  {
   "cell_type": "code",
   "execution_count": 155,
   "metadata": {},
   "outputs": [
    {
     "name": "stdout",
     "output_type": "stream",
     "text": [
      "CPU times: user 1min 48s, sys: 12.7 s, total: 2min 1s\n",
      "Wall time: 50 s\n"
     ]
    }
   ],
   "source": [
    "%time m2m_distances = WMDManyToMany(pos_docs[:20], neg_docs[:20],E,idx2word).get_distances(return_flow = False)"
   ]
  },
  {
   "cell_type": "code",
   "execution_count": 156,
   "metadata": {},
   "outputs": [
    {
     "name": "stdout",
     "output_type": "stream",
     "text": [
      "CPU times: user 1min 52s, sys: 13.5 s, total: 2min 5s\n",
      "Wall time: 51.4 s\n"
     ]
    }
   ],
   "source": [
    "%time m2m_distances_flow, wc_X1, wc_X2 = WMDManyToMany(pos_docs[:20],neg_docs[:20],E,idx2word).get_distances(return_flow = True)"
   ]
  },
  {
   "cell_type": "code",
   "execution_count": 157,
   "metadata": {},
   "outputs": [
    {
     "data": {
      "text/plain": [
       "{'karen': 8.69223,\n",
       " 'wrenching': 8.31882,\n",
       " 'carpenter': 7.468960000000001,\n",
       " 'laughter': 7.467879999999999,\n",
       " 'liked': 6.864090000000003,\n",
       " 'mom': 6.791519999999999,\n",
       " 'gut': 6.759419999999999,\n",
       " 'love': 6.551409999999997,\n",
       " 'camp': 6.533080000000001,\n",
       " 'hr': 6.1393699999999995}"
      ]
     },
     "execution_count": 157,
     "metadata": {},
     "output_type": "execute_result"
    }
   ],
   "source": [
    "{k: v for k, v in sorted(wc_X1.items(), key=lambda item: item[1], reverse=True)[:10]}"
   ]
  },
  {
   "cell_type": "code",
   "execution_count": 158,
   "metadata": {},
   "outputs": [
    {
     "data": {
      "text/plain": [
       "{'hopper': 8.372459999999998,\n",
       " 'jake': 7.63837,\n",
       " 'movie': 7.267059999999995,\n",
       " 'film': 6.936379999999998,\n",
       " 'shakespeare': 5.99276,\n",
       " 'oddness': 5.53033,\n",
       " 'terrible': 4.943440000000001,\n",
       " 'parent': 4.751790000000001,\n",
       " 'actor': 4.672620000000001,\n",
       " 'bad': 4.430020000000002}"
      ]
     },
     "execution_count": 158,
     "metadata": {},
     "output_type": "execute_result"
    }
   ],
   "source": [
    "{k: v for k, v in sorted(wc_X2.items(), key=lambda item: item[1], reverse=True)[:10]}"
   ]
  },
  {
   "cell_type": "code",
   "execution_count": null,
   "metadata": {},
   "outputs": [],
   "source": []
  }
 ],
 "metadata": {
  "kernelspec": {
   "display_name": "venv-fwmd",
   "language": "python",
   "name": "venv-fwmd"
  },
  "language_info": {
   "codemirror_mode": {
    "name": "ipython",
    "version": 3
   },
   "file_extension": ".py",
   "mimetype": "text/x-python",
   "name": "python",
   "nbconvert_exporter": "python",
   "pygments_lexer": "ipython3",
   "version": "3.8.3"
  }
 },
 "nbformat": 4,
 "nbformat_minor": 4
}

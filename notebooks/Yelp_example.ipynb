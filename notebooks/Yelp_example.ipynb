{
 "cells": [
  {
   "cell_type": "code",
   "execution_count": 1,
   "metadata": {},
   "outputs": [],
   "source": [
    "import os\n",
    "import sys\n",
    "\n",
    "root_dir = os.path.join(os.getcwd(), '..')\n",
    "sys.path.append(root_dir)"
   ]
  },
  {
   "cell_type": "code",
   "execution_count": 92,
   "metadata": {},
   "outputs": [
    {
     "name": "stdout",
     "output_type": "stream",
     "text": [
      "The autoreload extension is already loaded. To reload it, use:\n",
      "  %reload_ext autoreload\n"
     ]
    }
   ],
   "source": [
    "from collections import defaultdict\n",
    "from flow_wmd.documents import Document\n",
    "from flow_wmd.gale_shapeley import Matcher\n",
    "from flow_wmd.models import LC_RWMD, WMD, WMDManyToMany, WMDPairs\n",
    "from flow_wmd.utils import *\n",
    "\n",
    "from gensim.models import KeyedVectors\n",
    "from nltk.corpus import stopwords\n",
    "from nltk.tokenize import ToktokTokenizer\n",
    "from random import shuffle\n",
    "from scipy.spatial.distance import is_valid_dm, cdist\n",
    "from sklearn.decomposition import PCA\n",
    "from sklearn.feature_extraction.text import TfidfVectorizer\n",
    "from sklearn.manifold import TSNE\n",
    "from sklearn.metrics import silhouette_score\n",
    "from sklearn import cluster\n",
    "\n",
    "import matplotlib.pyplot as plt\n",
    "import numpy as np\n",
    "import pandas as pd\n",
    "import random\n",
    "import re\n",
    "import seaborn as sns\n",
    "import umap\n",
    "import umap.plot\n",
    "\n",
    "%load_ext autoreload\n",
    "%autoreload 2\n",
    "\n",
    "random.seed(42)"
   ]
  },
  {
   "cell_type": "markdown",
   "metadata": {},
   "source": [
    "## 1. Prepare IMDB data"
   ]
  },
  {
   "cell_type": "markdown",
   "metadata": {},
   "source": [
    "### 1.1 Load data and stopwords."
   ]
  },
  {
   "cell_type": "code",
   "execution_count": 3,
   "metadata": {},
   "outputs": [
    {
     "name": "stdout",
     "output_type": "stream",
     "text": [
      "CPU times: user 2min 54s, sys: 10.5 s, total: 3min 5s\n",
      "Wall time: 3min 9s\n"
     ]
    }
   ],
   "source": [
    "%%time\n",
    "\n",
    "PATH = \"../data/yelp_dataset/\"\n",
    "yelp_data = []\n",
    "r_dtypes = {\"review_id\":str,\n",
    "            \"user_id\":str,\n",
    "            \"business_id\":str,\n",
    "            \"stars\": np.int32, \n",
    "            \"date\":str,\n",
    "            \"text\":str,\n",
    "            \"useful\": np.int32, \n",
    "            \"funny\": np.int32,\n",
    "            \"cool\": np.int32}\n",
    "drop = ['review_id', 'user_id', 'useful', 'funny', 'cool']\n",
    "query = \"date >= '2017-12-01' and (stars==1 or stars ==5)\"\n",
    "\n",
    "with open(f\"{PATH}yelp_academic_dataset_review.json\", \"r\") as f:\n",
    "    reader = pd.read_json(f, orient=\"records\", lines=True, dtype=r_dtypes, chunksize=1000)\n",
    "    for chunk in reader:\n",
    "        reduced_chunk = chunk.drop(columns=drop).query(query)\n",
    "        yelp_data.append(reduced_chunk)\n",
    "    \n",
    "yelp_data = pd.concat(yelp_data, ignore_index=True)\n"
   ]
  },
  {
   "cell_type": "code",
   "execution_count": 4,
   "metadata": {},
   "outputs": [
    {
     "data": {
      "text/plain": [
       "(1948607, 4)"
      ]
     },
     "execution_count": 4,
     "metadata": {},
     "output_type": "execute_result"
    }
   ],
   "source": [
    "yelp_data.shape"
   ]
  },
  {
   "cell_type": "code",
   "execution_count": 5,
   "metadata": {},
   "outputs": [
    {
     "data": {
      "text/plain": [
       "(160585, 14)"
      ]
     },
     "execution_count": 5,
     "metadata": {},
     "output_type": "execute_result"
    }
   ],
   "source": [
    "yelp_business = pd.read_json(f\"{PATH}yelp_academic_dataset_business.json\", orient=\"records\", lines=True)\n",
    "yelp_business.shape"
   ]
  },
  {
   "cell_type": "code",
   "execution_count": 6,
   "metadata": {},
   "outputs": [
    {
     "data": {
      "text/plain": [
       "(30815, 14)"
      ]
     },
     "execution_count": 6,
     "metadata": {},
     "output_type": "execute_result"
    }
   ],
   "source": [
    "yelp_business = yelp_business[yelp_business.city.isin([\"Portland\", \"Atlanta\"])]\n",
    "yelp_business.shape"
   ]
  },
  {
   "cell_type": "code",
   "execution_count": 7,
   "metadata": {},
   "outputs": [],
   "source": [
    "yelp_merged = yelp_data.merge(yelp_business, on='business_id')"
   ]
  },
  {
   "cell_type": "code",
   "execution_count": 8,
   "metadata": {},
   "outputs": [
    {
     "data": {
      "text/plain": [
       "(451826, 17)"
      ]
     },
     "execution_count": 8,
     "metadata": {},
     "output_type": "execute_result"
    }
   ],
   "source": [
    "yelp_merged.shape"
   ]
  },
  {
   "cell_type": "code",
   "execution_count": 9,
   "metadata": {},
   "outputs": [],
   "source": [
    "yelp_merged = yelp_merged.rename(columns={\"stars_x\":\"stars\"})"
   ]
  },
  {
   "cell_type": "code",
   "execution_count": 10,
   "metadata": {},
   "outputs": [
    {
     "data": {
      "text/plain": [
       "(1000, 18)"
      ]
     },
     "execution_count": 10,
     "metadata": {},
     "output_type": "execute_result"
    }
   ],
   "source": [
    "s_size = 250\n",
    "rs = 42\n",
    "sample = yelp_merged.groupby([\"city\", \"stars\"]).sample(n=s_size, random_state=rs).reset_index()\n",
    "sample.shape"
   ]
  },
  {
   "cell_type": "code",
   "execution_count": 11,
   "metadata": {},
   "outputs": [],
   "source": [
    "stopword_list=stopwords.words('english')"
   ]
  },
  {
   "cell_type": "markdown",
   "metadata": {},
   "source": [
    "### 1.2 Remove special formatting and stopwords"
   ]
  },
  {
   "cell_type": "code",
   "execution_count": 12,
   "metadata": {},
   "outputs": [],
   "source": [
    "tokenizer = ToktokTokenizer()"
   ]
  },
  {
   "cell_type": "markdown",
   "metadata": {},
   "source": [
    "Remove stopwords before denoising, lemmatizing and removing special characters."
   ]
  },
  {
   "cell_type": "code",
   "execution_count": 22,
   "metadata": {},
   "outputs": [
    {
     "name": "stdout",
     "output_type": "stream",
     "text": [
      "CPU times: user 321 ms, sys: 6.11 ms, total: 327 ms\n",
      "Wall time: 327 ms\n"
     ]
    }
   ],
   "source": [
    "%%time \n",
    "\n",
    "sample['review_clean']= [remove_stopwords(r, stopword_list, tokenizer) for r in sample['text']]"
   ]
  },
  {
   "cell_type": "markdown",
   "metadata": {},
   "source": [
    "Denoise, remove special characters, lemmatize."
   ]
  },
  {
   "cell_type": "code",
   "execution_count": 23,
   "metadata": {},
   "outputs": [
    {
     "name": "stdout",
     "output_type": "stream",
     "text": [
      "CPU times: user 255 ms, sys: 13.8 ms, total: 269 ms\n",
      "Wall time: 270 ms\n"
     ]
    }
   ],
   "source": [
    "%%time\n",
    "\n",
    "sample['review_clean']=sample['review_clean'].apply(denoise_text)\n",
    "sample['review_clean']=sample['review_clean'].apply(remove_special_characters)\n",
    "sample['review_clean']=sample['review_clean'].apply(simple_lemmatizer)"
   ]
  },
  {
   "cell_type": "markdown",
   "metadata": {},
   "source": [
    "Remove stopwords again, after other preprocessing."
   ]
  },
  {
   "cell_type": "code",
   "execution_count": 24,
   "metadata": {},
   "outputs": [
    {
     "name": "stdout",
     "output_type": "stream",
     "text": [
      "CPU times: user 202 ms, sys: 3.78 ms, total: 206 ms\n",
      "Wall time: 207 ms\n"
     ]
    }
   ],
   "source": [
    "%%time \n",
    "\n",
    "sample['review_clean']= [remove_stopwords(r, stopword_list, tokenizer) for r in sample['review_clean']]"
   ]
  },
  {
   "cell_type": "markdown",
   "metadata": {},
   "source": [
    "Find phrases."
   ]
  },
  {
   "cell_type": "code",
   "execution_count": 25,
   "metadata": {},
   "outputs": [],
   "source": [
    "PHRASING = True\n",
    "MIN = 500\n",
    "THRESHOLD = 200"
   ]
  },
  {
   "cell_type": "code",
   "execution_count": 28,
   "metadata": {},
   "outputs": [
    {
     "name": "stdout",
     "output_type": "stream",
     "text": [
      "Finding bigrams in data.\n",
      "Finding trigrams in data.\n",
      "CPU times: user 15.9 s, sys: 3.38 s, total: 19.3 s\n",
      "Wall time: 20.1 s\n"
     ]
    }
   ],
   "source": [
    "%%time\n",
    "\n",
    "if PHRASING:\n",
    "    sample['review_clean']= get_phrases([tokenizer.tokenize(i) for i in sample['review_clean']],\n",
    "                                        min_count = MIN, \n",
    "                                        threshold = THRESHOLD,\n",
    "                                        save=False,\n",
    "                                        load=True,\n",
    "                                        PATH=\"../embeddings/\")"
   ]
  },
  {
   "cell_type": "markdown",
   "metadata": {},
   "source": [
    "Data _before_ preprocessing and phrasing."
   ]
  },
  {
   "cell_type": "code",
   "execution_count": 29,
   "metadata": {},
   "outputs": [
    {
     "data": {
      "text/plain": [
       "'Most unprofessional restaurant manager I\\'ve ever dealt with.\\n\\nI ordered a large veggie quesadilla (12$) and my friend got a small chicken quesadilla (6.50$). Upon arrival we realize they are the same size, but mine is cut. \\n\\nI brought this to Jazzy, our server, attention and showed her and she was like yea thats not right. I am happy to pay the 6.50$ for the size of quesadilla I received. \\n\\nThe manager, Rosa, comes to the table and explains that I got a large, it is made with two tortillas. I show her the fold of  single tortilla. Then she says well actually its one 12\" tortilla and my friends was a 10\". I tell her there is no way mine could have been 12\" it is the same diameter as my friends. \\nShe continues that it is large because it has \"more stuffing\". I ask her to bring me a tortilla. She brings both sizes and insists I got a large and says i am paying full price or 2$ off. I insist I\\'m paying menu price for what I received. (6.5$).\\nShe storms off. I take my slice of quesadilla, hold it up to the smaller tortilla and they are the same size. Without hesitation she touches my food with her bare hands and begins to dig inside. To which I state, \"dont touch my food!\" \\n\\nShe took the price off the quesadilla off and told me I am banned from coming back, since she was unable to admit that a kitchen mistake was made and charge me accordingly. She justified the mistake by changing the criteria of \\'large or small\\' 2 times and then touched a patron\\'s food bare handed. \\n\\nToo bad I won\\'t be eating anymore of Jazzy\\'s awesome guacamole.'"
      ]
     },
     "execution_count": 29,
     "metadata": {},
     "output_type": "execute_result"
    }
   ],
   "source": [
    "sample['text'][6]"
   ]
  },
  {
   "cell_type": "markdown",
   "metadata": {},
   "source": [
    "Data _after_ preprocessing and phrasing."
   ]
  },
  {
   "cell_type": "code",
   "execution_count": 30,
   "metadata": {},
   "outputs": [
    {
     "data": {
      "text/plain": [
       "'unprofessional restaurant manager ever_dealt ordered large veggie quesadilla friend got small chicken quesadilla upon_arrival realize size mine cut brought jazzy server attention showed like yea thats right happy pay size quesadilla received manager rosa come table explains got large made two tortilla show fold single tortilla say well actually one tortilla friend tell way mine could diameter friend continues large stuffing ask bring tortilla brings size insists got large say paying full price insist paying menu price received storm take slice quesadilla hold smaller tortilla size without_hesitation touch food bare_hand begin dig inside state dont touch food took price quesadilla told banned coming_back since unable admit kitchen mistake made charge accordingly justified mistake changing criterion large small time touched patron food bare_handed bad eating anymore jazzy awesome guacamole'"
      ]
     },
     "execution_count": 30,
     "metadata": {},
     "output_type": "execute_result"
    }
   ],
   "source": [
    "#sample['review_clean'][0]\n",
    "\" \".join(sample['review_clean'][6])"
   ]
  },
  {
   "cell_type": "code",
   "execution_count": 31,
   "metadata": {},
   "outputs": [],
   "source": [
    "sample[\"sentiment\"] = ['positive' if s == 5 else 'negative' for s in sample['stars']]"
   ]
  },
  {
   "cell_type": "code",
   "execution_count": 32,
   "metadata": {},
   "outputs": [
    {
     "data": {
      "text/html": [
       "<div>\n",
       "<style scoped>\n",
       "    .dataframe tbody tr th:only-of-type {\n",
       "        vertical-align: middle;\n",
       "    }\n",
       "\n",
       "    .dataframe tbody tr th {\n",
       "        vertical-align: top;\n",
       "    }\n",
       "\n",
       "    .dataframe thead th {\n",
       "        text-align: right;\n",
       "    }\n",
       "</style>\n",
       "<table border=\"1\" class=\"dataframe\">\n",
       "  <thead>\n",
       "    <tr style=\"text-align: right;\">\n",
       "      <th></th>\n",
       "      <th>sentiment</th>\n",
       "      <th>stars</th>\n",
       "    </tr>\n",
       "  </thead>\n",
       "  <tbody>\n",
       "    <tr>\n",
       "      <th>0</th>\n",
       "      <td>negative</td>\n",
       "      <td>1</td>\n",
       "    </tr>\n",
       "    <tr>\n",
       "      <th>1</th>\n",
       "      <td>negative</td>\n",
       "      <td>1</td>\n",
       "    </tr>\n",
       "    <tr>\n",
       "      <th>2</th>\n",
       "      <td>negative</td>\n",
       "      <td>1</td>\n",
       "    </tr>\n",
       "    <tr>\n",
       "      <th>3</th>\n",
       "      <td>negative</td>\n",
       "      <td>1</td>\n",
       "    </tr>\n",
       "    <tr>\n",
       "      <th>4</th>\n",
       "      <td>negative</td>\n",
       "      <td>1</td>\n",
       "    </tr>\n",
       "    <tr>\n",
       "      <th>...</th>\n",
       "      <td>...</td>\n",
       "      <td>...</td>\n",
       "    </tr>\n",
       "    <tr>\n",
       "      <th>995</th>\n",
       "      <td>positive</td>\n",
       "      <td>5</td>\n",
       "    </tr>\n",
       "    <tr>\n",
       "      <th>996</th>\n",
       "      <td>positive</td>\n",
       "      <td>5</td>\n",
       "    </tr>\n",
       "    <tr>\n",
       "      <th>997</th>\n",
       "      <td>positive</td>\n",
       "      <td>5</td>\n",
       "    </tr>\n",
       "    <tr>\n",
       "      <th>998</th>\n",
       "      <td>positive</td>\n",
       "      <td>5</td>\n",
       "    </tr>\n",
       "    <tr>\n",
       "      <th>999</th>\n",
       "      <td>positive</td>\n",
       "      <td>5</td>\n",
       "    </tr>\n",
       "  </tbody>\n",
       "</table>\n",
       "<p>1000 rows × 2 columns</p>\n",
       "</div>"
      ],
      "text/plain": [
       "    sentiment  stars\n",
       "0    negative      1\n",
       "1    negative      1\n",
       "2    negative      1\n",
       "3    negative      1\n",
       "4    negative      1\n",
       "..        ...    ...\n",
       "995  positive      5\n",
       "996  positive      5\n",
       "997  positive      5\n",
       "998  positive      5\n",
       "999  positive      5\n",
       "\n",
       "[1000 rows x 2 columns]"
      ]
     },
     "execution_count": 32,
     "metadata": {},
     "output_type": "execute_result"
    }
   ],
   "source": [
    "sample[[\"sentiment\", \"stars\"]]"
   ]
  },
  {
   "cell_type": "code",
   "execution_count": 33,
   "metadata": {},
   "outputs": [
    {
     "data": {
      "text/html": [
       "<div>\n",
       "<style scoped>\n",
       "    .dataframe tbody tr th:only-of-type {\n",
       "        vertical-align: middle;\n",
       "    }\n",
       "\n",
       "    .dataframe tbody tr th {\n",
       "        vertical-align: top;\n",
       "    }\n",
       "\n",
       "    .dataframe thead th {\n",
       "        text-align: right;\n",
       "    }\n",
       "</style>\n",
       "<table border=\"1\" class=\"dataframe\">\n",
       "  <thead>\n",
       "    <tr style=\"text-align: right;\">\n",
       "      <th></th>\n",
       "      <th>index</th>\n",
       "      <th>business_id</th>\n",
       "      <th>stars</th>\n",
       "      <th>text</th>\n",
       "      <th>date</th>\n",
       "      <th>name</th>\n",
       "      <th>address</th>\n",
       "      <th>city</th>\n",
       "      <th>state</th>\n",
       "      <th>postal_code</th>\n",
       "      <th>latitude</th>\n",
       "      <th>longitude</th>\n",
       "      <th>stars_y</th>\n",
       "      <th>review_count</th>\n",
       "      <th>is_open</th>\n",
       "      <th>attributes</th>\n",
       "      <th>categories</th>\n",
       "      <th>hours</th>\n",
       "      <th>review_clean</th>\n",
       "      <th>sentiment</th>\n",
       "    </tr>\n",
       "  </thead>\n",
       "  <tbody>\n",
       "    <tr>\n",
       "      <th>0</th>\n",
       "      <td>240568</td>\n",
       "      <td>X3uNEXlRhtKnArhxSGrBIQ</td>\n",
       "      <td>1</td>\n",
       "      <td>Going through the drive through wasn't bad but...</td>\n",
       "      <td>2018-01-27 16:37:31</td>\n",
       "      <td>Einstein Bros Bagels</td>\n",
       "      <td>1100 Hammond Dr Ne, Ste 600</td>\n",
       "      <td>Atlanta</td>\n",
       "      <td>GA</td>\n",
       "      <td>30328</td>\n",
       "      <td>33.919266</td>\n",
       "      <td>-84.351989</td>\n",
       "      <td>2.5</td>\n",
       "      <td>154</td>\n",
       "      <td>1</td>\n",
       "      <td>{'BusinessParking': '{'garage': False, 'street...</td>\n",
       "      <td>Bagels, Food, Restaurants, Breakfast &amp; Brunch</td>\n",
       "      <td>{'Monday': '5:0-17:0', 'Tuesday': '5:0-17:0', ...</td>\n",
       "      <td>[going, drive, bad, wait, item, took, little, ...</td>\n",
       "      <td>negative</td>\n",
       "    </tr>\n",
       "    <tr>\n",
       "      <th>1</th>\n",
       "      <td>246057</td>\n",
       "      <td>YlRIugD96hl_W5oObd53AA</td>\n",
       "      <td>1</td>\n",
       "      <td>If I could leave this place a zero star review...</td>\n",
       "      <td>2019-01-01 05:27:12</td>\n",
       "      <td>SkyLounge</td>\n",
       "      <td>110 Marietta St NW</td>\n",
       "      <td>Atlanta</td>\n",
       "      <td>GA</td>\n",
       "      <td>30303</td>\n",
       "      <td>33.756987</td>\n",
       "      <td>-84.392982</td>\n",
       "      <td>3.5</td>\n",
       "      <td>172</td>\n",
       "      <td>1</td>\n",
       "      <td>{'BusinessAcceptsCreditCards': 'True', 'BikePa...</td>\n",
       "      <td>Venues &amp; Event Spaces, Nightlife, Event Planni...</td>\n",
       "      <td>{'Thursday': '18:0-21:0', 'Friday': '18:0-23:0...</td>\n",
       "      <td>[could, leave, place, zero_star, review, would...</td>\n",
       "      <td>negative</td>\n",
       "    </tr>\n",
       "    <tr>\n",
       "      <th>2</th>\n",
       "      <td>179862</td>\n",
       "      <td>PJKDNRuooFG2CbPBJbUtjQ</td>\n",
       "      <td>1</td>\n",
       "      <td>I have tried to consign here more than once. T...</td>\n",
       "      <td>2018-09-20 19:27:24</td>\n",
       "      <td>Labels Resale Boutique</td>\n",
       "      <td>3202 Paces Ferry Pl NW</td>\n",
       "      <td>Atlanta</td>\n",
       "      <td>GA</td>\n",
       "      <td>30305</td>\n",
       "      <td>33.842092</td>\n",
       "      <td>-84.382239</td>\n",
       "      <td>3.0</td>\n",
       "      <td>60</td>\n",
       "      <td>1</td>\n",
       "      <td>{'RestaurantsPriceRange2': '2', 'BusinessAccep...</td>\n",
       "      <td>Personal Shopping, Jewelry, Fashion, Shopping,...</td>\n",
       "      <td>{'Monday': '10:30-18:0', 'Tuesday': '10:30-18:...</td>\n",
       "      <td>[tried, consign, find, unbelievable, reason, t...</td>\n",
       "      <td>negative</td>\n",
       "    </tr>\n",
       "    <tr>\n",
       "      <th>3</th>\n",
       "      <td>325037</td>\n",
       "      <td>iVBY9CdfRX2MtIrr_t7S6w</td>\n",
       "      <td>1</td>\n",
       "      <td>I went here twice and got the same thing which...</td>\n",
       "      <td>2018-10-17 23:21:27</td>\n",
       "      <td>Schlotzsky's</td>\n",
       "      <td>2980 Cobb Pkwy, Ste 208</td>\n",
       "      <td>Atlanta</td>\n",
       "      <td>GA</td>\n",
       "      <td>30339</td>\n",
       "      <td>33.879891</td>\n",
       "      <td>-84.461007</td>\n",
       "      <td>2.5</td>\n",
       "      <td>49</td>\n",
       "      <td>0</td>\n",
       "      <td>{'Alcohol': 'u'none'', 'RestaurantsTakeOut': '...</td>\n",
       "      <td>Delis, Restaurants, Fast Food, Caterers, Pizza...</td>\n",
       "      <td>{'Monday': '0:0-0:0', 'Tuesday': '10:0-21:0', ...</td>\n",
       "      <td>[went, twice, got, thing, followed, people, wo...</td>\n",
       "      <td>negative</td>\n",
       "    </tr>\n",
       "    <tr>\n",
       "      <th>4</th>\n",
       "      <td>423406</td>\n",
       "      <td>CsWRSsr2PsJ1WvHl0DFufA</td>\n",
       "      <td>1</td>\n",
       "      <td>So.. I was ready to throw down looked at the m...</td>\n",
       "      <td>2018-01-28 02:38:57</td>\n",
       "      <td>Greens &amp; Gravy</td>\n",
       "      <td>1540 Ralph David Abernathy Blvd</td>\n",
       "      <td>Atlanta</td>\n",
       "      <td>GA</td>\n",
       "      <td>30310</td>\n",
       "      <td>33.743284</td>\n",
       "      <td>-84.437881</td>\n",
       "      <td>3.5</td>\n",
       "      <td>587</td>\n",
       "      <td>0</td>\n",
       "      <td>{'NoiseLevel': 'u'average'', 'RestaurantsTable...</td>\n",
       "      <td>Soul Food, Restaurants</td>\n",
       "      <td>{'Tuesday': '17:0-22:0', 'Wednesday': '17:0-22...</td>\n",
       "      <td>[ready, throw, looked, menu, knew_exactly, goi...</td>\n",
       "      <td>negative</td>\n",
       "    </tr>\n",
       "  </tbody>\n",
       "</table>\n",
       "</div>"
      ],
      "text/plain": [
       "    index             business_id  stars  \\\n",
       "0  240568  X3uNEXlRhtKnArhxSGrBIQ      1   \n",
       "1  246057  YlRIugD96hl_W5oObd53AA      1   \n",
       "2  179862  PJKDNRuooFG2CbPBJbUtjQ      1   \n",
       "3  325037  iVBY9CdfRX2MtIrr_t7S6w      1   \n",
       "4  423406  CsWRSsr2PsJ1WvHl0DFufA      1   \n",
       "\n",
       "                                                text                 date  \\\n",
       "0  Going through the drive through wasn't bad but...  2018-01-27 16:37:31   \n",
       "1  If I could leave this place a zero star review...  2019-01-01 05:27:12   \n",
       "2  I have tried to consign here more than once. T...  2018-09-20 19:27:24   \n",
       "3  I went here twice and got the same thing which...  2018-10-17 23:21:27   \n",
       "4  So.. I was ready to throw down looked at the m...  2018-01-28 02:38:57   \n",
       "\n",
       "                     name                          address     city state  \\\n",
       "0    Einstein Bros Bagels      1100 Hammond Dr Ne, Ste 600  Atlanta    GA   \n",
       "1               SkyLounge               110 Marietta St NW  Atlanta    GA   \n",
       "2  Labels Resale Boutique           3202 Paces Ferry Pl NW  Atlanta    GA   \n",
       "3            Schlotzsky's          2980 Cobb Pkwy, Ste 208  Atlanta    GA   \n",
       "4          Greens & Gravy  1540 Ralph David Abernathy Blvd  Atlanta    GA   \n",
       "\n",
       "  postal_code   latitude  longitude  stars_y  review_count  is_open  \\\n",
       "0       30328  33.919266 -84.351989      2.5           154        1   \n",
       "1       30303  33.756987 -84.392982      3.5           172        1   \n",
       "2       30305  33.842092 -84.382239      3.0            60        1   \n",
       "3       30339  33.879891 -84.461007      2.5            49        0   \n",
       "4       30310  33.743284 -84.437881      3.5           587        0   \n",
       "\n",
       "                                          attributes  \\\n",
       "0  {'BusinessParking': '{'garage': False, 'street...   \n",
       "1  {'BusinessAcceptsCreditCards': 'True', 'BikePa...   \n",
       "2  {'RestaurantsPriceRange2': '2', 'BusinessAccep...   \n",
       "3  {'Alcohol': 'u'none'', 'RestaurantsTakeOut': '...   \n",
       "4  {'NoiseLevel': 'u'average'', 'RestaurantsTable...   \n",
       "\n",
       "                                          categories  \\\n",
       "0      Bagels, Food, Restaurants, Breakfast & Brunch   \n",
       "1  Venues & Event Spaces, Nightlife, Event Planni...   \n",
       "2  Personal Shopping, Jewelry, Fashion, Shopping,...   \n",
       "3  Delis, Restaurants, Fast Food, Caterers, Pizza...   \n",
       "4                             Soul Food, Restaurants   \n",
       "\n",
       "                                               hours  \\\n",
       "0  {'Monday': '5:0-17:0', 'Tuesday': '5:0-17:0', ...   \n",
       "1  {'Thursday': '18:0-21:0', 'Friday': '18:0-23:0...   \n",
       "2  {'Monday': '10:30-18:0', 'Tuesday': '10:30-18:...   \n",
       "3  {'Monday': '0:0-0:0', 'Tuesday': '10:0-21:0', ...   \n",
       "4  {'Tuesday': '17:0-22:0', 'Wednesday': '17:0-22...   \n",
       "\n",
       "                                        review_clean sentiment  \n",
       "0  [going, drive, bad, wait, item, took, little, ...  negative  \n",
       "1  [could, leave, place, zero_star, review, would...  negative  \n",
       "2  [tried, consign, find, unbelievable, reason, t...  negative  \n",
       "3  [went, twice, got, thing, followed, people, wo...  negative  \n",
       "4  [ready, throw, looked, menu, knew_exactly, goi...  negative  "
      ]
     },
     "execution_count": 33,
     "metadata": {},
     "output_type": "execute_result"
    }
   ],
   "source": [
    "sample.head()"
   ]
  },
  {
   "cell_type": "code",
   "execution_count": 34,
   "metadata": {},
   "outputs": [
    {
     "data": {
      "text/plain": [
       "Index(['index', 'business_id', 'stars', 'text', 'date', 'name', 'address',\n",
       "       'city', 'state', 'postal_code', 'latitude', 'longitude', 'stars_y',\n",
       "       'review_count', 'is_open', 'attributes', 'categories', 'hours',\n",
       "       'review_clean', 'sentiment'],\n",
       "      dtype='object')"
      ]
     },
     "execution_count": 34,
     "metadata": {},
     "output_type": "execute_result"
    }
   ],
   "source": [
    "sample.columns"
   ]
  },
  {
   "cell_type": "code",
   "execution_count": 36,
   "metadata": {},
   "outputs": [],
   "source": [
    "sample = sample.sort_values(\"sentiment\").reset_index()"
   ]
  },
  {
   "cell_type": "markdown",
   "metadata": {},
   "source": [
    "### 1.3 Separate pos and neg reviews"
   ]
  },
  {
   "cell_type": "code",
   "execution_count": 37,
   "metadata": {},
   "outputs": [],
   "source": [
    "pos = sample[sample.sentiment == \"positive\"].reset_index(drop=True)\n",
    "neg = sample[sample.sentiment == \"negative\"].reset_index(drop=True)"
   ]
  },
  {
   "cell_type": "code",
   "execution_count": 38,
   "metadata": {},
   "outputs": [],
   "source": [
    "pos = pos.review_clean.tolist()\n",
    "neg = neg.review_clean.tolist()"
   ]
  },
  {
   "cell_type": "markdown",
   "metadata": {},
   "source": [
    "## 2. WMD"
   ]
  },
  {
   "cell_type": "markdown",
   "metadata": {},
   "source": [
    "### 2.1 Tokenize and \"sample\" data"
   ]
  },
  {
   "cell_type": "code",
   "execution_count": 39,
   "metadata": {},
   "outputs": [],
   "source": [
    "pos_tok = list(map(lambda x: tokenize(x, tokenizer), pos[:2000]))\n",
    "neg_tok = list(map(lambda x: tokenize(x, tokenizer), neg[:2000]))"
   ]
  },
  {
   "cell_type": "code",
   "execution_count": 40,
   "metadata": {},
   "outputs": [],
   "source": [
    "pos_sample = [\" \".join(doc) for doc in pos_tok]\n",
    "neg_sample = [\" \".join(doc) for doc in neg_tok]"
   ]
  },
  {
   "cell_type": "code",
   "execution_count": 41,
   "metadata": {},
   "outputs": [
    {
     "name": "stdout",
     "output_type": "stream",
     "text": [
      "500\n",
      "500\n"
     ]
    }
   ],
   "source": [
    "print(len(pos_sample))\n",
    "print(len(neg_sample))"
   ]
  },
  {
   "cell_type": "markdown",
   "metadata": {},
   "source": [
    "### 2.2 Load pretrained Google News W2V model"
   ]
  },
  {
   "cell_type": "code",
   "execution_count": 42,
   "metadata": {},
   "outputs": [],
   "source": [
    "finetuned = True"
   ]
  },
  {
   "cell_type": "code",
   "execution_count": 43,
   "metadata": {},
   "outputs": [
    {
     "name": "stdout",
     "output_type": "stream",
     "text": [
      "Loading GoogleNews Vectors finetuned using Yelp review data.\n",
      "CPU times: user 41.7 s, sys: 1.35 s, total: 43.1 s\n",
      "Wall time: 43.8 s\n"
     ]
    }
   ],
   "source": [
    "if not finetuned:\n",
    "    print(\"Loading GoogleNews Vectors\")\n",
    "    %time model = KeyedVectors.load_word2vec_format('../embeddings/GoogleNews-vectors-negative300.bin.gz', binary=True)\n",
    "else:\n",
    "    print(\"Loading GoogleNews Vectors finetuned using Yelp review data.\")\n",
    "    %time model = KeyedVectors.load_word2vec_format('../embeddings/yelp_w2v.txt', binary=False)"
   ]
  },
  {
   "cell_type": "code",
   "execution_count": 44,
   "metadata": {},
   "outputs": [
    {
     "data": {
      "text/plain": [
       "0.23625940084457397"
      ]
     },
     "execution_count": 44,
     "metadata": {},
     "output_type": "execute_result"
    }
   ],
   "source": [
    "model.distance(\"taco\", \"burrito\")"
   ]
  },
  {
   "cell_type": "code",
   "execution_count": 45,
   "metadata": {},
   "outputs": [
    {
     "data": {
      "text/plain": [
       "0.237795889377594"
      ]
     },
     "execution_count": 45,
     "metadata": {},
     "output_type": "execute_result"
    }
   ],
   "source": [
    "model.distance(\"quesadilla\",\"tostada\")"
   ]
  },
  {
   "cell_type": "code",
   "execution_count": 46,
   "metadata": {},
   "outputs": [
    {
     "data": {
      "text/plain": [
       "0.17333048582077026"
      ]
     },
     "execution_count": 46,
     "metadata": {},
     "output_type": "execute_result"
    }
   ],
   "source": [
    "model.distance(\"sushi\", \"sashimi\")"
   ]
  },
  {
   "cell_type": "markdown",
   "metadata": {},
   "source": [
    "### 2.3 Load corpus and remove OOV words"
   ]
  },
  {
   "cell_type": "code",
   "execution_count": 47,
   "metadata": {},
   "outputs": [
    {
     "name": "stderr",
     "output_type": "stream",
     "text": [
      "/Users/mikaelbrunila/Documents/Code/flow-wmd/venv-fwmd/lib/python3.8/site-packages/sklearn/feature_extraction/text.py:489: UserWarning: The parameter 'token_pattern' will not be used since 'tokenizer' is not None'\n",
      "  warnings.warn(\"The parameter 'token_pattern' will not be used\"\n"
     ]
    },
    {
     "name": "stdout",
     "output_type": "stream",
     "text": [
      "CPU times: user 390 ms, sys: 15 ms, total: 405 ms\n",
      "Wall time: 426 ms\n"
     ]
    },
    {
     "data": {
      "text/plain": [
       "TfidfVectorizer(norm='l1',\n",
       "                tokenizer=<function tfidf_tokenize at 0x7ff9b1e9d310>,\n",
       "                use_idf=False)"
      ]
     },
     "execution_count": 47,
     "metadata": {},
     "output_type": "execute_result"
    }
   ],
   "source": [
    "%%time\n",
    "\n",
    "corpus = pos_sample + neg_sample\n",
    "vectorizer = TfidfVectorizer(use_idf=False, tokenizer=tfidf_tokenize, norm='l1')\n",
    "vectorizer.fit(corpus)"
   ]
  },
  {
   "cell_type": "code",
   "execution_count": 48,
   "metadata": {},
   "outputs": [
    {
     "name": "stdout",
     "output_type": "stream",
     "text": [
      "CPU times: user 8.21 ms, sys: 833 µs, total: 9.04 ms\n",
      "Wall time: 9.7 ms\n"
     ]
    }
   ],
   "source": [
    "%time oov = [word for word in vectorizer.get_feature_names() if word not in model.key_to_index.keys()]"
   ]
  },
  {
   "cell_type": "code",
   "execution_count": 49,
   "metadata": {},
   "outputs": [
    {
     "data": {
      "text/plain": [
       "97"
      ]
     },
     "execution_count": 49,
     "metadata": {},
     "output_type": "execute_result"
    }
   ],
   "source": [
    "len(oov)"
   ]
  },
  {
   "cell_type": "code",
   "execution_count": 50,
   "metadata": {},
   "outputs": [
    {
     "name": "stdout",
     "output_type": "stream",
     "text": [
      "[\"'\", ',', 'aban', 'aislebins', 'aknowledgemnt', 'alphonio', 'alvarowas', 'arriive', 'atlcarservicecom', 'barloumge', 'bifolding', 'browniefudge', 'bubblingsmoke', 'buttermilksweet', 'bvrought', 'calllist', 'carmark', 'clearspoken', 'condon', 'coronica', 'crabpot', 'crno', 'crossshared', 'crucifies', 'crumbe', 'decolations', 'dehab', 'entiree', 'exrayed', 'flanged', 'flowerbomb', 'foodsomeone', 'foodtruckstyle', 'garnden', 'geetha', 'geezzzz', 'goldrn', 'groovyness', 'helijet', 'horrrrrrrrrrible', 'httpscqrcengagecomflnappdocument', 'httpswwwajccomnewslocalfederallawsuitatlantacompanyalierarunsillegalinsuranceschemeojapqdzrokxwsnm', 'httpswwwnytimescomhealthchristianministriesinsurancelawsuitshtml', 'iraset', 'jsessionidnodeigdkfrntdnxmgcnode', 'kungflu', 'ladidoddie', 'leavebone', 'leight', 'lnstall']\n"
     ]
    }
   ],
   "source": [
    "print(oov[:50])"
   ]
  },
  {
   "cell_type": "code",
   "execution_count": 51,
   "metadata": {},
   "outputs": [
    {
     "name": "stdout",
     "output_type": "stream",
     "text": [
      "CPU times: user 170 ms, sys: 4.92 ms, total: 175 ms\n",
      "Wall time: 180 ms\n",
      "CPU times: user 242 ms, sys: 4.45 ms, total: 246 ms\n",
      "Wall time: 251 ms\n"
     ]
    }
   ],
   "source": [
    "%time pos_sample = list(map(lambda x: remove_oov(x, tokenizer, oov), pos_sample[:2000]))\n",
    "%time neg_sample = list(map(lambda x: remove_oov(x, tokenizer, oov), neg_sample[:2000]))"
   ]
  },
  {
   "cell_type": "code",
   "execution_count": 52,
   "metadata": {},
   "outputs": [
    {
     "data": {
      "text/plain": [
       "'[ start_saying lot anxiety come dental work due extensive past work dentist great bedside_manner went see dr_forster tooth_pain ended_needing crown cracked_molar dr_forster manner gentle welcoming kind talked everything thoroughly work commenced couple moment process obviously needing break suggested make feel like rushed impatient entire team skillful kind feel like finally found dentist comfortable ]'"
      ]
     },
     "execution_count": 52,
     "metadata": {},
     "output_type": "execute_result"
    }
   ],
   "source": [
    "pos_sample[5]"
   ]
  },
  {
   "cell_type": "code",
   "execution_count": 53,
   "metadata": {},
   "outputs": [
    {
     "name": "stdout",
     "output_type": "stream",
     "text": [
      "CPU times: user 39 µs, sys: 0 ns, total: 39 µs\n",
      "Wall time: 42 µs\n",
      "CPU times: user 127 ms, sys: 5.26 ms, total: 132 ms\n",
      "Wall time: 135 ms\n"
     ]
    },
    {
     "data": {
      "text/plain": [
       "TfidfVectorizer(norm='l1',\n",
       "                tokenizer=<function tfidf_tokenize at 0x7ff9b1e9d310>)"
      ]
     },
     "execution_count": 53,
     "metadata": {},
     "output_type": "execute_result"
    }
   ],
   "source": [
    "corpus = pos_sample + neg_sample\n",
    "\n",
    "%time vectorizer = TfidfVectorizer(use_idf=True, tokenizer=tfidf_tokenize,norm='l1')\n",
    "%time vectorizer.fit(corpus)"
   ]
  },
  {
   "cell_type": "markdown",
   "metadata": {},
   "source": [
    "Bag-of-words vectorizer."
   ]
  },
  {
   "cell_type": "code",
   "execution_count": 54,
   "metadata": {},
   "outputs": [
    {
     "name": "stdout",
     "output_type": "stream",
     "text": [
      "CPU times: user 2 µs, sys: 0 ns, total: 2 µs\n",
      "Wall time: 3.81 µs\n"
     ]
    }
   ],
   "source": [
    "%time\n",
    "pos_nbow = vectorizer.transform(pos_sample)\n",
    "neg_nbow = vectorizer.transform(neg_sample)"
   ]
  },
  {
   "cell_type": "code",
   "execution_count": 55,
   "metadata": {},
   "outputs": [],
   "source": [
    "pos_tok = list(map(lambda x: tokenize(x, tokenizer), pos_sample[:2000]))\n",
    "neg_tok =list(map(lambda x: tokenize(x, tokenizer), neg_sample[:2000]))"
   ]
  },
  {
   "cell_type": "code",
   "execution_count": 56,
   "metadata": {},
   "outputs": [
    {
     "name": "stdout",
     "output_type": "stream",
     "text": [
      "['[', 'start_saying', 'lot', 'anxiety', 'come', 'dental', 'work', 'due', 'extensive', 'past', 'work', 'dentist', 'great', 'bedside_manner', 'went', 'see', 'dr_forster', 'tooth_pain', 'ended_needing', 'crown']\n"
     ]
    }
   ],
   "source": [
    "print(pos_tok[5][:20])"
   ]
  },
  {
   "cell_type": "code",
   "execution_count": 57,
   "metadata": {},
   "outputs": [
    {
     "name": "stdout",
     "output_type": "stream",
     "text": [
      "CPU times: user 8.8 ms, sys: 705 µs, total: 9.51 ms\n",
      "Wall time: 10.1 ms\n"
     ]
    }
   ],
   "source": [
    "%time oov_ = [word for word in vectorizer.get_feature_names() if word not in model.key_to_index.keys()]"
   ]
  },
  {
   "cell_type": "code",
   "execution_count": 58,
   "metadata": {},
   "outputs": [
    {
     "data": {
      "text/plain": [
       "0"
      ]
     },
     "execution_count": 58,
     "metadata": {},
     "output_type": "execute_result"
    }
   ],
   "source": [
    "len(oov_)"
   ]
  },
  {
   "cell_type": "markdown",
   "metadata": {},
   "source": [
    "### 2.4 Get features and embeddings"
   ]
  },
  {
   "cell_type": "code",
   "execution_count": 59,
   "metadata": {},
   "outputs": [],
   "source": [
    "features = vectorizer.get_feature_names()\n",
    "word2idx = {word: idx for idx, word in enumerate(vectorizer.get_feature_names())}\n",
    "idx2word = {idx: word for idx, word in enumerate(vectorizer.get_feature_names())}"
   ]
  },
  {
   "cell_type": "markdown",
   "metadata": {},
   "source": [
    "Get the embedding matrix \"E\" for all features."
   ]
  },
  {
   "cell_type": "code",
   "execution_count": 60,
   "metadata": {},
   "outputs": [],
   "source": [
    "E = model[features]\n",
    "#E = np.vstack([model.get_vector(word) for word in vectorizer.get_feature_names()])"
   ]
  },
  {
   "cell_type": "markdown",
   "metadata": {},
   "source": [
    "### 2.5 Cluster"
   ]
  },
  {
   "cell_type": "markdown",
   "metadata": {},
   "source": [
    "In order to make the results of the WMD model more interpretable, we add the option to inspect the output not only by individual words, but also by *word clusters*. We do this by clustering the input words with two different algorithms\n",
    "and assigning each word to a cluster."
   ]
  },
  {
   "cell_type": "markdown",
   "metadata": {},
   "source": [
    "#### 2.5.1 Kmeans"
   ]
  },
  {
   "cell_type": "markdown",
   "metadata": {},
   "source": [
    "First, we get the embeddings for the words that are in our feature space."
   ]
  },
  {
   "cell_type": "code",
   "execution_count": 585,
   "metadata": {},
   "outputs": [],
   "source": [
    "#X = model[features]"
   ]
  },
  {
   "cell_type": "markdown",
   "metadata": {},
   "source": [
    "Then we select the number of clusters we want, initialize the Kmeans model and fit it."
   ]
  },
  {
   "cell_type": "code",
   "execution_count": 586,
   "metadata": {},
   "outputs": [
    {
     "name": "stdout",
     "output_type": "stream",
     "text": [
      "CPU times: user 3 µs, sys: 0 ns, total: 3 µs\n",
      "Wall time: 7.15 µs\n"
     ]
    }
   ],
   "source": [
    "%%time\n",
    "\n",
    "K = range(10,210, 10)"
   ]
  },
  {
   "cell_type": "code",
   "execution_count": 587,
   "metadata": {},
   "outputs": [
    {
     "name": "stdout",
     "output_type": "stream",
     "text": [
      "For n_clusters = 10 The average silhouette_score is : 0.0048870924\n",
      "For n_clusters = 20 The average silhouette_score is : -0.0045487885\n",
      "For n_clusters = 30 The average silhouette_score is : -0.013450309\n",
      "For n_clusters = 40 The average silhouette_score is : -0.013978215\n",
      "For n_clusters = 50 The average silhouette_score is : -0.028676057\n",
      "For n_clusters = 60 The average silhouette_score is : -0.053541888\n",
      "For n_clusters = 70 The average silhouette_score is : -0.035639092\n",
      "For n_clusters = 80 The average silhouette_score is : -0.027800914\n",
      "For n_clusters = 90 The average silhouette_score is : -0.034088783\n",
      "For n_clusters = 100 The average silhouette_score is : -0.042346764\n",
      "For n_clusters = 110 The average silhouette_score is : -0.041213974\n",
      "For n_clusters = 120 The average silhouette_score is : -0.042985883\n",
      "For n_clusters = 130 The average silhouette_score is : -0.0457045\n",
      "For n_clusters = 140 The average silhouette_score is : -0.051638562\n",
      "For n_clusters = 150 The average silhouette_score is : -0.055394642\n",
      "For n_clusters = 160 The average silhouette_score is : -0.048286237\n",
      "For n_clusters = 170 The average silhouette_score is : -0.030314585\n",
      "For n_clusters = 180 The average silhouette_score is : -0.053530127\n",
      "For n_clusters = 190 The average silhouette_score is : -0.036591936\n",
      "For n_clusters = 200 The average silhouette_score is : -0.055864427\n",
      "CPU times: user 41min 41s, sys: 6min 4s, total: 47min 46s\n",
      "Wall time: 11min 49s\n"
     ]
    }
   ],
   "source": [
    "%%time\n",
    "\n",
    "wvec_ssd, wvec_silhouette = kmeans_search(E, K)"
   ]
  },
  {
   "cell_type": "code",
   "execution_count": 588,
   "metadata": {},
   "outputs": [
    {
     "data": {
      "image/png": "[encoded data removed]",
      "text/plain": [
       "<Figure size 432x288 with 1 Axes>"
      ]
     },
     "metadata": {
      "needs_background": "light"
     },
     "output_type": "display_data"
    }
   ],
   "source": [
    "plot_kmeans(K,wvec_ssd,\"elbow\")"
   ]
  },
  {
   "cell_type": "code",
   "execution_count": 589,
   "metadata": {},
   "outputs": [
    {
     "data": {
      "image/png": "[encoded data removed]",
      "text/plain": [
       "<Figure size 432x288 with 1 Axes>"
      ]
     },
     "metadata": {
      "needs_background": "light"
     },
     "output_type": "display_data"
    }
   ],
   "source": [
    "plot_kmeans(K,wvec_silhouette,\"silhouette\")"
   ]
  },
  {
   "cell_type": "markdown",
   "metadata": {},
   "source": [
    "Assign labels and centroids to separate variables for later use."
   ]
  },
  {
   "cell_type": "markdown",
   "metadata": {},
   "source": [
    "#### 2.5.2 T-SNE + Kmeans"
   ]
  },
  {
   "cell_type": "code",
   "execution_count": 61,
   "metadata": {},
   "outputs": [],
   "source": [
    "method='barnes_hut'\n",
    "n_components = 2\n",
    "verbose = 1"
   ]
  },
  {
   "cell_type": "code",
   "execution_count": 62,
   "metadata": {},
   "outputs": [
    {
     "name": "stdout",
     "output_type": "stream",
     "text": [
      "[t-SNE] Computing 91 nearest neighbors...\n",
      "[t-SNE] Indexed 8401 samples in 0.002s...\n",
      "[t-SNE] Computed neighbors for 8401 samples in 1.902s...\n",
      "[t-SNE] Computed conditional probabilities for sample 1000 / 8401\n",
      "[t-SNE] Computed conditional probabilities for sample 2000 / 8401\n",
      "[t-SNE] Computed conditional probabilities for sample 3000 / 8401\n",
      "[t-SNE] Computed conditional probabilities for sample 4000 / 8401\n",
      "[t-SNE] Computed conditional probabilities for sample 5000 / 8401\n",
      "[t-SNE] Computed conditional probabilities for sample 6000 / 8401\n",
      "[t-SNE] Computed conditional probabilities for sample 7000 / 8401\n",
      "[t-SNE] Computed conditional probabilities for sample 8000 / 8401\n",
      "[t-SNE] Computed conditional probabilities for sample 8401 / 8401\n",
      "[t-SNE] Mean sigma: 0.500988\n",
      "[t-SNE] KL divergence after 250 iterations with early exaggeration: 89.830750\n",
      "[t-SNE] KL divergence after 1000 iterations: 2.455040\n"
     ]
    }
   ],
   "source": [
    "E_tsne = TSNE(n_components=n_components, method=method, verbose=verbose).fit_transform(E)"
   ]
  },
  {
   "cell_type": "code",
   "execution_count": 63,
   "metadata": {},
   "outputs": [
    {
     "data": {
      "image/png": "[encoded data removed]",
      "text/plain": [
       "<Figure size 432x288 with 1 Axes>"
      ]
     },
     "metadata": {
      "needs_background": "light"
     },
     "output_type": "display_data"
    }
   ],
   "source": [
    "plt.scatter(E_tsne[:, 0], E_tsne[:, 1], s=1);"
   ]
  },
  {
   "cell_type": "code",
   "execution_count": 593,
   "metadata": {},
   "outputs": [
    {
     "name": "stdout",
     "output_type": "stream",
     "text": [
      "For n_clusters = 10 The average silhouette_score is : 0.34488717\n",
      "For n_clusters = 20 The average silhouette_score is : 0.3372342\n",
      "For n_clusters = 30 The average silhouette_score is : 0.3312462\n",
      "For n_clusters = 40 The average silhouette_score is : 0.3336319\n",
      "For n_clusters = 50 The average silhouette_score is : 0.33292577\n",
      "For n_clusters = 60 The average silhouette_score is : 0.33240375\n",
      "For n_clusters = 70 The average silhouette_score is : 0.33114016\n",
      "For n_clusters = 80 The average silhouette_score is : 0.33670086\n",
      "For n_clusters = 90 The average silhouette_score is : 0.33434618\n",
      "For n_clusters = 100 The average silhouette_score is : 0.33501622\n",
      "For n_clusters = 110 The average silhouette_score is : 0.332212\n",
      "For n_clusters = 120 The average silhouette_score is : 0.33530146\n",
      "For n_clusters = 130 The average silhouette_score is : 0.33940127\n",
      "For n_clusters = 140 The average silhouette_score is : 0.33824897\n",
      "For n_clusters = 150 The average silhouette_score is : 0.33759972\n",
      "For n_clusters = 160 The average silhouette_score is : 0.338538\n",
      "For n_clusters = 170 The average silhouette_score is : 0.3367158\n",
      "For n_clusters = 180 The average silhouette_score is : 0.340452\n",
      "For n_clusters = 190 The average silhouette_score is : 0.34009293\n",
      "For n_clusters = 200 The average silhouette_score is : 0.34116793\n",
      "CPU times: user 7min 18s, sys: 40.6 s, total: 7min 59s\n",
      "Wall time: 1min 28s\n"
     ]
    }
   ],
   "source": [
    "%%time\n",
    "\n",
    "tsne_ssd, tsne_silhouette = kmeans_search(E_tsne, K)"
   ]
  },
  {
   "cell_type": "code",
   "execution_count": 594,
   "metadata": {},
   "outputs": [
    {
     "data": {
      "image/png": "[encoded data removed]",
      "text/plain": [
       "<Figure size 432x288 with 1 Axes>"
      ]
     },
     "metadata": {
      "needs_background": "light"
     },
     "output_type": "display_data"
    }
   ],
   "source": [
    "plot_kmeans(K,tsne_ssd,\"elbow\")"
   ]
  },
  {
   "cell_type": "code",
   "execution_count": 595,
   "metadata": {},
   "outputs": [
    {
     "data": {
      "image/png": "[encoded data removed]",
      "text/plain": [
       "<Figure size 432x288 with 1 Axes>"
      ]
     },
     "metadata": {
      "needs_background": "light"
     },
     "output_type": "display_data"
    }
   ],
   "source": [
    "plot_kmeans(K,tsne_silhouette,\"silhouette\")"
   ]
  },
  {
   "cell_type": "markdown",
   "metadata": {},
   "source": [
    "#### 2.5.3 PCA + Kmeans"
   ]
  },
  {
   "cell_type": "code",
   "execution_count": 64,
   "metadata": {},
   "outputs": [],
   "source": [
    "n_components = 0.9\n",
    "verbose = 1"
   ]
  },
  {
   "cell_type": "code",
   "execution_count": 65,
   "metadata": {},
   "outputs": [],
   "source": [
    "pca_fit = PCA(n_components = n_components).fit(E)"
   ]
  },
  {
   "cell_type": "code",
   "execution_count": 66,
   "metadata": {},
   "outputs": [
    {
     "name": "stdout",
     "output_type": "stream",
     "text": [
      "193\n",
      "[0.07628132 0.0345566  0.03028728 0.02639023 0.0245887  0.02212664\n",
      " 0.02134236 0.01774034 0.0173189  0.01633802 0.01510132 0.01297967\n",
      " 0.01260761 0.0123261  0.01142174 0.01106987 0.01050173 0.00968806\n",
      " 0.00927439 0.00897341 0.00877902 0.00864109 0.00825649 0.00794574\n",
      " 0.0076762  0.00747991 0.00716163 0.00696157 0.00680476 0.00669638\n",
      " 0.00651169 0.00641438 0.00632268 0.00608887 0.00594684 0.0057728\n",
      " 0.00562356 0.0055797  0.0054608  0.00540093 0.00530564 0.00510022\n",
      " 0.0050595  0.00486304 0.00485078 0.00480483 0.00470084 0.00459584\n",
      " 0.00447069 0.0043073  0.00428018 0.00417935 0.00415495 0.00411507\n",
      " 0.00398795 0.00397559 0.00386126 0.00384308 0.00380697 0.00375563\n",
      " 0.00367152 0.00364723 0.00358031 0.0035656  0.00349545 0.00346537\n",
      " 0.00341881 0.00340772 0.00334292 0.00328467 0.00324471 0.00321177\n",
      " 0.0031487  0.00313826 0.00307375 0.00304422 0.00300641 0.00298653\n",
      " 0.00295447 0.00291959 0.00290086 0.00288187 0.00280278 0.0027916\n",
      " 0.00276687 0.00274055 0.00270718 0.0027036  0.0026616  0.00263743\n",
      " 0.00261206 0.00256986 0.00254807 0.00254435 0.00249997 0.00249231\n",
      " 0.00246288 0.00243713 0.00240557 0.00239817 0.00238433 0.00232799\n",
      " 0.00231809 0.00228299 0.00226505 0.00225525 0.00223502 0.00220899\n",
      " 0.00219473 0.00218426 0.00216569 0.00214348 0.00213404 0.00211935\n",
      " 0.00208585 0.00207162 0.00203588 0.00203438 0.00202199 0.00201173\n",
      " 0.00200279 0.00198086 0.00195755 0.00195581 0.00193819 0.00192605\n",
      " 0.00192089 0.00190255 0.00189711 0.00188865 0.00184722 0.00183929\n",
      " 0.00181727 0.0018121  0.00180863 0.00180329 0.0017807  0.00176569\n",
      " 0.00175538 0.00173429 0.00172733 0.00171521 0.00170306 0.0016868\n",
      " 0.00166883 0.00166154 0.00164971 0.00164674 0.00162907 0.00162204\n",
      " 0.00161286 0.00159922 0.00158458 0.00157637 0.00156986 0.00156193\n",
      " 0.00154944 0.00152863 0.00152508 0.00151726 0.00151186 0.00150345\n",
      " 0.00148475 0.00148115 0.00147369 0.00146516 0.00145349 0.00144653\n",
      " 0.00143926 0.00142274 0.00141896 0.0014143  0.00139228 0.00138553\n",
      " 0.00137935 0.00137145 0.00136523 0.00135915 0.00135461 0.00133903\n",
      " 0.00133443 0.00131957 0.0013095  0.0012994  0.0012925  0.00128585\n",
      " 0.00127999 0.00127663 0.00126843 0.00125435 0.00124909 0.00124748\n",
      " 0.00123365]\n",
      "0.9008943\n"
     ]
    }
   ],
   "source": [
    "print(len(pca_fit.explained_variance_ratio_))\n",
    "print(pca_fit.explained_variance_ratio_)\n",
    "print(np.sum(pca_fit.explained_variance_ratio_))"
   ]
  },
  {
   "cell_type": "code",
   "execution_count": 67,
   "metadata": {},
   "outputs": [],
   "source": [
    "E_pca = pca_fit.transform(E)"
   ]
  },
  {
   "cell_type": "code",
   "execution_count": 68,
   "metadata": {},
   "outputs": [
    {
     "data": {
      "image/png": "[encoded data removed]",
      "text/plain": [
       "<Figure size 432x288 with 1 Axes>"
      ]
     },
     "metadata": {
      "needs_background": "light"
     },
     "output_type": "display_data"
    }
   ],
   "source": [
    "plt.scatter(E_pca[:, 0], E_pca[:, 1], s=1);"
   ]
  },
  {
   "cell_type": "code",
   "execution_count": 601,
   "metadata": {},
   "outputs": [
    {
     "name": "stdout",
     "output_type": "stream",
     "text": [
      "For n_clusters = 10 The average silhouette_score is : 0.012352858\n",
      "For n_clusters = 20 The average silhouette_score is : 0.0058038337\n",
      "For n_clusters = 30 The average silhouette_score is : -0.003994512\n",
      "For n_clusters = 40 The average silhouette_score is : -0.021709612\n",
      "For n_clusters = 50 The average silhouette_score is : -0.008725485\n",
      "For n_clusters = 60 The average silhouette_score is : -0.04823015\n",
      "For n_clusters = 70 The average silhouette_score is : -0.022156313\n",
      "For n_clusters = 80 The average silhouette_score is : -0.049250927\n",
      "For n_clusters = 90 The average silhouette_score is : -0.021058626\n",
      "For n_clusters = 100 The average silhouette_score is : -0.011208477\n",
      "For n_clusters = 110 The average silhouette_score is : -0.024578236\n",
      "For n_clusters = 120 The average silhouette_score is : -0.044699457\n",
      "For n_clusters = 130 The average silhouette_score is : -0.037258327\n",
      "For n_clusters = 140 The average silhouette_score is : -0.032816883\n",
      "For n_clusters = 150 The average silhouette_score is : -0.014798848\n",
      "For n_clusters = 160 The average silhouette_score is : -0.039625958\n",
      "For n_clusters = 170 The average silhouette_score is : -0.03513822\n",
      "For n_clusters = 180 The average silhouette_score is : -0.033273824\n",
      "For n_clusters = 190 The average silhouette_score is : -0.055636045\n",
      "For n_clusters = 200 The average silhouette_score is : -0.053232867\n",
      "CPU times: user 33min 28s, sys: 4min 45s, total: 38min 14s\n",
      "Wall time: 8min 1s\n"
     ]
    }
   ],
   "source": [
    "%%time\n",
    "\n",
    "pca_ssd, pca_silhouette = kmeans_search(E_pca, K)"
   ]
  },
  {
   "cell_type": "code",
   "execution_count": 602,
   "metadata": {},
   "outputs": [
    {
     "data": {
      "image/png": "[encoded data removed]",
      "text/plain": [
       "<Figure size 432x288 with 1 Axes>"
      ]
     },
     "metadata": {
      "needs_background": "light"
     },
     "output_type": "display_data"
    }
   ],
   "source": [
    "plot_kmeans(K,pca_ssd,\"elbow\")"
   ]
  },
  {
   "cell_type": "code",
   "execution_count": 603,
   "metadata": {},
   "outputs": [
    {
     "data": {
      "image/png": "[encoded data removed]",
      "text/plain": [
       "<Figure size 432x288 with 1 Axes>"
      ]
     },
     "metadata": {
      "needs_background": "light"
     },
     "output_type": "display_data"
    }
   ],
   "source": [
    "plot_kmeans(K,pca_silhouette,\"silhouette\")"
   ]
  },
  {
   "cell_type": "markdown",
   "metadata": {},
   "source": [
    "#### 2.5.4 UMAP + Kmeans"
   ]
  },
  {
   "cell_type": "code",
   "execution_count": 69,
   "metadata": {},
   "outputs": [
    {
     "name": "stdout",
     "output_type": "stream",
     "text": [
      "CPU times: user 24.5 s, sys: 488 ms, total: 25 s\n",
      "Wall time: 25.4 s\n"
     ]
    }
   ],
   "source": [
    "%%time\n",
    "\n",
    "metric = 'cosine'\n",
    "dm = cdist(E, E, metric)\n",
    "np.fill_diagonal(dm, 0)"
   ]
  },
  {
   "cell_type": "code",
   "execution_count": 70,
   "metadata": {},
   "outputs": [
    {
     "data": {
      "text/plain": [
       "True"
      ]
     },
     "execution_count": 70,
     "metadata": {},
     "output_type": "execute_result"
    }
   ],
   "source": [
    "is_valid_dm(dm)"
   ]
  },
  {
   "cell_type": "code",
   "execution_count": 71,
   "metadata": {},
   "outputs": [
    {
     "name": "stdout",
     "output_type": "stream",
     "text": [
      "0.6463656993168528 0.12026897760263146\n"
     ]
    }
   ],
   "source": [
    "mean, std = np.mean(dm), np.std(dm)\n",
    "print(mean, std)"
   ]
  },
  {
   "cell_type": "code",
   "execution_count": 72,
   "metadata": {},
   "outputs": [
    {
     "name": "stdout",
     "output_type": "stream",
     "text": [
      "Min distance: 0.04502081130369551\n",
      "N. neighbors: 8\n",
      "N. compontents: 2\n"
     ]
    }
   ],
   "source": [
    "min_dist=mean - 5*std\n",
    "n_neighbors = int(0.001*len(E))\n",
    "n_components=2\n",
    "print(f\"Min distance: {min_dist}\")\n",
    "print(f\"N. neighbors: {n_neighbors}\")\n",
    "print(f\"N. compontents: {n_components}\")"
   ]
  },
  {
   "cell_type": "code",
   "execution_count": 73,
   "metadata": {},
   "outputs": [
    {
     "name": "stdout",
     "output_type": "stream",
     "text": [
      "UMAP(dens_frac=0.0, dens_lambda=0.0, min_dist=0.04502081130369551,\n",
      "     n_neighbors=8, random_state=42, verbose=1)\n",
      "Construct fuzzy simplicial set\n",
      "Tue Aug  3 18:47:59 2021 Finding Nearest Neighbors\n",
      "Tue Aug  3 18:47:59 2021 Building RP forest with 10 trees\n",
      "Tue Aug  3 18:48:01 2021 NN descent for 13 iterations\n",
      "\t 1  /  13\n",
      "\t 2  /  13\n",
      "\t 3  /  13\n",
      "\t 4  /  13\n",
      "\t 5  /  13\n",
      "\t 6  /  13\n",
      "\tStopping threshold met -- exiting after 6 iterations\n",
      "Tue Aug  3 18:48:16 2021 Finished Nearest Neighbor Search\n",
      "Tue Aug  3 18:48:19 2021 Construct embedding\n",
      "\tcompleted  0  /  500 epochs\n",
      "\tcompleted  50  /  500 epochs\n",
      "\tcompleted  100  /  500 epochs\n",
      "\tcompleted  150  /  500 epochs\n",
      "\tcompleted  200  /  500 epochs\n",
      "\tcompleted  250  /  500 epochs\n",
      "\tcompleted  300  /  500 epochs\n",
      "\tcompleted  350  /  500 epochs\n",
      "\tcompleted  400  /  500 epochs\n",
      "\tcompleted  450  /  500 epochs\n",
      "Tue Aug  3 18:48:29 2021 Finished embedding\n",
      "CPU times: user 27.5 s, sys: 2.19 s, total: 29.7 s\n",
      "Wall time: 30.2 s\n"
     ]
    }
   ],
   "source": [
    "%%time\n",
    "\n",
    "E_umap = umap.UMAP(\n",
    "    n_neighbors=n_neighbors,\n",
    "    min_dist=min_dist,\n",
    "    n_components=n_components,\n",
    "    random_state=42,\n",
    "    verbose=verbose\n",
    ").fit_transform(E)"
   ]
  },
  {
   "cell_type": "code",
   "execution_count": 74,
   "metadata": {},
   "outputs": [
    {
     "data": {
      "image/png": "[encoded data removed]",
      "text/plain": [
       "<Figure size 432x288 with 1 Axes>"
      ]
     },
     "metadata": {
      "needs_background": "light"
     },
     "output_type": "display_data"
    }
   ],
   "source": [
    "plt.scatter(E_umap[:, 0], E_umap[:, 1], s=1);"
   ]
  },
  {
   "cell_type": "code",
   "execution_count": 610,
   "metadata": {},
   "outputs": [
    {
     "name": "stdout",
     "output_type": "stream",
     "text": [
      "For n_clusters = 10 The average silhouette_score is : 0.34773073\n",
      "For n_clusters = 20 The average silhouette_score is : 0.33901826\n",
      "For n_clusters = 30 The average silhouette_score is : 0.33505654\n",
      "For n_clusters = 40 The average silhouette_score is : 0.33489707\n",
      "For n_clusters = 50 The average silhouette_score is : 0.33510685\n",
      "For n_clusters = 60 The average silhouette_score is : 0.3385732\n",
      "For n_clusters = 70 The average silhouette_score is : 0.33857962\n",
      "For n_clusters = 80 The average silhouette_score is : 0.34351763\n",
      "For n_clusters = 90 The average silhouette_score is : 0.34230384\n",
      "For n_clusters = 100 The average silhouette_score is : 0.33888248\n",
      "For n_clusters = 110 The average silhouette_score is : 0.34269255\n",
      "For n_clusters = 120 The average silhouette_score is : 0.33791223\n",
      "For n_clusters = 130 The average silhouette_score is : 0.3402726\n",
      "For n_clusters = 140 The average silhouette_score is : 0.34286374\n",
      "For n_clusters = 150 The average silhouette_score is : 0.34359643\n",
      "For n_clusters = 160 The average silhouette_score is : 0.34447196\n",
      "For n_clusters = 170 The average silhouette_score is : 0.34345177\n",
      "For n_clusters = 180 The average silhouette_score is : 0.3410193\n",
      "For n_clusters = 190 The average silhouette_score is : 0.34333116\n",
      "For n_clusters = 200 The average silhouette_score is : 0.3439852\n",
      "CPU times: user 7min 15s, sys: 33.4 s, total: 7min 48s\n",
      "Wall time: 1min 17s\n"
     ]
    }
   ],
   "source": [
    "%%time\n",
    "\n",
    "umap_ssd, umap_silhouette = kmeans_search(E_umap, K)"
   ]
  },
  {
   "cell_type": "code",
   "execution_count": 611,
   "metadata": {},
   "outputs": [
    {
     "data": {
      "image/png": "[encoded data removed]",
      "text/plain": [
       "<Figure size 432x288 with 1 Axes>"
      ]
     },
     "metadata": {
      "needs_background": "light"
     },
     "output_type": "display_data"
    }
   ],
   "source": [
    "plot_kmeans(K,umap_ssd,\"elbow\")"
   ]
  },
  {
   "cell_type": "code",
   "execution_count": 612,
   "metadata": {},
   "outputs": [
    {
     "data": {
      "image/png": "[encoded data removed]",
      "text/plain": [
       "<Figure size 432x288 with 1 Axes>"
      ]
     },
     "metadata": {
      "needs_background": "light"
     },
     "output_type": "display_data"
    }
   ],
   "source": [
    "plot_kmeans(K,umap_silhouette,\"silhouette\")"
   ]
  },
  {
   "cell_type": "markdown",
   "metadata": {},
   "source": [
    "#### 2.5.5 Choose clustering model"
   ]
  },
  {
   "cell_type": "code",
   "execution_count": 75,
   "metadata": {},
   "outputs": [],
   "source": [
    "k = 100"
   ]
  },
  {
   "cell_type": "code",
   "execution_count": 76,
   "metadata": {},
   "outputs": [
    {
     "name": "stdout",
     "output_type": "stream",
     "text": [
      "CPU times: user 1min 39s, sys: 14.2 s, total: 1min 54s\n",
      "Wall time: 23.4 s\n"
     ]
    }
   ],
   "source": [
    "%%time\n",
    "\n",
    "km_base = cluster.KMeans(n_clusters=k,max_iter=300).fit(E)\n",
    "labels = km_base.labels_\n",
    "centroids = km_base.cluster_centers_\n",
    "\n",
    "km_pca = cluster.KMeans(n_clusters=k,max_iter=300).fit(E_pca)\n",
    "labels_pca = km_pca.labels_\n",
    "\n",
    "km_umap = cluster.KMeans(n_clusters=k,max_iter=300).fit(E_umap)\n",
    "labels_umap=km_umap.labels_\n",
    "\n",
    "km_tsne = cluster.KMeans(n_clusters=k,max_iter=300).fit(E_tsne)\n",
    "labels_tsne = km_tsne.labels_"
   ]
  },
  {
   "cell_type": "markdown",
   "metadata": {},
   "source": [
    "Create an index that maps each word to a cluster."
   ]
  },
  {
   "cell_type": "code",
   "execution_count": 77,
   "metadata": {},
   "outputs": [],
   "source": [
    "word2cluster = {features[idx]: cl for idx, cl in enumerate(labels)}"
   ]
  },
  {
   "cell_type": "code",
   "execution_count": 78,
   "metadata": {},
   "outputs": [
    {
     "name": "stdout",
     "output_type": "stream",
     "text": [
      "[('[', 61), (']', 61), ('aa', 78), ('aa_bowl', 19), ('aardvark_sauce', 56), ('aaron', 77), ('abby', 77), ('ability', 22), ('ability_multitask', 3), ('able', 14)]\n"
     ]
    }
   ],
   "source": [
    "print(take(10, word2cluster.items()))"
   ]
  },
  {
   "cell_type": "markdown",
   "metadata": {},
   "source": [
    "Now, conversely, create an index that maps each cluster to a word."
   ]
  },
  {
   "cell_type": "code",
   "execution_count": 79,
   "metadata": {},
   "outputs": [],
   "source": [
    "cluster2words = defaultdict(list)\n",
    "for key, value in word2cluster.items():\n",
    "    cluster2words[value].append(key)"
   ]
  },
  {
   "cell_type": "code",
   "execution_count": 80,
   "metadata": {},
   "outputs": [
    {
     "name": "stdout",
     "output_type": "stream",
     "text": [
      "3\n",
      "['gas', 'gas_station', 'pump']\n"
     ]
    }
   ],
   "source": [
    "print(len(cluster2words[0]))\n",
    "print(cluster2words[0][:100])"
   ]
  },
  {
   "cell_type": "code",
   "execution_count": 81,
   "metadata": {},
   "outputs": [
    {
     "name": "stdout",
     "output_type": "stream",
     "text": [
      "92\n",
      "['absolute', 'allllll', 'amazingly', 'angel', 'bam', 'beyond_belief', 'blew_away', 'blew_mind', 'blow_mind', 'bomb', 'chart', 'cloud', 'crazy', 'da_bomb', 'damn', 'darn', 'dayum', 'describe', 'dove', 'dream', 'dreaming', 'entire_life', 'epic', 'ever', 'ever_eaten', 'ever_seen', 'every_single', 'exaggerating', 'exaggeration', 'fell_love', 'flippin', 'freakin', 'freaking', 'genius', 'god', 'hand', 'heart', 'heaven', 'holy_cow', 'honestly', 'icing_cake', 'imagined', 'insanely', 'ive_ever', 'legit', 'legitimately', 'life', 'life_changing', 'literally', 'looooove', 'magic', 'magnificent', 'mama', 'moon', 'mouth', 'must', 'obsessed', 'oh_god', 'oh_goodness', 'oh_gosh', 'oh_man', 'omg', 'otherworldly', 'planet', 'pure', 'secret', 'seriously', 'soo', 'sooo', 'soooo', 'sooooo', 'soooooo', 'soooooooooo', 'super_duper', 'swear', 'teared', 'ultimate', 'unbelievable', 'unbelievably', 'undeniably', 'understatement', 'unicorn', 'unreal', 'utterly', 'wa', 'wanna_slap', 'whoa', 'woah', 'word', 'word_describe', 'world', 'wow']\n"
     ]
    }
   ],
   "source": [
    "print(len(cluster2words[1]))\n",
    "print(cluster2words[1][:100])"
   ]
  },
  {
   "cell_type": "markdown",
   "metadata": {},
   "source": [
    "### 2.6 Initialize documents"
   ]
  },
  {
   "cell_type": "markdown",
   "metadata": {},
   "source": [
    "Transform all reviews into \"documents\", each with a set of weights per word in the corpus (\"nbow\"), the sum of these weights (\"weights_sum\"), the indeces of the words in the documents (\"idxs\") and the word vectors corresponding to each word (\"vecs\")."
   ]
  },
  {
   "cell_type": "code",
   "execution_count": 82,
   "metadata": {},
   "outputs": [
    {
     "data": {
      "text/plain": [
       "<1x8401 sparse matrix of type '<class 'numpy.float64'>'\n",
       "\twith 33 stored elements in Compressed Sparse Row format>"
      ]
     },
     "execution_count": 82,
     "metadata": {},
     "output_type": "execute_result"
    }
   ],
   "source": [
    "pos_nbow[0]"
   ]
  },
  {
   "cell_type": "code",
   "execution_count": 125,
   "metadata": {},
   "outputs": [
    {
     "name": "stdout",
     "output_type": "stream",
     "text": [
      "CPU times: user 457 ms, sys: 124 ms, total: 581 ms\n",
      "Wall time: 595 ms\n"
     ]
    }
   ],
   "source": [
    "%%time \n",
    "\n",
    "pos_docs, neg_docs = [], []\n",
    "\n",
    "for idx, doc in enumerate(pos_tok):\n",
    "    pos_docs.append(Document(doc, pos_nbow[idx], word2idx, E, idx))\n",
    "    \n",
    "for idx, doc in enumerate(neg_tok):\n",
    "    neg_docs.append(Document(doc, neg_nbow[idx], word2idx, E, idx))"
   ]
  },
  {
   "cell_type": "code",
   "execution_count": 126,
   "metadata": {},
   "outputs": [
    {
     "data": {
      "text/plain": [
       "array([[0.00661839, 0.00661839, 0.        , ..., 0.        , 0.        ,\n",
       "        0.        ]])"
      ]
     },
     "execution_count": 126,
     "metadata": {},
     "output_type": "execute_result"
    }
   ],
   "source": [
    "pos_docs[0].nbow"
   ]
  },
  {
   "cell_type": "code",
   "execution_count": 127,
   "metadata": {},
   "outputs": [
    {
     "data": {
      "text/plain": [
       "1.0"
      ]
     },
     "execution_count": 127,
     "metadata": {},
     "output_type": "execute_result"
    }
   ],
   "source": [
    "pos_docs[0].weights_sum"
   ]
  },
  {
   "cell_type": "code",
   "execution_count": 128,
   "metadata": {},
   "outputs": [
    {
     "data": {
      "text/plain": [
       "[0, 3201, 1, 5255, 7058, 7324, 668, 7710, 6305, 165]"
      ]
     },
     "execution_count": 128,
     "metadata": {},
     "output_type": "execute_result"
    }
   ],
   "source": [
    "pos_docs[0].idxs[:10]"
   ]
  },
  {
   "cell_type": "code",
   "execution_count": 129,
   "metadata": {},
   "outputs": [
    {
     "data": {
      "text/plain": [
       "array([ 0.15857954, -0.15556984, -0.0054978 , -0.1308413 , -0.01429296,\n",
       "       -0.12834749,  0.11757544,  0.13080046,  0.03922231,  0.3269623 ],\n",
       "      dtype=float32)"
      ]
     },
     "execution_count": 129,
     "metadata": {},
     "output_type": "execute_result"
    }
   ],
   "source": [
    "pos_docs[0].vecs[:1][0][:10]"
   ]
  },
  {
   "cell_type": "markdown",
   "metadata": {},
   "source": [
    "### 2.7 Linear-Complexity Relaxed WMD (LC-RWMD)"
   ]
  },
  {
   "cell_type": "markdown",
   "metadata": {},
   "source": [
    "Run the [Linear-Complexity Relaxed WMD](https://arxiv.org/abs/1711.07227) to get the distances between all positive and all negative reviews."
   ]
  },
  {
   "cell_type": "code",
   "execution_count": 130,
   "metadata": {},
   "outputs": [],
   "source": [
    "lc_rwmd = LC_RWMD(pos_docs, neg_docs,pos_nbow,neg_nbow,E)"
   ]
  },
  {
   "cell_type": "code",
   "execution_count": 131,
   "metadata": {},
   "outputs": [
    {
     "name": "stdout",
     "output_type": "stream",
     "text": [
      "CPU times: user 51.8 s, sys: 9.38 s, total: 1min 1s\n",
      "Wall time: 15.9 s\n"
     ]
    }
   ],
   "source": [
    "%time lc_rwmd.get_D()\n",
    "#%time lc_rwmd.get_L(1)\n",
    "#%time lc_rwmd.get_rwmd()"
   ]
  },
  {
   "cell_type": "markdown",
   "metadata": {},
   "source": [
    "### 2.8 Gale-Shapeley Pairing"
   ]
  },
  {
   "cell_type": "markdown",
   "metadata": {},
   "source": [
    "Use the [Gale-Shapeley matching algorithm](https://en.wikipedia.org/wiki/Gale%E2%80%93Shapley_algorithm) to find the optimal pairs between positive and negative reviews. This iterates over all the reviews and finds the set of matches that pairs each review with its optimal match given that all positive reviews have to be matched with a negative review and vice versa. The output is a dictionary of key-value pairs, where each pair represents an optimal match."
   ]
  },
  {
   "cell_type": "code",
   "execution_count": 178,
   "metadata": {},
   "outputs": [],
   "source": [
    "# Options: 'gale_shapeley','random','full'\n",
    "\n",
    "pairing = 'full'"
   ]
  },
  {
   "cell_type": "code",
   "execution_count": 179,
   "metadata": {},
   "outputs": [
    {
     "name": "stdout",
     "output_type": "stream",
     "text": [
      "Running full pairing.\n",
      "CPU times: user 25.8 ms, sys: 3.99 ms, total: 29.8 ms\n",
      "Wall time: 29.2 ms\n"
     ]
    }
   ],
   "source": [
    "%%time\n",
    "\n",
    "if pairing == 'gale_shapeley':\n",
    "    print(\"Running Gale-Shapeley pairing.\")\n",
    "    matcher = Matcher(lc_rwmd.D)\n",
    "    engaged = matcher.matchmaker()\n",
    "    matcher.check()\n",
    "    pairs = [(k, v) for k, v in engaged.items()]\n",
    "    #pairs = engaged\n",
    "if pairing == 'random':\n",
    "    print(\"Running random pairing.\")\n",
    "    pos_idx = list(range(0,len(pos_docs)))\n",
    "    neg_idx = list(range(0,len(neg_docs)))\n",
    "    shuffle(pos_idx)\n",
    "    shuffle(neg_idx)\n",
    "    pairs = zip(pos_idx, neg_idx)\n",
    "if pairing == 'full':\n",
    "    print(\"Running full pairing.\")\n",
    "    pos_idx = list(range(0,len(pos_docs)))\n",
    "    neg_idx = list(range(0,len(neg_docs)))\n",
    "    pairs = [(i,j) for i in pos_idx for j in neg_idx]\n",
    "    #pos_docs = [d for d in pos_docs for _ in list(range(0,len(neg_docs)))]\n",
    "    #neg_docs = [d for d in neg_docs for _ in list(range(0,len(pos_docs)))]"
   ]
  },
  {
   "cell_type": "markdown",
   "metadata": {},
   "source": [
    "Let's look at the output of Gale-Shapeley:"
   ]
  },
  {
   "cell_type": "code",
   "execution_count": 180,
   "metadata": {},
   "outputs": [
    {
     "name": "stdout",
     "output_type": "stream",
     "text": [
      "[(0, 0), (0, 1), (0, 2), (0, 3), (0, 4), (0, 5), (0, 6), (0, 7), (0, 8), (0, 9), (0, 10), (0, 11), (0, 12), (0, 13), (0, 14), (0, 15), (0, 16), (0, 17), (0, 18), (0, 19)]\n"
     ]
    }
   ],
   "source": [
    "print(pairs[:20])"
   ]
  },
  {
   "cell_type": "code",
   "execution_count": 146,
   "metadata": {},
   "outputs": [],
   "source": [
    "#take(10, pairs.items())"
   ]
  },
  {
   "cell_type": "code",
   "execution_count": 147,
   "metadata": {},
   "outputs": [
    {
     "ename": "AttributeError",
     "evalue": "'list' object has no attribute 'items'",
     "output_type": "error",
     "traceback": [
      "\u001b[0;31m---------------------------------------------------------------------------\u001b[0m",
      "\u001b[0;31mAttributeError\u001b[0m                            Traceback (most recent call last)",
      "\u001b[0;32m<ipython-input-147-f065c3360b5e>\u001b[0m in \u001b[0;36m<module>\u001b[0;34m\u001b[0m\n\u001b[1;32m      1\u001b[0m example_pairs = [(' '.join(word for word in pos_docs[p[0]].words), \n\u001b[1;32m      2\u001b[0m                   ' '.join(word for word in neg_docs[p[1]].words))\n\u001b[0;32m----> 3\u001b[0;31m                  for p in take(10, pairs.items())]\n\u001b[0m",
      "\u001b[0;31mAttributeError\u001b[0m: 'list' object has no attribute 'items'"
     ]
    }
   ],
   "source": [
    "example_pairs = [(' '.join(word for word in pos_docs[p[0]].words), \n",
    "                  ' '.join(word for word in neg_docs[p[1]].words))\n",
    "                 for p in take(10, pairs.items())]"
   ]
  },
  {
   "cell_type": "code",
   "execution_count": 901,
   "metadata": {},
   "outputs": [
    {
     "data": {
      "text/plain": [
       "'found place yelp event block warm portland beautiful fall day decided visit first customer day kinda stalked place opened portland full ice_cream shop kinda known ice_cream donut picky ice_cream want give something buy store especially scoop want something weird sake weird scoop amazing flavor tried two knew wanted mocha almond fudge counter know front best ice_cream ever delicious strong boy got pumpkin one tried bite like eating pumpkin pie super amazing also service awesome sweet counter even engaged boy midday school homeschool went school online high school really appreciate people judge wonderful'"
      ]
     },
     "execution_count": 901,
     "metadata": {},
     "output_type": "execute_result"
    }
   ],
   "source": [
    "example_pairs[9][0]"
   ]
  },
  {
   "cell_type": "code",
   "execution_count": 902,
   "metadata": {},
   "outputs": [
    {
     "data": {
      "text/plain": [
       "'tiny burger even fill bun pathetic salad bar pathetic size food pathetic asian buffet understand place empty turkey place packed come ever patty size slider patty'"
      ]
     },
     "execution_count": 902,
     "metadata": {},
     "output_type": "execute_result"
    }
   ],
   "source": [
    "example_pairs[9][1]"
   ]
  },
  {
   "cell_type": "code",
   "execution_count": 181,
   "metadata": {},
   "outputs": [
    {
     "data": {
      "text/plain": [
       "250000"
      ]
     },
     "execution_count": 181,
     "metadata": {},
     "output_type": "execute_result"
    }
   ],
   "source": [
    "len(pairs)"
   ]
  },
  {
   "cell_type": "markdown",
   "metadata": {},
   "source": [
    "### 2.9 Pairwise WMD with Baseline Kmeans"
   ]
  },
  {
   "cell_type": "markdown",
   "metadata": {},
   "source": [
    "Calculate the pairwise distances between the documents selected by the Galey-Shapeley algorithm _without_ returning the flow between individual words."
   ]
  },
  {
   "cell_type": "code",
   "execution_count": 162,
   "metadata": {},
   "outputs": [
    {
     "name": "stdout",
     "output_type": "stream",
     "text": [
      "Calculated distances between 0 documents.\n",
      "Calculated distances between 100 documents.\n",
      "Calculated distances between 200 documents.\n",
      "Calculated distances between 300 documents.\n",
      "Calculated distances between 400 documents.\n",
      "CPU times: user 37.1 s, sys: 5.67 s, total: 42.8 s\n",
      "Wall time: 13 s\n"
     ]
    }
   ],
   "source": [
    "%%time \n",
    "\n",
    "wmd_pairs = WMDPairs(pos_docs,neg_docs,pairs,E,idx2word, metric='euclidean')\n",
    "wmd_pairs.get_distances(thread=False)"
   ]
  },
  {
   "cell_type": "markdown",
   "metadata": {},
   "source": [
    "The return value is a matrix of distances between the document pairs."
   ]
  },
  {
   "cell_type": "code",
   "execution_count": 164,
   "metadata": {},
   "outputs": [
    {
     "data": {
      "text/plain": [
       "4.1073916350451585"
      ]
     },
     "execution_count": 164,
     "metadata": {},
     "output_type": "execute_result"
    }
   ],
   "source": [
    "np.max(wmd_pairs.distances)"
   ]
  },
  {
   "cell_type": "markdown",
   "metadata": {},
   "source": [
    "Calculate the pairwise distances between the documents selected by the Galey-Shapeley algorithm, this time also returning the flow between individual words."
   ]
  },
  {
   "cell_type": "code",
   "execution_count": null,
   "metadata": {},
   "outputs": [
    {
     "name": "stdout",
     "output_type": "stream",
     "text": [
      "Calculated distances between approximately 0 documents. 00h00m00s elapsed.\n",
      "Calculated distances between approximately 1000 documents. 00h00m09s elapsed.\n",
      "Calculated distances between approximately 2000 documents. 00h00m19s elapsed.\n",
      "Calculated distances between approximately 3000 documents. 00h00m33s elapsed.\n",
      "Calculated distances between approximately 4000 documents. 00h00m44s elapsed.\n",
      "Calculated distances between approximately 5000 documents. 00h00m56s elapsed.\n",
      "Calculated distances between approximately 6000 documents. 00h01m08s elapsed.\n",
      "Calculated distances between approximately 7000 documents. 00h01m22s elapsed.\n",
      "Calculated distances between approximately 8000 documents. 00h01m30s elapsed.\n",
      "Calculated distances between approximately 9000 documents. 00h01m40s elapsed.\n",
      "Calculated distances between approximately 10000 documents. 00h01m49s elapsed.\n",
      "Calculated distances between approximately 11000 documents. 00h02m02s elapsed.\n",
      "Calculated distances between approximately 12000 documents. 00h02m18s elapsed.\n",
      "Calculated distances between approximately 13000 documents. 00h02m26s elapsed.\n",
      "Calculated distances between approximately 14000 documents. 00h02m38s elapsed.\n",
      "Calculated distances between approximately 15000 documents. 00h02m47s elapsed.\n",
      "Calculated distances between approximately 16000 documents. 00h02m58s elapsed.\n",
      "Calculated distances between approximately 17000 documents. 00h03m06s elapsed.\n",
      "Calculated distances between approximately 18000 documents. 00h03m15s elapsed.\n",
      "Calculated distances between approximately 19000 documents. 00h03m25s elapsed.\n",
      "Calculated distances between approximately 20000 documents. 00h03m33s elapsed.\n",
      "Calculated distances between approximately 21000 documents. 00h03m44s elapsed.\n",
      "Calculated distances between approximately 22000 documents. 00h03m57s elapsed.\n",
      "Calculated distances between approximately 23000 documents. 00h04m08s elapsed.\n"
     ]
    }
   ],
   "source": [
    "%%time \n",
    "\n",
    "wmd_pairs_flow = WMDPairs(pos_docs,neg_docs,pairs,E,idx2word, metric='euclidean')\n",
    "wmd_pairs_flow.get_distances(return_flow = True, \n",
    "                             sum_clusters = True, \n",
    "                             w2c = word2cluster, \n",
    "                             c2w = cluster2words,\n",
    "                             thread = False,\n",
    "                             relax = True)"
   ]
  },
  {
   "cell_type": "markdown",
   "metadata": {},
   "source": [
    "Now we have three return values.\n",
    "\n",
    "The first one is again a matrix of distances between the document pairs."
   ]
  },
  {
   "cell_type": "code",
   "execution_count": 166,
   "metadata": {},
   "outputs": [
    {
     "data": {
      "text/plain": [
       "3.3019907755425395"
      ]
     },
     "execution_count": 166,
     "metadata": {},
     "output_type": "execute_result"
    }
   ],
   "source": [
    "np.max(wmd_pairs_flow.distances)"
   ]
  },
  {
   "cell_type": "markdown",
   "metadata": {},
   "source": [
    "The second return value is a list of tuples with all the words that contributed the most to the distance from the positive documents to the negative ones. These are _not_ sorted from high to low or vice versa."
   ]
  },
  {
   "cell_type": "code",
   "execution_count": 167,
   "metadata": {},
   "outputs": [
    {
     "data": {
      "text/plain": [
       "[('complement', 0.15619962804877466),\n",
       " ('shhhhhh', 0.04539133330212135),\n",
       " ('mauritious', 0.0683048821998627),\n",
       " ('warm_welcoming', 0.20404056340163473),\n",
       " ('lit', 0.24915145157186797),\n",
       " ('recommended', 0.8938220338521592),\n",
       " ('told', 0.1679770050760956),\n",
       " ('tomorrow', 0.3349848367955383),\n",
       " ('rosie', 0.20718538117268906),\n",
       " ('flaming', 0.08450614191208061)]"
      ]
     },
     "execution_count": 167,
     "metadata": {},
     "output_type": "execute_result"
    }
   ],
   "source": [
    "take(10, wmd_pairs_flow.wc_X1.items())"
   ]
  },
  {
   "cell_type": "markdown",
   "metadata": {},
   "source": [
    "The third return value is a list of tuples with all the words that contributed the most to the distance from the negative documents to the positive ones. Again, these are _not_ sorted from high to low or vice versa."
   ]
  },
  {
   "cell_type": "code",
   "execution_count": 168,
   "metadata": {},
   "outputs": [
    {
     "data": {
      "text/plain": [
       "[('recommended', 0.2654164014226159),\n",
       " ('court', 0.11532698366148358),\n",
       " ('hot_pot', 0.46522486625119885),\n",
       " ('spinning', 0.0769794889108006),\n",
       " ('estimated', 0.11839599320534518),\n",
       " ('deal', 0.2204592598131232),\n",
       " ('disturbing', 0.18358437644615136),\n",
       " ('ccb', 0.02007290268916016),\n",
       " ('titanic', 0.08539107687219115),\n",
       " ('realized', 0.18492139489070256)]"
      ]
     },
     "execution_count": 168,
     "metadata": {},
     "output_type": "execute_result"
    }
   ],
   "source": [
    "take(10, wmd_pairs_flow.wc_X2.items())"
   ]
  },
  {
   "cell_type": "code",
   "execution_count": 169,
   "metadata": {},
   "outputs": [
    {
     "data": {
      "text/plain": [
       "[(61, 21.69137416242354),\n",
       " (78, 93.48796682964709),\n",
       " (19, 13.130018201764202),\n",
       " (56, 73.07075968543887),\n",
       " (77, 21.716118186964557),\n",
       " (22, 10.557814828139655),\n",
       " (3, 13.831637702222675),\n",
       " (14, 37.10450918952953),\n",
       " (95, 4.527940497671719),\n",
       " (52, 9.875972518155491)]"
      ]
     },
     "execution_count": 169,
     "metadata": {},
     "output_type": "execute_result"
    }
   ],
   "source": [
    "take(10, wmd_pairs_flow.cc_X1.items())"
   ]
  },
  {
   "cell_type": "code",
   "execution_count": 170,
   "metadata": {},
   "outputs": [
    {
     "data": {
      "text/plain": [
       "[(61, 46.126205435596184),\n",
       " (78, 129.80496979611914),\n",
       " (19, 4.962635409873455),\n",
       " (56, 19.40013713123049),\n",
       " (77, 8.653963544706865),\n",
       " (22, 10.180402543308603),\n",
       " (3, 15.695811448100203),\n",
       " (14, 49.282735511467415),\n",
       " (95, 5.828060751100896),\n",
       " (52, 5.819945119829744)]"
      ]
     },
     "execution_count": 170,
     "metadata": {},
     "output_type": "execute_result"
    }
   ],
   "source": [
    "take(10, wmd_pairs_flow.cc_X2.items())"
   ]
  },
  {
   "cell_type": "code",
   "execution_count": 171,
   "metadata": {},
   "outputs": [
    {
     "data": {
      "text/plain": [
       "{97: 115.99141668485028,\n",
       " 78: 93.48796682964709,\n",
       " 56: 73.07075968543887,\n",
       " 15: 66.35299404568369,\n",
       " 84: 54.553077257754936,\n",
       " 76: 45.09862465047596,\n",
       " 47: 39.80151569270191,\n",
       " 54: 38.26154437455849,\n",
       " 14: 37.10450918952953,\n",
       " 87: 25.478172535594588}"
      ]
     },
     "execution_count": 171,
     "metadata": {},
     "output_type": "execute_result"
    }
   ],
   "source": [
    "{k: v for k, v in sorted(wmd_pairs_flow.cc_X1.items(), key=lambda item: item[1], reverse=True)[:10]}"
   ]
  },
  {
   "cell_type": "code",
   "execution_count": 172,
   "metadata": {},
   "outputs": [],
   "source": [
    "wmd_pairs_flow.get_differences()"
   ]
  },
  {
   "cell_type": "markdown",
   "metadata": {},
   "source": [
    "### 3.1 Intepreting pairwise WMD flows"
   ]
  },
  {
   "cell_type": "markdown",
   "metadata": {},
   "source": [
    "Now, let's sort the distances of the words that created the most distance from the positive to the negative reviews."
   ]
  },
  {
   "cell_type": "code",
   "execution_count": 173,
   "metadata": {},
   "outputs": [
    {
     "data": {
      "text/html": [
       "<div>\n",
       "<style scoped>\n",
       "    .dataframe tbody tr th:only-of-type {\n",
       "        vertical-align: middle;\n",
       "    }\n",
       "\n",
       "    .dataframe tbody tr th {\n",
       "        vertical-align: top;\n",
       "    }\n",
       "\n",
       "    .dataframe thead th {\n",
       "        text-align: right;\n",
       "    }\n",
       "</style>\n",
       "<table border=\"1\" class=\"dataframe\">\n",
       "  <thead>\n",
       "    <tr style=\"text-align: right;\">\n",
       "      <th></th>\n",
       "      <th>cost</th>\n",
       "    </tr>\n",
       "  </thead>\n",
       "  <tbody>\n",
       "    <tr>\n",
       "      <th>great</th>\n",
       "      <td>9.029599</td>\n",
       "    </tr>\n",
       "    <tr>\n",
       "      <th>amazing</th>\n",
       "      <td>7.721157</td>\n",
       "    </tr>\n",
       "    <tr>\n",
       "      <th>delicious</th>\n",
       "      <td>6.517896</td>\n",
       "    </tr>\n",
       "    <tr>\n",
       "      <th>best</th>\n",
       "      <td>6.159932</td>\n",
       "    </tr>\n",
       "    <tr>\n",
       "      <th>definitely</th>\n",
       "      <td>5.732082</td>\n",
       "    </tr>\n",
       "    <tr>\n",
       "      <th>love</th>\n",
       "      <td>5.551648</td>\n",
       "    </tr>\n",
       "    <tr>\n",
       "      <th>friendly</th>\n",
       "      <td>5.159163</td>\n",
       "    </tr>\n",
       "    <tr>\n",
       "      <th>favorite</th>\n",
       "      <td>4.760595</td>\n",
       "    </tr>\n",
       "    <tr>\n",
       "      <th>nice</th>\n",
       "      <td>4.187367</td>\n",
       "    </tr>\n",
       "    <tr>\n",
       "      <th>highly_recommend</th>\n",
       "      <td>4.061374</td>\n",
       "    </tr>\n",
       "    <tr>\n",
       "      <th>staff</th>\n",
       "      <td>3.906550</td>\n",
       "    </tr>\n",
       "    <tr>\n",
       "      <th>portland</th>\n",
       "      <td>3.761318</td>\n",
       "    </tr>\n",
       "    <tr>\n",
       "      <th>selection</th>\n",
       "      <td>3.440033</td>\n",
       "    </tr>\n",
       "    <tr>\n",
       "      <th>always</th>\n",
       "      <td>3.424206</td>\n",
       "    </tr>\n",
       "    <tr>\n",
       "      <th>excellent</th>\n",
       "      <td>3.331080</td>\n",
       "    </tr>\n",
       "    <tr>\n",
       "      <th>fresh</th>\n",
       "      <td>3.017381</td>\n",
       "    </tr>\n",
       "    <tr>\n",
       "      <th>super</th>\n",
       "      <td>2.933399</td>\n",
       "    </tr>\n",
       "    <tr>\n",
       "      <th>sweet</th>\n",
       "      <td>2.914843</td>\n",
       "    </tr>\n",
       "    <tr>\n",
       "      <th>food</th>\n",
       "      <td>2.844106</td>\n",
       "    </tr>\n",
       "    <tr>\n",
       "      <th>atmosphere</th>\n",
       "      <td>2.801800</td>\n",
       "    </tr>\n",
       "    <tr>\n",
       "      <th>atlanta</th>\n",
       "      <td>2.795980</td>\n",
       "    </tr>\n",
       "    <tr>\n",
       "      <th>spot</th>\n",
       "      <td>2.736719</td>\n",
       "    </tr>\n",
       "    <tr>\n",
       "      <th>good</th>\n",
       "      <td>2.731341</td>\n",
       "    </tr>\n",
       "    <tr>\n",
       "      <th>everything</th>\n",
       "      <td>2.698695</td>\n",
       "    </tr>\n",
       "    <tr>\n",
       "      <th>enjoyed</th>\n",
       "      <td>2.626392</td>\n",
       "    </tr>\n",
       "    <tr>\n",
       "      <th>loved</th>\n",
       "      <td>2.493412</td>\n",
       "    </tr>\n",
       "    <tr>\n",
       "      <th>thank</th>\n",
       "      <td>2.473956</td>\n",
       "    </tr>\n",
       "    <tr>\n",
       "      <th>awesome</th>\n",
       "      <td>2.455216</td>\n",
       "    </tr>\n",
       "    <tr>\n",
       "      <th>perfect</th>\n",
       "      <td>2.341160</td>\n",
       "    </tr>\n",
       "    <tr>\n",
       "      <th>place</th>\n",
       "      <td>2.313152</td>\n",
       "    </tr>\n",
       "  </tbody>\n",
       "</table>\n",
       "</div>"
      ],
      "text/plain": [
       "                      cost\n",
       "great             9.029599\n",
       "amazing           7.721157\n",
       "delicious         6.517896\n",
       "best              6.159932\n",
       "definitely        5.732082\n",
       "love              5.551648\n",
       "friendly          5.159163\n",
       "favorite          4.760595\n",
       "nice              4.187367\n",
       "highly_recommend  4.061374\n",
       "staff             3.906550\n",
       "portland          3.761318\n",
       "selection         3.440033\n",
       "always            3.424206\n",
       "excellent         3.331080\n",
       "fresh             3.017381\n",
       "super             2.933399\n",
       "sweet             2.914843\n",
       "food              2.844106\n",
       "atmosphere        2.801800\n",
       "atlanta           2.795980\n",
       "spot              2.736719\n",
       "good              2.731341\n",
       "everything        2.698695\n",
       "enjoyed           2.626392\n",
       "loved             2.493412\n",
       "thank             2.473956\n",
       "awesome           2.455216\n",
       "perfect           2.341160\n",
       "place             2.313152"
      ]
     },
     "execution_count": 173,
     "metadata": {},
     "output_type": "execute_result"
    }
   ],
   "source": [
    "top_words_x1 = {k: v for k, v in sorted(wmd_pairs_flow.wc_X1_diff.items(), key=lambda item: item[1], reverse=True)[:30]}\n",
    "top_words_x1_df = pd.DataFrame.from_dict(top_words_x1, orient='index', columns = [\"cost\"])\n",
    "top_words_x1_df"
   ]
  },
  {
   "cell_type": "markdown",
   "metadata": {},
   "source": [
    "Next, let's see what added most distance when moving from the negative to the positive reviews."
   ]
  },
  {
   "cell_type": "code",
   "execution_count": 174,
   "metadata": {},
   "outputs": [
    {
     "data": {
      "text/html": [
       "<div>\n",
       "<style scoped>\n",
       "    .dataframe tbody tr th:only-of-type {\n",
       "        vertical-align: middle;\n",
       "    }\n",
       "\n",
       "    .dataframe tbody tr th {\n",
       "        vertical-align: top;\n",
       "    }\n",
       "\n",
       "    .dataframe thead th {\n",
       "        text-align: right;\n",
       "    }\n",
       "</style>\n",
       "<table border=\"1\" class=\"dataframe\">\n",
       "  <thead>\n",
       "    <tr style=\"text-align: right;\">\n",
       "      <th></th>\n",
       "      <th>cost</th>\n",
       "    </tr>\n",
       "  </thead>\n",
       "  <tbody>\n",
       "    <tr>\n",
       "      <th>order</th>\n",
       "      <td>4.381949</td>\n",
       "    </tr>\n",
       "    <tr>\n",
       "      <th>rude</th>\n",
       "      <td>4.273944</td>\n",
       "    </tr>\n",
       "    <tr>\n",
       "      <th>worst</th>\n",
       "      <td>4.076047</td>\n",
       "    </tr>\n",
       "    <tr>\n",
       "      <th>never</th>\n",
       "      <td>3.793329</td>\n",
       "    </tr>\n",
       "    <tr>\n",
       "      <th>customer</th>\n",
       "      <td>3.584587</td>\n",
       "    </tr>\n",
       "    <tr>\n",
       "      <th>told</th>\n",
       "      <td>3.311112</td>\n",
       "    </tr>\n",
       "    <tr>\n",
       "      <th>minute</th>\n",
       "      <td>3.297206</td>\n",
       "    </tr>\n",
       "    <tr>\n",
       "      <th>horrible</th>\n",
       "      <td>3.103740</td>\n",
       "    </tr>\n",
       "    <tr>\n",
       "      <th>business</th>\n",
       "      <td>2.697527</td>\n",
       "    </tr>\n",
       "    <tr>\n",
       "      <th>said</th>\n",
       "      <td>2.634909</td>\n",
       "    </tr>\n",
       "    <tr>\n",
       "      <th>asked</th>\n",
       "      <td>2.605784</td>\n",
       "    </tr>\n",
       "    <tr>\n",
       "      <th>employee</th>\n",
       "      <td>2.576685</td>\n",
       "    </tr>\n",
       "    <tr>\n",
       "      <th>money</th>\n",
       "      <td>2.360828</td>\n",
       "    </tr>\n",
       "    <tr>\n",
       "      <th>terrible</th>\n",
       "      <td>2.323334</td>\n",
       "    </tr>\n",
       "    <tr>\n",
       "      <th>get</th>\n",
       "      <td>2.297349</td>\n",
       "    </tr>\n",
       "    <tr>\n",
       "      <th>manager</th>\n",
       "      <td>2.252928</td>\n",
       "    </tr>\n",
       "    <tr>\n",
       "      <th>called</th>\n",
       "      <td>2.248783</td>\n",
       "    </tr>\n",
       "    <tr>\n",
       "      <th>company</th>\n",
       "      <td>2.099047</td>\n",
       "    </tr>\n",
       "    <tr>\n",
       "      <th>pm</th>\n",
       "      <td>2.078684</td>\n",
       "    </tr>\n",
       "    <tr>\n",
       "      <th>bad</th>\n",
       "      <td>2.077161</td>\n",
       "    </tr>\n",
       "    <tr>\n",
       "      <th>customer_service</th>\n",
       "      <td>2.065690</td>\n",
       "    </tr>\n",
       "    <tr>\n",
       "      <th>sick</th>\n",
       "      <td>1.953755</td>\n",
       "    </tr>\n",
       "    <tr>\n",
       "      <th>give</th>\n",
       "      <td>1.942356</td>\n",
       "    </tr>\n",
       "    <tr>\n",
       "      <th>water</th>\n",
       "      <td>1.910586</td>\n",
       "    </tr>\n",
       "    <tr>\n",
       "      <th>phone</th>\n",
       "      <td>1.900887</td>\n",
       "    </tr>\n",
       "    <tr>\n",
       "      <th>hour</th>\n",
       "      <td>1.870935</td>\n",
       "    </tr>\n",
       "    <tr>\n",
       "      <th>wrong</th>\n",
       "      <td>1.856100</td>\n",
       "    </tr>\n",
       "    <tr>\n",
       "      <th>people</th>\n",
       "      <td>1.841661</td>\n",
       "    </tr>\n",
       "    <tr>\n",
       "      <th>u</th>\n",
       "      <td>1.820018</td>\n",
       "    </tr>\n",
       "    <tr>\n",
       "      <th>call</th>\n",
       "      <td>1.788649</td>\n",
       "    </tr>\n",
       "  </tbody>\n",
       "</table>\n",
       "</div>"
      ],
      "text/plain": [
       "                      cost\n",
       "order             4.381949\n",
       "rude              4.273944\n",
       "worst             4.076047\n",
       "never             3.793329\n",
       "customer          3.584587\n",
       "told              3.311112\n",
       "minute            3.297206\n",
       "horrible          3.103740\n",
       "business          2.697527\n",
       "said              2.634909\n",
       "asked             2.605784\n",
       "employee          2.576685\n",
       "money             2.360828\n",
       "terrible          2.323334\n",
       "get               2.297349\n",
       "manager           2.252928\n",
       "called            2.248783\n",
       "company           2.099047\n",
       "pm                2.078684\n",
       "bad               2.077161\n",
       "customer_service  2.065690\n",
       "sick              1.953755\n",
       "give              1.942356\n",
       "water             1.910586\n",
       "phone             1.900887\n",
       "hour              1.870935\n",
       "wrong             1.856100\n",
       "people            1.841661\n",
       "u                 1.820018\n",
       "call              1.788649"
      ]
     },
     "execution_count": 174,
     "metadata": {},
     "output_type": "execute_result"
    }
   ],
   "source": [
    "top_words_x2 = {k: v for k, v in sorted(wmd_pairs_flow.wc_X2_diff.items(), key=lambda item: item[1], reverse=True)[:30]}\n",
    "top_words_x2_df = pd.DataFrame.from_dict(top_words_x2, orient='index', columns = [\"cost\"])\n",
    "top_words_x2_df"
   ]
  },
  {
   "cell_type": "markdown",
   "metadata": {},
   "source": [
    "Finally, let's look at the distances between the two sets by clustering similar words, in order to get a better sense of what kind of \"topics\" that separate them. Each cluster has a weight that matches the sum of the words belonging to that cluster. We choose *n* top clusters to inspect. To make the clusters interpretable, we also represent each of them by *m* keywords, selected based on the cost they individually add between the two sets."
   ]
  },
  {
   "cell_type": "code",
   "execution_count": 914,
   "metadata": {},
   "outputs": [],
   "source": [
    "n_clusters = 10\n",
    "n_words = 10"
   ]
  },
  {
   "cell_type": "code",
   "execution_count": 915,
   "metadata": {},
   "outputs": [],
   "source": [
    "c1 = output_clusters(wc=wmd_pairs_flow.wc_X1_diff.items(), \n",
    "                     cc=wmd_pairs_flow.cc_X1.items(), \n",
    "                     c2w=cluster2words, \n",
    "                     n_clusters=n_clusters, \n",
    "                     n_words=n_words)\n",
    "c2 = output_clusters(wc=wmd_pairs_flow.wc_X2_diff.items(), \n",
    "                     cc=wmd_pairs_flow.cc_X2.items(), \n",
    "                     c2w=cluster2words, \n",
    "                     n_clusters=n_clusters, \n",
    "                     n_words=n_words)"
   ]
  },
  {
   "cell_type": "markdown",
   "metadata": {},
   "source": [
    "Positive to negative clusters."
   ]
  },
  {
   "cell_type": "code",
   "execution_count": 916,
   "metadata": {},
   "outputs": [
    {
     "data": {
      "text/html": [
       "<div>\n",
       "<style scoped>\n",
       "    .dataframe tbody tr th:only-of-type {\n",
       "        vertical-align: middle;\n",
       "    }\n",
       "\n",
       "    .dataframe tbody tr th {\n",
       "        vertical-align: top;\n",
       "    }\n",
       "\n",
       "    .dataframe thead th {\n",
       "        text-align: right;\n",
       "    }\n",
       "</style>\n",
       "<table border=\"1\" class=\"dataframe\">\n",
       "  <thead>\n",
       "    <tr style=\"text-align: right;\">\n",
       "      <th></th>\n",
       "      <th>48</th>\n",
       "      <th>5</th>\n",
       "      <th>80</th>\n",
       "      <th>73</th>\n",
       "      <th>50</th>\n",
       "      <th>92</th>\n",
       "      <th>94</th>\n",
       "      <th>76</th>\n",
       "      <th>36</th>\n",
       "      <th>64</th>\n",
       "    </tr>\n",
       "  </thead>\n",
       "  <tbody>\n",
       "    <tr>\n",
       "      <th>0</th>\n",
       "      <td>great (27.53)</td>\n",
       "      <td>always (6.54)</td>\n",
       "      <td>place (7.75)</td>\n",
       "      <td>delicious (18.22)</td>\n",
       "      <td>pizza (3.76)</td>\n",
       "      <td>variety (2.75)</td>\n",
       "      <td>wait (4.24)</td>\n",
       "      <td>love (13.42)</td>\n",
       "      <td>service (5.75)</td>\n",
       "      <td>donut (3.38)</td>\n",
       "    </tr>\n",
       "    <tr>\n",
       "      <th>1</th>\n",
       "      <td>amazing (22.95)</td>\n",
       "      <td>definitely (5.89)</td>\n",
       "      <td>spot (7.69)</td>\n",
       "      <td>food (14.93)</td>\n",
       "      <td>dish (3.61)</td>\n",
       "      <td>different (2.52)</td>\n",
       "      <td>disappoint (2.12)</td>\n",
       "      <td>thank (7.2)</td>\n",
       "      <td>staff (4.49)</td>\n",
       "      <td>biscuit (3.11)</td>\n",
       "    </tr>\n",
       "    <tr>\n",
       "      <th>2</th>\n",
       "      <td>best (11.43)</td>\n",
       "      <td>everything (4.93)</td>\n",
       "      <td>team (3.17)</td>\n",
       "      <td>tasty (5.4)</td>\n",
       "      <td>burger (3.0)</td>\n",
       "      <td>new (2.41)</td>\n",
       "      <td>die (1.94)</td>\n",
       "      <td>loved (6.26)</td>\n",
       "      <td>environment (3.82)</td>\n",
       "      <td>bowl (3.03)</td>\n",
       "    </tr>\n",
       "    <tr>\n",
       "      <th>3</th>\n",
       "      <td>excellent (9.74)</td>\n",
       "      <td>especially (2.62)</td>\n",
       "      <td>weekend (1.37)</td>\n",
       "      <td>menu (4.92)</td>\n",
       "      <td>chicken (2.65)</td>\n",
       "      <td>also (2.37)</td>\n",
       "      <td>jam (1.2)</td>\n",
       "      <td>welcoming (4.34)</td>\n",
       "      <td>experience (2.97)</td>\n",
       "      <td>egg (1.69)</td>\n",
       "    </tr>\n",
       "    <tr>\n",
       "      <th>4</th>\n",
       "      <td>awesome (8.89)</td>\n",
       "      <td>little (2.28)</td>\n",
       "      <td>beat (1.22)</td>\n",
       "      <td>vegan (4.38)</td>\n",
       "      <td>fried_chicken (2.61)</td>\n",
       "      <td>hand (1.91)</td>\n",
       "      <td>chop (1.08)</td>\n",
       "      <td>enjoyed (4.1)</td>\n",
       "      <td>work (1.67)</td>\n",
       "      <td>baked (1.55)</td>\n",
       "    </tr>\n",
       "    <tr>\n",
       "      <th>5</th>\n",
       "      <td>nice (8.55)</td>\n",
       "      <td>really (2.28)</td>\n",
       "      <td>winner (1.05)</td>\n",
       "      <td>yummy (4.14)</td>\n",
       "      <td>chicken_sandwich (2.47)</td>\n",
       "      <td>many (1.61)</td>\n",
       "      <td>miss (0.91)</td>\n",
       "      <td>glad (2.59)</td>\n",
       "      <td>partner (0.71)</td>\n",
       "      <td>cake (1.37)</td>\n",
       "    </tr>\n",
       "    <tr>\n",
       "      <th>6</th>\n",
       "      <td>good (8.39)</td>\n",
       "      <td>everyone (1.93)</td>\n",
       "      <td>anniversary (1.03)</td>\n",
       "      <td>meal (3.91)</td>\n",
       "      <td>bread (2.44)</td>\n",
       "      <td>seasonal (1.56)</td>\n",
       "      <td>poke (0.9)</td>\n",
       "      <td>happy (2.34)</td>\n",
       "      <td>inspection (0.69)</td>\n",
       "      <td>collard_green (1.26)</td>\n",
       "    </tr>\n",
       "    <tr>\n",
       "      <th>7</th>\n",
       "      <td>favorite (7.47)</td>\n",
       "      <td>much (1.54)</td>\n",
       "      <td>pairing (1.03)</td>\n",
       "      <td>chef (3.14)</td>\n",
       "      <td>sandwich (2.41)</td>\n",
       "      <td>portion (1.5)</td>\n",
       "      <td>sit (0.84)</td>\n",
       "      <td>enjoy (1.99)</td>\n",
       "      <td>expert (0.59)</td>\n",
       "      <td>pie (1.0)</td>\n",
       "    </tr>\n",
       "    <tr>\n",
       "      <th>8</th>\n",
       "      <td>perfect (6.2)</td>\n",
       "      <td>lot (1.51)</td>\n",
       "      <td>event (0.99)</td>\n",
       "      <td>outdoor_seating (3.11)</td>\n",
       "      <td>steak (2.31)</td>\n",
       "      <td>beyond (1.36)</td>\n",
       "      <td>flare (0.76)</td>\n",
       "      <td>excited (1.45)</td>\n",
       "      <td>dean (0.57)</td>\n",
       "      <td>yum (1.0)</td>\n",
       "    </tr>\n",
       "    <tr>\n",
       "      <th>9</th>\n",
       "      <td>fantastic (5.84)</td>\n",
       "      <td>bit (1.4)</td>\n",
       "      <td>class (0.98)</td>\n",
       "      <td>restaurant (2.5)</td>\n",
       "      <td>pork (2.26)</td>\n",
       "      <td>future (1.06)</td>\n",
       "      <td>chase (0.73)</td>\n",
       "      <td>thanks (1.24)</td>\n",
       "      <td>master (0.41)</td>\n",
       "      <td>brownie (0.99)</td>\n",
       "    </tr>\n",
       "  </tbody>\n",
       "</table>\n",
       "</div>"
      ],
      "text/plain": [
       "                 48                 5                   80  \\\n",
       "0     great (27.53)      always (6.54)        place (7.75)   \n",
       "1   amazing (22.95)  definitely (5.89)         spot (7.69)   \n",
       "2      best (11.43)  everything (4.93)         team (3.17)   \n",
       "3  excellent (9.74)  especially (2.62)      weekend (1.37)   \n",
       "4    awesome (8.89)      little (2.28)         beat (1.22)   \n",
       "5       nice (8.55)      really (2.28)       winner (1.05)   \n",
       "6       good (8.39)    everyone (1.93)  anniversary (1.03)   \n",
       "7   favorite (7.47)        much (1.54)      pairing (1.03)   \n",
       "8     perfect (6.2)         lot (1.51)        event (0.99)   \n",
       "9  fantastic (5.84)          bit (1.4)        class (0.98)   \n",
       "\n",
       "                       73                       50                92  \\\n",
       "0       delicious (18.22)             pizza (3.76)    variety (2.75)   \n",
       "1            food (14.93)              dish (3.61)  different (2.52)   \n",
       "2             tasty (5.4)             burger (3.0)        new (2.41)   \n",
       "3             menu (4.92)           chicken (2.65)       also (2.37)   \n",
       "4            vegan (4.38)     fried_chicken (2.61)       hand (1.91)   \n",
       "5            yummy (4.14)  chicken_sandwich (2.47)       many (1.61)   \n",
       "6             meal (3.91)             bread (2.44)   seasonal (1.56)   \n",
       "7             chef (3.14)          sandwich (2.41)     portion (1.5)   \n",
       "8  outdoor_seating (3.11)             steak (2.31)     beyond (1.36)   \n",
       "9        restaurant (2.5)              pork (2.26)     future (1.06)   \n",
       "\n",
       "                  94                76                  36  \\\n",
       "0        wait (4.24)      love (13.42)      service (5.75)   \n",
       "1  disappoint (2.12)       thank (7.2)        staff (4.49)   \n",
       "2         die (1.94)      loved (6.26)  environment (3.82)   \n",
       "3          jam (1.2)  welcoming (4.34)   experience (2.97)   \n",
       "4        chop (1.08)     enjoyed (4.1)         work (1.67)   \n",
       "5        miss (0.91)       glad (2.59)      partner (0.71)   \n",
       "6         poke (0.9)      happy (2.34)   inspection (0.69)   \n",
       "7         sit (0.84)      enjoy (1.99)       expert (0.59)   \n",
       "8       flare (0.76)    excited (1.45)         dean (0.57)   \n",
       "9       chase (0.73)     thanks (1.24)       master (0.41)   \n",
       "\n",
       "                     64  \n",
       "0          donut (3.38)  \n",
       "1        biscuit (3.11)  \n",
       "2           bowl (3.03)  \n",
       "3            egg (1.69)  \n",
       "4          baked (1.55)  \n",
       "5           cake (1.37)  \n",
       "6  collard_green (1.26)  \n",
       "7             pie (1.0)  \n",
       "8             yum (1.0)  \n",
       "9        brownie (0.99)  "
      ]
     },
     "execution_count": 916,
     "metadata": {},
     "output_type": "execute_result"
    }
   ],
   "source": [
    "c1"
   ]
  },
  {
   "cell_type": "markdown",
   "metadata": {},
   "source": [
    "Negative to positive clusters."
   ]
  },
  {
   "cell_type": "code",
   "execution_count": 917,
   "metadata": {},
   "outputs": [
    {
     "data": {
      "text/html": [
       "<div>\n",
       "<style scoped>\n",
       "    .dataframe tbody tr th:only-of-type {\n",
       "        vertical-align: middle;\n",
       "    }\n",
       "\n",
       "    .dataframe tbody tr th {\n",
       "        vertical-align: top;\n",
       "    }\n",
       "\n",
       "    .dataframe thead th {\n",
       "        text-align: right;\n",
       "    }\n",
       "</style>\n",
       "<table border=\"1\" class=\"dataframe\">\n",
       "  <thead>\n",
       "    <tr style=\"text-align: right;\">\n",
       "      <th></th>\n",
       "      <th>5</th>\n",
       "      <th>80</th>\n",
       "      <th>92</th>\n",
       "      <th>94</th>\n",
       "      <th>52</th>\n",
       "      <th>36</th>\n",
       "      <th>26</th>\n",
       "      <th>8</th>\n",
       "      <th>98</th>\n",
       "      <th>60</th>\n",
       "    </tr>\n",
       "  </thead>\n",
       "  <tbody>\n",
       "    <tr>\n",
       "      <th>0</th>\n",
       "      <td>never (7.56)</td>\n",
       "      <td>one (3.82)</td>\n",
       "      <td>without (2.2)</td>\n",
       "      <td>get (5.53)</td>\n",
       "      <td>asked (6.68)</td>\n",
       "      <td>manager (5.71)</td>\n",
       "      <td>left (3.39)</td>\n",
       "      <td>response (2.45)</td>\n",
       "      <td>give (3.58)</td>\n",
       "      <td>review (2.56)</td>\n",
       "    </tr>\n",
       "    <tr>\n",
       "      <th>1</th>\n",
       "      <td>still (3.81)</td>\n",
       "      <td>close (2.45)</td>\n",
       "      <td>instead (1.91)</td>\n",
       "      <td>drive (2.91)</td>\n",
       "      <td>waited (4.32)</td>\n",
       "      <td>management (2.91)</td>\n",
       "      <td>sat (2.6)</td>\n",
       "      <td>answer (2.33)</td>\n",
       "      <td>take (2.46)</td>\n",
       "      <td>charge (2.5)</td>\n",
       "    </tr>\n",
       "    <tr>\n",
       "      <th>2</th>\n",
       "      <td>even (3.42)</td>\n",
       "      <td>line (2.37)</td>\n",
       "      <td>elsewhere (1.88)</td>\n",
       "      <td>suck (2.79)</td>\n",
       "      <td>would (3.79)</td>\n",
       "      <td>corporate (1.19)</td>\n",
       "      <td>went (2.19)</td>\n",
       "      <td>item (2.24)</td>\n",
       "      <td>avoid (1.89)</td>\n",
       "      <td>appointment (2.42)</td>\n",
       "    </tr>\n",
       "    <tr>\n",
       "      <th>3</th>\n",
       "      <td>nothing (3.21)</td>\n",
       "      <td>another (2.27)</td>\n",
       "      <td>number (1.79)</td>\n",
       "      <td>tip (2.67)</td>\n",
       "      <td>please (3.57)</td>\n",
       "      <td>associate (1.17)</td>\n",
       "      <td>walked (2.13)</td>\n",
       "      <td>picture (2.12)</td>\n",
       "      <td>cancel (1.84)</td>\n",
       "      <td>delivery (2.36)</td>\n",
       "    </tr>\n",
       "    <tr>\n",
       "      <th>4</th>\n",
       "      <td>way (2.56)</td>\n",
       "      <td>run (1.95)</td>\n",
       "      <td>least (1.71)</td>\n",
       "      <td>move (2.12)</td>\n",
       "      <td>ordered (3.33)</td>\n",
       "      <td>member (1.04)</td>\n",
       "      <td>threw (2.06)</td>\n",
       "      <td>piece (2.11)</td>\n",
       "      <td>use (1.79)</td>\n",
       "      <td>sign (2.29)</td>\n",
       "    </tr>\n",
       "    <tr>\n",
       "      <th>5</th>\n",
       "      <td>someone (2.56)</td>\n",
       "      <td>two (1.93)</td>\n",
       "      <td>however (1.35)</td>\n",
       "      <td>lie (1.36)</td>\n",
       "      <td>waiting (2.87)</td>\n",
       "      <td>training (1.0)</td>\n",
       "      <td>took (2.0)</td>\n",
       "      <td>account (1.77)</td>\n",
       "      <td>help (1.76)</td>\n",
       "      <td>bill (1.97)</td>\n",
       "    </tr>\n",
       "    <tr>\n",
       "      <th>6</th>\n",
       "      <td>anything (2.08)</td>\n",
       "      <td>half (1.73)</td>\n",
       "      <td>apparently (1.27)</td>\n",
       "      <td>put (1.35)</td>\n",
       "      <td>asking (2.6)</td>\n",
       "      <td>support (0.97)</td>\n",
       "      <td>sucked (1.79)</td>\n",
       "      <td>reason (1.5)</td>\n",
       "      <td>stay (1.16)</td>\n",
       "      <td>claim (1.84)</td>\n",
       "    </tr>\n",
       "    <tr>\n",
       "      <th>7</th>\n",
       "      <td>like (2.06)</td>\n",
       "      <td>front (1.62)</td>\n",
       "      <td>already (1.27)</td>\n",
       "      <td>stick (1.04)</td>\n",
       "      <td>want (2.46)</td>\n",
       "      <td>system (0.94)</td>\n",
       "      <td>drove (1.71)</td>\n",
       "      <td>issue (1.21)</td>\n",
       "      <td>save (1.1)</td>\n",
       "      <td>open (1.63)</td>\n",
       "    </tr>\n",
       "    <tr>\n",
       "      <th>8</th>\n",
       "      <td>going (1.84)</td>\n",
       "      <td>past (1.38)</td>\n",
       "      <td>complete (1.22)</td>\n",
       "      <td>pick (0.99)</td>\n",
       "      <td>refused (2.3)</td>\n",
       "      <td>tech (0.92)</td>\n",
       "      <td>gone (1.49)</td>\n",
       "      <td>word (1.19)</td>\n",
       "      <td>change (0.93)</td>\n",
       "      <td>card (1.44)</td>\n",
       "    </tr>\n",
       "    <tr>\n",
       "      <th>9</th>\n",
       "      <td>mean (1.8)</td>\n",
       "      <td>host (1.32)</td>\n",
       "      <td>rather (0.93)</td>\n",
       "      <td>fly (0.98)</td>\n",
       "      <td>wanted (2.29)</td>\n",
       "      <td>maintenance (0.87)</td>\n",
       "      <td>broken (1.36)</td>\n",
       "      <td>act (1.15)</td>\n",
       "      <td>send (0.92)</td>\n",
       "      <td>package (1.33)</td>\n",
       "    </tr>\n",
       "  </tbody>\n",
       "</table>\n",
       "</div>"
      ],
      "text/plain": [
       "                5               80                 92            94  \\\n",
       "0     never (7.56)      one (3.82)      without (2.2)    get (5.53)   \n",
       "1     still (3.81)    close (2.45)     instead (1.91)  drive (2.91)   \n",
       "2      even (3.42)     line (2.37)   elsewhere (1.88)   suck (2.79)   \n",
       "3   nothing (3.21)  another (2.27)      number (1.79)    tip (2.67)   \n",
       "4       way (2.56)      run (1.95)       least (1.71)   move (2.12)   \n",
       "5   someone (2.56)      two (1.93)     however (1.35)    lie (1.36)   \n",
       "6  anything (2.08)     half (1.73)  apparently (1.27)    put (1.35)   \n",
       "7      like (2.06)    front (1.62)     already (1.27)  stick (1.04)   \n",
       "8     going (1.84)     past (1.38)    complete (1.22)   pick (0.99)   \n",
       "9       mean (1.8)     host (1.32)      rather (0.93)    fly (0.98)   \n",
       "\n",
       "               52                  36             26               8   \\\n",
       "0    asked (6.68)      manager (5.71)    left (3.39)  response (2.45)   \n",
       "1   waited (4.32)   management (2.91)      sat (2.6)    answer (2.33)   \n",
       "2    would (3.79)    corporate (1.19)    went (2.19)      item (2.24)   \n",
       "3   please (3.57)    associate (1.17)  walked (2.13)   picture (2.12)   \n",
       "4  ordered (3.33)       member (1.04)   threw (2.06)     piece (2.11)   \n",
       "5  waiting (2.87)      training (1.0)     took (2.0)   account (1.77)   \n",
       "6    asking (2.6)      support (0.97)  sucked (1.79)     reason (1.5)   \n",
       "7     want (2.46)       system (0.94)   drove (1.71)     issue (1.21)   \n",
       "8   refused (2.3)         tech (0.92)    gone (1.49)      word (1.19)   \n",
       "9   wanted (2.29)  maintenance (0.87)  broken (1.36)       act (1.15)   \n",
       "\n",
       "              98                  60  \n",
       "0    give (3.58)       review (2.56)  \n",
       "1    take (2.46)        charge (2.5)  \n",
       "2   avoid (1.89)  appointment (2.42)  \n",
       "3  cancel (1.84)     delivery (2.36)  \n",
       "4     use (1.79)         sign (2.29)  \n",
       "5    help (1.76)         bill (1.97)  \n",
       "6    stay (1.16)        claim (1.84)  \n",
       "7     save (1.1)         open (1.63)  \n",
       "8  change (0.93)         card (1.44)  \n",
       "9    send (0.92)      package (1.33)  "
      ]
     },
     "execution_count": 917,
     "metadata": {},
     "output_type": "execute_result"
    }
   ],
   "source": [
    "c2 "
   ]
  },
  {
   "cell_type": "code",
   "execution_count": 918,
   "metadata": {},
   "outputs": [],
   "source": [
    "x1_costs = pd.DataFrame(wmd_pairs_flow.X1_feat)\n",
    "x1_costs.index = list(pairs.keys())\n",
    "x1_costs = x1_costs.sort_index()\n",
    "x1_costs = x1_costs[c1.columns]\n",
    "x1_costs['city'] = sample[:1000].city"
   ]
  },
  {
   "cell_type": "code",
   "execution_count": 919,
   "metadata": {},
   "outputs": [
    {
     "data": {
      "text/plain": [
       "Counter({'Atlanta': 500, 'Portland': 500})"
      ]
     },
     "execution_count": 919,
     "metadata": {},
     "output_type": "execute_result"
    }
   ],
   "source": [
    "Counter(x1_costs.city)"
   ]
  },
  {
   "cell_type": "code",
   "execution_count": 920,
   "metadata": {},
   "outputs": [
    {
     "data": {
      "text/html": [
       "<div>\n",
       "<style scoped>\n",
       "    .dataframe tbody tr th:only-of-type {\n",
       "        vertical-align: middle;\n",
       "    }\n",
       "\n",
       "    .dataframe tbody tr th {\n",
       "        vertical-align: top;\n",
       "    }\n",
       "\n",
       "    .dataframe thead th {\n",
       "        text-align: right;\n",
       "    }\n",
       "</style>\n",
       "<table border=\"1\" class=\"dataframe\">\n",
       "  <thead>\n",
       "    <tr style=\"text-align: right;\">\n",
       "      <th></th>\n",
       "      <th>city</th>\n",
       "      <th>cluster</th>\n",
       "      <th>value</th>\n",
       "    </tr>\n",
       "  </thead>\n",
       "  <tbody>\n",
       "    <tr>\n",
       "      <th>0</th>\n",
       "      <td>Atlanta</td>\n",
       "      <td>48</td>\n",
       "      <td>0.14563</td>\n",
       "    </tr>\n",
       "    <tr>\n",
       "      <th>1</th>\n",
       "      <td>Atlanta</td>\n",
       "      <td>48</td>\n",
       "      <td>0.16863</td>\n",
       "    </tr>\n",
       "    <tr>\n",
       "      <th>2</th>\n",
       "      <td>Atlanta</td>\n",
       "      <td>48</td>\n",
       "      <td>0.08212</td>\n",
       "    </tr>\n",
       "    <tr>\n",
       "      <th>3</th>\n",
       "      <td>Atlanta</td>\n",
       "      <td>48</td>\n",
       "      <td>0.06176</td>\n",
       "    </tr>\n",
       "    <tr>\n",
       "      <th>4</th>\n",
       "      <td>Atlanta</td>\n",
       "      <td>48</td>\n",
       "      <td>0.08473</td>\n",
       "    </tr>\n",
       "  </tbody>\n",
       "</table>\n",
       "</div>"
      ],
      "text/plain": [
       "      city cluster    value\n",
       "0  Atlanta      48  0.14563\n",
       "1  Atlanta      48  0.16863\n",
       "2  Atlanta      48  0.08212\n",
       "3  Atlanta      48  0.06176\n",
       "4  Atlanta      48  0.08473"
      ]
     },
     "execution_count": 920,
     "metadata": {},
     "output_type": "execute_result"
    }
   ],
   "source": [
    "x1_costs_long = pd.melt(x1_costs, id_vars=['city']).rename(columns={\"variable\":\"cluster\"})\n",
    "x1_costs_long.head()"
   ]
  },
  {
   "cell_type": "code",
   "execution_count": 921,
   "metadata": {},
   "outputs": [],
   "source": [
    "x1_costs_long = x1_costs_long[x1_costs_long.value != 0]"
   ]
  },
  {
   "cell_type": "code",
   "execution_count": 922,
   "metadata": {},
   "outputs": [
    {
     "data": {
      "image/png": "[encoded data removed]",
      "text/plain": [
       "<Figure size 1260x720 with 10 Axes>"
      ]
     },
     "metadata": {
      "needs_background": "light"
     },
     "output_type": "display_data"
    }
   ],
   "source": [
    "g = sns.catplot(x=\"city\", \n",
    "                y=\"value\", \n",
    "                col=\"cluster\", \n",
    "                data=x1_costs_long, \n",
    "                kind=\"box\",\n",
    "                height=5, \n",
    "                aspect=.7,\n",
    "                col_wrap=5,\n",
    "                margin_titles=True);\n",
    "g.map_dataframe(sns.stripplot, \n",
    "                x=\"city\", \n",
    "                y=\"value\", \n",
    "                palette=[\"#404040\"], \n",
    "                alpha=0.2, dodge=True)\n",
    "g.set_axis_labels(\"City\", \"Cost\")\n",
    "for ax in g.axes.flatten():\n",
    "    ax.tick_params(labelbottom=True)\n"
   ]
  },
  {
   "cell_type": "code",
   "execution_count": 923,
   "metadata": {},
   "outputs": [],
   "source": [
    "x2_costs = pd.DataFrame(wmd_pairs_flow.X1_feat)\n",
    "x2_costs.index = list(pairs.values())\n",
    "x2_costs = x2_costs.sort_index()\n",
    "x2_costs = x2_costs[c2.columns]\n",
    "x2_costs['city'] = sample[1000:2000].city.tolist()"
   ]
  },
  {
   "cell_type": "code",
   "execution_count": 924,
   "metadata": {},
   "outputs": [
    {
     "data": {
      "text/html": [
       "<div>\n",
       "<style scoped>\n",
       "    .dataframe tbody tr th:only-of-type {\n",
       "        vertical-align: middle;\n",
       "    }\n",
       "\n",
       "    .dataframe tbody tr th {\n",
       "        vertical-align: top;\n",
       "    }\n",
       "\n",
       "    .dataframe thead th {\n",
       "        text-align: right;\n",
       "    }\n",
       "</style>\n",
       "<table border=\"1\" class=\"dataframe\">\n",
       "  <thead>\n",
       "    <tr style=\"text-align: right;\">\n",
       "      <th></th>\n",
       "      <th>city</th>\n",
       "      <th>cluster</th>\n",
       "      <th>value</th>\n",
       "    </tr>\n",
       "  </thead>\n",
       "  <tbody>\n",
       "    <tr>\n",
       "      <th>0</th>\n",
       "      <td>Atlanta</td>\n",
       "      <td>5</td>\n",
       "      <td>0.07283</td>\n",
       "    </tr>\n",
       "    <tr>\n",
       "      <th>1</th>\n",
       "      <td>Atlanta</td>\n",
       "      <td>5</td>\n",
       "      <td>0.06773</td>\n",
       "    </tr>\n",
       "    <tr>\n",
       "      <th>2</th>\n",
       "      <td>Atlanta</td>\n",
       "      <td>5</td>\n",
       "      <td>0.11964</td>\n",
       "    </tr>\n",
       "    <tr>\n",
       "      <th>3</th>\n",
       "      <td>Atlanta</td>\n",
       "      <td>5</td>\n",
       "      <td>0.23837</td>\n",
       "    </tr>\n",
       "    <tr>\n",
       "      <th>4</th>\n",
       "      <td>Atlanta</td>\n",
       "      <td>5</td>\n",
       "      <td>0.03491</td>\n",
       "    </tr>\n",
       "  </tbody>\n",
       "</table>\n",
       "</div>"
      ],
      "text/plain": [
       "      city cluster    value\n",
       "0  Atlanta       5  0.07283\n",
       "1  Atlanta       5  0.06773\n",
       "2  Atlanta       5  0.11964\n",
       "3  Atlanta       5  0.23837\n",
       "4  Atlanta       5  0.03491"
      ]
     },
     "execution_count": 924,
     "metadata": {},
     "output_type": "execute_result"
    }
   ],
   "source": [
    "x2_costs_long = pd.melt(x2_costs, id_vars=['city']).rename(columns={\"variable\":\"cluster\"})\n",
    "x2_costs_long.head()"
   ]
  },
  {
   "cell_type": "code",
   "execution_count": 925,
   "metadata": {},
   "outputs": [],
   "source": [
    "x2_costs_long = x2_costs_long[x2_costs_long.value != 0]"
   ]
  },
  {
   "cell_type": "code",
   "execution_count": 926,
   "metadata": {},
   "outputs": [
    {
     "data": {
      "image/png": "[encoded data removed]",
      "text/plain": [
       "<Figure size 1260x720 with 10 Axes>"
      ]
     },
     "metadata": {
      "needs_background": "light"
     },
     "output_type": "display_data"
    }
   ],
   "source": [
    "g = sns.catplot(x=\"city\", \n",
    "                y=\"value\", \n",
    "                col=\"cluster\", \n",
    "                data=x2_costs_long, \n",
    "                kind=\"box\",\n",
    "                height=5, \n",
    "                aspect=.7,\n",
    "                col_wrap=5,\n",
    "                margin_titles=True);\n",
    "g.map_dataframe(sns.stripplot, \n",
    "                x=\"city\", \n",
    "                y=\"value\", \n",
    "                palette=[\"#404040\"], \n",
    "                alpha=0.2, dodge=True)\n",
    "g.set_axis_labels(\"City\", \"Cost\")\n",
    "for ax in g.axes.flatten():\n",
    "    ax.tick_params(labelbottom=True)\n"
   ]
  },
  {
   "cell_type": "markdown",
   "metadata": {},
   "source": [
    "## 4 Better clusters with UMAP and T-SNE"
   ]
  },
  {
   "cell_type": "markdown",
   "metadata": {},
   "source": [
    "#### 4.1 UMAP + Kmeans"
   ]
  },
  {
   "cell_type": "code",
   "execution_count": 118,
   "metadata": {},
   "outputs": [],
   "source": [
    "word2cluster_u = {features[idx]: cl for idx, cl in enumerate(labels_umap)}"
   ]
  },
  {
   "cell_type": "code",
   "execution_count": 119,
   "metadata": {},
   "outputs": [
    {
     "name": "stdout",
     "output_type": "stream",
     "text": [
      "[(']', 84), ('^_', 49), ('`', 4), ('aaargh', 3), ('aaliyah', 8), ('aamir_khan', 54), ('aaron', 13), ('aaron_eckhart', 18), ('ab_tak', 93), ('abandon', 92)]\n"
     ]
    }
   ],
   "source": [
    "print(take(10, word2cluster_u.items()))"
   ]
  },
  {
   "cell_type": "markdown",
   "metadata": {},
   "source": [
    "Now, conversely, create an index that maps each cluster to a word."
   ]
  },
  {
   "cell_type": "code",
   "execution_count": 120,
   "metadata": {},
   "outputs": [],
   "source": [
    "cluster2words_u = defaultdict(list)\n",
    "for key, value in word2cluster_u.items():\n",
    "    cluster2words_u[value].append(key)"
   ]
  },
  {
   "cell_type": "code",
   "execution_count": 121,
   "metadata": {},
   "outputs": [
    {
     "name": "stdout",
     "output_type": "stream",
     "text": [
      "Calculated distances between approximately 0 documents.\n",
      "Calculated distances between approximately 100 documents.\n",
      "Calculated distances between approximately 200 documents.\n",
      "Calculated distances between approximately 300 documents.\n",
      "Calculated distances between approximately 400 documents.\n",
      "CPU times: user 2min 3s, sys: 15.9 s, total: 2min 19s\n",
      "Wall time: 1min 13s\n"
     ]
    }
   ],
   "source": [
    "%%time \n",
    "\n",
    "wmd_pairs_flow_u = WMDPairs(pos_docs,neg_docs,pairs,E,idx2word)\n",
    "wmd_pairs_flow_u.get_distances(return_flow = True, \n",
    "                               sum_clusters = True, \n",
    "                               w2c = word2cluster_u, \n",
    "                               c2w = cluster2words_u,\n",
    "                               thread = True)"
   ]
  },
  {
   "cell_type": "code",
   "execution_count": 123,
   "metadata": {},
   "outputs": [],
   "source": [
    "wmd_pairs_flow_u.get_differences()"
   ]
  },
  {
   "cell_type": "code",
   "execution_count": 125,
   "metadata": {},
   "outputs": [],
   "source": [
    "c1_u = output_clusters(wc=wmd_pairs_flow_u.wc_X1_diff.items(), \n",
    "                     cc=wmd_pairs_flow_u.cc_X1.items(), \n",
    "                     c2w=cluster2words_u, \n",
    "                     n_clusters=n_clusters, \n",
    "                     n_words=n_words)\n",
    "c2_u = output_clusters(wc=wmd_pairs_flow_u.wc_X2_diff.items(), \n",
    "                     cc=wmd_pairs_flow_u.cc_X2.items(), \n",
    "                     c2w=cluster2words_u, \n",
    "                     n_clusters=n_clusters, \n",
    "                     n_words=n_words)"
   ]
  },
  {
   "cell_type": "code",
   "execution_count": 126,
   "metadata": {},
   "outputs": [
    {
     "data": {
      "text/html": [
       "<div>\n",
       "<style scoped>\n",
       "    .dataframe tbody tr th:only-of-type {\n",
       "        vertical-align: middle;\n",
       "    }\n",
       "\n",
       "    .dataframe tbody tr th {\n",
       "        vertical-align: top;\n",
       "    }\n",
       "\n",
       "    .dataframe thead th {\n",
       "        text-align: right;\n",
       "    }\n",
       "</style>\n",
       "<table border=\"1\" class=\"dataframe\">\n",
       "  <thead>\n",
       "    <tr style=\"text-align: right;\">\n",
       "      <th></th>\n",
       "      <th>38</th>\n",
       "      <th>65</th>\n",
       "      <th>48</th>\n",
       "      <th>50</th>\n",
       "      <th>6</th>\n",
       "      <th>45</th>\n",
       "      <th>78</th>\n",
       "      <th>16</th>\n",
       "      <th>14</th>\n",
       "      <th>68</th>\n",
       "    </tr>\n",
       "  </thead>\n",
       "  <tbody>\n",
       "    <tr>\n",
       "      <th>0</th>\n",
       "      <td>great (2.48)</td>\n",
       "      <td>loved (1.27)</td>\n",
       "      <td>game (1.77)</td>\n",
       "      <td>dvd (0.7)</td>\n",
       "      <td>still (1.8)</td>\n",
       "      <td>year (0.8)</td>\n",
       "      <td>film (0.68)</td>\n",
       "      <td>little (1.23)</td>\n",
       "      <td>performance (1.36)</td>\n",
       "      <td>story (0.7)</td>\n",
       "    </tr>\n",
       "    <tr>\n",
       "      <th>1</th>\n",
       "      <td>best (2.03)</td>\n",
       "      <td>enjoy (0.72)</td>\n",
       "      <td>hard (0.42)</td>\n",
       "      <td>show (0.4)</td>\n",
       "      <td>disney (0.89)</td>\n",
       "      <td>new (0.67)</td>\n",
       "      <td>although (0.37)</td>\n",
       "      <td>entertaining (0.66)</td>\n",
       "      <td>role (0.9)</td>\n",
       "      <td>quality (0.3)</td>\n",
       "    </tr>\n",
       "    <tr>\n",
       "      <th>2</th>\n",
       "      <td>excellent (1.42)</td>\n",
       "      <td>well_worth (0.67)</td>\n",
       "      <td>cartoon (0.18)</td>\n",
       "      <td>hope (0.39)</td>\n",
       "      <td>every (0.34)</td>\n",
       "      <td>night (0.43)</td>\n",
       "      <td>cinema (0.36)</td>\n",
       "      <td>hilarious (0.5)</td>\n",
       "      <td>star (0.55)</td>\n",
       "      <td>quite (0.3)</td>\n",
       "    </tr>\n",
       "    <tr>\n",
       "      <th>3</th>\n",
       "      <td>wonderful (1.3)</td>\n",
       "      <td>want (0.42)</td>\n",
       "      <td>people (0.16)</td>\n",
       "      <td>channel (0.37)</td>\n",
       "      <td>compared (0.19)</td>\n",
       "      <td>day (0.39)</td>\n",
       "      <td>hollywood (0.22)</td>\n",
       "      <td>comedy (0.43)</td>\n",
       "      <td>play (0.46)</td>\n",
       "      <td>edge_seat (0.23)</td>\n",
       "    </tr>\n",
       "    <tr>\n",
       "      <th>4</th>\n",
       "      <td>song (0.96)</td>\n",
       "      <td>check (0.25)</td>\n",
       "      <td>segal (0.15)</td>\n",
       "      <td>found (0.34)</td>\n",
       "      <td>taste (0.19)</td>\n",
       "      <td>old (0.38)</td>\n",
       "      <td>though (0.18)</td>\n",
       "      <td>plus (0.32)</td>\n",
       "      <td>playing (0.39)</td>\n",
       "      <td>build (0.23)</td>\n",
       "    </tr>\n",
       "    <tr>\n",
       "      <th>5</th>\n",
       "      <td>brilliant (0.83)</td>\n",
       "      <td>liked (0.23)</td>\n",
       "      <td>meatball (0.14)</td>\n",
       "      <td>buy (0.33)</td>\n",
       "      <td>much (0.16)</td>\n",
       "      <td>lived (0.35)</td>\n",
       "      <td>throughout (0.17)</td>\n",
       "      <td>fulci (0.3)</td>\n",
       "      <td>great_job (0.31)</td>\n",
       "      <td>clever (0.23)</td>\n",
       "    </tr>\n",
       "    <tr>\n",
       "      <th>6</th>\n",
       "      <td>perfect (0.75)</td>\n",
       "      <td>enjoyed (0.21)</td>\n",
       "      <td>animated (0.14)</td>\n",
       "      <td>glad (0.31)</td>\n",
       "      <td>one (0.15)</td>\n",
       "      <td>late (0.33)</td>\n",
       "      <td>filled (0.17)</td>\n",
       "      <td>humor (0.28)</td>\n",
       "      <td>hamlet (0.2)</td>\n",
       "      <td>bit (0.23)</td>\n",
       "    </tr>\n",
       "    <tr>\n",
       "      <th>7</th>\n",
       "      <td>beautiful (0.68)</td>\n",
       "      <td>would_recommend (0.19)</td>\n",
       "      <td>subtitle (0.14)</td>\n",
       "      <td>film_festival (0.27)</td>\n",
       "      <td>sf (0.14)</td>\n",
       "      <td>memory (0.29)</td>\n",
       "      <td>pure (0.14)</td>\n",
       "      <td>martial_art (0.26)</td>\n",
       "      <td>davy (0.19)</td>\n",
       "      <td>romantic_comedy (0.22)</td>\n",
       "    </tr>\n",
       "    <tr>\n",
       "      <th>8</th>\n",
       "      <td>soundtrack (0.67)</td>\n",
       "      <td>seen (0.17)</td>\n",
       "      <td>serial (0.13)</td>\n",
       "      <td>first_saw (0.25)</td>\n",
       "      <td>eighty (0.14)</td>\n",
       "      <td>grew (0.25)</td>\n",
       "      <td>part (0.12)</td>\n",
       "      <td>enjoyable (0.23)</td>\n",
       "      <td>rest_cast (0.18)</td>\n",
       "      <td>extremely (0.19)</td>\n",
       "    </tr>\n",
       "    <tr>\n",
       "      <th>9</th>\n",
       "      <td>amazing (0.65)</td>\n",
       "      <td>thought (0.17)</td>\n",
       "      <td>exactly (0.13)</td>\n",
       "      <td>video (0.25)</td>\n",
       "      <td>perhaps (0.13)</td>\n",
       "      <td>last (0.25)</td>\n",
       "      <td>dated (0.11)</td>\n",
       "      <td>humour (0.21)</td>\n",
       "      <td>supporting_cast (0.18)</td>\n",
       "      <td>suspenseful (0.13)</td>\n",
       "    </tr>\n",
       "  </tbody>\n",
       "</table>\n",
       "</div>"
      ],
      "text/plain": [
       "                  38                      65               48  \\\n",
       "0       great (2.48)            loved (1.27)      game (1.77)   \n",
       "1        best (2.03)            enjoy (0.72)      hard (0.42)   \n",
       "2   excellent (1.42)       well_worth (0.67)   cartoon (0.18)   \n",
       "3    wonderful (1.3)             want (0.42)    people (0.16)   \n",
       "4        song (0.96)            check (0.25)     segal (0.15)   \n",
       "5   brilliant (0.83)            liked (0.23)  meatball (0.14)   \n",
       "6     perfect (0.75)          enjoyed (0.21)  animated (0.14)   \n",
       "7   beautiful (0.68)  would_recommend (0.19)  subtitle (0.14)   \n",
       "8  soundtrack (0.67)             seen (0.17)    serial (0.13)   \n",
       "9     amazing (0.65)          thought (0.17)   exactly (0.13)   \n",
       "\n",
       "                     50               6              45                 78  \\\n",
       "0             dvd (0.7)      still (1.8)     year (0.8)        film (0.68)   \n",
       "1            show (0.4)    disney (0.89)     new (0.67)    although (0.37)   \n",
       "2           hope (0.39)     every (0.34)   night (0.43)      cinema (0.36)   \n",
       "3        channel (0.37)  compared (0.19)     day (0.39)   hollywood (0.22)   \n",
       "4          found (0.34)     taste (0.19)     old (0.38)      though (0.18)   \n",
       "5            buy (0.33)      much (0.16)   lived (0.35)  throughout (0.17)   \n",
       "6           glad (0.31)       one (0.15)    late (0.33)      filled (0.17)   \n",
       "7  film_festival (0.27)        sf (0.14)  memory (0.29)        pure (0.14)   \n",
       "8      first_saw (0.25)    eighty (0.14)    grew (0.25)        part (0.12)   \n",
       "9          video (0.25)   perhaps (0.13)    last (0.25)       dated (0.11)   \n",
       "\n",
       "                    16                      14                      68  \n",
       "0        little (1.23)      performance (1.36)             story (0.7)  \n",
       "1  entertaining (0.66)              role (0.9)           quality (0.3)  \n",
       "2      hilarious (0.5)             star (0.55)             quite (0.3)  \n",
       "3        comedy (0.43)             play (0.46)        edge_seat (0.23)  \n",
       "4          plus (0.32)          playing (0.39)            build (0.23)  \n",
       "5          fulci (0.3)        great_job (0.31)           clever (0.23)  \n",
       "6         humor (0.28)            hamlet (0.2)              bit (0.23)  \n",
       "7   martial_art (0.26)             davy (0.19)  romantic_comedy (0.22)  \n",
       "8     enjoyable (0.23)        rest_cast (0.18)        extremely (0.19)  \n",
       "9        humour (0.21)  supporting_cast (0.18)      suspenseful (0.13)  "
      ]
     },
     "execution_count": 126,
     "metadata": {},
     "output_type": "execute_result"
    }
   ],
   "source": [
    "c1_u"
   ]
  },
  {
   "cell_type": "code",
   "execution_count": 127,
   "metadata": {},
   "outputs": [
    {
     "data": {
      "text/html": [
       "<div>\n",
       "<style scoped>\n",
       "    .dataframe tbody tr th:only-of-type {\n",
       "        vertical-align: middle;\n",
       "    }\n",
       "\n",
       "    .dataframe tbody tr th {\n",
       "        vertical-align: top;\n",
       "    }\n",
       "\n",
       "    .dataframe thead th {\n",
       "        text-align: right;\n",
       "    }\n",
       "</style>\n",
       "<table border=\"1\" class=\"dataframe\">\n",
       "  <thead>\n",
       "    <tr style=\"text-align: right;\">\n",
       "      <th></th>\n",
       "      <th>65</th>\n",
       "      <th>48</th>\n",
       "      <th>56</th>\n",
       "      <th>6</th>\n",
       "      <th>30</th>\n",
       "      <th>16</th>\n",
       "      <th>63</th>\n",
       "      <th>50</th>\n",
       "      <th>78</th>\n",
       "      <th>77</th>\n",
       "    </tr>\n",
       "  </thead>\n",
       "  <tbody>\n",
       "    <tr>\n",
       "      <th>0</th>\n",
       "      <td>movie (2.33)</td>\n",
       "      <td>would (0.5)</td>\n",
       "      <td>bad (5.31)</td>\n",
       "      <td>even (1.48)</td>\n",
       "      <td>worst (2.48)</td>\n",
       "      <td>stupid (1.61)</td>\n",
       "      <td>better (1.0)</td>\n",
       "      <td>came (0.35)</td>\n",
       "      <td>director (0.41)</td>\n",
       "      <td>supposed (0.74)</td>\n",
       "    </tr>\n",
       "    <tr>\n",
       "      <th>1</th>\n",
       "      <td>really (0.94)</td>\n",
       "      <td>reason (0.47)</td>\n",
       "      <td>plot (1.52)</td>\n",
       "      <td>could (1.22)</td>\n",
       "      <td>ever_seen (0.95)</td>\n",
       "      <td>funny (0.87)</td>\n",
       "      <td>least (0.77)</td>\n",
       "      <td>fox (0.31)</td>\n",
       "      <td>effort (0.34)</td>\n",
       "      <td>case (0.52)</td>\n",
       "    </tr>\n",
       "    <tr>\n",
       "      <th>2</th>\n",
       "      <td>rating (0.84)</td>\n",
       "      <td>going (0.46)</td>\n",
       "      <td>boring (1.38)</td>\n",
       "      <td>instead (1.03)</td>\n",
       "      <td>one_worst (0.88)</td>\n",
       "      <td>joke (0.76)</td>\n",
       "      <td>nothing (0.76)</td>\n",
       "      <td>sat (0.31)</td>\n",
       "      <td>seems (0.27)</td>\n",
       "      <td>making (0.43)</td>\n",
       "    </tr>\n",
       "    <tr>\n",
       "      <th>3</th>\n",
       "      <td>say (0.72)</td>\n",
       "      <td>gave (0.42)</td>\n",
       "      <td>awful (1.34)</td>\n",
       "      <td>made (0.83)</td>\n",
       "      <td>ever (0.74)</td>\n",
       "      <td>idiotic (0.39)</td>\n",
       "      <td>ok (0.63)</td>\n",
       "      <td>episode (0.31)</td>\n",
       "      <td>numerous (0.27)</td>\n",
       "      <td>understand (0.39)</td>\n",
       "    </tr>\n",
       "    <tr>\n",
       "      <th>4</th>\n",
       "      <td>rent (0.7)</td>\n",
       "      <td>basically (0.42)</td>\n",
       "      <td>terrible (1.24)</td>\n",
       "      <td>enough (0.72)</td>\n",
       "      <td>hour (0.74)</td>\n",
       "      <td>unrealistic (0.37)</td>\n",
       "      <td>cheap (0.6)</td>\n",
       "      <td>finished (0.28)</td>\n",
       "      <td>point (0.27)</td>\n",
       "      <td>obviously (0.36)</td>\n",
       "    </tr>\n",
       "    <tr>\n",
       "      <th>5</th>\n",
       "      <td>maybe (0.61)</td>\n",
       "      <td>never (0.4)</td>\n",
       "      <td>poor (1.12)</td>\n",
       "      <td>idea (0.59)</td>\n",
       "      <td>minute (0.72)</td>\n",
       "      <td>lot (0.37)</td>\n",
       "      <td>anything (0.56)</td>\n",
       "      <td>picked (0.27)</td>\n",
       "      <td>contain (0.19)</td>\n",
       "      <td>project (0.27)</td>\n",
       "    </tr>\n",
       "    <tr>\n",
       "      <th>6</th>\n",
       "      <td>anyone (0.61)</td>\n",
       "      <td>wrong (0.4)</td>\n",
       "      <td>horrible (0.93)</td>\n",
       "      <td>either (0.46)</td>\n",
       "      <td>worse (0.72)</td>\n",
       "      <td>overall (0.32)</td>\n",
       "      <td>sequel (0.43)</td>\n",
       "      <td>series (0.25)</td>\n",
       "      <td>example (0.18)</td>\n",
       "      <td>sort (0.26)</td>\n",
       "    </tr>\n",
       "    <tr>\n",
       "      <th>7</th>\n",
       "      <td>watching (0.52)</td>\n",
       "      <td>happen (0.39)</td>\n",
       "      <td>script (0.7)</td>\n",
       "      <td>rest (0.45)</td>\n",
       "      <td>something (0.68)</td>\n",
       "      <td>nudity (0.29)</td>\n",
       "      <td>whole_thing (0.42)</td>\n",
       "      <td>blockbuster (0.25)</td>\n",
       "      <td>almost (0.15)</td>\n",
       "      <td>fact (0.26)</td>\n",
       "    </tr>\n",
       "    <tr>\n",
       "      <th>8</th>\n",
       "      <td>review (0.52)</td>\n",
       "      <td>tried (0.37)</td>\n",
       "      <td>dialog (0.63)</td>\n",
       "      <td>make_sense (0.45)</td>\n",
       "      <td>waste (0.65)</td>\n",
       "      <td>serious (0.28)</td>\n",
       "      <td>b (0.41)</td>\n",
       "      <td>rented (0.21)</td>\n",
       "      <td>shocking (0.15)</td>\n",
       "      <td>blame (0.25)</td>\n",
       "    </tr>\n",
       "    <tr>\n",
       "      <th>9</th>\n",
       "      <td>recommend (0.48)</td>\n",
       "      <td>like (0.37)</td>\n",
       "      <td>dull (0.6)</td>\n",
       "      <td>producer (0.36)</td>\n",
       "      <td>waste_time (0.61)</td>\n",
       "      <td>disgusting (0.28)</td>\n",
       "      <td>expect (0.39)</td>\n",
       "      <td>went_see (0.21)</td>\n",
       "      <td>columbo (0.14)</td>\n",
       "      <td>confused (0.25)</td>\n",
       "    </tr>\n",
       "  </tbody>\n",
       "</table>\n",
       "</div>"
      ],
      "text/plain": [
       "                 65                48               56                 6   \\\n",
       "0      movie (2.33)       would (0.5)       bad (5.31)        even (1.48)   \n",
       "1     really (0.94)     reason (0.47)      plot (1.52)       could (1.22)   \n",
       "2     rating (0.84)      going (0.46)    boring (1.38)     instead (1.03)   \n",
       "3        say (0.72)       gave (0.42)     awful (1.34)        made (0.83)   \n",
       "4        rent (0.7)  basically (0.42)  terrible (1.24)      enough (0.72)   \n",
       "5      maybe (0.61)       never (0.4)      poor (1.12)        idea (0.59)   \n",
       "6     anyone (0.61)       wrong (0.4)  horrible (0.93)      either (0.46)   \n",
       "7   watching (0.52)     happen (0.39)     script (0.7)        rest (0.45)   \n",
       "8     review (0.52)      tried (0.37)    dialog (0.63)  make_sense (0.45)   \n",
       "9  recommend (0.48)       like (0.37)       dull (0.6)    producer (0.36)   \n",
       "\n",
       "                  30                  16                  63  \\\n",
       "0       worst (2.48)       stupid (1.61)        better (1.0)   \n",
       "1   ever_seen (0.95)        funny (0.87)        least (0.77)   \n",
       "2   one_worst (0.88)         joke (0.76)      nothing (0.76)   \n",
       "3        ever (0.74)      idiotic (0.39)           ok (0.63)   \n",
       "4        hour (0.74)  unrealistic (0.37)         cheap (0.6)   \n",
       "5      minute (0.72)          lot (0.37)     anything (0.56)   \n",
       "6       worse (0.72)      overall (0.32)       sequel (0.43)   \n",
       "7   something (0.68)       nudity (0.29)  whole_thing (0.42)   \n",
       "8       waste (0.65)      serious (0.28)            b (0.41)   \n",
       "9  waste_time (0.61)   disgusting (0.28)       expect (0.39)   \n",
       "\n",
       "                   50               78                 77  \n",
       "0         came (0.35)  director (0.41)    supposed (0.74)  \n",
       "1          fox (0.31)    effort (0.34)        case (0.52)  \n",
       "2          sat (0.31)     seems (0.27)      making (0.43)  \n",
       "3      episode (0.31)  numerous (0.27)  understand (0.39)  \n",
       "4     finished (0.28)     point (0.27)   obviously (0.36)  \n",
       "5       picked (0.27)   contain (0.19)     project (0.27)  \n",
       "6       series (0.25)   example (0.18)        sort (0.26)  \n",
       "7  blockbuster (0.25)    almost (0.15)        fact (0.26)  \n",
       "8       rented (0.21)  shocking (0.15)       blame (0.25)  \n",
       "9     went_see (0.21)   columbo (0.14)    confused (0.25)  "
      ]
     },
     "execution_count": 127,
     "metadata": {},
     "output_type": "execute_result"
    }
   ],
   "source": [
    "c2_u"
   ]
  },
  {
   "cell_type": "markdown",
   "metadata": {},
   "source": [
    "#### 4.1 T-SNE + Kmeans"
   ]
  },
  {
   "cell_type": "code",
   "execution_count": 128,
   "metadata": {},
   "outputs": [],
   "source": [
    "word2cluster_t = {features[idx]: cl for idx, cl in enumerate(labels_tsne)}"
   ]
  },
  {
   "cell_type": "code",
   "execution_count": 129,
   "metadata": {},
   "outputs": [
    {
     "name": "stdout",
     "output_type": "stream",
     "text": [
      "[(']', 65), ('^_', 25), ('`', 45), ('aaargh', 79), ('aaliyah', 39), ('aamir_khan', 56), ('aaron', 84), ('aaron_eckhart', 20), ('ab_tak', 54), ('abandon', 74)]\n"
     ]
    }
   ],
   "source": [
    "print(take(10, word2cluster_t.items()))"
   ]
  },
  {
   "cell_type": "markdown",
   "metadata": {},
   "source": [
    "Now, conversely, create an index that maps each cluster to a word."
   ]
  },
  {
   "cell_type": "code",
   "execution_count": 139,
   "metadata": {},
   "outputs": [],
   "source": [
    "cluster2words_t = defaultdict(list)\n",
    "for key, value in word2cluster_t.items():\n",
    "    cluster2words_t[value].append(key)"
   ]
  },
  {
   "cell_type": "code",
   "execution_count": 141,
   "metadata": {},
   "outputs": [
    {
     "name": "stdout",
     "output_type": "stream",
     "text": [
      "Calculated distances between approximately 0 documents.\n",
      "Calculated distances between approximately 100 documents.\n",
      "Calculated distances between approximately 200 documents.\n",
      "Calculated distances between approximately 300 documents.\n",
      "Calculated distances between approximately 400 documents.\n",
      "CPU times: user 2min 5s, sys: 14.9 s, total: 2min 20s\n",
      "Wall time: 1min 16s\n"
     ]
    }
   ],
   "source": [
    "%%time \n",
    "\n",
    "wmd_pairs_flow_t = WMDPairs(pos_docs,neg_docs,pairs,E,idx2word)\n",
    "wmd_pairs_flow_t.get_distances(return_flow = True, \n",
    "                               sum_clusters = True, \n",
    "                               w2c = word2cluster_t, \n",
    "                               c2w = cluster2words_t,\n",
    "                               thread = True)"
   ]
  },
  {
   "cell_type": "code",
   "execution_count": 142,
   "metadata": {},
   "outputs": [],
   "source": [
    "wmd_pairs_flow_t.get_differences()"
   ]
  },
  {
   "cell_type": "code",
   "execution_count": 143,
   "metadata": {},
   "outputs": [],
   "source": [
    "c1_t = output_clusters(wc=wmd_pairs_flow_t.wc_X1_diff.items(), \n",
    "                     cc=wmd_pairs_flow_t.cc_X1.items(), \n",
    "                     c2w=cluster2words_t, \n",
    "                     n_clusters=n_clusters, \n",
    "                     n_words=n_words)\n",
    "c2_t = output_clusters(wc=wmd_pairs_flow_t.wc_X2_diff.items(), \n",
    "                     cc=wmd_pairs_flow_t.cc_X2.items(), \n",
    "                     c2w=cluster2words_t, \n",
    "                     n_clusters=n_clusters, \n",
    "                     n_words=n_words)"
   ]
  },
  {
   "cell_type": "code",
   "execution_count": 144,
   "metadata": {},
   "outputs": [
    {
     "data": {
      "text/html": [
       "<div>\n",
       "<style scoped>\n",
       "    .dataframe tbody tr th:only-of-type {\n",
       "        vertical-align: middle;\n",
       "    }\n",
       "\n",
       "    .dataframe tbody tr th {\n",
       "        vertical-align: top;\n",
       "    }\n",
       "\n",
       "    .dataframe thead th {\n",
       "        text-align: right;\n",
       "    }\n",
       "</style>\n",
       "<table border=\"1\" class=\"dataframe\">\n",
       "  <thead>\n",
       "    <tr style=\"text-align: right;\">\n",
       "      <th></th>\n",
       "      <th>92</th>\n",
       "      <th>67</th>\n",
       "      <th>86</th>\n",
       "      <th>48</th>\n",
       "      <th>99</th>\n",
       "      <th>87</th>\n",
       "      <th>10</th>\n",
       "      <th>31</th>\n",
       "      <th>17</th>\n",
       "      <th>95</th>\n",
       "    </tr>\n",
       "  </thead>\n",
       "  <tbody>\n",
       "    <tr>\n",
       "      <th>0</th>\n",
       "      <td>loved (1.27)</td>\n",
       "      <td>great (2.48)</td>\n",
       "      <td>disney (0.89)</td>\n",
       "      <td>thought (0.17)</td>\n",
       "      <td>game (1.77)</td>\n",
       "      <td>performance (1.36)</td>\n",
       "      <td>dvd (0.7)</td>\n",
       "      <td>real (0.65)</td>\n",
       "      <td>feeling (0.6)</td>\n",
       "      <td>year (0.8)</td>\n",
       "    </tr>\n",
       "    <tr>\n",
       "      <th>1</th>\n",
       "      <td>time (0.84)</td>\n",
       "      <td>excellent (1.42)</td>\n",
       "      <td>film (0.68)</td>\n",
       "      <td>people (0.16)</td>\n",
       "      <td>hilarious (0.5)</td>\n",
       "      <td>role (0.9)</td>\n",
       "      <td>hope (0.39)</td>\n",
       "      <td>often (0.4)</td>\n",
       "      <td>feel (0.54)</td>\n",
       "      <td>night (0.43)</td>\n",
       "    </tr>\n",
       "    <tr>\n",
       "      <th>2</th>\n",
       "      <td>well_worth (0.67)</td>\n",
       "      <td>wonderful (1.3)</td>\n",
       "      <td>entertaining (0.66)</td>\n",
       "      <td>exactly (0.13)</td>\n",
       "      <td>comedy (0.43)</td>\n",
       "      <td>star (0.55)</td>\n",
       "      <td>channel (0.37)</td>\n",
       "      <td>moving (0.35)</td>\n",
       "      <td>message (0.43)</td>\n",
       "      <td>day (0.39)</td>\n",
       "    </tr>\n",
       "    <tr>\n",
       "      <th>3</th>\n",
       "      <td>fan (0.55)</td>\n",
       "      <td>song (0.96)</td>\n",
       "      <td>definitely (0.54)</td>\n",
       "      <td>folk (0.12)</td>\n",
       "      <td>scifi (0.43)</td>\n",
       "      <td>play (0.46)</td>\n",
       "      <td>found (0.34)</td>\n",
       "      <td>filmed (0.21)</td>\n",
       "      <td>reality (0.34)</td>\n",
       "      <td>lived (0.35)</td>\n",
       "    </tr>\n",
       "    <tr>\n",
       "      <th>4</th>\n",
       "      <td>wish (0.28)</td>\n",
       "      <td>brilliant (0.83)</td>\n",
       "      <td>special (0.39)</td>\n",
       "      <td>shocked (0.11)</td>\n",
       "      <td>show (0.4)</td>\n",
       "      <td>playing (0.39)</td>\n",
       "      <td>buy (0.33)</td>\n",
       "      <td>top (0.17)</td>\n",
       "      <td>theme (0.3)</td>\n",
       "      <td>memory (0.29)</td>\n",
       "    </tr>\n",
       "    <tr>\n",
       "      <th>5</th>\n",
       "      <td>liked (0.23)</td>\n",
       "      <td>perfect (0.75)</td>\n",
       "      <td>cinema (0.36)</td>\n",
       "      <td>happy_ending (0.11)</td>\n",
       "      <td>humor (0.28)</td>\n",
       "      <td>great_job (0.31)</td>\n",
       "      <td>glad (0.31)</td>\n",
       "      <td>main (0.15)</td>\n",
       "      <td>issue (0.21)</td>\n",
       "      <td>future (0.26)</td>\n",
       "    </tr>\n",
       "    <tr>\n",
       "      <th>6</th>\n",
       "      <td>enjoyed (0.21)</td>\n",
       "      <td>beautiful (0.68)</td>\n",
       "      <td>particularly (0.35)</td>\n",
       "      <td>wanting (0.09)</td>\n",
       "      <td>short (0.24)</td>\n",
       "      <td>usual (0.25)</td>\n",
       "      <td>film_festival (0.27)</td>\n",
       "      <td>character (0.15)</td>\n",
       "      <td>society (0.18)</td>\n",
       "      <td>grew (0.25)</td>\n",
       "    </tr>\n",
       "    <tr>\n",
       "      <th>7</th>\n",
       "      <td>seen (0.17)</td>\n",
       "      <td>soundtrack (0.67)</td>\n",
       "      <td>classic (0.33)</td>\n",
       "      <td>figured (0.08)</td>\n",
       "      <td>clever (0.23)</td>\n",
       "      <td>rest_cast (0.18)</td>\n",
       "      <td>first_saw (0.25)</td>\n",
       "      <td>segment (0.13)</td>\n",
       "      <td>importance (0.17)</td>\n",
       "      <td>last (0.25)</td>\n",
       "    </tr>\n",
       "    <tr>\n",
       "      <th>8</th>\n",
       "      <td>buy_copy (0.16)</td>\n",
       "      <td>amazing (0.65)</td>\n",
       "      <td>work (0.33)</td>\n",
       "      <td>running_time (0.08)</td>\n",
       "      <td>humour (0.21)</td>\n",
       "      <td>supporting_cast (0.18)</td>\n",
       "      <td>video (0.25)</td>\n",
       "      <td>sequence (0.13)</td>\n",
       "      <td>complex (0.16)</td>\n",
       "      <td>took (0.22)</td>\n",
       "    </tr>\n",
       "    <tr>\n",
       "      <th>9</th>\n",
       "      <td>really_liked (0.16)</td>\n",
       "      <td>incredible (0.59)</td>\n",
       "      <td>highly_recommend (0.28)</td>\n",
       "      <td>cared (0.08)</td>\n",
       "      <td>one_liner (0.17)</td>\n",
       "      <td>shine (0.17)</td>\n",
       "      <td>theater (0.21)</td>\n",
       "      <td>edited (0.11)</td>\n",
       "      <td>dealing (0.16)</td>\n",
       "      <td>weekend (0.21)</td>\n",
       "    </tr>\n",
       "  </tbody>\n",
       "</table>\n",
       "</div>"
      ],
      "text/plain": [
       "                    92                 67                       86  \\\n",
       "0         loved (1.27)       great (2.48)            disney (0.89)   \n",
       "1          time (0.84)   excellent (1.42)              film (0.68)   \n",
       "2    well_worth (0.67)    wonderful (1.3)      entertaining (0.66)   \n",
       "3           fan (0.55)        song (0.96)        definitely (0.54)   \n",
       "4          wish (0.28)   brilliant (0.83)           special (0.39)   \n",
       "5         liked (0.23)     perfect (0.75)            cinema (0.36)   \n",
       "6       enjoyed (0.21)   beautiful (0.68)      particularly (0.35)   \n",
       "7          seen (0.17)  soundtrack (0.67)           classic (0.33)   \n",
       "8      buy_copy (0.16)     amazing (0.65)              work (0.33)   \n",
       "9  really_liked (0.16)  incredible (0.59)  highly_recommend (0.28)   \n",
       "\n",
       "                    48                99                      87  \\\n",
       "0       thought (0.17)       game (1.77)      performance (1.36)   \n",
       "1        people (0.16)   hilarious (0.5)              role (0.9)   \n",
       "2       exactly (0.13)     comedy (0.43)             star (0.55)   \n",
       "3          folk (0.12)      scifi (0.43)             play (0.46)   \n",
       "4       shocked (0.11)        show (0.4)          playing (0.39)   \n",
       "5  happy_ending (0.11)      humor (0.28)        great_job (0.31)   \n",
       "6       wanting (0.09)      short (0.24)            usual (0.25)   \n",
       "7       figured (0.08)     clever (0.23)        rest_cast (0.18)   \n",
       "8  running_time (0.08)     humour (0.21)  supporting_cast (0.18)   \n",
       "9         cared (0.08)  one_liner (0.17)            shine (0.17)   \n",
       "\n",
       "                     10                31                 17              95  \n",
       "0             dvd (0.7)       real (0.65)      feeling (0.6)      year (0.8)  \n",
       "1           hope (0.39)       often (0.4)        feel (0.54)    night (0.43)  \n",
       "2        channel (0.37)     moving (0.35)     message (0.43)      day (0.39)  \n",
       "3          found (0.34)     filmed (0.21)     reality (0.34)    lived (0.35)  \n",
       "4            buy (0.33)        top (0.17)        theme (0.3)   memory (0.29)  \n",
       "5           glad (0.31)       main (0.15)       issue (0.21)   future (0.26)  \n",
       "6  film_festival (0.27)  character (0.15)     society (0.18)     grew (0.25)  \n",
       "7      first_saw (0.25)    segment (0.13)  importance (0.17)     last (0.25)  \n",
       "8          video (0.25)   sequence (0.13)     complex (0.16)     took (0.22)  \n",
       "9        theater (0.21)     edited (0.11)     dealing (0.16)  weekend (0.21)  "
      ]
     },
     "execution_count": 144,
     "metadata": {},
     "output_type": "execute_result"
    }
   ],
   "source": [
    "c1_t"
   ]
  },
  {
   "cell_type": "code",
   "execution_count": 145,
   "metadata": {},
   "outputs": [
    {
     "data": {
      "text/html": [
       "<div>\n",
       "<style scoped>\n",
       "    .dataframe tbody tr th:only-of-type {\n",
       "        vertical-align: middle;\n",
       "    }\n",
       "\n",
       "    .dataframe tbody tr th {\n",
       "        vertical-align: top;\n",
       "    }\n",
       "\n",
       "    .dataframe thead th {\n",
       "        text-align: right;\n",
       "    }\n",
       "</style>\n",
       "<table border=\"1\" class=\"dataframe\">\n",
       "  <thead>\n",
       "    <tr style=\"text-align: right;\">\n",
       "      <th></th>\n",
       "      <th>28</th>\n",
       "      <th>92</th>\n",
       "      <th>48</th>\n",
       "      <th>89</th>\n",
       "      <th>49</th>\n",
       "      <th>19</th>\n",
       "      <th>31</th>\n",
       "      <th>42</th>\n",
       "      <th>82</th>\n",
       "      <th>86</th>\n",
       "    </tr>\n",
       "  </thead>\n",
       "  <tbody>\n",
       "    <tr>\n",
       "      <th>0</th>\n",
       "      <td>bad (5.31)</td>\n",
       "      <td>movie (2.33)</td>\n",
       "      <td>hour (0.74)</td>\n",
       "      <td>worst (2.48)</td>\n",
       "      <td>even (1.48)</td>\n",
       "      <td>really (0.94)</td>\n",
       "      <td>shot (0.67)</td>\n",
       "      <td>could (1.22)</td>\n",
       "      <td>made (0.83)</td>\n",
       "      <td>better (1.0)</td>\n",
       "    </tr>\n",
       "    <tr>\n",
       "      <th>1</th>\n",
       "      <td>stupid (1.61)</td>\n",
       "      <td>rating (0.84)</td>\n",
       "      <td>minute (0.72)</td>\n",
       "      <td>ever_seen (0.95)</td>\n",
       "      <td>enough (0.72)</td>\n",
       "      <td>maybe (0.61)</td>\n",
       "      <td>scene (0.54)</td>\n",
       "      <td>instead (1.03)</td>\n",
       "      <td>supposed (0.74)</td>\n",
       "      <td>original (0.33)</td>\n",
       "    </tr>\n",
       "    <tr>\n",
       "      <th>2</th>\n",
       "      <td>plot (1.52)</td>\n",
       "      <td>say (0.72)</td>\n",
       "      <td>anyone (0.61)</td>\n",
       "      <td>one_worst (0.88)</td>\n",
       "      <td>idea (0.59)</td>\n",
       "      <td>mean (0.42)</td>\n",
       "      <td>camera (0.51)</td>\n",
       "      <td>least (0.77)</td>\n",
       "      <td>making (0.43)</td>\n",
       "      <td>overall (0.32)</td>\n",
       "    </tr>\n",
       "    <tr>\n",
       "      <th>3</th>\n",
       "      <td>boring (1.38)</td>\n",
       "      <td>watching (0.52)</td>\n",
       "      <td>bored (0.58)</td>\n",
       "      <td>ever (0.74)</td>\n",
       "      <td>premise (0.45)</td>\n",
       "      <td>guess (0.38)</td>\n",
       "      <td>numerous (0.27)</td>\n",
       "      <td>nothing (0.76)</td>\n",
       "      <td>wrong (0.4)</td>\n",
       "      <td>serious (0.28)</td>\n",
       "    </tr>\n",
       "    <tr>\n",
       "      <th>4</th>\n",
       "      <td>awful (1.34)</td>\n",
       "      <td>review (0.52)</td>\n",
       "      <td>end (0.5)</td>\n",
       "      <td>rent (0.7)</td>\n",
       "      <td>disappointing (0.36)</td>\n",
       "      <td>like (0.37)</td>\n",
       "      <td>main_character (0.27)</td>\n",
       "      <td>anything (0.56)</td>\n",
       "      <td>line (0.27)</td>\n",
       "      <td>produced (0.14)</td>\n",
       "    </tr>\n",
       "    <tr>\n",
       "      <th>5</th>\n",
       "      <td>terrible (1.24)</td>\n",
       "      <td>reason (0.47)</td>\n",
       "      <td>depressing (0.49)</td>\n",
       "      <td>something (0.68)</td>\n",
       "      <td>producer (0.36)</td>\n",
       "      <td>someone (0.35)</td>\n",
       "      <td>echo (0.19)</td>\n",
       "      <td>either (0.46)</td>\n",
       "      <td>meant (0.17)</td>\n",
       "      <td>standard (0.08)</td>\n",
       "    </tr>\n",
       "    <tr>\n",
       "      <th>6</th>\n",
       "      <td>poor (1.12)</td>\n",
       "      <td>disappointed (0.34)</td>\n",
       "      <td>actually (0.47)</td>\n",
       "      <td>waste (0.65)</td>\n",
       "      <td>unfortunately (0.35)</td>\n",
       "      <td>seriously (0.32)</td>\n",
       "      <td>example (0.18)</td>\n",
       "      <td>gave (0.42)</td>\n",
       "      <td>looking (0.17)</td>\n",
       "      <td>bollywood (0.08)</td>\n",
       "    </tr>\n",
       "    <tr>\n",
       "      <th>7</th>\n",
       "      <td>horrible (0.93)</td>\n",
       "      <td>comment (0.34)</td>\n",
       "      <td>going (0.46)</td>\n",
       "      <td>waste_time (0.61)</td>\n",
       "      <td>stereotype (0.29)</td>\n",
       "      <td>anymore (0.26)</td>\n",
       "      <td>relentlessly (0.17)</td>\n",
       "      <td>laugh (0.34)</td>\n",
       "      <td>ruin (0.15)</td>\n",
       "      <td>worked (0.07)</td>\n",
       "    </tr>\n",
       "    <tr>\n",
       "      <th>8</th>\n",
       "      <td>worse (0.72)</td>\n",
       "      <td>saying (0.33)</td>\n",
       "      <td>make_sense (0.45)</td>\n",
       "      <td>ever_made (0.56)</td>\n",
       "      <td>seems (0.27)</td>\n",
       "      <td>hate (0.24)</td>\n",
       "      <td>clip (0.16)</td>\n",
       "      <td>cool (0.32)</td>\n",
       "      <td>appeal (0.13)</td>\n",
       "      <td>equally (0.07)</td>\n",
       "    </tr>\n",
       "    <tr>\n",
       "      <th>9</th>\n",
       "      <td>dialog (0.63)</td>\n",
       "      <td>hated (0.32)</td>\n",
       "      <td>seemed (0.45)</td>\n",
       "      <td>recommend (0.48)</td>\n",
       "      <td>project (0.27)</td>\n",
       "      <td>hell (0.24)</td>\n",
       "      <td>particular (0.16)</td>\n",
       "      <td>seagal (0.29)</td>\n",
       "      <td>describe (0.12)</td>\n",
       "      <td>dubbed (0.07)</td>\n",
       "    </tr>\n",
       "  </tbody>\n",
       "</table>\n",
       "</div>"
      ],
      "text/plain": [
       "                28                   92                 48                 89  \\\n",
       "0       bad (5.31)         movie (2.33)        hour (0.74)       worst (2.48)   \n",
       "1    stupid (1.61)        rating (0.84)      minute (0.72)   ever_seen (0.95)   \n",
       "2      plot (1.52)           say (0.72)      anyone (0.61)   one_worst (0.88)   \n",
       "3    boring (1.38)      watching (0.52)       bored (0.58)        ever (0.74)   \n",
       "4     awful (1.34)        review (0.52)          end (0.5)         rent (0.7)   \n",
       "5  terrible (1.24)        reason (0.47)  depressing (0.49)   something (0.68)   \n",
       "6      poor (1.12)  disappointed (0.34)    actually (0.47)       waste (0.65)   \n",
       "7  horrible (0.93)       comment (0.34)       going (0.46)  waste_time (0.61)   \n",
       "8     worse (0.72)        saying (0.33)  make_sense (0.45)   ever_made (0.56)   \n",
       "9    dialog (0.63)         hated (0.32)      seemed (0.45)   recommend (0.48)   \n",
       "\n",
       "                     49                19                     31  \\\n",
       "0           even (1.48)     really (0.94)            shot (0.67)   \n",
       "1         enough (0.72)      maybe (0.61)           scene (0.54)   \n",
       "2           idea (0.59)       mean (0.42)          camera (0.51)   \n",
       "3        premise (0.45)      guess (0.38)        numerous (0.27)   \n",
       "4  disappointing (0.36)       like (0.37)  main_character (0.27)   \n",
       "5       producer (0.36)    someone (0.35)            echo (0.19)   \n",
       "6  unfortunately (0.35)  seriously (0.32)         example (0.18)   \n",
       "7     stereotype (0.29)    anymore (0.26)    relentlessly (0.17)   \n",
       "8          seems (0.27)       hate (0.24)            clip (0.16)   \n",
       "9        project (0.27)       hell (0.24)      particular (0.16)   \n",
       "\n",
       "                42               82                86  \n",
       "0     could (1.22)      made (0.83)      better (1.0)  \n",
       "1   instead (1.03)  supposed (0.74)   original (0.33)  \n",
       "2     least (0.77)    making (0.43)    overall (0.32)  \n",
       "3   nothing (0.76)      wrong (0.4)    serious (0.28)  \n",
       "4  anything (0.56)      line (0.27)   produced (0.14)  \n",
       "5    either (0.46)     meant (0.17)   standard (0.08)  \n",
       "6      gave (0.42)   looking (0.17)  bollywood (0.08)  \n",
       "7     laugh (0.34)      ruin (0.15)     worked (0.07)  \n",
       "8      cool (0.32)    appeal (0.13)    equally (0.07)  \n",
       "9    seagal (0.29)  describe (0.12)     dubbed (0.07)  "
      ]
     },
     "execution_count": 145,
     "metadata": {},
     "output_type": "execute_result"
    }
   ],
   "source": [
    "c2_t"
   ]
  },
  {
   "cell_type": "markdown",
   "metadata": {},
   "source": [
    "## 5 Reduced Dimension Inputs"
   ]
  },
  {
   "cell_type": "markdown",
   "metadata": {},
   "source": [
    "### 5.1 UMAP"
   ]
  },
  {
   "cell_type": "code",
   "execution_count": null,
   "metadata": {},
   "outputs": [],
   "source": [
    "### TODO: lcwmd with UMAP"
   ]
  },
  {
   "cell_type": "code",
   "execution_count": 170,
   "metadata": {},
   "outputs": [
    {
     "name": "stdout",
     "output_type": "stream",
     "text": [
      "Calculated distances between approximately 0 documents.\n",
      "Calculated distances between approximately 100 documents.\n",
      "Calculated distances between approximately 200 documents.\n",
      "Calculated distances between approximately 300 documents.\n",
      "Calculated distances between approximately 400 documents.\n",
      "CPU times: user 1min 34s, sys: 4.71 s, total: 1min 39s\n",
      "Wall time: 1min 30s\n"
     ]
    }
   ],
   "source": [
    "%%time \n",
    "\n",
    "wmd_pairs_flow_uvecs = WMDPairs(pos_docs,neg_docs,pairs,E_umap,idx2word)\n",
    "wmd_pairs_flow_uvecs.get_distances(return_flow = True, \n",
    "                               sum_clusters = True, \n",
    "                               w2c = word2cluster_u, \n",
    "                               c2w = cluster2words_u,\n",
    "                               thread = True)"
   ]
  },
  {
   "cell_type": "markdown",
   "metadata": {},
   "source": [
    "### 5.2 T-SNE"
   ]
  },
  {
   "cell_type": "markdown",
   "metadata": {},
   "source": [
    "## 6 Statistical Models"
   ]
  },
  {
   "cell_type": "code",
   "execution_count": 234,
   "metadata": {},
   "outputs": [],
   "source": [
    "import statsmodels.api as sm"
   ]
  },
  {
   "cell_type": "code",
   "execution_count": 317,
   "metadata": {},
   "outputs": [
    {
     "data": {
      "text/plain": [
       "0.39088"
      ]
     },
     "execution_count": 317,
     "metadata": {},
     "output_type": "execute_result"
    }
   ],
   "source": [
    "np.max(wmd_pairs_flow.X1_feat)"
   ]
  },
  {
   "cell_type": "code",
   "execution_count": 276,
   "metadata": {},
   "outputs": [],
   "source": [
    "feats = np.copy(wmd_pairs_flow.X1_feat)"
   ]
  },
  {
   "cell_type": "code",
   "execution_count": 277,
   "metadata": {},
   "outputs": [
    {
     "data": {
      "text/plain": [
       "array([[1., 0., 0., ..., 0., 0., 1.],\n",
       "       [0., 1., 0., ..., 1., 1., 1.],\n",
       "       [0., 0., 0., ..., 0., 1., 0.],\n",
       "       ...,\n",
       "       [0., 1., 0., ..., 1., 1., 0.],\n",
       "       [0., 0., 0., ..., 1., 0., 0.],\n",
       "       [0., 1., 1., ..., 1., 1., 1.]])"
      ]
     },
     "execution_count": 277,
     "metadata": {},
     "output_type": "execute_result"
    }
   ],
   "source": [
    "feats[feats>0] = 1\n",
    "feats"
   ]
  },
  {
   "cell_type": "code",
   "execution_count": 258,
   "metadata": {},
   "outputs": [
    {
     "data": {
      "text/plain": [
       "39.0"
      ]
     },
     "execution_count": 258,
     "metadata": {},
     "output_type": "execute_result"
    }
   ],
   "source": [
    "np.sum(feats[0,])"
   ]
  },
  {
   "cell_type": "code",
   "execution_count": 279,
   "metadata": {},
   "outputs": [],
   "source": [
    "ols = sm.OLS(np.sum(wmd_pairs_flow.X1_feat, axis=1), feats)\n",
    "res = ols.fit()"
   ]
  },
  {
   "cell_type": "code",
   "execution_count": 289,
   "metadata": {},
   "outputs": [],
   "source": [
    "params = list(np.round(res.params, 3))"
   ]
  },
  {
   "cell_type": "code",
   "execution_count": 309,
   "metadata": {},
   "outputs": [
    {
     "data": {
      "text/plain": [
       "15"
      ]
     },
     "execution_count": 309,
     "metadata": {},
     "output_type": "execute_result"
    }
   ],
   "source": [
    "params.index(sorted(params)[-97])"
   ]
  },
  {
   "cell_type": "code",
   "execution_count": 311,
   "metadata": {},
   "outputs": [
    {
     "data": {
      "text/plain": [
       "0.003"
      ]
     },
     "execution_count": 311,
     "metadata": {},
     "output_type": "execute_result"
    }
   ],
   "source": [
    "params[97]"
   ]
  },
  {
   "cell_type": "code",
   "execution_count": 318,
   "metadata": {},
   "outputs": [
    {
     "name": "stdout",
     "output_type": "stream",
     "text": [
      "['addressed', 'allowed', 'apparent', 'avoids', 'breakdown', 'carefully', 'central', 'central_character', 'change', 'changing', 'choosing', 'chosen', 'claustrophobia', 'clear', 'close', 'closest', 'coincidence', 'comedy_tragedy', 'common', 'complicated', 'concentrate', 'concerned', 'concerning', 'conflict', 'connect', 'connected', 'connecting', 'connection', 'consequently', 'construct', 'contempt', 'continuing', 'conviction', 'dealt', 'despicable', 'despite_fact', 'detached', 'develop', 'developed', 'developing', 'development', 'develops', 'device', 'dignity', 'disparate', 'dominate', 'dramatically', 'drawn', 'eliminated', 'encountered', 'establish', 'established', 'establishing', 'event', 'event_unfold', 'evolve', 'evolves', 'explicitly', 'explored', 'fall_apart', 'feel_sympathy', 'fictional', 'focus', 'focused', 'focusing', 'follow', 'following', 'form', 'forward', 'foundation', 'framework', 'gap', 'general', 'glimpse', 'gradual', 'hint', 'hinted', 'hopeless', 'identified', 'ignoring', 'illustrate', 'illustrates', 'incident', 'increasingly', 'inevitable', 'inevitably', 'initial', 'interact', 'interaction', 'interest', 'intertwine', 'intertwined', 'interwoven', 'ironically', 'key', 'laid', 'larger', 'lead', 'leading', 'link', 'linked', 'literal', 'love_triangle', 'madness', 'major', 'manifest', 'metaphorical', 'metaphysical', 'missing', 'misunderstood', 'namely', 'neglected', 'never_fully', 'observer', 'occur', 'occurrence', 'occurring', 'occurs', 'offered', 'onesided', 'ongoing', 'opposed', 'ordinary', 'origin', 'outcome', 'outrage', 'parallel', 'participant', 'past', 'past_present', 'pattern', 'physical', 'pivotal', 'possibility', 'present', 'primary', 'progress', 'protagonist', 'puzzle', 'quickly', 'rapidly', 'reflected', 'reflecting', 'reflection', 'regarding', 'relation', 'relentless', 'remain', 'remains', 'resolve', 'resolved', 'resulting', 'reveal', 'revealed', 'revelation', 'schizophrenic', 'seemingly', 'selected', 'sens', 'separate', 'serf', 'serve', 'served', 'shaped', 'showing', 'showing_u', 'shown', 'significance', 'slowly', 'solved', 'sordid', 'span', 'story_told', 'story_unfolds', 'strength', 'strong', 'successfully', 'surface', 'taking_place', 'telling_story', 'tendency', 'thread', 'timeline', 'transcend', 'treatment', 'triumph', 'turning_point', 'unclear', 'unexplained', 'unfolding', 'unfolds', 'unlikely', 'unravel', 'unsuccessful', 'us', 'use', 'used', 'using', 'weakness', 'within']\n"
     ]
    }
   ],
   "source": [
    "print(cluster2words[97])"
   ]
  },
  {
   "cell_type": "markdown",
   "metadata": {},
   "source": [
    "## Appendix: Many-to-many WMD"
   ]
  },
  {
   "cell_type": "markdown",
   "metadata": {},
   "source": [
    "This was a first attempt to do the flows from words between many documents, without first filtering using Gale-Shapeley. However, this proved too inefficient. As you can see looking at the CPU times, it is very slow even with extremely small samples and the time complexity is quadratic (or worse?), meaning it rapidly gets even worse as the sample size increases."
   ]
  },
  {
   "cell_type": "code",
   "execution_count": 155,
   "metadata": {},
   "outputs": [
    {
     "name": "stdout",
     "output_type": "stream",
     "text": [
      "CPU times: user 1min 48s, sys: 12.7 s, total: 2min 1s\n",
      "Wall time: 50 s\n"
     ]
    }
   ],
   "source": [
    "%time m2m_distances = WMDManyToMany(pos_docs[:20], neg_docs[:20],E,idx2word).get_distances(return_flow = False)"
   ]
  },
  {
   "cell_type": "code",
   "execution_count": 156,
   "metadata": {},
   "outputs": [
    {
     "name": "stdout",
     "output_type": "stream",
     "text": [
      "CPU times: user 1min 52s, sys: 13.5 s, total: 2min 5s\n",
      "Wall time: 51.4 s\n"
     ]
    }
   ],
   "source": [
    "%time m2m_distances_flow, wc_X1, wc_X2 = WMDManyToMany(pos_docs[:20],neg_docs[:20],E,idx2word).get_distances(return_flow = True)"
   ]
  },
  {
   "cell_type": "code",
   "execution_count": 157,
   "metadata": {},
   "outputs": [
    {
     "data": {
      "text/plain": [
       "{'karen': 8.69223,\n",
       " 'wrenching': 8.31882,\n",
       " 'carpenter': 7.468960000000001,\n",
       " 'laughter': 7.467879999999999,\n",
       " 'liked': 6.864090000000003,\n",
       " 'mom': 6.791519999999999,\n",
       " 'gut': 6.759419999999999,\n",
       " 'love': 6.551409999999997,\n",
       " 'camp': 6.533080000000001,\n",
       " 'hr': 6.1393699999999995}"
      ]
     },
     "execution_count": 157,
     "metadata": {},
     "output_type": "execute_result"
    }
   ],
   "source": [
    "{k: v for k, v in sorted(wc_X1.items(), key=lambda item: item[1], reverse=True)[:10]}"
   ]
  },
  {
   "cell_type": "code",
   "execution_count": 158,
   "metadata": {},
   "outputs": [
    {
     "data": {
      "text/plain": [
       "{'hopper': 8.372459999999998,\n",
       " 'jake': 7.63837,\n",
       " 'movie': 7.267059999999995,\n",
       " 'film': 6.936379999999998,\n",
       " 'shakespeare': 5.99276,\n",
       " 'oddness': 5.53033,\n",
       " 'terrible': 4.943440000000001,\n",
       " 'parent': 4.751790000000001,\n",
       " 'actor': 4.672620000000001,\n",
       " 'bad': 4.430020000000002}"
      ]
     },
     "execution_count": 158,
     "metadata": {},
     "output_type": "execute_result"
    }
   ],
   "source": [
    "{k: v for k, v in sorted(wc_X2.items(), key=lambda item: item[1], reverse=True)[:10]}"
   ]
  },
  {
   "cell_type": "code",
   "execution_count": null,
   "metadata": {},
   "outputs": [],
   "source": []
  }
 ],
 "metadata": {
  "kernelspec": {
   "display_name": "venv-fwmd",
   "language": "python",
   "name": "venv-fwmd"
  },
  "language_info": {
   "codemirror_mode": {
    "name": "ipython",
    "version": 3
   },
   "file_extension": ".py",
   "mimetype": "text/x-python",
   "name": "python",
   "nbconvert_exporter": "python",
   "pygments_lexer": "ipython3",
   "version": "3.8.3"
  }
 },
 "nbformat": 4,
 "nbformat_minor": 4
}

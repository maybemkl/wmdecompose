{
 "cells": [
  {
   "cell_type": "code",
   "execution_count": null,
   "metadata": {},
   "outputs": [],
   "source": [
    "import os\n",
    "import sys\n",
    "\n",
    "root_dir = os.path.join(os.getcwd(), '..')\n",
    "sys.path.append(root_dir)"
   ]
  },
  {
   "cell_type": "code",
   "execution_count": 142,
   "metadata": {},
   "outputs": [],
   "source": [
    "import gensim\n",
    "import pandas as pd\n",
    "\n",
    "from flow_wmd.utils import *\n",
    "from gensim.models import Word2Vec \n",
    "from gensim.models import KeyedVectors\n",
    "from gensim.models.callbacks import CallbackAny2Vec\n",
    "from gensim.models.phrases import Phrases, Phraser\n",
    "from gensim.test.utils import get_tmpfile\n",
    "from nltk.tokenize import RegexpTokenizer"
   ]
  },
  {
   "cell_type": "markdown",
   "metadata": {},
   "source": [
    "## 1. Load Data and Pretrained Embeddings"
   ]
  },
  {
   "cell_type": "code",
   "execution_count": 143,
   "metadata": {},
   "outputs": [],
   "source": [
    "PATH = \"../data/\"\n",
    "data = pd.read_csv(f\"{PATH}IMDB_Dataset.csv\")"
   ]
  },
  {
   "cell_type": "code",
   "execution_count": 144,
   "metadata": {},
   "outputs": [],
   "source": [
    "sentences = data.review.astype('str').tolist()\n",
    "tokenizer = RegexpTokenizer(r'\\w+')\n",
    "sentences_tokenized = [w.lower() for w in sentences]\n",
    "sentences_tokenized = [tokenizer.tokenize(i) for i in sentences_tokenized]"
   ]
  },
  {
   "cell_type": "code",
   "execution_count": 145,
   "metadata": {},
   "outputs": [
    {
     "name": "stdout",
     "output_type": "stream",
     "text": [
      "Loading GoogleNews Vectors\n",
      "CPU times: user 48.5 s, sys: 4.09 s, total: 52.6 s\n",
      "Wall time: 54.7 s\n"
     ]
    }
   ],
   "source": [
    "print(\"Loading GoogleNews Vectors\")\n",
    "%time model = KeyedVectors.load_word2vec_format('../embeddings/GoogleNews-vectors-negative300.bin.gz', binary=True)"
   ]
  },
  {
   "cell_type": "markdown",
   "metadata": {},
   "source": [
    "## 2. Phrase Data"
   ]
  },
  {
   "cell_type": "code",
   "execution_count": 165,
   "metadata": {},
   "outputs": [],
   "source": [
    "PHRASING = True\n",
    "MIN = 10\n",
    "THRESHOLD = 200"
   ]
  },
  {
   "cell_type": "code",
   "execution_count": 166,
   "metadata": {},
   "outputs": [
    {
     "name": "stdout",
     "output_type": "stream",
     "text": [
      "CPU times: user 2 µs, sys: 1e+03 ns, total: 3 µs\n",
      "Wall time: 5.96 µs\n"
     ]
    }
   ],
   "source": [
    "%time \n",
    "\n",
    "if PHRASING:\n",
    "    sentences_phrased = get_phrases(sentences_tokenized, \n",
    "                                    min_count = MIN, \n",
    "                                    threshold = THRESHOLD)\n",
    "    sentences_training = sentences_phrased\n",
    "    \n",
    "else:\n",
    "    sentences_training = sentences_tokenized"
   ]
  },
  {
   "cell_type": "code",
   "execution_count": 170,
   "metadata": {},
   "outputs": [
    {
     "name": "stdout",
     "output_type": "stream",
     "text": [
      "['one', 'of', 'the', 'other_reviewers', 'has', 'mentioned', 'that', 'after_watching', 'just', '1', 'oz', 'episode', 'you_ll', 'be', 'hooked', 'they', 'are', 'right', 'as', 'this', 'is', 'exactly_what', 'happened', 'with', 'me', 'br', 'br', 'the', 'first', 'thing', 'that', 'struck_me', 'about', 'oz', 'was', 'its', 'brutality', 'and', 'unflinching', 'scenes', 'of', 'violence', 'which', 'set', 'in', 'right', 'from', 'the', 'word', 'go', 'trust_me', 'this', 'is', 'not', 'a', 'show', 'for', 'the', 'faint_hearted', 'or', 'timid', 'this', 'show', 'pulls', 'no_punches', 'with', 'regards', 'to', 'drugs', 'sex', 'or', 'violence', 'its', 'is', 'hardcore', 'in', 'the', 'classic', 'use', 'of', 'the', 'word', 'br', 'br', 'it', 'is', 'called', 'oz', 'as', 'that', 'is', 'the', 'nickname', 'given', 'to', 'the', 'oswald', 'maximum_security', 'state', 'penitentary', 'it', 'focuses_mainly', 'on', 'emerald_city', 'an', 'experimental', 'section', 'of', 'the', 'prison', 'where', 'all', 'the', 'cells', 'have', 'glass', 'fronts', 'and', 'face', 'inwards', 'so', 'privacy', 'is', 'not', 'high', 'on', 'the', 'agenda', 'em', 'city', 'is', 'home', 'to', 'many', 'aryans', 'muslims', 'gangstas', 'latinos', 'christians', 'italians', 'irish', 'and', 'more', 'so', 'scuffles', 'death', 'stares', 'dodgy', 'dealings', 'and', 'shady', 'agreements', 'are', 'never', 'far_away', 'br', 'br', 'i', 'would', 'say', 'the', 'main', 'appeal', 'of', 'the', 'show', 'is', 'due', 'to', 'the', 'fact', 'that', 'it', 'goes', 'where', 'other', 'shows', 'wouldn_t', 'dare', 'forget', 'pretty', 'pictures', 'painted', 'for', 'mainstream_audiences', 'forget', 'charm', 'forget', 'romance', 'oz', 'doesn_t', 'mess', 'around', 'the', 'first', 'episode', 'i', 'ever', 'saw', 'struck_me', 'as', 'so', 'nasty', 'it', 'was', 'surreal', 'i', 'couldn_t', 'say', 'i', 'was', 'ready', 'for', 'it', 'but', 'as', 'i', 'watched', 'more', 'i', 'developed', 'a', 'taste', 'for', 'oz', 'and', 'got', 'accustomed', 'to', 'the', 'high', 'levels', 'of', 'graphic_violence', 'not', 'just', 'violence', 'but', 'injustice', 'crooked', 'guards', 'who', 'll', 'be', 'sold', 'out', 'for', 'a', 'nickel', 'inmates', 'who', 'll', 'kill', 'on', 'order', 'and', 'get', 'away', 'with', 'it', 'well_mannered', 'middle_class', 'inmates', 'being', 'turned_into', 'prison', 'bitches', 'due', 'to', 'their', 'lack', 'of', 'street', 'skills', 'or', 'prison', 'experience', 'watching', 'oz', 'you', 'may', 'become', 'comfortable', 'with', 'what', 'is', 'uncomfortable', 'viewing', 'thats', 'if_you', 'can', 'get', 'in', 'touch', 'with', 'your', 'darker_side']\n"
     ]
    }
   ],
   "source": [
    "print(sentences_training[0])"
   ]
  },
  {
   "cell_type": "markdown",
   "metadata": {},
   "source": [
    "## 3. Finetune Embeddings"
   ]
  },
  {
   "cell_type": "markdown",
   "metadata": {},
   "source": [
    "### 3.1. Initialize Loggers"
   ]
  },
  {
   "cell_type": "code",
   "execution_count": 171,
   "metadata": {},
   "outputs": [],
   "source": [
    "class EpochLogger(CallbackAny2Vec):\n",
    "    '''Callback to log information about training'''\n",
    "    def __init__(self):\n",
    "        self.epoch = 1\n",
    "\n",
    "    def on_epoch_begin(self, model):\n",
    "        print(f\"Epoch {self.epoch} starting.\")\n",
    "\n",
    "    def on_epoch_end(self, model):\n",
    "        print(f\"Epoch {self.epoch} ended.\")\n",
    "        self.epoch += 1\n",
    "        \n",
    "class LossLogger(CallbackAny2Vec):\n",
    "    '''Output loss at each epoch'''\n",
    "    def __init__(self):\n",
    "        self.epoch = 1\n",
    "        self.losses = []\n",
    "\n",
    "    def on_epoch_begin(self, model):\n",
    "        print(f'Epoch: {self.epoch}', end='\\t')\n",
    "\n",
    "    def on_epoch_end(self, model):\n",
    "        loss = model.get_latest_training_loss()\n",
    "        if self.epoch != 1:\n",
    "            previous_loss = self.losses[self.epoch-2]\n",
    "        else:\n",
    "            previous_loss = 0\n",
    "        self.losses.append(loss)\n",
    "        difference = loss-previous_loss\n",
    "        print(f'  Loss: {loss}  Difference: {difference}')\n",
    "        self.epoch += 1"
   ]
  },
  {
   "cell_type": "code",
   "execution_count": 172,
   "metadata": {},
   "outputs": [],
   "source": [
    "epoch_logger = EpochLogger()\n",
    "loss_logger = LossLogger()"
   ]
  },
  {
   "cell_type": "markdown",
   "metadata": {},
   "source": [
    "### 3.2. Initialize Model"
   ]
  },
  {
   "cell_type": "code",
   "execution_count": 173,
   "metadata": {},
   "outputs": [],
   "source": [
    "SIZE = model.vector_size\n",
    "WINDOW = 10\n",
    "EPOCHS = 4\n",
    "MIN_COUNT = 2\n",
    "SG = 1\n",
    "HS = 0\n",
    "SEED = 42\n",
    "LOSS = True\n",
    "ALPHA = 0.01"
   ]
  },
  {
   "cell_type": "code",
   "execution_count": 174,
   "metadata": {},
   "outputs": [
    {
     "name": "stdout",
     "output_type": "stream",
     "text": [
      "CPU times: user 3 µs, sys: 1e+03 ns, total: 4 µs\n",
      "Wall time: 5.01 µs\n"
     ]
    }
   ],
   "source": [
    "%time\n",
    "\n",
    "model_ft = Word2Vec(vector_size= SIZE, \n",
    "                    window = WINDOW,\n",
    "                    min_count= MIN_COUNT,\n",
    "                    epochs=EPOCHS,\n",
    "                    sg = SG,\n",
    "                    hs = HS,\n",
    "                    seed = SEED)\n",
    "model_ft.build_vocab(sentences_training)\n",
    "total_examples = model_ft.corpus_count\n",
    "model_ft.build_vocab([list(model.key_to_index.keys())], update=True)"
   ]
  },
  {
   "cell_type": "markdown",
   "metadata": {},
   "source": [
    "### 3.3. Train Word2Vec"
   ]
  },
  {
   "cell_type": "code",
   "execution_count": 175,
   "metadata": {},
   "outputs": [],
   "source": [
    "outfile = \"../embeddings/imdb_w2v\""
   ]
  },
  {
   "cell_type": "code",
   "execution_count": 176,
   "metadata": {},
   "outputs": [
    {
     "name": "stdout",
     "output_type": "stream",
     "text": [
      "CPU times: user 3 µs, sys: 1e+03 ns, total: 4 µs\n",
      "Wall time: 6.91 µs\n",
      "Epoch: 1\t  Loss: 43901376.0  Difference: 43901376.0\n",
      "Epoch: 2\t  Loss: 67113664.0  Difference: 23212288.0\n",
      "Epoch: 3\t  Loss: 67149352.0  Difference: 35688.0\n",
      "Epoch: 4\t  Loss: 67188464.0  Difference: 39112.0\n",
      "Epoch: 5\t  Loss: 67230064.0  Difference: 41600.0\n",
      "Epoch: 6\t  Loss: 67273912.0  Difference: 43848.0\n",
      "Epoch: 7\t  Loss: 67319536.0  Difference: 45624.0\n",
      "Epoch: 8\t  Loss: 67365376.0  Difference: 45840.0\n",
      "Epoch: 9\t  Loss: 67410608.0  Difference: 45232.0\n",
      "Epoch: 10\t  Loss: 67454848.0  Difference: 44240.0\n"
     ]
    }
   ],
   "source": [
    "%time\n",
    "\n",
    "model_ft.train(sentences_training, \n",
    "               total_examples=total_examples,\n",
    "               epochs=model_ft.epochs,\n",
    "               callbacks=[loss_logger],\n",
    "               compute_loss=LOSS,\n",
    "               start_alpha = ALPHA)\n",
    "model_ft.wv.save_word2vec_format(f\"{outfile}.txt\", binary=False)"
   ]
  },
  {
   "cell_type": "markdown",
   "metadata": {},
   "source": [
    "### 3.4. Load Finetuned Vectors and Test"
   ]
  },
  {
   "cell_type": "code",
   "execution_count": 177,
   "metadata": {},
   "outputs": [],
   "source": [
    "ft_vectors = gensim.models.keyedvectors.KeyedVectors.load_word2vec_format(f\"{outfile}.txt\")"
   ]
  },
  {
   "cell_type": "code",
   "execution_count": 178,
   "metadata": {},
   "outputs": [
    {
     "data": {
      "text/plain": [
       "0.5875533521175385"
      ]
     },
     "execution_count": 178,
     "metadata": {},
     "output_type": "execute_result"
    }
   ],
   "source": [
    "ft_vectors.distance(\"citizen\", \"kane\")"
   ]
  },
  {
   "cell_type": "code",
   "execution_count": 179,
   "metadata": {},
   "outputs": [
    {
     "data": {
      "text/plain": [
       "0.9603805989027023"
      ]
     },
     "execution_count": 179,
     "metadata": {},
     "output_type": "execute_result"
    }
   ],
   "source": [
    "model.distance(\"citizen\", \"kane\")"
   ]
  },
  {
   "cell_type": "code",
   "execution_count": 183,
   "metadata": {},
   "outputs": [
    {
     "data": {
      "text/plain": [
       "0.227300763130188"
      ]
     },
     "execution_count": 183,
     "metadata": {},
     "output_type": "execute_result"
    }
   ],
   "source": [
    "ft_vectors.distance(\"lord\", \"rings\")"
   ]
  },
  {
   "cell_type": "code",
   "execution_count": 184,
   "metadata": {},
   "outputs": [
    {
     "data": {
      "text/plain": [
       "0.7735809534788132"
      ]
     },
     "execution_count": 184,
     "metadata": {},
     "output_type": "execute_result"
    }
   ],
   "source": [
    "model.distance(\"lord\", \"rings\")"
   ]
  },
  {
   "cell_type": "code",
   "execution_count": 181,
   "metadata": {},
   "outputs": [
    {
     "data": {
      "text/plain": [
       "array([-1.00433715e-01, -3.17269325e-01, -8.93413350e-02,  1.57137644e-02,\n",
       "        4.45895121e-02, -9.22689885e-02,  1.75202210e-02,  2.06013247e-01,\n",
       "       -5.37477374e-01,  3.73359740e-01,  3.49108934e-01,  1.09740265e-01,\n",
       "        2.65622944e-01,  1.50529221e-01, -6.54283091e-02, -7.62931034e-02,\n",
       "        4.31095026e-02, -3.97695571e-01, -2.02392772e-01, -4.15610731e-01,\n",
       "        4.17762607e-01,  3.40877958e-02, -2.30399713e-01,  1.06472917e-01,\n",
       "        1.01039626e-01,  5.69526330e-02, -3.14780325e-01, -6.36499897e-02,\n",
       "       -2.95992717e-02, -7.52708465e-02, -1.79257989e-01, -2.60440279e-02,\n",
       "        2.37290263e-02, -3.82337898e-01,  3.81438620e-02,  1.21527463e-01,\n",
       "       -7.16391802e-02, -2.91723698e-01, -8.37937370e-02,  1.73496798e-01,\n",
       "        1.36776268e-01,  7.31064826e-02,  1.49110124e-01,  2.48278677e-01,\n",
       "       -1.06557861e-01,  1.45261988e-01, -9.78931412e-02,  2.26827577e-01,\n",
       "        2.46177509e-01,  2.42325649e-01, -7.60335429e-03, -3.05930644e-01,\n",
       "        1.31457567e-01,  6.96606189e-02,  1.68758824e-01, -6.28807619e-02,\n",
       "        5.56043051e-02, -1.05153406e-02,  1.06447108e-01, -9.30555817e-03,\n",
       "        1.27107203e-01, -6.80053513e-03, -2.28831545e-01,  4.39558744e-01,\n",
       "        5.96443005e-02,  1.31742015e-01, -1.58703998e-01, -2.16443688e-02,\n",
       "       -2.68926322e-01,  2.17255443e-01, -9.43324640e-02, -3.39670807e-01,\n",
       "       -1.50552824e-01,  7.86720216e-02, -2.87737817e-01, -1.28393307e-01,\n",
       "       -2.35898882e-01, -7.97902420e-03, -1.96237606e-03, -2.21393313e-02,\n",
       "        1.35246858e-01,  7.96226934e-02,  1.62923262e-01,  1.54073283e-01,\n",
       "       -1.42420366e-01, -8.54003802e-02, -8.28197673e-02, -3.74049246e-01,\n",
       "        2.34887809e-01,  1.79979593e-01, -4.99079525e-02,  1.06617026e-01,\n",
       "       -2.39892788e-02, -6.96364865e-02,  2.43639156e-01,  1.95333168e-01,\n",
       "       -4.37173545e-02,  2.15929762e-01,  1.72992408e-01, -9.78075191e-02,\n",
       "        7.28926063e-02, -8.16410333e-02, -2.01571792e-01,  1.01482973e-03,\n",
       "       -1.84774607e-01, -5.15529588e-02, -1.77271031e-02, -1.71711296e-02,\n",
       "       -7.53353015e-02, -2.01946348e-01, -2.26873398e-01,  8.12025890e-02,\n",
       "       -1.38371587e-01,  1.47719935e-01, -2.32865691e-01,  1.26764914e-02,\n",
       "       -2.50684395e-02,  5.59229851e-02, -5.77071793e-02,  1.45237064e-02,\n",
       "       -2.98866592e-02, -1.01876214e-01,  3.77819896e-01,  3.74751650e-02,\n",
       "        1.14446603e-01,  3.66130918e-02,  5.01225889e-03,  1.63669959e-01,\n",
       "       -1.15994163e-01,  5.74079156e-02, -1.71477899e-01,  4.68028802e-03,\n",
       "        1.20965011e-01, -3.67829874e-02, -2.42940965e-03, -4.94886301e-02,\n",
       "        1.29413307e-01, -6.20682426e-02,  2.32697040e-01,  5.42748049e-02,\n",
       "        1.46739930e-01,  1.95481926e-02,  1.49187326e-01, -7.73978159e-02,\n",
       "        1.97702095e-01,  5.55877313e-02, -2.40591690e-01, -2.23213166e-01,\n",
       "        3.59391533e-02, -2.98396111e-01, -1.63855292e-02, -2.34811813e-01,\n",
       "       -1.13806754e-01, -9.44672525e-03, -3.79509293e-02,  1.54667854e-01,\n",
       "       -1.21875733e-01,  1.40098691e-01,  6.26287311e-02,  3.05806119e-02,\n",
       "       -1.21620104e-01, -1.64771900e-02, -3.86945426e-01,  4.55561467e-03,\n",
       "       -7.59667158e-02,  4.68034446e-02,  4.15494710e-01,  7.66822649e-03,\n",
       "       -2.38168165e-01, -2.87853420e-01,  4.14803661e-02, -1.16092362e-01,\n",
       "        1.08464308e-01,  2.45848345e-03,  1.22798912e-01, -5.65092340e-02,\n",
       "       -6.68286756e-02,  2.79956609e-02, -1.74712971e-01, -1.77111506e-01,\n",
       "        1.08159378e-01,  1.17692929e-02, -7.74854496e-02, -1.48093626e-01,\n",
       "       -1.46969154e-01, -9.42116976e-03,  1.83589667e-01,  7.96833932e-02,\n",
       "        3.10811192e-01,  1.35777786e-01,  2.70810369e-02, -1.09992856e-02,\n",
       "        5.69534674e-03, -9.68972892e-02,  1.83799252e-01, -1.14427485e-01,\n",
       "       -1.11828156e-01, -1.06066458e-01, -2.78092116e-01, -3.00650001e-01,\n",
       "        1.21371947e-01, -7.41235614e-02, -1.01101086e-01,  5.15118241e-02,\n",
       "        1.02015987e-01,  2.70197932e-02,  2.97715157e-01, -1.25851870e-01,\n",
       "        8.33932161e-02, -2.52010137e-01,  3.48984525e-02, -7.40685612e-02,\n",
       "        8.31391849e-03,  1.93133220e-01, -1.49981871e-01,  7.21453130e-02,\n",
       "       -1.76937521e-01, -1.79978922e-01,  2.39427581e-01,  3.57795894e-01,\n",
       "       -2.73778379e-01,  1.02096759e-01,  1.26738951e-01, -6.87411800e-02,\n",
       "        5.39768226e-02, -3.25103886e-02, -1.04186684e-01, -5.84796183e-02,\n",
       "        9.87697244e-02, -4.18481566e-02,  3.46965522e-01, -3.59700806e-02,\n",
       "       -2.81904906e-01,  2.13584118e-02,  2.25206062e-01, -1.89568345e-02,\n",
       "       -6.76295087e-02, -1.02981120e-01, -7.04117045e-02, -1.04747444e-01,\n",
       "       -1.58823743e-01,  1.29690751e-01, -3.11142914e-02, -4.79617119e-02,\n",
       "        1.25601992e-01, -1.95747346e-01,  2.04167619e-01,  5.09671010e-02,\n",
       "        1.69128716e-01, -9.36888382e-02,  4.26840241e-04, -4.01442796e-02,\n",
       "       -2.98826784e-01,  2.70263050e-02,  1.46796688e-01, -6.80775717e-02,\n",
       "       -1.47279888e-01, -1.78654537e-01,  4.90440018e-02,  2.13299319e-01,\n",
       "        7.77132437e-02, -6.01199120e-02,  1.85945462e-02,  1.72263697e-01,\n",
       "        3.47885311e-01,  3.65643129e-02,  3.45657617e-01, -1.96965098e-01,\n",
       "        1.39537662e-01, -1.40474178e-02, -1.37063712e-02, -8.33108574e-02,\n",
       "       -3.28972787e-02, -1.77073434e-01,  8.10486600e-02,  1.92575023e-01,\n",
       "       -5.49885584e-03,  1.64532304e-01,  1.37545779e-01, -2.79749006e-01,\n",
       "        9.17155072e-02, -3.49422172e-02,  2.30824485e-01, -3.09136212e-01,\n",
       "       -1.00102127e-01, -3.11814517e-01,  2.02001501e-02,  1.16682947e-02,\n",
       "       -2.74375588e-01,  2.05779418e-01, -5.17013445e-02,  3.81360855e-03,\n",
       "        2.13422611e-01, -5.23525439e-02,  6.53664172e-02,  4.46629114e-02,\n",
       "        1.06963016e-01,  1.29156366e-01,  5.66001125e-02, -1.84437394e-01],\n",
       "      dtype=float32)"
      ]
     },
     "execution_count": 181,
     "metadata": {},
     "output_type": "execute_result"
    }
   ],
   "source": [
    "ft_vectors.get_vector(\"citizen_kane\")"
   ]
  },
  {
   "cell_type": "code",
   "execution_count": null,
   "metadata": {},
   "outputs": [],
   "source": []
  }
 ],
 "metadata": {
  "kernelspec": {
   "display_name": "venv-fwmd",
   "language": "python",
   "name": "venv-fwmd"
  },
  "language_info": {
   "codemirror_mode": {
    "name": "ipython",
    "version": 3
   },
   "file_extension": ".py",
   "mimetype": "text/x-python",
   "name": "python",
   "nbconvert_exporter": "python",
   "pygments_lexer": "ipython3",
   "version": "3.8.3"
  }
 },
 "nbformat": 4,
 "nbformat_minor": 4
}

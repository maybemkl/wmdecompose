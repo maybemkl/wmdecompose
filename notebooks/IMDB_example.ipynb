{
 "cells": [
  {
   "cell_type": "code",
   "execution_count": 1,
   "metadata": {},
   "outputs": [],
   "source": [
    "import os\n",
    "import sys\n",
    "\n",
    "root_dir = os.path.join(os.getcwd(), '..')\n",
    "sys.path.append(root_dir)"
   ]
  },
  {
   "cell_type": "code",
   "execution_count": 3,
   "metadata": {},
   "outputs": [],
   "source": [
    "from collections import defaultdict\n",
    "from flow_wmd.documents import Document\n",
    "from flow_wmd.gale_shapeley import Matcher\n",
    "from flow_wmd.models import LC_RWMD, WMD, WMDManyToMany, WMDPairs\n",
    "from flow_wmd.utils import *\n",
    "\n",
    "from gensim.models import KeyedVectors\n",
    "from nltk.corpus import stopwords\n",
    "from nltk.tokenize import ToktokTokenizer\n",
    "from scipy.spatial.distance import is_valid_dm, cdist\n",
    "from sklearn.decomposition import PCA\n",
    "from sklearn.feature_extraction.text import TfidfVectorizer\n",
    "from sklearn.manifold import TSNE\n",
    "from sklearn.metrics import silhouette_score\n",
    "from sklearn import cluster\n",
    "\n",
    "import hdbscan\n",
    "import matplotlib.pyplot as plt\n",
    "import numpy as np\n",
    "import pandas as pd\n",
    "import re\n",
    "import umap\n",
    "import umap.plot\n",
    "\n",
    "%load_ext autoreload\n",
    "%autoreload 2"
   ]
  },
  {
   "cell_type": "markdown",
   "metadata": {},
   "source": [
    "## 1. Prepare IMDB data"
   ]
  },
  {
   "cell_type": "markdown",
   "metadata": {},
   "source": [
    "### 1.1 Load data and stopwords."
   ]
  },
  {
   "cell_type": "code",
   "execution_count": 4,
   "metadata": {},
   "outputs": [],
   "source": [
    "PATH = \"../data/\"\n",
    "imdb_data = pd.read_csv(f\"{PATH}IMDB_Dataset.csv\")\n",
    "stopword_list=stopwords.words('english')"
   ]
  },
  {
   "cell_type": "markdown",
   "metadata": {},
   "source": [
    "### 1.2 Remove special formatting and stopwords"
   ]
  },
  {
   "cell_type": "code",
   "execution_count": 5,
   "metadata": {},
   "outputs": [],
   "source": [
    "tokenizer = ToktokTokenizer()"
   ]
  },
  {
   "cell_type": "markdown",
   "metadata": {},
   "source": [
    "Remove stopwords before denoising, lemmatizing and removing special characters."
   ]
  },
  {
   "cell_type": "code",
   "execution_count": 6,
   "metadata": {},
   "outputs": [
    {
     "name": "stdout",
     "output_type": "stream",
     "text": [
      "CPU times: user 35 s, sys: 281 ms, total: 35.2 s\n",
      "Wall time: 35.6 s\n"
     ]
    }
   ],
   "source": [
    "%%time \n",
    "\n",
    "imdb_data['review_clean']= [remove_stopwords(r, stopword_list, tokenizer) for r in imdb_data['review']]"
   ]
  },
  {
   "cell_type": "markdown",
   "metadata": {},
   "source": [
    "Denoise, remove special characters, lemmatize."
   ]
  },
  {
   "cell_type": "code",
   "execution_count": 7,
   "metadata": {},
   "outputs": [
    {
     "name": "stdout",
     "output_type": "stream",
     "text": [
      "CPU times: user 25.9 s, sys: 279 ms, total: 26.2 s\n",
      "Wall time: 26.4 s\n"
     ]
    }
   ],
   "source": [
    "%%time\n",
    "\n",
    "imdb_data['review_clean']=imdb_data['review_clean'].apply(denoise_text)\n",
    "imdb_data['review_clean']=imdb_data['review_clean'].apply(remove_special_characters)\n",
    "imdb_data['review_clean']=imdb_data['review_clean'].apply(simple_lemmatizer)"
   ]
  },
  {
   "cell_type": "markdown",
   "metadata": {},
   "source": [
    "Remove stopwords again, after other preprocessing."
   ]
  },
  {
   "cell_type": "code",
   "execution_count": 8,
   "metadata": {},
   "outputs": [
    {
     "name": "stdout",
     "output_type": "stream",
     "text": [
      "CPU times: user 19.4 s, sys: 87.1 ms, total: 19.5 s\n",
      "Wall time: 19.6 s\n"
     ]
    }
   ],
   "source": [
    "%%time \n",
    "\n",
    "imdb_data['review_clean']= [remove_stopwords(r, stopword_list, tokenizer) for r in imdb_data['review_clean']]"
   ]
  },
  {
   "cell_type": "markdown",
   "metadata": {},
   "source": [
    "Find phrases."
   ]
  },
  {
   "cell_type": "code",
   "execution_count": 9,
   "metadata": {},
   "outputs": [
    {
     "name": "stdout",
     "output_type": "stream",
     "text": [
      "Initializing bigram Phrases.\n",
      "Initializing trigram Phrases.\n",
      "Finding bigrams in data.\n",
      "Finding trigrams in data.\n",
      "CPU times: user 1min 8s, sys: 1.17 s, total: 1min 9s\n",
      "Wall time: 1min 10s\n"
     ]
    }
   ],
   "source": [
    "%%time\n",
    "\n",
    "imdb_data['review_clean']= get_phrases([tokenizer.tokenize(i) for i in imdb_data['review_clean']])"
   ]
  },
  {
   "cell_type": "markdown",
   "metadata": {},
   "source": [
    "Data _before_ preprocessing and phrasing."
   ]
  },
  {
   "cell_type": "code",
   "execution_count": 10,
   "metadata": {},
   "outputs": [
    {
     "data": {
      "text/plain": [
       "\"One of the other reviewers has mentioned that after watching just 1 Oz episode you'll be hooked. They are right, as this is exactly what happened with me.<br /><br />The first thing that struck me about Oz was its brutality and unflinching scenes of violence, which set in right from the word GO. Trust me, this is not a show for the faint hearted or timid. This show pulls no punches with regards to drugs, sex or violence. Its is hardcore, in the classic use of the word.<br /><br />It is called OZ as that is the nickname given to the Oswald Maximum Security State Penitentary. It focuses mainly on Emerald City, an experimental section of the prison where all the cells have glass fronts and face inwards, so privacy is not high on the agenda. Em City is home to many..Aryans, Muslims, gangstas, Latinos, Christians, Italians, Irish and more....so scuffles, death stares, dodgy dealings and shady agreements are never far away.<br /><br />I would say the main appeal of the show is due to the fact that it goes where other shows wouldn't dare. Forget pretty pictures painted for mainstream audiences, forget charm, forget romance...OZ doesn't mess around. The first episode I ever saw struck me as so nasty it was surreal, I couldn't say I was ready for it, but as I watched more, I developed a taste for Oz, and got accustomed to the high levels of graphic violence. Not just violence, but injustice (crooked guards who'll be sold out for a nickel, inmates who'll kill on order and get away with it, well mannered, middle class inmates being turned into prison bitches due to their lack of street skills or prison experience) Watching Oz, you may become comfortable with what is uncomfortable viewing....thats if you can get in touch with your darker side.\""
      ]
     },
     "execution_count": 10,
     "metadata": {},
     "output_type": "execute_result"
    }
   ],
   "source": [
    "imdb_data['review'][0]"
   ]
  },
  {
   "cell_type": "markdown",
   "metadata": {},
   "source": [
    "Data _after_ preprocessing and phrasing."
   ]
  },
  {
   "cell_type": "code",
   "execution_count": 11,
   "metadata": {},
   "outputs": [
    {
     "data": {
      "text/plain": [
       "'one reviewer_mentioned watching oz episode hooked right exactly_happened first thing struck oz brutality unflinching scene violence set right word go trust show faint_hearted timid show pull_punch regard drug sex_violence hardcore classic use_word called oz nickname given oswald maximum_security state penitentary focus_mainly emerald_city experimental section prison_cell glass front face inwards privacy high agenda em city home many aryan muslim gangsta latino christian italian irish scuffle death stare dodgy dealing shady agreement never far_away would say main appeal show due_fact go show dare forget pretty picture painted mainstream_audience forget charm forget romance oz mess around first episode ever saw struck nasty surreal say ready watched developed taste oz got accustomed high_level graphic_violence violence injustice crooked guard sold nickel inmate kill order get away well mannered middle_class inmate turned prison bitch due_lack street skill prison experience watching oz may become comfortable uncomfortable viewing thats get touch darker_side'"
      ]
     },
     "execution_count": 11,
     "metadata": {},
     "output_type": "execute_result"
    }
   ],
   "source": [
    "\" \".join(imdb_data['review_clean'][0])"
   ]
  },
  {
   "cell_type": "markdown",
   "metadata": {},
   "source": [
    "### 1.3 Separate pos and neg reviews"
   ]
  },
  {
   "cell_type": "code",
   "execution_count": 12,
   "metadata": {},
   "outputs": [],
   "source": [
    "pos = imdb_data[imdb_data.sentiment == \"positive\"].reset_index(drop=True)\n",
    "neg = imdb_data[imdb_data.sentiment == \"negative\"].reset_index(drop=True)"
   ]
  },
  {
   "cell_type": "code",
   "execution_count": 13,
   "metadata": {},
   "outputs": [],
   "source": [
    "pos = pos.review_clean.tolist()\n",
    "neg = neg.review_clean.tolist()"
   ]
  },
  {
   "cell_type": "markdown",
   "metadata": {},
   "source": [
    "## 2. WMD"
   ]
  },
  {
   "cell_type": "markdown",
   "metadata": {},
   "source": [
    "### 2.1 Tokenize and \"sample\" data"
   ]
  },
  {
   "cell_type": "code",
   "execution_count": 14,
   "metadata": {},
   "outputs": [],
   "source": [
    "pos_tok = list(map(lambda x: tokenize(x, tokenizer), pos[:500]))\n",
    "neg_tok = list(map(lambda x: tokenize(x, tokenizer), neg[:500]))"
   ]
  },
  {
   "cell_type": "code",
   "execution_count": 15,
   "metadata": {},
   "outputs": [],
   "source": [
    "pos_sample = [\" \".join(doc) for doc in pos_tok]\n",
    "neg_sample = [\" \".join(doc) for doc in neg_tok]"
   ]
  },
  {
   "cell_type": "markdown",
   "metadata": {},
   "source": [
    "### 2.2 Load pretrained Google News W2V model"
   ]
  },
  {
   "cell_type": "code",
   "execution_count": 16,
   "metadata": {},
   "outputs": [],
   "source": [
    "finetuned = True"
   ]
  },
  {
   "cell_type": "code",
   "execution_count": 17,
   "metadata": {},
   "outputs": [
    {
     "name": "stdout",
     "output_type": "stream",
     "text": [
      "Loading GoogleNews Vectors finetuned using IMDB review data.\n",
      "CPU times: user 11 s, sys: 252 ms, total: 11.3 s\n",
      "Wall time: 11.3 s\n"
     ]
    }
   ],
   "source": [
    "if not finetuned:\n",
    "    print(\"Loading GoogleNews Vectors\")\n",
    "    %time model = KeyedVectors.load_word2vec_format('../embeddings/GoogleNews-vectors-negative300.bin.gz', binary=True)\n",
    "else:\n",
    "    print(\"Loading GoogleNews Vectors finetuned using IMDB review data.\")\n",
    "    %time model = KeyedVectors.load_word2vec_format('../embeddings/imdb_w2v.txt', binary=False)"
   ]
  },
  {
   "cell_type": "code",
   "execution_count": 18,
   "metadata": {},
   "outputs": [
    {
     "data": {
      "text/plain": [
       "0.45544904470443726"
      ]
     },
     "execution_count": 18,
     "metadata": {},
     "output_type": "execute_result"
    }
   ],
   "source": [
    "model.distance(\"citizen\", \"kane\")"
   ]
  },
  {
   "cell_type": "markdown",
   "metadata": {},
   "source": [
    "### 2.3 Load corpus and remove OOV words"
   ]
  },
  {
   "cell_type": "code",
   "execution_count": 19,
   "metadata": {},
   "outputs": [
    {
     "name": "stderr",
     "output_type": "stream",
     "text": [
      "/Users/mikaelbrunila/Documents/Code/flow-wmd/venv-fwmd/lib/python3.8/site-packages/sklearn/feature_extraction/text.py:489: UserWarning: The parameter 'token_pattern' will not be used since 'tokenizer' is not None'\n",
      "  warnings.warn(\"The parameter 'token_pattern' will not be used\"\n"
     ]
    },
    {
     "name": "stdout",
     "output_type": "stream",
     "text": [
      "CPU times: user 773 ms, sys: 7.42 ms, total: 781 ms\n",
      "Wall time: 784 ms\n"
     ]
    },
    {
     "data": {
      "text/plain": [
       "TfidfVectorizer(norm='l1',\n",
       "                tokenizer=<function tfidf_tokenize at 0x7fde53f2fa60>,\n",
       "                use_idf=False)"
      ]
     },
     "execution_count": 19,
     "metadata": {},
     "output_type": "execute_result"
    }
   ],
   "source": [
    "%%time\n",
    "\n",
    "corpus = pos_sample + neg_sample\n",
    "vectorizer = TfidfVectorizer(use_idf=False, tokenizer=tfidf_tokenize, norm='l1')\n",
    "vectorizer.fit(corpus)"
   ]
  },
  {
   "cell_type": "code",
   "execution_count": 20,
   "metadata": {},
   "outputs": [
    {
     "name": "stdout",
     "output_type": "stream",
     "text": [
      "CPU times: user 20 ms, sys: 520 µs, total: 20.5 ms\n",
      "Wall time: 20.4 ms\n"
     ]
    }
   ],
   "source": [
    "%time oov = [word for word in vectorizer.get_feature_names() if word not in model.key_to_index.keys()]"
   ]
  },
  {
   "cell_type": "code",
   "execution_count": 21,
   "metadata": {},
   "outputs": [
    {
     "data": {
      "text/plain": [
       "1440"
      ]
     },
     "execution_count": 21,
     "metadata": {},
     "output_type": "execute_result"
    }
   ],
   "source": [
    "len(oov)"
   ]
  },
  {
   "cell_type": "code",
   "execution_count": 22,
   "metadata": {},
   "outputs": [
    {
     "name": "stdout",
     "output_type": "stream",
     "text": [
      "[\"'\", ',', '[', '_fargo_', '_inspire_', 'abbottwe', 'abedded', 'ableand', 'according_dvd_sleeve', 'achieve_dream', 'acin', 'acquaintaces', 'acroyd', 'actinglack', 'actingperformance', 'actingthis', 'actionfighting', 'actionlevel', 'adherance', 'adjuster', 'adobye', 'adventureoh', 'afflicting', 'afterlives', 'againandagain', 'agendait', 'air_america', 'aired_tv', 'airplane_naked_gun', 'alameo', 'alexakis', 'alfrie', 'aliengiantbugmonsterinvisibleman', 'alienridden', 'alligatorspaul', 'allosaurus', 'allusionshomagesripoffs', 'allwise', 'almostolympian', 'altasianmovies', 'altmanquirky', 'altro', 'alwaysdependable', 'amilee', 'anatolia', 'andrewsblake', 'andrewsedwards', 'angelena', 'animationsciencefiction', 'ankur']\n"
     ]
    }
   ],
   "source": [
    "print(oov[:50])"
   ]
  },
  {
   "cell_type": "code",
   "execution_count": 23,
   "metadata": {},
   "outputs": [
    {
     "name": "stdout",
     "output_type": "stream",
     "text": [
      "CPU times: user 1.28 s, sys: 5.94 ms, total: 1.28 s\n",
      "Wall time: 1.29 s\n",
      "CPU times: user 1.23 s, sys: 6.34 ms, total: 1.24 s\n",
      "Wall time: 1.24 s\n"
     ]
    }
   ],
   "source": [
    "%time pos_sample = list(map(lambda x: remove_oov(x, tokenizer, oov), pos_sample[:500]))\n",
    "%time neg_sample = list(map(lambda x: remove_oov(x, tokenizer, oov), neg_sample[:500]))"
   ]
  },
  {
   "cell_type": "code",
   "execution_count": 24,
   "metadata": {},
   "outputs": [
    {
     "data": {
      "text/plain": [
       "'one reviewer_mentioned watching oz episode hooked right exactly_happened first thing struck oz brutality unflinching scene violence set right word go trust show faint_hearted timid show pull_punch regard drug sex_violence hardcore classic use_word called oz nickname given oswald maximum_security state penitentary focus_mainly emerald_city experimental section prison_cell glass front face inwards privacy high agenda em city home many aryan muslim gangsta latino christian italian irish scuffle death stare dodgy dealing shady agreement never far_away would say main appeal show due_fact go show dare forget pretty picture painted mainstream_audience forget charm forget romance oz mess around first episode ever saw struck nasty surreal say ready watched developed taste oz got accustomed high_level graphic_violence violence injustice crooked guard sold nickel inmate kill order get away well mannered middle_class inmate turned prison bitch due_lack street skill prison experience watching oz may become comfortable uncomfortable viewing thats get touch darker_side ]'"
      ]
     },
     "execution_count": 24,
     "metadata": {},
     "output_type": "execute_result"
    }
   ],
   "source": [
    "pos_sample[0]"
   ]
  },
  {
   "cell_type": "code",
   "execution_count": 25,
   "metadata": {},
   "outputs": [
    {
     "name": "stdout",
     "output_type": "stream",
     "text": [
      "CPU times: user 22 µs, sys: 1 µs, total: 23 µs\n",
      "Wall time: 25.3 µs\n",
      "CPU times: user 246 ms, sys: 5.23 ms, total: 251 ms\n",
      "Wall time: 256 ms\n"
     ]
    },
    {
     "data": {
      "text/plain": [
       "TfidfVectorizer(norm='l1',\n",
       "                tokenizer=<function tfidf_tokenize at 0x7fde53f2fa60>)"
      ]
     },
     "execution_count": 25,
     "metadata": {},
     "output_type": "execute_result"
    }
   ],
   "source": [
    "corpus = pos_sample + neg_sample\n",
    "\n",
    "%time vectorizer = TfidfVectorizer(use_idf=True, tokenizer=tfidf_tokenize,norm='l1')\n",
    "%time vectorizer.fit(corpus)"
   ]
  },
  {
   "cell_type": "markdown",
   "metadata": {},
   "source": [
    "Bag-of-words vectorizer."
   ]
  },
  {
   "cell_type": "code",
   "execution_count": 26,
   "metadata": {},
   "outputs": [
    {
     "name": "stdout",
     "output_type": "stream",
     "text": [
      "CPU times: user 2 µs, sys: 1 µs, total: 3 µs\n",
      "Wall time: 4.05 µs\n"
     ]
    }
   ],
   "source": [
    "%time\n",
    "pos_nbow = vectorizer.transform(pos_sample)\n",
    "neg_nbow = vectorizer.transform(neg_sample)"
   ]
  },
  {
   "cell_type": "code",
   "execution_count": 27,
   "metadata": {},
   "outputs": [],
   "source": [
    "pos_tok = list(map(lambda x: tokenize(x, tokenizer), pos_sample[:500]))\n",
    "neg_tok =list(map(lambda x: tokenize(x, tokenizer), neg_sample[:500]))"
   ]
  },
  {
   "cell_type": "code",
   "execution_count": 28,
   "metadata": {},
   "outputs": [
    {
     "name": "stdout",
     "output_type": "stream",
     "text": [
      "['one', 'reviewer_mentioned', 'watching', 'oz', 'episode', 'hooked', 'right', 'exactly_happened', 'first', 'thing', 'struck', 'oz', 'brutality', 'unflinching', 'scene', 'violence', 'set', 'right', 'word', 'go']\n"
     ]
    }
   ],
   "source": [
    "print(pos_tok[0][:20])"
   ]
  },
  {
   "cell_type": "code",
   "execution_count": 29,
   "metadata": {},
   "outputs": [
    {
     "name": "stdout",
     "output_type": "stream",
     "text": [
      "CPU times: user 23.7 ms, sys: 833 µs, total: 24.6 ms\n",
      "Wall time: 24.3 ms\n"
     ]
    }
   ],
   "source": [
    "%time oov_ = [word for word in vectorizer.get_feature_names() if word not in model.key_to_index.keys()]"
   ]
  },
  {
   "cell_type": "code",
   "execution_count": 30,
   "metadata": {},
   "outputs": [
    {
     "data": {
      "text/plain": [
       "0"
      ]
     },
     "execution_count": 30,
     "metadata": {},
     "output_type": "execute_result"
    }
   ],
   "source": [
    "len(oov_)"
   ]
  },
  {
   "cell_type": "markdown",
   "metadata": {},
   "source": [
    "### 2.4 Get features and embeddings"
   ]
  },
  {
   "cell_type": "code",
   "execution_count": 31,
   "metadata": {},
   "outputs": [],
   "source": [
    "features = vectorizer.get_feature_names()\n",
    "word2idx = {word: idx for idx, word in enumerate(vectorizer.get_feature_names())}\n",
    "idx2word = {idx: word for idx, word in enumerate(vectorizer.get_feature_names())}"
   ]
  },
  {
   "cell_type": "markdown",
   "metadata": {},
   "source": [
    "Get the embedding matrix \"E\" for all features."
   ]
  },
  {
   "cell_type": "code",
   "execution_count": 32,
   "metadata": {},
   "outputs": [],
   "source": [
    "E = model[features]\n",
    "#E = np.vstack([model.get_vector(word) for word in vectorizer.get_feature_names()])"
   ]
  },
  {
   "cell_type": "markdown",
   "metadata": {},
   "source": [
    "### 2.5 Cluster"
   ]
  },
  {
   "cell_type": "markdown",
   "metadata": {},
   "source": [
    "In order to make the results of the WMD model more interpretable, we add the option to inspect the output not only by individual words, but also by *word clusters*. We do this by clustering the input words with two different algorithms\n",
    "and assigning each word to a cluster."
   ]
  },
  {
   "cell_type": "markdown",
   "metadata": {},
   "source": [
    "#### 2.5.1 Kmeans"
   ]
  },
  {
   "cell_type": "markdown",
   "metadata": {},
   "source": [
    "First, we get the embeddings for the words that are in our feature space."
   ]
  },
  {
   "cell_type": "code",
   "execution_count": 32,
   "metadata": {},
   "outputs": [],
   "source": [
    "#X = model[features]"
   ]
  },
  {
   "cell_type": "markdown",
   "metadata": {},
   "source": [
    "Then we select the number of clusters we want, initialize the Kmeans model and fit it."
   ]
  },
  {
   "cell_type": "code",
   "execution_count": 33,
   "metadata": {},
   "outputs": [
    {
     "name": "stdout",
     "output_type": "stream",
     "text": [
      "CPU times: user 6 µs, sys: 1 µs, total: 7 µs\n",
      "Wall time: 8.82 µs\n"
     ]
    }
   ],
   "source": [
    "%%time\n",
    "\n",
    "K = range(5,105, 5)"
   ]
  },
  {
   "cell_type": "code",
   "execution_count": 240,
   "metadata": {},
   "outputs": [
    {
     "name": "stdout",
     "output_type": "stream",
     "text": [
      "For n_clusters = 5 The average silhouette_score is : 0.20111598\n",
      "For n_clusters = 10 The average silhouette_score is : 0.072588645\n",
      "For n_clusters = 15 The average silhouette_score is : 0.074699454\n",
      "For n_clusters = 20 The average silhouette_score is : 0.07060568\n",
      "For n_clusters = 25 The average silhouette_score is : 0.05947911\n",
      "For n_clusters = 30 The average silhouette_score is : 0.057747163\n",
      "For n_clusters = 35 The average silhouette_score is : 0.052976962\n",
      "For n_clusters = 40 The average silhouette_score is : 0.05577521\n",
      "For n_clusters = 45 The average silhouette_score is : 0.04736106\n",
      "For n_clusters = 50 The average silhouette_score is : 0.043115593\n",
      "For n_clusters = 55 The average silhouette_score is : 0.041144513\n",
      "For n_clusters = 60 The average silhouette_score is : 0.04126182\n",
      "For n_clusters = 65 The average silhouette_score is : 0.043678906\n",
      "For n_clusters = 70 The average silhouette_score is : 0.0334392\n",
      "For n_clusters = 75 The average silhouette_score is : 0.04034966\n",
      "For n_clusters = 80 The average silhouette_score is : 0.028035259\n",
      "For n_clusters = 85 The average silhouette_score is : 0.04340706\n",
      "For n_clusters = 90 The average silhouette_score is : 0.030611664\n",
      "For n_clusters = 95 The average silhouette_score is : 0.03745912\n",
      "For n_clusters = 100 The average silhouette_score is : 0.034750305\n"
     ]
    }
   ],
   "source": [
    "%%time\n",
    "\n",
    "wvec_ssd, wvec_silhouette = kmeans_search(E, K)"
   ]
  },
  {
   "cell_type": "code",
   "execution_count": 241,
   "metadata": {},
   "outputs": [
    {
     "data": {
      "image/png": "[encoded data removed]",
      "text/plain": [
       "<Figure size 432x288 with 1 Axes>"
      ]
     },
     "metadata": {
      "needs_background": "light"
     },
     "output_type": "display_data"
    }
   ],
   "source": [
    "plot_kmeans(K,wvec_ssd,\"elbow\")"
   ]
  },
  {
   "cell_type": "code",
   "execution_count": 242,
   "metadata": {},
   "outputs": [
    {
     "data": {
      "image/png": "[encoded data removed]",
      "text/plain": [
       "<Figure size 432x288 with 1 Axes>"
      ]
     },
     "metadata": {
      "needs_background": "light"
     },
     "output_type": "display_data"
    }
   ],
   "source": [
    "plot_kmeans(K,wvec_silhouette,\"silhouette\")"
   ]
  },
  {
   "cell_type": "markdown",
   "metadata": {},
   "source": [
    "Assign labels and centroids to separate variables for later use."
   ]
  },
  {
   "cell_type": "markdown",
   "metadata": {},
   "source": [
    "#### 2.5.2 T-SNE + Kmeans"
   ]
  },
  {
   "cell_type": "code",
   "execution_count": 34,
   "metadata": {},
   "outputs": [],
   "source": [
    "method='barnes_hut'\n",
    "n_components = 2\n",
    "verbose = 1"
   ]
  },
  {
   "cell_type": "code",
   "execution_count": 35,
   "metadata": {},
   "outputs": [
    {
     "name": "stdout",
     "output_type": "stream",
     "text": [
      "[t-SNE] Computing 91 nearest neighbors...\n",
      "[t-SNE] Indexed 19970 samples in 0.004s...\n",
      "[t-SNE] Computed neighbors for 19970 samples in 9.167s...\n",
      "[t-SNE] Computed conditional probabilities for sample 1000 / 19970\n",
      "[t-SNE] Computed conditional probabilities for sample 2000 / 19970\n",
      "[t-SNE] Computed conditional probabilities for sample 3000 / 19970\n",
      "[t-SNE] Computed conditional probabilities for sample 4000 / 19970\n",
      "[t-SNE] Computed conditional probabilities for sample 5000 / 19970\n",
      "[t-SNE] Computed conditional probabilities for sample 6000 / 19970\n",
      "[t-SNE] Computed conditional probabilities for sample 7000 / 19970\n",
      "[t-SNE] Computed conditional probabilities for sample 8000 / 19970\n",
      "[t-SNE] Computed conditional probabilities for sample 9000 / 19970\n",
      "[t-SNE] Computed conditional probabilities for sample 10000 / 19970\n",
      "[t-SNE] Computed conditional probabilities for sample 11000 / 19970\n",
      "[t-SNE] Computed conditional probabilities for sample 12000 / 19970\n",
      "[t-SNE] Computed conditional probabilities for sample 13000 / 19970\n",
      "[t-SNE] Computed conditional probabilities for sample 14000 / 19970\n",
      "[t-SNE] Computed conditional probabilities for sample 15000 / 19970\n",
      "[t-SNE] Computed conditional probabilities for sample 16000 / 19970\n",
      "[t-SNE] Computed conditional probabilities for sample 17000 / 19970\n",
      "[t-SNE] Computed conditional probabilities for sample 18000 / 19970\n",
      "[t-SNE] Computed conditional probabilities for sample 19000 / 19970\n",
      "[t-SNE] Computed conditional probabilities for sample 19970 / 19970\n",
      "[t-SNE] Mean sigma: 0.089771\n",
      "[t-SNE] KL divergence after 250 iterations with early exaggeration: 94.877739\n",
      "[t-SNE] KL divergence after 1000 iterations: 2.800041\n"
     ]
    }
   ],
   "source": [
    "E_tsne = TSNE(n_components=n_components, method=method, verbose=verbose).fit_transform(E)"
   ]
  },
  {
   "cell_type": "code",
   "execution_count": 37,
   "metadata": {},
   "outputs": [
    {
     "data": {
      "image/png": "[encoded data removed]",
      "text/plain": [
       "<Figure size 432x288 with 1 Axes>"
      ]
     },
     "metadata": {
      "needs_background": "light"
     },
     "output_type": "display_data"
    }
   ],
   "source": [
    "plt.scatter(E_tsne[:, 0], E_tsne[:, 1], s=1);"
   ]
  },
  {
   "cell_type": "code",
   "execution_count": 52,
   "metadata": {},
   "outputs": [
    {
     "name": "stdout",
     "output_type": "stream",
     "text": [
      "For n_clusters = 5 The average silhouette_score is : 0.3746598\n",
      "For n_clusters = 10 The average silhouette_score is : 0.36901867\n",
      "For n_clusters = 15 The average silhouette_score is : 0.3820089\n",
      "For n_clusters = 20 The average silhouette_score is : 0.37787673\n",
      "For n_clusters = 25 The average silhouette_score is : 0.37580648\n",
      "For n_clusters = 30 The average silhouette_score is : 0.37369773\n",
      "For n_clusters = 35 The average silhouette_score is : 0.37200108\n",
      "For n_clusters = 40 The average silhouette_score is : 0.36375844\n",
      "For n_clusters = 45 The average silhouette_score is : 0.36583894\n",
      "For n_clusters = 50 The average silhouette_score is : 0.3656053\n",
      "For n_clusters = 55 The average silhouette_score is : 0.36320007\n",
      "For n_clusters = 60 The average silhouette_score is : 0.3498459\n",
      "For n_clusters = 65 The average silhouette_score is : 0.36189234\n",
      "For n_clusters = 70 The average silhouette_score is : 0.36026916\n",
      "For n_clusters = 75 The average silhouette_score is : 0.3510822\n",
      "For n_clusters = 80 The average silhouette_score is : 0.362218\n",
      "For n_clusters = 85 The average silhouette_score is : 0.34931776\n",
      "For n_clusters = 90 The average silhouette_score is : 0.35057998\n",
      "For n_clusters = 95 The average silhouette_score is : 0.3473391\n",
      "For n_clusters = 100 The average silhouette_score is : 0.34530395\n",
      "CPU times: user 9min 32s, sys: 1min 13s, total: 10min 46s\n",
      "Wall time: 2min 26s\n"
     ]
    }
   ],
   "source": [
    "%%time\n",
    "\n",
    "tsne_ssd, tsne_silhouette = kmeans_search(E_tsne, K)"
   ]
  },
  {
   "cell_type": "code",
   "execution_count": 53,
   "metadata": {},
   "outputs": [
    {
     "data": {
      "image/png": "[encoded data removed]",
      "text/plain": [
       "<Figure size 432x288 with 1 Axes>"
      ]
     },
     "metadata": {
      "needs_background": "light"
     },
     "output_type": "display_data"
    }
   ],
   "source": [
    "plot_kmeans(K,tsne_ssd,\"elbow\")"
   ]
  },
  {
   "cell_type": "code",
   "execution_count": 54,
   "metadata": {},
   "outputs": [
    {
     "data": {
      "image/png": "[encoded data removed]",
      "text/plain": [
       "<Figure size 432x288 with 1 Axes>"
      ]
     },
     "metadata": {
      "needs_background": "light"
     },
     "output_type": "display_data"
    }
   ],
   "source": [
    "plot_kmeans(K,tsne_silhouette,\"silhouette\")"
   ]
  },
  {
   "cell_type": "markdown",
   "metadata": {},
   "source": [
    "#### 2.5.3 PCA + Kmeans"
   ]
  },
  {
   "cell_type": "code",
   "execution_count": 46,
   "metadata": {},
   "outputs": [],
   "source": [
    "n_components = 0.9\n",
    "verbose = 1"
   ]
  },
  {
   "cell_type": "code",
   "execution_count": 47,
   "metadata": {},
   "outputs": [],
   "source": [
    "pca_fit = PCA(n_components = n_components).fit(E)"
   ]
  },
  {
   "cell_type": "code",
   "execution_count": 48,
   "metadata": {},
   "outputs": [
    {
     "name": "stdout",
     "output_type": "stream",
     "text": [
      "31\n",
      "[0.20904349 0.12344713 0.09292044 0.07319611 0.06892131 0.04888061\n",
      " 0.03278879 0.02680092 0.02596672 0.02008947 0.01969723 0.01555908\n",
      " 0.01480959 0.01374452 0.01256809 0.01187242 0.01022555 0.00871704\n",
      " 0.00792144 0.00776878 0.00637864 0.00631221 0.0062162  0.00572174\n",
      " 0.0053664  0.00513522 0.00474725 0.00442144 0.00399146 0.00387054\n",
      " 0.00362636]\n",
      "0.90072626\n"
     ]
    }
   ],
   "source": [
    "print(len(pca_fit.explained_variance_ratio_))\n",
    "print(pca_fit.explained_variance_ratio_)\n",
    "print(np.sum(pca_fit.explained_variance_ratio_))"
   ]
  },
  {
   "cell_type": "code",
   "execution_count": 165,
   "metadata": {},
   "outputs": [],
   "source": [
    "E_pca = pca_fit.transform(E)"
   ]
  },
  {
   "cell_type": "code",
   "execution_count": 50,
   "metadata": {},
   "outputs": [
    {
     "data": {
      "image/png": "[encoded data removed]",
      "text/plain": [
       "<Figure size 432x288 with 1 Axes>"
      ]
     },
     "metadata": {
      "needs_background": "light"
     },
     "output_type": "display_data"
    }
   ],
   "source": [
    "plt.scatter(E_pca[:, 0], E_pca[:, 1], s=1);"
   ]
  },
  {
   "cell_type": "code",
   "execution_count": 248,
   "metadata": {},
   "outputs": [
    {
     "name": "stdout",
     "output_type": "stream",
     "text": [
      "For n_clusters = 5 The average silhouette_score is : 0.21691686\n",
      "For n_clusters = 10 The average silhouette_score is : 0.09390487\n",
      "For n_clusters = 15 The average silhouette_score is : 0.09522184\n",
      "For n_clusters = 20 The average silhouette_score is : 0.08357129\n",
      "For n_clusters = 25 The average silhouette_score is : 0.08020253\n",
      "For n_clusters = 30 The average silhouette_score is : 0.08010868\n",
      "For n_clusters = 35 The average silhouette_score is : 0.07142135\n",
      "For n_clusters = 40 The average silhouette_score is : 0.075626224\n",
      "For n_clusters = 45 The average silhouette_score is : 0.065899484\n",
      "For n_clusters = 50 The average silhouette_score is : 0.062159568\n",
      "For n_clusters = 55 The average silhouette_score is : 0.06529049\n",
      "For n_clusters = 60 The average silhouette_score is : 0.06851182\n",
      "For n_clusters = 65 The average silhouette_score is : 0.06369653\n",
      "For n_clusters = 70 The average silhouette_score is : 0.048694625\n",
      "For n_clusters = 75 The average silhouette_score is : 0.060717437\n",
      "For n_clusters = 80 The average silhouette_score is : 0.06114559\n",
      "For n_clusters = 85 The average silhouette_score is : 0.055653434\n",
      "For n_clusters = 90 The average silhouette_score is : 0.05872721\n",
      "For n_clusters = 95 The average silhouette_score is : 0.05116777\n",
      "For n_clusters = 100 The average silhouette_score is : 0.05112853\n"
     ]
    }
   ],
   "source": [
    "%%time\n",
    "\n",
    "pca_ssd, pca_silhouette = kmeans_search(E_pca, K)"
   ]
  },
  {
   "cell_type": "code",
   "execution_count": 249,
   "metadata": {},
   "outputs": [
    {
     "data": {
      "image/png": "[encoded data removed]",
      "text/plain": [
       "<Figure size 432x288 with 1 Axes>"
      ]
     },
     "metadata": {
      "needs_background": "light"
     },
     "output_type": "display_data"
    }
   ],
   "source": [
    "plot_kmeans(K,pca_ssd,\"elbow\")"
   ]
  },
  {
   "cell_type": "code",
   "execution_count": 250,
   "metadata": {},
   "outputs": [
    {
     "data": {
      "image/png": "[encoded data removed]",
      "text/plain": [
       "<Figure size 432x288 with 1 Axes>"
      ]
     },
     "metadata": {
      "needs_background": "light"
     },
     "output_type": "display_data"
    }
   ],
   "source": [
    "plot_kmeans(K,pca_silhouette,\"silhouette\")"
   ]
  },
  {
   "cell_type": "markdown",
   "metadata": {},
   "source": [
    "#### 2.5.4 UMAP + Kmeans"
   ]
  },
  {
   "cell_type": "code",
   "execution_count": 55,
   "metadata": {},
   "outputs": [
    {
     "name": "stdout",
     "output_type": "stream",
     "text": [
      "CPU times: user 2min 13s, sys: 2.39 s, total: 2min 15s\n",
      "Wall time: 2min 18s\n"
     ]
    }
   ],
   "source": [
    "%%time\n",
    "\n",
    "metric = 'cosine'\n",
    "dm = cdist(E, E, metric)\n",
    "np.fill_diagonal(dm, 0)"
   ]
  },
  {
   "cell_type": "code",
   "execution_count": 56,
   "metadata": {},
   "outputs": [
    {
     "data": {
      "text/plain": [
       "True"
      ]
     },
     "execution_count": 56,
     "metadata": {},
     "output_type": "execute_result"
    }
   ],
   "source": [
    "is_valid_dm(dm)"
   ]
  },
  {
   "cell_type": "code",
   "execution_count": 57,
   "metadata": {},
   "outputs": [
    {
     "name": "stdout",
     "output_type": "stream",
     "text": [
      "0.21609533609980103 0.12643356971363268\n"
     ]
    }
   ],
   "source": [
    "mean, std = np.mean(dm), np.std(dm)\n",
    "print(mean, std)"
   ]
  },
  {
   "cell_type": "code",
   "execution_count": 58,
   "metadata": {},
   "outputs": [
    {
     "name": "stdout",
     "output_type": "stream",
     "text": [
      "Min distance: 0.08966176638616835\n",
      "N. neighbors: 19\n",
      "N. compontents: 2\n"
     ]
    }
   ],
   "source": [
    "min_dist=mean - 1*std\n",
    "n_neighbors = int(0.001*len(E))\n",
    "n_components=2\n",
    "print(f\"Min distance: {min_dist}\")\n",
    "print(f\"N. neighbors: {n_neighbors}\")\n",
    "print(f\"N. compontents: {n_components}\")"
   ]
  },
  {
   "cell_type": "code",
   "execution_count": 59,
   "metadata": {},
   "outputs": [
    {
     "name": "stdout",
     "output_type": "stream",
     "text": [
      "UMAP(dens_frac=0.0, dens_lambda=0.0, min_dist=0.08966176638616835,\n",
      "     n_neighbors=19, random_state=42, verbose=1)\n",
      "Construct fuzzy simplicial set\n",
      "Fri Jul 23 15:52:46 2021 Finding Nearest Neighbors\n",
      "Fri Jul 23 15:52:46 2021 Building RP forest with 12 trees\n",
      "Fri Jul 23 15:52:47 2021 NN descent for 14 iterations\n",
      "\t 1  /  14\n",
      "\t 2  /  14\n",
      "\t 3  /  14\n",
      "\t 4  /  14\n",
      "\tStopping threshold met -- exiting after 4 iterations\n",
      "Fri Jul 23 15:52:59 2021 Finished Nearest Neighbor Search\n",
      "Fri Jul 23 15:53:01 2021 Construct embedding\n",
      "\tcompleted  0  /  200 epochs\n",
      "\tcompleted  20  /  200 epochs\n",
      "\tcompleted  40  /  200 epochs\n",
      "\tcompleted  60  /  200 epochs\n",
      "\tcompleted  80  /  200 epochs\n",
      "\tcompleted  100  /  200 epochs\n",
      "\tcompleted  120  /  200 epochs\n",
      "\tcompleted  140  /  200 epochs\n",
      "\tcompleted  160  /  200 epochs\n",
      "\tcompleted  180  /  200 epochs\n",
      "Fri Jul 23 15:53:15 2021 Finished embedding\n",
      "CPU times: user 33 s, sys: 723 ms, total: 33.7 s\n",
      "Wall time: 28.9 s\n"
     ]
    }
   ],
   "source": [
    "%%time\n",
    "\n",
    "E_umap = umap.UMAP(\n",
    "    n_neighbors=n_neighbors,\n",
    "    min_dist=min_dist,\n",
    "    n_components=n_components,\n",
    "    random_state=42,\n",
    "    verbose=verbose\n",
    ").fit_transform(E)"
   ]
  },
  {
   "cell_type": "code",
   "execution_count": 60,
   "metadata": {},
   "outputs": [
    {
     "data": {
      "image/png": "[encoded data removed]",
      "text/plain": [
       "<Figure size 432x288 with 1 Axes>"
      ]
     },
     "metadata": {
      "needs_background": "light"
     },
     "output_type": "display_data"
    }
   ],
   "source": [
    "plt.scatter(E_umap[:, 0], E_umap[:, 1], s=1);"
   ]
  },
  {
   "cell_type": "code",
   "execution_count": 62,
   "metadata": {},
   "outputs": [
    {
     "name": "stdout",
     "output_type": "stream",
     "text": [
      "For n_clusters = 5 The average silhouette_score is : 0.4446632\n",
      "For n_clusters = 10 The average silhouette_score is : 0.4173587\n",
      "For n_clusters = 15 The average silhouette_score is : 0.39963198\n",
      "For n_clusters = 20 The average silhouette_score is : 0.39286843\n",
      "For n_clusters = 25 The average silhouette_score is : 0.38249004\n",
      "For n_clusters = 30 The average silhouette_score is : 0.3841333\n",
      "For n_clusters = 35 The average silhouette_score is : 0.3800874\n",
      "For n_clusters = 40 The average silhouette_score is : 0.38275945\n",
      "For n_clusters = 45 The average silhouette_score is : 0.37970075\n",
      "For n_clusters = 50 The average silhouette_score is : 0.37809145\n",
      "For n_clusters = 55 The average silhouette_score is : 0.378091\n",
      "For n_clusters = 60 The average silhouette_score is : 0.3772782\n",
      "For n_clusters = 65 The average silhouette_score is : 0.37710878\n",
      "For n_clusters = 70 The average silhouette_score is : 0.36051974\n",
      "For n_clusters = 75 The average silhouette_score is : 0.37386245\n",
      "For n_clusters = 80 The average silhouette_score is : 0.35216624\n",
      "For n_clusters = 85 The average silhouette_score is : 0.3539509\n",
      "For n_clusters = 90 The average silhouette_score is : 0.35092294\n",
      "For n_clusters = 95 The average silhouette_score is : 0.3469593\n",
      "For n_clusters = 100 The average silhouette_score is : 0.348998\n",
      "CPU times: user 9min 13s, sys: 1min 14s, total: 10min 28s\n",
      "Wall time: 2min 24s\n"
     ]
    }
   ],
   "source": [
    "%%time\n",
    "\n",
    "umap_ssd, umap_silhouette = kmeans_search(E_umap, K)"
   ]
  },
  {
   "cell_type": "code",
   "execution_count": 63,
   "metadata": {},
   "outputs": [
    {
     "data": {
      "image/png": "[encoded data removed]",
      "text/plain": [
       "<Figure size 432x288 with 1 Axes>"
      ]
     },
     "metadata": {
      "needs_background": "light"
     },
     "output_type": "display_data"
    }
   ],
   "source": [
    "plot_kmeans(K,umap_ssd,\"elbow\")"
   ]
  },
  {
   "cell_type": "code",
   "execution_count": 64,
   "metadata": {},
   "outputs": [
    {
     "data": {
      "image/png": "[encoded data removed]",
      "text/plain": [
       "<Figure size 432x288 with 1 Axes>"
      ]
     },
     "metadata": {
      "needs_background": "light"
     },
     "output_type": "display_data"
    }
   ],
   "source": [
    "plot_kmeans(K,umap_silhouette,\"silhouette\")"
   ]
  },
  {
   "cell_type": "markdown",
   "metadata": {},
   "source": [
    "#### 2.5.5 Choose clustering model"
   ]
  },
  {
   "cell_type": "code",
   "execution_count": 100,
   "metadata": {},
   "outputs": [],
   "source": [
    "k = 100"
   ]
  },
  {
   "cell_type": "code",
   "execution_count": null,
   "metadata": {},
   "outputs": [],
   "source": [
    "%%time\n",
    "\n",
    "km_base = cluster.KMeans(n_clusters=k,max_iter=300).fit(E)\n",
    "labels = km_base.labels_\n",
    "centroids = km_base.cluster_centers_\n",
    "\n",
    "km_pca = cluster.KMeans(n_clusters=k,max_iter=300).fit(E_pca)\n",
    "labels_pca = km_pca.labels_\n",
    "\n",
    "km_umap = cluster.KMeans(n_clusters=k,max_iter=300).fit(E_umap)\n",
    "labels_umap=km_umap.labels_\n",
    "\n",
    "km_tsne = cluster.KMeans(n_clusters=k,max_iter=300).fit(E_tsne)\n",
    "labels_tsne = km_tsne.labels_"
   ]
  },
  {
   "cell_type": "markdown",
   "metadata": {},
   "source": [
    "Create an index that maps each word to a cluster."
   ]
  },
  {
   "cell_type": "code",
   "execution_count": null,
   "metadata": {},
   "outputs": [],
   "source": [
    "word2cluster = {features[idx]: cl for idx, cl in enumerate(labels)}"
   ]
  },
  {
   "cell_type": "code",
   "execution_count": null,
   "metadata": {},
   "outputs": [],
   "source": [
    "print(take(10, word2cluster.items()))"
   ]
  },
  {
   "cell_type": "markdown",
   "metadata": {},
   "source": [
    "Now, conversely, create an index that maps each cluster to a word."
   ]
  },
  {
   "cell_type": "code",
   "execution_count": null,
   "metadata": {},
   "outputs": [],
   "source": [
    "cluster2words = defaultdict(list)\n",
    "for key, value in word2cluster.items():\n",
    "    cluster2words[value].append(key)"
   ]
  },
  {
   "cell_type": "code",
   "execution_count": null,
   "metadata": {},
   "outputs": [],
   "source": [
    "print(len(cluster2words[0]))\n",
    "print(cluster2words[0][:100])"
   ]
  },
  {
   "cell_type": "code",
   "execution_count": null,
   "metadata": {},
   "outputs": [],
   "source": [
    "print(len(cluster2words[1]))\n",
    "print(cluster2words[1][:100])"
   ]
  },
  {
   "cell_type": "markdown",
   "metadata": {},
   "source": [
    "### 2.6 Initialize documents"
   ]
  },
  {
   "cell_type": "markdown",
   "metadata": {},
   "source": [
    "Transform all reviews into \"documents\", each with a set of weights per word in the corpus (\"nbow\"), the sum of these weights (\"weights_sum\"), the indeces of the words in the documents (\"idxs\") and the word vectors corresponding to each word (\"vecs\")."
   ]
  },
  {
   "cell_type": "code",
   "execution_count": 84,
   "metadata": {},
   "outputs": [
    {
     "data": {
      "text/plain": [
       "<1x19970 sparse matrix of type '<class 'numpy.float64'>'\n",
       "\twith 124 stored elements in Compressed Sparse Row format>"
      ]
     },
     "execution_count": 84,
     "metadata": {},
     "output_type": "execute_result"
    }
   ],
   "source": [
    "pos_nbow[0]"
   ]
  },
  {
   "cell_type": "code",
   "execution_count": 242,
   "metadata": {},
   "outputs": [
    {
     "name": "stdout",
     "output_type": "stream",
     "text": [
      "CPU times: user 435 ms, sys: 378 ms, total: 813 ms\n",
      "Wall time: 1.21 s\n"
     ]
    }
   ],
   "source": [
    "%%time \n",
    "\n",
    "pos_docs, neg_docs = [], []\n",
    "\n",
    "for idx, doc in enumerate(pos_tok):\n",
    "    pos_docs.append(Document(doc, pos_nbow[idx], word2idx, E, idx))\n",
    "    \n",
    "for idx, doc in enumerate(neg_tok):\n",
    "    neg_docs.append(Document(doc, neg_nbow[idx], word2idx, E, idx))"
   ]
  },
  {
   "cell_type": "code",
   "execution_count": 243,
   "metadata": {},
   "outputs": [
    {
     "data": {
      "text/plain": [
       "array([[0.00134629, 0.        , 0.        , ..., 0.        , 0.        ,\n",
       "        0.        ]])"
      ]
     },
     "execution_count": 243,
     "metadata": {},
     "output_type": "execute_result"
    }
   ],
   "source": [
    "pos_docs[0].nbow"
   ]
  },
  {
   "cell_type": "code",
   "execution_count": 244,
   "metadata": {},
   "outputs": [
    {
     "data": {
      "text/plain": [
       "0.9999999999999996"
      ]
     },
     "execution_count": 244,
     "metadata": {},
     "output_type": "execute_result"
    }
   ],
   "source": [
    "pos_docs[0].weights_sum"
   ]
  },
  {
   "cell_type": "code",
   "execution_count": 245,
   "metadata": {},
   "outputs": [
    {
     "data": {
      "text/plain": [
       "[0, 15363, 4612, 7177, 6154, 13837, 3091, 10771, 16414, 10784]"
      ]
     },
     "execution_count": 245,
     "metadata": {},
     "output_type": "execute_result"
    }
   ],
   "source": [
    "pos_docs[0].idxs[:10]"
   ]
  },
  {
   "cell_type": "code",
   "execution_count": 246,
   "metadata": {},
   "outputs": [
    {
     "data": {
      "text/plain": [
       "array([ 0.06953344, -0.05923931, -0.0135353 , -0.04655155, -0.05509005,\n",
       "       -0.0320261 ,  0.16074686,  0.02574036,  0.01131788,  0.08215761],\n",
       "      dtype=float32)"
      ]
     },
     "execution_count": 246,
     "metadata": {},
     "output_type": "execute_result"
    }
   ],
   "source": [
    "pos_docs[0].vecs[:1][0][:10]"
   ]
  },
  {
   "cell_type": "markdown",
   "metadata": {},
   "source": [
    "### 2.7 Linear-Complexity Relaxed WMD (LC-RWMD)"
   ]
  },
  {
   "cell_type": "markdown",
   "metadata": {},
   "source": [
    "Run the [Linear-Complexity Relaxed WMD](https://arxiv.org/abs/1711.07227) to get the distances between all positive and all negative reviews."
   ]
  },
  {
   "cell_type": "code",
   "execution_count": 92,
   "metadata": {},
   "outputs": [],
   "source": [
    "lc_rwmd = LC_RWMD(pos_docs, neg_docs,pos_nbow,neg_nbow,E)"
   ]
  },
  {
   "cell_type": "code",
   "execution_count": 93,
   "metadata": {},
   "outputs": [
    {
     "name": "stdout",
     "output_type": "stream",
     "text": [
      "CPU times: user 2min 22s, sys: 28 s, total: 2min 50s\n",
      "Wall time: 45.7 s\n"
     ]
    }
   ],
   "source": [
    "%time lc_rwmd.get_D('cosine')"
   ]
  },
  {
   "cell_type": "code",
   "execution_count": 48,
   "metadata": {},
   "outputs": [],
   "source": [
    "#%time lc_rwmd.get_L(1)"
   ]
  },
  {
   "cell_type": "code",
   "execution_count": 49,
   "metadata": {},
   "outputs": [],
   "source": [
    "#%time lc_rwmd.get_rwmd()"
   ]
  },
  {
   "cell_type": "markdown",
   "metadata": {},
   "source": [
    "### 2.8 Gale-Shapeley Pairing"
   ]
  },
  {
   "cell_type": "markdown",
   "metadata": {},
   "source": [
    "Use the [Gale-Shapeley matching algorithm](https://en.wikipedia.org/wiki/Gale%E2%80%93Shapley_algorithm) to find the optimal pairs between positive and negative reviews. This iterates over all the reviews and finds the set of matches that pairs each review with its optimal match given that all positive reviews have to be matched with a negative review and vice versa. The output is a dictionary of key-value pairs, where each pair represents an optimal match."
   ]
  },
  {
   "cell_type": "code",
   "execution_count": 249,
   "metadata": {},
   "outputs": [],
   "source": [
    "# Options: 'gale_shapeley','random','full'\n",
    "\n",
    "pairing = 'gale_shapeley'"
   ]
  },
  {
   "cell_type": "code",
   "execution_count": 250,
   "metadata": {},
   "outputs": [
    {
     "name": "stdout",
     "output_type": "stream",
     "text": [
      "Running Gale-Shapeley pairing.\n",
      "CPU times: user 2.49 s, sys: 623 ms, total: 3.11 s\n",
      "Wall time: 3.76 s\n"
     ]
    }
   ],
   "source": [
    "%%time\n",
    "\n",
    "if pairing == 'gale_shapeley':\n",
    "    print(\"Running Gale-Shapeley pairing.\")\n",
    "    matcher = Matcher(lc_rwmd.D)\n",
    "    engaged = matcher.matchmaker()\n",
    "    matcher.check()\n",
    "    pairs = [(k, v) for k, v in engaged.items()]\n",
    "    #pairs = engaged\n",
    "if pairing == 'random':\n",
    "    print(\"Running random pairing.\")\n",
    "    pos_idx = list(range(0,len(pos_docs)))\n",
    "    neg_idx = list(range(0,len(neg_docs)))\n",
    "    shuffle(pos_idx)\n",
    "    shuffle(neg_idx)\n",
    "    pairs = zip(pos_idx, neg_idx)\n",
    "if pairing == 'full':\n",
    "    print(\"Running full pairing.\")\n",
    "    pos_idx = list(range(0,len(pos_docs)))\n",
    "    neg_idx = list(range(0,len(neg_docs)))\n",
    "    pairs = [(i,j) for i in pos_idx for j in neg_idx]\n",
    "    #pos_docs = [d for d in pos_docs for _ in list(range(0,len(neg_docs)))]\n",
    "    #neg_docs = [d for d in neg_docs for _ in list(range(0,len(pos_docs)))]"
   ]
  },
  {
   "cell_type": "markdown",
   "metadata": {},
   "source": [
    "Let's look at the output of Gale-Shapeley:"
   ]
  },
  {
   "cell_type": "code",
   "execution_count": 251,
   "metadata": {},
   "outputs": [
    {
     "name": "stdout",
     "output_type": "stream",
     "text": [
      "[(498, 373), (45, 249), (432, 332), (70, 125), (308, 45), (220, 21), (80, 186), (271, 183), (497, 41), (228, 254), (162, 403), (81, 330), (227, 138), (430, 185), (123, 237), (281, 322), (224, 275), (312, 76), (273, 479), (47, 24)]\n"
     ]
    }
   ],
   "source": [
    "print(pairs[:20])"
   ]
  },
  {
   "cell_type": "markdown",
   "metadata": {},
   "source": [
    "Let's look at the output of Gale-Shapeley:"
   ]
  },
  {
   "cell_type": "code",
   "execution_count": 96,
   "metadata": {},
   "outputs": [],
   "source": [
    "example_pairs = [(' '.join(word for word in pos_docs[p[0]].words), \n",
    "                  ' '.join(word for word in neg_docs[p[1]].words))\n",
    "                 for p in take(10, pairs.items())]"
   ]
  },
  {
   "cell_type": "code",
   "execution_count": 97,
   "metadata": {},
   "outputs": [
    {
     "data": {
      "text/plain": [
       "'one word_describe movie weird recorded movie one day japanese_animation old thought would interesting well movie young_boy travel universe get metal body seek_revenge way meet colorful character must ultimately decide want body strange fan might want check ]'"
      ]
     },
     "execution_count": 97,
     "metadata": {},
     "output_type": "execute_result"
    }
   ],
   "source": [
    "example_pairs[9][0]"
   ]
  },
  {
   "cell_type": "code",
   "execution_count": 98,
   "metadata": {},
   "outputs": [
    {
     "data": {
      "text/plain": [
       "'weak stale tired cliched want basic_instinct miss_opportunity opportunity fresh_perspective new insight insipid trite grotesque without value brevity oh_wait minute_long must seemed lot longer rather clean bus_station toilet toothbrush sit expressing opinion guess mean like ]'"
      ]
     },
     "execution_count": 98,
     "metadata": {},
     "output_type": "execute_result"
    }
   ],
   "source": [
    "example_pairs[9][1]"
   ]
  },
  {
   "cell_type": "markdown",
   "metadata": {},
   "source": [
    "### 2.9 Pairwise WMD with Baseline Kmeans"
   ]
  },
  {
   "cell_type": "markdown",
   "metadata": {},
   "source": [
    "Calculate the pairwise distances between the documents selected by the Galey-Shapeley algorithm _without_ returning the flow between individual words."
   ]
  },
  {
   "cell_type": "code",
   "execution_count": 254,
   "metadata": {},
   "outputs": [
    {
     "name": "stdout",
     "output_type": "stream",
     "text": [
      "Calculated distances between approximately 0 documents. 00h00m00s elapsed.\n",
      "CPU times: user 1min 42s, sys: 10.4 s, total: 1min 52s\n",
      "Wall time: 59.4 s\n"
     ]
    }
   ],
   "source": [
    "%%time \n",
    "\n",
    "wmd_pairs = WMDPairs(pos_docs,neg_docs,pairs,E,idx2word\n",
    "wmd_pairs.get_distances(thread=False,relax=True))"
   ]
  },
  {
   "cell_type": "markdown",
   "metadata": {},
   "source": [
    "The return value is a matrix of distances between the document pairs."
   ]
  },
  {
   "cell_type": "code",
   "execution_count": 255,
   "metadata": {},
   "outputs": [
    {
     "data": {
      "text/plain": [
       "122.06975463544016"
      ]
     },
     "execution_count": 255,
     "metadata": {},
     "output_type": "execute_result"
    }
   ],
   "source": [
    "np.sum(wmd_pairs.distances)"
   ]
  },
  {
   "cell_type": "markdown",
   "metadata": {},
   "source": [
    "Calculate the pairwise distances between the documents selected by the Galey-Shapeley algorithm, this time also returning the flow between individual words."
   ]
  },
  {
   "cell_type": "code",
   "execution_count": 239,
   "metadata": {},
   "outputs": [
    {
     "name": "stdout",
     "output_type": "stream",
     "text": [
      "Calculated distances between 0 documents.\n",
      "Calculated distances between 100 documents.\n",
      "Calculated distances between 200 documents.\n",
      "Calculated distances between 300 documents.\n",
      "Calculated distances between 400 documents.\n",
      "CPU times: user 14.9 s, sys: 2.88 s, total: 17.8 s\n",
      "Wall time: 5.08 s\n"
     ]
    }
   ],
   "source": [
    "%%time \n",
    "\n",
    "wmd_pairs_flow = WMDPairs(pos_docs,neg_docs,pairs,E,idx2word,metric='euclidean')\n",
    "wmd_pairs_flow.get_distances(return_flow = True, \n",
    "                             sum_clusters = True, \n",
    "                             w2c = word2cluster, \n",
    "                             c2w = cluster2words,\n",
    "                             thread = False,\n",
    "                             relax = True)"
   ]
  },
  {
   "cell_type": "markdown",
   "metadata": {},
   "source": [
    "Now we have three return values.\n",
    "\n",
    "The first one is again a matrix of distances between the document pairs."
   ]
  },
  {
   "cell_type": "code",
   "execution_count": 240,
   "metadata": {},
   "outputs": [
    {
     "data": {
      "text/plain": [
       "2.0200801027254065"
      ]
     },
     "execution_count": 240,
     "metadata": {},
     "output_type": "execute_result"
    }
   ],
   "source": [
    "np.max(wmd_pairs_flow.distances)"
   ]
  },
  {
   "cell_type": "markdown",
   "metadata": {},
   "source": [
    "The second return value is a list of tuples with all the words that contributed the most to the distance from the positive documents to the negative ones. These are _not_ sorted from high to low or vice versa."
   ]
  },
  {
   "cell_type": "code",
   "execution_count": 227,
   "metadata": {},
   "outputs": [
    {
     "data": {
      "text/plain": [
       "[('kline', 0.03108878067091774),\n",
       " ('patsy_kelly', 0.005171586020049816),\n",
       " ('flipping_channel', 0.03471551293015668),\n",
       " ('hurt', 0.08245787190770568),\n",
       " ('behind', 0.215589473253471),\n",
       " ('eleanor', 0.0017097632183477511),\n",
       " ('terminator', 0.004410259473284981),\n",
       " ('davis', 0.018084669568702298),\n",
       " ('drunk', 0.042374265087251776),\n",
       " ('mortimer', 0.007068006154108881)]"
      ]
     },
     "execution_count": 227,
     "metadata": {},
     "output_type": "execute_result"
    }
   ],
   "source": [
    "take(10, wmd_pairs_flow.wc_X1.items())"
   ]
  },
  {
   "cell_type": "markdown",
   "metadata": {},
   "source": [
    "The third return value is a list of tuples with all the words that contributed the most to the distance from the negative documents to the positive ones. Again, these are _not_ sorted from high to low or vice versa."
   ]
  },
  {
   "cell_type": "code",
   "execution_count": 228,
   "metadata": {},
   "outputs": [
    {
     "data": {
      "text/plain": [
       "[('flipping_channel', 0.02816522779251392),\n",
       " ('hurt', 0.1704751561104262),\n",
       " ('behind', 0.12336069354680605),\n",
       " ('skinned', 0.005471983548026141),\n",
       " ('linebyline', 0.00578429535628372),\n",
       " ('got_bored', 0.020140395293595573),\n",
       " ('elder', 0.04292937227961441),\n",
       " ('terminator', 0.03245286259673233),\n",
       " ('drunk', 0.041306849694188866),\n",
       " ('bond', 0.01030751948540237)]"
      ]
     },
     "execution_count": 228,
     "metadata": {},
     "output_type": "execute_result"
    }
   ],
   "source": [
    "take(10, wmd_pairs_flow.wc_X2.items())"
   ]
  },
  {
   "cell_type": "code",
   "execution_count": 229,
   "metadata": {},
   "outputs": [
    {
     "data": {
      "text/plain": [
       "[(45, 3.0153690681350653),\n",
       " (14, 2.6389818858754324),\n",
       " (39, 8.467641214101926),\n",
       " (72, 3.1531639987131452),\n",
       " (7, 2.8866938928594514),\n",
       " (4, 3.741449420844593),\n",
       " (51, 5.029056463151532),\n",
       " (26, 3.207607010402123),\n",
       " (0, 5.824220657541505),\n",
       " (68, 6.337103432597152)]"
      ]
     },
     "execution_count": 229,
     "metadata": {},
     "output_type": "execute_result"
    }
   ],
   "source": [
    "take(10, wmd_pairs_flow.cc_X1.items())"
   ]
  },
  {
   "cell_type": "code",
   "execution_count": 230,
   "metadata": {},
   "outputs": [
    {
     "data": {
      "text/plain": [
       "[(45, 3.8134968082920078),\n",
       " (14, 2.936093464561497),\n",
       " (39, 5.787358839028018),\n",
       " (72, 2.514750278904845),\n",
       " (7, 2.95861110981576),\n",
       " (4, 3.1555027714158568),\n",
       " (51, 2.946260772385002),\n",
       " (26, 1.5111910969316251),\n",
       " (0, 4.797494570409933),\n",
       " (68, 3.9964907920334483)]"
      ]
     },
     "execution_count": 230,
     "metadata": {},
     "output_type": "execute_result"
    }
   ],
   "source": [
    "take(10, wmd_pairs_flow.cc_X2.items())"
   ]
  },
  {
   "cell_type": "code",
   "execution_count": 231,
   "metadata": {},
   "outputs": [
    {
     "data": {
      "text/plain": [
       "{76: 37.625082414561334,\n",
       " 49: 32.86608704583974,\n",
       " 16: 22.41735563399503,\n",
       " 15: 15.186784777990972,\n",
       " 74: 14.715696925192837,\n",
       " 29: 13.913405607816715,\n",
       " 83: 13.216958021825382,\n",
       " 85: 12.321822105591105,\n",
       " 73: 12.27347662432497,\n",
       " 84: 12.207713508589562}"
      ]
     },
     "execution_count": 231,
     "metadata": {},
     "output_type": "execute_result"
    }
   ],
   "source": [
    "{k: v for k, v in sorted(wmd_pairs_flow.cc_X1.items(), key=lambda item: item[1], reverse=True)[:10]}"
   ]
  },
  {
   "cell_type": "code",
   "execution_count": 232,
   "metadata": {},
   "outputs": [],
   "source": [
    "wmd_pairs_flow.get_differences()"
   ]
  },
  {
   "cell_type": "markdown",
   "metadata": {},
   "source": [
    "### 3.1 Intepreting pairwise WMD flows"
   ]
  },
  {
   "cell_type": "markdown",
   "metadata": {},
   "source": [
    "Now, let's sort the distances of the words that created the most distance from the positive to the negative reviews."
   ]
  },
  {
   "cell_type": "code",
   "execution_count": 233,
   "metadata": {},
   "outputs": [
    {
     "data": {
      "text/plain": [
       "{'great': 2.024668687862805,\n",
       " 'love': 1.7403624518181244,\n",
       " 'best': 1.6059609663063412,\n",
       " 'game': 1.5015966541096764,\n",
       " 'still': 1.3499619297528755,\n",
       " 'excellent': 1.2317696857622864,\n",
       " 'performance': 1.0859712711787703,\n",
       " 'wonderful': 1.0603686054120842,\n",
       " 'loved': 0.9965510077848866,\n",
       " 'life': 0.9757527493648293,\n",
       " 'young': 0.9428675492488711,\n",
       " 'little': 0.8657328059834035,\n",
       " 'song': 0.7914757492606663,\n",
       " 'family': 0.7577614042786635,\n",
       " 'year': 0.7028603080048946,\n",
       " 'man': 0.6986470308364732,\n",
       " 'disney': 0.687060968904775,\n",
       " 'brilliant': 0.6608790201913272,\n",
       " 'time': 0.647052542916104,\n",
       " 'role': 0.6379634619043805,\n",
       " 'fan': 0.6058479543678611,\n",
       " 'enjoy': 0.603238506769767,\n",
       " 'new': 0.5898779141860254,\n",
       " 'soundtrack': 0.5858728489065048,\n",
       " 'take': 0.5528725826338342,\n",
       " 'perfect': 0.5527254145739504,\n",
       " 'dvd': 0.5499873334288831,\n",
       " 'well_worth': 0.5469984017822719,\n",
       " 'beautiful': 0.5446848814167586,\n",
       " 'entertaining': 0.5435968111979436}"
      ]
     },
     "execution_count": 233,
     "metadata": {},
     "output_type": "execute_result"
    }
   ],
   "source": [
    "{k: v for k, v in sorted(wmd_pairs_flow.wc_X1_diff.items(), key=lambda item: item[1], reverse=True)[:30]}"
   ]
  },
  {
   "cell_type": "markdown",
   "metadata": {},
   "source": [
    "Next, let's see what added most distance when moving from the negative to the positive reviews."
   ]
  },
  {
   "cell_type": "code",
   "execution_count": 234,
   "metadata": {},
   "outputs": [
    {
     "data": {
      "text/plain": [
       "{'bad': 4.31365719467759,\n",
       " 'worst': 2.1804254284134124,\n",
       " 'stupid': 1.252488856406775,\n",
       " 'plot': 1.2280525049979656,\n",
       " 'movie': 1.1712772773902285,\n",
       " 'even': 1.1524316885320491,\n",
       " 'boring': 1.1071308396259822,\n",
       " 'awful': 1.0893321833532568,\n",
       " 'acting': 1.0274300530596474,\n",
       " 'terrible': 0.9682353863779681,\n",
       " 'could': 0.9619606450165578,\n",
       " 'money': 0.9271164767602857,\n",
       " 'funny': 0.8614716477979392,\n",
       " 'ever_seen': 0.8473709282464739,\n",
       " 'better': 0.8293585094170678,\n",
       " 'poor': 0.819561296543107,\n",
       " 'guy': 0.814833241259636,\n",
       " 'instead': 0.7903185800398173,\n",
       " 'one_worst': 0.7507889531035976,\n",
       " 'made': 0.7420553305082178,\n",
       " 'kid': 0.7416117962714226,\n",
       " 'horrible': 0.7130632384926621,\n",
       " 'try': 0.6937886685546133,\n",
       " 'rating': 0.6937092545511883,\n",
       " 'ever': 0.6432402139019233,\n",
       " 'least': 0.6069506928203487,\n",
       " 'joke': 0.5879329411746743,\n",
       " 'worse': 0.5836152756539232,\n",
       " 'got': 0.5817396592404654,\n",
       " 'hour': 0.5762534128424041}"
      ]
     },
     "execution_count": 234,
     "metadata": {},
     "output_type": "execute_result"
    }
   ],
   "source": [
    "{k: v for k, v in sorted(wmd_pairs_flow.wc_X2_diff.items(), key=lambda item: item[1], reverse=True)[:30]}"
   ]
  },
  {
   "cell_type": "markdown",
   "metadata": {},
   "source": [
    "Finally, let's look at the distances between the two sets by clustering similar words, in order to get a better sense of what kind of \"topics\" that separate them. Each cluster has a weight that matches the sum of the words belonging to that cluster. We choose *n* top clusters to inspect. To make the clusters interpretable, we also represent each of them by *m* keywords, selected based on the cost they individually add between the two sets."
   ]
  },
  {
   "cell_type": "code",
   "execution_count": 235,
   "metadata": {},
   "outputs": [],
   "source": [
    "n_clusters = 10\n",
    "n_words = 10"
   ]
  },
  {
   "cell_type": "code",
   "execution_count": 236,
   "metadata": {},
   "outputs": [],
   "source": [
    "c1 = output_clusters(wc=wmd_pairs_flow.wc_X1_diff.items(), \n",
    "                     cc=wmd_pairs_flow.cc_X1.items(), \n",
    "                     c2w=cluster2words, \n",
    "                     n_clusters=n_clusters, \n",
    "                     n_words=n_words)\n",
    "c2 = output_clusters(wc=wmd_pairs_flow.wc_X2_diff.items(), \n",
    "                     cc=wmd_pairs_flow.cc_X2.items(), \n",
    "                     c2w=cluster2words, \n",
    "                     n_clusters=n_clusters, \n",
    "                     n_words=n_words)"
   ]
  },
  {
   "cell_type": "markdown",
   "metadata": {},
   "source": [
    "Positive to negative clusters."
   ]
  },
  {
   "cell_type": "code",
   "execution_count": 237,
   "metadata": {},
   "outputs": [
    {
     "data": {
      "text/html": [
       "<div>\n",
       "<style scoped>\n",
       "    .dataframe tbody tr th:only-of-type {\n",
       "        vertical-align: middle;\n",
       "    }\n",
       "\n",
       "    .dataframe tbody tr th {\n",
       "        vertical-align: top;\n",
       "    }\n",
       "\n",
       "    .dataframe thead th {\n",
       "        text-align: right;\n",
       "    }\n",
       "</style>\n",
       "<table border=\"1\" class=\"dataframe\">\n",
       "  <thead>\n",
       "    <tr style=\"text-align: right;\">\n",
       "      <th></th>\n",
       "      <th>76</th>\n",
       "      <th>49</th>\n",
       "      <th>16</th>\n",
       "      <th>15</th>\n",
       "      <th>74</th>\n",
       "      <th>29</th>\n",
       "      <th>83</th>\n",
       "      <th>85</th>\n",
       "      <th>73</th>\n",
       "      <th>84</th>\n",
       "    </tr>\n",
       "  </thead>\n",
       "  <tbody>\n",
       "    <tr>\n",
       "      <th>0</th>\n",
       "      <td>little (0.87)</td>\n",
       "      <td>great (2.02)</td>\n",
       "      <td>hope (0.32)</td>\n",
       "      <td>often (0.34)</td>\n",
       "      <td>take (0.55)</td>\n",
       "      <td>found (0.27)</td>\n",
       "      <td>home (0.43)</td>\n",
       "      <td>excellent (1.23)</td>\n",
       "      <td>performance (1.09)</td>\n",
       "      <td>production (0.54)</td>\n",
       "    </tr>\n",
       "    <tr>\n",
       "      <th>1</th>\n",
       "      <td>real (0.4)</td>\n",
       "      <td>still (1.35)</td>\n",
       "      <td>want (0.26)</td>\n",
       "      <td>although (0.32)</td>\n",
       "      <td>keep (0.26)</td>\n",
       "      <td>glad (0.24)</td>\n",
       "      <td>night (0.32)</td>\n",
       "      <td>wonderful (1.06)</td>\n",
       "      <td>role (0.64)</td>\n",
       "      <td>work (0.35)</td>\n",
       "    </tr>\n",
       "    <tr>\n",
       "      <th>2</th>\n",
       "      <td>every (0.35)</td>\n",
       "      <td>loved (1.0)</td>\n",
       "      <td>right (0.25)</td>\n",
       "      <td>yet (0.32)</td>\n",
       "      <td>roll (0.17)</td>\n",
       "      <td>impressed (0.18)</td>\n",
       "      <td>old (0.29)</td>\n",
       "      <td>brilliant (0.66)</td>\n",
       "      <td>star (0.44)</td>\n",
       "      <td>success (0.18)</td>\n",
       "    </tr>\n",
       "    <tr>\n",
       "      <th>3</th>\n",
       "      <td>hard (0.3)</td>\n",
       "      <td>fan (0.61)</td>\n",
       "      <td>wish (0.23)</td>\n",
       "      <td>especially (0.29)</td>\n",
       "      <td>run (0.16)</td>\n",
       "      <td>thought (0.18)</td>\n",
       "      <td>live (0.21)</td>\n",
       "      <td>perfect (0.55)</td>\n",
       "      <td>play (0.43)</td>\n",
       "      <td>hollywood (0.14)</td>\n",
       "    </tr>\n",
       "    <tr>\n",
       "      <th>4</th>\n",
       "      <td>one (0.19)</td>\n",
       "      <td>enjoy (0.6)</td>\n",
       "      <td>people (0.22)</td>\n",
       "      <td>typical (0.27)</td>\n",
       "      <td>notice (0.13)</td>\n",
       "      <td>watched (0.17)</td>\n",
       "      <td>friend (0.2)</td>\n",
       "      <td>amazing (0.51)</td>\n",
       "      <td>playing (0.3)</td>\n",
       "      <td>box_office (0.09)</td>\n",
       "    </tr>\n",
       "    <tr>\n",
       "      <th>5</th>\n",
       "      <td>matter (0.16)</td>\n",
       "      <td>well_worth (0.55)</td>\n",
       "      <td>know (0.21)</td>\n",
       "      <td>well_acted (0.27)</td>\n",
       "      <td>break (0.1)</td>\n",
       "      <td>seen (0.17)</td>\n",
       "      <td>weekend (0.15)</td>\n",
       "      <td>incredible (0.47)</td>\n",
       "      <td>supporting_cast (0.15)</td>\n",
       "      <td>done (0.09)</td>\n",
       "    </tr>\n",
       "    <tr>\n",
       "      <th>6</th>\n",
       "      <td>think (0.16)</td>\n",
       "      <td>entertaining (0.54)</td>\n",
       "      <td>see (0.18)</td>\n",
       "      <td>particularly (0.26)</td>\n",
       "      <td>place (0.1)</td>\n",
       "      <td>laughed_hard (0.12)</td>\n",
       "      <td>vacation (0.15)</td>\n",
       "      <td>fantastic (0.37)</td>\n",
       "      <td>rest_cast (0.14)</td>\n",
       "      <td>studio (0.07)</td>\n",
       "    </tr>\n",
       "    <tr>\n",
       "      <th>7</th>\n",
       "      <td>part (0.14)</td>\n",
       "      <td>always (0.52)</td>\n",
       "      <td>feel_sorry (0.11)</td>\n",
       "      <td>quite (0.25)</td>\n",
       "      <td>hold (0.09)</td>\n",
       "      <td>surprised (0.1)</td>\n",
       "      <td>christmas (0.12)</td>\n",
       "      <td>lovely (0.29)</td>\n",
       "      <td>portrayal (0.13)</td>\n",
       "      <td>direct (0.07)</td>\n",
       "    </tr>\n",
       "    <tr>\n",
       "      <th>8</th>\n",
       "      <td>sure (0.13)</td>\n",
       "      <td>favorite (0.45)</td>\n",
       "      <td>folk (0.09)</td>\n",
       "      <td>also (0.24)</td>\n",
       "      <td>behind (0.09)</td>\n",
       "      <td>absolutely_loved (0.1)</td>\n",
       "      <td>searching (0.1)</td>\n",
       "      <td>superb (0.29)</td>\n",
       "      <td>actress (0.11)</td>\n",
       "      <td>fault (0.06)</td>\n",
       "    </tr>\n",
       "    <tr>\n",
       "      <th>9</th>\n",
       "      <td>way (0.12)</td>\n",
       "      <td>definitely (0.42)</td>\n",
       "      <td>wanting (0.07)</td>\n",
       "      <td>bit (0.21)</td>\n",
       "      <td>tied (0.08)</td>\n",
       "      <td>amazed (0.1)</td>\n",
       "      <td>mine (0.09)</td>\n",
       "      <td>memorable (0.24)</td>\n",
       "      <td>played (0.1)</td>\n",
       "      <td>produce (0.06)</td>\n",
       "    </tr>\n",
       "  </tbody>\n",
       "</table>\n",
       "</div>"
      ],
      "text/plain": [
       "              76                   49                 16                   15  \\\n",
       "0  little (0.87)         great (2.02)        hope (0.32)         often (0.34)   \n",
       "1     real (0.4)         still (1.35)        want (0.26)      although (0.32)   \n",
       "2   every (0.35)          loved (1.0)       right (0.25)           yet (0.32)   \n",
       "3     hard (0.3)           fan (0.61)        wish (0.23)    especially (0.29)   \n",
       "4     one (0.19)          enjoy (0.6)      people (0.22)       typical (0.27)   \n",
       "5  matter (0.16)    well_worth (0.55)        know (0.21)    well_acted (0.27)   \n",
       "6   think (0.16)  entertaining (0.54)         see (0.18)  particularly (0.26)   \n",
       "7    part (0.14)        always (0.52)  feel_sorry (0.11)         quite (0.25)   \n",
       "8    sure (0.13)      favorite (0.45)        folk (0.09)          also (0.24)   \n",
       "9     way (0.12)    definitely (0.42)     wanting (0.07)           bit (0.21)   \n",
       "\n",
       "              74                      29                83                 85  \\\n",
       "0    take (0.55)            found (0.27)       home (0.43)   excellent (1.23)   \n",
       "1    keep (0.26)             glad (0.24)      night (0.32)   wonderful (1.06)   \n",
       "2    roll (0.17)        impressed (0.18)        old (0.29)   brilliant (0.66)   \n",
       "3     run (0.16)          thought (0.18)       live (0.21)     perfect (0.55)   \n",
       "4  notice (0.13)          watched (0.17)      friend (0.2)     amazing (0.51)   \n",
       "5    break (0.1)             seen (0.17)    weekend (0.15)  incredible (0.47)   \n",
       "6    place (0.1)     laughed_hard (0.12)   vacation (0.15)   fantastic (0.37)   \n",
       "7    hold (0.09)         surprised (0.1)  christmas (0.12)      lovely (0.29)   \n",
       "8  behind (0.09)  absolutely_loved (0.1)   searching (0.1)      superb (0.29)   \n",
       "9    tied (0.08)            amazed (0.1)       mine (0.09)   memorable (0.24)   \n",
       "\n",
       "                       73                 84  \n",
       "0      performance (1.09)  production (0.54)  \n",
       "1             role (0.64)        work (0.35)  \n",
       "2             star (0.44)     success (0.18)  \n",
       "3             play (0.43)   hollywood (0.14)  \n",
       "4           playing (0.3)  box_office (0.09)  \n",
       "5  supporting_cast (0.15)        done (0.09)  \n",
       "6        rest_cast (0.14)      studio (0.07)  \n",
       "7        portrayal (0.13)      direct (0.07)  \n",
       "8          actress (0.11)       fault (0.06)  \n",
       "9            played (0.1)     produce (0.06)  "
      ]
     },
     "execution_count": 237,
     "metadata": {},
     "output_type": "execute_result"
    }
   ],
   "source": [
    "c1"
   ]
  },
  {
   "cell_type": "markdown",
   "metadata": {},
   "source": [
    "Negative to positive clusters."
   ]
  },
  {
   "cell_type": "code",
   "execution_count": 238,
   "metadata": {},
   "outputs": [
    {
     "data": {
      "text/html": [
       "<div>\n",
       "<style scoped>\n",
       "    .dataframe tbody tr th:only-of-type {\n",
       "        vertical-align: middle;\n",
       "    }\n",
       "\n",
       "    .dataframe tbody tr th {\n",
       "        vertical-align: top;\n",
       "    }\n",
       "\n",
       "    .dataframe thead th {\n",
       "        text-align: right;\n",
       "    }\n",
       "</style>\n",
       "<table border=\"1\" class=\"dataframe\">\n",
       "  <thead>\n",
       "    <tr style=\"text-align: right;\">\n",
       "      <th></th>\n",
       "      <th>76</th>\n",
       "      <th>16</th>\n",
       "      <th>49</th>\n",
       "      <th>17</th>\n",
       "      <th>27</th>\n",
       "      <th>84</th>\n",
       "      <th>29</th>\n",
       "      <th>74</th>\n",
       "      <th>20</th>\n",
       "      <th>40</th>\n",
       "    </tr>\n",
       "  </thead>\n",
       "  <tbody>\n",
       "    <tr>\n",
       "      <th>0</th>\n",
       "      <td>even (1.15)</td>\n",
       "      <td>maybe (0.52)</td>\n",
       "      <td>movie (1.17)</td>\n",
       "      <td>bad (4.31)</td>\n",
       "      <td>boring (1.11)</td>\n",
       "      <td>made (0.74)</td>\n",
       "      <td>got (0.58)</td>\n",
       "      <td>get (0.53)</td>\n",
       "      <td>stupid (1.25)</td>\n",
       "      <td>hour (0.58)</td>\n",
       "    </tr>\n",
       "    <tr>\n",
       "      <th>1</th>\n",
       "      <td>could (0.96)</td>\n",
       "      <td>anyone (0.48)</td>\n",
       "      <td>better (0.83)</td>\n",
       "      <td>worst (2.18)</td>\n",
       "      <td>awful (1.09)</td>\n",
       "      <td>producer (0.29)</td>\n",
       "      <td>came (0.35)</td>\n",
       "      <td>start (0.23)</td>\n",
       "      <td>guy (0.81)</td>\n",
       "      <td>minute (0.56)</td>\n",
       "    </tr>\n",
       "    <tr>\n",
       "      <th>2</th>\n",
       "      <td>instead (0.79)</td>\n",
       "      <td>going (0.46)</td>\n",
       "      <td>recommend (0.4)</td>\n",
       "      <td>ever_seen (0.85)</td>\n",
       "      <td>terrible (0.97)</td>\n",
       "      <td>director (0.29)</td>\n",
       "      <td>disappointed (0.28)</td>\n",
       "      <td>next (0.23)</td>\n",
       "      <td>ok (0.51)</td>\n",
       "      <td>bored (0.43)</td>\n",
       "    </tr>\n",
       "    <tr>\n",
       "      <th>3</th>\n",
       "      <td>least (0.61)</td>\n",
       "      <td>happen (0.35)</td>\n",
       "      <td>expect (0.31)</td>\n",
       "      <td>one_worst (0.75)</td>\n",
       "      <td>poor (0.82)</td>\n",
       "      <td>obviously (0.28)</td>\n",
       "      <td>hated (0.28)</td>\n",
       "      <td>getting (0.23)</td>\n",
       "      <td>suck (0.41)</td>\n",
       "      <td>whole_thing (0.33)</td>\n",
       "    </tr>\n",
       "    <tr>\n",
       "      <th>4</th>\n",
       "      <td>supposed (0.56)</td>\n",
       "      <td>would (0.31)</td>\n",
       "      <td>overall (0.29)</td>\n",
       "      <td>horrible (0.71)</td>\n",
       "      <td>script (0.54)</td>\n",
       "      <td>making (0.27)</td>\n",
       "      <td>sat (0.26)</td>\n",
       "      <td>somewhere (0.15)</td>\n",
       "      <td>mean (0.36)</td>\n",
       "      <td>ended (0.28)</td>\n",
       "    </tr>\n",
       "    <tr>\n",
       "      <th>5</th>\n",
       "      <td>really (0.55)</td>\n",
       "      <td>believe (0.29)</td>\n",
       "      <td>lot (0.25)</td>\n",
       "      <td>worse (0.58)</td>\n",
       "      <td>dull (0.48)</td>\n",
       "      <td>effort (0.27)</td>\n",
       "      <td>went (0.24)</td>\n",
       "      <td>stop (0.15)</td>\n",
       "      <td>guess (0.34)</td>\n",
       "      <td>sit (0.28)</td>\n",
       "    </tr>\n",
       "    <tr>\n",
       "      <th>6</th>\n",
       "      <td>nothing (0.55)</td>\n",
       "      <td>tried (0.28)</td>\n",
       "      <td>much_better (0.16)</td>\n",
       "      <td>rent (0.56)</td>\n",
       "      <td>dialog (0.47)</td>\n",
       "      <td>project (0.22)</td>\n",
       "      <td>watching (0.22)</td>\n",
       "      <td>hand (0.12)</td>\n",
       "      <td>sucked (0.32)</td>\n",
       "      <td>entire (0.25)</td>\n",
       "    </tr>\n",
       "    <tr>\n",
       "      <th>7</th>\n",
       "      <td>enough (0.52)</td>\n",
       "      <td>someone (0.26)</td>\n",
       "      <td>want_see (0.15)</td>\n",
       "      <td>waste_time (0.54)</td>\n",
       "      <td>lame (0.39)</td>\n",
       "      <td>writer (0.21)</td>\n",
       "      <td>must_say (0.21)</td>\n",
       "      <td>away (0.11)</td>\n",
       "      <td>seriously (0.24)</td>\n",
       "      <td>finished (0.24)</td>\n",
       "    </tr>\n",
       "    <tr>\n",
       "      <th>8</th>\n",
       "      <td>something (0.45)</td>\n",
       "      <td>wanted (0.26)</td>\n",
       "      <td>entertained (0.08)</td>\n",
       "      <td>waste (0.51)</td>\n",
       "      <td>unbelievable (0.38)</td>\n",
       "      <td>blame (0.2)</td>\n",
       "      <td>looked (0.21)</td>\n",
       "      <td>pull (0.1)</td>\n",
       "      <td>cool (0.23)</td>\n",
       "      <td>wait (0.2)</td>\n",
       "    </tr>\n",
       "    <tr>\n",
       "      <th>9</th>\n",
       "      <td>idea (0.42)</td>\n",
       "      <td>never (0.22)</td>\n",
       "      <td>chick_flick (0.06)</td>\n",
       "      <td>please (0.41)</td>\n",
       "      <td>weak (0.34)</td>\n",
       "      <td>screenplay (0.18)</td>\n",
       "      <td>expected (0.17)</td>\n",
       "      <td>sign (0.1)</td>\n",
       "      <td>oh (0.18)</td>\n",
       "      <td>left (0.19)</td>\n",
       "    </tr>\n",
       "  </tbody>\n",
       "</table>\n",
       "</div>"
      ],
      "text/plain": [
       "                 76              16                  49                 17  \\\n",
       "0       even (1.15)    maybe (0.52)        movie (1.17)         bad (4.31)   \n",
       "1      could (0.96)   anyone (0.48)       better (0.83)       worst (2.18)   \n",
       "2    instead (0.79)    going (0.46)     recommend (0.4)   ever_seen (0.85)   \n",
       "3      least (0.61)   happen (0.35)       expect (0.31)   one_worst (0.75)   \n",
       "4   supposed (0.56)    would (0.31)      overall (0.29)    horrible (0.71)   \n",
       "5     really (0.55)  believe (0.29)          lot (0.25)       worse (0.58)   \n",
       "6    nothing (0.55)    tried (0.28)  much_better (0.16)        rent (0.56)   \n",
       "7     enough (0.52)  someone (0.26)     want_see (0.15)  waste_time (0.54)   \n",
       "8  something (0.45)   wanted (0.26)  entertained (0.08)       waste (0.51)   \n",
       "9       idea (0.42)    never (0.22)  chick_flick (0.06)      please (0.41)   \n",
       "\n",
       "                    27                 84                   29  \\\n",
       "0        boring (1.11)        made (0.74)           got (0.58)   \n",
       "1         awful (1.09)    producer (0.29)          came (0.35)   \n",
       "2      terrible (0.97)    director (0.29)  disappointed (0.28)   \n",
       "3          poor (0.82)   obviously (0.28)         hated (0.28)   \n",
       "4        script (0.54)      making (0.27)           sat (0.26)   \n",
       "5          dull (0.48)      effort (0.27)          went (0.24)   \n",
       "6        dialog (0.47)     project (0.22)      watching (0.22)   \n",
       "7          lame (0.39)      writer (0.21)      must_say (0.21)   \n",
       "8  unbelievable (0.38)        blame (0.2)        looked (0.21)   \n",
       "9          weak (0.34)  screenplay (0.18)      expected (0.17)   \n",
       "\n",
       "                 74                20                  40  \n",
       "0        get (0.53)     stupid (1.25)         hour (0.58)  \n",
       "1      start (0.23)        guy (0.81)       minute (0.56)  \n",
       "2       next (0.23)         ok (0.51)        bored (0.43)  \n",
       "3    getting (0.23)       suck (0.41)  whole_thing (0.33)  \n",
       "4  somewhere (0.15)       mean (0.36)        ended (0.28)  \n",
       "5       stop (0.15)      guess (0.34)          sit (0.28)  \n",
       "6       hand (0.12)     sucked (0.32)       entire (0.25)  \n",
       "7       away (0.11)  seriously (0.24)     finished (0.24)  \n",
       "8        pull (0.1)       cool (0.23)          wait (0.2)  \n",
       "9        sign (0.1)         oh (0.18)         left (0.19)  "
      ]
     },
     "execution_count": 238,
     "metadata": {},
     "output_type": "execute_result"
    }
   ],
   "source": [
    "c2 "
   ]
  },
  {
   "cell_type": "markdown",
   "metadata": {},
   "source": [
    "## 4 Better clusters with UMAP and T-SNE"
   ]
  },
  {
   "cell_type": "markdown",
   "metadata": {},
   "source": [
    "#### 4.1 UMAP + Kmeans"
   ]
  },
  {
   "cell_type": "code",
   "execution_count": 118,
   "metadata": {},
   "outputs": [],
   "source": [
    "word2cluster_u = {features[idx]: cl for idx, cl in enumerate(labels_umap)}"
   ]
  },
  {
   "cell_type": "code",
   "execution_count": 119,
   "metadata": {},
   "outputs": [
    {
     "name": "stdout",
     "output_type": "stream",
     "text": [
      "[(']', 84), ('^_', 49), ('`', 4), ('aaargh', 3), ('aaliyah', 8), ('aamir_khan', 54), ('aaron', 13), ('aaron_eckhart', 18), ('ab_tak', 93), ('abandon', 92)]\n"
     ]
    }
   ],
   "source": [
    "print(take(10, word2cluster_u.items()))"
   ]
  },
  {
   "cell_type": "markdown",
   "metadata": {},
   "source": [
    "Now, conversely, create an index that maps each cluster to a word."
   ]
  },
  {
   "cell_type": "code",
   "execution_count": 120,
   "metadata": {},
   "outputs": [],
   "source": [
    "cluster2words_u = defaultdict(list)\n",
    "for key, value in word2cluster_u.items():\n",
    "    cluster2words_u[value].append(key)"
   ]
  },
  {
   "cell_type": "code",
   "execution_count": 121,
   "metadata": {},
   "outputs": [
    {
     "name": "stdout",
     "output_type": "stream",
     "text": [
      "Calculated distances between approximately 0 documents.\n",
      "Calculated distances between approximately 100 documents.\n",
      "Calculated distances between approximately 200 documents.\n",
      "Calculated distances between approximately 300 documents.\n",
      "Calculated distances between approximately 400 documents.\n",
      "CPU times: user 2min 3s, sys: 15.9 s, total: 2min 19s\n",
      "Wall time: 1min 13s\n"
     ]
    }
   ],
   "source": [
    "%%time \n",
    "\n",
    "wmd_pairs_flow_u = WMDPairs(pos_docs,neg_docs,pairs,E,idx2word)\n",
    "wmd_pairs_flow_u.get_distances(return_flow = True, \n",
    "                               sum_clusters = True, \n",
    "                               w2c = word2cluster_u, \n",
    "                               c2w = cluster2words_u,\n",
    "                               thread = True)"
   ]
  },
  {
   "cell_type": "code",
   "execution_count": 123,
   "metadata": {},
   "outputs": [],
   "source": [
    "wmd_pairs_flow_u.get_differences()"
   ]
  },
  {
   "cell_type": "code",
   "execution_count": 125,
   "metadata": {},
   "outputs": [],
   "source": [
    "c1_u = output_clusters(wc=wmd_pairs_flow_u.wc_X1_diff.items(), \n",
    "                     cc=wmd_pairs_flow_u.cc_X1.items(), \n",
    "                     c2w=cluster2words_u, \n",
    "                     n_clusters=n_clusters, \n",
    "                     n_words=n_words)\n",
    "c2_u = output_clusters(wc=wmd_pairs_flow_u.wc_X2_diff.items(), \n",
    "                     cc=wmd_pairs_flow_u.cc_X2.items(), \n",
    "                     c2w=cluster2words_u, \n",
    "                     n_clusters=n_clusters, \n",
    "                     n_words=n_words)"
   ]
  },
  {
   "cell_type": "code",
   "execution_count": 126,
   "metadata": {},
   "outputs": [
    {
     "data": {
      "text/html": [
       "<div>\n",
       "<style scoped>\n",
       "    .dataframe tbody tr th:only-of-type {\n",
       "        vertical-align: middle;\n",
       "    }\n",
       "\n",
       "    .dataframe tbody tr th {\n",
       "        vertical-align: top;\n",
       "    }\n",
       "\n",
       "    .dataframe thead th {\n",
       "        text-align: right;\n",
       "    }\n",
       "</style>\n",
       "<table border=\"1\" class=\"dataframe\">\n",
       "  <thead>\n",
       "    <tr style=\"text-align: right;\">\n",
       "      <th></th>\n",
       "      <th>38</th>\n",
       "      <th>65</th>\n",
       "      <th>48</th>\n",
       "      <th>50</th>\n",
       "      <th>6</th>\n",
       "      <th>45</th>\n",
       "      <th>78</th>\n",
       "      <th>16</th>\n",
       "      <th>14</th>\n",
       "      <th>68</th>\n",
       "    </tr>\n",
       "  </thead>\n",
       "  <tbody>\n",
       "    <tr>\n",
       "      <th>0</th>\n",
       "      <td>great (2.48)</td>\n",
       "      <td>loved (1.27)</td>\n",
       "      <td>game (1.77)</td>\n",
       "      <td>dvd (0.7)</td>\n",
       "      <td>still (1.8)</td>\n",
       "      <td>year (0.8)</td>\n",
       "      <td>film (0.68)</td>\n",
       "      <td>little (1.23)</td>\n",
       "      <td>performance (1.36)</td>\n",
       "      <td>story (0.7)</td>\n",
       "    </tr>\n",
       "    <tr>\n",
       "      <th>1</th>\n",
       "      <td>best (2.03)</td>\n",
       "      <td>enjoy (0.72)</td>\n",
       "      <td>hard (0.42)</td>\n",
       "      <td>show (0.4)</td>\n",
       "      <td>disney (0.89)</td>\n",
       "      <td>new (0.67)</td>\n",
       "      <td>although (0.37)</td>\n",
       "      <td>entertaining (0.66)</td>\n",
       "      <td>role (0.9)</td>\n",
       "      <td>quality (0.3)</td>\n",
       "    </tr>\n",
       "    <tr>\n",
       "      <th>2</th>\n",
       "      <td>excellent (1.42)</td>\n",
       "      <td>well_worth (0.67)</td>\n",
       "      <td>cartoon (0.18)</td>\n",
       "      <td>hope (0.39)</td>\n",
       "      <td>every (0.34)</td>\n",
       "      <td>night (0.43)</td>\n",
       "      <td>cinema (0.36)</td>\n",
       "      <td>hilarious (0.5)</td>\n",
       "      <td>star (0.55)</td>\n",
       "      <td>quite (0.3)</td>\n",
       "    </tr>\n",
       "    <tr>\n",
       "      <th>3</th>\n",
       "      <td>wonderful (1.3)</td>\n",
       "      <td>want (0.42)</td>\n",
       "      <td>people (0.16)</td>\n",
       "      <td>channel (0.37)</td>\n",
       "      <td>compared (0.19)</td>\n",
       "      <td>day (0.39)</td>\n",
       "      <td>hollywood (0.22)</td>\n",
       "      <td>comedy (0.43)</td>\n",
       "      <td>play (0.46)</td>\n",
       "      <td>edge_seat (0.23)</td>\n",
       "    </tr>\n",
       "    <tr>\n",
       "      <th>4</th>\n",
       "      <td>song (0.96)</td>\n",
       "      <td>check (0.25)</td>\n",
       "      <td>segal (0.15)</td>\n",
       "      <td>found (0.34)</td>\n",
       "      <td>taste (0.19)</td>\n",
       "      <td>old (0.38)</td>\n",
       "      <td>though (0.18)</td>\n",
       "      <td>plus (0.32)</td>\n",
       "      <td>playing (0.39)</td>\n",
       "      <td>build (0.23)</td>\n",
       "    </tr>\n",
       "    <tr>\n",
       "      <th>5</th>\n",
       "      <td>brilliant (0.83)</td>\n",
       "      <td>liked (0.23)</td>\n",
       "      <td>meatball (0.14)</td>\n",
       "      <td>buy (0.33)</td>\n",
       "      <td>much (0.16)</td>\n",
       "      <td>lived (0.35)</td>\n",
       "      <td>throughout (0.17)</td>\n",
       "      <td>fulci (0.3)</td>\n",
       "      <td>great_job (0.31)</td>\n",
       "      <td>clever (0.23)</td>\n",
       "    </tr>\n",
       "    <tr>\n",
       "      <th>6</th>\n",
       "      <td>perfect (0.75)</td>\n",
       "      <td>enjoyed (0.21)</td>\n",
       "      <td>animated (0.14)</td>\n",
       "      <td>glad (0.31)</td>\n",
       "      <td>one (0.15)</td>\n",
       "      <td>late (0.33)</td>\n",
       "      <td>filled (0.17)</td>\n",
       "      <td>humor (0.28)</td>\n",
       "      <td>hamlet (0.2)</td>\n",
       "      <td>bit (0.23)</td>\n",
       "    </tr>\n",
       "    <tr>\n",
       "      <th>7</th>\n",
       "      <td>beautiful (0.68)</td>\n",
       "      <td>would_recommend (0.19)</td>\n",
       "      <td>subtitle (0.14)</td>\n",
       "      <td>film_festival (0.27)</td>\n",
       "      <td>sf (0.14)</td>\n",
       "      <td>memory (0.29)</td>\n",
       "      <td>pure (0.14)</td>\n",
       "      <td>martial_art (0.26)</td>\n",
       "      <td>davy (0.19)</td>\n",
       "      <td>romantic_comedy (0.22)</td>\n",
       "    </tr>\n",
       "    <tr>\n",
       "      <th>8</th>\n",
       "      <td>soundtrack (0.67)</td>\n",
       "      <td>seen (0.17)</td>\n",
       "      <td>serial (0.13)</td>\n",
       "      <td>first_saw (0.25)</td>\n",
       "      <td>eighty (0.14)</td>\n",
       "      <td>grew (0.25)</td>\n",
       "      <td>part (0.12)</td>\n",
       "      <td>enjoyable (0.23)</td>\n",
       "      <td>rest_cast (0.18)</td>\n",
       "      <td>extremely (0.19)</td>\n",
       "    </tr>\n",
       "    <tr>\n",
       "      <th>9</th>\n",
       "      <td>amazing (0.65)</td>\n",
       "      <td>thought (0.17)</td>\n",
       "      <td>exactly (0.13)</td>\n",
       "      <td>video (0.25)</td>\n",
       "      <td>perhaps (0.13)</td>\n",
       "      <td>last (0.25)</td>\n",
       "      <td>dated (0.11)</td>\n",
       "      <td>humour (0.21)</td>\n",
       "      <td>supporting_cast (0.18)</td>\n",
       "      <td>suspenseful (0.13)</td>\n",
       "    </tr>\n",
       "  </tbody>\n",
       "</table>\n",
       "</div>"
      ],
      "text/plain": [
       "                  38                      65               48  \\\n",
       "0       great (2.48)            loved (1.27)      game (1.77)   \n",
       "1        best (2.03)            enjoy (0.72)      hard (0.42)   \n",
       "2   excellent (1.42)       well_worth (0.67)   cartoon (0.18)   \n",
       "3    wonderful (1.3)             want (0.42)    people (0.16)   \n",
       "4        song (0.96)            check (0.25)     segal (0.15)   \n",
       "5   brilliant (0.83)            liked (0.23)  meatball (0.14)   \n",
       "6     perfect (0.75)          enjoyed (0.21)  animated (0.14)   \n",
       "7   beautiful (0.68)  would_recommend (0.19)  subtitle (0.14)   \n",
       "8  soundtrack (0.67)             seen (0.17)    serial (0.13)   \n",
       "9     amazing (0.65)          thought (0.17)   exactly (0.13)   \n",
       "\n",
       "                     50               6              45                 78  \\\n",
       "0             dvd (0.7)      still (1.8)     year (0.8)        film (0.68)   \n",
       "1            show (0.4)    disney (0.89)     new (0.67)    although (0.37)   \n",
       "2           hope (0.39)     every (0.34)   night (0.43)      cinema (0.36)   \n",
       "3        channel (0.37)  compared (0.19)     day (0.39)   hollywood (0.22)   \n",
       "4          found (0.34)     taste (0.19)     old (0.38)      though (0.18)   \n",
       "5            buy (0.33)      much (0.16)   lived (0.35)  throughout (0.17)   \n",
       "6           glad (0.31)       one (0.15)    late (0.33)      filled (0.17)   \n",
       "7  film_festival (0.27)        sf (0.14)  memory (0.29)        pure (0.14)   \n",
       "8      first_saw (0.25)    eighty (0.14)    grew (0.25)        part (0.12)   \n",
       "9          video (0.25)   perhaps (0.13)    last (0.25)       dated (0.11)   \n",
       "\n",
       "                    16                      14                      68  \n",
       "0        little (1.23)      performance (1.36)             story (0.7)  \n",
       "1  entertaining (0.66)              role (0.9)           quality (0.3)  \n",
       "2      hilarious (0.5)             star (0.55)             quite (0.3)  \n",
       "3        comedy (0.43)             play (0.46)        edge_seat (0.23)  \n",
       "4          plus (0.32)          playing (0.39)            build (0.23)  \n",
       "5          fulci (0.3)        great_job (0.31)           clever (0.23)  \n",
       "6         humor (0.28)            hamlet (0.2)              bit (0.23)  \n",
       "7   martial_art (0.26)             davy (0.19)  romantic_comedy (0.22)  \n",
       "8     enjoyable (0.23)        rest_cast (0.18)        extremely (0.19)  \n",
       "9        humour (0.21)  supporting_cast (0.18)      suspenseful (0.13)  "
      ]
     },
     "execution_count": 126,
     "metadata": {},
     "output_type": "execute_result"
    }
   ],
   "source": [
    "c1_u"
   ]
  },
  {
   "cell_type": "code",
   "execution_count": 127,
   "metadata": {},
   "outputs": [
    {
     "data": {
      "text/html": [
       "<div>\n",
       "<style scoped>\n",
       "    .dataframe tbody tr th:only-of-type {\n",
       "        vertical-align: middle;\n",
       "    }\n",
       "\n",
       "    .dataframe tbody tr th {\n",
       "        vertical-align: top;\n",
       "    }\n",
       "\n",
       "    .dataframe thead th {\n",
       "        text-align: right;\n",
       "    }\n",
       "</style>\n",
       "<table border=\"1\" class=\"dataframe\">\n",
       "  <thead>\n",
       "    <tr style=\"text-align: right;\">\n",
       "      <th></th>\n",
       "      <th>65</th>\n",
       "      <th>48</th>\n",
       "      <th>56</th>\n",
       "      <th>6</th>\n",
       "      <th>30</th>\n",
       "      <th>16</th>\n",
       "      <th>63</th>\n",
       "      <th>50</th>\n",
       "      <th>78</th>\n",
       "      <th>77</th>\n",
       "    </tr>\n",
       "  </thead>\n",
       "  <tbody>\n",
       "    <tr>\n",
       "      <th>0</th>\n",
       "      <td>movie (2.33)</td>\n",
       "      <td>would (0.5)</td>\n",
       "      <td>bad (5.31)</td>\n",
       "      <td>even (1.48)</td>\n",
       "      <td>worst (2.48)</td>\n",
       "      <td>stupid (1.61)</td>\n",
       "      <td>better (1.0)</td>\n",
       "      <td>came (0.35)</td>\n",
       "      <td>director (0.41)</td>\n",
       "      <td>supposed (0.74)</td>\n",
       "    </tr>\n",
       "    <tr>\n",
       "      <th>1</th>\n",
       "      <td>really (0.94)</td>\n",
       "      <td>reason (0.47)</td>\n",
       "      <td>plot (1.52)</td>\n",
       "      <td>could (1.22)</td>\n",
       "      <td>ever_seen (0.95)</td>\n",
       "      <td>funny (0.87)</td>\n",
       "      <td>least (0.77)</td>\n",
       "      <td>fox (0.31)</td>\n",
       "      <td>effort (0.34)</td>\n",
       "      <td>case (0.52)</td>\n",
       "    </tr>\n",
       "    <tr>\n",
       "      <th>2</th>\n",
       "      <td>rating (0.84)</td>\n",
       "      <td>going (0.46)</td>\n",
       "      <td>boring (1.38)</td>\n",
       "      <td>instead (1.03)</td>\n",
       "      <td>one_worst (0.88)</td>\n",
       "      <td>joke (0.76)</td>\n",
       "      <td>nothing (0.76)</td>\n",
       "      <td>sat (0.31)</td>\n",
       "      <td>seems (0.27)</td>\n",
       "      <td>making (0.43)</td>\n",
       "    </tr>\n",
       "    <tr>\n",
       "      <th>3</th>\n",
       "      <td>say (0.72)</td>\n",
       "      <td>gave (0.42)</td>\n",
       "      <td>awful (1.34)</td>\n",
       "      <td>made (0.83)</td>\n",
       "      <td>ever (0.74)</td>\n",
       "      <td>idiotic (0.39)</td>\n",
       "      <td>ok (0.63)</td>\n",
       "      <td>episode (0.31)</td>\n",
       "      <td>numerous (0.27)</td>\n",
       "      <td>understand (0.39)</td>\n",
       "    </tr>\n",
       "    <tr>\n",
       "      <th>4</th>\n",
       "      <td>rent (0.7)</td>\n",
       "      <td>basically (0.42)</td>\n",
       "      <td>terrible (1.24)</td>\n",
       "      <td>enough (0.72)</td>\n",
       "      <td>hour (0.74)</td>\n",
       "      <td>unrealistic (0.37)</td>\n",
       "      <td>cheap (0.6)</td>\n",
       "      <td>finished (0.28)</td>\n",
       "      <td>point (0.27)</td>\n",
       "      <td>obviously (0.36)</td>\n",
       "    </tr>\n",
       "    <tr>\n",
       "      <th>5</th>\n",
       "      <td>maybe (0.61)</td>\n",
       "      <td>never (0.4)</td>\n",
       "      <td>poor (1.12)</td>\n",
       "      <td>idea (0.59)</td>\n",
       "      <td>minute (0.72)</td>\n",
       "      <td>lot (0.37)</td>\n",
       "      <td>anything (0.56)</td>\n",
       "      <td>picked (0.27)</td>\n",
       "      <td>contain (0.19)</td>\n",
       "      <td>project (0.27)</td>\n",
       "    </tr>\n",
       "    <tr>\n",
       "      <th>6</th>\n",
       "      <td>anyone (0.61)</td>\n",
       "      <td>wrong (0.4)</td>\n",
       "      <td>horrible (0.93)</td>\n",
       "      <td>either (0.46)</td>\n",
       "      <td>worse (0.72)</td>\n",
       "      <td>overall (0.32)</td>\n",
       "      <td>sequel (0.43)</td>\n",
       "      <td>series (0.25)</td>\n",
       "      <td>example (0.18)</td>\n",
       "      <td>sort (0.26)</td>\n",
       "    </tr>\n",
       "    <tr>\n",
       "      <th>7</th>\n",
       "      <td>watching (0.52)</td>\n",
       "      <td>happen (0.39)</td>\n",
       "      <td>script (0.7)</td>\n",
       "      <td>rest (0.45)</td>\n",
       "      <td>something (0.68)</td>\n",
       "      <td>nudity (0.29)</td>\n",
       "      <td>whole_thing (0.42)</td>\n",
       "      <td>blockbuster (0.25)</td>\n",
       "      <td>almost (0.15)</td>\n",
       "      <td>fact (0.26)</td>\n",
       "    </tr>\n",
       "    <tr>\n",
       "      <th>8</th>\n",
       "      <td>review (0.52)</td>\n",
       "      <td>tried (0.37)</td>\n",
       "      <td>dialog (0.63)</td>\n",
       "      <td>make_sense (0.45)</td>\n",
       "      <td>waste (0.65)</td>\n",
       "      <td>serious (0.28)</td>\n",
       "      <td>b (0.41)</td>\n",
       "      <td>rented (0.21)</td>\n",
       "      <td>shocking (0.15)</td>\n",
       "      <td>blame (0.25)</td>\n",
       "    </tr>\n",
       "    <tr>\n",
       "      <th>9</th>\n",
       "      <td>recommend (0.48)</td>\n",
       "      <td>like (0.37)</td>\n",
       "      <td>dull (0.6)</td>\n",
       "      <td>producer (0.36)</td>\n",
       "      <td>waste_time (0.61)</td>\n",
       "      <td>disgusting (0.28)</td>\n",
       "      <td>expect (0.39)</td>\n",
       "      <td>went_see (0.21)</td>\n",
       "      <td>columbo (0.14)</td>\n",
       "      <td>confused (0.25)</td>\n",
       "    </tr>\n",
       "  </tbody>\n",
       "</table>\n",
       "</div>"
      ],
      "text/plain": [
       "                 65                48               56                 6   \\\n",
       "0      movie (2.33)       would (0.5)       bad (5.31)        even (1.48)   \n",
       "1     really (0.94)     reason (0.47)      plot (1.52)       could (1.22)   \n",
       "2     rating (0.84)      going (0.46)    boring (1.38)     instead (1.03)   \n",
       "3        say (0.72)       gave (0.42)     awful (1.34)        made (0.83)   \n",
       "4        rent (0.7)  basically (0.42)  terrible (1.24)      enough (0.72)   \n",
       "5      maybe (0.61)       never (0.4)      poor (1.12)        idea (0.59)   \n",
       "6     anyone (0.61)       wrong (0.4)  horrible (0.93)      either (0.46)   \n",
       "7   watching (0.52)     happen (0.39)     script (0.7)        rest (0.45)   \n",
       "8     review (0.52)      tried (0.37)    dialog (0.63)  make_sense (0.45)   \n",
       "9  recommend (0.48)       like (0.37)       dull (0.6)    producer (0.36)   \n",
       "\n",
       "                  30                  16                  63  \\\n",
       "0       worst (2.48)       stupid (1.61)        better (1.0)   \n",
       "1   ever_seen (0.95)        funny (0.87)        least (0.77)   \n",
       "2   one_worst (0.88)         joke (0.76)      nothing (0.76)   \n",
       "3        ever (0.74)      idiotic (0.39)           ok (0.63)   \n",
       "4        hour (0.74)  unrealistic (0.37)         cheap (0.6)   \n",
       "5      minute (0.72)          lot (0.37)     anything (0.56)   \n",
       "6       worse (0.72)      overall (0.32)       sequel (0.43)   \n",
       "7   something (0.68)       nudity (0.29)  whole_thing (0.42)   \n",
       "8       waste (0.65)      serious (0.28)            b (0.41)   \n",
       "9  waste_time (0.61)   disgusting (0.28)       expect (0.39)   \n",
       "\n",
       "                   50               78                 77  \n",
       "0         came (0.35)  director (0.41)    supposed (0.74)  \n",
       "1          fox (0.31)    effort (0.34)        case (0.52)  \n",
       "2          sat (0.31)     seems (0.27)      making (0.43)  \n",
       "3      episode (0.31)  numerous (0.27)  understand (0.39)  \n",
       "4     finished (0.28)     point (0.27)   obviously (0.36)  \n",
       "5       picked (0.27)   contain (0.19)     project (0.27)  \n",
       "6       series (0.25)   example (0.18)        sort (0.26)  \n",
       "7  blockbuster (0.25)    almost (0.15)        fact (0.26)  \n",
       "8       rented (0.21)  shocking (0.15)       blame (0.25)  \n",
       "9     went_see (0.21)   columbo (0.14)    confused (0.25)  "
      ]
     },
     "execution_count": 127,
     "metadata": {},
     "output_type": "execute_result"
    }
   ],
   "source": [
    "c2_u"
   ]
  },
  {
   "cell_type": "markdown",
   "metadata": {},
   "source": [
    "#### 4.1 T-SNE + Kmeans"
   ]
  },
  {
   "cell_type": "code",
   "execution_count": 128,
   "metadata": {},
   "outputs": [],
   "source": [
    "word2cluster_t = {features[idx]: cl for idx, cl in enumerate(labels_tsne)}"
   ]
  },
  {
   "cell_type": "code",
   "execution_count": 129,
   "metadata": {},
   "outputs": [
    {
     "name": "stdout",
     "output_type": "stream",
     "text": [
      "[(']', 65), ('^_', 25), ('`', 45), ('aaargh', 79), ('aaliyah', 39), ('aamir_khan', 56), ('aaron', 84), ('aaron_eckhart', 20), ('ab_tak', 54), ('abandon', 74)]\n"
     ]
    }
   ],
   "source": [
    "print(take(10, word2cluster_t.items()))"
   ]
  },
  {
   "cell_type": "markdown",
   "metadata": {},
   "source": [
    "Now, conversely, create an index that maps each cluster to a word."
   ]
  },
  {
   "cell_type": "code",
   "execution_count": 139,
   "metadata": {},
   "outputs": [],
   "source": [
    "cluster2words_t = defaultdict(list)\n",
    "for key, value in word2cluster_t.items():\n",
    "    cluster2words_t[value].append(key)"
   ]
  },
  {
   "cell_type": "code",
   "execution_count": 141,
   "metadata": {},
   "outputs": [
    {
     "name": "stdout",
     "output_type": "stream",
     "text": [
      "Calculated distances between approximately 0 documents.\n",
      "Calculated distances between approximately 100 documents.\n",
      "Calculated distances between approximately 200 documents.\n",
      "Calculated distances between approximately 300 documents.\n",
      "Calculated distances between approximately 400 documents.\n",
      "CPU times: user 2min 5s, sys: 14.9 s, total: 2min 20s\n",
      "Wall time: 1min 16s\n"
     ]
    }
   ],
   "source": [
    "%%time \n",
    "\n",
    "wmd_pairs_flow_t = WMDPairs(pos_docs,neg_docs,pairs,E,idx2word)\n",
    "wmd_pairs_flow_t.get_distances(return_flow = True, \n",
    "                               sum_clusters = True, \n",
    "                               w2c = word2cluster_t, \n",
    "                               c2w = cluster2words_t,\n",
    "                               thread = True)"
   ]
  },
  {
   "cell_type": "code",
   "execution_count": 142,
   "metadata": {},
   "outputs": [],
   "source": [
    "wmd_pairs_flow_t.get_differences()"
   ]
  },
  {
   "cell_type": "code",
   "execution_count": 143,
   "metadata": {},
   "outputs": [],
   "source": [
    "c1_t = output_clusters(wc=wmd_pairs_flow_t.wc_X1_diff.items(), \n",
    "                     cc=wmd_pairs_flow_t.cc_X1.items(), \n",
    "                     c2w=cluster2words_t, \n",
    "                     n_clusters=n_clusters, \n",
    "                     n_words=n_words)\n",
    "c2_t = output_clusters(wc=wmd_pairs_flow_t.wc_X2_diff.items(), \n",
    "                     cc=wmd_pairs_flow_t.cc_X2.items(), \n",
    "                     c2w=cluster2words_t, \n",
    "                     n_clusters=n_clusters, \n",
    "                     n_words=n_words)"
   ]
  },
  {
   "cell_type": "code",
   "execution_count": 144,
   "metadata": {},
   "outputs": [
    {
     "data": {
      "text/html": [
       "<div>\n",
       "<style scoped>\n",
       "    .dataframe tbody tr th:only-of-type {\n",
       "        vertical-align: middle;\n",
       "    }\n",
       "\n",
       "    .dataframe tbody tr th {\n",
       "        vertical-align: top;\n",
       "    }\n",
       "\n",
       "    .dataframe thead th {\n",
       "        text-align: right;\n",
       "    }\n",
       "</style>\n",
       "<table border=\"1\" class=\"dataframe\">\n",
       "  <thead>\n",
       "    <tr style=\"text-align: right;\">\n",
       "      <th></th>\n",
       "      <th>92</th>\n",
       "      <th>67</th>\n",
       "      <th>86</th>\n",
       "      <th>48</th>\n",
       "      <th>99</th>\n",
       "      <th>87</th>\n",
       "      <th>10</th>\n",
       "      <th>31</th>\n",
       "      <th>17</th>\n",
       "      <th>95</th>\n",
       "    </tr>\n",
       "  </thead>\n",
       "  <tbody>\n",
       "    <tr>\n",
       "      <th>0</th>\n",
       "      <td>loved (1.27)</td>\n",
       "      <td>great (2.48)</td>\n",
       "      <td>disney (0.89)</td>\n",
       "      <td>thought (0.17)</td>\n",
       "      <td>game (1.77)</td>\n",
       "      <td>performance (1.36)</td>\n",
       "      <td>dvd (0.7)</td>\n",
       "      <td>real (0.65)</td>\n",
       "      <td>feeling (0.6)</td>\n",
       "      <td>year (0.8)</td>\n",
       "    </tr>\n",
       "    <tr>\n",
       "      <th>1</th>\n",
       "      <td>time (0.84)</td>\n",
       "      <td>excellent (1.42)</td>\n",
       "      <td>film (0.68)</td>\n",
       "      <td>people (0.16)</td>\n",
       "      <td>hilarious (0.5)</td>\n",
       "      <td>role (0.9)</td>\n",
       "      <td>hope (0.39)</td>\n",
       "      <td>often (0.4)</td>\n",
       "      <td>feel (0.54)</td>\n",
       "      <td>night (0.43)</td>\n",
       "    </tr>\n",
       "    <tr>\n",
       "      <th>2</th>\n",
       "      <td>well_worth (0.67)</td>\n",
       "      <td>wonderful (1.3)</td>\n",
       "      <td>entertaining (0.66)</td>\n",
       "      <td>exactly (0.13)</td>\n",
       "      <td>comedy (0.43)</td>\n",
       "      <td>star (0.55)</td>\n",
       "      <td>channel (0.37)</td>\n",
       "      <td>moving (0.35)</td>\n",
       "      <td>message (0.43)</td>\n",
       "      <td>day (0.39)</td>\n",
       "    </tr>\n",
       "    <tr>\n",
       "      <th>3</th>\n",
       "      <td>fan (0.55)</td>\n",
       "      <td>song (0.96)</td>\n",
       "      <td>definitely (0.54)</td>\n",
       "      <td>folk (0.12)</td>\n",
       "      <td>scifi (0.43)</td>\n",
       "      <td>play (0.46)</td>\n",
       "      <td>found (0.34)</td>\n",
       "      <td>filmed (0.21)</td>\n",
       "      <td>reality (0.34)</td>\n",
       "      <td>lived (0.35)</td>\n",
       "    </tr>\n",
       "    <tr>\n",
       "      <th>4</th>\n",
       "      <td>wish (0.28)</td>\n",
       "      <td>brilliant (0.83)</td>\n",
       "      <td>special (0.39)</td>\n",
       "      <td>shocked (0.11)</td>\n",
       "      <td>show (0.4)</td>\n",
       "      <td>playing (0.39)</td>\n",
       "      <td>buy (0.33)</td>\n",
       "      <td>top (0.17)</td>\n",
       "      <td>theme (0.3)</td>\n",
       "      <td>memory (0.29)</td>\n",
       "    </tr>\n",
       "    <tr>\n",
       "      <th>5</th>\n",
       "      <td>liked (0.23)</td>\n",
       "      <td>perfect (0.75)</td>\n",
       "      <td>cinema (0.36)</td>\n",
       "      <td>happy_ending (0.11)</td>\n",
       "      <td>humor (0.28)</td>\n",
       "      <td>great_job (0.31)</td>\n",
       "      <td>glad (0.31)</td>\n",
       "      <td>main (0.15)</td>\n",
       "      <td>issue (0.21)</td>\n",
       "      <td>future (0.26)</td>\n",
       "    </tr>\n",
       "    <tr>\n",
       "      <th>6</th>\n",
       "      <td>enjoyed (0.21)</td>\n",
       "      <td>beautiful (0.68)</td>\n",
       "      <td>particularly (0.35)</td>\n",
       "      <td>wanting (0.09)</td>\n",
       "      <td>short (0.24)</td>\n",
       "      <td>usual (0.25)</td>\n",
       "      <td>film_festival (0.27)</td>\n",
       "      <td>character (0.15)</td>\n",
       "      <td>society (0.18)</td>\n",
       "      <td>grew (0.25)</td>\n",
       "    </tr>\n",
       "    <tr>\n",
       "      <th>7</th>\n",
       "      <td>seen (0.17)</td>\n",
       "      <td>soundtrack (0.67)</td>\n",
       "      <td>classic (0.33)</td>\n",
       "      <td>figured (0.08)</td>\n",
       "      <td>clever (0.23)</td>\n",
       "      <td>rest_cast (0.18)</td>\n",
       "      <td>first_saw (0.25)</td>\n",
       "      <td>segment (0.13)</td>\n",
       "      <td>importance (0.17)</td>\n",
       "      <td>last (0.25)</td>\n",
       "    </tr>\n",
       "    <tr>\n",
       "      <th>8</th>\n",
       "      <td>buy_copy (0.16)</td>\n",
       "      <td>amazing (0.65)</td>\n",
       "      <td>work (0.33)</td>\n",
       "      <td>running_time (0.08)</td>\n",
       "      <td>humour (0.21)</td>\n",
       "      <td>supporting_cast (0.18)</td>\n",
       "      <td>video (0.25)</td>\n",
       "      <td>sequence (0.13)</td>\n",
       "      <td>complex (0.16)</td>\n",
       "      <td>took (0.22)</td>\n",
       "    </tr>\n",
       "    <tr>\n",
       "      <th>9</th>\n",
       "      <td>really_liked (0.16)</td>\n",
       "      <td>incredible (0.59)</td>\n",
       "      <td>highly_recommend (0.28)</td>\n",
       "      <td>cared (0.08)</td>\n",
       "      <td>one_liner (0.17)</td>\n",
       "      <td>shine (0.17)</td>\n",
       "      <td>theater (0.21)</td>\n",
       "      <td>edited (0.11)</td>\n",
       "      <td>dealing (0.16)</td>\n",
       "      <td>weekend (0.21)</td>\n",
       "    </tr>\n",
       "  </tbody>\n",
       "</table>\n",
       "</div>"
      ],
      "text/plain": [
       "                    92                 67                       86  \\\n",
       "0         loved (1.27)       great (2.48)            disney (0.89)   \n",
       "1          time (0.84)   excellent (1.42)              film (0.68)   \n",
       "2    well_worth (0.67)    wonderful (1.3)      entertaining (0.66)   \n",
       "3           fan (0.55)        song (0.96)        definitely (0.54)   \n",
       "4          wish (0.28)   brilliant (0.83)           special (0.39)   \n",
       "5         liked (0.23)     perfect (0.75)            cinema (0.36)   \n",
       "6       enjoyed (0.21)   beautiful (0.68)      particularly (0.35)   \n",
       "7          seen (0.17)  soundtrack (0.67)           classic (0.33)   \n",
       "8      buy_copy (0.16)     amazing (0.65)              work (0.33)   \n",
       "9  really_liked (0.16)  incredible (0.59)  highly_recommend (0.28)   \n",
       "\n",
       "                    48                99                      87  \\\n",
       "0       thought (0.17)       game (1.77)      performance (1.36)   \n",
       "1        people (0.16)   hilarious (0.5)              role (0.9)   \n",
       "2       exactly (0.13)     comedy (0.43)             star (0.55)   \n",
       "3          folk (0.12)      scifi (0.43)             play (0.46)   \n",
       "4       shocked (0.11)        show (0.4)          playing (0.39)   \n",
       "5  happy_ending (0.11)      humor (0.28)        great_job (0.31)   \n",
       "6       wanting (0.09)      short (0.24)            usual (0.25)   \n",
       "7       figured (0.08)     clever (0.23)        rest_cast (0.18)   \n",
       "8  running_time (0.08)     humour (0.21)  supporting_cast (0.18)   \n",
       "9         cared (0.08)  one_liner (0.17)            shine (0.17)   \n",
       "\n",
       "                     10                31                 17              95  \n",
       "0             dvd (0.7)       real (0.65)      feeling (0.6)      year (0.8)  \n",
       "1           hope (0.39)       often (0.4)        feel (0.54)    night (0.43)  \n",
       "2        channel (0.37)     moving (0.35)     message (0.43)      day (0.39)  \n",
       "3          found (0.34)     filmed (0.21)     reality (0.34)    lived (0.35)  \n",
       "4            buy (0.33)        top (0.17)        theme (0.3)   memory (0.29)  \n",
       "5           glad (0.31)       main (0.15)       issue (0.21)   future (0.26)  \n",
       "6  film_festival (0.27)  character (0.15)     society (0.18)     grew (0.25)  \n",
       "7      first_saw (0.25)    segment (0.13)  importance (0.17)     last (0.25)  \n",
       "8          video (0.25)   sequence (0.13)     complex (0.16)     took (0.22)  \n",
       "9        theater (0.21)     edited (0.11)     dealing (0.16)  weekend (0.21)  "
      ]
     },
     "execution_count": 144,
     "metadata": {},
     "output_type": "execute_result"
    }
   ],
   "source": [
    "c1_t"
   ]
  },
  {
   "cell_type": "code",
   "execution_count": 145,
   "metadata": {},
   "outputs": [
    {
     "data": {
      "text/html": [
       "<div>\n",
       "<style scoped>\n",
       "    .dataframe tbody tr th:only-of-type {\n",
       "        vertical-align: middle;\n",
       "    }\n",
       "\n",
       "    .dataframe tbody tr th {\n",
       "        vertical-align: top;\n",
       "    }\n",
       "\n",
       "    .dataframe thead th {\n",
       "        text-align: right;\n",
       "    }\n",
       "</style>\n",
       "<table border=\"1\" class=\"dataframe\">\n",
       "  <thead>\n",
       "    <tr style=\"text-align: right;\">\n",
       "      <th></th>\n",
       "      <th>28</th>\n",
       "      <th>92</th>\n",
       "      <th>48</th>\n",
       "      <th>89</th>\n",
       "      <th>49</th>\n",
       "      <th>19</th>\n",
       "      <th>31</th>\n",
       "      <th>42</th>\n",
       "      <th>82</th>\n",
       "      <th>86</th>\n",
       "    </tr>\n",
       "  </thead>\n",
       "  <tbody>\n",
       "    <tr>\n",
       "      <th>0</th>\n",
       "      <td>bad (5.31)</td>\n",
       "      <td>movie (2.33)</td>\n",
       "      <td>hour (0.74)</td>\n",
       "      <td>worst (2.48)</td>\n",
       "      <td>even (1.48)</td>\n",
       "      <td>really (0.94)</td>\n",
       "      <td>shot (0.67)</td>\n",
       "      <td>could (1.22)</td>\n",
       "      <td>made (0.83)</td>\n",
       "      <td>better (1.0)</td>\n",
       "    </tr>\n",
       "    <tr>\n",
       "      <th>1</th>\n",
       "      <td>stupid (1.61)</td>\n",
       "      <td>rating (0.84)</td>\n",
       "      <td>minute (0.72)</td>\n",
       "      <td>ever_seen (0.95)</td>\n",
       "      <td>enough (0.72)</td>\n",
       "      <td>maybe (0.61)</td>\n",
       "      <td>scene (0.54)</td>\n",
       "      <td>instead (1.03)</td>\n",
       "      <td>supposed (0.74)</td>\n",
       "      <td>original (0.33)</td>\n",
       "    </tr>\n",
       "    <tr>\n",
       "      <th>2</th>\n",
       "      <td>plot (1.52)</td>\n",
       "      <td>say (0.72)</td>\n",
       "      <td>anyone (0.61)</td>\n",
       "      <td>one_worst (0.88)</td>\n",
       "      <td>idea (0.59)</td>\n",
       "      <td>mean (0.42)</td>\n",
       "      <td>camera (0.51)</td>\n",
       "      <td>least (0.77)</td>\n",
       "      <td>making (0.43)</td>\n",
       "      <td>overall (0.32)</td>\n",
       "    </tr>\n",
       "    <tr>\n",
       "      <th>3</th>\n",
       "      <td>boring (1.38)</td>\n",
       "      <td>watching (0.52)</td>\n",
       "      <td>bored (0.58)</td>\n",
       "      <td>ever (0.74)</td>\n",
       "      <td>premise (0.45)</td>\n",
       "      <td>guess (0.38)</td>\n",
       "      <td>numerous (0.27)</td>\n",
       "      <td>nothing (0.76)</td>\n",
       "      <td>wrong (0.4)</td>\n",
       "      <td>serious (0.28)</td>\n",
       "    </tr>\n",
       "    <tr>\n",
       "      <th>4</th>\n",
       "      <td>awful (1.34)</td>\n",
       "      <td>review (0.52)</td>\n",
       "      <td>end (0.5)</td>\n",
       "      <td>rent (0.7)</td>\n",
       "      <td>disappointing (0.36)</td>\n",
       "      <td>like (0.37)</td>\n",
       "      <td>main_character (0.27)</td>\n",
       "      <td>anything (0.56)</td>\n",
       "      <td>line (0.27)</td>\n",
       "      <td>produced (0.14)</td>\n",
       "    </tr>\n",
       "    <tr>\n",
       "      <th>5</th>\n",
       "      <td>terrible (1.24)</td>\n",
       "      <td>reason (0.47)</td>\n",
       "      <td>depressing (0.49)</td>\n",
       "      <td>something (0.68)</td>\n",
       "      <td>producer (0.36)</td>\n",
       "      <td>someone (0.35)</td>\n",
       "      <td>echo (0.19)</td>\n",
       "      <td>either (0.46)</td>\n",
       "      <td>meant (0.17)</td>\n",
       "      <td>standard (0.08)</td>\n",
       "    </tr>\n",
       "    <tr>\n",
       "      <th>6</th>\n",
       "      <td>poor (1.12)</td>\n",
       "      <td>disappointed (0.34)</td>\n",
       "      <td>actually (0.47)</td>\n",
       "      <td>waste (0.65)</td>\n",
       "      <td>unfortunately (0.35)</td>\n",
       "      <td>seriously (0.32)</td>\n",
       "      <td>example (0.18)</td>\n",
       "      <td>gave (0.42)</td>\n",
       "      <td>looking (0.17)</td>\n",
       "      <td>bollywood (0.08)</td>\n",
       "    </tr>\n",
       "    <tr>\n",
       "      <th>7</th>\n",
       "      <td>horrible (0.93)</td>\n",
       "      <td>comment (0.34)</td>\n",
       "      <td>going (0.46)</td>\n",
       "      <td>waste_time (0.61)</td>\n",
       "      <td>stereotype (0.29)</td>\n",
       "      <td>anymore (0.26)</td>\n",
       "      <td>relentlessly (0.17)</td>\n",
       "      <td>laugh (0.34)</td>\n",
       "      <td>ruin (0.15)</td>\n",
       "      <td>worked (0.07)</td>\n",
       "    </tr>\n",
       "    <tr>\n",
       "      <th>8</th>\n",
       "      <td>worse (0.72)</td>\n",
       "      <td>saying (0.33)</td>\n",
       "      <td>make_sense (0.45)</td>\n",
       "      <td>ever_made (0.56)</td>\n",
       "      <td>seems (0.27)</td>\n",
       "      <td>hate (0.24)</td>\n",
       "      <td>clip (0.16)</td>\n",
       "      <td>cool (0.32)</td>\n",
       "      <td>appeal (0.13)</td>\n",
       "      <td>equally (0.07)</td>\n",
       "    </tr>\n",
       "    <tr>\n",
       "      <th>9</th>\n",
       "      <td>dialog (0.63)</td>\n",
       "      <td>hated (0.32)</td>\n",
       "      <td>seemed (0.45)</td>\n",
       "      <td>recommend (0.48)</td>\n",
       "      <td>project (0.27)</td>\n",
       "      <td>hell (0.24)</td>\n",
       "      <td>particular (0.16)</td>\n",
       "      <td>seagal (0.29)</td>\n",
       "      <td>describe (0.12)</td>\n",
       "      <td>dubbed (0.07)</td>\n",
       "    </tr>\n",
       "  </tbody>\n",
       "</table>\n",
       "</div>"
      ],
      "text/plain": [
       "                28                   92                 48                 89  \\\n",
       "0       bad (5.31)         movie (2.33)        hour (0.74)       worst (2.48)   \n",
       "1    stupid (1.61)        rating (0.84)      minute (0.72)   ever_seen (0.95)   \n",
       "2      plot (1.52)           say (0.72)      anyone (0.61)   one_worst (0.88)   \n",
       "3    boring (1.38)      watching (0.52)       bored (0.58)        ever (0.74)   \n",
       "4     awful (1.34)        review (0.52)          end (0.5)         rent (0.7)   \n",
       "5  terrible (1.24)        reason (0.47)  depressing (0.49)   something (0.68)   \n",
       "6      poor (1.12)  disappointed (0.34)    actually (0.47)       waste (0.65)   \n",
       "7  horrible (0.93)       comment (0.34)       going (0.46)  waste_time (0.61)   \n",
       "8     worse (0.72)        saying (0.33)  make_sense (0.45)   ever_made (0.56)   \n",
       "9    dialog (0.63)         hated (0.32)      seemed (0.45)   recommend (0.48)   \n",
       "\n",
       "                     49                19                     31  \\\n",
       "0           even (1.48)     really (0.94)            shot (0.67)   \n",
       "1         enough (0.72)      maybe (0.61)           scene (0.54)   \n",
       "2           idea (0.59)       mean (0.42)          camera (0.51)   \n",
       "3        premise (0.45)      guess (0.38)        numerous (0.27)   \n",
       "4  disappointing (0.36)       like (0.37)  main_character (0.27)   \n",
       "5       producer (0.36)    someone (0.35)            echo (0.19)   \n",
       "6  unfortunately (0.35)  seriously (0.32)         example (0.18)   \n",
       "7     stereotype (0.29)    anymore (0.26)    relentlessly (0.17)   \n",
       "8          seems (0.27)       hate (0.24)            clip (0.16)   \n",
       "9        project (0.27)       hell (0.24)      particular (0.16)   \n",
       "\n",
       "                42               82                86  \n",
       "0     could (1.22)      made (0.83)      better (1.0)  \n",
       "1   instead (1.03)  supposed (0.74)   original (0.33)  \n",
       "2     least (0.77)    making (0.43)    overall (0.32)  \n",
       "3   nothing (0.76)      wrong (0.4)    serious (0.28)  \n",
       "4  anything (0.56)      line (0.27)   produced (0.14)  \n",
       "5    either (0.46)     meant (0.17)   standard (0.08)  \n",
       "6      gave (0.42)   looking (0.17)  bollywood (0.08)  \n",
       "7     laugh (0.34)      ruin (0.15)     worked (0.07)  \n",
       "8      cool (0.32)    appeal (0.13)    equally (0.07)  \n",
       "9    seagal (0.29)  describe (0.12)     dubbed (0.07)  "
      ]
     },
     "execution_count": 145,
     "metadata": {},
     "output_type": "execute_result"
    }
   ],
   "source": [
    "c2_t"
   ]
  },
  {
   "cell_type": "markdown",
   "metadata": {},
   "source": [
    "## 5 Reduced Dimension Inputs"
   ]
  },
  {
   "cell_type": "markdown",
   "metadata": {},
   "source": [
    "### 5.1 UMAP"
   ]
  },
  {
   "cell_type": "code",
   "execution_count": null,
   "metadata": {},
   "outputs": [],
   "source": [
    "### TODO: lcwmd with UMAP"
   ]
  },
  {
   "cell_type": "code",
   "execution_count": 170,
   "metadata": {},
   "outputs": [
    {
     "name": "stdout",
     "output_type": "stream",
     "text": [
      "Calculated distances between approximately 0 documents.\n",
      "Calculated distances between approximately 100 documents.\n",
      "Calculated distances between approximately 200 documents.\n",
      "Calculated distances between approximately 300 documents.\n",
      "Calculated distances between approximately 400 documents.\n",
      "CPU times: user 1min 34s, sys: 4.71 s, total: 1min 39s\n",
      "Wall time: 1min 30s\n"
     ]
    }
   ],
   "source": [
    "%%time \n",
    "\n",
    "wmd_pairs_flow_uvecs = WMDPairs(pos_docs,neg_docs,pairs,E_umap,idx2word)\n",
    "wmd_pairs_flow_uvecs.get_distances(return_flow = True, \n",
    "                               sum_clusters = True, \n",
    "                               w2c = word2cluster_u, \n",
    "                               c2w = cluster2words_u,\n",
    "                               thread = True)"
   ]
  },
  {
   "cell_type": "markdown",
   "metadata": {},
   "source": [
    "### 5.2 T-SNE"
   ]
  },
  {
   "cell_type": "markdown",
   "metadata": {},
   "source": [
    "## 6 Statistical Models"
   ]
  },
  {
   "cell_type": "code",
   "execution_count": 234,
   "metadata": {},
   "outputs": [],
   "source": [
    "import statsmodels.api as sm"
   ]
  },
  {
   "cell_type": "code",
   "execution_count": 317,
   "metadata": {},
   "outputs": [
    {
     "data": {
      "text/plain": [
       "0.39088"
      ]
     },
     "execution_count": 317,
     "metadata": {},
     "output_type": "execute_result"
    }
   ],
   "source": [
    "np.max(wmd_pairs_flow.X1_feat)"
   ]
  },
  {
   "cell_type": "code",
   "execution_count": 276,
   "metadata": {},
   "outputs": [],
   "source": [
    "feats = np.copy(wmd_pairs_flow.X1_feat)"
   ]
  },
  {
   "cell_type": "code",
   "execution_count": 277,
   "metadata": {},
   "outputs": [
    {
     "data": {
      "text/plain": [
       "array([[1., 0., 0., ..., 0., 0., 1.],\n",
       "       [0., 1., 0., ..., 1., 1., 1.],\n",
       "       [0., 0., 0., ..., 0., 1., 0.],\n",
       "       ...,\n",
       "       [0., 1., 0., ..., 1., 1., 0.],\n",
       "       [0., 0., 0., ..., 1., 0., 0.],\n",
       "       [0., 1., 1., ..., 1., 1., 1.]])"
      ]
     },
     "execution_count": 277,
     "metadata": {},
     "output_type": "execute_result"
    }
   ],
   "source": [
    "feats[feats>0] = 1\n",
    "feats"
   ]
  },
  {
   "cell_type": "code",
   "execution_count": 258,
   "metadata": {},
   "outputs": [
    {
     "data": {
      "text/plain": [
       "39.0"
      ]
     },
     "execution_count": 258,
     "metadata": {},
     "output_type": "execute_result"
    }
   ],
   "source": [
    "np.sum(feats[0,])"
   ]
  },
  {
   "cell_type": "code",
   "execution_count": 279,
   "metadata": {},
   "outputs": [],
   "source": [
    "ols = sm.OLS(np.sum(wmd_pairs_flow.X1_feat, axis=1), feats)\n",
    "res = ols.fit()"
   ]
  },
  {
   "cell_type": "code",
   "execution_count": 289,
   "metadata": {},
   "outputs": [],
   "source": [
    "params = list(np.round(res.params, 3))"
   ]
  },
  {
   "cell_type": "code",
   "execution_count": 309,
   "metadata": {},
   "outputs": [
    {
     "data": {
      "text/plain": [
       "15"
      ]
     },
     "execution_count": 309,
     "metadata": {},
     "output_type": "execute_result"
    }
   ],
   "source": [
    "params.index(sorted(params)[-97])"
   ]
  },
  {
   "cell_type": "code",
   "execution_count": 311,
   "metadata": {},
   "outputs": [
    {
     "data": {
      "text/plain": [
       "0.003"
      ]
     },
     "execution_count": 311,
     "metadata": {},
     "output_type": "execute_result"
    }
   ],
   "source": [
    "params[97]"
   ]
  },
  {
   "cell_type": "code",
   "execution_count": 318,
   "metadata": {},
   "outputs": [
    {
     "name": "stdout",
     "output_type": "stream",
     "text": [
      "['addressed', 'allowed', 'apparent', 'avoids', 'breakdown', 'carefully', 'central', 'central_character', 'change', 'changing', 'choosing', 'chosen', 'claustrophobia', 'clear', 'close', 'closest', 'coincidence', 'comedy_tragedy', 'common', 'complicated', 'concentrate', 'concerned', 'concerning', 'conflict', 'connect', 'connected', 'connecting', 'connection', 'consequently', 'construct', 'contempt', 'continuing', 'conviction', 'dealt', 'despicable', 'despite_fact', 'detached', 'develop', 'developed', 'developing', 'development', 'develops', 'device', 'dignity', 'disparate', 'dominate', 'dramatically', 'drawn', 'eliminated', 'encountered', 'establish', 'established', 'establishing', 'event', 'event_unfold', 'evolve', 'evolves', 'explicitly', 'explored', 'fall_apart', 'feel_sympathy', 'fictional', 'focus', 'focused', 'focusing', 'follow', 'following', 'form', 'forward', 'foundation', 'framework', 'gap', 'general', 'glimpse', 'gradual', 'hint', 'hinted', 'hopeless', 'identified', 'ignoring', 'illustrate', 'illustrates', 'incident', 'increasingly', 'inevitable', 'inevitably', 'initial', 'interact', 'interaction', 'interest', 'intertwine', 'intertwined', 'interwoven', 'ironically', 'key', 'laid', 'larger', 'lead', 'leading', 'link', 'linked', 'literal', 'love_triangle', 'madness', 'major', 'manifest', 'metaphorical', 'metaphysical', 'missing', 'misunderstood', 'namely', 'neglected', 'never_fully', 'observer', 'occur', 'occurrence', 'occurring', 'occurs', 'offered', 'onesided', 'ongoing', 'opposed', 'ordinary', 'origin', 'outcome', 'outrage', 'parallel', 'participant', 'past', 'past_present', 'pattern', 'physical', 'pivotal', 'possibility', 'present', 'primary', 'progress', 'protagonist', 'puzzle', 'quickly', 'rapidly', 'reflected', 'reflecting', 'reflection', 'regarding', 'relation', 'relentless', 'remain', 'remains', 'resolve', 'resolved', 'resulting', 'reveal', 'revealed', 'revelation', 'schizophrenic', 'seemingly', 'selected', 'sens', 'separate', 'serf', 'serve', 'served', 'shaped', 'showing', 'showing_u', 'shown', 'significance', 'slowly', 'solved', 'sordid', 'span', 'story_told', 'story_unfolds', 'strength', 'strong', 'successfully', 'surface', 'taking_place', 'telling_story', 'tendency', 'thread', 'timeline', 'transcend', 'treatment', 'triumph', 'turning_point', 'unclear', 'unexplained', 'unfolding', 'unfolds', 'unlikely', 'unravel', 'unsuccessful', 'us', 'use', 'used', 'using', 'weakness', 'within']\n"
     ]
    }
   ],
   "source": [
    "print(cluster2words[97])"
   ]
  },
  {
   "cell_type": "markdown",
   "metadata": {},
   "source": [
    "## Appendix: Many-to-many WMD"
   ]
  },
  {
   "cell_type": "markdown",
   "metadata": {},
   "source": [
    "This was a first attempt to do the flows from words between many documents, without first filtering using Gale-Shapeley. However, this proved too inefficient. As you can see looking at the CPU times, it is very slow even with extremely small samples and the time complexity is quadratic (or worse?), meaning it rapidly gets even worse as the sample size increases."
   ]
  },
  {
   "cell_type": "code",
   "execution_count": 155,
   "metadata": {},
   "outputs": [
    {
     "name": "stdout",
     "output_type": "stream",
     "text": [
      "CPU times: user 1min 48s, sys: 12.7 s, total: 2min 1s\n",
      "Wall time: 50 s\n"
     ]
    }
   ],
   "source": [
    "%time m2m_distances = WMDManyToMany(pos_docs[:20], neg_docs[:20],E,idx2word).get_distances(return_flow = False)"
   ]
  },
  {
   "cell_type": "code",
   "execution_count": 156,
   "metadata": {},
   "outputs": [
    {
     "name": "stdout",
     "output_type": "stream",
     "text": [
      "CPU times: user 1min 52s, sys: 13.5 s, total: 2min 5s\n",
      "Wall time: 51.4 s\n"
     ]
    }
   ],
   "source": [
    "%time m2m_distances_flow, wc_X1, wc_X2 = WMDManyToMany(pos_docs[:20],neg_docs[:20],E,idx2word).get_distances(return_flow = True)"
   ]
  },
  {
   "cell_type": "code",
   "execution_count": 157,
   "metadata": {},
   "outputs": [
    {
     "data": {
      "text/plain": [
       "{'karen': 8.69223,\n",
       " 'wrenching': 8.31882,\n",
       " 'carpenter': 7.468960000000001,\n",
       " 'laughter': 7.467879999999999,\n",
       " 'liked': 6.864090000000003,\n",
       " 'mom': 6.791519999999999,\n",
       " 'gut': 6.759419999999999,\n",
       " 'love': 6.551409999999997,\n",
       " 'camp': 6.533080000000001,\n",
       " 'hr': 6.1393699999999995}"
      ]
     },
     "execution_count": 157,
     "metadata": {},
     "output_type": "execute_result"
    }
   ],
   "source": [
    "{k: v for k, v in sorted(wc_X1.items(), key=lambda item: item[1], reverse=True)[:10]}"
   ]
  },
  {
   "cell_type": "code",
   "execution_count": 158,
   "metadata": {},
   "outputs": [
    {
     "data": {
      "text/plain": [
       "{'hopper': 8.372459999999998,\n",
       " 'jake': 7.63837,\n",
       " 'movie': 7.267059999999995,\n",
       " 'film': 6.936379999999998,\n",
       " 'shakespeare': 5.99276,\n",
       " 'oddness': 5.53033,\n",
       " 'terrible': 4.943440000000001,\n",
       " 'parent': 4.751790000000001,\n",
       " 'actor': 4.672620000000001,\n",
       " 'bad': 4.430020000000002}"
      ]
     },
     "execution_count": 158,
     "metadata": {},
     "output_type": "execute_result"
    }
   ],
   "source": [
    "{k: v for k, v in sorted(wc_X2.items(), key=lambda item: item[1], reverse=True)[:10]}"
   ]
  },
  {
   "cell_type": "code",
   "execution_count": null,
   "metadata": {},
   "outputs": [],
   "source": []
  }
 ],
 "metadata": {
  "kernelspec": {
   "display_name": "venv-fwmd",
   "language": "python",
   "name": "venv-fwmd"
  },
  "language_info": {
   "codemirror_mode": {
    "name": "ipython",
    "version": 3
   },
   "file_extension": ".py",
   "mimetype": "text/x-python",
   "name": "python",
   "nbconvert_exporter": "python",
   "pygments_lexer": "ipython3",
   "version": "3.8.3"
  }
 },
 "nbformat": 4,
 "nbformat_minor": 4
}

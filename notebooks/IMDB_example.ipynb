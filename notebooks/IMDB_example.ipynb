{
 "cells": [
  {
   "cell_type": "code",
   "execution_count": 1,
   "metadata": {},
   "outputs": [],
   "source": [
    "import os\n",
    "import sys\n",
    "\n",
    "root_dir = os.path.join(os.getcwd(), '..')\n",
    "sys.path.append(root_dir)"
   ]
  },
  {
   "cell_type": "code",
   "execution_count": 167,
   "metadata": {},
   "outputs": [
    {
     "name": "stdout",
     "output_type": "stream",
     "text": [
      "The autoreload extension is already loaded. To reload it, use:\n",
      "  %reload_ext autoreload\n"
     ]
    }
   ],
   "source": [
    "from collections import defaultdict\n",
    "from flow_wmd.documents import Document\n",
    "from flow_wmd.gale_shapeley import Matcher\n",
    "from flow_wmd.models import LC_RWMD, WMD, WMDManyToMany, WMDPairs\n",
    "from flow_wmd.utils import *\n",
    "\n",
    "from gensim.models import KeyedVectors\n",
    "from nltk.corpus import stopwords\n",
    "from nltk.tokenize.toktok import ToktokTokenizer\n",
    "from sklearn.feature_extraction.text import TfidfVectorizer\n",
    "from sklearn import cluster\n",
    "\n",
    "import matplotlib.pyplot as plt\n",
    "import numpy as np\n",
    "import pandas as pd\n",
    "import re\n",
    "\n",
    "%load_ext autoreload\n",
    "%autoreload 2"
   ]
  },
  {
   "cell_type": "markdown",
   "metadata": {},
   "source": [
    "## 1. Prepare IMDB data"
   ]
  },
  {
   "cell_type": "markdown",
   "metadata": {},
   "source": [
    "### 1.1 Load data and stopwords."
   ]
  },
  {
   "cell_type": "code",
   "execution_count": 3,
   "metadata": {},
   "outputs": [],
   "source": [
    "PATH = \"../data/\"\n",
    "imdb_data = pd.read_csv(f\"{PATH}IMDB_Dataset.csv\")\n",
    "stopword_list=stopwords.words('english')"
   ]
  },
  {
   "cell_type": "markdown",
   "metadata": {},
   "source": [
    "### 1.2 Remove special formatting and stopwords"
   ]
  },
  {
   "cell_type": "markdown",
   "metadata": {},
   "source": [
    "Remove stopwords before denoising, lemmatizing and removing special characters."
   ]
  },
  {
   "cell_type": "code",
   "execution_count": 7,
   "metadata": {},
   "outputs": [
    {
     "name": "stdout",
     "output_type": "stream",
     "text": [
      "CPU times: user 35.4 s, sys: 223 ms, total: 35.7 s\n",
      "Wall time: 36.1 s\n"
     ]
    }
   ],
   "source": [
    "%%time \n",
    "\n",
    "tokenizer=ToktokTokenizer()\n",
    "imdb_data['review_clean']= [remove_stopwords(r, stopword_list, tokenizer) for r in imdb_data['review']]"
   ]
  },
  {
   "cell_type": "markdown",
   "metadata": {},
   "source": [
    "Denoise, remove special characters, lemmatize."
   ]
  },
  {
   "cell_type": "code",
   "execution_count": 11,
   "metadata": {},
   "outputs": [
    {
     "name": "stdout",
     "output_type": "stream",
     "text": [
      "CPU times: user 24.8 s, sys: 192 ms, total: 25 s\n",
      "Wall time: 25.3 s\n"
     ]
    }
   ],
   "source": [
    "%%time\n",
    "\n",
    "imdb_data['review_clean']=imdb_data['review_clean'].apply(denoise_text)\n",
    "imdb_data['review_clean']=imdb_data['review_clean'].apply(remove_special_characters)\n",
    "imdb_data['review_clean']=imdb_data['review_clean'].apply(simple_lemmatizer)"
   ]
  },
  {
   "cell_type": "markdown",
   "metadata": {},
   "source": [
    "Remove stopwords again, after other preprocessing."
   ]
  },
  {
   "cell_type": "code",
   "execution_count": 17,
   "metadata": {},
   "outputs": [
    {
     "name": "stdout",
     "output_type": "stream",
     "text": [
      "CPU times: user 19.8 s, sys: 67.1 ms, total: 19.8 s\n",
      "Wall time: 20 s\n"
     ]
    }
   ],
   "source": [
    "%%time \n",
    "\n",
    "imdb_data['review_clean']= [remove_stopwords(r, stopword_list, tokenizer) for r in imdb_data['review_clean']]"
   ]
  },
  {
   "cell_type": "markdown",
   "metadata": {},
   "source": [
    "Data _before_ preprocessing."
   ]
  },
  {
   "cell_type": "code",
   "execution_count": 18,
   "metadata": {},
   "outputs": [
    {
     "data": {
      "text/plain": [
       "\"One of the other reviewers has mentioned that after watching just 1 Oz episode you'll be hooked. They are right, as this is exactly what happened with me.<br /><br />The first thing that struck me about Oz was its brutality and unflinching scenes of violence, which set in right from the word GO. Trust me, this is not a show for the faint hearted or timid. This show pulls no punches with regards to drugs, sex or violence. Its is hardcore, in the classic use of the word.<br /><br />It is called OZ as that is the nickname given to the Oswald Maximum Security State Penitentary. It focuses mainly on Emerald City, an experimental section of the prison where all the cells have glass fronts and face inwards, so privacy is not high on the agenda. Em City is home to many..Aryans, Muslims, gangstas, Latinos, Christians, Italians, Irish and more....so scuffles, death stares, dodgy dealings and shady agreements are never far away.<br /><br />I would say the main appeal of the show is due to the fact that it goes where other shows wouldn't dare. Forget pretty pictures painted for mainstream audiences, forget charm, forget romance...OZ doesn't mess around. The first episode I ever saw struck me as so nasty it was surreal, I couldn't say I was ready for it, but as I watched more, I developed a taste for Oz, and got accustomed to the high levels of graphic violence. Not just violence, but injustice (crooked guards who'll be sold out for a nickel, inmates who'll kill on order and get away with it, well mannered, middle class inmates being turned into prison bitches due to their lack of street skills or prison experience) Watching Oz, you may become comfortable with what is uncomfortable viewing....thats if you can get in touch with your darker side.\""
      ]
     },
     "execution_count": 18,
     "metadata": {},
     "output_type": "execute_result"
    }
   ],
   "source": [
    "imdb_data['review'][0]"
   ]
  },
  {
   "cell_type": "markdown",
   "metadata": {},
   "source": [
    "Data _after_ preprocessing."
   ]
  },
  {
   "cell_type": "code",
   "execution_count": 19,
   "metadata": {},
   "outputs": [
    {
     "data": {
      "text/plain": [
       "'one reviewer mentioned watching oz episode hooked right exactly happened first thing struck oz brutality unflinching scene violence set right word go trust show faint hearted timid show pull punch regard drug sex violence hardcore classic use word called oz nickname given oswald maximum security state penitentary focus mainly emerald city experimental section prison cell glass front face inwards privacy high agenda em city home many aryan muslim gangsta latino christian italian irish scuffle death stare dodgy dealing shady agreement never far away would say main appeal show due fact go show dare forget pretty picture painted mainstream audience forget charm forget romance oz mess around first episode ever saw struck nasty surreal say ready watched developed taste oz got accustomed high level graphic violence violence injustice crooked guard sold nickel inmate kill order get away well mannered middle class inmate turned prison bitch due lack street skill prison experience watching oz may become comfortable uncomfortable viewing thats get touch darker side'"
      ]
     },
     "execution_count": 19,
     "metadata": {},
     "output_type": "execute_result"
    }
   ],
   "source": [
    "imdb_data['review_clean'][0]"
   ]
  },
  {
   "cell_type": "markdown",
   "metadata": {},
   "source": [
    "### 1.3 Separate pos and neg reviews"
   ]
  },
  {
   "cell_type": "code",
   "execution_count": 20,
   "metadata": {},
   "outputs": [],
   "source": [
    "pos = imdb_data[imdb_data.sentiment == \"positive\"].reset_index(drop=True)\n",
    "neg = imdb_data[imdb_data.sentiment == \"negative\"].reset_index(drop=True)"
   ]
  },
  {
   "cell_type": "code",
   "execution_count": 21,
   "metadata": {},
   "outputs": [],
   "source": [
    "pos = pos.review_clean.tolist()\n",
    "neg = neg.review_clean.tolist()"
   ]
  },
  {
   "cell_type": "markdown",
   "metadata": {},
   "source": [
    "## 2. WMD"
   ]
  },
  {
   "cell_type": "markdown",
   "metadata": {},
   "source": [
    "### 2.1 Tokenize and \"sample\" data"
   ]
  },
  {
   "cell_type": "code",
   "execution_count": 29,
   "metadata": {},
   "outputs": [],
   "source": [
    "pos_tok = list(map(lambda x: tokenize(x, tokenizer), pos[:500]))\n",
    "neg_tok = list(map(lambda x: tokenize(x, tokenizer), neg[:500]))"
   ]
  },
  {
   "cell_type": "code",
   "execution_count": 30,
   "metadata": {},
   "outputs": [],
   "source": [
    "pos_sample = [\" \".join(doc) for doc in pos_tok]\n",
    "neg_sample = [\" \".join(doc) for doc in neg_tok]"
   ]
  },
  {
   "cell_type": "markdown",
   "metadata": {},
   "source": [
    "### 2.2 Load pretrained Google News W2V model"
   ]
  },
  {
   "cell_type": "code",
   "execution_count": 32,
   "metadata": {},
   "outputs": [],
   "source": [
    "finetuned = True"
   ]
  },
  {
   "cell_type": "code",
   "execution_count": 34,
   "metadata": {},
   "outputs": [
    {
     "name": "stdout",
     "output_type": "stream",
     "text": [
      "Loading GoogleNews Vectors finetuned using IMDB review data.\n",
      "CPU times: user 18.9 s, sys: 273 ms, total: 19.2 s\n",
      "Wall time: 19.4 s\n"
     ]
    }
   ],
   "source": [
    "if not finetuned:\n",
    "    print(\"Loading GoogleNews Vectors\")\n",
    "    %time model = KeyedVectors.load_word2vec_format('../embeddings/GoogleNews-vectors-negative300.bin.gz', binary=True)\n",
    "else:\n",
    "    print(\"Loading GoogleNews Vectors finetuned using IMDB review data.\")\n",
    "    %time model = KeyedVectors.load_word2vec_format('../embeddings/imdb_w2v.txt', binary=False)"
   ]
  },
  {
   "cell_type": "markdown",
   "metadata": {},
   "source": [
    "### 2.3 Load corpus and remove OOV words"
   ]
  },
  {
   "cell_type": "code",
   "execution_count": 39,
   "metadata": {},
   "outputs": [
    {
     "name": "stdout",
     "output_type": "stream",
     "text": [
      "CPU times: user 19 µs, sys: 0 ns, total: 19 µs\n",
      "Wall time: 21 µs\n",
      "CPU times: user 241 ms, sys: 5.27 ms, total: 246 ms\n",
      "Wall time: 247 ms\n"
     ]
    },
    {
     "data": {
      "text/plain": [
       "TfidfVectorizer(norm='l1',\n",
       "                tokenizer=<function tfidf_tokenize at 0x7ff61fd320d0>,\n",
       "                use_idf=False)"
      ]
     },
     "execution_count": 39,
     "metadata": {},
     "output_type": "execute_result"
    }
   ],
   "source": [
    "corpus = pos_sample + neg_sample\n",
    "\n",
    "%time vectorizer = TfidfVectorizer(use_idf=False, tokenizer=tfidf_tokenize, norm='l1')\n",
    "%time vectorizer.fit(corpus)"
   ]
  },
  {
   "cell_type": "code",
   "execution_count": 40,
   "metadata": {},
   "outputs": [
    {
     "name": "stdout",
     "output_type": "stream",
     "text": [
      "CPU times: user 12.1 ms, sys: 439 µs, total: 12.5 ms\n",
      "Wall time: 12.4 ms\n"
     ]
    }
   ],
   "source": [
    "%time oov = [word for word in vectorizer.get_feature_names() if word not in model.key_to_index.keys()]"
   ]
  },
  {
   "cell_type": "code",
   "execution_count": 41,
   "metadata": {},
   "outputs": [
    {
     "data": {
      "text/plain": [
       "2037"
      ]
     },
     "execution_count": 41,
     "metadata": {},
     "output_type": "execute_result"
    }
   ],
   "source": [
    "len(oov)"
   ]
  },
  {
   "cell_type": "code",
   "execution_count": 45,
   "metadata": {},
   "outputs": [
    {
     "name": "stdout",
     "output_type": "stream",
     "text": [
      "CPU times: user 1.5 s, sys: 6.75 ms, total: 1.51 s\n",
      "Wall time: 1.52 s\n",
      "CPU times: user 1.4 s, sys: 5.97 ms, total: 1.4 s\n",
      "Wall time: 1.41 s\n"
     ]
    }
   ],
   "source": [
    "%time pos_sample = list(map(lambda x: remove_oov(x, tokenizer, oov), pos_sample[:500]))\n",
    "%time neg_sample = list(map(lambda x: remove_oov(x, tokenizer, oov), neg_sample[:500]))"
   ]
  },
  {
   "cell_type": "code",
   "execution_count": 46,
   "metadata": {},
   "outputs": [
    {
     "data": {
      "text/plain": [
       "'one reviewer mentioned watching oz episode hooked right exactly happened first thing struck oz brutality unflinching scene violence set right word go trust show faint hearted timid show pull punch regard drug sex violence hardcore classic use word called oz nickname given oswald maximum security state penitentary focus mainly emerald city experimental section prison cell glass front face inwards privacy high agenda em city home many aryan muslim gangsta latino christian italian irish scuffle death stare dodgy dealing shady agreement never far away would say main appeal show due fact go show dare forget pretty picture painted mainstream audience forget charm forget romance oz mess around first episode ever saw struck nasty surreal say ready watched developed taste oz got accustomed high level graphic violence violence injustice crooked guard sold nickel inmate kill order get away well mannered middle class inmate turned prison bitch due lack street skill prison experience watching oz may become comfortable uncomfortable viewing thats get touch darker side'"
      ]
     },
     "execution_count": 46,
     "metadata": {},
     "output_type": "execute_result"
    }
   ],
   "source": [
    "pos_sample[0]"
   ]
  },
  {
   "cell_type": "code",
   "execution_count": 48,
   "metadata": {},
   "outputs": [
    {
     "name": "stdout",
     "output_type": "stream",
     "text": [
      "CPU times: user 23 µs, sys: 0 ns, total: 23 µs\n",
      "Wall time: 26 µs\n",
      "CPU times: user 227 ms, sys: 3.78 ms, total: 231 ms\n",
      "Wall time: 230 ms\n"
     ]
    },
    {
     "data": {
      "text/plain": [
       "TfidfVectorizer(norm='l1',\n",
       "                tokenizer=<function tfidf_tokenize at 0x7ff61fd320d0>)"
      ]
     },
     "execution_count": 48,
     "metadata": {},
     "output_type": "execute_result"
    }
   ],
   "source": [
    "corpus = pos_sample + neg_sample\n",
    "\n",
    "%time vectorizer = TfidfVectorizer(use_idf=True, tokenizer=tfidf_tokenize,norm='l1')\n",
    "%time vectorizer.fit(corpus)"
   ]
  },
  {
   "cell_type": "markdown",
   "metadata": {},
   "source": [
    "Bag-of-words vectorizer."
   ]
  },
  {
   "cell_type": "code",
   "execution_count": 49,
   "metadata": {},
   "outputs": [
    {
     "name": "stdout",
     "output_type": "stream",
     "text": [
      "CPU times: user 1e+03 ns, sys: 1 µs, total: 2 µs\n",
      "Wall time: 3.81 µs\n"
     ]
    }
   ],
   "source": [
    "%time\n",
    "pos_nbow = vectorizer.transform(pos_sample)\n",
    "neg_nbow = vectorizer.transform(neg_sample)"
   ]
  },
  {
   "cell_type": "code",
   "execution_count": 51,
   "metadata": {},
   "outputs": [],
   "source": [
    "pos_tok = list(map(lambda x: tokenize(x, tokenizer), pos_sample[:500]))\n",
    "neg_tok =list(map(lambda x: tokenize(x, tokenizer), neg_sample[:500]))"
   ]
  },
  {
   "cell_type": "code",
   "execution_count": 52,
   "metadata": {},
   "outputs": [
    {
     "data": {
      "text/plain": [
       "['one',\n",
       " 'reviewer',\n",
       " 'mentioned',\n",
       " 'watching',\n",
       " 'oz',\n",
       " 'episode',\n",
       " 'hooked',\n",
       " 'right',\n",
       " 'exactly',\n",
       " 'happened',\n",
       " 'first',\n",
       " 'thing',\n",
       " 'struck',\n",
       " 'oz',\n",
       " 'brutality',\n",
       " 'unflinching',\n",
       " 'scene',\n",
       " 'violence',\n",
       " 'set',\n",
       " 'right']"
      ]
     },
     "execution_count": 52,
     "metadata": {},
     "output_type": "execute_result"
    }
   ],
   "source": [
    "pos_tok[0][:20]"
   ]
  },
  {
   "cell_type": "code",
   "execution_count": 53,
   "metadata": {},
   "outputs": [
    {
     "name": "stdout",
     "output_type": "stream",
     "text": [
      "CPU times: user 14.6 ms, sys: 539 µs, total: 15.2 ms\n",
      "Wall time: 14.9 ms\n"
     ]
    }
   ],
   "source": [
    "%time oov_ = [word for word in vectorizer.get_feature_names() if word not in model.key_to_index.keys()]"
   ]
  },
  {
   "cell_type": "code",
   "execution_count": 54,
   "metadata": {},
   "outputs": [
    {
     "data": {
      "text/plain": [
       "0"
      ]
     },
     "execution_count": 54,
     "metadata": {},
     "output_type": "execute_result"
    }
   ],
   "source": [
    "len(oov_)"
   ]
  },
  {
   "cell_type": "markdown",
   "metadata": {},
   "source": [
    "### 2.4 Get features and embeddings"
   ]
  },
  {
   "cell_type": "code",
   "execution_count": 55,
   "metadata": {},
   "outputs": [],
   "source": [
    "features = vectorizer.get_feature_names()\n",
    "word2idx = {word: idx for idx, word in enumerate(vectorizer.get_feature_names())}\n",
    "idx2word = {idx: word for idx, word in enumerate(vectorizer.get_feature_names())}"
   ]
  },
  {
   "cell_type": "markdown",
   "metadata": {},
   "source": [
    "Get the embedding matrix \"E\" for all features."
   ]
  },
  {
   "cell_type": "code",
   "execution_count": 56,
   "metadata": {},
   "outputs": [],
   "source": [
    "E = np.vstack([model.get_vector(word) for word in vectorizer.get_feature_names()])"
   ]
  },
  {
   "cell_type": "markdown",
   "metadata": {},
   "source": [
    "### 2.5 Cluster"
   ]
  },
  {
   "cell_type": "markdown",
   "metadata": {},
   "source": [
    "In order to make the results of the WMD model more interpretable, we add the option to inspect the output not only by individual words, but also by *word clusters*. We do this by clustering the input words with two different algorithms\n",
    "and assigning each word to a cluster."
   ]
  },
  {
   "cell_type": "markdown",
   "metadata": {},
   "source": [
    "#### 2.5.1 Kmeans"
   ]
  },
  {
   "cell_type": "markdown",
   "metadata": {},
   "source": [
    "First, we get the embeddings for the words that are in our feature space."
   ]
  },
  {
   "cell_type": "code",
   "execution_count": 57,
   "metadata": {},
   "outputs": [],
   "source": [
    "X = model[features]"
   ]
  },
  {
   "cell_type": "markdown",
   "metadata": {},
   "source": [
    "Then we select the number of clusters we want, initialize the Kmeans model and fit it."
   ]
  },
  {
   "cell_type": "code",
   "execution_count": 216,
   "metadata": {},
   "outputs": [
    {
     "name": "stdout",
     "output_type": "stream",
     "text": [
      "5\n",
      "10\n",
      "15\n",
      "20\n",
      "25\n",
      "30\n",
      "35\n",
      "40\n",
      "45\n",
      "50\n",
      "55\n",
      "60\n",
      "65\n",
      "70\n",
      "75\n",
      "80\n",
      "85\n",
      "90\n",
      "95\n",
      "100\n",
      "105\n",
      "110\n",
      "115\n",
      "120\n",
      "125\n",
      "130\n",
      "135\n",
      "140\n",
      "145\n",
      "150\n",
      "155\n",
      "160\n",
      "165\n",
      "170\n",
      "175\n",
      "180\n",
      "185\n",
      "190\n",
      "195\n",
      "200\n",
      "CPU times: user 56min 36s, sys: 6min 55s, total: 1h 3min 31s\n",
      "Wall time: 14min 33s\n"
     ]
    }
   ],
   "source": [
    "%%time\n",
    "\n",
    "sum_of_squared_distances = []\n",
    "K = range(5,205, 5)\n",
    "for k in K:\n",
    "    km = cluster.KMeans(n_clusters=k)\n",
    "    km = km.fit(X)\n",
    "    sum_of_squared_distances.append(km.inertia_)\n",
    "    print(k)"
   ]
  },
  {
   "cell_type": "code",
   "execution_count": 219,
   "metadata": {},
   "outputs": [
    {
     "data": {
      "image/png": "[encoded data removed]",
      "text/plain": [
       "<Figure size 432x288 with 1 Axes>"
      ]
     },
     "metadata": {
      "needs_background": "light"
     },
     "output_type": "display_data"
    }
   ],
   "source": [
    "plt.plot(K, sum_of_squared_distances, 'bx-')\n",
    "plt.xlabel('k')\n",
    "plt.ylabel('Sum of squared distances')\n",
    "plt.title('Elbow Method For Optimal k')\n",
    "plt.show()"
   ]
  },
  {
   "cell_type": "code",
   "execution_count": 271,
   "metadata": {},
   "outputs": [
    {
     "data": {
      "text/plain": [
       "KMeans(n_clusters=50)"
      ]
     },
     "execution_count": 271,
     "metadata": {},
     "output_type": "execute_result"
    }
   ],
   "source": [
    "NUM_CLUSTERS = 50\n",
    "kmeans = cluster.KMeans(n_clusters=NUM_CLUSTERS, verbose=0)\n",
    "kmeans.fit(X)"
   ]
  },
  {
   "cell_type": "markdown",
   "metadata": {},
   "source": [
    "Assign labels and centroids to separate variables for later use."
   ]
  },
  {
   "cell_type": "markdown",
   "metadata": {},
   "source": [
    "#### 2.5.2 DBScan"
   ]
  },
  {
   "cell_type": "code",
   "execution_count": 221,
   "metadata": {},
   "outputs": [],
   "source": [
    "from sklearn.cluster import DBSCAN\n",
    "from sklearn import metrics\n",
    "from sklearn.datasets import make_blobs\n",
    "from sklearn.preprocessing import StandardScaler"
   ]
  },
  {
   "cell_type": "code",
   "execution_count": 228,
   "metadata": {},
   "outputs": [
    {
     "name": "stdout",
     "output_type": "stream",
     "text": [
      "CPU times: user 4.71 s, sys: 2.3 s, total: 7.01 s\n",
      "Wall time: 4.46 s\n"
     ]
    }
   ],
   "source": [
    "%%time\n",
    "\n",
    "db = DBSCAN(metric='cosine', eps=1.2, min_samples=10).fit(X)\n",
    "core_samples_mask = np.zeros_like(db.labels_, dtype=bool)\n",
    "core_samples_mask[db.core_sample_indices_] = True\n",
    "labels = db.labels_"
   ]
  },
  {
   "cell_type": "code",
   "execution_count": 229,
   "metadata": {},
   "outputs": [],
   "source": [
    "# Number of clusters in labels, ignoring noise if present.\n",
    "n_clusters_ = len(set(labels)) - (1 if -1 in labels else 0)\n",
    "n_noise_ = list(labels).count(-1)"
   ]
  },
  {
   "cell_type": "code",
   "execution_count": 230,
   "metadata": {},
   "outputs": [
    {
     "data": {
      "text/plain": [
       "1"
      ]
     },
     "execution_count": 230,
     "metadata": {},
     "output_type": "execute_result"
    }
   ],
   "source": [
    "n_clusters_"
   ]
  },
  {
   "cell_type": "markdown",
   "metadata": {},
   "source": [
    "#### 2.5.3 PCA & Kmeans"
   ]
  },
  {
   "cell_type": "code",
   "execution_count": 233,
   "metadata": {},
   "outputs": [],
   "source": [
    "from sklearn.decomposition import PCA"
   ]
  },
  {
   "cell_type": "code",
   "execution_count": 237,
   "metadata": {},
   "outputs": [],
   "source": [
    "pca = PCA(n_components=2)\n",
    "X_pca = pca.fit_transform(X)"
   ]
  },
  {
   "cell_type": "code",
   "execution_count": 239,
   "metadata": {},
   "outputs": [
    {
     "name": "stdout",
     "output_type": "stream",
     "text": [
      "5\n",
      "10\n",
      "15\n",
      "20\n",
      "25\n",
      "30\n",
      "35\n",
      "40\n",
      "45\n",
      "50\n",
      "55\n",
      "60\n",
      "65\n",
      "70\n",
      "75\n",
      "80\n",
      "85\n",
      "90\n",
      "95\n",
      "100\n",
      "105\n",
      "110\n",
      "115\n",
      "120\n",
      "125\n",
      "130\n",
      "135\n",
      "140\n",
      "145\n",
      "150\n",
      "155\n",
      "160\n",
      "165\n",
      "170\n",
      "175\n",
      "180\n",
      "185\n",
      "190\n",
      "195\n",
      "200\n",
      "CPU times: user 9min 16s, sys: 25 s, total: 9min 41s\n",
      "Wall time: 1min 31s\n"
     ]
    }
   ],
   "source": [
    "%%time\n",
    "\n",
    "sosd_pca = []\n",
    "K_pca = range(5,205, 5)\n",
    "for k in K_pca:\n",
    "    km = cluster.KMeans(n_clusters=k)\n",
    "    km = km.fit(X_pca)\n",
    "    sosd_pca.append(km.inertia_)\n",
    "    print(k)"
   ]
  },
  {
   "cell_type": "code",
   "execution_count": 240,
   "metadata": {},
   "outputs": [],
   "source": [
    "K_pca = K"
   ]
  },
  {
   "cell_type": "code",
   "execution_count": 241,
   "metadata": {},
   "outputs": [
    {
     "data": {
      "image/png": "[encoded data removed]",
      "text/plain": [
       "<Figure size 432x288 with 1 Axes>"
      ]
     },
     "metadata": {
      "needs_background": "light"
     },
     "output_type": "display_data"
    }
   ],
   "source": [
    "plt.plot(K_pca, sosd_pca, 'bx-')\n",
    "plt.xlabel('k')\n",
    "plt.ylabel('Sum of squared distances')\n",
    "plt.title('Elbow Method For Optimal k')\n",
    "plt.show()"
   ]
  },
  {
   "cell_type": "code",
   "execution_count": 243,
   "metadata": {},
   "outputs": [
    {
     "data": {
      "text/plain": [
       "KMeans(n_clusters=25)"
      ]
     },
     "execution_count": 243,
     "metadata": {},
     "output_type": "execute_result"
    }
   ],
   "source": [
    "NUM_CLUSTERS = 25\n",
    "kmeans_pca = cluster.KMeans(n_clusters=NUM_CLUSTERS, verbose=0)\n",
    "kmeans_pca.fit(X_pca)"
   ]
  },
  {
   "cell_type": "markdown",
   "metadata": {},
   "source": [
    "#### 2.5.4 Choose clustering model"
   ]
  },
  {
   "cell_type": "code",
   "execution_count": 272,
   "metadata": {},
   "outputs": [],
   "source": [
    "cluster_algo = 'kmeans'"
   ]
  },
  {
   "cell_type": "code",
   "execution_count": 274,
   "metadata": {},
   "outputs": [],
   "source": [
    "if cluster_algo == 'kmeans':\n",
    "    labels = kmeans.labels_\n",
    "    centroids = kmeans.cluster_centers_\n",
    "    \n",
    "if cluster_algo == 'kmeans_pca':\n",
    "    labels == kmeans_pca.labels_\n",
    "    centroids = kmeans_pca.cluster_centers_"
   ]
  },
  {
   "cell_type": "markdown",
   "metadata": {},
   "source": [
    "Create an index that maps each word to a cluster."
   ]
  },
  {
   "cell_type": "code",
   "execution_count": 275,
   "metadata": {},
   "outputs": [],
   "source": [
    "word2cluster = {features[idx]: cl for idx, cl in enumerate(labels)}"
   ]
  },
  {
   "cell_type": "code",
   "execution_count": 276,
   "metadata": {},
   "outputs": [
    {
     "name": "stdout",
     "output_type": "stream",
     "text": [
      "[('aaargh', 47), ('aaliyah', 35), ('aamir', 9), ('aaron', 49), ('ab', 47), ('abandon', 37), ('abandoned', 2), ('abba', 29), ('abbey', 5), ('abbot', 4)]\n"
     ]
    }
   ],
   "source": [
    "print(take(10, word2cluster.items()))"
   ]
  },
  {
   "cell_type": "markdown",
   "metadata": {},
   "source": [
    "Now, conversely, create an index that maps each cluster to a word."
   ]
  },
  {
   "cell_type": "code",
   "execution_count": 277,
   "metadata": {},
   "outputs": [],
   "source": [
    "cluster2words = defaultdict(list)\n",
    "for key, value in word2cluster.items():\n",
    "    cluster2words[value].append(key)"
   ]
  },
  {
   "cell_type": "code",
   "execution_count": 278,
   "metadata": {},
   "outputs": [
    {
     "name": "stdout",
     "output_type": "stream",
     "text": [
      "['accent', 'american', 'arabic', 'asian', 'australian', 'british', 'canadian', 'chinese', 'danish', 'dialect', 'dub', 'dubbed', 'dutch', 'english', 'european', 'foreign', 'french', 'german', 'greek', 'hebrew', 'hindi', 'indian', 'irish', 'italian', 'japanese', 'korean', 'language', 'latin', 'mexican', 'native', 'non', 'polish', 'regional', 'russian', 'scottish', 'spanish', 'speak', 'speaking', 'speaks', 'spoke', 'spoken', 'swedish', 'tamil', 'term', 'translated', 'translation', 'turkish', 'word']\n"
     ]
    }
   ],
   "source": [
    "print(cluster2words[0][:100])"
   ]
  },
  {
   "cell_type": "markdown",
   "metadata": {},
   "source": [
    "### 2.6 Initialize documents"
   ]
  },
  {
   "cell_type": "markdown",
   "metadata": {},
   "source": [
    "Transform all reviews into \"documents\", each with a set of weights per word in the corpus (\"nbow\"), the sum of these weights (\"weights_sum\"), the indeces of the words in the documents (\"idxs\") and the word vectors corresponding to each word (\"vecs\")."
   ]
  },
  {
   "cell_type": "code",
   "execution_count": 252,
   "metadata": {},
   "outputs": [
    {
     "data": {
      "text/plain": [
       "<1x14766 sparse matrix of type '<class 'numpy.float64'>'\n",
       "\twith 133 stored elements in Compressed Sparse Row format>"
      ]
     },
     "execution_count": 252,
     "metadata": {},
     "output_type": "execute_result"
    }
   ],
   "source": [
    "pos_nbow[0]"
   ]
  },
  {
   "cell_type": "code",
   "execution_count": 253,
   "metadata": {},
   "outputs": [
    {
     "name": "stdout",
     "output_type": "stream",
     "text": [
      "CPU times: user 220 ms, sys: 61.8 ms, total: 282 ms\n",
      "Wall time: 282 ms\n"
     ]
    }
   ],
   "source": [
    "%%time \n",
    "\n",
    "pos_docs, neg_docs = [], []\n",
    "\n",
    "for idx, doc in enumerate(pos_tok):\n",
    "    pos_docs.append(Document(doc, pos_nbow[idx], word2idx, E))\n",
    "    \n",
    "for idx, doc in enumerate(neg_tok):\n",
    "    neg_docs.append(Document(doc, neg_nbow[idx], word2idx, E))"
   ]
  },
  {
   "cell_type": "code",
   "execution_count": 254,
   "metadata": {},
   "outputs": [
    {
     "data": {
      "text/plain": [
       "array([[0., 0., 0., ..., 0., 0., 0.]])"
      ]
     },
     "execution_count": 254,
     "metadata": {},
     "output_type": "execute_result"
    }
   ],
   "source": [
    "pos_docs[0].nbow"
   ]
  },
  {
   "cell_type": "code",
   "execution_count": 255,
   "metadata": {},
   "outputs": [
    {
     "data": {
      "text/plain": [
       "1.0"
      ]
     },
     "execution_count": 255,
     "metadata": {},
     "output_type": "execute_result"
    }
   ],
   "source": [
    "pos_docs[0].weights_sum"
   ]
  },
  {
   "cell_type": "code",
   "execution_count": 256,
   "metadata": {},
   "outputs": [
    {
     "data": {
      "text/plain": [
       "[9728, 13334, 9238, 10277, 6187, 4652, 6699, 10286, 2094, 6701]"
      ]
     },
     "execution_count": 256,
     "metadata": {},
     "output_type": "execute_result"
    }
   ],
   "source": [
    "pos_docs[0].idxs[:10]"
   ]
  },
  {
   "cell_type": "code",
   "execution_count": 257,
   "metadata": {},
   "outputs": [
    {
     "data": {
      "text/plain": [
       "array([-0.03184877,  0.08938561, -0.23239496, -0.22144787,  0.00298812,\n",
       "       -0.16498049, -0.1524208 ,  0.21617717, -0.37542573,  0.06170934],\n",
       "      dtype=float32)"
      ]
     },
     "execution_count": 257,
     "metadata": {},
     "output_type": "execute_result"
    }
   ],
   "source": [
    "pos_docs[0].vecs[:1][0][:10]"
   ]
  },
  {
   "cell_type": "markdown",
   "metadata": {},
   "source": [
    "### 2.7 Linear-Complexity Relaxed WMD (LC-RWMD)"
   ]
  },
  {
   "cell_type": "markdown",
   "metadata": {},
   "source": [
    "Run the [Linear-Complexity Relaxed WMD](https://arxiv.org/abs/1711.07227) to get the distances between all positive and all negative reviews."
   ]
  },
  {
   "cell_type": "code",
   "execution_count": 77,
   "metadata": {},
   "outputs": [
    {
     "name": "stdout",
     "output_type": "stream",
     "text": [
      "CPU times: user 13 µs, sys: 12 µs, total: 25 µs\n",
      "Wall time: 28.8 µs\n",
      "CPU times: user 2min 22s, sys: 21 s, total: 2min 43s\n",
      "Wall time: 42.8 s\n"
     ]
    }
   ],
   "source": [
    "%time lc_rwmd = LC_RWMD(pos_docs, neg_docs,pos_nbow,neg_nbow,E)\n",
    "%time lc_rwmd.get_D()\n",
    "#%time lc_rwmd.get_L(1)\n",
    "#%time lc_rwmd.get_rwmd()"
   ]
  },
  {
   "cell_type": "markdown",
   "metadata": {},
   "source": [
    "### 2.8 Gale-Shapeley Pairing"
   ]
  },
  {
   "cell_type": "markdown",
   "metadata": {},
   "source": [
    "Use the [Gale-Shapeley matching algorithm](https://en.wikipedia.org/wiki/Gale%E2%80%93Shapley_algorithm) to find the optimal pairs between positive and negative reviews. This iterates over all the reviews and finds the set of matches that pairs each review with its optimal match given that all positive reviews have to be matched with a negative review and vice versa. The output is a dictionary of key-value pairs, where each pair represents an optimal match."
   ]
  },
  {
   "cell_type": "code",
   "execution_count": 127,
   "metadata": {},
   "outputs": [
    {
     "name": "stdout",
     "output_type": "stream",
     "text": [
      "CPU times: user 1.05 s, sys: 19.3 ms, total: 1.07 s\n",
      "Wall time: 1.08 s\n"
     ]
    }
   ],
   "source": [
    "%%time\n",
    "\n",
    "matcher = Matcher(lc_rwmd.D)\n",
    "engaged = matcher.matchmaker()\n",
    "matcher.check()\n",
    "pairs = engaged"
   ]
  },
  {
   "cell_type": "markdown",
   "metadata": {},
   "source": [
    "Let's look at the output of Gale-Shapeley:"
   ]
  },
  {
   "cell_type": "code",
   "execution_count": 128,
   "metadata": {},
   "outputs": [
    {
     "data": {
      "text/plain": [
       "[(185, 299),\n",
       " (35, 473),\n",
       " (336, 28),\n",
       " (188, 248),\n",
       " (101, 148),\n",
       " (253, 15),\n",
       " (133, 258),\n",
       " (104, 259),\n",
       " (131, 377),\n",
       " (107, 10)]"
      ]
     },
     "execution_count": 128,
     "metadata": {},
     "output_type": "execute_result"
    }
   ],
   "source": [
    "take(10, pairs.items())"
   ]
  },
  {
   "cell_type": "code",
   "execution_count": 129,
   "metadata": {},
   "outputs": [],
   "source": [
    "example_pairs = [(' '.join(word for word in pos_docs[p[0]].words), \n",
    "                  ' '.join(word for word in neg_docs[p[1]].words))\n",
    "                 for p in take(10, pairs.items())]"
   ]
  },
  {
   "cell_type": "code",
   "execution_count": 134,
   "metadata": {},
   "outputs": [
    {
     "data": {
      "text/plain": [
       "'game rank far honor playing mine p graphic really good voice acting standard difficulty level right best character series opinion story amazed took many different twist expecting rating game deserves great'"
      ]
     },
     "execution_count": 134,
     "metadata": {},
     "output_type": "execute_result"
    }
   ],
   "source": [
    "example_pairs[9][0]"
   ]
  },
  {
   "cell_type": "code",
   "execution_count": 135,
   "metadata": {},
   "outputs": [
    {
     "data": {
      "text/plain": [
       "'terrible misfortune view entirety say save time money got worst time even called like fails aspect make good movie story interesting actor believable bad direction action sequence fake almost funny almost movie packed full crappy oneliners respectable person could find amusing least little bit movie supposed geared towards men woman utterly unattractive especially old wrinkled thing come towards end try appear sexy weird horrible costume fail miserably even ridiculous still give laugh painful watch'"
      ]
     },
     "execution_count": 135,
     "metadata": {},
     "output_type": "execute_result"
    }
   ],
   "source": [
    "example_pairs[9][1]"
   ]
  },
  {
   "cell_type": "markdown",
   "metadata": {},
   "source": [
    "### 2.9 Pairwise WMD"
   ]
  },
  {
   "cell_type": "markdown",
   "metadata": {},
   "source": [
    "Calculate the pairwise distances between the documents selected by the Galey-Shapeley algorithm _without_ returning the flow between individual words."
   ]
  },
  {
   "cell_type": "code",
   "execution_count": 174,
   "metadata": {},
   "outputs": [
    {
     "name": "stdout",
     "output_type": "stream",
     "text": [
      "Calculated distances between 0 documents.\n",
      "Calculated distances between 100 documents.\n",
      "Calculated distances between 200 documents.\n",
      "Calculated distances between 300 documents.\n",
      "Calculated distances between 400 documents.\n",
      "CPU times: user 2min 26s, sys: 13.4 s, total: 2min 39s\n",
      "Wall time: 1min 9s\n"
     ]
    }
   ],
   "source": [
    "%%time \n",
    "\n",
    "wmd_pairs = WMDPairs(pos_docs,neg_docs,pairs,E,idx2word)\n",
    "wmd_pairs.get_distances(thread=False)"
   ]
  },
  {
   "cell_type": "markdown",
   "metadata": {},
   "source": [
    "The return value is a matrix of distances between the document pairs."
   ]
  },
  {
   "cell_type": "code",
   "execution_count": 175,
   "metadata": {},
   "outputs": [
    {
     "data": {
      "text/plain": [
       "array([[0., 0., 0., ..., 0., 0., 0.],\n",
       "       [0., 0., 0., ..., 0., 0., 0.],\n",
       "       [0., 0., 0., ..., 0., 0., 0.],\n",
       "       ...,\n",
       "       [0., 0., 0., ..., 0., 0., 0.],\n",
       "       [0., 0., 0., ..., 0., 0., 0.],\n",
       "       [0., 0., 0., ..., 0., 0., 0.]])"
      ]
     },
     "execution_count": 175,
     "metadata": {},
     "output_type": "execute_result"
    }
   ],
   "source": [
    "wmd_pairs.distances"
   ]
  },
  {
   "cell_type": "markdown",
   "metadata": {},
   "source": [
    "Calculate the pairwise distances between the documents selected by the Galey-Shapeley algorithm, this time also returning the flow between individual words."
   ]
  },
  {
   "cell_type": "code",
   "execution_count": 279,
   "metadata": {},
   "outputs": [
    {
     "name": "stdout",
     "output_type": "stream",
     "text": [
      "Calculated distances between approximately 0 documents.\n",
      "Calculated distances between approximately 100 documents.\n",
      "Calculated distances between approximately 200 documents.\n",
      "Calculated distances between approximately 300 documents.\n",
      "Calculated distances between approximately 400 documents.\n",
      "CPU times: user 2min 9s, sys: 12.7 s, total: 2min 22s\n",
      "Wall time: 1min 13s\n"
     ]
    }
   ],
   "source": [
    "%%time \n",
    "\n",
    "wmd_pairs_flow = WMDPairs(pos_docs,neg_docs,pairs,E,idx2word)\n",
    "wmd_pairs_flow.get_distances(return_flow = True, \n",
    "                             sum_clusters = True, \n",
    "                             w2c = word2cluster, \n",
    "                             c2w = cluster2words,\n",
    "                             thread = True)"
   ]
  },
  {
   "cell_type": "markdown",
   "metadata": {},
   "source": [
    "Now we have three return values.\n",
    "\n",
    "The first one is again a matrix of distances between the document pairs."
   ]
  },
  {
   "cell_type": "code",
   "execution_count": 280,
   "metadata": {},
   "outputs": [
    {
     "data": {
      "text/plain": [
       "array([[0., 0., 0., ..., 0., 0., 0.],\n",
       "       [0., 0., 0., ..., 0., 0., 0.],\n",
       "       [0., 0., 0., ..., 0., 0., 0.],\n",
       "       ...,\n",
       "       [0., 0., 0., ..., 0., 0., 0.],\n",
       "       [0., 0., 0., ..., 0., 0., 0.],\n",
       "       [0., 0., 0., ..., 0., 0., 0.]])"
      ]
     },
     "execution_count": 280,
     "metadata": {},
     "output_type": "execute_result"
    }
   ],
   "source": [
    "wmd_pairs_flow.distances"
   ]
  },
  {
   "cell_type": "markdown",
   "metadata": {},
   "source": [
    "The second return value is a list of tuples with all the words that contributed the most to the distance from the positive documents to the negative ones. These are _not_ sorted from high to low or vice versa."
   ]
  },
  {
   "cell_type": "code",
   "execution_count": 281,
   "metadata": {},
   "outputs": [
    {
     "data": {
      "text/plain": [
       "[('youtube', 0.09996),\n",
       " ('interest', 0.6890999999999999),\n",
       " ('bumping', 0.02748),\n",
       " ('amateur', 0.07795),\n",
       " ('abbreviated', 0.0189),\n",
       " ('frisky', 0.02511),\n",
       " ('renovated', 0.03214),\n",
       " ('cue', 0.00858),\n",
       " ('drive', 0.31423),\n",
       " ('keaton', 0.1514)]"
      ]
     },
     "execution_count": 281,
     "metadata": {},
     "output_type": "execute_result"
    }
   ],
   "source": [
    "take(10, wmd_pairs_flow.wc_X1.items())"
   ]
  },
  {
   "cell_type": "markdown",
   "metadata": {},
   "source": [
    "The third return value is a list of tuples with all the words that contributed the most to the distance from the negative documents to the positive ones. Again, these are _not_ sorted from high to low or vice versa."
   ]
  },
  {
   "cell_type": "code",
   "execution_count": 282,
   "metadata": {},
   "outputs": [
    {
     "data": {
      "text/plain": [
       "[('youtube', 0.00701),\n",
       " ('interest', 1.0196800000000001),\n",
       " ('superstar', 0.029),\n",
       " ('amateur', 0.17423),\n",
       " ('critique', 0.19007000000000002),\n",
       " ('tremaine', 0.022299999999999997),\n",
       " ('skiing', 0.03281),\n",
       " ('shabby', 0.03551),\n",
       " ('effeminate', 0.04624),\n",
       " ('abbreviated', 0.01819)]"
      ]
     },
     "execution_count": 282,
     "metadata": {},
     "output_type": "execute_result"
    }
   ],
   "source": [
    "take(10, wmd_pairs_flow.wc_X2.items())"
   ]
  },
  {
   "cell_type": "code",
   "execution_count": 283,
   "metadata": {},
   "outputs": [
    {
     "data": {
      "text/plain": [
       "[(47, 26.87340000000001),\n",
       " (35, 27.0506),\n",
       " (9, 64.89536999999989),\n",
       " (49, 28.077189999999998),\n",
       " (37, 31.38593),\n",
       " (2, 33.3449),\n",
       " (29, 21.751929999999998),\n",
       " (5, 20.562499999999993),\n",
       " (4, 12.16579999999999),\n",
       " (28, 53.41627000000003)]"
      ]
     },
     "execution_count": 283,
     "metadata": {},
     "output_type": "execute_result"
    }
   ],
   "source": [
    "take(10, wmd_pairs_flow.cc_X1.items())"
   ]
  },
  {
   "cell_type": "code",
   "execution_count": 284,
   "metadata": {},
   "outputs": [
    {
     "data": {
      "text/plain": [
       "[(47, 30.202939999999995),\n",
       " (35, 17.82964000000001),\n",
       " (9, 47.355790000000056),\n",
       " (49, 17.861280000000004),\n",
       " (37, 24.013939999999995),\n",
       " (2, 28.788590000000003),\n",
       " (29, 11.434670000000002),\n",
       " (5, 21.04724),\n",
       " (4, 11.866719999999995),\n",
       " (28, 48.22412000000002)]"
      ]
     },
     "execution_count": 284,
     "metadata": {},
     "output_type": "execute_result"
    }
   ],
   "source": [
    "take(10, wmd_pairs_flow.cc_X2.items())"
   ]
  },
  {
   "cell_type": "code",
   "execution_count": 285,
   "metadata": {},
   "outputs": [
    {
     "data": {
      "text/plain": [
       "{36: 161.58907000000002,\n",
       " 8: 81.38867000000009,\n",
       " 16: 70.82005999999987,\n",
       " 9: 64.89536999999989,\n",
       " 7: 64.30552,\n",
       " 48: 63.50652000000012,\n",
       " 18: 62.74714999999987,\n",
       " 20: 60.77309999999992,\n",
       " 17: 54.14427000000003,\n",
       " 28: 53.41627000000003}"
      ]
     },
     "execution_count": 285,
     "metadata": {},
     "output_type": "execute_result"
    }
   ],
   "source": [
    "{k: v for k, v in sorted(wmd_pairs_flow.cc_X1.items(), key=lambda item: item[1], reverse=True)[:10]}"
   ]
  },
  {
   "cell_type": "code",
   "execution_count": 286,
   "metadata": {},
   "outputs": [],
   "source": [
    "wmd_pairs_flow.get_differences()"
   ]
  },
  {
   "cell_type": "markdown",
   "metadata": {},
   "source": [
    "### 3.1 Intepreting pairwise WMD flows"
   ]
  },
  {
   "cell_type": "markdown",
   "metadata": {},
   "source": [
    "Now, let's sort the distances of the words that created the most distance from the positive to the negative reviews."
   ]
  },
  {
   "cell_type": "code",
   "execution_count": 287,
   "metadata": {},
   "outputs": [
    {
     "data": {
      "text/plain": [
       "{'great': 3.6841199999999983,\n",
       " 'love': 3.0659199999999993,\n",
       " 'best': 2.9734699999999994,\n",
       " 'young': 2.7412799999999993,\n",
       " 'still': 2.678639999999999,\n",
       " 'performance': 2.4275899999999995,\n",
       " 'excellent': 2.3056899999999994,\n",
       " 'game': 2.0037299999999996,\n",
       " 'loved': 1.9073000000000002,\n",
       " 'favorite': 1.89277,\n",
       " 'wonderful': 1.8905500000000002,\n",
       " 'well': 1.8735199999999992,\n",
       " 'little': 1.7632000000000012,\n",
       " 'dvd': 1.6582800000000009,\n",
       " 'life': 1.63394,\n",
       " 'family': 1.6094199999999996,\n",
       " 'song': 1.47339,\n",
       " 'perfect': 1.42944,\n",
       " 'story': 1.3294199999999998,\n",
       " 'role': 1.32804,\n",
       " 'brilliant': 1.3100100000000001,\n",
       " 'italian': 1.24688,\n",
       " 'new': 1.2368199999999991,\n",
       " 'man': 1.195279999999999,\n",
       " 'beautiful': 1.1913199999999997,\n",
       " 'always': 1.1709999999999998,\n",
       " 'enjoy': 1.1691700000000005,\n",
       " 'father': 1.1628600000000002,\n",
       " 'romantic': 1.14786,\n",
       " 'amazing': 1.1355700000000002}"
      ]
     },
     "execution_count": 287,
     "metadata": {},
     "output_type": "execute_result"
    }
   ],
   "source": [
    "{k: v for k, v in sorted(wmd_pairs_flow.wc_X1_diff.items(), key=lambda item: item[1], reverse=True)[:30]}"
   ]
  },
  {
   "cell_type": "markdown",
   "metadata": {},
   "source": [
    "Next, let's see what added most distance when moving from the negative to the positive reviews."
   ]
  },
  {
   "cell_type": "code",
   "execution_count": 288,
   "metadata": {},
   "outputs": [
    {
     "data": {
      "text/plain": [
       "{'bad': 7.070259999999994,\n",
       " 'worst': 4.54303,\n",
       " 'waste': 3.59436,\n",
       " 'money': 2.8272600000000008,\n",
       " 'even': 2.721729999999997,\n",
       " 'stupid': 2.58822,\n",
       " 'awful': 2.4731899999999998,\n",
       " 'ever': 2.3345599999999997,\n",
       " 'boring': 2.2304399999999993,\n",
       " 'movie': 2.1923999999999975,\n",
       " 'terrible': 2.1853499999999992,\n",
       " 'plot': 2.10646,\n",
       " 'poor': 2.1032800000000003,\n",
       " 'guy': 1.9638899999999995,\n",
       " 'instead': 1.9381299999999992,\n",
       " 'acting': 1.905740000000001,\n",
       " 'rating': 1.85195,\n",
       " 'nothing': 1.8448299999999993,\n",
       " 'rent': 1.7515500000000002,\n",
       " 'could': 1.7412000000000019,\n",
       " 'made': 1.6352300000000008,\n",
       " 'least': 1.5719700000000012,\n",
       " 'horrible': 1.5380399999999999,\n",
       " 'supposed': 1.4540500000000003,\n",
       " 'say': 1.442960000000001,\n",
       " 'worse': 1.4196200000000003,\n",
       " 'better': 1.4166099999999986,\n",
       " 'hour': 1.348899999999999,\n",
       " 'minute': 1.3478999999999997,\n",
       " 'dull': 1.29528}"
      ]
     },
     "execution_count": 288,
     "metadata": {},
     "output_type": "execute_result"
    }
   ],
   "source": [
    "{k: v for k, v in sorted(wmd_pairs_flow.wc_X2_diff.items(), key=lambda item: item[1], reverse=True)[:30]}"
   ]
  },
  {
   "cell_type": "markdown",
   "metadata": {},
   "source": [
    "Finally, let's look at the distances between the two sets by clustering similar words, in order to get a better sense of what kind of \"topics\" that separate them. Each cluster has a weight that matches the sum of the words belonging to that cluster. We choose *n* top clusters to inspect. To make the clusters interpretable, we also represent each of them by *m* keywords, selected based on the cost they individually add between the two sets."
   ]
  },
  {
   "cell_type": "code",
   "execution_count": 289,
   "metadata": {},
   "outputs": [],
   "source": [
    "n_clusters = 50\n",
    "n_words = 10\n",
    "\n",
    "c1 = output_clusters(wc=wmd_pairs_flow.wc_X1_diff.items(), \n",
    "                     cc=wmd_pairs_flow.cc_X1.items(), \n",
    "                     c2w=cluster2words, \n",
    "                     n_clusters=n_clusters, \n",
    "                     n_words=n_words)\n",
    "c2 = output_clusters(wc=wmd_pairs_flow.wc_X2_diff.items(), \n",
    "                     cc=wmd_pairs_flow.cc_X2.items(), \n",
    "                     c2w=cluster2words, \n",
    "                     n_clusters=n_clusters, \n",
    "                     n_words=n_words)"
   ]
  },
  {
   "cell_type": "markdown",
   "metadata": {},
   "source": [
    "Positive to negative clusters."
   ]
  },
  {
   "cell_type": "code",
   "execution_count": 290,
   "metadata": {},
   "outputs": [
    {
     "data": {
      "text/html": [
       "<div>\n",
       "<style scoped>\n",
       "    .dataframe tbody tr th:only-of-type {\n",
       "        vertical-align: middle;\n",
       "    }\n",
       "\n",
       "    .dataframe tbody tr th {\n",
       "        vertical-align: top;\n",
       "    }\n",
       "\n",
       "    .dataframe thead th {\n",
       "        text-align: right;\n",
       "    }\n",
       "</style>\n",
       "<table border=\"1\" class=\"dataframe\">\n",
       "  <thead>\n",
       "    <tr style=\"text-align: right;\">\n",
       "      <th></th>\n",
       "      <th>36</th>\n",
       "      <th>8</th>\n",
       "      <th>16</th>\n",
       "      <th>9</th>\n",
       "      <th>7</th>\n",
       "      <th>48</th>\n",
       "      <th>18</th>\n",
       "      <th>20</th>\n",
       "      <th>17</th>\n",
       "      <th>28</th>\n",
       "      <th>...</th>\n",
       "      <th>43</th>\n",
       "      <th>27</th>\n",
       "      <th>23</th>\n",
       "      <th>11</th>\n",
       "      <th>0</th>\n",
       "      <th>4</th>\n",
       "      <th>15</th>\n",
       "      <th>3</th>\n",
       "      <th>39</th>\n",
       "      <th>40</th>\n",
       "    </tr>\n",
       "  </thead>\n",
       "  <tbody>\n",
       "    <tr>\n",
       "      <th>0</th>\n",
       "      <td>still (2.68)</td>\n",
       "      <td>loved (1.91)</td>\n",
       "      <td>new (1.24)</td>\n",
       "      <td>performance (2.43)</td>\n",
       "      <td>easy (0.93)</td>\n",
       "      <td>great (3.68)</td>\n",
       "      <td>best (2.97)</td>\n",
       "      <td>little (1.76)</td>\n",
       "      <td>story (1.33)</td>\n",
       "      <td>favorite (1.89)</td>\n",
       "      <td>...</td>\n",
       "      <td>extremely (0.53)</td>\n",
       "      <td>khan (0.34)</td>\n",
       "      <td>identity (0.47)</td>\n",
       "      <td>universe (0.35)</td>\n",
       "      <td>italian (1.25)</td>\n",
       "      <td>knotts (0.34)</td>\n",
       "      <td>fulci (0.47)</td>\n",
       "      <td>stupidest (0.25)</td>\n",
       "      <td>black (0.23)</td>\n",
       "      <td>game (2.0)</td>\n",
       "    </tr>\n",
       "    <tr>\n",
       "      <th>1</th>\n",
       "      <td>enjoy (1.17)</td>\n",
       "      <td>later (0.71)</td>\n",
       "      <td>take (0.89)</td>\n",
       "      <td>well (1.87)</td>\n",
       "      <td>message (0.89)</td>\n",
       "      <td>excellent (2.31)</td>\n",
       "      <td>greatest (0.84)</td>\n",
       "      <td>yet (0.73)</td>\n",
       "      <td>theme (0.74)</td>\n",
       "      <td>entertaining (1.1)</td>\n",
       "      <td>...</td>\n",
       "      <td>mundane (0.17)</td>\n",
       "      <td>tessa (0.25)</td>\n",
       "      <td>witness (0.25)</td>\n",
       "      <td>build (0.29)</td>\n",
       "      <td>russian (0.24)</td>\n",
       "      <td>stone (0.21)</td>\n",
       "      <td>plenty (0.33)</td>\n",
       "      <td>pap (0.04)</td>\n",
       "      <td>white (0.18)</td>\n",
       "      <td>None</td>\n",
       "    </tr>\n",
       "    <tr>\n",
       "      <th>2</th>\n",
       "      <td>liked (0.95)</td>\n",
       "      <td>enjoyed (0.66)</td>\n",
       "      <td>keep (0.84)</td>\n",
       "      <td>role (1.33)</td>\n",
       "      <td>lesson (0.56)</td>\n",
       "      <td>wonderful (1.89)</td>\n",
       "      <td>star (0.71)</td>\n",
       "      <td>particularly (0.72)</td>\n",
       "      <td>different (0.57)</td>\n",
       "      <td>definitely (1.03)</td>\n",
       "      <td>...</td>\n",
       "      <td>corny (0.17)</td>\n",
       "      <td>helena (0.23)</td>\n",
       "      <td>jail (0.24)</td>\n",
       "      <td>space (0.24)</td>\n",
       "      <td>foreign (0.15)</td>\n",
       "      <td>darius (0.18)</td>\n",
       "      <td>flesh (0.19)</td>\n",
       "      <td>putrid (0.04)</td>\n",
       "      <td>color (0.0)</td>\n",
       "      <td>None</td>\n",
       "    </tr>\n",
       "    <tr>\n",
       "      <th>3</th>\n",
       "      <td>hard (0.95)</td>\n",
       "      <td>time (0.59)</td>\n",
       "      <td>hope (0.8)</td>\n",
       "      <td>always (1.17)</td>\n",
       "      <td>question (0.52)</td>\n",
       "      <td>perfect (1.43)</td>\n",
       "      <td>cinema (0.71)</td>\n",
       "      <td>often (0.7)</td>\n",
       "      <td>follows (0.46)</td>\n",
       "      <td>disney (1.02)</td>\n",
       "      <td>...</td>\n",
       "      <td>dated (0.17)</td>\n",
       "      <td>davy (0.21)</td>\n",
       "      <td>illegal (0.22)</td>\n",
       "      <td>wave (0.22)</td>\n",
       "      <td>hindi (0.15)</td>\n",
       "      <td>meatball (0.16)</td>\n",
       "      <td>brutal (0.19)</td>\n",
       "      <td>agonizing (0.02)</td>\n",
       "      <td>None</td>\n",
       "      <td>None</td>\n",
       "    </tr>\n",
       "    <tr>\n",
       "      <th>4</th>\n",
       "      <td>real (0.73)</td>\n",
       "      <td>glad (0.54)</td>\n",
       "      <td>help (0.59)</td>\n",
       "      <td>job (1.07)</td>\n",
       "      <td>change (0.46)</td>\n",
       "      <td>brilliant (1.31)</td>\n",
       "      <td>special (0.64)</td>\n",
       "      <td>nice (0.66)</td>\n",
       "      <td>within (0.39)</td>\n",
       "      <td>adventure (0.97)</td>\n",
       "      <td>...</td>\n",
       "      <td>tolerable (0.17)</td>\n",
       "      <td>kimberly (0.19)</td>\n",
       "      <td>police (0.2)</td>\n",
       "      <td>scientific (0.16)</td>\n",
       "      <td>polish (0.15)</td>\n",
       "      <td>bela (0.16)</td>\n",
       "      <td>graphic (0.16)</td>\n",
       "      <td>abominable (0.02)</td>\n",
       "      <td>None</td>\n",
       "      <td>None</td>\n",
       "    </tr>\n",
       "    <tr>\n",
       "      <th>5</th>\n",
       "      <td>awesome (0.7)</td>\n",
       "      <td>found (0.52)</td>\n",
       "      <td>future (0.46)</td>\n",
       "      <td>especially (0.87)</td>\n",
       "      <td>important (0.42)</td>\n",
       "      <td>beautiful (1.19)</td>\n",
       "      <td>major (0.63)</td>\n",
       "      <td>although (0.64)</td>\n",
       "      <td>beginning (0.36)</td>\n",
       "      <td>comedy (0.83)</td>\n",
       "      <td>...</td>\n",
       "      <td>hilariously (0.13)</td>\n",
       "      <td>brook (0.14)</td>\n",
       "      <td>suspect (0.2)</td>\n",
       "      <td>spreading (0.15)</td>\n",
       "      <td>french (0.15)</td>\n",
       "      <td>zodiac (0.13)</td>\n",
       "      <td>explicit (0.1)</td>\n",
       "      <td>execrable (0.02)</td>\n",
       "      <td>None</td>\n",
       "      <td>None</td>\n",
       "    </tr>\n",
       "    <tr>\n",
       "      <th>6</th>\n",
       "      <td>worth (0.63)</td>\n",
       "      <td>impressed (0.5)</td>\n",
       "      <td>live (0.4)</td>\n",
       "      <td>comic (0.81)</td>\n",
       "      <td>may (0.42)</td>\n",
       "      <td>romantic (1.15)</td>\n",
       "      <td>picture (0.6)</td>\n",
       "      <td>plus (0.55)</td>\n",
       "      <td>minor (0.34)</td>\n",
       "      <td>fan (0.82)</td>\n",
       "      <td>...</td>\n",
       "      <td>silly (0.12)</td>\n",
       "      <td>hare (0.13)</td>\n",
       "      <td>conspiracy (0.17)</td>\n",
       "      <td>route (0.15)</td>\n",
       "      <td>british (0.14)</td>\n",
       "      <td>greeting (0.13)</td>\n",
       "      <td>slasher (0.1)</td>\n",
       "      <td>load (0.02)</td>\n",
       "      <td>None</td>\n",
       "      <td>None</td>\n",
       "    </tr>\n",
       "    <tr>\n",
       "      <th>7</th>\n",
       "      <td>wish (0.58)</td>\n",
       "      <td>remember (0.46)</td>\n",
       "      <td>working (0.39)</td>\n",
       "      <td>play (0.72)</td>\n",
       "      <td>justice (0.4)</td>\n",
       "      <td>amazing (1.14)</td>\n",
       "      <td>thanks (0.58)</td>\n",
       "      <td>typical (0.5)</td>\n",
       "      <td>event (0.34)</td>\n",
       "      <td>favourite (0.77)</td>\n",
       "      <td>...</td>\n",
       "      <td>dodgy (0.1)</td>\n",
       "      <td>beverly (0.13)</td>\n",
       "      <td>suicide (0.16)</td>\n",
       "      <td>aboard (0.15)</td>\n",
       "      <td>term (0.11)</td>\n",
       "      <td>immobile (0.12)</td>\n",
       "      <td>satisfy (0.1)</td>\n",
       "      <td>plague (0.01)</td>\n",
       "      <td>None</td>\n",
       "      <td>None</td>\n",
       "    </tr>\n",
       "    <tr>\n",
       "      <th>8</th>\n",
       "      <td>doubt (0.51)</td>\n",
       "      <td>watched (0.45)</td>\n",
       "      <td>move (0.39)</td>\n",
       "      <td>supporting (0.64)</td>\n",
       "      <td>whether (0.36)</td>\n",
       "      <td>incredible (1.06)</td>\n",
       "      <td>gem (0.57)</td>\n",
       "      <td>romance (0.49)</td>\n",
       "      <td>solution (0.32)</td>\n",
       "      <td>classic (0.74)</td>\n",
       "      <td>...</td>\n",
       "      <td>preachy (0.1)</td>\n",
       "      <td>reg (0.13)</td>\n",
       "      <td>detective (0.13)</td>\n",
       "      <td>vault (0.14)</td>\n",
       "      <td>greek (0.09)</td>\n",
       "      <td>abbot (0.11)</td>\n",
       "      <td>hardcore (0.1)</td>\n",
       "      <td>ugh (0.0)</td>\n",
       "      <td>None</td>\n",
       "      <td>None</td>\n",
       "    </tr>\n",
       "    <tr>\n",
       "      <th>9</th>\n",
       "      <td>rocked (0.36)</td>\n",
       "      <td>thought (0.45)</td>\n",
       "      <td>break (0.38)</td>\n",
       "      <td>playing (0.52)</td>\n",
       "      <td>matter (0.35)</td>\n",
       "      <td>superb (0.94)</td>\n",
       "      <td>today (0.52)</td>\n",
       "      <td>quite (0.45)</td>\n",
       "      <td>flaw (0.29)</td>\n",
       "      <td>animated (0.58)</td>\n",
       "      <td>...</td>\n",
       "      <td>unreal (0.09)</td>\n",
       "      <td>cervi (0.13)</td>\n",
       "      <td>trial (0.13)</td>\n",
       "      <td>treasure (0.13)</td>\n",
       "      <td>translation (0.09)</td>\n",
       "      <td>hound (0.11)</td>\n",
       "      <td>duckling (0.1)</td>\n",
       "      <td>endure (-0.02)</td>\n",
       "      <td>None</td>\n",
       "      <td>None</td>\n",
       "    </tr>\n",
       "  </tbody>\n",
       "</table>\n",
       "<p>10 rows × 50 columns</p>\n",
       "</div>"
      ],
      "text/plain": [
       "              36               8               16                  9   \\\n",
       "0   still (2.68)     loved (1.91)      new (1.24)  performance (2.43)   \n",
       "1   enjoy (1.17)     later (0.71)     take (0.89)         well (1.87)   \n",
       "2   liked (0.95)   enjoyed (0.66)     keep (0.84)         role (1.33)   \n",
       "3    hard (0.95)      time (0.59)      hope (0.8)       always (1.17)   \n",
       "4    real (0.73)      glad (0.54)     help (0.59)          job (1.07)   \n",
       "5  awesome (0.7)     found (0.52)   future (0.46)   especially (0.87)   \n",
       "6   worth (0.63)  impressed (0.5)      live (0.4)        comic (0.81)   \n",
       "7    wish (0.58)  remember (0.46)  working (0.39)         play (0.72)   \n",
       "8   doubt (0.51)   watched (0.45)     move (0.39)   supporting (0.64)   \n",
       "9  rocked (0.36)   thought (0.45)    break (0.38)      playing (0.52)   \n",
       "\n",
       "                 7                  48               18                   20  \\\n",
       "0       easy (0.93)       great (3.68)      best (2.97)        little (1.76)   \n",
       "1    message (0.89)   excellent (2.31)  greatest (0.84)           yet (0.73)   \n",
       "2     lesson (0.56)   wonderful (1.89)      star (0.71)  particularly (0.72)   \n",
       "3   question (0.52)     perfect (1.43)    cinema (0.71)          often (0.7)   \n",
       "4     change (0.46)   brilliant (1.31)   special (0.64)          nice (0.66)   \n",
       "5  important (0.42)   beautiful (1.19)     major (0.63)      although (0.64)   \n",
       "6        may (0.42)    romantic (1.15)    picture (0.6)          plus (0.55)   \n",
       "7     justice (0.4)     amazing (1.14)    thanks (0.58)        typical (0.5)   \n",
       "8    whether (0.36)  incredible (1.06)       gem (0.57)       romance (0.49)   \n",
       "9     matter (0.35)      superb (0.94)     today (0.52)         quite (0.45)   \n",
       "\n",
       "                 17                  28  ...                  43  \\\n",
       "0      story (1.33)     favorite (1.89)  ...    extremely (0.53)   \n",
       "1      theme (0.74)  entertaining (1.1)  ...      mundane (0.17)   \n",
       "2  different (0.57)   definitely (1.03)  ...        corny (0.17)   \n",
       "3    follows (0.46)       disney (1.02)  ...        dated (0.17)   \n",
       "4     within (0.39)    adventure (0.97)  ...    tolerable (0.17)   \n",
       "5  beginning (0.36)       comedy (0.83)  ...  hilariously (0.13)   \n",
       "6      minor (0.34)          fan (0.82)  ...        silly (0.12)   \n",
       "7      event (0.34)    favourite (0.77)  ...         dodgy (0.1)   \n",
       "8   solution (0.32)      classic (0.74)  ...       preachy (0.1)   \n",
       "9       flaw (0.29)     animated (0.58)  ...       unreal (0.09)   \n",
       "\n",
       "                27                 23                 11                  0   \\\n",
       "0      khan (0.34)    identity (0.47)    universe (0.35)      italian (1.25)   \n",
       "1     tessa (0.25)     witness (0.25)       build (0.29)      russian (0.24)   \n",
       "2    helena (0.23)        jail (0.24)       space (0.24)      foreign (0.15)   \n",
       "3      davy (0.21)     illegal (0.22)        wave (0.22)        hindi (0.15)   \n",
       "4  kimberly (0.19)       police (0.2)  scientific (0.16)       polish (0.15)   \n",
       "5     brook (0.14)      suspect (0.2)   spreading (0.15)       french (0.15)   \n",
       "6      hare (0.13)  conspiracy (0.17)       route (0.15)      british (0.14)   \n",
       "7   beverly (0.13)     suicide (0.16)      aboard (0.15)         term (0.11)   \n",
       "8       reg (0.13)   detective (0.13)       vault (0.14)        greek (0.09)   \n",
       "9     cervi (0.13)       trial (0.13)    treasure (0.13)  translation (0.09)   \n",
       "\n",
       "                4               15                 3             39  \\\n",
       "0    knotts (0.34)    fulci (0.47)   stupidest (0.25)  black (0.23)   \n",
       "1     stone (0.21)   plenty (0.33)         pap (0.04)  white (0.18)   \n",
       "2    darius (0.18)    flesh (0.19)      putrid (0.04)   color (0.0)   \n",
       "3  meatball (0.16)   brutal (0.19)   agonizing (0.02)          None   \n",
       "4      bela (0.16)  graphic (0.16)  abominable (0.02)          None   \n",
       "5    zodiac (0.13)  explicit (0.1)   execrable (0.02)          None   \n",
       "6  greeting (0.13)   slasher (0.1)        load (0.02)          None   \n",
       "7  immobile (0.12)   satisfy (0.1)      plague (0.01)          None   \n",
       "8     abbot (0.11)  hardcore (0.1)          ugh (0.0)          None   \n",
       "9     hound (0.11)  duckling (0.1)     endure (-0.02)          None   \n",
       "\n",
       "           40  \n",
       "0  game (2.0)  \n",
       "1        None  \n",
       "2        None  \n",
       "3        None  \n",
       "4        None  \n",
       "5        None  \n",
       "6        None  \n",
       "7        None  \n",
       "8        None  \n",
       "9        None  \n",
       "\n",
       "[10 rows x 50 columns]"
      ]
     },
     "execution_count": 290,
     "metadata": {},
     "output_type": "execute_result"
    }
   ],
   "source": [
    "c1"
   ]
  },
  {
   "cell_type": "markdown",
   "metadata": {},
   "source": [
    "Negative to positive clusters."
   ]
  },
  {
   "cell_type": "code",
   "execution_count": 291,
   "metadata": {},
   "outputs": [
    {
     "data": {
      "text/html": [
       "<div>\n",
       "<style scoped>\n",
       "    .dataframe tbody tr th:only-of-type {\n",
       "        vertical-align: middle;\n",
       "    }\n",
       "\n",
       "    .dataframe tbody tr th {\n",
       "        vertical-align: top;\n",
       "    }\n",
       "\n",
       "    .dataframe thead th {\n",
       "        text-align: right;\n",
       "    }\n",
       "</style>\n",
       "<table border=\"1\" class=\"dataframe\">\n",
       "  <thead>\n",
       "    <tr style=\"text-align: right;\">\n",
       "      <th></th>\n",
       "      <th>36</th>\n",
       "      <th>8</th>\n",
       "      <th>16</th>\n",
       "      <th>7</th>\n",
       "      <th>3</th>\n",
       "      <th>17</th>\n",
       "      <th>20</th>\n",
       "      <th>18</th>\n",
       "      <th>43</th>\n",
       "      <th>28</th>\n",
       "      <th>...</th>\n",
       "      <th>24</th>\n",
       "      <th>31</th>\n",
       "      <th>6</th>\n",
       "      <th>0</th>\n",
       "      <th>4</th>\n",
       "      <th>29</th>\n",
       "      <th>21</th>\n",
       "      <th>27</th>\n",
       "      <th>39</th>\n",
       "      <th>40</th>\n",
       "    </tr>\n",
       "  </thead>\n",
       "  <tbody>\n",
       "    <tr>\n",
       "      <th>0</th>\n",
       "      <td>even (2.72)</td>\n",
       "      <td>got (1.28)</td>\n",
       "      <td>money (2.83)</td>\n",
       "      <td>god (1.2)</td>\n",
       "      <td>bad (7.07)</td>\n",
       "      <td>plot (2.11)</td>\n",
       "      <td>action (1.16)</td>\n",
       "      <td>made (1.64)</td>\n",
       "      <td>boring (2.23)</td>\n",
       "      <td>better (1.42)</td>\n",
       "      <td>...</td>\n",
       "      <td>army (0.43)</td>\n",
       "      <td>horror (0.88)</td>\n",
       "      <td>chase (0.27)</td>\n",
       "      <td>accent (0.38)</td>\n",
       "      <td>wood (0.26)</td>\n",
       "      <td>dancing (0.37)</td>\n",
       "      <td>sweden (0.22)</td>\n",
       "      <td>vargas (0.22)</td>\n",
       "      <td>colour (0.16)</td>\n",
       "      <td>game (-2.0)</td>\n",
       "    </tr>\n",
       "    <tr>\n",
       "      <th>1</th>\n",
       "      <td>ever (2.33)</td>\n",
       "      <td>seemed (1.23)</td>\n",
       "      <td>save (1.27)</td>\n",
       "      <td>understand (0.89)</td>\n",
       "      <td>worst (4.54)</td>\n",
       "      <td>whole (0.98)</td>\n",
       "      <td>pretty (0.99)</td>\n",
       "      <td>making (0.78)</td>\n",
       "      <td>dull (1.3)</td>\n",
       "      <td>original (0.68)</td>\n",
       "      <td>...</td>\n",
       "      <td>heist (0.23)</td>\n",
       "      <td>nightmare (0.56)</td>\n",
       "      <td>fight (0.26)</td>\n",
       "      <td>indian (0.34)</td>\n",
       "      <td>ali (0.21)</td>\n",
       "      <td>listening (0.32)</td>\n",
       "      <td>urban (0.18)</td>\n",
       "      <td>de (0.12)</td>\n",
       "      <td>color (-0.0)</td>\n",
       "      <td>None</td>\n",
       "    </tr>\n",
       "    <tr>\n",
       "      <th>2</th>\n",
       "      <td>movie (2.19)</td>\n",
       "      <td>bored (1.17)</td>\n",
       "      <td>try (1.06)</td>\n",
       "      <td>obviously (0.74)</td>\n",
       "      <td>waste (3.59)</td>\n",
       "      <td>idea (0.96)</td>\n",
       "      <td>unfortunately (0.69)</td>\n",
       "      <td>credit (0.63)</td>\n",
       "      <td>depressing (1.06)</td>\n",
       "      <td>title (0.67)</td>\n",
       "      <td>...</td>\n",
       "      <td>former (0.22)</td>\n",
       "      <td>scary (0.32)</td>\n",
       "      <td>wing (0.19)</td>\n",
       "      <td>speak (0.32)</td>\n",
       "      <td>karmen (0.17)</td>\n",
       "      <td>sing (0.2)</td>\n",
       "      <td>canada (0.17)</td>\n",
       "      <td>franz (0.11)</td>\n",
       "      <td>white (-0.18)</td>\n",
       "      <td>None</td>\n",
       "    </tr>\n",
       "    <tr>\n",
       "      <th>3</th>\n",
       "      <td>nothing (1.84)</td>\n",
       "      <td>went (1.03)</td>\n",
       "      <td>go (0.74)</td>\n",
       "      <td>fact (0.67)</td>\n",
       "      <td>stupid (2.59)</td>\n",
       "      <td>end (0.88)</td>\n",
       "      <td>otherwise (0.58)</td>\n",
       "      <td>effort (0.62)</td>\n",
       "      <td>poorly (1.05)</td>\n",
       "      <td>sequel (0.64)</td>\n",
       "      <td>...</td>\n",
       "      <td>warden (0.21)</td>\n",
       "      <td>dentist (0.16)</td>\n",
       "      <td>beating (0.19)</td>\n",
       "      <td>english (0.26)</td>\n",
       "      <td>appears (0.16)</td>\n",
       "      <td>elvis (0.19)</td>\n",
       "      <td>pakistani (0.16)</td>\n",
       "      <td>kyra (0.11)</td>\n",
       "      <td>black (-0.23)</td>\n",
       "      <td>None</td>\n",
       "    </tr>\n",
       "    <tr>\n",
       "      <th>4</th>\n",
       "      <td>could (1.74)</td>\n",
       "      <td>disappointed (0.76)</td>\n",
       "      <td>trying (0.68)</td>\n",
       "      <td>problem (0.67)</td>\n",
       "      <td>awful (2.47)</td>\n",
       "      <td>begin (0.83)</td>\n",
       "      <td>overall (0.51)</td>\n",
       "      <td>example (0.49)</td>\n",
       "      <td>badly (0.83)</td>\n",
       "      <td>csi (0.5)</td>\n",
       "      <td>...</td>\n",
       "      <td>corrupt (0.2)</td>\n",
       "      <td>shocker (0.16)</td>\n",
       "      <td>mode (0.13)</td>\n",
       "      <td>korean (0.24)</td>\n",
       "      <td>annakin (0.14)</td>\n",
       "      <td>rock (0.15)</td>\n",
       "      <td>cuba (0.13)</td>\n",
       "      <td>carver (0.1)</td>\n",
       "      <td>None</td>\n",
       "      <td>None</td>\n",
       "    </tr>\n",
       "    <tr>\n",
       "      <th>5</th>\n",
       "      <td>least (1.57)</td>\n",
       "      <td>tried (0.75)</td>\n",
       "      <td>stay (0.58)</td>\n",
       "      <td>attempt (0.57)</td>\n",
       "      <td>terrible (2.19)</td>\n",
       "      <td>premise (0.73)</td>\n",
       "      <td>sort (0.5)</td>\n",
       "      <td>project (0.49)</td>\n",
       "      <td>unbelievable (0.71)</td>\n",
       "      <td>laurel (0.46)</td>\n",
       "      <td>...</td>\n",
       "      <td>agent (0.2)</td>\n",
       "      <td>creepy (0.15)</td>\n",
       "      <td>speed (0.12)</td>\n",
       "      <td>native (0.17)</td>\n",
       "      <td>ram (0.14)</td>\n",
       "      <td>club (0.12)</td>\n",
       "      <td>wwi (0.12)</td>\n",
       "      <td>chen (0.1)</td>\n",
       "      <td>None</td>\n",
       "      <td>None</td>\n",
       "    </tr>\n",
       "    <tr>\n",
       "      <th>6</th>\n",
       "      <td>supposed (1.45)</td>\n",
       "      <td>wanted (0.7)</td>\n",
       "      <td>get (0.49)</td>\n",
       "      <td>express (0.57)</td>\n",
       "      <td>poor (2.1)</td>\n",
       "      <td>quickly (0.55)</td>\n",
       "      <td>almost (0.49)</td>\n",
       "      <td>pity (0.36)</td>\n",
       "      <td>unrealistic (0.7)</td>\n",
       "      <td>b (0.45)</td>\n",
       "      <td>...</td>\n",
       "      <td>company (0.19)</td>\n",
       "      <td>creep (0.15)</td>\n",
       "      <td>hercules (0.12)</td>\n",
       "      <td>non (0.14)</td>\n",
       "      <td>jumbo (0.13)</td>\n",
       "      <td>rap (0.1)</td>\n",
       "      <td>st (0.11)</td>\n",
       "      <td>fong (0.09)</td>\n",
       "      <td>None</td>\n",
       "      <td>None</td>\n",
       "    </tr>\n",
       "    <tr>\n",
       "      <th>7</th>\n",
       "      <td>say (1.44)</td>\n",
       "      <td>seen (0.68)</td>\n",
       "      <td>make (0.43)</td>\n",
       "      <td>contain (0.55)</td>\n",
       "      <td>horrible (1.54)</td>\n",
       "      <td>forward (0.54)</td>\n",
       "      <td>relentlessly (0.46)</td>\n",
       "      <td>sadly (0.32)</td>\n",
       "      <td>weak (0.69)</td>\n",
       "      <td>watchable (0.38)</td>\n",
       "      <td>...</td>\n",
       "      <td>target (0.16)</td>\n",
       "      <td>scared (0.14)</td>\n",
       "      <td>contest (0.11)</td>\n",
       "      <td>spoken (0.14)</td>\n",
       "      <td>casbah (0.13)</td>\n",
       "      <td>waltz (0.08)</td>\n",
       "      <td>roman (0.11)</td>\n",
       "      <td>sedgwick (0.09)</td>\n",
       "      <td>None</td>\n",
       "      <td>None</td>\n",
       "    </tr>\n",
       "    <tr>\n",
       "      <th>8</th>\n",
       "      <td>really (1.27)</td>\n",
       "      <td>hated (0.68)</td>\n",
       "      <td>plan (0.42)</td>\n",
       "      <td>blame (0.53)</td>\n",
       "      <td>worse (1.42)</td>\n",
       "      <td>entire (0.5)</td>\n",
       "      <td>usually (0.45)</td>\n",
       "      <td>hype (0.31)</td>\n",
       "      <td>totally (0.68)</td>\n",
       "      <td>parody (0.38)</td>\n",
       "      <td>...</td>\n",
       "      <td>photographer (0.16)</td>\n",
       "      <td>mysterious (0.14)</td>\n",
       "      <td>zeus (0.1)</td>\n",
       "      <td>hebrew (0.08)</td>\n",
       "      <td>lounging (0.12)</td>\n",
       "      <td>rehearsal (0.08)</td>\n",
       "      <td>romanian (0.1)</td>\n",
       "      <td>abo (0.09)</td>\n",
       "      <td>None</td>\n",
       "      <td>None</td>\n",
       "    </tr>\n",
       "    <tr>\n",
       "      <th>9</th>\n",
       "      <td>anything (1.16)</td>\n",
       "      <td>gave (0.59)</td>\n",
       "      <td>receiving (0.4)</td>\n",
       "      <td>simply (0.53)</td>\n",
       "      <td>crap (1.24)</td>\n",
       "      <td>point (0.46)</td>\n",
       "      <td>remotely (0.36)</td>\n",
       "      <td>failure (0.24)</td>\n",
       "      <td>ridiculous (0.65)</td>\n",
       "      <td>series (0.36)</td>\n",
       "      <td>...</td>\n",
       "      <td>private (0.15)</td>\n",
       "      <td>psycho (0.12)</td>\n",
       "      <td>posse (0.1)</td>\n",
       "      <td>canadian (0.07)</td>\n",
       "      <td>hacker (0.11)</td>\n",
       "      <td>ginger (0.07)</td>\n",
       "      <td>southern (0.09)</td>\n",
       "      <td>clifton (0.09)</td>\n",
       "      <td>None</td>\n",
       "      <td>None</td>\n",
       "    </tr>\n",
       "  </tbody>\n",
       "</table>\n",
       "<p>10 rows × 50 columns</p>\n",
       "</div>"
      ],
      "text/plain": [
       "                36                   8                16                 7   \\\n",
       "0      even (2.72)           got (1.28)     money (2.83)          god (1.2)   \n",
       "1      ever (2.33)        seemed (1.23)      save (1.27)  understand (0.89)   \n",
       "2     movie (2.19)         bored (1.17)       try (1.06)   obviously (0.74)   \n",
       "3   nothing (1.84)          went (1.03)        go (0.74)        fact (0.67)   \n",
       "4     could (1.74)  disappointed (0.76)    trying (0.68)     problem (0.67)   \n",
       "5     least (1.57)         tried (0.75)      stay (0.58)     attempt (0.57)   \n",
       "6  supposed (1.45)         wanted (0.7)       get (0.49)     express (0.57)   \n",
       "7       say (1.44)          seen (0.68)      make (0.43)     contain (0.55)   \n",
       "8    really (1.27)         hated (0.68)      plan (0.42)       blame (0.53)   \n",
       "9  anything (1.16)          gave (0.59)  receiving (0.4)      simply (0.53)   \n",
       "\n",
       "                3               17                    20              18  \\\n",
       "0       bad (7.07)     plot (2.11)         action (1.16)     made (1.64)   \n",
       "1     worst (4.54)    whole (0.98)         pretty (0.99)   making (0.78)   \n",
       "2     waste (3.59)     idea (0.96)  unfortunately (0.69)   credit (0.63)   \n",
       "3    stupid (2.59)      end (0.88)      otherwise (0.58)   effort (0.62)   \n",
       "4     awful (2.47)    begin (0.83)        overall (0.51)  example (0.49)   \n",
       "5  terrible (2.19)  premise (0.73)            sort (0.5)  project (0.49)   \n",
       "6       poor (2.1)  quickly (0.55)         almost (0.49)     pity (0.36)   \n",
       "7  horrible (1.54)  forward (0.54)   relentlessly (0.46)    sadly (0.32)   \n",
       "8     worse (1.42)    entire (0.5)        usually (0.45)     hype (0.31)   \n",
       "9      crap (1.24)    point (0.46)       remotely (0.36)  failure (0.24)   \n",
       "\n",
       "                    43                28  ...                   24  \\\n",
       "0        boring (2.23)     better (1.42)  ...          army (0.43)   \n",
       "1           dull (1.3)   original (0.68)  ...         heist (0.23)   \n",
       "2    depressing (1.06)      title (0.67)  ...        former (0.22)   \n",
       "3        poorly (1.05)     sequel (0.64)  ...        warden (0.21)   \n",
       "4         badly (0.83)         csi (0.5)  ...        corrupt (0.2)   \n",
       "5  unbelievable (0.71)     laurel (0.46)  ...          agent (0.2)   \n",
       "6    unrealistic (0.7)          b (0.45)  ...       company (0.19)   \n",
       "7          weak (0.69)  watchable (0.38)  ...        target (0.16)   \n",
       "8       totally (0.68)     parody (0.38)  ...  photographer (0.16)   \n",
       "9    ridiculous (0.65)     series (0.36)  ...       private (0.15)   \n",
       "\n",
       "                  31               6                0                4   \\\n",
       "0      horror (0.88)     chase (0.27)    accent (0.38)      wood (0.26)   \n",
       "1   nightmare (0.56)     fight (0.26)    indian (0.34)       ali (0.21)   \n",
       "2       scary (0.32)      wing (0.19)     speak (0.32)    karmen (0.17)   \n",
       "3     dentist (0.16)   beating (0.19)   english (0.26)   appears (0.16)   \n",
       "4     shocker (0.16)      mode (0.13)    korean (0.24)   annakin (0.14)   \n",
       "5      creepy (0.15)     speed (0.12)    native (0.17)       ram (0.14)   \n",
       "6       creep (0.15)  hercules (0.12)       non (0.14)     jumbo (0.13)   \n",
       "7      scared (0.14)   contest (0.11)    spoken (0.14)    casbah (0.13)   \n",
       "8  mysterious (0.14)       zeus (0.1)    hebrew (0.08)  lounging (0.12)   \n",
       "9      psycho (0.12)      posse (0.1)  canadian (0.07)    hacker (0.11)   \n",
       "\n",
       "                 29                21               27             39  \\\n",
       "0    dancing (0.37)     sweden (0.22)    vargas (0.22)  colour (0.16)   \n",
       "1  listening (0.32)      urban (0.18)        de (0.12)   color (-0.0)   \n",
       "2        sing (0.2)     canada (0.17)     franz (0.11)  white (-0.18)   \n",
       "3      elvis (0.19)  pakistani (0.16)      kyra (0.11)  black (-0.23)   \n",
       "4       rock (0.15)       cuba (0.13)     carver (0.1)           None   \n",
       "5       club (0.12)        wwi (0.12)       chen (0.1)           None   \n",
       "6         rap (0.1)         st (0.11)      fong (0.09)           None   \n",
       "7      waltz (0.08)      roman (0.11)  sedgwick (0.09)           None   \n",
       "8  rehearsal (0.08)    romanian (0.1)       abo (0.09)           None   \n",
       "9     ginger (0.07)   southern (0.09)   clifton (0.09)           None   \n",
       "\n",
       "            40  \n",
       "0  game (-2.0)  \n",
       "1         None  \n",
       "2         None  \n",
       "3         None  \n",
       "4         None  \n",
       "5         None  \n",
       "6         None  \n",
       "7         None  \n",
       "8         None  \n",
       "9         None  \n",
       "\n",
       "[10 rows x 50 columns]"
      ]
     },
     "execution_count": 291,
     "metadata": {},
     "output_type": "execute_result"
    }
   ],
   "source": [
    "c2 "
   ]
  },
  {
   "cell_type": "markdown",
   "metadata": {},
   "source": [
    "## Appendix: Many-to-many WMD"
   ]
  },
  {
   "cell_type": "markdown",
   "metadata": {},
   "source": [
    "This was a first attempt to do the flows from words between many documents, without first filtering using Gale-Shapeley. However, this proved too inefficient. As you can see looking at the CPU times, it is very slow even with extremely small samples and the time complexity is quadratic (or worse?), meaning it rapidly gets even worse as the sample size increases."
   ]
  },
  {
   "cell_type": "code",
   "execution_count": 155,
   "metadata": {},
   "outputs": [
    {
     "name": "stdout",
     "output_type": "stream",
     "text": [
      "CPU times: user 1min 48s, sys: 12.7 s, total: 2min 1s\n",
      "Wall time: 50 s\n"
     ]
    }
   ],
   "source": [
    "%time m2m_distances = WMDManyToMany(pos_docs[:20], neg_docs[:20],E,idx2word).get_distances(return_flow = False)"
   ]
  },
  {
   "cell_type": "code",
   "execution_count": 156,
   "metadata": {},
   "outputs": [
    {
     "name": "stdout",
     "output_type": "stream",
     "text": [
      "CPU times: user 1min 52s, sys: 13.5 s, total: 2min 5s\n",
      "Wall time: 51.4 s\n"
     ]
    }
   ],
   "source": [
    "%time m2m_distances_flow, wc_X1, wc_X2 = WMDManyToMany(pos_docs[:20],neg_docs[:20],E,idx2word).get_distances(return_flow = True)"
   ]
  },
  {
   "cell_type": "code",
   "execution_count": 157,
   "metadata": {},
   "outputs": [
    {
     "data": {
      "text/plain": [
       "{'karen': 8.69223,\n",
       " 'wrenching': 8.31882,\n",
       " 'carpenter': 7.468960000000001,\n",
       " 'laughter': 7.467879999999999,\n",
       " 'liked': 6.864090000000003,\n",
       " 'mom': 6.791519999999999,\n",
       " 'gut': 6.759419999999999,\n",
       " 'love': 6.551409999999997,\n",
       " 'camp': 6.533080000000001,\n",
       " 'hr': 6.1393699999999995}"
      ]
     },
     "execution_count": 157,
     "metadata": {},
     "output_type": "execute_result"
    }
   ],
   "source": [
    "{k: v for k, v in sorted(wc_X1.items(), key=lambda item: item[1], reverse=True)[:10]}"
   ]
  },
  {
   "cell_type": "code",
   "execution_count": 158,
   "metadata": {},
   "outputs": [
    {
     "data": {
      "text/plain": [
       "{'hopper': 8.372459999999998,\n",
       " 'jake': 7.63837,\n",
       " 'movie': 7.267059999999995,\n",
       " 'film': 6.936379999999998,\n",
       " 'shakespeare': 5.99276,\n",
       " 'oddness': 5.53033,\n",
       " 'terrible': 4.943440000000001,\n",
       " 'parent': 4.751790000000001,\n",
       " 'actor': 4.672620000000001,\n",
       " 'bad': 4.430020000000002}"
      ]
     },
     "execution_count": 158,
     "metadata": {},
     "output_type": "execute_result"
    }
   ],
   "source": [
    "{k: v for k, v in sorted(wc_X2.items(), key=lambda item: item[1], reverse=True)[:10]}"
   ]
  },
  {
   "cell_type": "code",
   "execution_count": null,
   "metadata": {},
   "outputs": [],
   "source": []
  }
 ],
 "metadata": {
  "kernelspec": {
   "display_name": "venv-fwmd",
   "language": "python",
   "name": "venv-fwmd"
  },
  "language_info": {
   "codemirror_mode": {
    "name": "ipython",
    "version": 3
   },
   "file_extension": ".py",
   "mimetype": "text/x-python",
   "name": "python",
   "nbconvert_exporter": "python",
   "pygments_lexer": "ipython3",
   "version": "3.8.3"
  }
 },
 "nbformat": 4,
 "nbformat_minor": 4
}

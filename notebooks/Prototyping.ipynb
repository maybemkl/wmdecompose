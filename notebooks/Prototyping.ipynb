{
 "cells": [
  {
   "cell_type": "code",
   "execution_count": 1,
   "metadata": {},
   "outputs": [],
   "source": [
    "from collections import Counter, namedtuple\n",
    "from gensim.models import KeyedVectors\n",
    "from nltk.stem import WordNetLemmatizer\n",
    "from pyemd import emd_with_flow, emd\n",
    "from sklearn.metrics import euclidean_distances\n",
    "\n",
    "import numpy as np\n",
    "import pandas as pd\n",
    "import time"
   ]
  },
  {
   "cell_type": "code",
   "execution_count": 3,
   "metadata": {},
   "outputs": [],
   "source": [
    "import os\n",
    "import sys\n",
    "\n",
    "root_dir = os.path.join(os.getcwd(), '..')\n",
    "sys.path.append(root_dir)"
   ]
  },
  {
   "cell_type": "code",
   "execution_count": 4,
   "metadata": {},
   "outputs": [],
   "source": [
    "from flow_wmd.modules import Document, DocPair\n",
    "\n",
    "%load_ext autoreload\n",
    "%autoreload 2"
   ]
  },
  {
   "cell_type": "markdown",
   "metadata": {},
   "source": [
    "## Load WV model"
   ]
  },
  {
   "cell_type": "code",
   "execution_count": 6,
   "metadata": {},
   "outputs": [
    {
     "name": "stdout",
     "output_type": "stream",
     "text": [
      "Loading GoogleNews Vectors\n",
      "CPU times: user 47 s, sys: 3.03 s, total: 50 s\n",
      "Wall time: 51 s\n"
     ]
    }
   ],
   "source": [
    "def read_1w_corpus(name, sep=\"\\t\"):\n",
    "    for line in open(name):\n",
    "        yield line.split(sep)\n",
    "\n",
    "print(\"Loading GoogleNews Vectors\")\n",
    "%time model = KeyedVectors.load_word2vec_format('../embeddings/GoogleNews-vectors-negative300.bin.gz', binary=True)"
   ]
  },
  {
   "cell_type": "code",
   "execution_count": 7,
   "metadata": {},
   "outputs": [
    {
     "name": "stderr",
     "output_type": "stream",
     "text": [
      "<timed eval>:1: DeprecationWarning: Call to deprecated `init_sims` (Use fill_norms() instead. See https://github.com/RaRe-Technologies/gensim/wiki/Migrating-from-Gensim-3.x-to-4).\n"
     ]
    },
    {
     "name": "stdout",
     "output_type": "stream",
     "text": [
      "CPU times: user 3.46 s, sys: 8.17 s, total: 11.6 s\n",
      "Wall time: 16.5 s\n"
     ]
    }
   ],
   "source": [
    "%time model.init_sims(replace=True)"
   ]
  },
  {
   "cell_type": "markdown",
   "metadata": {},
   "source": [
    "## First Try"
   ]
  },
  {
   "cell_type": "code",
   "execution_count": 8,
   "metadata": {},
   "outputs": [],
   "source": [
    "# Obama speaks to the media in Illinois \n",
    "sentence1_words = ['obama', 'speaks', 'media', 'illinois']\n",
    "\n",
    "# The President greets the press in Chicago. \n",
    "sentence2_words = ['president', 'greets', 'press', 'chicago']"
   ]
  },
  {
   "cell_type": "code",
   "execution_count": 9,
   "metadata": {},
   "outputs": [],
   "source": [
    "# Obama speaks to the media in Illinois \n",
    "sentence1_words = ['beautiful','obama', 'speaks', 'media', 'illinois', 'morning','iraq']\n",
    "\n",
    "# The President greets the press in Chicago. \n",
    "sentence2_words = ['beautiful','president', 'greets', 'press', 'chicago', 'beautiful','morning']"
   ]
  },
  {
   "cell_type": "code",
   "execution_count": 126,
   "metadata": {},
   "outputs": [
    {
     "name": "stdout",
     "output_type": "stream",
     "text": [
      "CPU times: user 2 µs, sys: 0 ns, total: 2 µs\n",
      "Wall time: 4.05 µs\n"
     ]
    }
   ],
   "source": [
    "%time\n",
    "source = Document(sentence1_words)\n",
    "source.instantiate(model)\n",
    "\n",
    "sink = Document(sentence2_words)\n",
    "sink.instantiate(model)"
   ]
  },
  {
   "cell_type": "code",
   "execution_count": 127,
   "metadata": {},
   "outputs": [
    {
     "name": "stdout",
     "output_type": "stream",
     "text": [
      "CPU times: user 19 µs, sys: 0 ns, total: 19 µs\n",
      "Wall time: 21.9 µs\n",
      "CPU times: user 86 µs, sys: 26 µs, total: 112 µs\n",
      "Wall time: 88.7 µs\n",
      "CPU times: user 1.39 ms, sys: 1.35 ms, total: 2.74 ms\n",
      "Wall time: 3.13 ms\n",
      "CPU times: user 236 µs, sys: 20 µs, total: 256 µs\n",
      "Wall time: 256 µs\n"
     ]
    }
   ],
   "source": [
    "%time dp = DocPair(source, sink)\n",
    "%time dp.getsignature()\n",
    "%time dp.emd()\n",
    "%time dp.getCost()"
   ]
  },
  {
   "cell_type": "code",
   "execution_count": 83,
   "metadata": {},
   "outputs": [
    {
     "data": {
      "text/plain": [
       "{'beautiful': 0.0,\n",
       " 'obama': 0.19391,\n",
       " 'speaks': 0.13973,\n",
       " 'media': 0.12756,\n",
       " 'illinois': 0.12296,\n",
       " 'morning': 0.0,\n",
       " 'Iraq': 0.18869}"
      ]
     },
     "execution_count": 83,
     "metadata": {},
     "output_type": "execute_result"
    }
   ],
   "source": [
    "dp.source_cost"
   ]
  },
  {
   "cell_type": "code",
   "execution_count": 84,
   "metadata": {},
   "outputs": [
    {
     "data": {
      "text/plain": [
       "{'beautiful': 0.0,\n",
       " 'president': 0.18869,\n",
       " 'greets': 0.13973,\n",
       " 'press': 0.12756,\n",
       " 'chicago': 0.12296,\n",
       " 'morning': 0.0}"
      ]
     },
     "execution_count": 84,
     "metadata": {},
     "output_type": "execute_result"
    }
   ],
   "source": [
    "dp.sink_cost"
   ]
  },
  {
   "cell_type": "code",
   "execution_count": 85,
   "metadata": {},
   "outputs": [],
   "source": [
    "w2v_emd, w2v_flow = dp.emd()"
   ]
  },
  {
   "cell_type": "code",
   "execution_count": 137,
   "metadata": {},
   "outputs": [
    {
     "data": {
      "text/html": [
       "<div>\n",
       "<style scoped>\n",
       "    .dataframe tbody tr th:only-of-type {\n",
       "        vertical-align: middle;\n",
       "    }\n",
       "\n",
       "    .dataframe tbody tr th {\n",
       "        vertical-align: top;\n",
       "    }\n",
       "\n",
       "    .dataframe thead th {\n",
       "        text-align: right;\n",
       "    }\n",
       "</style>\n",
       "<table border=\"1\" class=\"dataframe\">\n",
       "  <thead>\n",
       "    <tr style=\"text-align: right;\">\n",
       "      <th></th>\n",
       "      <th>beautiful</th>\n",
       "      <th>president</th>\n",
       "      <th>greets</th>\n",
       "      <th>press</th>\n",
       "      <th>chicago</th>\n",
       "      <th>beautiful</th>\n",
       "      <th>morning</th>\n",
       "    </tr>\n",
       "  </thead>\n",
       "  <tbody>\n",
       "    <tr>\n",
       "      <th>beautiful</th>\n",
       "      <td>0.142857</td>\n",
       "      <td>0.000000</td>\n",
       "      <td>0.000000</td>\n",
       "      <td>0.000000</td>\n",
       "      <td>0.000000</td>\n",
       "      <td>0.0</td>\n",
       "      <td>0.000000</td>\n",
       "    </tr>\n",
       "    <tr>\n",
       "      <th>obama</th>\n",
       "      <td>0.142857</td>\n",
       "      <td>0.000000</td>\n",
       "      <td>0.000000</td>\n",
       "      <td>0.000000</td>\n",
       "      <td>0.000000</td>\n",
       "      <td>0.0</td>\n",
       "      <td>0.000000</td>\n",
       "    </tr>\n",
       "    <tr>\n",
       "      <th>speaks</th>\n",
       "      <td>0.000000</td>\n",
       "      <td>0.000000</td>\n",
       "      <td>0.142857</td>\n",
       "      <td>0.000000</td>\n",
       "      <td>0.000000</td>\n",
       "      <td>0.0</td>\n",
       "      <td>0.000000</td>\n",
       "    </tr>\n",
       "    <tr>\n",
       "      <th>media</th>\n",
       "      <td>0.000000</td>\n",
       "      <td>0.000000</td>\n",
       "      <td>0.000000</td>\n",
       "      <td>0.142857</td>\n",
       "      <td>0.000000</td>\n",
       "      <td>0.0</td>\n",
       "      <td>0.000000</td>\n",
       "    </tr>\n",
       "    <tr>\n",
       "      <th>illinois</th>\n",
       "      <td>0.000000</td>\n",
       "      <td>0.000000</td>\n",
       "      <td>0.000000</td>\n",
       "      <td>0.000000</td>\n",
       "      <td>0.142857</td>\n",
       "      <td>0.0</td>\n",
       "      <td>0.000000</td>\n",
       "    </tr>\n",
       "    <tr>\n",
       "      <th>morning</th>\n",
       "      <td>0.000000</td>\n",
       "      <td>0.000000</td>\n",
       "      <td>0.000000</td>\n",
       "      <td>0.000000</td>\n",
       "      <td>0.000000</td>\n",
       "      <td>0.0</td>\n",
       "      <td>0.142857</td>\n",
       "    </tr>\n",
       "    <tr>\n",
       "      <th>iraq</th>\n",
       "      <td>0.000000</td>\n",
       "      <td>0.142857</td>\n",
       "      <td>0.000000</td>\n",
       "      <td>0.000000</td>\n",
       "      <td>0.000000</td>\n",
       "      <td>0.0</td>\n",
       "      <td>0.000000</td>\n",
       "    </tr>\n",
       "  </tbody>\n",
       "</table>\n",
       "</div>"
      ],
      "text/plain": [
       "           beautiful  president    greets     press   chicago  beautiful  \\\n",
       "beautiful   0.142857   0.000000  0.000000  0.000000  0.000000        0.0   \n",
       "obama       0.142857   0.000000  0.000000  0.000000  0.000000        0.0   \n",
       "speaks      0.000000   0.000000  0.142857  0.000000  0.000000        0.0   \n",
       "media       0.000000   0.000000  0.000000  0.142857  0.000000        0.0   \n",
       "illinois    0.000000   0.000000  0.000000  0.000000  0.142857        0.0   \n",
       "morning     0.000000   0.000000  0.000000  0.000000  0.000000        0.0   \n",
       "iraq        0.000000   0.142857  0.000000  0.000000  0.000000        0.0   \n",
       "\n",
       "            morning  \n",
       "beautiful  0.000000  \n",
       "obama      0.000000  \n",
       "speaks     0.000000  \n",
       "media      0.000000  \n",
       "illinois   0.000000  \n",
       "morning    0.142857  \n",
       "iraq       0.000000  "
      ]
     },
     "execution_count": 137,
     "metadata": {},
     "output_type": "execute_result"
    }
   ],
   "source": [
    "flow_df = pd.DataFrame(w2v_flow, index=dp.vocab, columns=dp.vocab)\n",
    "flow_df.iloc[dp.idx1,dp.idx2]"
   ]
  },
  {
   "cell_type": "code",
   "execution_count": 138,
   "metadata": {},
   "outputs": [
    {
     "data": {
      "text/html": [
       "<div>\n",
       "<style scoped>\n",
       "    .dataframe tbody tr th:only-of-type {\n",
       "        vertical-align: middle;\n",
       "    }\n",
       "\n",
       "    .dataframe tbody tr th {\n",
       "        vertical-align: top;\n",
       "    }\n",
       "\n",
       "    .dataframe thead th {\n",
       "        text-align: right;\n",
       "    }\n",
       "</style>\n",
       "<table border=\"1\" class=\"dataframe\">\n",
       "  <thead>\n",
       "    <tr style=\"text-align: right;\">\n",
       "      <th></th>\n",
       "      <th>beautiful</th>\n",
       "      <th>president</th>\n",
       "      <th>greets</th>\n",
       "      <th>press</th>\n",
       "      <th>chicago</th>\n",
       "      <th>beautiful</th>\n",
       "      <th>morning</th>\n",
       "    </tr>\n",
       "  </thead>\n",
       "  <tbody>\n",
       "    <tr>\n",
       "      <th>beautiful</th>\n",
       "      <td>0.000</td>\n",
       "      <td>0.000</td>\n",
       "      <td>0.00</td>\n",
       "      <td>0.000</td>\n",
       "      <td>0.000</td>\n",
       "      <td>0.0</td>\n",
       "      <td>0.0</td>\n",
       "    </tr>\n",
       "    <tr>\n",
       "      <th>obama</th>\n",
       "      <td>0.194</td>\n",
       "      <td>0.000</td>\n",
       "      <td>0.00</td>\n",
       "      <td>0.000</td>\n",
       "      <td>0.000</td>\n",
       "      <td>0.0</td>\n",
       "      <td>0.0</td>\n",
       "    </tr>\n",
       "    <tr>\n",
       "      <th>speaks</th>\n",
       "      <td>0.000</td>\n",
       "      <td>0.000</td>\n",
       "      <td>0.14</td>\n",
       "      <td>0.000</td>\n",
       "      <td>0.000</td>\n",
       "      <td>0.0</td>\n",
       "      <td>0.0</td>\n",
       "    </tr>\n",
       "    <tr>\n",
       "      <th>media</th>\n",
       "      <td>0.000</td>\n",
       "      <td>0.000</td>\n",
       "      <td>0.00</td>\n",
       "      <td>0.128</td>\n",
       "      <td>0.000</td>\n",
       "      <td>0.0</td>\n",
       "      <td>0.0</td>\n",
       "    </tr>\n",
       "    <tr>\n",
       "      <th>illinois</th>\n",
       "      <td>0.000</td>\n",
       "      <td>0.000</td>\n",
       "      <td>0.00</td>\n",
       "      <td>0.000</td>\n",
       "      <td>0.123</td>\n",
       "      <td>0.0</td>\n",
       "      <td>0.0</td>\n",
       "    </tr>\n",
       "    <tr>\n",
       "      <th>morning</th>\n",
       "      <td>0.000</td>\n",
       "      <td>0.000</td>\n",
       "      <td>0.00</td>\n",
       "      <td>0.000</td>\n",
       "      <td>0.000</td>\n",
       "      <td>0.0</td>\n",
       "      <td>0.0</td>\n",
       "    </tr>\n",
       "    <tr>\n",
       "      <th>iraq</th>\n",
       "      <td>0.000</td>\n",
       "      <td>0.202</td>\n",
       "      <td>0.00</td>\n",
       "      <td>0.000</td>\n",
       "      <td>0.000</td>\n",
       "      <td>0.0</td>\n",
       "      <td>0.0</td>\n",
       "    </tr>\n",
       "  </tbody>\n",
       "</table>\n",
       "</div>"
      ],
      "text/plain": [
       "           beautiful  president  greets  press  chicago  beautiful  morning\n",
       "beautiful      0.000      0.000    0.00  0.000    0.000        0.0      0.0\n",
       "obama          0.194      0.000    0.00  0.000    0.000        0.0      0.0\n",
       "speaks         0.000      0.000    0.14  0.000    0.000        0.0      0.0\n",
       "media          0.000      0.000    0.00  0.128    0.000        0.0      0.0\n",
       "illinois       0.000      0.000    0.00  0.000    0.123        0.0      0.0\n",
       "morning        0.000      0.000    0.00  0.000    0.000        0.0      0.0\n",
       "iraq           0.000      0.202    0.00  0.000    0.000        0.0      0.0"
      ]
     },
     "execution_count": 138,
     "metadata": {},
     "output_type": "execute_result"
    }
   ],
   "source": [
    "dist_df = pd.DataFrame(dp.w2v_distances, index=dp.vocab, columns=dp.vocab)\n",
    "cost_df = (flow_df * dist_df)\n",
    "cost_df.iloc[dp.idx1,dp.idx2].round(3)"
   ]
  },
  {
   "cell_type": "markdown",
   "metadata": {},
   "source": [
    "## Using LC RMWD Paper"
   ]
  },
  {
   "cell_type": "code",
   "execution_count": 10,
   "metadata": {},
   "outputs": [
    {
     "data": {
      "text/plain": [
       "TfidfVectorizer(norm='l1', use_idf=False)"
      ]
     },
     "execution_count": 10,
     "metadata": {},
     "output_type": "execute_result"
    }
   ],
   "source": [
    "from sklearn.feature_extraction.text import TfidfVectorizer\n",
    "\n",
    "X1 = [['beautiful','obama', 'speaks', 'media', 'illinois', 'morning','troops','return','iraq'],\n",
    "      ['beautiful','obama', 'speaks', 'media', 'illinois', 'beautiful', 'morning'],\n",
    "      [\"which\",\"team\",\"will\",\"lose\"],\n",
    "      ['obama', 'speaks', 'media', 'illinois'],\n",
    "      [\"is\", \"it\", \"gonna\", \"rain\", \"tomorrow\"],\n",
    "      ['one','more','sentence','test','stuf'],\n",
    "      ['you','shall','not','pass'],\n",
    "      ['kennedy','was','here','suckers'],\n",
    "      ['love','thy','neighbor'],\n",
    "      ['eye','revenge','eye']]\n",
    "X2 = [['beautiful','president', 'greets', 'press', 'chicago', 'beautiful','morning'],\n",
    "      ['president', 'greets', 'press', 'chicago', 'evening'],\n",
    "      [\"who\", \"is\", \"winning\"],\n",
    "      [\"the\", \"forecast\", \"says\", \"snow\"],\n",
    "      ['president', 'greets', 'press', 'chicago'],\n",
    "      ['hello','called','love','you'],\n",
    "      ['first','gang','die'],\n",
    "      ['best','times','worst','times'],\n",
    "      ['therefore','am'],\n",
    "      ['two','people','couch']]\n",
    "\n",
    "X1_sent = [\" \".join(doc) for doc in X1]\n",
    "X2_sent = [\" \".join(doc) for doc in X2]\n",
    "\n",
    "corpus = X1_sent + X2_sent\n",
    "\n",
    "vectorizer = TfidfVectorizer(use_idf=False, norm='l1')\n",
    "vectorizer.fit(corpus)"
   ]
  },
  {
   "cell_type": "code",
   "execution_count": 11,
   "metadata": {},
   "outputs": [],
   "source": [
    "features = vectorizer.get_feature_names()\n",
    "word2idx = {word: idx for idx, word in enumerate(vectorizer.get_feature_names())}\n",
    "idx2word = {idx: word for idx, word in enumerate(vectorizer.get_feature_names())}"
   ]
  },
  {
   "cell_type": "code",
   "execution_count": 12,
   "metadata": {},
   "outputs": [],
   "source": [
    "X1_nbow = vectorizer.transform(X1_sent)\n",
    "X2_nbow = vectorizer.transform(X2_sent)"
   ]
  },
  {
   "cell_type": "code",
   "execution_count": 13,
   "metadata": {},
   "outputs": [
    {
     "name": "stderr",
     "output_type": "stream",
     "text": [
      "<ipython-input-13-b640066a9eca>:1: DeprecationWarning: Call to deprecated `word_vec` (Use get_vector instead).\n",
      "  E = np.vstack([model.word_vec(word) for word in vectorizer.get_feature_names()])\n"
     ]
    }
   ],
   "source": [
    "E = np.vstack([model.word_vec(word) for word in vectorizer.get_feature_names()])"
   ]
  },
  {
   "cell_type": "markdown",
   "metadata": {},
   "source": [
    "### 1. WMD"
   ]
  },
  {
   "cell_type": "code",
   "execution_count": 14,
   "metadata": {},
   "outputs": [
    {
     "name": "stdout",
     "output_type": "stream",
     "text": [
      "CPU times: user 3 µs, sys: 0 ns, total: 3 µs\n",
      "Wall time: 4.29 µs\n"
     ]
    }
   ],
   "source": [
    "%time\n",
    "\n",
    "def lc_rmwd(X1, X2, E):\n",
    "    D1, D2 = [], []\n",
    "\n",
    "    # Atasu et al LC-RWMD: One-to-many\n",
    "    for idx2,doc2 in enumerate(X2):\n",
    "        Z = euclidean_distances(E, [vec for vec in [E[word2idx[word]] for word in doc2]]).min(axis=1)\n",
    "        LC_RWMD = np.dot(X1_nbow.toarray(), Z)\n",
    "        D1.append(LC_RWMD)\n",
    "\n",
    "    for idx1,doc1 in enumerate(X1):\n",
    "        Z = euclidean_distances(E, [vec for vec in [E[word2idx[word]] for word in doc1]]).min(axis=1)\n",
    "        LC_RWMD = np.dot(X2_nbow.toarray(), Z)\n",
    "        D2.append(LC_RWMD)\n",
    "\n",
    "    D = np.maximum(np.vstack(D1), np.vstack(np.transpose(D2)))\n",
    "    return D\n",
    "\n",
    "D = lc_rmwd(X1, X2, E)"
   ]
  },
  {
   "cell_type": "code",
   "execution_count": 15,
   "metadata": {},
   "outputs": [
    {
     "data": {
      "text/plain": [
       "array([[0.82725746, 0.57751435, 1.34030032, 1.14435359, 1.22157277,\n",
       "        1.28083788, 1.28982919, 1.21699172, 1.22740861, 1.3565355 ],\n",
       "       [1.05410856, 1.01023654, 1.32195076, 1.08054153, 1.22744477,\n",
       "        1.29915538, 1.31048636, 1.23490313, 1.32801049, 1.36230195],\n",
       "       [1.336287  , 1.32498339, 1.14809343, 1.31706247, 1.00633972,\n",
       "        1.29815297, 1.22959071, 1.19013703, 1.32402221, 1.33076803],\n",
       "       [1.28945665, 1.27277912, 1.2594012 , 1.29004994, 1.11325568,\n",
       "        1.24861984, 1.26217186, 1.26131362, 1.30896604, 1.34001368],\n",
       "       [1.11587715, 1.08263407, 1.33366004, 1.01065011, 1.28156326,\n",
       "        1.30140336, 1.30379188, 1.23090096, 1.32541144, 1.36797354],\n",
       "       [1.25172512, 1.19342194, 1.28216931, 1.28118557, 1.14592826,\n",
       "        1.24128144, 0.92043224, 1.17788664, 0.90561929, 1.32605949],\n",
       "       [1.32288837, 1.33760999, 1.23821968, 1.34087273, 1.27764707,\n",
       "        1.2329242 , 1.29380719, 1.2502839 , 1.27708765, 1.30551573],\n",
       "       [1.33702754, 1.31617936, 1.2611624 , 1.37642124, 1.27443929,\n",
       "        1.26762314, 1.28256562, 1.31622738, 1.31745517, 1.3513431 ],\n",
       "       [1.29666626, 1.28525911, 1.21898869, 1.3161135 , 1.19730608,\n",
       "        1.29548488, 1.18013245, 1.25346923, 1.3020912 , 1.37903255],\n",
       "       [1.31207973, 1.31770561, 1.30801427, 1.33758929, 1.27769914,\n",
       "        1.21476676, 1.26515192, 1.26527169, 1.26976955, 1.35968939]])"
      ]
     },
     "execution_count": 15,
     "metadata": {},
     "output_type": "execute_result"
    }
   ],
   "source": [
    "D"
   ]
  },
  {
   "cell_type": "code",
   "execution_count": 16,
   "metadata": {},
   "outputs": [],
   "source": [
    "X1_pref = []\n",
    "\n",
    "X1_pref = {str(idx): list(row.argsort()) for (idx, row) in enumerate(D)}\n",
    "X2_pref = {str(idx): list(row.argsort()) for (idx, row) in enumerate(D.T)}\n",
    "\n",
    "X1_pref = {kk: [str(v) for v in vv] for kk, vv in X1_pref.items()}\n",
    "X2_pref = {kk: [str(v) for v in vv] for kk, vv in X2_pref.items()}"
   ]
  },
  {
   "cell_type": "code",
   "execution_count": 17,
   "metadata": {},
   "outputs": [
    {
     "data": {
      "text/plain": [
       "True"
      ]
     },
     "execution_count": 17,
     "metadata": {},
     "output_type": "execute_result"
    }
   ],
   "source": [
    "from flow_wmd.gale_shapeley import Matcher\n",
    "\n",
    "matcher = Matcher(D)\n",
    "engaged = matcher.matchmaker()\n",
    "matcher.check()"
   ]
  },
  {
   "cell_type": "code",
   "execution_count": 18,
   "metadata": {},
   "outputs": [
    {
     "data": {
      "text/plain": [
       "{0: 1, 2: 4, 4: 3, 5: 8, 9: 5, 6: 2, 8: 6, 1: 0, 3: 7, 7: 9}"
      ]
     },
     "execution_count": 18,
     "metadata": {},
     "output_type": "execute_result"
    }
   ],
   "source": [
    "engaged"
   ]
  },
  {
   "cell_type": "code",
   "execution_count": 19,
   "metadata": {},
   "outputs": [
    {
     "data": {
      "text/html": [
       "<div>\n",
       "<style scoped>\n",
       "    .dataframe tbody tr th:only-of-type {\n",
       "        vertical-align: middle;\n",
       "    }\n",
       "\n",
       "    .dataframe tbody tr th {\n",
       "        vertical-align: top;\n",
       "    }\n",
       "\n",
       "    .dataframe thead th {\n",
       "        text-align: right;\n",
       "    }\n",
       "</style>\n",
       "<table border=\"1\" class=\"dataframe\">\n",
       "  <thead>\n",
       "    <tr style=\"text-align: right;\">\n",
       "      <th></th>\n",
       "      <th>beautiful obama speaks media illinois morning troops return iraq</th>\n",
       "      <th>beautiful obama speaks media illinois beautiful morning</th>\n",
       "      <th>which team will lose</th>\n",
       "      <th>obama speaks media illinois</th>\n",
       "      <th>is it gonna rain tomorrow</th>\n",
       "      <th>one more sentence test stuf</th>\n",
       "      <th>you shall not pass</th>\n",
       "      <th>kennedy was here suckers</th>\n",
       "      <th>love thy neighbor</th>\n",
       "      <th>eye revenge eye</th>\n",
       "    </tr>\n",
       "  </thead>\n",
       "  <tbody>\n",
       "    <tr>\n",
       "      <th>beautiful president greets press chicago beautiful morning</th>\n",
       "      <td>0.827257</td>\n",
       "      <td>0.577514</td>\n",
       "      <td>1.340300</td>\n",
       "      <td>1.144354</td>\n",
       "      <td>1.221573</td>\n",
       "      <td>1.280838</td>\n",
       "      <td>1.289829</td>\n",
       "      <td>1.216992</td>\n",
       "      <td>1.227409</td>\n",
       "      <td>1.356536</td>\n",
       "    </tr>\n",
       "    <tr>\n",
       "      <th>president greets press chicago evening</th>\n",
       "      <td>1.054109</td>\n",
       "      <td>1.010237</td>\n",
       "      <td>1.321951</td>\n",
       "      <td>1.080542</td>\n",
       "      <td>1.227445</td>\n",
       "      <td>1.299155</td>\n",
       "      <td>1.310486</td>\n",
       "      <td>1.234903</td>\n",
       "      <td>1.328010</td>\n",
       "      <td>1.362302</td>\n",
       "    </tr>\n",
       "    <tr>\n",
       "      <th>who is winning</th>\n",
       "      <td>1.336287</td>\n",
       "      <td>1.324983</td>\n",
       "      <td>1.148093</td>\n",
       "      <td>1.317062</td>\n",
       "      <td>1.006340</td>\n",
       "      <td>1.298153</td>\n",
       "      <td>1.229591</td>\n",
       "      <td>1.190137</td>\n",
       "      <td>1.324022</td>\n",
       "      <td>1.330768</td>\n",
       "    </tr>\n",
       "    <tr>\n",
       "      <th>the forecast says snow</th>\n",
       "      <td>1.289457</td>\n",
       "      <td>1.272779</td>\n",
       "      <td>1.259401</td>\n",
       "      <td>1.290050</td>\n",
       "      <td>1.113256</td>\n",
       "      <td>1.248620</td>\n",
       "      <td>1.262172</td>\n",
       "      <td>1.261314</td>\n",
       "      <td>1.308966</td>\n",
       "      <td>1.340014</td>\n",
       "    </tr>\n",
       "    <tr>\n",
       "      <th>president greets press chicago</th>\n",
       "      <td>1.115877</td>\n",
       "      <td>1.082634</td>\n",
       "      <td>1.333660</td>\n",
       "      <td>1.010650</td>\n",
       "      <td>1.281563</td>\n",
       "      <td>1.301403</td>\n",
       "      <td>1.303792</td>\n",
       "      <td>1.230901</td>\n",
       "      <td>1.325411</td>\n",
       "      <td>1.367974</td>\n",
       "    </tr>\n",
       "    <tr>\n",
       "      <th>hello called love you</th>\n",
       "      <td>1.251725</td>\n",
       "      <td>1.193422</td>\n",
       "      <td>1.282169</td>\n",
       "      <td>1.281186</td>\n",
       "      <td>1.145928</td>\n",
       "      <td>1.241281</td>\n",
       "      <td>0.920432</td>\n",
       "      <td>1.177887</td>\n",
       "      <td>0.905619</td>\n",
       "      <td>1.326059</td>\n",
       "    </tr>\n",
       "    <tr>\n",
       "      <th>first gang die</th>\n",
       "      <td>1.322888</td>\n",
       "      <td>1.337610</td>\n",
       "      <td>1.238220</td>\n",
       "      <td>1.340873</td>\n",
       "      <td>1.277647</td>\n",
       "      <td>1.232924</td>\n",
       "      <td>1.293807</td>\n",
       "      <td>1.250284</td>\n",
       "      <td>1.277088</td>\n",
       "      <td>1.305516</td>\n",
       "    </tr>\n",
       "    <tr>\n",
       "      <th>best times worst times</th>\n",
       "      <td>1.337028</td>\n",
       "      <td>1.316179</td>\n",
       "      <td>1.261162</td>\n",
       "      <td>1.376421</td>\n",
       "      <td>1.274439</td>\n",
       "      <td>1.267623</td>\n",
       "      <td>1.282566</td>\n",
       "      <td>1.316227</td>\n",
       "      <td>1.317455</td>\n",
       "      <td>1.351343</td>\n",
       "    </tr>\n",
       "    <tr>\n",
       "      <th>therefore am</th>\n",
       "      <td>1.296666</td>\n",
       "      <td>1.285259</td>\n",
       "      <td>1.218989</td>\n",
       "      <td>1.316114</td>\n",
       "      <td>1.197306</td>\n",
       "      <td>1.295485</td>\n",
       "      <td>1.180132</td>\n",
       "      <td>1.253469</td>\n",
       "      <td>1.302091</td>\n",
       "      <td>1.379033</td>\n",
       "    </tr>\n",
       "    <tr>\n",
       "      <th>two people couch</th>\n",
       "      <td>1.312080</td>\n",
       "      <td>1.317706</td>\n",
       "      <td>1.308014</td>\n",
       "      <td>1.337589</td>\n",
       "      <td>1.277699</td>\n",
       "      <td>1.214767</td>\n",
       "      <td>1.265152</td>\n",
       "      <td>1.265272</td>\n",
       "      <td>1.269770</td>\n",
       "      <td>1.359689</td>\n",
       "    </tr>\n",
       "  </tbody>\n",
       "</table>\n",
       "</div>"
      ],
      "text/plain": [
       "                                                    beautiful obama speaks media illinois morning troops return iraq  \\\n",
       "beautiful president greets press chicago beauti...                                           0.827257                  \n",
       "president greets press chicago evening                                                       1.054109                  \n",
       "who is winning                                                                               1.336287                  \n",
       "the forecast says snow                                                                       1.289457                  \n",
       "president greets press chicago                                                               1.115877                  \n",
       "hello called love you                                                                        1.251725                  \n",
       "first gang die                                                                               1.322888                  \n",
       "best times worst times                                                                       1.337028                  \n",
       "therefore am                                                                                 1.296666                  \n",
       "two people couch                                                                             1.312080                  \n",
       "\n",
       "                                                    beautiful obama speaks media illinois beautiful morning  \\\n",
       "beautiful president greets press chicago beauti...                                           0.577514         \n",
       "president greets press chicago evening                                                       1.010237         \n",
       "who is winning                                                                               1.324983         \n",
       "the forecast says snow                                                                       1.272779         \n",
       "president greets press chicago                                                               1.082634         \n",
       "hello called love you                                                                        1.193422         \n",
       "first gang die                                                                               1.337610         \n",
       "best times worst times                                                                       1.316179         \n",
       "therefore am                                                                                 1.285259         \n",
       "two people couch                                                                             1.317706         \n",
       "\n",
       "                                                    which team will lose  \\\n",
       "beautiful president greets press chicago beauti...              1.340300   \n",
       "president greets press chicago evening                          1.321951   \n",
       "who is winning                                                  1.148093   \n",
       "the forecast says snow                                          1.259401   \n",
       "president greets press chicago                                  1.333660   \n",
       "hello called love you                                           1.282169   \n",
       "first gang die                                                  1.238220   \n",
       "best times worst times                                          1.261162   \n",
       "therefore am                                                    1.218989   \n",
       "two people couch                                                1.308014   \n",
       "\n",
       "                                                    obama speaks media illinois  \\\n",
       "beautiful president greets press chicago beauti...                     1.144354   \n",
       "president greets press chicago evening                                 1.080542   \n",
       "who is winning                                                         1.317062   \n",
       "the forecast says snow                                                 1.290050   \n",
       "president greets press chicago                                         1.010650   \n",
       "hello called love you                                                  1.281186   \n",
       "first gang die                                                         1.340873   \n",
       "best times worst times                                                 1.376421   \n",
       "therefore am                                                           1.316114   \n",
       "two people couch                                                       1.337589   \n",
       "\n",
       "                                                    is it gonna rain tomorrow  \\\n",
       "beautiful president greets press chicago beauti...                   1.221573   \n",
       "president greets press chicago evening                               1.227445   \n",
       "who is winning                                                       1.006340   \n",
       "the forecast says snow                                               1.113256   \n",
       "president greets press chicago                                       1.281563   \n",
       "hello called love you                                                1.145928   \n",
       "first gang die                                                       1.277647   \n",
       "best times worst times                                               1.274439   \n",
       "therefore am                                                         1.197306   \n",
       "two people couch                                                     1.277699   \n",
       "\n",
       "                                                    one more sentence test stuf  \\\n",
       "beautiful president greets press chicago beauti...                     1.280838   \n",
       "president greets press chicago evening                                 1.299155   \n",
       "who is winning                                                         1.298153   \n",
       "the forecast says snow                                                 1.248620   \n",
       "president greets press chicago                                         1.301403   \n",
       "hello called love you                                                  1.241281   \n",
       "first gang die                                                         1.232924   \n",
       "best times worst times                                                 1.267623   \n",
       "therefore am                                                           1.295485   \n",
       "two people couch                                                       1.214767   \n",
       "\n",
       "                                                    you shall not pass  \\\n",
       "beautiful president greets press chicago beauti...            1.289829   \n",
       "president greets press chicago evening                        1.310486   \n",
       "who is winning                                                1.229591   \n",
       "the forecast says snow                                        1.262172   \n",
       "president greets press chicago                                1.303792   \n",
       "hello called love you                                         0.920432   \n",
       "first gang die                                                1.293807   \n",
       "best times worst times                                        1.282566   \n",
       "therefore am                                                  1.180132   \n",
       "two people couch                                              1.265152   \n",
       "\n",
       "                                                    kennedy was here suckers  \\\n",
       "beautiful president greets press chicago beauti...                  1.216992   \n",
       "president greets press chicago evening                              1.234903   \n",
       "who is winning                                                      1.190137   \n",
       "the forecast says snow                                              1.261314   \n",
       "president greets press chicago                                      1.230901   \n",
       "hello called love you                                               1.177887   \n",
       "first gang die                                                      1.250284   \n",
       "best times worst times                                              1.316227   \n",
       "therefore am                                                        1.253469   \n",
       "two people couch                                                    1.265272   \n",
       "\n",
       "                                                    love thy neighbor  \\\n",
       "beautiful president greets press chicago beauti...           1.227409   \n",
       "president greets press chicago evening                       1.328010   \n",
       "who is winning                                               1.324022   \n",
       "the forecast says snow                                       1.308966   \n",
       "president greets press chicago                               1.325411   \n",
       "hello called love you                                        0.905619   \n",
       "first gang die                                               1.277088   \n",
       "best times worst times                                       1.317455   \n",
       "therefore am                                                 1.302091   \n",
       "two people couch                                             1.269770   \n",
       "\n",
       "                                                    eye revenge eye  \n",
       "beautiful president greets press chicago beauti...         1.356536  \n",
       "president greets press chicago evening                     1.362302  \n",
       "who is winning                                             1.330768  \n",
       "the forecast says snow                                     1.340014  \n",
       "president greets press chicago                             1.367974  \n",
       "hello called love you                                      1.326059  \n",
       "first gang die                                             1.305516  \n",
       "best times worst times                                     1.351343  \n",
       "therefore am                                               1.379033  \n",
       "two people couch                                           1.359689  "
      ]
     },
     "execution_count": 19,
     "metadata": {},
     "output_type": "execute_result"
    }
   ],
   "source": [
    "distance_df = pd.DataFrame(D, index=X2_sent, columns=X1_sent)\n",
    "distance_df"
   ]
  },
  {
   "cell_type": "code",
   "execution_count": 20,
   "metadata": {},
   "outputs": [],
   "source": [
    "def WMD(X1, X2, X1_nbow, X2_nbow, E):\n",
    "    X1_idxs = list(set([word2idx[word] for word in X1]))\n",
    "    X2_idxs = list(set([word2idx[word] for word in X2]))\n",
    "    T_emd = E[X1_idxs + X2_idxs,]\n",
    "    C_emd = euclidean_distances(T_emd, T_emd)\n",
    "    X1_sig = np.concatenate((X1_nbow.toarray()[0,X1_idxs], np.zeros(len(X2_idxs))))\n",
    "    X2_sig = np.concatenate((np.zeros(len(X1_idxs)), X2_nbow.toarray()[0,X2_idxs]))\n",
    "    # Doing WMD\n",
    "    WMD = emd_with_flow(np.array(X1_sig, dtype=np.double), \n",
    "                                np.array(X2_sig, dtype=np.double), \n",
    "                                np.array(C_emd, dtype=np.double))\n",
    "    #WMD_s.append(WMD + (X1_indeces, X2_indeces))\n",
    "    m = np.array(WMD[1])[:len(X1_idxs),len(X1_idxs):]\n",
    "    return (WMD[0],m,X1_idxs,X2_idxs)"
   ]
  },
  {
   "cell_type": "code",
   "execution_count": 22,
   "metadata": {},
   "outputs": [
    {
     "name": "stdout",
     "output_type": "stream",
     "text": [
      "CPU times: user 2 µs, sys: 1 µs, total: 3 µs\n",
      "Wall time: 4.05 µs\n"
     ]
    }
   ],
   "source": [
    "import bottleneck as bn\n",
    "\n",
    "%time\n",
    "\n",
    "def fast_get_L(X1, X2, \n",
    "          X1_nbow, X2_nbow, \n",
    "          D, E, n):\n",
    "    n = 2\n",
    "    L_values = []\n",
    "    for idx1, doc1 in enumerate(X1):\n",
    "        values = bn.partition(D[idx1], D[idx1].size-n)[:-n]\n",
    "        indeces = bn.argpartition(D[idx1], D[idx1].size-n)[:-n]\n",
    "        WMD_s = []\n",
    "        for idx2 in indeces:\n",
    "            doc2 = X2[idx2]\n",
    "            X2_indeces = list(set([word2idx[word] for word in doc2]))\n",
    "            wmd = WMD(doc1, doc2, X1_nbow[idx1],X2_nbow[idx2],E)[0]\n",
    "            WMD_s.append(wmd)\n",
    "        L = max(WMD_s)\n",
    "        L_values.append((idx1, L))\n",
    "    return L_values\n",
    "\n",
    "L_values = fast_get_L(X1, X2, X1_nbow, X2_nbow,D, E, 2)"
   ]
  },
  {
   "cell_type": "code",
   "execution_count": 23,
   "metadata": {},
   "outputs": [
    {
     "data": {
      "text/plain": [
       "[0, 1, 2, 3, 4, 5, 6, 7, 8, 9]"
      ]
     },
     "execution_count": 23,
     "metadata": {},
     "output_type": "execute_result"
    }
   ],
   "source": [
    "list(range(len(X1)))"
   ]
  },
  {
   "cell_type": "code",
   "execution_count": 32,
   "metadata": {},
   "outputs": [
    {
     "name": "stdout",
     "output_type": "stream",
     "text": [
      "CPU times: user 2 µs, sys: 0 ns, total: 2 µs\n",
      "Wall time: 4.05 µs\n"
     ]
    }
   ],
   "source": [
    "import bottleneck as bn\n",
    "\n",
    "%time\n",
    "\n",
    "def get_L(X1, X2, \n",
    "          X1_nbow, X2_nbow, \n",
    "          D, E, n):\n",
    "    L_values = []\n",
    "    for idx1, doc1 in enumerate(X1):\n",
    "        values = bn.partition(D[idx1], D[idx1].size-n)[:-n]\n",
    "        indeces = bn.argpartition(D[idx1], D[idx1].size-n)[:-n]\n",
    "        WMD_s = []\n",
    "        for idx2 in indeces:\n",
    "            doc2 = X2[idx2]\n",
    "            X2_indeces = list(set([word2idx[word] for word in doc2]))\n",
    "            wmd = WMD(doc1, doc2, X1_nbow[idx1],X2_nbow[idx2],E)[0]\n",
    "            WMD_s.append(wmd)\n",
    "        L = max(WMD_s)\n",
    "        L_values.append((idx1, L))\n",
    "    return L_values\n",
    "\n",
    "L_values = get_L(X1, X2, X1_nbow, X2_nbow,D, E, 2)"
   ]
  },
  {
   "cell_type": "code",
   "execution_count": 25,
   "metadata": {},
   "outputs": [
    {
     "data": {
      "text/plain": [
       "[(0, 1.3440824106096465),\n",
       " (1, 1.3435464752353057),\n",
       " (2, 1.3413949351295233),\n",
       " (3, 1.3834322830935122),\n",
       " (4, 1.30095842616584),\n",
       " (5, 1.3166037171496152),\n",
       " (6, 1.3219162567487956),\n",
       " (7, 1.3167128382524846),\n",
       " (8, 1.3334503746436128),\n",
       " (9, 1.3829850634988057)]"
      ]
     },
     "execution_count": 25,
     "metadata": {},
     "output_type": "execute_result"
    }
   ],
   "source": [
    "L_values"
   ]
  },
  {
   "cell_type": "code",
   "execution_count": 36,
   "metadata": {},
   "outputs": [],
   "source": [
    "def R_WMD(L_values, X1, X2, X1_nbow, X2_nbow):\n",
    "    wmd_s = []\n",
    "    for L in L_values:\n",
    "        for idx2, row in enumerate(D[L[0]]):\n",
    "            #print(row)\n",
    "            #print(L[1])\n",
    "            #print(\"\\n\")\n",
    "            if row < L[1]:\n",
    "                wmd = WMD(X1[L[0]], X2[idx2], X1_nbow[L[0]], X2_nbow[idx2], E)\n",
    "                wmd_s.append(wmd)\n",
    "            else:\n",
    "                pass\n",
    "    return wmd_s\n",
    "\n",
    "rmwds = R_WMD(L_values, X1, X2, X1_nbow, X2_nbow)"
   ]
  },
  {
   "cell_type": "code",
   "execution_count": 42,
   "metadata": {},
   "outputs": [
    {
     "data": {
      "text/plain": [
       "array([0.82725746, 0.57751435, 1.34030032, 1.14435359, 1.22157277,\n",
       "       1.28083788, 1.28982919, 1.21699172, 1.22740861, 1.3565355 ])"
      ]
     },
     "execution_count": 42,
     "metadata": {},
     "output_type": "execute_result"
    }
   ],
   "source": [
    "D[0]"
   ]
  },
  {
   "cell_type": "code",
   "execution_count": 41,
   "metadata": {},
   "outputs": [
    {
     "data": {
      "text/plain": [
       "[(0, 1.3440824106096465),\n",
       " (1, 1.3435464752353057),\n",
       " (2, 1.3413949351295233),\n",
       " (3, 1.3834322830935122),\n",
       " (4, 1.30095842616584),\n",
       " (5, 1.3166037171496152),\n",
       " (6, 1.3219162567487956),\n",
       " (7, 1.3167128382524846),\n",
       " (8, 1.3334503746436128),\n",
       " (9, 1.3829850634988057)]"
      ]
     },
     "execution_count": 41,
     "metadata": {},
     "output_type": "execute_result"
    }
   ],
   "source": [
    "L_values"
   ]
  },
  {
   "cell_type": "code",
   "execution_count": 28,
   "metadata": {},
   "outputs": [
    {
     "data": {
      "text/html": [
       "<div>\n",
       "<style scoped>\n",
       "    .dataframe tbody tr th:only-of-type {\n",
       "        vertical-align: middle;\n",
       "    }\n",
       "\n",
       "    .dataframe tbody tr th {\n",
       "        vertical-align: top;\n",
       "    }\n",
       "\n",
       "    .dataframe thead th {\n",
       "        text-align: right;\n",
       "    }\n",
       "</style>\n",
       "<table border=\"1\" class=\"dataframe\">\n",
       "  <thead>\n",
       "    <tr style=\"text-align: right;\">\n",
       "      <th></th>\n",
       "      <th>president</th>\n",
       "      <th>press</th>\n",
       "      <th>chicago</th>\n",
       "      <th>evening</th>\n",
       "      <th>greets</th>\n",
       "    </tr>\n",
       "  </thead>\n",
       "  <tbody>\n",
       "    <tr>\n",
       "      <th>beautiful</th>\n",
       "      <td>0.022222</td>\n",
       "      <td>0.000000</td>\n",
       "      <td>0.000000</td>\n",
       "      <td>0.000000</td>\n",
       "      <td>0.088889</td>\n",
       "    </tr>\n",
       "    <tr>\n",
       "      <th>return</th>\n",
       "      <td>0.000000</td>\n",
       "      <td>0.022222</td>\n",
       "      <td>0.000000</td>\n",
       "      <td>0.088889</td>\n",
       "      <td>0.000000</td>\n",
       "    </tr>\n",
       "    <tr>\n",
       "      <th>speaks</th>\n",
       "      <td>0.000000</td>\n",
       "      <td>0.000000</td>\n",
       "      <td>0.000000</td>\n",
       "      <td>0.000000</td>\n",
       "      <td>0.111111</td>\n",
       "    </tr>\n",
       "    <tr>\n",
       "      <th>illinois</th>\n",
       "      <td>0.000000</td>\n",
       "      <td>0.000000</td>\n",
       "      <td>0.111111</td>\n",
       "      <td>0.000000</td>\n",
       "      <td>0.000000</td>\n",
       "    </tr>\n",
       "    <tr>\n",
       "      <th>iraq</th>\n",
       "      <td>0.044444</td>\n",
       "      <td>0.066667</td>\n",
       "      <td>0.000000</td>\n",
       "      <td>0.000000</td>\n",
       "      <td>0.000000</td>\n",
       "    </tr>\n",
       "    <tr>\n",
       "      <th>troops</th>\n",
       "      <td>0.111111</td>\n",
       "      <td>0.000000</td>\n",
       "      <td>0.000000</td>\n",
       "      <td>0.000000</td>\n",
       "      <td>0.000000</td>\n",
       "    </tr>\n",
       "    <tr>\n",
       "      <th>media</th>\n",
       "      <td>0.000000</td>\n",
       "      <td>0.111111</td>\n",
       "      <td>0.000000</td>\n",
       "      <td>0.000000</td>\n",
       "      <td>0.000000</td>\n",
       "    </tr>\n",
       "    <tr>\n",
       "      <th>morning</th>\n",
       "      <td>0.000000</td>\n",
       "      <td>0.000000</td>\n",
       "      <td>0.000000</td>\n",
       "      <td>0.111111</td>\n",
       "      <td>0.000000</td>\n",
       "    </tr>\n",
       "    <tr>\n",
       "      <th>obama</th>\n",
       "      <td>0.022222</td>\n",
       "      <td>0.000000</td>\n",
       "      <td>0.088889</td>\n",
       "      <td>0.000000</td>\n",
       "      <td>0.000000</td>\n",
       "    </tr>\n",
       "  </tbody>\n",
       "</table>\n",
       "</div>"
      ],
      "text/plain": [
       "           president     press   chicago   evening    greets\n",
       "beautiful   0.022222  0.000000  0.000000  0.000000  0.088889\n",
       "return      0.000000  0.022222  0.000000  0.088889  0.000000\n",
       "speaks      0.000000  0.000000  0.000000  0.000000  0.111111\n",
       "illinois    0.000000  0.000000  0.111111  0.000000  0.000000\n",
       "iraq        0.044444  0.066667  0.000000  0.000000  0.000000\n",
       "troops      0.111111  0.000000  0.000000  0.000000  0.000000\n",
       "media       0.000000  0.111111  0.000000  0.000000  0.000000\n",
       "morning     0.000000  0.000000  0.000000  0.111111  0.000000\n",
       "obama       0.022222  0.000000  0.088889  0.000000  0.000000"
      ]
     },
     "execution_count": 28,
     "metadata": {},
     "output_type": "execute_result"
    }
   ],
   "source": [
    "cost_df = pd.DataFrame(rmwds[1][1], \n",
    "                       index=[idx2word[idx] for idx in rmwds[1][2]], \n",
    "                       columns=[idx2word[idx] for idx in rmwds[1][3]])\n",
    "cost_df"
   ]
  },
  {
   "cell_type": "markdown",
   "metadata": {},
   "source": [
    "## RWMD revisited (August 2021)"
   ]
  },
  {
   "cell_type": "code",
   "execution_count": 58,
   "metadata": {},
   "outputs": [
    {
     "data": {
      "text/plain": [
       "CountVectorizer(stop_words={'a', 'about', 'above', 'after', 'again', 'against',\n",
       "                            'ain', 'all', 'am', 'an', 'and', 'any', 'are',\n",
       "                            'aren', \"aren't\", 'as', 'at', 'be', 'because',\n",
       "                            'been', 'before', 'being', 'below', 'between',\n",
       "                            'both', 'but', 'by', 'can', 'couldn', \"couldn't\", ...})"
      ]
     },
     "execution_count": 58,
     "metadata": {},
     "output_type": "execute_result"
    }
   ],
   "source": [
    "from sklearn.feature_extraction.text import CountVectorizer\n",
    "from nltk.corpus import stopwords\n",
    "\n",
    "doc1 = \" \".join(sentence1_words)\n",
    "doc2 = \" \".join(sentence2_words)\n",
    "\n",
    "stopwords_set = set(stopwords.words('english'))\n",
    "documents = [doc1, doc2]\n",
    "nbow = CountVectorizer(stop_words = stopwords_set)\n",
    "nbow.fit([doc for doc in documents])"
   ]
  },
  {
   "cell_type": "code",
   "execution_count": 63,
   "metadata": {},
   "outputs": [],
   "source": [
    "vocabulary = set(model.index_to_key)\n",
    "names = nbow.get_feature_names()"
   ]
  },
  {
   "cell_type": "code",
   "execution_count": 70,
   "metadata": {},
   "outputs": [],
   "source": [
    "def flow_graph_rwmd(doc1, doc2):     \n",
    "    v1, v2    = nbow.transform([doc1, doc2])   \n",
    "    index     = np.union1d(v1.indices, v2.indices)\n",
    "    \n",
    "    v1  = v1.toarray().ravel()\n",
    "    v2  = v2.toarray().ravel()\n",
    "\n",
    "    n         = len(index)    \n",
    "#     index_map = [index[i] for i in range(n) if names[index[i]] in vocabulary]\n",
    "    index_map = [i for i in index if names[i] in vocabulary]\n",
    "    source    = np.zeros(len(index_map))\n",
    "    sink      = np.zeros(len(index_map))\n",
    "    vecs      = np.zeros(shape = (len(index_map), 300))\n",
    "\n",
    "    for j, i in enumerate(index_map):\n",
    "        source[j] = v1[i]\n",
    "        sink[j]   = v2[i]\n",
    "        vecs[j]   = model[names[i]]\n",
    "#         print(names[i])\n",
    "    sum_source = sum(source)\n",
    "    sum_sink = sum(sink)\n",
    "    if sum_source == 0:\n",
    "        sum_source = 1\n",
    "    if sum_sink == 0:\n",
    "        sum_sink = 1\n",
    "    return (source / sum_source, sink / sum_sink, vecs)\n"
   ]
  },
  {
   "cell_type": "code",
   "execution_count": 120,
   "metadata": {},
   "outputs": [],
   "source": [
    "def rwmd_(doc1, doc2):\n",
    "    source, sink, vecs = flow_graph_rwmd(doc1, doc2)\n",
    "    weights = euclidean_distances(vecs)\n",
    "    potential_dj = list(j for j, dj in enumerate(sink) if dj > 0)\n",
    "    new_weights_dj = list(min(weights[i, potential_dj]) for i in range(len(source)))\n",
    "    potential_di = list(i for i, di in enumerate(source) if di > 0)\n",
    "    new_weights_di = list(min(weights[j, potential_di]) for j in range(len(sink)))\n",
    "    rwmd = max(np.dot(new_weights_dj, source), np.dot(new_weights_di, sink))\n",
    "    return rwmd"
   ]
  },
  {
   "cell_type": "code",
   "execution_count": 121,
   "metadata": {},
   "outputs": [
    {
     "data": {
      "text/plain": [
       "'beautiful obama speaks media illinois morning iraq'"
      ]
     },
     "execution_count": 121,
     "metadata": {},
     "output_type": "execute_result"
    }
   ],
   "source": [
    "doc1"
   ]
  },
  {
   "cell_type": "code",
   "execution_count": 122,
   "metadata": {},
   "outputs": [
    {
     "data": {
      "text/plain": [
       "'beautiful president greets press chicago beautiful morning'"
      ]
     },
     "execution_count": 122,
     "metadata": {},
     "output_type": "execute_result"
    }
   ],
   "source": [
    "doc2"
   ]
  },
  {
   "cell_type": "code",
   "execution_count": 123,
   "metadata": {},
   "outputs": [
    {
     "data": {
      "text/plain": [
       "0.6892952702116069"
      ]
     },
     "execution_count": 123,
     "metadata": {},
     "output_type": "execute_result"
    }
   ],
   "source": [
    "rwmd_(doc1, doc2)"
   ]
  },
  {
   "cell_type": "code",
   "execution_count": 118,
   "metadata": {},
   "outputs": [],
   "source": [
    "source, sink, vecs = flow_graph_rwmd(doc1, doc2)"
   ]
  },
  {
   "cell_type": "code",
   "execution_count": 100,
   "metadata": {},
   "outputs": [
    {
     "name": "stdout",
     "output_type": "stream",
     "text": [
      "[0.14285714 0.         0.         0.14285714 0.14285714 0.14285714\n",
      " 0.14285714 0.14285714 0.         0.         0.14285714]\n",
      "[0.28571429 0.14285714 0.14285714 0.         0.         0.\n",
      " 0.14285714 0.         0.14285714 0.14285714 0.        ]\n",
      "11\n",
      "11\n",
      "11\n"
     ]
    }
   ],
   "source": [
    "print(source)\n",
    "print(sink)\n",
    "print(len(source))\n",
    "print(len(sink))\n",
    "print(len(vecs))"
   ]
  },
  {
   "cell_type": "code",
   "execution_count": 102,
   "metadata": {},
   "outputs": [
    {
     "name": "stdout",
     "output_type": "stream",
     "text": [
      "11\n",
      "[[0.         1.34256729 1.30131367 1.36322785 1.37574318 1.42906725\n",
      "  1.35944544 1.35738904 1.42581627 1.39553837 1.31566228]\n",
      " [1.34256729 0.         1.37007087 0.86072855 1.10787424 1.38123171\n",
      "  1.33345207 0.98541434 1.41867127 1.37537805 1.3499811 ]\n",
      " [1.30131367 1.37007087 0.         1.37085179 1.43199013 1.33151178\n",
      "  1.26411535 1.37600482 1.33362547 1.28527545 0.9780999 ]\n",
      " [1.36322785 0.86072855 1.37085179 0.         1.10740923 1.40152814\n",
      "  1.33655016 1.03601759 1.4259402  1.38934576 1.36625094]\n",
      " [1.37574318 1.10787424 1.43199013 1.10740923 0.         1.38972075\n",
      "  1.41328485 0.94665669 1.41136532 1.37599085 1.37361004]\n",
      " [1.42906725 1.38123171 1.33151178 1.40152814 1.38972075 0.\n",
      "  1.34366823 1.3406543  1.34258846 0.89294986 1.29293702]\n",
      " [1.35944544 1.33345207 1.26411535 1.33655016 1.41328485 1.34366823\n",
      "  0.         1.35696713 1.41013729 1.2586186  1.36000256]\n",
      " [1.35738904 0.98541434 1.37600482 1.03601759 0.94665669 1.3406543\n",
      "  1.35696713 0.         1.33808043 1.34161041 1.38691697]\n",
      " [1.42581627 1.41867127 1.33362547 1.4259402  1.41136532 1.34258846\n",
      "  1.41013729 1.33808043 0.         1.31564818 1.3108222 ]\n",
      " [1.39553837 1.37537805 1.28527545 1.38934576 1.37599085 0.89294986\n",
      "  1.2586186  1.34161041 1.31564818 0.         1.20305783]\n",
      " [1.31566228 1.3499811  0.9780999  1.36625094 1.37361004 1.29293702\n",
      "  1.36000256 1.38691697 1.3108222  1.20305783 0.        ]]\n"
     ]
    }
   ],
   "source": [
    "weights = euclidean_distances(vecs)\n",
    "print(len(weights))\n",
    "print(weights)"
   ]
  },
  {
   "cell_type": "code",
   "execution_count": 103,
   "metadata": {},
   "outputs": [
    {
     "name": "stdout",
     "output_type": "stream",
     "text": [
      "[0, 1, 2, 6, 8, 9]\n"
     ]
    }
   ],
   "source": [
    "new_weights_dj = []\n",
    "potential_dj = list(j for j, dj in enumerate(sink) if dj > 0)\n",
    "print(potential_dj)"
   ]
  },
  {
   "cell_type": "code",
   "execution_count": 105,
   "metadata": {},
   "outputs": [
    {
     "name": "stdout",
     "output_type": "stream",
     "text": [
      "[0.0, 0.0, 0.0, 0.8607285451074355, 1.1078742397408554, 0.89294986372621, 0.0, 0.9854143431632054, 0.0, 0.0, 0.9780998997435427]\n"
     ]
    }
   ],
   "source": [
    "new_weights_dj = list(min(weights[i, potential_dj]) for i in range(len(source)))\n",
    "print(new_weights_dj)"
   ]
  },
  {
   "cell_type": "code",
   "execution_count": 106,
   "metadata": {},
   "outputs": [],
   "source": [
    "potential_di = list(i for i, di in enumerate(source) if di > 0)\n",
    "new_weights_di = list(min(weights[j, potential_di]) for j in range(len(sink)))"
   ]
  },
  {
   "cell_type": "code",
   "execution_count": 110,
   "metadata": {},
   "outputs": [
    {
     "data": {
      "text/plain": [
       "[0.0,\n",
       " 0.0,\n",
       " 0.0,\n",
       " 0.8607285451074355,\n",
       " 1.1078742397408554,\n",
       " 0.89294986372621,\n",
       " 0.0,\n",
       " 0.9854143431632054,\n",
       " 0.0,\n",
       " 0.0,\n",
       " 0.9780998997435427]"
      ]
     },
     "execution_count": 110,
     "metadata": {},
     "output_type": "execute_result"
    }
   ],
   "source": [
    "new_weights_dj"
   ]
  },
  {
   "cell_type": "code",
   "execution_count": 114,
   "metadata": {},
   "outputs": [
    {
     "data": {
      "text/plain": [
       "array([0.        , 0.        , 0.        , 0.12296122, 0.15826775,\n",
       "       0.12756427, 0.        , 0.14077348, 0.        , 0.        ,\n",
       "       0.13972856])"
      ]
     },
     "execution_count": 114,
     "metadata": {},
     "output_type": "execute_result"
    }
   ],
   "source": [
    "np.multiply(new_weights_dj, source)"
   ]
  },
  {
   "cell_type": "code",
   "execution_count": 109,
   "metadata": {},
   "outputs": [
    {
     "data": {
      "text/plain": [
       "0.6892952702116069"
      ]
     },
     "execution_count": 109,
     "metadata": {},
     "output_type": "execute_result"
    }
   ],
   "source": [
    "np.dot(new_weights_dj, source)"
   ]
  },
  {
   "cell_type": "code",
   "execution_count": 108,
   "metadata": {},
   "outputs": [
    {
     "data": {
      "text/plain": [
       "0.6892952702116069"
      ]
     },
     "execution_count": 108,
     "metadata": {},
     "output_type": "execute_result"
    }
   ],
   "source": [
    "rwmd = max(np.dot(new_weights_dj, source), np.dot(new_weights_di, sink))\n",
    "rwmd"
   ]
  },
  {
   "cell_type": "markdown",
   "metadata": {},
   "source": [
    "## Modularize LC-RMWD"
   ]
  },
  {
   "cell_type": "code",
   "execution_count": 229,
   "metadata": {},
   "outputs": [
    {
     "data": {
      "text/plain": [
       "TfidfVectorizer(norm='l1', use_idf=False)"
      ]
     },
     "execution_count": 229,
     "metadata": {},
     "output_type": "execute_result"
    }
   ],
   "source": [
    "from sklearn.feature_extraction.text import TfidfVectorizer\n",
    "\n",
    "X1 = [['beautiful','obama', 'speaks', 'media', 'illinois', 'morning','iraq'],\n",
    "      ['beautiful','obama', 'speaks', 'media', 'illinois', 'beautiful', 'morning'],\n",
    "      [\"which\",\"team\",\"will\",\"lose\"],\n",
    "      [\"is\", \"it\", \"gonna\", \"rain\", \"tomorrow\"],\n",
    "      ['obama', 'speaks', 'media', 'illinois']]\n",
    "X2 = [['beautiful','president', 'greets', 'press', 'chicago', 'beautiful','morning'],\n",
    "      ['president', 'greets', 'press', 'chicago', 'evening'],\n",
    "      [\"who\", \"is\", \"winning\"],\n",
    "      [\"the\", \"forecast\", \"says\", \"snow\"],\n",
    "      ['president', 'greets', 'press', 'chicago'],\n",
    "      ['hello','called','love','you']]\n",
    "\n",
    "X1_sent = [\" \".join(doc) for doc in X1]\n",
    "X2_sent = [\" \".join(doc) for doc in X2]\n",
    "\n",
    "corpus = X1_sent + X2_sent\n",
    "\n",
    "#vectorizer = TfidfVectorizer(use_idf=False, norm='l2')\n",
    "vectorizer = TfidfVectorizer(use_idf=False, norm='l1')\n",
    "vectorizer.fit(corpus)"
   ]
  },
  {
   "cell_type": "code",
   "execution_count": 178,
   "metadata": {},
   "outputs": [],
   "source": [
    "features = vectorizer.get_feature_names()\n",
    "word2idx = {word: idx for idx, word in enumerate(vectorizer.get_feature_names())}\n",
    "idx2word = {idx: word a idx, word in enumerate(vectorizer.get_feature_names())}"
   ]
  },
  {
   "cell_type": "code",
   "execution_count": 179,
   "metadata": {},
   "outputs": [
    {
     "data": {
      "text/plain": [
       "2"
      ]
     },
     "execution_count": 179,
     "metadata": {},
     "output_type": "execute_result"
    }
   ],
   "source": [
    "word2idx['chicago']"
   ]
  },
  {
   "cell_type": "code",
   "execution_count": 256,
   "metadata": {},
   "outputs": [
    {
     "name": "stdout",
     "output_type": "stream",
     "text": [
      "CPU times: user 2 µs, sys: 1 µs, total: 3 µs\n",
      "Wall time: 4.77 µs\n"
     ]
    }
   ],
   "source": [
    "#X1_corpus = \n",
    "%time\n",
    "X1_nbow = vectorizer.transform(X1_sent)\n",
    "X2_nbow = vectorizer.transform(X2_sent)"
   ]
  },
  {
   "cell_type": "code",
   "execution_count": 102,
   "metadata": {},
   "outputs": [],
   "source": [
    "E = np.vstack([model.word_vec(word) for word in vectorizer.get_feature_names()])"
   ]
  },
  {
   "cell_type": "code",
   "execution_count": 642,
   "metadata": {},
   "outputs": [
    {
     "name": "stdout",
     "output_type": "stream",
     "text": [
      "The autoreload extension is already loaded. To reload it, use:\n",
      "  %reload_ext autoreload\n"
     ]
    }
   ],
   "source": [
    "from flow_wmd.modules_rwmd import Document, LC_RWMD, WMDCluster\n",
    "\n",
    "%load_ext autoreload\n",
    "%autoreload 2"
   ]
  },
  {
   "cell_type": "code",
   "execution_count": 208,
   "metadata": {},
   "outputs": [
    {
     "data": {
      "text/plain": [
       "'beautiful obama speaks media illinois morning iraq'"
      ]
     },
     "execution_count": 208,
     "metadata": {},
     "output_type": "execute_result"
    }
   ],
   "source": [
    "X1_sent[0]"
   ]
  },
  {
   "cell_type": "code",
   "execution_count": 239,
   "metadata": {},
   "outputs": [
    {
     "data": {
      "text/plain": [
       "'beautiful obama speaks media illinois beautiful morning'"
      ]
     },
     "execution_count": 239,
     "metadata": {},
     "output_type": "execute_result"
    }
   ],
   "source": [
    "X1_sent[1]"
   ]
  },
  {
   "cell_type": "code",
   "execution_count": 564,
   "metadata": {},
   "outputs": [
    {
     "name": "stdout",
     "output_type": "stream",
     "text": [
      "CPU times: user 2 µs, sys: 0 ns, total: 2 µs\n",
      "Wall time: 4.05 µs\n"
     ]
    }
   ],
   "source": [
    "%time \n",
    "\n",
    "X1_docs, X2_docs = [], []\n",
    "\n",
    "X1_nbow = vectorizer.transform(X1_sent)\n",
    "X2_nbow = vectorizer.transform(X2_sent)\n",
    "\n",
    "for idx, doc in enumerate(X1):\n",
    "    X1_docs.append(Document(doc, X1_nbow[idx], word2idx, E))\n",
    "    \n",
    "for idx, doc in enumerate(X2):\n",
    "    X2_docs.append(Document(doc, X2_nbow[idx], word2idx, E))"
   ]
  },
  {
   "cell_type": "code",
   "execution_count": 565,
   "metadata": {},
   "outputs": [
    {
     "name": "stdout",
     "output_type": "stream",
     "text": [
      "CPU times: user 2 µs, sys: 0 ns, total: 2 µs\n",
      "Wall time: 4.77 µs\n"
     ]
    }
   ],
   "source": [
    "%time\n",
    "\n",
    "lc_rwmd = LC_RWMD(X1_docs, X2_docs,X1_nbow,X2_nbow,E)\n",
    "lc_rwmd.get_D()\n",
    "lc_rwmd.get_L(2)\n",
    "lc_rwmd.get_rwmd()"
   ]
  },
  {
   "cell_type": "code",
   "execution_count": 566,
   "metadata": {},
   "outputs": [
    {
     "data": {
      "text/plain": [
       "[0.7779423936888455,\n",
       " 1.0577764527086124,\n",
       " 0.5814076731150226,\n",
       " 1.0601321450052137,\n",
       " 1.1221033037203125,\n",
       " 1.3456935750793113,\n",
       " 1.33409258504228,\n",
       " 1.1613731145914146,\n",
       " 1.2665668245616257,\n",
       " 1.3413949351295233,\n",
       " 1.1287236809574008,\n",
       " 1.1562737829503784,\n",
       " 1.0927072101407647,\n",
       " 1.0174646259300113]"
      ]
     },
     "execution_count": 566,
     "metadata": {},
     "output_type": "execute_result"
    }
   ],
   "source": [
    "lc_rwmd.wmd_s"
   ]
  },
  {
   "cell_type": "code",
   "execution_count": 569,
   "metadata": {},
   "outputs": [
    {
     "data": {
      "text/plain": [
       "<flow_wmd.modules_rwmd.Document at 0x7f942b48d9a0>"
      ]
     },
     "execution_count": 569,
     "metadata": {},
     "output_type": "execute_result"
    }
   ],
   "source": [
    "X1_docs[0]"
   ]
  },
  {
   "cell_type": "code",
   "execution_count": 649,
   "metadata": {},
   "outputs": [
    {
     "data": {
      "text/plain": [
       "<flow_wmd.modules_rwmd.Document at 0x7f942b48d9a0>"
      ]
     },
     "execution_count": 649,
     "metadata": {},
     "output_type": "execute_result"
    }
   ],
   "source": [
    "X1_docs[0]"
   ]
  },
  {
   "cell_type": "code",
   "execution_count": 655,
   "metadata": {},
   "outputs": [
    {
     "name": "stdout",
     "output_type": "stream",
     "text": [
      "CPU times: user 1e+03 ns, sys: 1 µs, total: 2 µs\n",
      "Wall time: 2.86 µs\n"
     ]
    }
   ],
   "source": [
    "%time\n",
    "\n",
    "distances, wc_X1, wc_X2 = WMDCluster(X1_docs, X2_docs,E,idx2word).get_distances(return_flow = True)"
   ]
  },
  {
   "cell_type": "code",
   "execution_count": 658,
   "metadata": {},
   "outputs": [
    {
     "data": {
      "text/plain": [
       "{'is': 1.27494,\n",
       " 'iraq': 1.18948,\n",
       " 'it': 1.4954100000000001,\n",
       " 'beautiful': 2.7164,\n",
       " 'which': 1.9112699999999998,\n",
       " 'lose': 1.9683000000000002,\n",
       " 'speaks': 3.5973,\n",
       " 'obama': 4.23171,\n",
       " 'will': 1.8686099999999999,\n",
       " 'tomorrow': 1.46315,\n",
       " 'media': 3.61458,\n",
       " 'illinois': 3.6213599999999997,\n",
       " 'rain': 1.4949000000000001,\n",
       " 'gonna': 1.41928,\n",
       " 'morning': 1.70016,\n",
       " 'team': 1.9965}"
      ]
     },
     "execution_count": 658,
     "metadata": {},
     "output_type": "execute_result"
    }
   ],
   "source": [
    "wc_X1"
   ]
  },
  {
   "cell_type": "code",
   "execution_count": 578,
   "metadata": {},
   "outputs": [
    {
     "name": "stdout",
     "output_type": "stream",
     "text": [
      "CPU times: user 2 µs, sys: 0 ns, total: 2 µs\n",
      "Wall time: 5.25 µs\n"
     ]
    }
   ],
   "source": [
    "%time\n",
    "\n",
    "test = WMDCluster(X1_docs[0:2], X2_docs[0:2],E,idx2word).get_flow()[0]"
   ]
  },
  {
   "cell_type": "code",
   "execution_count": 632,
   "metadata": {},
   "outputs": [
    {
     "data": {
      "text/plain": [
       "array([0.     , 0.     , 0.19653, 0.     , 0.     , 0.     , 0.     ])"
      ]
     },
     "execution_count": 632,
     "metadata": {},
     "output_type": "execute_result"
    }
   ],
   "source": [
    "test[2][:,0]"
   ]
  },
  {
   "cell_type": "code",
   "execution_count": 580,
   "metadata": {},
   "outputs": [
    {
     "data": {
      "text/html": [
       "<div>\n",
       "<style scoped>\n",
       "    .dataframe tbody tr th:only-of-type {\n",
       "        vertical-align: middle;\n",
       "    }\n",
       "\n",
       "    .dataframe tbody tr th {\n",
       "        vertical-align: top;\n",
       "    }\n",
       "\n",
       "    .dataframe thead th {\n",
       "        text-align: right;\n",
       "    }\n",
       "</style>\n",
       "<table border=\"1\" class=\"dataframe\">\n",
       "  <thead>\n",
       "    <tr style=\"text-align: right;\">\n",
       "      <th></th>\n",
       "      <th>beautiful</th>\n",
       "      <th>chicago</th>\n",
       "      <th>greets</th>\n",
       "      <th>morning</th>\n",
       "      <th>president</th>\n",
       "      <th>press</th>\n",
       "    </tr>\n",
       "  </thead>\n",
       "  <tbody>\n",
       "    <tr>\n",
       "      <th>beautiful</th>\n",
       "      <td>0.00000</td>\n",
       "      <td>0.00000</td>\n",
       "      <td>0.00000</td>\n",
       "      <td>0.0</td>\n",
       "      <td>0.00000</td>\n",
       "      <td>0.00000</td>\n",
       "    </tr>\n",
       "    <tr>\n",
       "      <th>illinois</th>\n",
       "      <td>0.00000</td>\n",
       "      <td>0.12296</td>\n",
       "      <td>0.00000</td>\n",
       "      <td>0.0</td>\n",
       "      <td>0.00000</td>\n",
       "      <td>0.00000</td>\n",
       "    </tr>\n",
       "    <tr>\n",
       "      <th>iraq</th>\n",
       "      <td>0.19653</td>\n",
       "      <td>0.00000</td>\n",
       "      <td>0.00000</td>\n",
       "      <td>0.0</td>\n",
       "      <td>0.00000</td>\n",
       "      <td>0.00000</td>\n",
       "    </tr>\n",
       "    <tr>\n",
       "      <th>media</th>\n",
       "      <td>0.00000</td>\n",
       "      <td>0.00000</td>\n",
       "      <td>0.00000</td>\n",
       "      <td>0.0</td>\n",
       "      <td>0.00000</td>\n",
       "      <td>0.12756</td>\n",
       "    </tr>\n",
       "    <tr>\n",
       "      <th>morning</th>\n",
       "      <td>0.00000</td>\n",
       "      <td>0.00000</td>\n",
       "      <td>0.00000</td>\n",
       "      <td>0.0</td>\n",
       "      <td>0.00000</td>\n",
       "      <td>0.00000</td>\n",
       "    </tr>\n",
       "    <tr>\n",
       "      <th>obama</th>\n",
       "      <td>0.00000</td>\n",
       "      <td>0.00000</td>\n",
       "      <td>0.00000</td>\n",
       "      <td>0.0</td>\n",
       "      <td>0.19115</td>\n",
       "      <td>0.00000</td>\n",
       "    </tr>\n",
       "    <tr>\n",
       "      <th>speaks</th>\n",
       "      <td>0.00000</td>\n",
       "      <td>0.00000</td>\n",
       "      <td>0.13973</td>\n",
       "      <td>0.0</td>\n",
       "      <td>0.00000</td>\n",
       "      <td>0.00000</td>\n",
       "    </tr>\n",
       "  </tbody>\n",
       "</table>\n",
       "</div>"
      ],
      "text/plain": [
       "           beautiful  chicago   greets  morning  president    press\n",
       "beautiful    0.00000  0.00000  0.00000      0.0    0.00000  0.00000\n",
       "illinois     0.00000  0.12296  0.00000      0.0    0.00000  0.00000\n",
       "iraq         0.19653  0.00000  0.00000      0.0    0.00000  0.00000\n",
       "media        0.00000  0.00000  0.00000      0.0    0.00000  0.12756\n",
       "morning      0.00000  0.00000  0.00000      0.0    0.00000  0.00000\n",
       "obama        0.00000  0.00000  0.00000      0.0    0.19115  0.00000\n",
       "speaks       0.00000  0.00000  0.13973      0.0    0.00000  0.00000"
      ]
     },
     "execution_count": 580,
     "metadata": {},
     "output_type": "execute_result"
    }
   ],
   "source": [
    "pd.DataFrame(test[2], index=test[3],columns=test[4])"
   ]
  },
  {
   "cell_type": "code",
   "execution_count": 521,
   "metadata": {},
   "outputs": [
    {
     "data": {
      "text/html": [
       "<div>\n",
       "<style scoped>\n",
       "    .dataframe tbody tr th:only-of-type {\n",
       "        vertical-align: middle;\n",
       "    }\n",
       "\n",
       "    .dataframe tbody tr th {\n",
       "        vertical-align: top;\n",
       "    }\n",
       "\n",
       "    .dataframe thead th {\n",
       "        text-align: right;\n",
       "    }\n",
       "</style>\n",
       "<table border=\"1\" class=\"dataframe\">\n",
       "  <thead>\n",
       "    <tr style=\"text-align: right;\">\n",
       "      <th></th>\n",
       "      <th>beautiful</th>\n",
       "      <th>chicago</th>\n",
       "      <th>greets</th>\n",
       "      <th>morning</th>\n",
       "      <th>president</th>\n",
       "      <th>press</th>\n",
       "    </tr>\n",
       "  </thead>\n",
       "  <tbody>\n",
       "    <tr>\n",
       "      <th>beautiful</th>\n",
       "      <td>0.00000</td>\n",
       "      <td>0.00000</td>\n",
       "      <td>0.00000</td>\n",
       "      <td>0.0</td>\n",
       "      <td>0.00000</td>\n",
       "      <td>0.00000</td>\n",
       "    </tr>\n",
       "    <tr>\n",
       "      <th>illinois</th>\n",
       "      <td>0.00000</td>\n",
       "      <td>0.12296</td>\n",
       "      <td>0.00000</td>\n",
       "      <td>0.0</td>\n",
       "      <td>0.00000</td>\n",
       "      <td>0.00000</td>\n",
       "    </tr>\n",
       "    <tr>\n",
       "      <th>iraq</th>\n",
       "      <td>0.19653</td>\n",
       "      <td>0.00000</td>\n",
       "      <td>0.00000</td>\n",
       "      <td>0.0</td>\n",
       "      <td>0.00000</td>\n",
       "      <td>0.00000</td>\n",
       "    </tr>\n",
       "    <tr>\n",
       "      <th>media</th>\n",
       "      <td>0.00000</td>\n",
       "      <td>0.00000</td>\n",
       "      <td>0.00000</td>\n",
       "      <td>0.0</td>\n",
       "      <td>0.00000</td>\n",
       "      <td>0.12756</td>\n",
       "    </tr>\n",
       "    <tr>\n",
       "      <th>morning</th>\n",
       "      <td>0.00000</td>\n",
       "      <td>0.00000</td>\n",
       "      <td>0.00000</td>\n",
       "      <td>0.0</td>\n",
       "      <td>0.00000</td>\n",
       "      <td>0.00000</td>\n",
       "    </tr>\n",
       "    <tr>\n",
       "      <th>obama</th>\n",
       "      <td>0.00000</td>\n",
       "      <td>0.00000</td>\n",
       "      <td>0.00000</td>\n",
       "      <td>0.0</td>\n",
       "      <td>0.19115</td>\n",
       "      <td>0.00000</td>\n",
       "    </tr>\n",
       "    <tr>\n",
       "      <th>speaks</th>\n",
       "      <td>0.00000</td>\n",
       "      <td>0.00000</td>\n",
       "      <td>0.13973</td>\n",
       "      <td>0.0</td>\n",
       "      <td>0.00000</td>\n",
       "      <td>0.00000</td>\n",
       "    </tr>\n",
       "  </tbody>\n",
       "</table>\n",
       "</div>"
      ],
      "text/plain": [
       "           beautiful  chicago   greets  morning  president    press\n",
       "beautiful    0.00000  0.00000  0.00000      0.0    0.00000  0.00000\n",
       "illinois     0.00000  0.12296  0.00000      0.0    0.00000  0.00000\n",
       "iraq         0.19653  0.00000  0.00000      0.0    0.00000  0.00000\n",
       "media        0.00000  0.00000  0.00000      0.0    0.00000  0.12756\n",
       "morning      0.00000  0.00000  0.00000      0.0    0.00000  0.00000\n",
       "obama        0.00000  0.00000  0.00000      0.0    0.19115  0.00000\n",
       "speaks       0.00000  0.00000  0.13973      0.0    0.00000  0.00000"
      ]
     },
     "execution_count": 521,
     "metadata": {},
     "output_type": "execute_result"
    }
   ],
   "source": [
    "cost_m = test[0]*test[1]\n",
    "cost_m = cost_m[:len(test[2]),len(test[2]):].round(5)\n",
    "pd.DataFrame(cost_m, index=w1,columns=w2)"
   ]
  },
  {
   "cell_type": "code",
   "execution_count": 69,
   "metadata": {},
   "outputs": [
    {
     "data": {
      "text/plain": [
       "array([-0.15780888, -0.17197762, -0.14504768, -0.12993725, -0.16405022,\n",
       "       -0.1421869 , -0.22472994, -0.15382984, -0.14625083, -0.13629027,\n",
       "       -0.13017109, -0.17396213, -0.12993725, -0.16405022, -0.15780888,\n",
       "       -0.14504768, -0.161765  , -0.16040245, -0.16454686, -0.1797309 ],\n",
       "      dtype=float32)"
      ]
     },
     "execution_count": 69,
     "metadata": {},
     "output_type": "execute_result"
    }
   ],
   "source": [
    "T2_full = []\n",
    "\n",
    "# Atasu et al LC-RWMD: Many-to-many NOT WORKING\n",
    "for idx2,doc2 in enumerate(X2):\n",
    "    # Helper to quickly get word vectors for X2\n",
    "    X2_indeces = list(set([word2idx[word] for word in doc2]))\n",
    "    #Atasu et al. RMWD\n",
    "    T2 = E[X2_indeces,]\n",
    "    T2_full.append(T2)\n",
    "    #ET2 = np.dot(E)\n",
    "    #Z_mtm =\n",
    "\n",
    "np.vstack(T2_full).min(axis=1)"
   ]
  },
  {
   "cell_type": "code",
   "execution_count": 70,
   "metadata": {},
   "outputs": [
    {
     "name": "stdout",
     "output_type": "stream",
     "text": [
      "CPU times: user 2 µs, sys: 1 µs, total: 3 µs\n",
      "Wall time: 5.01 µs\n"
     ]
    }
   ],
   "source": [
    "%time\n",
    "\n",
    "RWMD_s = []\n",
    "\n",
    "for idx1,doc1 in enumerate(X1):\n",
    "    # Helper to quickly get word vectors for X1\n",
    "    X1_indeces = list(set([word2idx[word] for word in doc1]))\n",
    "\n",
    "    # Atasu et al. RMWD\n",
    "    T1 = E[X1_indeces,]\n",
    "    F1 = X1_nbow[idx1].toarray()[0,X1_indeces]\n",
    "    \n",
    "    # Helper\n",
    "    similarity = []\n",
    "    for idx2,doc2 in enumerate(X2):\n",
    "        # Helper to quickly get word vectors for X2\n",
    "        X2_indeces = list(set([word2idx[word] for word in doc2]))\n",
    "        \n",
    "        #Atasu et al. RMWD\n",
    "        T2 = E[X2_indeces,]\n",
    "        F2 = X2_nbow[idx2].toarray()[0,X2_indeces]\n",
    "        \n",
    "        C = euclidean_distances(T1, T2)\n",
    "        RWMD = np.maximum(np.dot(np.min(C, axis=1), F1),\n",
    "                          np.dot(np.min(C, axis=0), F2))\n",
    "        \n",
    "        # Helper\n",
    "        similarity.append((doc1, idx2, doc2,RWMD))\n",
    "        \n",
    "        # Required by pyemd, but not part of the Atasu et al.\n",
    "        T_emd = E[X1_indeces + X2_indeces,]\n",
    "        C_emd = euclidean_distances(T_emd, T_emd)\n",
    "        X1_sig = np.concatenate((X1_nbow[3].toarray()[0,X1_indeces], np.zeros(len(F2))))\n",
    "        X2_sig = np.concatenate((np.zeros(len(F1)), X2_nbow[3].toarray()[0,X2_indeces]))\n",
    "        \n",
    "        # Doing WMD\n",
    "        WMD = emd_with_flow(np.array(X1_sig, dtype=np.double), \n",
    "                            np.array(X2_sig, dtype=np.double), \n",
    "                            np.array(C_emd, dtype=np.double))\n",
    "        \n",
    "        #print(WMD[0])\n",
    "        #print(RWMD)\n",
    "    RWMD_s.append(similarity)"
   ]
  },
  {
   "cell_type": "code",
   "execution_count": 71,
   "metadata": {},
   "outputs": [
    {
     "name": "stdout",
     "output_type": "stream",
     "text": [
      "['beautiful', 'obama', 'speaks', 'media', 'illinois', 'beautiful', 'morning']\n",
      "['president', 'greets', 'press', 'chicago', 'evening']\n",
      "1.0102365442684718\n",
      "['beautiful', 'obama', 'speaks', 'media', 'illinois', 'beautiful', 'morning']\n",
      "['president', 'greets', 'press', 'chicago']\n",
      "1.0826340743473597\n",
      "['beautiful', 'obama', 'speaks', 'media', 'illinois', 'beautiful', 'morning']\n",
      "['hello', 'called', 'love', 'you']\n",
      "1.1934219428471156\n",
      "['beautiful', 'obama', 'speaks', 'media', 'illinois', 'beautiful', 'morning']\n",
      "['the', 'forecast', 'says', 'snow']\n",
      "1.2727791241237094\n",
      "['beautiful', 'obama', 'speaks', 'media', 'illinois', 'beautiful', 'morning']\n",
      "['who', 'is', 'winning']\n",
      "1.3249833924429755\n",
      "\n",
      "\n",
      "['which', 'team', 'will', 'lose']\n",
      "['who', 'is', 'winning']\n",
      "1.148093432188034\n",
      "['which', 'team', 'will', 'lose']\n",
      "['the', 'forecast', 'says', 'snow']\n",
      "1.2594012022018433\n",
      "['which', 'team', 'will', 'lose']\n",
      "['hello', 'called', 'love', 'you']\n",
      "1.2821693122386932\n",
      "['which', 'team', 'will', 'lose']\n",
      "['president', 'greets', 'press', 'chicago', 'evening']\n",
      "1.321950763463974\n",
      "['which', 'team', 'will', 'lose']\n",
      "['president', 'greets', 'press', 'chicago']\n",
      "1.3336600363254547\n",
      "\n",
      "\n",
      "['is', 'it', 'gonna', 'rain', 'tomorrow']\n",
      "['who', 'is', 'winning']\n",
      "1.006339716911316\n",
      "['is', 'it', 'gonna', 'rain', 'tomorrow']\n",
      "['the', 'forecast', 'says', 'snow']\n",
      "1.1132556796073914\n",
      "['is', 'it', 'gonna', 'rain', 'tomorrow']\n",
      "['hello', 'called', 'love', 'you']\n",
      "1.1459282636642456\n",
      "['is', 'it', 'gonna', 'rain', 'tomorrow']\n",
      "['president', 'greets', 'press', 'chicago', 'evening']\n",
      "1.2274447679519653\n",
      "['is', 'it', 'gonna', 'rain', 'tomorrow']\n",
      "['president', 'greets', 'press', 'chicago']\n",
      "1.2815632581710814\n",
      "\n",
      "\n",
      "['obama', 'speaks', 'media', 'illinois']\n",
      "['president', 'greets', 'press', 'chicago']\n",
      "1.0106501132249832\n",
      "['obama', 'speaks', 'media', 'illinois']\n",
      "['president', 'greets', 'press', 'chicago', 'evening']\n",
      "1.0805415272712708\n",
      "['obama', 'speaks', 'media', 'illinois']\n",
      "['hello', 'called', 'love', 'you']\n",
      "1.2811855673789978\n",
      "['obama', 'speaks', 'media', 'illinois']\n",
      "['the', 'forecast', 'says', 'snow']\n",
      "1.2900499403476715\n",
      "['obama', 'speaks', 'media', 'illinois']\n",
      "['who', 'is', 'winning']\n",
      "1.3170624673366547\n",
      "\n",
      "\n"
     ]
    }
   ],
   "source": [
    "k = 5\n",
    "k_RWMD = [sorted(rwmd, key = lambda t: t[3], reverse=False)[:k] for rwmd in RWMD_s]\n",
    "\n",
    "for k in k_RWMD:\n",
    "    for scores in k:\n",
    "        print(scores[0])\n",
    "        print(scores[2])\n",
    "        print(scores[3])\n",
    "    print(\"\\n\")"
   ]
  }
 ],
 "metadata": {
  "kernelspec": {
   "display_name": "venv-fwmd",
   "language": "python",
   "name": "venv-fwmd"
  },
  "language_info": {
   "codemirror_mode": {
    "name": "ipython",
    "version": 3
   },
   "file_extension": ".py",
   "mimetype": "text/x-python",
   "name": "python",
   "nbconvert_exporter": "python",
   "pygments_lexer": "ipython3",
   "version": "3.8.3"
  }
 },
 "nbformat": 4,
 "nbformat_minor": 4
}

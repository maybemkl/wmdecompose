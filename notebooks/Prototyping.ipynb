{
 "cells": [
  {
   "cell_type": "code",
   "execution_count": 15,
   "metadata": {},
   "outputs": [],
   "source": [
    "from collections import Counter, namedtuple\n",
    "from gensim.models import KeyedVectors\n",
    "from nltk.stem import WordNetLemmatizer\n",
    "from pyemd import emd_with_flow, emd\n",
    "from sklearn.metrics import euclidean_distances\n",
    "\n",
    "import numpy as np\n",
    "import pandas as pd\n",
    "import time"
   ]
  },
  {
   "cell_type": "code",
   "execution_count": 3,
   "metadata": {},
   "outputs": [],
   "source": [
    "from flow_wmd.modules import Document, DocPair\n",
    "\n",
    "%load_ext autoreload\n",
    "%autoreload 2"
   ]
  },
  {
   "cell_type": "markdown",
   "metadata": {},
   "source": [
    "## Load WV model"
   ]
  },
  {
   "cell_type": "code",
   "execution_count": 4,
   "metadata": {},
   "outputs": [
    {
     "name": "stdout",
     "output_type": "stream",
     "text": [
      "Loading GoogleNews Vectors\n",
      "CPU times: user 42 s, sys: 3.89 s, total: 45.9 s\n",
      "Wall time: 47.9 s\n"
     ]
    }
   ],
   "source": [
    "def read_1w_corpus(name, sep=\"\\t\"):\n",
    "    for line in open(name):\n",
    "        yield line.split(sep)\n",
    "\n",
    "print(\"Loading GoogleNews Vectors\")\n",
    "%time model = KeyedVectors.load_word2vec_format('GoogleNews-vectors-negative300.bin.gz', binary=True)"
   ]
  },
  {
   "cell_type": "code",
   "execution_count": 6,
   "metadata": {},
   "outputs": [
    {
     "name": "stdout",
     "output_type": "stream",
     "text": [
      "CPU times: user 4.36 s, sys: 12.1 s, total: 16.5 s\n",
      "Wall time: 28.1 s\n"
     ]
    }
   ],
   "source": [
    "%time model.init_sims(replace=True)"
   ]
  },
  {
   "cell_type": "markdown",
   "metadata": {},
   "source": [
    "## First Try"
   ]
  },
  {
   "cell_type": "code",
   "execution_count": null,
   "metadata": {},
   "outputs": [],
   "source": [
    "# Obama speaks to the media in Illinois \n",
    "sentence1_words = ['obama', 'speaks', 'media', 'illinois']\n",
    "\n",
    "# The President greets the press in Chicago. \n",
    "sentence2_words = ['president', 'greets', 'press', 'chicago']"
   ]
  },
  {
   "cell_type": "code",
   "execution_count": 125,
   "metadata": {},
   "outputs": [],
   "source": [
    "# Obama speaks to the media in Illinois \n",
    "sentence1_words = ['beautiful','obama', 'speaks', 'media', 'illinois', 'morning','iraq']\n",
    "\n",
    "# The President greets the press in Chicago. \n",
    "sentence2_words = ['beautiful','president', 'greets', 'press', 'chicago', 'beautiful','morning']"
   ]
  },
  {
   "cell_type": "code",
   "execution_count": 126,
   "metadata": {},
   "outputs": [
    {
     "name": "stdout",
     "output_type": "stream",
     "text": [
      "CPU times: user 2 µs, sys: 0 ns, total: 2 µs\n",
      "Wall time: 4.05 µs\n"
     ]
    }
   ],
   "source": [
    "%time\n",
    "source = Document(sentence1_words)\n",
    "source.instantiate(model)\n",
    "\n",
    "sink = Document(sentence2_words)\n",
    "sink.instantiate(model)"
   ]
  },
  {
   "cell_type": "code",
   "execution_count": 127,
   "metadata": {},
   "outputs": [
    {
     "name": "stdout",
     "output_type": "stream",
     "text": [
      "CPU times: user 19 µs, sys: 0 ns, total: 19 µs\n",
      "Wall time: 21.9 µs\n",
      "CPU times: user 86 µs, sys: 26 µs, total: 112 µs\n",
      "Wall time: 88.7 µs\n",
      "CPU times: user 1.39 ms, sys: 1.35 ms, total: 2.74 ms\n",
      "Wall time: 3.13 ms\n",
      "CPU times: user 236 µs, sys: 20 µs, total: 256 µs\n",
      "Wall time: 256 µs\n"
     ]
    }
   ],
   "source": [
    "%time dp = DocPair(source, sink)\n",
    "%time dp.getsignature()\n",
    "%time dp.emd()\n",
    "%time dp.getCost()"
   ]
  },
  {
   "cell_type": "code",
   "execution_count": 83,
   "metadata": {},
   "outputs": [
    {
     "data": {
      "text/plain": [
       "{'beautiful': 0.0,\n",
       " 'obama': 0.19391,\n",
       " 'speaks': 0.13973,\n",
       " 'media': 0.12756,\n",
       " 'illinois': 0.12296,\n",
       " 'morning': 0.0,\n",
       " 'Iraq': 0.18869}"
      ]
     },
     "execution_count": 83,
     "metadata": {},
     "output_type": "execute_result"
    }
   ],
   "source": [
    "dp.source_cost"
   ]
  },
  {
   "cell_type": "code",
   "execution_count": 84,
   "metadata": {},
   "outputs": [
    {
     "data": {
      "text/plain": [
       "{'beautiful': 0.0,\n",
       " 'president': 0.18869,\n",
       " 'greets': 0.13973,\n",
       " 'press': 0.12756,\n",
       " 'chicago': 0.12296,\n",
       " 'morning': 0.0}"
      ]
     },
     "execution_count": 84,
     "metadata": {},
     "output_type": "execute_result"
    }
   ],
   "source": [
    "dp.sink_cost"
   ]
  },
  {
   "cell_type": "code",
   "execution_count": 85,
   "metadata": {},
   "outputs": [],
   "source": [
    "w2v_emd, w2v_flow = dp.emd()"
   ]
  },
  {
   "cell_type": "code",
   "execution_count": 137,
   "metadata": {},
   "outputs": [
    {
     "data": {
      "text/html": [
       "<div>\n",
       "<style scoped>\n",
       "    .dataframe tbody tr th:only-of-type {\n",
       "        vertical-align: middle;\n",
       "    }\n",
       "\n",
       "    .dataframe tbody tr th {\n",
       "        vertical-align: top;\n",
       "    }\n",
       "\n",
       "    .dataframe thead th {\n",
       "        text-align: right;\n",
       "    }\n",
       "</style>\n",
       "<table border=\"1\" class=\"dataframe\">\n",
       "  <thead>\n",
       "    <tr style=\"text-align: right;\">\n",
       "      <th></th>\n",
       "      <th>beautiful</th>\n",
       "      <th>president</th>\n",
       "      <th>greets</th>\n",
       "      <th>press</th>\n",
       "      <th>chicago</th>\n",
       "      <th>beautiful</th>\n",
       "      <th>morning</th>\n",
       "    </tr>\n",
       "  </thead>\n",
       "  <tbody>\n",
       "    <tr>\n",
       "      <th>beautiful</th>\n",
       "      <td>0.142857</td>\n",
       "      <td>0.000000</td>\n",
       "      <td>0.000000</td>\n",
       "      <td>0.000000</td>\n",
       "      <td>0.000000</td>\n",
       "      <td>0.0</td>\n",
       "      <td>0.000000</td>\n",
       "    </tr>\n",
       "    <tr>\n",
       "      <th>obama</th>\n",
       "      <td>0.142857</td>\n",
       "      <td>0.000000</td>\n",
       "      <td>0.000000</td>\n",
       "      <td>0.000000</td>\n",
       "      <td>0.000000</td>\n",
       "      <td>0.0</td>\n",
       "      <td>0.000000</td>\n",
       "    </tr>\n",
       "    <tr>\n",
       "      <th>speaks</th>\n",
       "      <td>0.000000</td>\n",
       "      <td>0.000000</td>\n",
       "      <td>0.142857</td>\n",
       "      <td>0.000000</td>\n",
       "      <td>0.000000</td>\n",
       "      <td>0.0</td>\n",
       "      <td>0.000000</td>\n",
       "    </tr>\n",
       "    <tr>\n",
       "      <th>media</th>\n",
       "      <td>0.000000</td>\n",
       "      <td>0.000000</td>\n",
       "      <td>0.000000</td>\n",
       "      <td>0.142857</td>\n",
       "      <td>0.000000</td>\n",
       "      <td>0.0</td>\n",
       "      <td>0.000000</td>\n",
       "    </tr>\n",
       "    <tr>\n",
       "      <th>illinois</th>\n",
       "      <td>0.000000</td>\n",
       "      <td>0.000000</td>\n",
       "      <td>0.000000</td>\n",
       "      <td>0.000000</td>\n",
       "      <td>0.142857</td>\n",
       "      <td>0.0</td>\n",
       "      <td>0.000000</td>\n",
       "    </tr>\n",
       "    <tr>\n",
       "      <th>morning</th>\n",
       "      <td>0.000000</td>\n",
       "      <td>0.000000</td>\n",
       "      <td>0.000000</td>\n",
       "      <td>0.000000</td>\n",
       "      <td>0.000000</td>\n",
       "      <td>0.0</td>\n",
       "      <td>0.142857</td>\n",
       "    </tr>\n",
       "    <tr>\n",
       "      <th>iraq</th>\n",
       "      <td>0.000000</td>\n",
       "      <td>0.142857</td>\n",
       "      <td>0.000000</td>\n",
       "      <td>0.000000</td>\n",
       "      <td>0.000000</td>\n",
       "      <td>0.0</td>\n",
       "      <td>0.000000</td>\n",
       "    </tr>\n",
       "  </tbody>\n",
       "</table>\n",
       "</div>"
      ],
      "text/plain": [
       "           beautiful  president    greets     press   chicago  beautiful  \\\n",
       "beautiful   0.142857   0.000000  0.000000  0.000000  0.000000        0.0   \n",
       "obama       0.142857   0.000000  0.000000  0.000000  0.000000        0.0   \n",
       "speaks      0.000000   0.000000  0.142857  0.000000  0.000000        0.0   \n",
       "media       0.000000   0.000000  0.000000  0.142857  0.000000        0.0   \n",
       "illinois    0.000000   0.000000  0.000000  0.000000  0.142857        0.0   \n",
       "morning     0.000000   0.000000  0.000000  0.000000  0.000000        0.0   \n",
       "iraq        0.000000   0.142857  0.000000  0.000000  0.000000        0.0   \n",
       "\n",
       "            morning  \n",
       "beautiful  0.000000  \n",
       "obama      0.000000  \n",
       "speaks     0.000000  \n",
       "media      0.000000  \n",
       "illinois   0.000000  \n",
       "morning    0.142857  \n",
       "iraq       0.000000  "
      ]
     },
     "execution_count": 137,
     "metadata": {},
     "output_type": "execute_result"
    }
   ],
   "source": [
    "flow_df = pd.DataFrame(w2v_flow, index=dp.vocab, columns=dp.vocab)\n",
    "flow_df.iloc[dp.idx1,dp.idx2]"
   ]
  },
  {
   "cell_type": "code",
   "execution_count": 138,
   "metadata": {},
   "outputs": [
    {
     "data": {
      "text/html": [
       "<div>\n",
       "<style scoped>\n",
       "    .dataframe tbody tr th:only-of-type {\n",
       "        vertical-align: middle;\n",
       "    }\n",
       "\n",
       "    .dataframe tbody tr th {\n",
       "        vertical-align: top;\n",
       "    }\n",
       "\n",
       "    .dataframe thead th {\n",
       "        text-align: right;\n",
       "    }\n",
       "</style>\n",
       "<table border=\"1\" class=\"dataframe\">\n",
       "  <thead>\n",
       "    <tr style=\"text-align: right;\">\n",
       "      <th></th>\n",
       "      <th>beautiful</th>\n",
       "      <th>president</th>\n",
       "      <th>greets</th>\n",
       "      <th>press</th>\n",
       "      <th>chicago</th>\n",
       "      <th>beautiful</th>\n",
       "      <th>morning</th>\n",
       "    </tr>\n",
       "  </thead>\n",
       "  <tbody>\n",
       "    <tr>\n",
       "      <th>beautiful</th>\n",
       "      <td>0.000</td>\n",
       "      <td>0.000</td>\n",
       "      <td>0.00</td>\n",
       "      <td>0.000</td>\n",
       "      <td>0.000</td>\n",
       "      <td>0.0</td>\n",
       "      <td>0.0</td>\n",
       "    </tr>\n",
       "    <tr>\n",
       "      <th>obama</th>\n",
       "      <td>0.194</td>\n",
       "      <td>0.000</td>\n",
       "      <td>0.00</td>\n",
       "      <td>0.000</td>\n",
       "      <td>0.000</td>\n",
       "      <td>0.0</td>\n",
       "      <td>0.0</td>\n",
       "    </tr>\n",
       "    <tr>\n",
       "      <th>speaks</th>\n",
       "      <td>0.000</td>\n",
       "      <td>0.000</td>\n",
       "      <td>0.14</td>\n",
       "      <td>0.000</td>\n",
       "      <td>0.000</td>\n",
       "      <td>0.0</td>\n",
       "      <td>0.0</td>\n",
       "    </tr>\n",
       "    <tr>\n",
       "      <th>media</th>\n",
       "      <td>0.000</td>\n",
       "      <td>0.000</td>\n",
       "      <td>0.00</td>\n",
       "      <td>0.128</td>\n",
       "      <td>0.000</td>\n",
       "      <td>0.0</td>\n",
       "      <td>0.0</td>\n",
       "    </tr>\n",
       "    <tr>\n",
       "      <th>illinois</th>\n",
       "      <td>0.000</td>\n",
       "      <td>0.000</td>\n",
       "      <td>0.00</td>\n",
       "      <td>0.000</td>\n",
       "      <td>0.123</td>\n",
       "      <td>0.0</td>\n",
       "      <td>0.0</td>\n",
       "    </tr>\n",
       "    <tr>\n",
       "      <th>morning</th>\n",
       "      <td>0.000</td>\n",
       "      <td>0.000</td>\n",
       "      <td>0.00</td>\n",
       "      <td>0.000</td>\n",
       "      <td>0.000</td>\n",
       "      <td>0.0</td>\n",
       "      <td>0.0</td>\n",
       "    </tr>\n",
       "    <tr>\n",
       "      <th>iraq</th>\n",
       "      <td>0.000</td>\n",
       "      <td>0.202</td>\n",
       "      <td>0.00</td>\n",
       "      <td>0.000</td>\n",
       "      <td>0.000</td>\n",
       "      <td>0.0</td>\n",
       "      <td>0.0</td>\n",
       "    </tr>\n",
       "  </tbody>\n",
       "</table>\n",
       "</div>"
      ],
      "text/plain": [
       "           beautiful  president  greets  press  chicago  beautiful  morning\n",
       "beautiful      0.000      0.000    0.00  0.000    0.000        0.0      0.0\n",
       "obama          0.194      0.000    0.00  0.000    0.000        0.0      0.0\n",
       "speaks         0.000      0.000    0.14  0.000    0.000        0.0      0.0\n",
       "media          0.000      0.000    0.00  0.128    0.000        0.0      0.0\n",
       "illinois       0.000      0.000    0.00  0.000    0.123        0.0      0.0\n",
       "morning        0.000      0.000    0.00  0.000    0.000        0.0      0.0\n",
       "iraq           0.000      0.202    0.00  0.000    0.000        0.0      0.0"
      ]
     },
     "execution_count": 138,
     "metadata": {},
     "output_type": "execute_result"
    }
   ],
   "source": [
    "dist_df = pd.DataFrame(dp.w2v_distances, index=dp.vocab, columns=dp.vocab)\n",
    "cost_df = (flow_df * dist_df)\n",
    "cost_df.iloc[dp.idx1,dp.idx2].round(3)"
   ]
  },
  {
   "cell_type": "markdown",
   "metadata": {},
   "source": [
    "## Using LC RMWD Paper"
   ]
  },
  {
   "cell_type": "code",
   "execution_count": 163,
   "metadata": {},
   "outputs": [
    {
     "data": {
      "text/plain": [
       "TfidfVectorizer(norm='l1', use_idf=False)"
      ]
     },
     "execution_count": 163,
     "metadata": {},
     "output_type": "execute_result"
    }
   ],
   "source": [
    "from sklearn.feature_extraction.text import TfidfVectorizer\n",
    "\n",
    "X1 = [['beautiful','obama', 'speaks', 'media', 'illinois', 'morning','troops','return','iraq'],\n",
    "      ['beautiful','obama', 'speaks', 'media', 'illinois', 'beautiful', 'morning'],\n",
    "      [\"which\",\"team\",\"will\",\"lose\"],\n",
    "      ['obama', 'speaks', 'media', 'illinois'],\n",
    "      [\"is\", \"it\", \"gonna\", \"rain\", \"tomorrow\"],\n",
    "      ['one','more','sentence','test','stuf'],\n",
    "      ['you','shall','not','pass'],\n",
    "      ['kennedy','was','here','suckers'],\n",
    "      ['love','thy','neighbor'],\n",
    "      ['eye','revenge','eye']]\n",
    "X2 = [['beautiful','president', 'greets', 'press', 'chicago', 'beautiful','morning'],\n",
    "      ['president', 'greets', 'press', 'chicago', 'evening'],\n",
    "      [\"who\", \"is\", \"winning\"],\n",
    "      [\"the\", \"forecast\", \"says\", \"snow\"],\n",
    "      ['president', 'greets', 'press', 'chicago'],\n",
    "      ['hello','called','love','you'],\n",
    "      ['first','gang','die'],\n",
    "      ['best','times','worst','times'],\n",
    "      ['therefore','am'],\n",
    "      ['two','people','couch']]\n",
    "\n",
    "X1_sent = [\" \".join(doc) for doc in X1]\n",
    "X2_sent = [\" \".join(doc) for doc in X2]\n",
    "\n",
    "corpus = X1_sent + X2_sent\n",
    "\n",
    "vectorizer = TfidfVectorizer(use_idf=False, norm='l1')\n",
    "vectorizer.fit(corpus)"
   ]
  },
  {
   "cell_type": "code",
   "execution_count": 164,
   "metadata": {},
   "outputs": [],
   "source": [
    "features = vectorizer.get_feature_names()\n",
    "word2idx = {word: idx for idx, word in enumerate(vectorizer.get_feature_names())}\n",
    "idx2word = {idx: word for idx, word in enumerate(vectorizer.get_feature_names())}"
   ]
  },
  {
   "cell_type": "code",
   "execution_count": 165,
   "metadata": {},
   "outputs": [],
   "source": [
    "X1_nbow = vectorizer.transform(X1_sent)\n",
    "X2_nbow = vectorizer.transform(X2_sent)"
   ]
  },
  {
   "cell_type": "code",
   "execution_count": 166,
   "metadata": {},
   "outputs": [],
   "source": [
    "E = np.vstack([model.word_vec(word) for word in vectorizer.get_feature_names()])"
   ]
  },
  {
   "cell_type": "markdown",
   "metadata": {},
   "source": [
    "### 1. WMD"
   ]
  },
  {
   "cell_type": "code",
   "execution_count": 167,
   "metadata": {},
   "outputs": [
    {
     "name": "stdout",
     "output_type": "stream",
     "text": [
      "CPU times: user 5 µs, sys: 13 µs, total: 18 µs\n",
      "Wall time: 31 µs\n"
     ]
    }
   ],
   "source": [
    "%time\n",
    "\n",
    "def lc_rmwd(X1, X2, E):\n",
    "    D1, D2 = [], []\n",
    "\n",
    "    # Atasu et al LC-RWMD: One-to-many\n",
    "    for idx2,doc2 in enumerate(X2):\n",
    "        Z = euclidean_distances(E, [vec for vec in [E[word2idx[word]] for word in doc2]]).min(axis=1)\n",
    "        LC_RWMD = np.dot(X1_nbow.toarray(), Z)\n",
    "        D1.append(LC_RWMD)\n",
    "\n",
    "    for idx1,doc1 in enumerate(X1):\n",
    "        Z = euclidean_distances(E, [vec for vec in [E[word2idx[word]] for word in doc1]]).min(axis=1)\n",
    "        LC_RWMD = np.dot(X2_nbow.toarray(), Z)\n",
    "        D2.append(LC_RWMD)\n",
    "\n",
    "    D = np.maximum(np.vstack(D1), np.vstack(np.transpose(D2)))\n",
    "    return D\n",
    "\n",
    "D = lc_rmwd(X1, X2, E)"
   ]
  },
  {
   "cell_type": "code",
   "execution_count": 168,
   "metadata": {},
   "outputs": [
    {
     "data": {
      "text/plain": [
       "array([[2.67603522, 1.81671817, 3.15135673, 3.21397148, 3.06027203,\n",
       "        3.2460289 , 3.22378486, 3.1274727 , 3.51476356, 3.99722511],\n",
       "       [3.19047783, 2.9649595 , 3.20790558, 3.1792568 , 3.18651533,\n",
       "        3.21061282, 3.30887027, 3.15144973, 3.83652458, 4.09514952],\n",
       "       [3.39355318, 3.26714052, 2.23206997, 3.5532071 , 2.37339551,\n",
       "        2.69132566, 2.63692048, 2.63050377, 3.31641388, 3.43541694],\n",
       "       [3.23360121, 3.26467776, 2.75446972, 3.48126554, 2.55466804,\n",
       "        2.77692407, 2.89998084, 2.91078559, 3.58882058, 3.76675439],\n",
       "       [3.42006524, 3.24036213, 3.39855665, 3.1792568 , 3.35985279,\n",
       "        3.30258918, 3.47133595, 3.29440826, 3.96092331, 4.23187703],\n",
       "       [3.42859077, 3.22802567, 2.88373244, 3.61224806, 2.81812515,\n",
       "        2.89510646, 2.16551995, 2.86413258, 2.41843826, 3.74121982],\n",
       "       [3.54173197, 3.51915455, 2.93727962, 3.77527827, 2.94058593,\n",
       "        2.8077389 , 3.0192438 , 3.04689725, 3.55112974, 3.90595492],\n",
       "       [3.66774962, 3.51606223, 2.73512799, 3.94225609, 3.08465695,\n",
       "        2.97430725, 3.01427591, 3.16140532, 3.54627204, 3.68897088],\n",
       "       [3.52183125, 3.43146232, 2.51059136, 3.71777612, 2.91210942,\n",
       "        2.82855363, 2.61733013, 2.9646368 , 3.49695174, 3.69342661],\n",
       "       [3.49715371, 3.42914707, 2.61970154, 3.75073797, 3.00179629,\n",
       "        2.75437026, 2.85282761, 2.98799586, 3.47086636, 3.65885274]])"
      ]
     },
     "execution_count": 168,
     "metadata": {},
     "output_type": "execute_result"
    }
   ],
   "source": [
    "D"
   ]
  },
  {
   "cell_type": "code",
   "execution_count": 245,
   "metadata": {},
   "outputs": [],
   "source": [
    "X1_pref = []\n",
    "\n",
    "X1_pref = {str(idx): list(row.argsort()) for (idx, row) in enumerate(D)}\n",
    "X2_pref = {str(idx): list(row.argsort()) for (idx, row) in enumerate(D.T)}\n",
    "\n",
    "X1_pref = {kk: [str(v) for v in vv] for kk, vv in X1_pref.items()}\n",
    "X2_pref = {kk: [str(v) for v in vv] for kk, vv in X2_pref.items()}"
   ]
  },
  {
   "cell_type": "code",
   "execution_count": 260,
   "metadata": {},
   "outputs": [
    {
     "name": "stdout",
     "output_type": "stream",
     "text": [
      "  0 and 1\n",
      "  2 and 2\n",
      "  3 and 4\n",
      "  4 and 3\n",
      "  5 and 6\n",
      "  6 and 5\n",
      "  1 and 7\n",
      "  5 dumped 6 for 9\n",
      "  7 dumped 1 for 8\n",
      "  3 dumped 4 for 1\n",
      "  7 and 8\n",
      "  6 and 0\n",
      "  0 dumped 6 for 4\n",
      "  6 and 9\n"
     ]
    },
    {
     "data": {
      "text/plain": [
       "True"
      ]
     },
     "execution_count": 260,
     "metadata": {},
     "output_type": "execute_result"
    }
   ],
   "source": [
    "from flow_wmd.gale_shapeley import Matcher\n",
    "\n",
    "matcher = Matcher(D)\n",
    "engaged = matcher.matchmaker()\n",
    "matcher.check()"
   ]
  },
  {
   "cell_type": "code",
   "execution_count": 261,
   "metadata": {},
   "outputs": [
    {
     "data": {
      "text/plain": [
       "{1: 0, 2: 2, 4: 3, 3: 1, 6: 5, 5: 9, 7: 8, 8: 7, 0: 4, 9: 6}"
      ]
     },
     "execution_count": 261,
     "metadata": {},
     "output_type": "execute_result"
    }
   ],
   "source": [
    "engaged"
   ]
  },
  {
   "cell_type": "code",
   "execution_count": 251,
   "metadata": {},
   "outputs": [
    {
     "data": {
      "text/html": [
       "<div>\n",
       "<style scoped>\n",
       "    .dataframe tbody tr th:only-of-type {\n",
       "        vertical-align: middle;\n",
       "    }\n",
       "\n",
       "    .dataframe tbody tr th {\n",
       "        vertical-align: top;\n",
       "    }\n",
       "\n",
       "    .dataframe thead th {\n",
       "        text-align: right;\n",
       "    }\n",
       "</style>\n",
       "<table border=\"1\" class=\"dataframe\">\n",
       "  <thead>\n",
       "    <tr style=\"text-align: right;\">\n",
       "      <th></th>\n",
       "      <th>beautiful obama speaks media illinois morning troops return iraq</th>\n",
       "      <th>beautiful obama speaks media illinois beautiful morning</th>\n",
       "      <th>which team will lose</th>\n",
       "      <th>obama speaks media illinois</th>\n",
       "      <th>is it gonna rain tomorrow</th>\n",
       "      <th>one more sentence test stuf</th>\n",
       "      <th>you shall not pass</th>\n",
       "      <th>kennedy was here suckers</th>\n",
       "      <th>love thy neighbor</th>\n",
       "      <th>eye revenge eye</th>\n",
       "    </tr>\n",
       "  </thead>\n",
       "  <tbody>\n",
       "    <tr>\n",
       "      <th>beautiful president greets press chicago beautiful morning</th>\n",
       "      <td>2.676035</td>\n",
       "      <td>1.816718</td>\n",
       "      <td>3.151357</td>\n",
       "      <td>3.213971</td>\n",
       "      <td>3.060272</td>\n",
       "      <td>3.246029</td>\n",
       "      <td>3.223785</td>\n",
       "      <td>3.127473</td>\n",
       "      <td>3.514764</td>\n",
       "      <td>3.997225</td>\n",
       "    </tr>\n",
       "    <tr>\n",
       "      <th>president greets press chicago evening</th>\n",
       "      <td>3.190478</td>\n",
       "      <td>2.964960</td>\n",
       "      <td>3.207906</td>\n",
       "      <td>3.179257</td>\n",
       "      <td>3.186515</td>\n",
       "      <td>3.210613</td>\n",
       "      <td>3.308870</td>\n",
       "      <td>3.151450</td>\n",
       "      <td>3.836525</td>\n",
       "      <td>4.095150</td>\n",
       "    </tr>\n",
       "    <tr>\n",
       "      <th>who is winning</th>\n",
       "      <td>3.393553</td>\n",
       "      <td>3.267141</td>\n",
       "      <td>2.232070</td>\n",
       "      <td>3.553207</td>\n",
       "      <td>2.373396</td>\n",
       "      <td>2.691326</td>\n",
       "      <td>2.636920</td>\n",
       "      <td>2.630504</td>\n",
       "      <td>3.316414</td>\n",
       "      <td>3.435417</td>\n",
       "    </tr>\n",
       "    <tr>\n",
       "      <th>the forecast says snow</th>\n",
       "      <td>3.233601</td>\n",
       "      <td>3.264678</td>\n",
       "      <td>2.754470</td>\n",
       "      <td>3.481266</td>\n",
       "      <td>2.554668</td>\n",
       "      <td>2.776924</td>\n",
       "      <td>2.899981</td>\n",
       "      <td>2.910786</td>\n",
       "      <td>3.588821</td>\n",
       "      <td>3.766754</td>\n",
       "    </tr>\n",
       "    <tr>\n",
       "      <th>president greets press chicago</th>\n",
       "      <td>3.420065</td>\n",
       "      <td>3.240362</td>\n",
       "      <td>3.398557</td>\n",
       "      <td>3.179257</td>\n",
       "      <td>3.359853</td>\n",
       "      <td>3.302589</td>\n",
       "      <td>3.471336</td>\n",
       "      <td>3.294408</td>\n",
       "      <td>3.960923</td>\n",
       "      <td>4.231877</td>\n",
       "    </tr>\n",
       "    <tr>\n",
       "      <th>hello called love you</th>\n",
       "      <td>3.428591</td>\n",
       "      <td>3.228026</td>\n",
       "      <td>2.883732</td>\n",
       "      <td>3.612248</td>\n",
       "      <td>2.818125</td>\n",
       "      <td>2.895106</td>\n",
       "      <td>2.165520</td>\n",
       "      <td>2.864133</td>\n",
       "      <td>2.418438</td>\n",
       "      <td>3.741220</td>\n",
       "    </tr>\n",
       "    <tr>\n",
       "      <th>first gang die</th>\n",
       "      <td>3.541732</td>\n",
       "      <td>3.519155</td>\n",
       "      <td>2.937280</td>\n",
       "      <td>3.775278</td>\n",
       "      <td>2.940586</td>\n",
       "      <td>2.807739</td>\n",
       "      <td>3.019244</td>\n",
       "      <td>3.046897</td>\n",
       "      <td>3.551130</td>\n",
       "      <td>3.905955</td>\n",
       "    </tr>\n",
       "    <tr>\n",
       "      <th>best times worst times</th>\n",
       "      <td>3.667750</td>\n",
       "      <td>3.516062</td>\n",
       "      <td>2.735128</td>\n",
       "      <td>3.942256</td>\n",
       "      <td>3.084657</td>\n",
       "      <td>2.974307</td>\n",
       "      <td>3.014276</td>\n",
       "      <td>3.161405</td>\n",
       "      <td>3.546272</td>\n",
       "      <td>3.688971</td>\n",
       "    </tr>\n",
       "    <tr>\n",
       "      <th>therefore am</th>\n",
       "      <td>3.521831</td>\n",
       "      <td>3.431462</td>\n",
       "      <td>2.510591</td>\n",
       "      <td>3.717776</td>\n",
       "      <td>2.912109</td>\n",
       "      <td>2.828554</td>\n",
       "      <td>2.617330</td>\n",
       "      <td>2.964637</td>\n",
       "      <td>3.496952</td>\n",
       "      <td>3.693427</td>\n",
       "    </tr>\n",
       "    <tr>\n",
       "      <th>two people couch</th>\n",
       "      <td>3.497154</td>\n",
       "      <td>3.429147</td>\n",
       "      <td>2.619702</td>\n",
       "      <td>3.750738</td>\n",
       "      <td>3.001796</td>\n",
       "      <td>2.754370</td>\n",
       "      <td>2.852828</td>\n",
       "      <td>2.987996</td>\n",
       "      <td>3.470866</td>\n",
       "      <td>3.658853</td>\n",
       "    </tr>\n",
       "  </tbody>\n",
       "</table>\n",
       "</div>"
      ],
      "text/plain": [
       "                                                    beautiful obama speaks media illinois morning troops return iraq  \\\n",
       "beautiful president greets press chicago beauti...                                           2.676035                  \n",
       "president greets press chicago evening                                                       3.190478                  \n",
       "who is winning                                                                               3.393553                  \n",
       "the forecast says snow                                                                       3.233601                  \n",
       "president greets press chicago                                                               3.420065                  \n",
       "hello called love you                                                                        3.428591                  \n",
       "first gang die                                                                               3.541732                  \n",
       "best times worst times                                                                       3.667750                  \n",
       "therefore am                                                                                 3.521831                  \n",
       "two people couch                                                                             3.497154                  \n",
       "\n",
       "                                                    beautiful obama speaks media illinois beautiful morning  \\\n",
       "beautiful president greets press chicago beauti...                                           1.816718         \n",
       "president greets press chicago evening                                                       2.964960         \n",
       "who is winning                                                                               3.267141         \n",
       "the forecast says snow                                                                       3.264678         \n",
       "president greets press chicago                                                               3.240362         \n",
       "hello called love you                                                                        3.228026         \n",
       "first gang die                                                                               3.519155         \n",
       "best times worst times                                                                       3.516062         \n",
       "therefore am                                                                                 3.431462         \n",
       "two people couch                                                                             3.429147         \n",
       "\n",
       "                                                    which team will lose  \\\n",
       "beautiful president greets press chicago beauti...              3.151357   \n",
       "president greets press chicago evening                          3.207906   \n",
       "who is winning                                                  2.232070   \n",
       "the forecast says snow                                          2.754470   \n",
       "president greets press chicago                                  3.398557   \n",
       "hello called love you                                           2.883732   \n",
       "first gang die                                                  2.937280   \n",
       "best times worst times                                          2.735128   \n",
       "therefore am                                                    2.510591   \n",
       "two people couch                                                2.619702   \n",
       "\n",
       "                                                    obama speaks media illinois  \\\n",
       "beautiful president greets press chicago beauti...                     3.213971   \n",
       "president greets press chicago evening                                 3.179257   \n",
       "who is winning                                                         3.553207   \n",
       "the forecast says snow                                                 3.481266   \n",
       "president greets press chicago                                         3.179257   \n",
       "hello called love you                                                  3.612248   \n",
       "first gang die                                                         3.775278   \n",
       "best times worst times                                                 3.942256   \n",
       "therefore am                                                           3.717776   \n",
       "two people couch                                                       3.750738   \n",
       "\n",
       "                                                    is it gonna rain tomorrow  \\\n",
       "beautiful president greets press chicago beauti...                   3.060272   \n",
       "president greets press chicago evening                               3.186515   \n",
       "who is winning                                                       2.373396   \n",
       "the forecast says snow                                               2.554668   \n",
       "president greets press chicago                                       3.359853   \n",
       "hello called love you                                                2.818125   \n",
       "first gang die                                                       2.940586   \n",
       "best times worst times                                               3.084657   \n",
       "therefore am                                                         2.912109   \n",
       "two people couch                                                     3.001796   \n",
       "\n",
       "                                                    one more sentence test stuf  \\\n",
       "beautiful president greets press chicago beauti...                     3.246029   \n",
       "president greets press chicago evening                                 3.210613   \n",
       "who is winning                                                         2.691326   \n",
       "the forecast says snow                                                 2.776924   \n",
       "president greets press chicago                                         3.302589   \n",
       "hello called love you                                                  2.895106   \n",
       "first gang die                                                         2.807739   \n",
       "best times worst times                                                 2.974307   \n",
       "therefore am                                                           2.828554   \n",
       "two people couch                                                       2.754370   \n",
       "\n",
       "                                                    you shall not pass  \\\n",
       "beautiful president greets press chicago beauti...            3.223785   \n",
       "president greets press chicago evening                        3.308870   \n",
       "who is winning                                                2.636920   \n",
       "the forecast says snow                                        2.899981   \n",
       "president greets press chicago                                3.471336   \n",
       "hello called love you                                         2.165520   \n",
       "first gang die                                                3.019244   \n",
       "best times worst times                                        3.014276   \n",
       "therefore am                                                  2.617330   \n",
       "two people couch                                              2.852828   \n",
       "\n",
       "                                                    kennedy was here suckers  \\\n",
       "beautiful president greets press chicago beauti...                  3.127473   \n",
       "president greets press chicago evening                              3.151450   \n",
       "who is winning                                                      2.630504   \n",
       "the forecast says snow                                              2.910786   \n",
       "president greets press chicago                                      3.294408   \n",
       "hello called love you                                               2.864133   \n",
       "first gang die                                                      3.046897   \n",
       "best times worst times                                              3.161405   \n",
       "therefore am                                                        2.964637   \n",
       "two people couch                                                    2.987996   \n",
       "\n",
       "                                                    love thy neighbor  \\\n",
       "beautiful president greets press chicago beauti...           3.514764   \n",
       "president greets press chicago evening                       3.836525   \n",
       "who is winning                                               3.316414   \n",
       "the forecast says snow                                       3.588821   \n",
       "president greets press chicago                               3.960923   \n",
       "hello called love you                                        2.418438   \n",
       "first gang die                                               3.551130   \n",
       "best times worst times                                       3.546272   \n",
       "therefore am                                                 3.496952   \n",
       "two people couch                                             3.470866   \n",
       "\n",
       "                                                    eye revenge eye  \n",
       "beautiful president greets press chicago beauti...         3.997225  \n",
       "president greets press chicago evening                     4.095150  \n",
       "who is winning                                             3.435417  \n",
       "the forecast says snow                                     3.766754  \n",
       "president greets press chicago                             4.231877  \n",
       "hello called love you                                      3.741220  \n",
       "first gang die                                             3.905955  \n",
       "best times worst times                                     3.688971  \n",
       "therefore am                                               3.693427  \n",
       "two people couch                                           3.658853  "
      ]
     },
     "execution_count": 251,
     "metadata": {},
     "output_type": "execute_result"
    }
   ],
   "source": [
    "distance_df = pd.DataFrame(D, index=X2_sent, columns=X1_sent)\n",
    "distance_df"
   ]
  },
  {
   "cell_type": "code",
   "execution_count": 26,
   "metadata": {},
   "outputs": [],
   "source": [
    "def WMD(X1, X2, X1_nbow, X2_nbow, E):\n",
    "    X1_idxs = list(set([word2idx[word] for word in X1]))\n",
    "    X2_idxs = list(set([word2idx[word] for word in X2]))\n",
    "    T_emd = E[X1_idxs + X2_idxs,]\n",
    "    C_emd = euclidean_distances(T_emd, T_emd)\n",
    "    X1_sig = np.concatenate((X1_nbow.toarray()[0,X1_idxs], np.zeros(len(X2_idxs))))\n",
    "    X2_sig = np.concatenate((np.zeros(len(X1_idxs)), X2_nbow.toarray()[0,X2_idxs]))\n",
    "    # Doing WMD\n",
    "    WMD = emd_with_flow(np.array(X1_sig, dtype=np.double), \n",
    "                                np.array(X2_sig, dtype=np.double), \n",
    "                                np.array(C_emd, dtype=np.double))\n",
    "    #WMD_s.append(WMD + (X1_indeces, X2_indeces))\n",
    "    m = np.array(WMD[1])[:len(X1_idxs),len(X1_idxs):]\n",
    "    return (WMD[0],m,X1_idxs,X2_idxs)"
   ]
  },
  {
   "cell_type": "code",
   "execution_count": null,
   "metadata": {},
   "outputs": [],
   "source": [
    "import bottleneck as bn\n",
    "\n",
    "%time\n",
    "\n",
    "def fast_get_L(X1, X2, \n",
    "          X1_nbow, X2_nbow, \n",
    "          D, E, n):\n",
    "    n = 2\n",
    "    L_values = []\n",
    "    for idx1, doc1 in enumerate(X1):\n",
    "        values = bn.partition(D[idx1], D[idx1].size-n)[:-n]\n",
    "        indeces = bn.argpartition(D[idx1], D[idx1].size-n)[:-n]\n",
    "        WMD_s = []\n",
    "        for idx2 in indeces:\n",
    "            doc2 = X2[idx2]\n",
    "            X2_indeces = list(set([word2idx[word] for word in doc2]))\n",
    "            wmd = WMD(doc1, doc2, X1_nbow[idx1],X2_nbow[idx2],E)[0]\n",
    "            WMD_s.append(wmd)\n",
    "        L = max(WMD_s)\n",
    "        L_values.append((idx1, L))\n",
    "    return L_values\n",
    "\n",
    "L_values = get_L(X1, X2, X1_nbow, X2_nbow,D, E, 2)"
   ]
  },
  {
   "cell_type": "code",
   "execution_count": 37,
   "metadata": {},
   "outputs": [
    {
     "data": {
      "text/plain": [
       "[0, 1, 2, 3, 4]"
      ]
     },
     "execution_count": 37,
     "metadata": {},
     "output_type": "execute_result"
    }
   ],
   "source": [
    "list(range(len(X1)))"
   ]
  },
  {
   "cell_type": "code",
   "execution_count": 35,
   "metadata": {},
   "outputs": [
    {
     "name": "stdout",
     "output_type": "stream",
     "text": [
      "CPU times: user 2 µs, sys: 0 ns, total: 2 µs\n",
      "Wall time: 4.77 µs\n"
     ]
    }
   ],
   "source": [
    "import bottleneck as bn\n",
    "\n",
    "%time\n",
    "\n",
    "def get_L(X1, X2, \n",
    "          X1_nbow, X2_nbow, \n",
    "          D, E, n):\n",
    "    n = 2\n",
    "    L_values = []\n",
    "    for idx1, doc1 in enumerate(X1):\n",
    "        values = bn.partition(D[idx1], D[idx1].size-n)[:-n]\n",
    "        indeces = bn.argpartition(D[idx1], D[idx1].size-n)[:-n]\n",
    "        WMD_s = []\n",
    "        for idx2 in indeces:\n",
    "            doc2 = X2[idx2]\n",
    "            X2_indeces = list(set([word2idx[word] for word in doc2]))\n",
    "            wmd = WMD(doc1, doc2, X1_nbow[idx1],X2_nbow[idx2],E)[0]\n",
    "            WMD_s.append(wmd)\n",
    "        L = max(WMD_s)\n",
    "        L_values.append((idx1, L))\n",
    "    return L_values\n",
    "\n",
    "L_values = get_L(X1, X2, X1_nbow, X2_nbow,D, E, 2)"
   ]
  },
  {
   "cell_type": "code",
   "execution_count": 32,
   "metadata": {},
   "outputs": [
    {
     "data": {
      "text/plain": [
       "[(0, 3.8610839431781536),\n",
       " (1, 3.411543455814765),\n",
       " (2, 3.4405574227655413),\n",
       " (3, 3.445993450033188),\n",
       " (4, 3.6422676818179833)]"
      ]
     },
     "execution_count": 32,
     "metadata": {},
     "output_type": "execute_result"
    }
   ],
   "source": [
    "L_values"
   ]
  },
  {
   "cell_type": "code",
   "execution_count": 31,
   "metadata": {},
   "outputs": [
    {
     "data": {
      "text/html": [
       "<div>\n",
       "<style scoped>\n",
       "    .dataframe tbody tr th:only-of-type {\n",
       "        vertical-align: middle;\n",
       "    }\n",
       "\n",
       "    .dataframe tbody tr th {\n",
       "        vertical-align: top;\n",
       "    }\n",
       "\n",
       "    .dataframe thead th {\n",
       "        text-align: right;\n",
       "    }\n",
       "</style>\n",
       "<table border=\"1\" class=\"dataframe\">\n",
       "  <thead>\n",
       "    <tr style=\"text-align: right;\">\n",
       "      <th></th>\n",
       "      <th>chicago</th>\n",
       "      <th>evening</th>\n",
       "      <th>greets</th>\n",
       "      <th>president</th>\n",
       "      <th>press</th>\n",
       "    </tr>\n",
       "  </thead>\n",
       "  <tbody>\n",
       "    <tr>\n",
       "      <th>beautiful</th>\n",
       "      <td>0.000000</td>\n",
       "      <td>0.057143</td>\n",
       "      <td>0.057142</td>\n",
       "      <td>0.000000</td>\n",
       "      <td>0.028572</td>\n",
       "    </tr>\n",
       "    <tr>\n",
       "      <th>illinois</th>\n",
       "      <td>0.142857</td>\n",
       "      <td>0.000000</td>\n",
       "      <td>0.000000</td>\n",
       "      <td>0.000000</td>\n",
       "      <td>0.000000</td>\n",
       "    </tr>\n",
       "    <tr>\n",
       "      <th>iraq</th>\n",
       "      <td>0.000000</td>\n",
       "      <td>0.000000</td>\n",
       "      <td>0.000000</td>\n",
       "      <td>0.114286</td>\n",
       "      <td>0.028571</td>\n",
       "    </tr>\n",
       "    <tr>\n",
       "      <th>media</th>\n",
       "      <td>0.000000</td>\n",
       "      <td>0.000000</td>\n",
       "      <td>0.000000</td>\n",
       "      <td>0.000000</td>\n",
       "      <td>0.142857</td>\n",
       "    </tr>\n",
       "    <tr>\n",
       "      <th>morning</th>\n",
       "      <td>0.000000</td>\n",
       "      <td>0.142857</td>\n",
       "      <td>0.000000</td>\n",
       "      <td>0.000000</td>\n",
       "      <td>0.000000</td>\n",
       "    </tr>\n",
       "    <tr>\n",
       "      <th>obama</th>\n",
       "      <td>0.057143</td>\n",
       "      <td>0.000000</td>\n",
       "      <td>0.000000</td>\n",
       "      <td>0.085714</td>\n",
       "      <td>0.000000</td>\n",
       "    </tr>\n",
       "    <tr>\n",
       "      <th>speaks</th>\n",
       "      <td>0.000000</td>\n",
       "      <td>0.000000</td>\n",
       "      <td>0.142857</td>\n",
       "      <td>0.000000</td>\n",
       "      <td>0.000000</td>\n",
       "    </tr>\n",
       "  </tbody>\n",
       "</table>\n",
       "</div>"
      ],
      "text/plain": [
       "            chicago   evening    greets  president     press\n",
       "beautiful  0.000000  0.057143  0.057142   0.000000  0.028572\n",
       "illinois   0.142857  0.000000  0.000000   0.000000  0.000000\n",
       "iraq       0.000000  0.000000  0.000000   0.114286  0.028571\n",
       "media      0.000000  0.000000  0.000000   0.000000  0.142857\n",
       "morning    0.000000  0.142857  0.000000   0.000000  0.000000\n",
       "obama      0.057143  0.000000  0.000000   0.085714  0.000000\n",
       "speaks     0.000000  0.000000  0.142857   0.000000  0.000000"
      ]
     },
     "execution_count": 31,
     "metadata": {},
     "output_type": "execute_result"
    }
   ],
   "source": [
    "cost_df = pd.DataFrame(rmwds[1][1], \n",
    "                       index=[idx2word[idx] for idx in rmwds[1][2]], \n",
    "                       columns=[idx2word[idx] for idx in rmwds[1][3]])\n",
    "cost_df"
   ]
  },
  {
   "cell_type": "code",
   "execution_count": 30,
   "metadata": {},
   "outputs": [],
   "source": [
    "def R_WMD(L_values, X1, X2, X1_nbow, X2_nbow):\n",
    "    wmd_s = []\n",
    "    for L in L_values:\n",
    "        for idx2, row in enumerate(D[L[0]]):\n",
    "            if row < L[1]:\n",
    "                wmd = WMD(X1[L[0]], X2[idx2], X1_nbow[L[0]], X2_nbow[idx2], E)\n",
    "                wmd_s.append(wmd)\n",
    "            else:\n",
    "                pass\n",
    "    return wmd_s\n",
    "\n",
    "rmwds = R_WMD(L_values, X1, X2, X1_nbow, X2_nbow)"
   ]
  },
  {
   "cell_type": "markdown",
   "metadata": {},
   "source": [
    "## Modularize LC-RMWD"
   ]
  },
  {
   "cell_type": "code",
   "execution_count": 229,
   "metadata": {},
   "outputs": [
    {
     "data": {
      "text/plain": [
       "TfidfVectorizer(norm='l1', use_idf=False)"
      ]
     },
     "execution_count": 229,
     "metadata": {},
     "output_type": "execute_result"
    }
   ],
   "source": [
    "from sklearn.feature_extraction.text import TfidfVectorizer\n",
    "\n",
    "X1 = [['beautiful','obama', 'speaks', 'media', 'illinois', 'morning','iraq'],\n",
    "      ['beautiful','obama', 'speaks', 'media', 'illinois', 'beautiful', 'morning'],\n",
    "      [\"which\",\"team\",\"will\",\"lose\"],\n",
    "      [\"is\", \"it\", \"gonna\", \"rain\", \"tomorrow\"],\n",
    "      ['obama', 'speaks', 'media', 'illinois']]\n",
    "X2 = [['beautiful','president', 'greets', 'press', 'chicago', 'beautiful','morning'],\n",
    "      ['president', 'greets', 'press', 'chicago', 'evening'],\n",
    "      [\"who\", \"is\", \"winning\"],\n",
    "      [\"the\", \"forecast\", \"says\", \"snow\"],\n",
    "      ['president', 'greets', 'press', 'chicago'],\n",
    "      ['hello','called','love','you']]\n",
    "\n",
    "X1_sent = [\" \".join(doc) for doc in X1]\n",
    "X2_sent = [\" \".join(doc) for doc in X2]\n",
    "\n",
    "corpus = X1_sent + X2_sent\n",
    "\n",
    "#vectorizer = TfidfVectorizer(use_idf=False, norm='l2')\n",
    "vectorizer = TfidfVectorizer(use_idf=False, norm='l1')\n",
    "vectorizer.fit(corpus)"
   ]
  },
  {
   "cell_type": "code",
   "execution_count": 178,
   "metadata": {},
   "outputs": [],
   "source": [
    "features = vectorizer.get_feature_names()\n",
    "word2idx = {word: idx for idx, word in enumerate(vectorizer.get_feature_names())}\n",
    "idx2word = {idx: word a idx, word in enumerate(vectorizer.get_feature_names())}"
   ]
  },
  {
   "cell_type": "code",
   "execution_count": 179,
   "metadata": {},
   "outputs": [
    {
     "data": {
      "text/plain": [
       "2"
      ]
     },
     "execution_count": 179,
     "metadata": {},
     "output_type": "execute_result"
    }
   ],
   "source": [
    "word2idx['chicago']"
   ]
  },
  {
   "cell_type": "code",
   "execution_count": 256,
   "metadata": {},
   "outputs": [
    {
     "name": "stdout",
     "output_type": "stream",
     "text": [
      "CPU times: user 2 µs, sys: 1 µs, total: 3 µs\n",
      "Wall time: 4.77 µs\n"
     ]
    }
   ],
   "source": [
    "#X1_corpus = \n",
    "%time\n",
    "X1_nbow = vectorizer.transform(X1_sent)\n",
    "X2_nbow = vectorizer.transform(X2_sent)"
   ]
  },
  {
   "cell_type": "code",
   "execution_count": 102,
   "metadata": {},
   "outputs": [],
   "source": [
    "E = np.vstack([model.word_vec(word) for word in vectorizer.get_feature_names()])"
   ]
  },
  {
   "cell_type": "code",
   "execution_count": 642,
   "metadata": {},
   "outputs": [
    {
     "name": "stdout",
     "output_type": "stream",
     "text": [
      "The autoreload extension is already loaded. To reload it, use:\n",
      "  %reload_ext autoreload\n"
     ]
    }
   ],
   "source": [
    "from flow_wmd.modules_rwmd import Document, LC_RWMD, WMDCluster\n",
    "\n",
    "%load_ext autoreload\n",
    "%autoreload 2"
   ]
  },
  {
   "cell_type": "code",
   "execution_count": 208,
   "metadata": {},
   "outputs": [
    {
     "data": {
      "text/plain": [
       "'beautiful obama speaks media illinois morning iraq'"
      ]
     },
     "execution_count": 208,
     "metadata": {},
     "output_type": "execute_result"
    }
   ],
   "source": [
    "X1_sent[0]"
   ]
  },
  {
   "cell_type": "code",
   "execution_count": 239,
   "metadata": {},
   "outputs": [
    {
     "data": {
      "text/plain": [
       "'beautiful obama speaks media illinois beautiful morning'"
      ]
     },
     "execution_count": 239,
     "metadata": {},
     "output_type": "execute_result"
    }
   ],
   "source": [
    "X1_sent[1]"
   ]
  },
  {
   "cell_type": "code",
   "execution_count": 564,
   "metadata": {},
   "outputs": [
    {
     "name": "stdout",
     "output_type": "stream",
     "text": [
      "CPU times: user 2 µs, sys: 0 ns, total: 2 µs\n",
      "Wall time: 4.05 µs\n"
     ]
    }
   ],
   "source": [
    "%time \n",
    "\n",
    "X1_docs, X2_docs = [], []\n",
    "\n",
    "X1_nbow = vectorizer.transform(X1_sent)\n",
    "X2_nbow = vectorizer.transform(X2_sent)\n",
    "\n",
    "for idx, doc in enumerate(X1):\n",
    "    X1_docs.append(Document(doc, X1_nbow[idx], word2idx, E))\n",
    "    \n",
    "for idx, doc in enumerate(X2):\n",
    "    X2_docs.append(Document(doc, X2_nbow[idx], word2idx, E))"
   ]
  },
  {
   "cell_type": "code",
   "execution_count": 565,
   "metadata": {},
   "outputs": [
    {
     "name": "stdout",
     "output_type": "stream",
     "text": [
      "CPU times: user 2 µs, sys: 0 ns, total: 2 µs\n",
      "Wall time: 4.77 µs\n"
     ]
    }
   ],
   "source": [
    "%time\n",
    "\n",
    "lc_rwmd = LC_RWMD(X1_docs, X2_docs,X1_nbow,X2_nbow,E)\n",
    "lc_rwmd.get_D()\n",
    "lc_rwmd.get_L(2)\n",
    "lc_rwmd.get_rwmd()"
   ]
  },
  {
   "cell_type": "code",
   "execution_count": 566,
   "metadata": {},
   "outputs": [
    {
     "data": {
      "text/plain": [
       "[0.7779423936888455,\n",
       " 1.0577764527086124,\n",
       " 0.5814076731150226,\n",
       " 1.0601321450052137,\n",
       " 1.1221033037203125,\n",
       " 1.3456935750793113,\n",
       " 1.33409258504228,\n",
       " 1.1613731145914146,\n",
       " 1.2665668245616257,\n",
       " 1.3413949351295233,\n",
       " 1.1287236809574008,\n",
       " 1.1562737829503784,\n",
       " 1.0927072101407647,\n",
       " 1.0174646259300113]"
      ]
     },
     "execution_count": 566,
     "metadata": {},
     "output_type": "execute_result"
    }
   ],
   "source": [
    "lc_rwmd.wmd_s"
   ]
  },
  {
   "cell_type": "code",
   "execution_count": 569,
   "metadata": {},
   "outputs": [
    {
     "data": {
      "text/plain": [
       "<flow_wmd.modules_rwmd.Document at 0x7f942b48d9a0>"
      ]
     },
     "execution_count": 569,
     "metadata": {},
     "output_type": "execute_result"
    }
   ],
   "source": [
    "X1_docs[0]"
   ]
  },
  {
   "cell_type": "code",
   "execution_count": 649,
   "metadata": {},
   "outputs": [
    {
     "data": {
      "text/plain": [
       "<flow_wmd.modules_rwmd.Document at 0x7f942b48d9a0>"
      ]
     },
     "execution_count": 649,
     "metadata": {},
     "output_type": "execute_result"
    }
   ],
   "source": [
    "X1_docs[0]"
   ]
  },
  {
   "cell_type": "code",
   "execution_count": 655,
   "metadata": {},
   "outputs": [
    {
     "name": "stdout",
     "output_type": "stream",
     "text": [
      "CPU times: user 1e+03 ns, sys: 1 µs, total: 2 µs\n",
      "Wall time: 2.86 µs\n"
     ]
    }
   ],
   "source": [
    "%time\n",
    "\n",
    "distances, wc_X1, wc_X2 = WMDCluster(X1_docs, X2_docs,E,idx2word).get_distances(return_flow = True)"
   ]
  },
  {
   "cell_type": "code",
   "execution_count": 658,
   "metadata": {},
   "outputs": [
    {
     "data": {
      "text/plain": [
       "{'is': 1.27494,\n",
       " 'iraq': 1.18948,\n",
       " 'it': 1.4954100000000001,\n",
       " 'beautiful': 2.7164,\n",
       " 'which': 1.9112699999999998,\n",
       " 'lose': 1.9683000000000002,\n",
       " 'speaks': 3.5973,\n",
       " 'obama': 4.23171,\n",
       " 'will': 1.8686099999999999,\n",
       " 'tomorrow': 1.46315,\n",
       " 'media': 3.61458,\n",
       " 'illinois': 3.6213599999999997,\n",
       " 'rain': 1.4949000000000001,\n",
       " 'gonna': 1.41928,\n",
       " 'morning': 1.70016,\n",
       " 'team': 1.9965}"
      ]
     },
     "execution_count": 658,
     "metadata": {},
     "output_type": "execute_result"
    }
   ],
   "source": [
    "wc_X1"
   ]
  },
  {
   "cell_type": "code",
   "execution_count": 578,
   "metadata": {},
   "outputs": [
    {
     "name": "stdout",
     "output_type": "stream",
     "text": [
      "CPU times: user 2 µs, sys: 0 ns, total: 2 µs\n",
      "Wall time: 5.25 µs\n"
     ]
    }
   ],
   "source": [
    "%time\n",
    "\n",
    "test = WMDCluster(X1_docs[0:2], X2_docs[0:2],E,idx2word).get_flow()[0]"
   ]
  },
  {
   "cell_type": "code",
   "execution_count": 632,
   "metadata": {},
   "outputs": [
    {
     "data": {
      "text/plain": [
       "array([0.     , 0.     , 0.19653, 0.     , 0.     , 0.     , 0.     ])"
      ]
     },
     "execution_count": 632,
     "metadata": {},
     "output_type": "execute_result"
    }
   ],
   "source": [
    "test[2][:,0]"
   ]
  },
  {
   "cell_type": "code",
   "execution_count": 580,
   "metadata": {},
   "outputs": [
    {
     "data": {
      "text/html": [
       "<div>\n",
       "<style scoped>\n",
       "    .dataframe tbody tr th:only-of-type {\n",
       "        vertical-align: middle;\n",
       "    }\n",
       "\n",
       "    .dataframe tbody tr th {\n",
       "        vertical-align: top;\n",
       "    }\n",
       "\n",
       "    .dataframe thead th {\n",
       "        text-align: right;\n",
       "    }\n",
       "</style>\n",
       "<table border=\"1\" class=\"dataframe\">\n",
       "  <thead>\n",
       "    <tr style=\"text-align: right;\">\n",
       "      <th></th>\n",
       "      <th>beautiful</th>\n",
       "      <th>chicago</th>\n",
       "      <th>greets</th>\n",
       "      <th>morning</th>\n",
       "      <th>president</th>\n",
       "      <th>press</th>\n",
       "    </tr>\n",
       "  </thead>\n",
       "  <tbody>\n",
       "    <tr>\n",
       "      <th>beautiful</th>\n",
       "      <td>0.00000</td>\n",
       "      <td>0.00000</td>\n",
       "      <td>0.00000</td>\n",
       "      <td>0.0</td>\n",
       "      <td>0.00000</td>\n",
       "      <td>0.00000</td>\n",
       "    </tr>\n",
       "    <tr>\n",
       "      <th>illinois</th>\n",
       "      <td>0.00000</td>\n",
       "      <td>0.12296</td>\n",
       "      <td>0.00000</td>\n",
       "      <td>0.0</td>\n",
       "      <td>0.00000</td>\n",
       "      <td>0.00000</td>\n",
       "    </tr>\n",
       "    <tr>\n",
       "      <th>iraq</th>\n",
       "      <td>0.19653</td>\n",
       "      <td>0.00000</td>\n",
       "      <td>0.00000</td>\n",
       "      <td>0.0</td>\n",
       "      <td>0.00000</td>\n",
       "      <td>0.00000</td>\n",
       "    </tr>\n",
       "    <tr>\n",
       "      <th>media</th>\n",
       "      <td>0.00000</td>\n",
       "      <td>0.00000</td>\n",
       "      <td>0.00000</td>\n",
       "      <td>0.0</td>\n",
       "      <td>0.00000</td>\n",
       "      <td>0.12756</td>\n",
       "    </tr>\n",
       "    <tr>\n",
       "      <th>morning</th>\n",
       "      <td>0.00000</td>\n",
       "      <td>0.00000</td>\n",
       "      <td>0.00000</td>\n",
       "      <td>0.0</td>\n",
       "      <td>0.00000</td>\n",
       "      <td>0.00000</td>\n",
       "    </tr>\n",
       "    <tr>\n",
       "      <th>obama</th>\n",
       "      <td>0.00000</td>\n",
       "      <td>0.00000</td>\n",
       "      <td>0.00000</td>\n",
       "      <td>0.0</td>\n",
       "      <td>0.19115</td>\n",
       "      <td>0.00000</td>\n",
       "    </tr>\n",
       "    <tr>\n",
       "      <th>speaks</th>\n",
       "      <td>0.00000</td>\n",
       "      <td>0.00000</td>\n",
       "      <td>0.13973</td>\n",
       "      <td>0.0</td>\n",
       "      <td>0.00000</td>\n",
       "      <td>0.00000</td>\n",
       "    </tr>\n",
       "  </tbody>\n",
       "</table>\n",
       "</div>"
      ],
      "text/plain": [
       "           beautiful  chicago   greets  morning  president    press\n",
       "beautiful    0.00000  0.00000  0.00000      0.0    0.00000  0.00000\n",
       "illinois     0.00000  0.12296  0.00000      0.0    0.00000  0.00000\n",
       "iraq         0.19653  0.00000  0.00000      0.0    0.00000  0.00000\n",
       "media        0.00000  0.00000  0.00000      0.0    0.00000  0.12756\n",
       "morning      0.00000  0.00000  0.00000      0.0    0.00000  0.00000\n",
       "obama        0.00000  0.00000  0.00000      0.0    0.19115  0.00000\n",
       "speaks       0.00000  0.00000  0.13973      0.0    0.00000  0.00000"
      ]
     },
     "execution_count": 580,
     "metadata": {},
     "output_type": "execute_result"
    }
   ],
   "source": [
    "pd.DataFrame(test[2], index=test[3],columns=test[4])"
   ]
  },
  {
   "cell_type": "code",
   "execution_count": 521,
   "metadata": {},
   "outputs": [
    {
     "data": {
      "text/html": [
       "<div>\n",
       "<style scoped>\n",
       "    .dataframe tbody tr th:only-of-type {\n",
       "        vertical-align: middle;\n",
       "    }\n",
       "\n",
       "    .dataframe tbody tr th {\n",
       "        vertical-align: top;\n",
       "    }\n",
       "\n",
       "    .dataframe thead th {\n",
       "        text-align: right;\n",
       "    }\n",
       "</style>\n",
       "<table border=\"1\" class=\"dataframe\">\n",
       "  <thead>\n",
       "    <tr style=\"text-align: right;\">\n",
       "      <th></th>\n",
       "      <th>beautiful</th>\n",
       "      <th>chicago</th>\n",
       "      <th>greets</th>\n",
       "      <th>morning</th>\n",
       "      <th>president</th>\n",
       "      <th>press</th>\n",
       "    </tr>\n",
       "  </thead>\n",
       "  <tbody>\n",
       "    <tr>\n",
       "      <th>beautiful</th>\n",
       "      <td>0.00000</td>\n",
       "      <td>0.00000</td>\n",
       "      <td>0.00000</td>\n",
       "      <td>0.0</td>\n",
       "      <td>0.00000</td>\n",
       "      <td>0.00000</td>\n",
       "    </tr>\n",
       "    <tr>\n",
       "      <th>illinois</th>\n",
       "      <td>0.00000</td>\n",
       "      <td>0.12296</td>\n",
       "      <td>0.00000</td>\n",
       "      <td>0.0</td>\n",
       "      <td>0.00000</td>\n",
       "      <td>0.00000</td>\n",
       "    </tr>\n",
       "    <tr>\n",
       "      <th>iraq</th>\n",
       "      <td>0.19653</td>\n",
       "      <td>0.00000</td>\n",
       "      <td>0.00000</td>\n",
       "      <td>0.0</td>\n",
       "      <td>0.00000</td>\n",
       "      <td>0.00000</td>\n",
       "    </tr>\n",
       "    <tr>\n",
       "      <th>media</th>\n",
       "      <td>0.00000</td>\n",
       "      <td>0.00000</td>\n",
       "      <td>0.00000</td>\n",
       "      <td>0.0</td>\n",
       "      <td>0.00000</td>\n",
       "      <td>0.12756</td>\n",
       "    </tr>\n",
       "    <tr>\n",
       "      <th>morning</th>\n",
       "      <td>0.00000</td>\n",
       "      <td>0.00000</td>\n",
       "      <td>0.00000</td>\n",
       "      <td>0.0</td>\n",
       "      <td>0.00000</td>\n",
       "      <td>0.00000</td>\n",
       "    </tr>\n",
       "    <tr>\n",
       "      <th>obama</th>\n",
       "      <td>0.00000</td>\n",
       "      <td>0.00000</td>\n",
       "      <td>0.00000</td>\n",
       "      <td>0.0</td>\n",
       "      <td>0.19115</td>\n",
       "      <td>0.00000</td>\n",
       "    </tr>\n",
       "    <tr>\n",
       "      <th>speaks</th>\n",
       "      <td>0.00000</td>\n",
       "      <td>0.00000</td>\n",
       "      <td>0.13973</td>\n",
       "      <td>0.0</td>\n",
       "      <td>0.00000</td>\n",
       "      <td>0.00000</td>\n",
       "    </tr>\n",
       "  </tbody>\n",
       "</table>\n",
       "</div>"
      ],
      "text/plain": [
       "           beautiful  chicago   greets  morning  president    press\n",
       "beautiful    0.00000  0.00000  0.00000      0.0    0.00000  0.00000\n",
       "illinois     0.00000  0.12296  0.00000      0.0    0.00000  0.00000\n",
       "iraq         0.19653  0.00000  0.00000      0.0    0.00000  0.00000\n",
       "media        0.00000  0.00000  0.00000      0.0    0.00000  0.12756\n",
       "morning      0.00000  0.00000  0.00000      0.0    0.00000  0.00000\n",
       "obama        0.00000  0.00000  0.00000      0.0    0.19115  0.00000\n",
       "speaks       0.00000  0.00000  0.13973      0.0    0.00000  0.00000"
      ]
     },
     "execution_count": 521,
     "metadata": {},
     "output_type": "execute_result"
    }
   ],
   "source": [
    "cost_m = test[0]*test[1]\n",
    "cost_m = cost_m[:len(test[2]),len(test[2]):].round(5)\n",
    "pd.DataFrame(cost_m, index=w1,columns=w2)"
   ]
  },
  {
   "cell_type": "code",
   "execution_count": 69,
   "metadata": {},
   "outputs": [
    {
     "data": {
      "text/plain": [
       "array([-0.15780888, -0.17197762, -0.14504768, -0.12993725, -0.16405022,\n",
       "       -0.1421869 , -0.22472994, -0.15382984, -0.14625083, -0.13629027,\n",
       "       -0.13017109, -0.17396213, -0.12993725, -0.16405022, -0.15780888,\n",
       "       -0.14504768, -0.161765  , -0.16040245, -0.16454686, -0.1797309 ],\n",
       "      dtype=float32)"
      ]
     },
     "execution_count": 69,
     "metadata": {},
     "output_type": "execute_result"
    }
   ],
   "source": [
    "T2_full = []\n",
    "\n",
    "# Atasu et al LC-RWMD: Many-to-many NOT WORKING\n",
    "for idx2,doc2 in enumerate(X2):\n",
    "    # Helper to quickly get word vectors for X2\n",
    "    X2_indeces = list(set([word2idx[word] for word in doc2]))\n",
    "    #Atasu et al. RMWD\n",
    "    T2 = E[X2_indeces,]\n",
    "    T2_full.append(T2)\n",
    "    #ET2 = np.dot(E)\n",
    "    #Z_mtm =\n",
    "\n",
    "np.vstack(T2_full).min(axis=1)"
   ]
  },
  {
   "cell_type": "code",
   "execution_count": 70,
   "metadata": {},
   "outputs": [
    {
     "name": "stdout",
     "output_type": "stream",
     "text": [
      "CPU times: user 2 µs, sys: 1 µs, total: 3 µs\n",
      "Wall time: 5.01 µs\n"
     ]
    }
   ],
   "source": [
    "%time\n",
    "\n",
    "RWMD_s = []\n",
    "\n",
    "for idx1,doc1 in enumerate(X1):\n",
    "    # Helper to quickly get word vectors for X1\n",
    "    X1_indeces = list(set([word2idx[word] for word in doc1]))\n",
    "\n",
    "    # Atasu et al. RMWD\n",
    "    T1 = E[X1_indeces,]\n",
    "    F1 = X1_nbow[idx1].toarray()[0,X1_indeces]\n",
    "    \n",
    "    # Helper\n",
    "    similarity = []\n",
    "    for idx2,doc2 in enumerate(X2):\n",
    "        # Helper to quickly get word vectors for X2\n",
    "        X2_indeces = list(set([word2idx[word] for word in doc2]))\n",
    "        \n",
    "        #Atasu et al. RMWD\n",
    "        T2 = E[X2_indeces,]\n",
    "        F2 = X2_nbow[idx2].toarray()[0,X2_indeces]\n",
    "        \n",
    "        C = euclidean_distances(T1, T2)\n",
    "        RWMD = np.maximum(np.dot(np.min(C, axis=1), F1),\n",
    "                          np.dot(np.min(C, axis=0), F2))\n",
    "        \n",
    "        # Helper\n",
    "        similarity.append((doc1, idx2, doc2,RWMD))\n",
    "        \n",
    "        # Required by pyemd, but not part of the Atasu et al.\n",
    "        T_emd = E[X1_indeces + X2_indeces,]\n",
    "        C_emd = euclidean_distances(T_emd, T_emd)\n",
    "        X1_sig = np.concatenate((X1_nbow[3].toarray()[0,X1_indeces], np.zeros(len(F2))))\n",
    "        X2_sig = np.concatenate((np.zeros(len(F1)), X2_nbow[3].toarray()[0,X2_indeces]))\n",
    "        \n",
    "        # Doing WMD\n",
    "        WMD = emd_with_flow(np.array(X1_sig, dtype=np.double), \n",
    "                            np.array(X2_sig, dtype=np.double), \n",
    "                            np.array(C_emd, dtype=np.double))\n",
    "        \n",
    "        #print(WMD[0])\n",
    "        #print(RWMD)\n",
    "    RWMD_s.append(similarity)"
   ]
  },
  {
   "cell_type": "code",
   "execution_count": 71,
   "metadata": {},
   "outputs": [
    {
     "name": "stdout",
     "output_type": "stream",
     "text": [
      "['beautiful', 'obama', 'speaks', 'media', 'illinois', 'beautiful', 'morning']\n",
      "['president', 'greets', 'press', 'chicago', 'evening']\n",
      "1.0102365442684718\n",
      "['beautiful', 'obama', 'speaks', 'media', 'illinois', 'beautiful', 'morning']\n",
      "['president', 'greets', 'press', 'chicago']\n",
      "1.0826340743473597\n",
      "['beautiful', 'obama', 'speaks', 'media', 'illinois', 'beautiful', 'morning']\n",
      "['hello', 'called', 'love', 'you']\n",
      "1.1934219428471156\n",
      "['beautiful', 'obama', 'speaks', 'media', 'illinois', 'beautiful', 'morning']\n",
      "['the', 'forecast', 'says', 'snow']\n",
      "1.2727791241237094\n",
      "['beautiful', 'obama', 'speaks', 'media', 'illinois', 'beautiful', 'morning']\n",
      "['who', 'is', 'winning']\n",
      "1.3249833924429755\n",
      "\n",
      "\n",
      "['which', 'team', 'will', 'lose']\n",
      "['who', 'is', 'winning']\n",
      "1.148093432188034\n",
      "['which', 'team', 'will', 'lose']\n",
      "['the', 'forecast', 'says', 'snow']\n",
      "1.2594012022018433\n",
      "['which', 'team', 'will', 'lose']\n",
      "['hello', 'called', 'love', 'you']\n",
      "1.2821693122386932\n",
      "['which', 'team', 'will', 'lose']\n",
      "['president', 'greets', 'press', 'chicago', 'evening']\n",
      "1.321950763463974\n",
      "['which', 'team', 'will', 'lose']\n",
      "['president', 'greets', 'press', 'chicago']\n",
      "1.3336600363254547\n",
      "\n",
      "\n",
      "['is', 'it', 'gonna', 'rain', 'tomorrow']\n",
      "['who', 'is', 'winning']\n",
      "1.006339716911316\n",
      "['is', 'it', 'gonna', 'rain', 'tomorrow']\n",
      "['the', 'forecast', 'says', 'snow']\n",
      "1.1132556796073914\n",
      "['is', 'it', 'gonna', 'rain', 'tomorrow']\n",
      "['hello', 'called', 'love', 'you']\n",
      "1.1459282636642456\n",
      "['is', 'it', 'gonna', 'rain', 'tomorrow']\n",
      "['president', 'greets', 'press', 'chicago', 'evening']\n",
      "1.2274447679519653\n",
      "['is', 'it', 'gonna', 'rain', 'tomorrow']\n",
      "['president', 'greets', 'press', 'chicago']\n",
      "1.2815632581710814\n",
      "\n",
      "\n",
      "['obama', 'speaks', 'media', 'illinois']\n",
      "['president', 'greets', 'press', 'chicago']\n",
      "1.0106501132249832\n",
      "['obama', 'speaks', 'media', 'illinois']\n",
      "['president', 'greets', 'press', 'chicago', 'evening']\n",
      "1.0805415272712708\n",
      "['obama', 'speaks', 'media', 'illinois']\n",
      "['hello', 'called', 'love', 'you']\n",
      "1.2811855673789978\n",
      "['obama', 'speaks', 'media', 'illinois']\n",
      "['the', 'forecast', 'says', 'snow']\n",
      "1.2900499403476715\n",
      "['obama', 'speaks', 'media', 'illinois']\n",
      "['who', 'is', 'winning']\n",
      "1.3170624673366547\n",
      "\n",
      "\n"
     ]
    }
   ],
   "source": [
    "k = 5\n",
    "k_RWMD = [sorted(rwmd, key = lambda t: t[3], reverse=False)[:k] for rwmd in RWMD_s]\n",
    "\n",
    "for k in k_RWMD:\n",
    "    for scores in k:\n",
    "        print(scores[0])\n",
    "        print(scores[2])\n",
    "        print(scores[3])\n",
    "    print(\"\\n\")"
   ]
  }
 ],
 "metadata": {
  "kernelspec": {
   "display_name": "venv-fwmd",
   "language": "python",
   "name": "venv-fwmd"
  },
  "language_info": {
   "codemirror_mode": {
    "name": "ipython",
    "version": 3
   },
   "file_extension": ".py",
   "mimetype": "text/x-python",
   "name": "python",
   "nbconvert_exporter": "python",
   "pygments_lexer": "ipython3",
   "version": "3.8.3"
  }
 },
 "nbformat": 4,
 "nbformat_minor": 4
}

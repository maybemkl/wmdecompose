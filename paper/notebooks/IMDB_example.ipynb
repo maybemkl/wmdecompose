{
 "cells": [
  {
   "cell_type": "code",
   "execution_count": 1,
   "metadata": {},
   "outputs": [],
   "source": [
    "from collections import defaultdict\n",
    "from wmdecompose.documents import Document\n",
    "from wmdecompose.gale_shapeley import Matcher\n",
    "from wmdecompose.models import LC_RWMD, WMD, WMDPairs\n",
    "from wmdecompose.utils import *\n",
    "\n",
    "from gensim.models import KeyedVectors\n",
    "from nltk.corpus import stopwords\n",
    "from nltk.tokenize import ToktokTokenizer\n",
    "from scipy.spatial.distance import is_valid_dm, cdist\n",
    "from sklearn.decomposition import PCA\n",
    "from sklearn.feature_extraction.text import TfidfVectorizer\n",
    "from sklearn.manifold import TSNE\n",
    "from sklearn.metrics import silhouette_score\n",
    "from sklearn import cluster\n",
    "\n",
    "import matplotlib.pyplot as plt\n",
    "import numpy as np\n",
    "import pandas as pd\n",
    "import re\n",
    "import umap\n",
    "\n",
    "%load_ext autoreload\n",
    "%autoreload 2\n",
    "\n",
    "random.seed(42)"
   ]
  },
  {
   "cell_type": "code",
   "execution_count": 112,
   "metadata": {},
   "outputs": [],
   "source": [
    "from nltk import tokenize"
   ]
  },
  {
   "cell_type": "code",
   "execution_count": 113,
   "metadata": {},
   "outputs": [
    {
     "data": {
      "text/plain": [
       "module"
      ]
     },
     "execution_count": 113,
     "metadata": {},
     "output_type": "execute_result"
    }
   ],
   "source": [
    "type(tokenize)"
   ]
  },
  {
   "cell_type": "markdown",
   "metadata": {},
   "source": [
    "## 1.ToktokTokenizerepare IMDB data"
   ]
  },
  {
   "cell_type": "markdown",
   "metadata": {},
   "source": [
    "### 1.1 Load data and stopwords."
   ]
  },
  {
   "cell_type": "code",
   "execution_count": 2,
   "metadata": {},
   "outputs": [],
   "source": [
    "PATH = \"../data/\"\n",
    "imdb_data = pd.read_csv(f\"{PATH}IMDB.csv\")\n",
    "stopword_list=stopwords.words('english')"
   ]
  },
  {
   "cell_type": "markdown",
   "metadata": {},
   "source": [
    "### 1.2 Remove special formatting and stopwords"
   ]
  },
  {
   "cell_type": "code",
   "execution_count": 3,
   "metadata": {},
   "outputs": [],
   "source": [
    "tokenizer = ToktokTokenizer()"
   ]
  },
  {
   "cell_type": "markdown",
   "metadata": {},
   "source": [
    "Remove stopwords before denoising, lemmatizing and removing special characters."
   ]
  },
  {
   "cell_type": "code",
   "execution_count": 4,
   "metadata": {},
   "outputs": [
    {
     "name": "stdout",
     "output_type": "stream",
     "text": [
      "CPU times: user 44.1 s, sys: 248 ms, total: 44.4 s\n",
      "Wall time: 44.7 s\n"
     ]
    }
   ],
   "source": [
    "%%time \n",
    "\n",
    "imdb_data['review_clean']= [remove_stopwords(r, stopword_list, tokenizer) for r in imdb_data['review']]"
   ]
  },
  {
   "cell_type": "markdown",
   "metadata": {},
   "source": [
    "Denoise, remove special characters, lemmatize."
   ]
  },
  {
   "cell_type": "code",
   "execution_count": 5,
   "metadata": {},
   "outputs": [
    {
     "name": "stdout",
     "output_type": "stream",
     "text": [
      "CPU times: user 28.6 s, sys: 223 ms, total: 28.9 s\n",
      "Wall time: 28.9 s\n"
     ]
    }
   ],
   "source": [
    "%%time\n",
    "\n",
    "imdb_data['review_clean']=imdb_data['review_clean'].apply(denoise_text)\n",
    "imdb_data['review_clean']=imdb_data['review_clean'].apply(remove_special_characters)\n",
    "imdb_data['review_clean']=imdb_data['review_clean'].apply(simple_lemmatizer)"
   ]
  },
  {
   "cell_type": "markdown",
   "metadata": {},
   "source": [
    "Remove stopwords again, after other preprocessing."
   ]
  },
  {
   "cell_type": "code",
   "execution_count": 6,
   "metadata": {},
   "outputs": [
    {
     "name": "stdout",
     "output_type": "stream",
     "text": [
      "CPU times: user 22.2 s, sys: 75.5 ms, total: 22.3 s\n",
      "Wall time: 22.4 s\n"
     ]
    }
   ],
   "source": [
    "%%time \n",
    "\n",
    "imdb_data['review_clean']= [remove_stopwords(r, stopword_list, tokenizer) for r in imdb_data['review_clean']]"
   ]
  },
  {
   "cell_type": "markdown",
   "metadata": {},
   "source": [
    "Find phrases."
   ]
  },
  {
   "cell_type": "code",
   "execution_count": 7,
   "metadata": {},
   "outputs": [
    {
     "name": "stdout",
     "output_type": "stream",
     "text": [
      "Initializing bigram Phrases.\n",
      "Initializing trigram Phrases.\n",
      "Finding bigrams in data.\n",
      "Finding trigrams in data.\n",
      "CPU times: user 1min 20s, sys: 1.36 s, total: 1min 21s\n",
      "Wall time: 1min 22s\n"
     ]
    }
   ],
   "source": [
    "%%time\n",
    "\n",
    "imdb_data['review_clean']= get_phrases([tokenizer.tokenize(i) for i in imdb_data['review_clean']])"
   ]
  },
  {
   "cell_type": "markdown",
   "metadata": {},
   "source": [
    "Data _before_ preprocessing and phrasing."
   ]
  },
  {
   "cell_type": "code",
   "execution_count": 8,
   "metadata": {},
   "outputs": [
    {
     "data": {
      "text/plain": [
       "\"One of the other reviewers has mentioned that after watching just 1 Oz episode you'll be hooked. They are right, as this is exactly what happened with me.<br /><br />The first thing that struck me about Oz was its brutality and unflinching scenes of violence, which set in right from the word GO. Trust me, this is not a show for the faint hearted or timid. This show pulls no punches with regards to drugs, sex or violence. Its is hardcore, in the classic use of the word.<br /><br />It is called OZ as that is the nickname given to the Oswald Maximum Security State Penitentary. It focuses mainly on Emerald City, an experimental section of the prison where all the cells have glass fronts and face inwards, so privacy is not high on the agenda. Em City is home to many..Aryans, Muslims, gangstas, Latinos, Christians, Italians, Irish and more....so scuffles, death stares, dodgy dealings and shady agreements are never far away.<br /><br />I would say the main appeal of the show is due to the fact that it goes where other shows wouldn't dare. Forget pretty pictures painted for mainstream audiences, forget charm, forget romance...OZ doesn't mess around. The first episode I ever saw struck me as so nasty it was surreal, I couldn't say I was ready for it, but as I watched more, I developed a taste for Oz, and got accustomed to the high levels of graphic violence. Not just violence, but injustice (crooked guards who'll be sold out for a nickel, inmates who'll kill on order and get away with it, well mannered, middle class inmates being turned into prison bitches due to their lack of street skills or prison experience) Watching Oz, you may become comfortable with what is uncomfortable viewing....thats if you can get in touch with your darker side.\""
      ]
     },
     "execution_count": 8,
     "metadata": {},
     "output_type": "execute_result"
    }
   ],
   "source": [
    "imdb_data['review'][0]"
   ]
  },
  {
   "cell_type": "markdown",
   "metadata": {},
   "source": [
    "Data _after_ preprocessing and phrasing."
   ]
  },
  {
   "cell_type": "code",
   "execution_count": 9,
   "metadata": {},
   "outputs": [
    {
     "data": {
      "text/plain": [
       "'one reviewer_mentioned watching oz episode hooked right exactly_happened first thing struck oz brutality unflinching scene violence set right word go trust show faint_hearted timid show pull_punch regard drug sex_violence hardcore classic use_word called oz nickname given oswald maximum_security state penitentary focus_mainly emerald_city experimental section prison_cell glass front face inwards privacy high agenda em city home many aryan muslim gangsta latino christian italian irish scuffle death stare dodgy dealing shady agreement never far_away would say main appeal show due_fact go show dare forget pretty picture painted mainstream_audience forget charm forget romance oz mess around first episode ever saw struck nasty surreal say ready watched developed taste oz got accustomed high_level graphic_violence violence injustice crooked guard sold nickel inmate kill order get away well mannered middle_class inmate turned prison bitch due_lack street skill prison experience watching oz may become comfortable uncomfortable viewing thats get touch darker_side'"
      ]
     },
     "execution_count": 9,
     "metadata": {},
     "output_type": "execute_result"
    }
   ],
   "source": [
    "\" \".join(imdb_data['review_clean'][0])"
   ]
  },
  {
   "cell_type": "markdown",
   "metadata": {},
   "source": [
    "### 1.3 Separate pos and neg reviews"
   ]
  },
  {
   "cell_type": "code",
   "execution_count": 10,
   "metadata": {},
   "outputs": [],
   "source": [
    "pos = imdb_data[imdb_data.sentiment == \"positive\"].reset_index(drop=True)\n",
    "neg = imdb_data[imdb_data.sentiment == \"negative\"].reset_index(drop=True)"
   ]
  },
  {
   "cell_type": "code",
   "execution_count": 11,
   "metadata": {},
   "outputs": [],
   "source": [
    "pos = pos.review_clean.tolist()\n",
    "neg = neg.review_clean.tolist()"
   ]
  },
  {
   "cell_type": "markdown",
   "metadata": {},
   "source": [
    "## 2. WMD"
   ]
  },
  {
   "cell_type": "markdown",
   "metadata": {},
   "source": [
    "### 2.1 Tokenize and \"sample\" data"
   ]
  },
  {
   "cell_type": "code",
   "execution_count": 12,
   "metadata": {},
   "outputs": [],
   "source": [
    "pos_tok = list(map(lambda x: tokenize(x, tokenizer), pos[:500]))\n",
    "neg_tok = list(map(lambda x: tokenize(x, tokenizer), neg[:500]))"
   ]
  },
  {
   "cell_type": "code",
   "execution_count": 13,
   "metadata": {},
   "outputs": [],
   "source": [
    "pos_sample = [\" \".join(doc) for doc in pos_tok]\n",
    "neg_sample = [\" \".join(doc) for doc in neg_tok]"
   ]
  },
  {
   "cell_type": "markdown",
   "metadata": {},
   "source": [
    "### 2.2 Load pretrained Google News W2V model"
   ]
  },
  {
   "cell_type": "code",
   "execution_count": 14,
   "metadata": {},
   "outputs": [],
   "source": [
    "finetuned = True"
   ]
  },
  {
   "cell_type": "code",
   "execution_count": 15,
   "metadata": {},
   "outputs": [
    {
     "name": "stdout",
     "output_type": "stream",
     "text": [
      "Loading GoogleNews Vectors finetuned using IMDB review data.\n",
      "CPU times: user 15.1 s, sys: 362 ms, total: 15.5 s\n",
      "Wall time: 15.5 s\n"
     ]
    }
   ],
   "source": [
    "if not finetuned:\n",
    "    print(\"Loading GoogleNews Vectors\")\n",
    "    %time model = KeyedVectors.load_word2vec_format('../embeddings/GoogleNews-vectors-negative300.bin.gz', binary=True)\n",
    "else:\n",
    "    print(\"Loading GoogleNews Vectors finetuned using IMDB review data.\")\n",
    "    %time model = KeyedVectors.load_word2vec_format('../embeddings/imdb_w2v.txt', binary=False)"
   ]
  },
  {
   "cell_type": "code",
   "execution_count": 16,
   "metadata": {},
   "outputs": [
    {
     "data": {
      "text/plain": [
       "0.45544904470443726"
      ]
     },
     "execution_count": 16,
     "metadata": {},
     "output_type": "execute_result"
    }
   ],
   "source": [
    "model.distance(\"citizen\", \"kane\")"
   ]
  },
  {
   "cell_type": "markdown",
   "metadata": {},
   "source": [
    "### 2.3 Load corpus and remove OOV words"
   ]
  },
  {
   "cell_type": "code",
   "execution_count": 17,
   "metadata": {},
   "outputs": [
    {
     "name": "stderr",
     "output_type": "stream",
     "text": [
      "/Users/mikaelbrunila/Documents/Code/wmdecompose/venv-wmdecomp/lib/python3.8/site-packages/sklearn/feature_extraction/text.py:489: UserWarning: The parameter 'token_pattern' will not be used since 'tokenizer' is not None'\n",
      "  warnings.warn(\"The parameter 'token_pattern' will not be used\"\n"
     ]
    },
    {
     "name": "stdout",
     "output_type": "stream",
     "text": [
      "CPU times: user 1.36 s, sys: 24.7 ms, total: 1.39 s\n",
      "Wall time: 1.4 s\n"
     ]
    },
    {
     "data": {
      "text/plain": [
       "TfidfVectorizer(norm='l1',\n",
       "                tokenizer=<function tfidf_tokenize at 0x7fc54bf95280>,\n",
       "                use_idf=False)"
      ]
     },
     "execution_count": 17,
     "metadata": {},
     "output_type": "execute_result"
    }
   ],
   "source": [
    "%%time\n",
    "\n",
    "corpus = pos_sample + neg_sample\n",
    "vectorizer = TfidfVectorizer(use_idf=False, tokenizer=tfidf_tokenize, norm='l1')\n",
    "vectorizer.fit(corpus)"
   ]
  },
  {
   "cell_type": "code",
   "execution_count": 18,
   "metadata": {},
   "outputs": [
    {
     "name": "stdout",
     "output_type": "stream",
     "text": [
      "CPU times: user 22.8 ms, sys: 484 µs, total: 23.2 ms\n",
      "Wall time: 22.9 ms\n"
     ]
    }
   ],
   "source": [
    "%time oov = [word for word in vectorizer.get_feature_names() if word not in model.key_to_index.keys()]"
   ]
  },
  {
   "cell_type": "code",
   "execution_count": 19,
   "metadata": {},
   "outputs": [
    {
     "data": {
      "text/plain": [
       "1440"
      ]
     },
     "execution_count": 19,
     "metadata": {},
     "output_type": "execute_result"
    }
   ],
   "source": [
    "len(oov)"
   ]
  },
  {
   "cell_type": "code",
   "execution_count": 20,
   "metadata": {},
   "outputs": [
    {
     "name": "stdout",
     "output_type": "stream",
     "text": [
      "[\"'\", ',', '[', '_fargo_', '_inspire_', 'abbottwe', 'abedded', 'ableand', 'according_dvd_sleeve', 'achieve_dream', 'acin', 'acquaintaces', 'acroyd', 'actinglack', 'actingperformance', 'actingthis', 'actionfighting', 'actionlevel', 'adherance', 'adjuster', 'adobye', 'adventureoh', 'afflicting', 'afterlives', 'againandagain', 'agendait', 'air_america', 'aired_tv', 'airplane_naked_gun', 'alameo', 'alexakis', 'alfrie', 'aliengiantbugmonsterinvisibleman', 'alienridden', 'alligatorspaul', 'allosaurus', 'allusionshomagesripoffs', 'allwise', 'almostolympian', 'altasianmovies', 'altmanquirky', 'altro', 'alwaysdependable', 'amilee', 'anatolia', 'andrewsblake', 'andrewsedwards', 'angelena', 'animationsciencefiction', 'ankur']\n"
     ]
    }
   ],
   "source": [
    "print(oov[:50])"
   ]
  },
  {
   "cell_type": "code",
   "execution_count": 21,
   "metadata": {},
   "outputs": [
    {
     "name": "stdout",
     "output_type": "stream",
     "text": [
      "CPU times: user 1.78 s, sys: 8.39 ms, total: 1.79 s\n",
      "Wall time: 1.8 s\n",
      "CPU times: user 1.68 s, sys: 9.83 ms, total: 1.69 s\n",
      "Wall time: 1.7 s\n"
     ]
    }
   ],
   "source": [
    "%time pos_sample = list(map(lambda x: remove_oov(x, tokenizer, oov), pos_sample[:500]))\n",
    "%time neg_sample = list(map(lambda x: remove_oov(x, tokenizer, oov), neg_sample[:500]))"
   ]
  },
  {
   "cell_type": "code",
   "execution_count": 22,
   "metadata": {},
   "outputs": [
    {
     "data": {
      "text/plain": [
       "'one reviewer_mentioned watching oz episode hooked right exactly_happened first thing struck oz brutality unflinching scene violence set right word go trust show faint_hearted timid show pull_punch regard drug sex_violence hardcore classic use_word called oz nickname given oswald maximum_security state penitentary focus_mainly emerald_city experimental section prison_cell glass front face inwards privacy high agenda em city home many aryan muslim gangsta latino christian italian irish scuffle death stare dodgy dealing shady agreement never far_away would say main appeal show due_fact go show dare forget pretty picture painted mainstream_audience forget charm forget romance oz mess around first episode ever saw struck nasty surreal say ready watched developed taste oz got accustomed high_level graphic_violence violence injustice crooked guard sold nickel inmate kill order get away well mannered middle_class inmate turned prison bitch due_lack street skill prison experience watching oz may become comfortable uncomfortable viewing thats get touch darker_side ]'"
      ]
     },
     "execution_count": 22,
     "metadata": {},
     "output_type": "execute_result"
    }
   ],
   "source": [
    "pos_sample[0]"
   ]
  },
  {
   "cell_type": "code",
   "execution_count": 23,
   "metadata": {},
   "outputs": [
    {
     "name": "stdout",
     "output_type": "stream",
     "text": [
      "CPU times: user 22 µs, sys: 0 ns, total: 22 µs\n",
      "Wall time: 25 µs\n",
      "CPU times: user 327 ms, sys: 4.8 ms, total: 331 ms\n",
      "Wall time: 330 ms\n"
     ]
    },
    {
     "data": {
      "text/plain": [
       "TfidfVectorizer(norm='l1',\n",
       "                tokenizer=<function tfidf_tokenize at 0x7fc54bf95280>)"
      ]
     },
     "execution_count": 23,
     "metadata": {},
     "output_type": "execute_result"
    }
   ],
   "source": [
    "corpus = pos_sample + neg_sample\n",
    "\n",
    "%time vectorizer = TfidfVectorizer(use_idf=True, tokenizer=tfidf_tokenize,norm='l1')\n",
    "%time vectorizer.fit(corpus)"
   ]
  },
  {
   "cell_type": "markdown",
   "metadata": {},
   "source": [
    "Bag-of-words vectorizer."
   ]
  },
  {
   "cell_type": "code",
   "execution_count": 24,
   "metadata": {},
   "outputs": [
    {
     "name": "stdout",
     "output_type": "stream",
     "text": [
      "CPU times: user 4 µs, sys: 0 ns, total: 4 µs\n",
      "Wall time: 7.87 µs\n"
     ]
    }
   ],
   "source": [
    "%time\n",
    "pos_nbow = vectorizer.transform(pos_sample)\n",
    "neg_nbow = vectorizer.transform(neg_sample)"
   ]
  },
  {
   "cell_type": "code",
   "execution_count": 25,
   "metadata": {},
   "outputs": [],
   "source": [
    "pos_tok = list(map(lambda x: tokenize(x, tokenizer), pos_sample[:500]))\n",
    "neg_tok =list(map(lambda x: tokenize(x, tokenizer), neg_sample[:500]))"
   ]
  },
  {
   "cell_type": "code",
   "execution_count": 26,
   "metadata": {},
   "outputs": [
    {
     "name": "stdout",
     "output_type": "stream",
     "text": [
      "['one', 'reviewer_mentioned', 'watching', 'oz', 'episode', 'hooked', 'right', 'exactly_happened', 'first', 'thing', 'struck', 'oz', 'brutality', 'unflinching', 'scene', 'violence', 'set', 'right', 'word', 'go']\n"
     ]
    }
   ],
   "source": [
    "print(pos_tok[0][:20])"
   ]
  },
  {
   "cell_type": "code",
   "execution_count": 27,
   "metadata": {},
   "outputs": [
    {
     "name": "stdout",
     "output_type": "stream",
     "text": [
      "CPU times: user 39.2 ms, sys: 1.68 ms, total: 40.9 ms\n",
      "Wall time: 40.9 ms\n"
     ]
    }
   ],
   "source": [
    "%time oov_ = [word for word in vectorizer.get_feature_names() if word not in model.key_to_index.keys()]"
   ]
  },
  {
   "cell_type": "code",
   "execution_count": 28,
   "metadata": {},
   "outputs": [
    {
     "data": {
      "text/plain": [
       "0"
      ]
     },
     "execution_count": 28,
     "metadata": {},
     "output_type": "execute_result"
    }
   ],
   "source": [
    "len(oov_)"
   ]
  },
  {
   "cell_type": "markdown",
   "metadata": {},
   "source": [
    "### 2.4 Get features and embeddings"
   ]
  },
  {
   "cell_type": "code",
   "execution_count": 29,
   "metadata": {},
   "outputs": [],
   "source": [
    "features = vectorizer.get_feature_names()\n",
    "word2idx = {word: idx for idx, word in enumerate(vectorizer.get_feature_names())}\n",
    "idx2word = {idx: word for idx, word in enumerate(vectorizer.get_feature_names())}"
   ]
  },
  {
   "cell_type": "markdown",
   "metadata": {},
   "source": [
    "Get the embedding matrix \"E\" for all features."
   ]
  },
  {
   "cell_type": "code",
   "execution_count": 30,
   "metadata": {},
   "outputs": [],
   "source": [
    "E = model[features]\n",
    "#E = np.vstack([model.get_vector(word) for word in vectorizer.get_feature_names()])"
   ]
  },
  {
   "cell_type": "markdown",
   "metadata": {},
   "source": [
    "### 2.5 Cluster"
   ]
  },
  {
   "cell_type": "markdown",
   "metadata": {},
   "source": [
    "In order to make the results of the WMD model more interpretable, we add the option to inspect the output not only by individual words, but also by *word clusters*. We do this by clustering the input words with two different algorithms\n",
    "and assigning each word to a cluster."
   ]
  },
  {
   "cell_type": "markdown",
   "metadata": {},
   "source": [
    "#### 2.5.1 Kmeans"
   ]
  },
  {
   "cell_type": "markdown",
   "metadata": {},
   "source": [
    "First we select the number of clusters we want, initialize the Kmeans model and fit it."
   ]
  },
  {
   "cell_type": "code",
   "execution_count": 33,
   "metadata": {},
   "outputs": [
    {
     "name": "stdout",
     "output_type": "stream",
     "text": [
      "CPU times: user 6 µs, sys: 1 µs, total: 7 µs\n",
      "Wall time: 8.82 µs\n"
     ]
    }
   ],
   "source": [
    "%%time\n",
    "\n",
    "K = range(5,105, 5)"
   ]
  },
  {
   "cell_type": "code",
   "execution_count": 240,
   "metadata": {},
   "outputs": [
    {
     "name": "stdout",
     "output_type": "stream",
     "text": [
      "For n_clusters = 5 The average silhouette_score is : 0.20111598\n",
      "For n_clusters = 10 The average silhouette_score is : 0.072588645\n",
      "For n_clusters = 15 The average silhouette_score is : 0.074699454\n",
      "For n_clusters = 20 The average silhouette_score is : 0.07060568\n",
      "For n_clusters = 25 The average silhouette_score is : 0.05947911\n",
      "For n_clusters = 30 The average silhouette_score is : 0.057747163\n",
      "For n_clusters = 35 The average silhouette_score is : 0.052976962\n",
      "For n_clusters = 40 The average silhouette_score is : 0.05577521\n",
      "For n_clusters = 45 The average silhouette_score is : 0.04736106\n",
      "For n_clusters = 50 The average silhouette_score is : 0.043115593\n",
      "For n_clusters = 55 The average silhouette_score is : 0.041144513\n",
      "For n_clusters = 60 The average silhouette_score is : 0.04126182\n",
      "For n_clusters = 65 The average silhouette_score is : 0.043678906\n",
      "For n_clusters = 70 The average silhouette_score is : 0.0334392\n",
      "For n_clusters = 75 The average silhouette_score is : 0.04034966\n",
      "For n_clusters = 80 The average silhouette_score is : 0.028035259\n",
      "For n_clusters = 85 The average silhouette_score is : 0.04340706\n",
      "For n_clusters = 90 The average silhouette_score is : 0.030611664\n",
      "For n_clusters = 95 The average silhouette_score is : 0.03745912\n",
      "For n_clusters = 100 The average silhouette_score is : 0.034750305\n"
     ]
    }
   ],
   "source": [
    "%%time\n",
    "\n",
    "wvec_ssd, wvec_silhouette = kmeans_search(E, K)"
   ]
  },
  {
   "cell_type": "code",
   "execution_count": 241,
   "metadata": {},
   "outputs": [
    {
     "data": {
      "image/png": "[encoded data removed]",
      "text/plain": [
       "<Figure size 432x288 with 1 Axes>"
      ]
     },
     "metadata": {
      "needs_background": "light"
     },
     "output_type": "display_data"
    }
   ],
   "source": [
    "plot_kmeans(K,wvec_ssd,\"elbow\")"
   ]
  },
  {
   "cell_type": "code",
   "execution_count": 242,
   "metadata": {},
   "outputs": [
    {
     "data": {
      "image/png": "[encoded data removed]",
      "text/plain": [
       "<Figure size 432x288 with 1 Axes>"
      ]
     },
     "metadata": {
      "needs_background": "light"
     },
     "output_type": "display_data"
    }
   ],
   "source": [
    "plot_kmeans(K,wvec_silhouette,\"silhouette\")"
   ]
  },
  {
   "cell_type": "markdown",
   "metadata": {},
   "source": [
    "Assign labels and centroids to separate variables for later use."
   ]
  },
  {
   "cell_type": "markdown",
   "metadata": {},
   "source": [
    "#### 2.5.2 T-SNE + Kmeans"
   ]
  },
  {
   "cell_type": "code",
   "execution_count": 31,
   "metadata": {},
   "outputs": [],
   "source": [
    "method='barnes_hut'\n",
    "n_components = 2\n",
    "verbose = 1"
   ]
  },
  {
   "cell_type": "code",
   "execution_count": 32,
   "metadata": {},
   "outputs": [
    {
     "name": "stdout",
     "output_type": "stream",
     "text": [
      "[t-SNE] Computing 91 nearest neighbors...\n",
      "[t-SNE] Indexed 19970 samples in 0.004s...\n",
      "[t-SNE] Computed neighbors for 19970 samples in 11.074s...\n",
      "[t-SNE] Computed conditional probabilities for sample 1000 / 19970\n",
      "[t-SNE] Computed conditional probabilities for sample 2000 / 19970\n",
      "[t-SNE] Computed conditional probabilities for sample 3000 / 19970\n",
      "[t-SNE] Computed conditional probabilities for sample 4000 / 19970\n",
      "[t-SNE] Computed conditional probabilities for sample 5000 / 19970\n",
      "[t-SNE] Computed conditional probabilities for sample 6000 / 19970\n",
      "[t-SNE] Computed conditional probabilities for sample 7000 / 19970\n",
      "[t-SNE] Computed conditional probabilities for sample 8000 / 19970\n",
      "[t-SNE] Computed conditional probabilities for sample 9000 / 19970\n",
      "[t-SNE] Computed conditional probabilities for sample 10000 / 19970\n",
      "[t-SNE] Computed conditional probabilities for sample 11000 / 19970\n",
      "[t-SNE] Computed conditional probabilities for sample 12000 / 19970\n",
      "[t-SNE] Computed conditional probabilities for sample 13000 / 19970\n",
      "[t-SNE] Computed conditional probabilities for sample 14000 / 19970\n",
      "[t-SNE] Computed conditional probabilities for sample 15000 / 19970\n",
      "[t-SNE] Computed conditional probabilities for sample 16000 / 19970\n",
      "[t-SNE] Computed conditional probabilities for sample 17000 / 19970\n",
      "[t-SNE] Computed conditional probabilities for sample 18000 / 19970\n",
      "[t-SNE] Computed conditional probabilities for sample 19000 / 19970\n",
      "[t-SNE] Computed conditional probabilities for sample 19970 / 19970\n",
      "[t-SNE] Mean sigma: 0.089771\n",
      "[t-SNE] KL divergence after 250 iterations with early exaggeration: 94.899803\n",
      "[t-SNE] KL divergence after 1000 iterations: 2.799491\n"
     ]
    }
   ],
   "source": [
    "E_tsne = TSNE(n_components=n_components, method=method, verbose=verbose).fit_transform(E)"
   ]
  },
  {
   "cell_type": "code",
   "execution_count": 33,
   "metadata": {},
   "outputs": [
    {
     "data": {
      "image/png": "[encoded data removed]",
      "text/plain": [
       "<Figure size 432x288 with 1 Axes>"
      ]
     },
     "metadata": {
      "needs_background": "light"
     },
     "output_type": "display_data"
    }
   ],
   "source": [
    "plt.scatter(E_tsne[:, 0], E_tsne[:, 1], s=1);"
   ]
  },
  {
   "cell_type": "code",
   "execution_count": 52,
   "metadata": {},
   "outputs": [
    {
     "name": "stdout",
     "output_type": "stream",
     "text": [
      "For n_clusters = 5 The average silhouette_score is : 0.3746598\n",
      "For n_clusters = 10 The average silhouette_score is : 0.36901867\n",
      "For n_clusters = 15 The average silhouette_score is : 0.3820089\n",
      "For n_clusters = 20 The average silhouette_score is : 0.37787673\n",
      "For n_clusters = 25 The average silhouette_score is : 0.37580648\n",
      "For n_clusters = 30 The average silhouette_score is : 0.37369773\n",
      "For n_clusters = 35 The average silhouette_score is : 0.37200108\n",
      "For n_clusters = 40 The average silhouette_score is : 0.36375844\n",
      "For n_clusters = 45 The average silhouette_score is : 0.36583894\n",
      "For n_clusters = 50 The average silhouette_score is : 0.3656053\n",
      "For n_clusters = 55 The average silhouette_score is : 0.36320007\n",
      "For n_clusters = 60 The average silhouette_score is : 0.3498459\n",
      "For n_clusters = 65 The average silhouette_score is : 0.36189234\n",
      "For n_clusters = 70 The average silhouette_score is : 0.36026916\n",
      "For n_clusters = 75 The average silhouette_score is : 0.3510822\n",
      "For n_clusters = 80 The average silhouette_score is : 0.362218\n",
      "For n_clusters = 85 The average silhouette_score is : 0.34931776\n",
      "For n_clusters = 90 The average silhouette_score is : 0.35057998\n",
      "For n_clusters = 95 The average silhouette_score is : 0.3473391\n",
      "For n_clusters = 100 The average silhouette_score is : 0.34530395\n",
      "CPU times: user 9min 32s, sys: 1min 13s, total: 10min 46s\n",
      "Wall time: 2min 26s\n"
     ]
    }
   ],
   "source": [
    "%%time\n",
    "\n",
    "tsne_ssd, tsne_silhouette = kmeans_search(E_tsne, K)"
   ]
  },
  {
   "cell_type": "code",
   "execution_count": 53,
   "metadata": {},
   "outputs": [
    {
     "data": {
      "image/png": "[encoded data removed]",
      "text/plain": [
       "<Figure size 432x288 with 1 Axes>"
      ]
     },
     "metadata": {
      "needs_background": "light"
     },
     "output_type": "display_data"
    }
   ],
   "source": [
    "plot_kmeans(K,tsne_ssd,\"elbow\")"
   ]
  },
  {
   "cell_type": "code",
   "execution_count": 54,
   "metadata": {},
   "outputs": [
    {
     "data": {
      "image/png": "[encoded data removed]",
      "text/plain": [
       "<Figure size 432x288 with 1 Axes>"
      ]
     },
     "metadata": {
      "needs_background": "light"
     },
     "output_type": "display_data"
    }
   ],
   "source": [
    "plot_kmeans(K,tsne_silhouette,\"silhouette\")"
   ]
  },
  {
   "cell_type": "markdown",
   "metadata": {},
   "source": [
    "#### 2.5.3 PCA + Kmeans"
   ]
  },
  {
   "cell_type": "code",
   "execution_count": 34,
   "metadata": {},
   "outputs": [],
   "source": [
    "n_components = 0.9\n",
    "verbose = 1"
   ]
  },
  {
   "cell_type": "code",
   "execution_count": 35,
   "metadata": {},
   "outputs": [],
   "source": [
    "pca_fit = PCA(n_components = n_components).fit(E)"
   ]
  },
  {
   "cell_type": "code",
   "execution_count": 36,
   "metadata": {},
   "outputs": [
    {
     "name": "stdout",
     "output_type": "stream",
     "text": [
      "31\n",
      "[0.2090435  0.12344702 0.09292053 0.07319617 0.06892133 0.04888063\n",
      " 0.03278874 0.02680095 0.02596672 0.02008948 0.01969725 0.01555907\n",
      " 0.01480958 0.01374451 0.01256809 0.01187242 0.01022554 0.00871704\n",
      " 0.00792144 0.00776878 0.00637864 0.0063122  0.0062162  0.00572175\n",
      " 0.0053664  0.00513521 0.00474726 0.00442144 0.00399146 0.00387053\n",
      " 0.00362636]\n",
      "0.9007263\n"
     ]
    }
   ],
   "source": [
    "print(len(pca_fit.explained_variance_ratio_))\n",
    "print(pca_fit.explained_variance_ratio_)\n",
    "print(np.sum(pca_fit.explained_variance_ratio_))"
   ]
  },
  {
   "cell_type": "code",
   "execution_count": 37,
   "metadata": {},
   "outputs": [],
   "source": [
    "E_pca = pca_fit.transform(E)"
   ]
  },
  {
   "cell_type": "code",
   "execution_count": 38,
   "metadata": {},
   "outputs": [
    {
     "data": {
      "image/png": "[encoded data removed]",
      "text/plain": [
       "<Figure size 432x288 with 1 Axes>"
      ]
     },
     "metadata": {
      "needs_background": "light"
     },
     "output_type": "display_data"
    }
   ],
   "source": [
    "plt.scatter(E_pca[:, 0], E_pca[:, 1], s=1);"
   ]
  },
  {
   "cell_type": "code",
   "execution_count": 248,
   "metadata": {},
   "outputs": [
    {
     "name": "stdout",
     "output_type": "stream",
     "text": [
      "For n_clusters = 5 The average silhouette_score is : 0.21691686\n",
      "For n_clusters = 10 The average silhouette_score is : 0.09390487\n",
      "For n_clusters = 15 The average silhouette_score is : 0.09522184\n",
      "For n_clusters = 20 The average silhouette_score is : 0.08357129\n",
      "For n_clusters = 25 The average silhouette_score is : 0.08020253\n",
      "For n_clusters = 30 The average silhouette_score is : 0.08010868\n",
      "For n_clusters = 35 The average silhouette_score is : 0.07142135\n",
      "For n_clusters = 40 The average silhouette_score is : 0.075626224\n",
      "For n_clusters = 45 The average silhouette_score is : 0.065899484\n",
      "For n_clusters = 50 The average silhouette_score is : 0.062159568\n",
      "For n_clusters = 55 The average silhouette_score is : 0.06529049\n",
      "For n_clusters = 60 The average silhouette_score is : 0.06851182\n",
      "For n_clusters = 65 The average silhouette_score is : 0.06369653\n",
      "For n_clusters = 70 The average silhouette_score is : 0.048694625\n",
      "For n_clusters = 75 The average silhouette_score is : 0.060717437\n",
      "For n_clusters = 80 The average silhouette_score is : 0.06114559\n",
      "For n_clusters = 85 The average silhouette_score is : 0.055653434\n",
      "For n_clusters = 90 The average silhouette_score is : 0.05872721\n",
      "For n_clusters = 95 The average silhouette_score is : 0.05116777\n",
      "For n_clusters = 100 The average silhouette_score is : 0.05112853\n"
     ]
    }
   ],
   "source": [
    "%%time\n",
    "\n",
    "pca_ssd, pca_silhouette = kmeans_search(E_pca, K)"
   ]
  },
  {
   "cell_type": "code",
   "execution_count": 249,
   "metadata": {},
   "outputs": [
    {
     "data": {
      "image/png": "[encoded data removed]",
      "text/plain": [
       "<Figure size 432x288 with 1 Axes>"
      ]
     },
     "metadata": {
      "needs_background": "light"
     },
     "output_type": "display_data"
    }
   ],
   "source": [
    "plot_kmeans(K,pca_ssd,\"elbow\")"
   ]
  },
  {
   "cell_type": "code",
   "execution_count": 250,
   "metadata": {},
   "outputs": [
    {
     "data": {
      "image/png": "[encoded data removed]",
      "text/plain": [
       "<Figure size 432x288 with 1 Axes>"
      ]
     },
     "metadata": {
      "needs_background": "light"
     },
     "output_type": "display_data"
    }
   ],
   "source": [
    "plot_kmeans(K,pca_silhouette,\"silhouette\")"
   ]
  },
  {
   "cell_type": "markdown",
   "metadata": {},
   "source": [
    "#### 2.5.4 UMAP + Kmeans"
   ]
  },
  {
   "cell_type": "code",
   "execution_count": 39,
   "metadata": {},
   "outputs": [
    {
     "name": "stdout",
     "output_type": "stream",
     "text": [
      "CPU times: user 2min 13s, sys: 1.95 s, total: 2min 14s\n",
      "Wall time: 2min 15s\n"
     ]
    }
   ],
   "source": [
    "%%time\n",
    "\n",
    "metric = 'cosine'\n",
    "dm = cdist(E, E, metric)\n",
    "np.fill_diagonal(dm, 0)"
   ]
  },
  {
   "cell_type": "code",
   "execution_count": 40,
   "metadata": {},
   "outputs": [
    {
     "data": {
      "text/plain": [
       "True"
      ]
     },
     "execution_count": 40,
     "metadata": {},
     "output_type": "execute_result"
    }
   ],
   "source": [
    "is_valid_dm(dm)"
   ]
  },
  {
   "cell_type": "code",
   "execution_count": 41,
   "metadata": {},
   "outputs": [
    {
     "name": "stdout",
     "output_type": "stream",
     "text": [
      "0.21609533609980103 0.12643356971363268\n"
     ]
    }
   ],
   "source": [
    "mean, std = np.mean(dm), np.std(dm)\n",
    "print(mean, std)"
   ]
  },
  {
   "cell_type": "code",
   "execution_count": 42,
   "metadata": {},
   "outputs": [
    {
     "name": "stdout",
     "output_type": "stream",
     "text": [
      "Min distance: 0.08966176638616835\n",
      "N. neighbors: 19\n",
      "N. compontents: 2\n"
     ]
    }
   ],
   "source": [
    "min_dist=mean - 1*std\n",
    "n_neighbors = int(0.001*len(E))\n",
    "n_components=2\n",
    "print(f\"Min distance: {min_dist}\")\n",
    "print(f\"N. neighbors: {n_neighbors}\")\n",
    "print(f\"N. compontents: {n_components}\")"
   ]
  },
  {
   "cell_type": "code",
   "execution_count": 43,
   "metadata": {},
   "outputs": [
    {
     "name": "stdout",
     "output_type": "stream",
     "text": [
      "UMAP(dens_frac=0.0, dens_lambda=0.0, min_dist=0.08966176638616835,\n",
      "     n_neighbors=19, random_state=42, verbose=1)\n",
      "Construct fuzzy simplicial set\n",
      "Thu Sep 16 17:22:55 2021 Finding Nearest Neighbors\n",
      "Thu Sep 16 17:22:55 2021 Building RP forest with 12 trees\n",
      "Thu Sep 16 17:22:55 2021 NN descent for 14 iterations\n",
      "\t 1  /  14\n",
      "\t 2  /  14\n",
      "\t 3  /  14\n",
      "\t 4  /  14\n",
      "\tStopping threshold met -- exiting after 4 iterations\n",
      "Thu Sep 16 17:23:04 2021 Finished Nearest Neighbor Search\n",
      "Thu Sep 16 17:23:07 2021 Construct embedding\n",
      "\tcompleted  0  /  200 epochs\n",
      "\tcompleted  20  /  200 epochs\n",
      "\tcompleted  40  /  200 epochs\n",
      "\tcompleted  60  /  200 epochs\n",
      "\tcompleted  80  /  200 epochs\n",
      "\tcompleted  100  /  200 epochs\n",
      "\tcompleted  120  /  200 epochs\n",
      "\tcompleted  140  /  200 epochs\n",
      "\tcompleted  160  /  200 epochs\n",
      "\tcompleted  180  /  200 epochs\n",
      "Thu Sep 16 17:23:22 2021 Finished embedding\n",
      "CPU times: user 29.7 s, sys: 1.59 s, total: 31.2 s\n",
      "Wall time: 27.1 s\n"
     ]
    }
   ],
   "source": [
    "%%time\n",
    "\n",
    "E_umap = umap.UMAP(\n",
    "    n_neighbors=n_neighbors,\n",
    "    min_dist=min_dist,\n",
    "    n_components=n_components,\n",
    "    random_state=42,\n",
    "    verbose=verbose\n",
    ").fit_transform(E)"
   ]
  },
  {
   "cell_type": "code",
   "execution_count": 44,
   "metadata": {},
   "outputs": [
    {
     "data": {
      "image/png": "[encoded data removed]",
      "text/plain": [
       "<Figure size 432x288 with 1 Axes>"
      ]
     },
     "metadata": {
      "needs_background": "light"
     },
     "output_type": "display_data"
    }
   ],
   "source": [
    "plt.scatter(E_umap[:, 0], E_umap[:, 1], s=1);"
   ]
  },
  {
   "cell_type": "code",
   "execution_count": 62,
   "metadata": {},
   "outputs": [
    {
     "name": "stdout",
     "output_type": "stream",
     "text": [
      "For n_clusters = 5 The average silhouette_score is : 0.4446632\n",
      "For n_clusters = 10 The average silhouette_score is : 0.4173587\n",
      "For n_clusters = 15 The average silhouette_score is : 0.39963198\n",
      "For n_clusters = 20 The average silhouette_score is : 0.39286843\n",
      "For n_clusters = 25 The average silhouette_score is : 0.38249004\n",
      "For n_clusters = 30 The average silhouette_score is : 0.3841333\n",
      "For n_clusters = 35 The average silhouette_score is : 0.3800874\n",
      "For n_clusters = 40 The average silhouette_score is : 0.38275945\n",
      "For n_clusters = 45 The average silhouette_score is : 0.37970075\n",
      "For n_clusters = 50 The average silhouette_score is : 0.37809145\n",
      "For n_clusters = 55 The average silhouette_score is : 0.378091\n",
      "For n_clusters = 60 The average silhouette_score is : 0.3772782\n",
      "For n_clusters = 65 The average silhouette_score is : 0.37710878\n",
      "For n_clusters = 70 The average silhouette_score is : 0.36051974\n",
      "For n_clusters = 75 The average silhouette_score is : 0.37386245\n",
      "For n_clusters = 80 The average silhouette_score is : 0.35216624\n",
      "For n_clusters = 85 The average silhouette_score is : 0.3539509\n",
      "For n_clusters = 90 The average silhouette_score is : 0.35092294\n",
      "For n_clusters = 95 The average silhouette_score is : 0.3469593\n",
      "For n_clusters = 100 The average silhouette_score is : 0.348998\n",
      "CPU times: user 9min 13s, sys: 1min 14s, total: 10min 28s\n",
      "Wall time: 2min 24s\n"
     ]
    }
   ],
   "source": [
    "%%time\n",
    "\n",
    "umap_ssd, umap_silhouette = kmeans_search(E_umap, K)"
   ]
  },
  {
   "cell_type": "code",
   "execution_count": 63,
   "metadata": {},
   "outputs": [
    {
     "data": {
      "image/png": "[encoded data removed]",
      "text/plain": [
       "<Figure size 432x288 with 1 Axes>"
      ]
     },
     "metadata": {
      "needs_background": "light"
     },
     "output_type": "display_data"
    }
   ],
   "source": [
    "plot_kmeans(K,umap_ssd,\"elbow\")"
   ]
  },
  {
   "cell_type": "code",
   "execution_count": 64,
   "metadata": {},
   "outputs": [
    {
     "data": {
      "image/png": "[encoded data removed]",
      "text/plain": [
       "<Figure size 432x288 with 1 Axes>"
      ]
     },
     "metadata": {
      "needs_background": "light"
     },
     "output_type": "display_data"
    }
   ],
   "source": [
    "plot_kmeans(K,umap_silhouette,\"silhouette\")"
   ]
  },
  {
   "cell_type": "markdown",
   "metadata": {},
   "source": [
    "#### 2.5.5 Choose clustering model"
   ]
  },
  {
   "cell_type": "code",
   "execution_count": 45,
   "metadata": {},
   "outputs": [],
   "source": [
    "k = 100"
   ]
  },
  {
   "cell_type": "code",
   "execution_count": 46,
   "metadata": {},
   "outputs": [
    {
     "name": "stdout",
     "output_type": "stream",
     "text": [
      "CPU times: user 2min 33s, sys: 16.7 s, total: 2min 50s\n",
      "Wall time: 38.5 s\n"
     ]
    }
   ],
   "source": [
    "%%time\n",
    "\n",
    "km_base = cluster.KMeans(n_clusters=k,max_iter=300).fit(E)\n",
    "labels = km_base.labels_\n",
    "centroids = km_base.cluster_centers_\n",
    "\n",
    "km_pca = cluster.KMeans(n_clusters=k,max_iter=300).fit(E_pca)\n",
    "labels_pca = km_pca.labels_\n",
    "\n",
    "km_umap = cluster.KMeans(n_clusters=k,max_iter=300).fit(E_umap)\n",
    "labels_umap=km_umap.labels_\n",
    "\n",
    "km_tsne = cluster.KMeans(n_clusters=k,max_iter=300).fit(E_tsne)\n",
    "labels_tsne = km_tsne.labels_"
   ]
  },
  {
   "cell_type": "markdown",
   "metadata": {},
   "source": [
    "Create an index that maps each word to a cluster."
   ]
  },
  {
   "cell_type": "code",
   "execution_count": 47,
   "metadata": {},
   "outputs": [],
   "source": [
    "word2cluster = {features[idx]: cl for idx, cl in enumerate(labels)}"
   ]
  },
  {
   "cell_type": "code",
   "execution_count": 48,
   "metadata": {},
   "outputs": [
    {
     "name": "stdout",
     "output_type": "stream",
     "text": [
      "[(']', 26), ('^_', 0), ('`', 5), ('aaargh', 23), ('aaliyah', 3), ('aamir_khan', 25), ('aaron', 75), ('aaron_eckhart', 4), ('ab_tak', 23), ('abandon', 12)]\n"
     ]
    }
   ],
   "source": [
    "print(take(10, word2cluster.items()))"
   ]
  },
  {
   "cell_type": "markdown",
   "metadata": {},
   "source": [
    "Now, conversely, create an index that maps each cluster to a word."
   ]
  },
  {
   "cell_type": "code",
   "execution_count": 49,
   "metadata": {},
   "outputs": [],
   "source": [
    "cluster2words = defaultdict(list)\n",
    "for key, value in word2cluster.items():\n",
    "    cluster2words[value].append(key)"
   ]
  },
  {
   "cell_type": "code",
   "execution_count": 50,
   "metadata": {},
   "outputs": [
    {
     "name": "stdout",
     "output_type": "stream",
     "text": [
      "884\n",
      "['^_', 'abductee', 'abortionist', 'absconding', 'abuzz', 'adnausem', 'adoor', 'aggh', 'aguayostewart', 'ahalf', 'ahehehe', 'algonquin', 'allboys', 'alvarado', 'amass', 'amatuerish', 'amidala', 'amithab', 'amplifier', 'aneurism', 'anglais', 'antal', 'antartica', 'antiaircraft', 'antihuman', 'antti', 'apanowicz', 'aperture', 'architected', 'arff', 'arie', 'arik', 'arirang', 'armani', 'arnott', 'arrehman', 'artilleryman', 'asis', 'asyet', 'atrociousness', 'attwood', 'auburn', 'automation', 'azn', 'babytalk', 'backbeat', 'backwood', 'badel', 'badminton', 'badventure', 'baller', 'bandied', 'banknote', 'barbet', 'bareknuckle', 'bartel', 'bating', 'bauman', 'beachhead', 'bebble', 'beens', 'befittingly', 'behindthe', 'belitski', 'beltway', 'benita', 'bensonhurst', 'berkshire', 'bestowing', 'beswicke', 'bhatts', 'bigamy', 'bigardo', 'bilateral', 'blaire', 'blandick', 'blat', 'bobba', 'bodybag', 'bogan', 'boohiss', 'booki', 'boudoir', 'boyman', 'boysgirls', 'branching', 'brasilian', 'bratwurst', 'brawny', 'brillian', 'brilliantine', 'brioche', 'bub', 'buchholz', 'bujold', 'bulletpellet', 'burrowing', 'busch', 'busily', 'businessasusual']\n"
     ]
    }
   ],
   "source": [
    "print(len(cluster2words[0]))\n",
    "print(cluster2words[0][:100])"
   ]
  },
  {
   "cell_type": "code",
   "execution_count": 51,
   "metadata": {},
   "outputs": [
    {
     "name": "stdout",
     "output_type": "stream",
     "text": [
      "285\n",
      "['absolute', 'absorb', 'acceptable', 'actual', 'advancement', 'aimed', 'aiming', 'almost_impossible', 'amount', 'amusement', 'analyze', 'andor', 'another_example', 'anything_remotely', 'applaud', 'artsy', 'attempted', 'attention_span', 'attract', 'audience_member', 'average_person', 'avoiding', 'baffling', 'bashing', 'basic_plot', 'basic_premise', 'beyond', 'blatant', 'blatantly', 'bloodshed', 'blunt', 'boil', 'bullshit', 'care_happens', 'careful', 'case', 'censor', 'cheap_thrill', 'classified', 'come_mind', 'common_sense', 'complete', 'completely_different', 'completely_lost', 'concentrated', 'confuse', 'contain', 'could_easily', 'cram', 'cronenberg', 'debatable', 'decide_whether', 'deeper_meaning', 'defies', 'definition', 'defy', 'degrading', 'deny', 'descent', 'described', 'describing', 'designed', 'desired', 'despise', 'dictate', 'dimensional', 'directorwriter', 'disclaimer', 'disrespect', 'distinguish', 'dose', 'drastically', 'due_fact', 'dumbed', 'dwell', 'easy', 'easy_understand', 'elicit', 'elsewhere', 'emphasize', 'enjoyment', 'entertain', 'error', 'especially_since', 'every', 'every_aspect', 'everything_happens', 'exaggeration', 'example', 'exercise', 'exhausting', 'expand', 'factor', 'fail', 'far_beyond', 'fathom', 'favour', 'first_foremost', 'fit', 'foolish']\n"
     ]
    }
   ],
   "source": [
    "print(len(cluster2words[1]))\n",
    "print(cluster2words[1][:100])"
   ]
  },
  {
   "cell_type": "markdown",
   "metadata": {},
   "source": [
    "### 2.6 Initialize documents"
   ]
  },
  {
   "cell_type": "markdown",
   "metadata": {},
   "source": [
    "Transform all reviews into \"documents\", each with a set of weights per word in the corpus (\"nbow\"), the sum of these weights (\"weights_sum\"), the indeces of the words in the documents (\"idxs\") and the word vectors corresponding to each word (\"vecs\")."
   ]
  },
  {
   "cell_type": "code",
   "execution_count": 52,
   "metadata": {},
   "outputs": [
    {
     "data": {
      "text/plain": [
       "numpy.ndarray"
      ]
     },
     "execution_count": 52,
     "metadata": {},
     "output_type": "execute_result"
    }
   ],
   "source": [
    "type(E)"
   ]
  },
  {
   "cell_type": "code",
   "execution_count": 53,
   "metadata": {},
   "outputs": [
    {
     "data": {
      "text/plain": [
       "<1x19970 sparse matrix of type '<class 'numpy.float64'>'\n",
       "\twith 124 stored elements in Compressed Sparse Row format>"
      ]
     },
     "execution_count": 53,
     "metadata": {},
     "output_type": "execute_result"
    }
   ],
   "source": [
    "pos_nbow[0]"
   ]
  },
  {
   "cell_type": "code",
   "execution_count": 56,
   "metadata": {},
   "outputs": [
    {
     "name": "stdout",
     "output_type": "stream",
     "text": [
      "CPU times: user 269 ms, sys: 94 ms, total: 363 ms\n",
      "Wall time: 366 ms\n"
     ]
    }
   ],
   "source": [
    "%%time \n",
    "\n",
    "pos_docs, neg_docs = [], []\n",
    "\n",
    "for idx, doc in enumerate(pos_tok):\n",
    "    pos_docs.append(Document(doc, pos_nbow[idx], word2idx, E))\n",
    "    \n",
    "for idx, doc in enumerate(neg_tok):\n",
    "    neg_docs.append(Document(doc, neg_nbow[idx], word2idx, E))"
   ]
  },
  {
   "cell_type": "code",
   "execution_count": 57,
   "metadata": {},
   "outputs": [
    {
     "data": {
      "text/plain": [
       "array([[0.00134629, 0.        , 0.        , ..., 0.        , 0.        ,\n",
       "        0.        ]])"
      ]
     },
     "execution_count": 57,
     "metadata": {},
     "output_type": "execute_result"
    }
   ],
   "source": [
    "pos_docs[0].nbow"
   ]
  },
  {
   "cell_type": "code",
   "execution_count": 58,
   "metadata": {},
   "outputs": [
    {
     "data": {
      "text/plain": [
       "0.9999999999999996"
      ]
     },
     "execution_count": 58,
     "metadata": {},
     "output_type": "execute_result"
    }
   ],
   "source": [
    "pos_docs[0].weights_sum"
   ]
  },
  {
   "cell_type": "code",
   "execution_count": 59,
   "metadata": {},
   "outputs": [
    {
     "data": {
      "text/plain": [
       "[0, 15363, 4612, 7177, 6154, 13837, 3091, 10771, 16414, 10784]"
      ]
     },
     "execution_count": 59,
     "metadata": {},
     "output_type": "execute_result"
    }
   ],
   "source": [
    "pos_docs[0].idxs[:10]"
   ]
  },
  {
   "cell_type": "code",
   "execution_count": 60,
   "metadata": {},
   "outputs": [
    {
     "data": {
      "text/plain": [
       "array([ 0.06953344, -0.05923931, -0.0135353 , -0.04655155, -0.05509005,\n",
       "       -0.0320261 ,  0.16074686,  0.02574036,  0.01131788,  0.08215761],\n",
       "      dtype=float32)"
      ]
     },
     "execution_count": 60,
     "metadata": {},
     "output_type": "execute_result"
    }
   ],
   "source": [
    "pos_docs[0].vecs[:1][0][:10]"
   ]
  },
  {
   "cell_type": "markdown",
   "metadata": {},
   "source": [
    "### 2.7 Linear-Complexity Relaxed WMD (LC-RWMD)"
   ]
  },
  {
   "cell_type": "markdown",
   "metadata": {},
   "source": [
    "Run the [Linear-Complexity Relaxed WMD](https://arxiv.org/abs/1711.07227) to get the distances between all positive and all negative reviews."
   ]
  },
  {
   "cell_type": "code",
   "execution_count": 61,
   "metadata": {},
   "outputs": [],
   "source": [
    "lc_rwmd = LC_RWMD(pos_docs, neg_docs,pos_nbow,neg_nbow,E)"
   ]
  },
  {
   "cell_type": "code",
   "execution_count": 62,
   "metadata": {},
   "outputs": [
    {
     "name": "stdout",
     "output_type": "stream",
     "text": [
      "CPU times: user 2min 44s, sys: 28.2 s, total: 3min 12s\n",
      "Wall time: 50 s\n"
     ]
    }
   ],
   "source": [
    "%time lc_rwmd.get_D('cosine')"
   ]
  },
  {
   "cell_type": "markdown",
   "metadata": {},
   "source": [
    "### 2.8 Gale-Shapeley Pairing"
   ]
  },
  {
   "cell_type": "markdown",
   "metadata": {},
   "source": [
    "Use the [Gale-Shapeley matching algorithm](https://en.wikipedia.org/wiki/Gale%E2%80%93Shapley_algorithm) to find the optimal pairs between positive and negative reviews. This iterates over all the reviews and finds the set of matches that pairs each review with its optimal match given that all positive reviews have to be matched with a negative review and vice versa. The output is a dictionary of key-value pairs, where each pair represents an optimal match."
   ]
  },
  {
   "cell_type": "code",
   "execution_count": 63,
   "metadata": {},
   "outputs": [],
   "source": [
    "# Options: 'gale_shapeley','random','full'\n",
    "\n",
    "pairing = 'gale_shapeley'"
   ]
  },
  {
   "cell_type": "code",
   "execution_count": 64,
   "metadata": {},
   "outputs": [
    {
     "name": "stdout",
     "output_type": "stream",
     "text": [
      "Running Gale-Shapeley pairing.\n",
      "Pairing is stable: True\n",
      "CPU times: user 1.83 s, sys: 63.2 ms, total: 1.89 s\n",
      "Wall time: 1.75 s\n"
     ]
    }
   ],
   "source": [
    "%%time\n",
    "\n",
    "if pairing == 'gale_shapeley':\n",
    "    print(\"Running Gale-Shapeley pairing.\")\n",
    "    matcher = Matcher(lc_rwmd.D)\n",
    "    engaged = matcher.matchmaker()\n",
    "    print(f\"Pairing is stable: {matcher.check()}\")\n",
    "    pairs = [(k, v) for k, v in engaged.items()]\n",
    "    #pairs = engaged\n",
    "if pairing == 'random':\n",
    "    print(\"Running random pairing.\")\n",
    "    pos_idx = list(range(0,len(pos_docs)))\n",
    "    neg_idx = list(range(0,len(neg_docs)))\n",
    "    shuffle(pos_idx)\n",
    "    shuffle(neg_idx)\n",
    "    pairs = zip(pos_idx, neg_idx)\n",
    "if pairing == 'full':\n",
    "    print(\"Running full pairing.\")\n",
    "    pos_idx = list(range(0,len(pos_docs)))\n",
    "    neg_idx = list(range(0,len(neg_docs)))\n",
    "    pairs = [(i,j) for i in pos_idx for j in neg_idx]\n",
    "    #pos_docs = [d for d in pos_docs for _ in list(range(0,len(neg_docs)))]\n",
    "    #neg_docs = [d for d in neg_docs for _ in list(range(0,len(pos_docs)))]"
   ]
  },
  {
   "cell_type": "markdown",
   "metadata": {},
   "source": [
    "Let's look at the output of Gale-Shapeley:"
   ]
  },
  {
   "cell_type": "code",
   "execution_count": 65,
   "metadata": {},
   "outputs": [
    {
     "name": "stdout",
     "output_type": "stream",
     "text": [
      "[(407, 469), (185, 471), (320, 44), (292, 127), (101, 148), (41, 15), (78, 123), (104, 236), (153, 100), (43, 52), (406, 10), (249, 74), (177, 460), (351, 214), (372, 136), (337, 275), (479, 28), (122, 344), (181, 93), (88, 17)]\n"
     ]
    }
   ],
   "source": [
    "print(pairs[:20])"
   ]
  },
  {
   "cell_type": "markdown",
   "metadata": {},
   "source": [
    "Let's look at the output of Gale-Shapeley:"
   ]
  },
  {
   "cell_type": "code",
   "execution_count": 66,
   "metadata": {},
   "outputs": [],
   "source": [
    "example_pairs = [(' '.join(word for word in pos_docs[p[0]].words), \n",
    "                  ' '.join(word for word in neg_docs[p[1]].words))\n",
    "                 for p in pairs]"
   ]
  },
  {
   "cell_type": "code",
   "execution_count": 67,
   "metadata": {},
   "outputs": [
    {
     "data": {
      "text/plain": [
       "'bought game impulse buy walmart glad entertaining listening sean_connery playing_game thought graphic best ever_seen remake bonus level hard sniper one think hard made frustrated play game week half many_people shooting nothing hide_behind life handle thing might change upgrade system notice_difference equipment upgraded buying armor upgrade seem make armor stronger filling life meter really_liked q copter think developer good_job ]'"
      ]
     },
     "execution_count": 67,
     "metadata": {},
     "output_type": "execute_result"
    }
   ],
   "source": [
    "example_pairs[9][0]"
   ]
  },
  {
   "cell_type": "code",
   "execution_count": 68,
   "metadata": {},
   "outputs": [
    {
     "data": {
      "text/plain": [
       "'hollywood movie industry laziest one entire world need single hit flood theater old crap reinvented take superheroes example xman spiderman daredevil elektra ghost rider hulk remake even worst took ring pitchperfect mostly mr gore bring ton lookalike based horror eg ring eye dark_water fine pointless grudge first grudge entirely bad scary way one could expect plus plot brain mixing narrative grudge exactly like previous could good thing hey boy men black ii nice thing xerox entire screenplay change villain grudge critic go way tired scare bad acting except amber_tamblyn clichs place three story take_place different place time aubrey tamblyn investigating drove sister karen sarah_michelle_gellar death allison arielle kebbel taken colleague visit house incident depicted first movie took_place finally american family witness strange stuff happening apartment next_door glad say mean everything tied end one must rely end make good picture everything_else simply tiresome dull chill girl alone locker someone enter house others dig_deep meanwhile ghost keep killing killing killing seems even deadlier ten world_war ebola epidemic hey seem like another bad japanese remake something called pulse yeah day day getting easier hold_grudge hollywood bullshit ]'"
      ]
     },
     "execution_count": 68,
     "metadata": {},
     "output_type": "execute_result"
    }
   ],
   "source": [
    "example_pairs[9][1]"
   ]
  },
  {
   "cell_type": "markdown",
   "metadata": {},
   "source": [
    "### 2.9 Pairwise WMD with Baseline Kmeans"
   ]
  },
  {
   "cell_type": "markdown",
   "metadata": {},
   "source": [
    "Calculate the pairwise distances between the documents selected by the Galey-Shapeley algorithm _without_ returning the flow between individual words."
   ]
  },
  {
   "cell_type": "code",
   "execution_count": 69,
   "metadata": {},
   "outputs": [
    {
     "name": "stdout",
     "output_type": "stream",
     "text": [
      "Calculated distances between approximately 0 documents.00h00m00s elapsed.\n",
      "CPU times: user 10.4 s, sys: 1.2 s, total: 11.6 s\n",
      "Wall time: 2.93 s\n"
     ]
    }
   ],
   "source": [
    "%%time \n",
    "\n",
    "wmd_pairs = WMDPairs(pos_docs,neg_docs,pairs,E,idx2word)\n",
    "wmd_pairs.get_distances(thread=False,relax=True)"
   ]
  },
  {
   "cell_type": "markdown",
   "metadata": {},
   "source": [
    "The return value is a matrix of distances between the document pairs."
   ]
  },
  {
   "cell_type": "code",
   "execution_count": 70,
   "metadata": {},
   "outputs": [
    {
     "data": {
      "text/plain": [
       "92.55042664278476"
      ]
     },
     "execution_count": 70,
     "metadata": {},
     "output_type": "execute_result"
    }
   ],
   "source": [
    "np.sum(wmd_pairs.distances)"
   ]
  },
  {
   "cell_type": "markdown",
   "metadata": {},
   "source": [
    "Calculate the pairwise distances between the documents selected by the Galey-Shapeley algorithm, this time also returning the flow between individual words."
   ]
  },
  {
   "cell_type": "code",
   "execution_count": 72,
   "metadata": {},
   "outputs": [
    {
     "name": "stdout",
     "output_type": "stream",
     "text": [
      "Calculated distances between approximately 0 documents.00h00m00s elapsed.\n",
      "CPU times: user 14.1 s, sys: 1.64 s, total: 15.7 s\n",
      "Wall time: 3.98 s\n"
     ]
    }
   ],
   "source": [
    "%%time \n",
    "\n",
    "wmd_pairs_flow = WMDPairs(pos_docs,neg_docs,pairs,E,idx2word,metric='euclidean')\n",
    "wmd_pairs_flow.get_distances(decompose = True, \n",
    "                             sum_clusters = True, \n",
    "                             w2c = word2cluster, \n",
    "                             c2w = cluster2words,\n",
    "                             thread = False,\n",
    "                             relax = True)"
   ]
  },
  {
   "cell_type": "markdown",
   "metadata": {},
   "source": [
    "Now we have three return values.\n",
    "\n",
    "The first one is again a matrix of distances between the document pairs."
   ]
  },
  {
   "cell_type": "code",
   "execution_count": 73,
   "metadata": {},
   "outputs": [
    {
     "data": {
      "text/plain": [
       "1.964728913572627"
      ]
     },
     "execution_count": 73,
     "metadata": {},
     "output_type": "execute_result"
    }
   ],
   "source": [
    "np.max(wmd_pairs_flow.distances)"
   ]
  },
  {
   "cell_type": "markdown",
   "metadata": {},
   "source": [
    "The second return value is a list of tuples with all the words that contributed the most to the distance from the positive documents to the negative ones. These are _not_ sorted from high to low or vice versa."
   ]
  },
  {
   "cell_type": "code",
   "execution_count": 75,
   "metadata": {},
   "outputs": [
    {
     "data": {
      "text/plain": [
       "[('scifi_fan', 0.021993025344612532),\n",
       " ('europe', 0.07722072404926827),\n",
       " ('observation', 0.03968856477792306),\n",
       " ('credible', 0.01635688003733313),\n",
       " ('simply', 0.27059923301501),\n",
       " ('leopold', 0.028884076244427546),\n",
       " ('living_daylight', 0.004017135378438267),\n",
       " ('sent', 0.13180714080010472),\n",
       " ('remains_mystery', 0.001333477783908423),\n",
       " ('gina', 0.012457819654678539)]"
      ]
     },
     "execution_count": 75,
     "metadata": {},
     "output_type": "execute_result"
    }
   ],
   "source": [
    "take(10, wmd_pairs_flow.wd_source.items())"
   ]
  },
  {
   "cell_type": "markdown",
   "metadata": {},
   "source": [
    "The third return value is a list of tuples with all the words that contributed the most to the distance from the negative documents to the positive ones. Again, these are _not_ sorted from high to low or vice versa."
   ]
  },
  {
   "cell_type": "code",
   "execution_count": 76,
   "metadata": {},
   "outputs": [
    {
     "data": {
      "text/plain": [
       "[('seriesthe', 0.005461441660771563),\n",
       " ('scifi_fan', 0.00659159639850567),\n",
       " ('europe', 0.02288975880123343),\n",
       " ('observation', 0.009113579098495757),\n",
       " ('mikey', 0.0056239573729153286),\n",
       " ('simply', 0.46991959156475327),\n",
       " ('sent', 0.09845970192853612),\n",
       " ('mmm', 0.00714380752144032),\n",
       " ('restraint', 0.0028009431658162025),\n",
       " ('sabotaged', 0.006600695289545455)]"
      ]
     },
     "execution_count": 76,
     "metadata": {},
     "output_type": "execute_result"
    }
   ],
   "source": [
    "take(10, wmd_pairs_flow.wd_sink.items())"
   ]
  },
  {
   "cell_type": "code",
   "execution_count": 77,
   "metadata": {},
   "outputs": [
    {
     "data": {
      "text/plain": [
       "[(26, 2.967000171865266),\n",
       " (0, 2.4021087487263095),\n",
       " (5, 3.821744319552672),\n",
       " (23, 2.6908118275551685),\n",
       " (3, 2.1580833857215866),\n",
       " (25, 3.646920565240251),\n",
       " (75, 4.231541429062543),\n",
       " (4, 2.98725365578802),\n",
       " (12, 5.104519958099048),\n",
       " (48, 8.402327620441824)]"
      ]
     },
     "execution_count": 77,
     "metadata": {},
     "output_type": "execute_result"
    }
   ],
   "source": [
    "take(10, wmd_pairs_flow.cd_source.items())"
   ]
  },
  {
   "cell_type": "code",
   "execution_count": 78,
   "metadata": {},
   "outputs": [
    {
     "data": {
      "text/plain": [
       "[(26, 3.568275842075329),\n",
       " (0, 2.7738238672687014),\n",
       " (5, 4.389265909944497),\n",
       " (23, 2.4394192151668705),\n",
       " (3, 1.8683477226035448),\n",
       " (25, 3.1220575214640727),\n",
       " (75, 2.4701950146544127),\n",
       " (4, 1.3605242977884677),\n",
       " (12, 4.478122687372738),\n",
       " (48, 5.509517506679429)]"
      ]
     },
     "execution_count": 78,
     "metadata": {},
     "output_type": "execute_result"
    }
   ],
   "source": [
    "take(10, wmd_pairs_flow.cd_sink.items())"
   ]
  },
  {
   "cell_type": "code",
   "execution_count": 79,
   "metadata": {},
   "outputs": [
    {
     "data": {
      "text/plain": [
       "{9: 30.706466811686784,\n",
       " 97: 26.540986624617446,\n",
       " 60: 21.21996495012203,\n",
       " 93: 19.023178956249303,\n",
       " 1: 14.546192974268449,\n",
       " 31: 14.181203821404353,\n",
       " 20: 13.94899573917208,\n",
       " 68: 13.854915204108432,\n",
       " 50: 13.393052913354138,\n",
       " 22: 13.303892247142148}"
      ]
     },
     "execution_count": 79,
     "metadata": {},
     "output_type": "execute_result"
    }
   ],
   "source": [
    "{k: v for k, v in sorted(wmd_pairs_flow.cd_source.items(), key=lambda item: item[1], reverse=True)[:10]}"
   ]
  },
  {
   "cell_type": "code",
   "execution_count": 80,
   "metadata": {},
   "outputs": [],
   "source": [
    "wmd_pairs_flow.get_differences()"
   ]
  },
  {
   "cell_type": "markdown",
   "metadata": {},
   "source": [
    "### 3.1 Intepreting pairwise WMD flows"
   ]
  },
  {
   "cell_type": "markdown",
   "metadata": {},
   "source": [
    "Now, let's sort the distances of the words that created the most distance from the positive to the negative reviews."
   ]
  },
  {
   "cell_type": "code",
   "execution_count": 82,
   "metadata": {},
   "outputs": [
    {
     "data": {
      "text/plain": [
       "{'great': 2.0018896061340943,\n",
       " 'best': 1.6986584838471963,\n",
       " 'love': 1.658565591486735,\n",
       " 'game': 1.4755857987723147,\n",
       " 'still': 1.3569808366515326,\n",
       " 'excellent': 1.233362119489527,\n",
       " 'performance': 1.0285358977332313,\n",
       " 'little': 1.0222233699826384,\n",
       " 'wonderful': 1.0206006462349173,\n",
       " 'life': 0.9877337640936741,\n",
       " 'loved': 0.9523364629227944,\n",
       " 'young': 0.9149924629968759,\n",
       " 'role': 0.8690377801009015,\n",
       " 'song': 0.8599182396994159,\n",
       " 'time': 0.8005498395570105,\n",
       " 'family': 0.7936319386006183,\n",
       " 'disney': 0.723445971061205,\n",
       " 'take': 0.7160446801590415,\n",
       " 'man': 0.7040588984010498,\n",
       " 'year': 0.6556937966520129,\n",
       " 'brilliant': 0.646280640141569,\n",
       " 'perfect': 0.6153090994097431,\n",
       " 'dvd': 0.6063406942467757,\n",
       " 'story': 0.5770821715223955,\n",
       " 'enjoy': 0.5691248410784333,\n",
       " 'well_worth': 0.5379601191867767,\n",
       " 'always': 0.5375442057972248,\n",
       " 'entertaining': 0.5284898276401574,\n",
       " 'beautiful': 0.5193213585805097,\n",
       " 'feeling': 0.5160496054773797}"
      ]
     },
     "execution_count": 82,
     "metadata": {},
     "output_type": "execute_result"
    }
   ],
   "source": [
    "{k: v for k, v in sorted(wmd_pairs_flow.wd_source_diff.items(), key=lambda item: item[1], reverse=True)[:30]}"
   ]
  },
  {
   "cell_type": "markdown",
   "metadata": {},
   "source": [
    "Next, let's see what added most distance when moving from the negative to the positive reviews."
   ]
  },
  {
   "cell_type": "code",
   "execution_count": 83,
   "metadata": {},
   "outputs": [
    {
     "data": {
      "text/plain": [
       "{'bad': 4.3800048825622415,\n",
       " 'worst': 2.124018132098645,\n",
       " 'movie': 1.465788810298013,\n",
       " 'stupid': 1.2949799711458971,\n",
       " 'even': 1.1978445693487059,\n",
       " 'plot': 1.1750784203227436,\n",
       " 'acting': 1.0831089127840583,\n",
       " 'boring': 1.0720311050296605,\n",
       " 'awful': 1.0427499101302036,\n",
       " 'terrible': 1.0279554156678254,\n",
       " 'could': 0.999710394007976,\n",
       " 'funny': 0.9930795981177765,\n",
       " 'guy': 0.9600680647162738,\n",
       " 'money': 0.9428007259980509,\n",
       " 'poor': 0.8903578982421955,\n",
       " 'ever_seen': 0.8564295464597844,\n",
       " 'instead': 0.7765382873950235,\n",
       " 'better': 0.7568821224105563,\n",
       " 'horrible': 0.7538158929575948,\n",
       " 'made': 0.706313275012185,\n",
       " 'one_worst': 0.6968135684376783,\n",
       " 'ever': 0.6688736758249112,\n",
       " 'try': 0.647092395658397,\n",
       " 'rating': 0.6404182654279549,\n",
       " 'nothing': 0.6341665502367518,\n",
       " 'hour': 0.6099651761702084,\n",
       " 'joke': 0.6025737426586264,\n",
       " 'supposed': 0.5994336067818216,\n",
       " 'kid': 0.5962541337526954,\n",
       " 'shot': 0.5943815190089121}"
      ]
     },
     "execution_count": 83,
     "metadata": {},
     "output_type": "execute_result"
    }
   ],
   "source": [
    "{k: v for k, v in sorted(wmd_pairs_flow.wd_sink_diff.items(), key=lambda item: item[1], reverse=True)[:30]}"
   ]
  },
  {
   "cell_type": "markdown",
   "metadata": {},
   "source": [
    "Finally, let's look at the distances between the two sets by clustering similar words, in order to get a better sense of what kind of \"topics\" that separate them. Each cluster has a weight that matches the sum of the words belonging to that cluster. We choose *n* top clusters to inspect. To make the clusters interpretable, we also represent each of them by *m* keywords, selected based on the cost they individually add between the two sets."
   ]
  },
  {
   "cell_type": "code",
   "execution_count": 84,
   "metadata": {},
   "outputs": [],
   "source": [
    "n_clusters = 10\n",
    "n_words = 10"
   ]
  },
  {
   "cell_type": "code",
   "execution_count": 85,
   "metadata": {},
   "outputs": [],
   "source": [
    "c1 = output_clusters(wc=wmd_pairs_flow.wd_source_diff.items(), \n",
    "                     cc=wmd_pairs_flow.cd_source.items(), \n",
    "                     c2w=cluster2words, \n",
    "                     n_clusters=n_clusters, \n",
    "                     n_words=n_words)\n",
    "c2 = output_clusters(wc=wmd_pairs_flow.wd_sink_diff.items(), \n",
    "                     cc=wmd_pairs_flow.cd_sink.items(), \n",
    "                     c2w=cluster2words, \n",
    "                     n_clusters=n_clusters, \n",
    "                     n_words=n_words)"
   ]
  },
  {
   "cell_type": "markdown",
   "metadata": {},
   "source": [
    "Positive to negative clusters."
   ]
  },
  {
   "cell_type": "code",
   "execution_count": 86,
   "metadata": {},
   "outputs": [
    {
     "data": {
      "text/html": [
       "<div>\n",
       "<style scoped>\n",
       "    .dataframe tbody tr th:only-of-type {\n",
       "        vertical-align: middle;\n",
       "    }\n",
       "\n",
       "    .dataframe tbody tr th {\n",
       "        vertical-align: top;\n",
       "    }\n",
       "\n",
       "    .dataframe thead th {\n",
       "        text-align: right;\n",
       "    }\n",
       "</style>\n",
       "<table border=\"1\" class=\"dataframe\">\n",
       "  <thead>\n",
       "    <tr style=\"text-align: right;\">\n",
       "      <th></th>\n",
       "      <th>9</th>\n",
       "      <th>97</th>\n",
       "      <th>60</th>\n",
       "      <th>93</th>\n",
       "      <th>1</th>\n",
       "      <th>31</th>\n",
       "      <th>20</th>\n",
       "      <th>68</th>\n",
       "      <th>50</th>\n",
       "      <th>22</th>\n",
       "    </tr>\n",
       "  </thead>\n",
       "  <tbody>\n",
       "    <tr>\n",
       "      <th>0</th>\n",
       "      <td>matter (0.2)</td>\n",
       "      <td>great (2.0)</td>\n",
       "      <td>little (1.02)</td>\n",
       "      <td>take (0.72)</td>\n",
       "      <td>real (0.47)</td>\n",
       "      <td>best (1.7)</td>\n",
       "      <td>hard (0.37)</td>\n",
       "      <td>found (0.31)</td>\n",
       "      <td>performance (1.03)</td>\n",
       "      <td>love (1.66)</td>\n",
       "    </tr>\n",
       "    <tr>\n",
       "      <th>1</th>\n",
       "      <td>much (0.18)</td>\n",
       "      <td>still (1.36)</td>\n",
       "      <td>quite (0.36)</td>\n",
       "      <td>keep (0.3)</td>\n",
       "      <td>yet (0.3)</td>\n",
       "      <td>masterpiece (0.42)</td>\n",
       "      <td>right (0.16)</td>\n",
       "      <td>channel (0.3)</td>\n",
       "      <td>role (0.87)</td>\n",
       "      <td>beautiful (0.52)</td>\n",
       "    </tr>\n",
       "    <tr>\n",
       "      <th>2</th>\n",
       "      <td>sure (0.14)</td>\n",
       "      <td>loved (0.95)</td>\n",
       "      <td>nice (0.35)</td>\n",
       "      <td>help (0.28)</td>\n",
       "      <td>easy (0.28)</td>\n",
       "      <td>genius (0.29)</td>\n",
       "      <td>people (0.1)</td>\n",
       "      <td>film_festival (0.23)</td>\n",
       "      <td>star (0.44)</td>\n",
       "      <td>feeling (0.52)</td>\n",
       "    </tr>\n",
       "    <tr>\n",
       "      <th>3</th>\n",
       "      <td>know (0.11)</td>\n",
       "      <td>enjoy (0.57)</td>\n",
       "      <td>especially (0.32)</td>\n",
       "      <td>run (0.18)</td>\n",
       "      <td>every (0.15)</td>\n",
       "      <td>cinema (0.25)</td>\n",
       "      <td>mind (0.1)</td>\n",
       "      <td>first_saw (0.22)</td>\n",
       "      <td>play (0.36)</td>\n",
       "      <td>feel (0.43)</td>\n",
       "    </tr>\n",
       "    <tr>\n",
       "      <th>4</th>\n",
       "      <td>absolutely (0.11)</td>\n",
       "      <td>well_worth (0.54)</td>\n",
       "      <td>particularly (0.27)</td>\n",
       "      <td>return (0.15)</td>\n",
       "      <td>perhaps (0.15)</td>\n",
       "      <td>film (0.24)</td>\n",
       "      <td>folk (0.08)</td>\n",
       "      <td>glad (0.22)</td>\n",
       "      <td>playing (0.33)</td>\n",
       "      <td>romantic (0.42)</td>\n",
       "    </tr>\n",
       "    <tr>\n",
       "      <th>5</th>\n",
       "      <td>exactly (0.1)</td>\n",
       "      <td>always (0.54)</td>\n",
       "      <td>although (0.26)</td>\n",
       "      <td>move (0.11)</td>\n",
       "      <td>possibly (0.09)</td>\n",
       "      <td>today (0.21)</td>\n",
       "      <td>person (0.08)</td>\n",
       "      <td>watched (0.21)</td>\n",
       "      <td>supporting_cast (0.16)</td>\n",
       "      <td>touching (0.35)</td>\n",
       "    </tr>\n",
       "    <tr>\n",
       "      <th>6</th>\n",
       "      <td>beginning (0.09)</td>\n",
       "      <td>entertaining (0.53)</td>\n",
       "      <td>plus (0.26)</td>\n",
       "      <td>break (0.11)</td>\n",
       "      <td>andor (0.08)</td>\n",
       "      <td>one_greatest (0.21)</td>\n",
       "      <td>urge (0.07)</td>\n",
       "      <td>recently (0.18)</td>\n",
       "      <td>rest_cast (0.14)</td>\n",
       "      <td>romance (0.33)</td>\n",
       "    </tr>\n",
       "    <tr>\n",
       "      <th>7</th>\n",
       "      <td>cared (0.06)</td>\n",
       "      <td>amazing (0.5)</td>\n",
       "      <td>also (0.22)</td>\n",
       "      <td>hold (0.1)</td>\n",
       "      <td>remind (0.06)</td>\n",
       "      <td>success (0.19)</td>\n",
       "      <td>young_adult (0.07)</td>\n",
       "      <td>thought (0.17)</td>\n",
       "      <td>actress (0.1)</td>\n",
       "      <td>touch (0.31)</td>\n",
       "    </tr>\n",
       "    <tr>\n",
       "      <th>8</th>\n",
       "      <td>none (0.05)</td>\n",
       "      <td>favorite (0.44)</td>\n",
       "      <td>solid (0.21)</td>\n",
       "      <td>mine (0.09)</td>\n",
       "      <td>fit (0.06)</td>\n",
       "      <td>greatest (0.17)</td>\n",
       "      <td>grateful (0.07)</td>\n",
       "      <td>last_night (0.16)</td>\n",
       "      <td>played (0.07)</td>\n",
       "      <td>moving (0.29)</td>\n",
       "    </tr>\n",
       "    <tr>\n",
       "      <th>9</th>\n",
       "      <td>far_fetched (0.05)</td>\n",
       "      <td>definitely (0.43)</td>\n",
       "      <td>well (0.18)</td>\n",
       "      <td>soon (0.09)</td>\n",
       "      <td>level (0.06)</td>\n",
       "      <td>epic (0.17)</td>\n",
       "      <td>wanting (0.07)</td>\n",
       "      <td>buy_dvd (0.15)</td>\n",
       "      <td>chemistry (0.06)</td>\n",
       "      <td>heart (0.28)</td>\n",
       "    </tr>\n",
       "  </tbody>\n",
       "</table>\n",
       "</div>"
      ],
      "text/plain": [
       "                   9                    97                   60  \\\n",
       "0        matter (0.2)          great (2.0)        little (1.02)   \n",
       "1         much (0.18)         still (1.36)         quite (0.36)   \n",
       "2         sure (0.14)         loved (0.95)          nice (0.35)   \n",
       "3         know (0.11)         enjoy (0.57)    especially (0.32)   \n",
       "4   absolutely (0.11)    well_worth (0.54)  particularly (0.27)   \n",
       "5       exactly (0.1)        always (0.54)      although (0.26)   \n",
       "6    beginning (0.09)  entertaining (0.53)          plus (0.26)   \n",
       "7        cared (0.06)        amazing (0.5)          also (0.22)   \n",
       "8         none (0.05)      favorite (0.44)         solid (0.21)   \n",
       "9  far_fetched (0.05)    definitely (0.43)          well (0.18)   \n",
       "\n",
       "              93               1                    31                  20  \\\n",
       "0    take (0.72)      real (0.47)           best (1.7)         hard (0.37)   \n",
       "1     keep (0.3)        yet (0.3)   masterpiece (0.42)        right (0.16)   \n",
       "2    help (0.28)      easy (0.28)        genius (0.29)        people (0.1)   \n",
       "3     run (0.18)     every (0.15)        cinema (0.25)          mind (0.1)   \n",
       "4  return (0.15)   perhaps (0.15)          film (0.24)         folk (0.08)   \n",
       "5    move (0.11)  possibly (0.09)         today (0.21)       person (0.08)   \n",
       "6   break (0.11)     andor (0.08)  one_greatest (0.21)         urge (0.07)   \n",
       "7     hold (0.1)    remind (0.06)       success (0.19)  young_adult (0.07)   \n",
       "8    mine (0.09)       fit (0.06)      greatest (0.17)     grateful (0.07)   \n",
       "9    soon (0.09)     level (0.06)          epic (0.17)      wanting (0.07)   \n",
       "\n",
       "                     68                      50                22  \n",
       "0          found (0.31)      performance (1.03)       love (1.66)  \n",
       "1         channel (0.3)             role (0.87)  beautiful (0.52)  \n",
       "2  film_festival (0.23)             star (0.44)    feeling (0.52)  \n",
       "3      first_saw (0.22)             play (0.36)       feel (0.43)  \n",
       "4           glad (0.22)          playing (0.33)   romantic (0.42)  \n",
       "5        watched (0.21)  supporting_cast (0.16)   touching (0.35)  \n",
       "6       recently (0.18)        rest_cast (0.14)    romance (0.33)  \n",
       "7        thought (0.17)           actress (0.1)      touch (0.31)  \n",
       "8     last_night (0.16)           played (0.07)     moving (0.29)  \n",
       "9        buy_dvd (0.15)        chemistry (0.06)      heart (0.28)  "
      ]
     },
     "execution_count": 86,
     "metadata": {},
     "output_type": "execute_result"
    }
   ],
   "source": [
    "c1"
   ]
  },
  {
   "cell_type": "markdown",
   "metadata": {},
   "source": [
    "Negative to positive clusters."
   ]
  },
  {
   "cell_type": "code",
   "execution_count": 87,
   "metadata": {},
   "outputs": [
    {
     "data": {
      "text/html": [
       "<div>\n",
       "<style scoped>\n",
       "    .dataframe tbody tr th:only-of-type {\n",
       "        vertical-align: middle;\n",
       "    }\n",
       "\n",
       "    .dataframe tbody tr th {\n",
       "        vertical-align: top;\n",
       "    }\n",
       "\n",
       "    .dataframe thead th {\n",
       "        text-align: right;\n",
       "    }\n",
       "</style>\n",
       "<table border=\"1\" class=\"dataframe\">\n",
       "  <thead>\n",
       "    <tr style=\"text-align: right;\">\n",
       "      <th></th>\n",
       "      <th>9</th>\n",
       "      <th>47</th>\n",
       "      <th>93</th>\n",
       "      <th>60</th>\n",
       "      <th>97</th>\n",
       "      <th>13</th>\n",
       "      <th>81</th>\n",
       "      <th>1</th>\n",
       "      <th>59</th>\n",
       "      <th>20</th>\n",
       "    </tr>\n",
       "  </thead>\n",
       "  <tbody>\n",
       "    <tr>\n",
       "      <th>0</th>\n",
       "      <td>even (1.2)</td>\n",
       "      <td>bad (4.38)</td>\n",
       "      <td>try (0.65)</td>\n",
       "      <td>pretty (0.46)</td>\n",
       "      <td>movie (1.47)</td>\n",
       "      <td>boring (1.07)</td>\n",
       "      <td>money (0.94)</td>\n",
       "      <td>case (0.36)</td>\n",
       "      <td>stupid (1.29)</td>\n",
       "      <td>believe (0.3)</td>\n",
       "    </tr>\n",
       "    <tr>\n",
       "      <th>1</th>\n",
       "      <td>could (1.0)</td>\n",
       "      <td>worst (2.12)</td>\n",
       "      <td>save (0.41)</td>\n",
       "      <td>lot (0.36)</td>\n",
       "      <td>better (0.76)</td>\n",
       "      <td>poor (0.89)</td>\n",
       "      <td>rent (0.58)</td>\n",
       "      <td>le (0.21)</td>\n",
       "      <td>guy (0.96)</td>\n",
       "      <td>someone (0.28)</td>\n",
       "    </tr>\n",
       "    <tr>\n",
       "      <th>2</th>\n",
       "      <td>instead (0.78)</td>\n",
       "      <td>awful (1.04)</td>\n",
       "      <td>getting (0.29)</td>\n",
       "      <td>unfortunately (0.29)</td>\n",
       "      <td>recommend (0.38)</td>\n",
       "      <td>dialog (0.49)</td>\n",
       "      <td>anyone (0.42)</td>\n",
       "      <td>sort (0.2)</td>\n",
       "      <td>got (0.52)</td>\n",
       "      <td>wanted (0.27)</td>\n",
       "    </tr>\n",
       "    <tr>\n",
       "      <th>3</th>\n",
       "      <td>nothing (0.63)</td>\n",
       "      <td>terrible (1.03)</td>\n",
       "      <td>quickly (0.22)</td>\n",
       "      <td>overall (0.27)</td>\n",
       "      <td>expect (0.32)</td>\n",
       "      <td>dull (0.48)</td>\n",
       "      <td>please (0.39)</td>\n",
       "      <td>simply (0.2)</td>\n",
       "      <td>ok (0.51)</td>\n",
       "      <td>trying (0.21)</td>\n",
       "    </tr>\n",
       "    <tr>\n",
       "      <th>4</th>\n",
       "      <td>supposed (0.6)</td>\n",
       "      <td>ever_seen (0.86)</td>\n",
       "      <td>get (0.2)</td>\n",
       "      <td>disappointing (0.26)</td>\n",
       "      <td>admit (0.08)</td>\n",
       "      <td>lame (0.38)</td>\n",
       "      <td>unless (0.3)</td>\n",
       "      <td>example (0.2)</td>\n",
       "      <td>bunch (0.36)</td>\n",
       "      <td>gone (0.19)</td>\n",
       "    </tr>\n",
       "    <tr>\n",
       "      <th>5</th>\n",
       "      <td>least (0.58)</td>\n",
       "      <td>horrible (0.75)</td>\n",
       "      <td>start (0.2)</td>\n",
       "      <td>interesting (0.23)</td>\n",
       "      <td>entertained (0.07)</td>\n",
       "      <td>weak (0.34)</td>\n",
       "      <td>money_back (0.24)</td>\n",
       "      <td>contain (0.17)</td>\n",
       "      <td>mean (0.35)</td>\n",
       "      <td>must (0.17)</td>\n",
       "    </tr>\n",
       "    <tr>\n",
       "      <th>6</th>\n",
       "      <td>enough (0.57)</td>\n",
       "      <td>one_worst (0.7)</td>\n",
       "      <td>tell (0.15)</td>\n",
       "      <td>otherwise (0.21)</td>\n",
       "      <td>chick_flick (0.06)</td>\n",
       "      <td>unbelievable (0.33)</td>\n",
       "      <td>warned (0.23)</td>\n",
       "      <td>beyond (0.16)</td>\n",
       "      <td>like (0.28)</td>\n",
       "      <td>whatever (0.17)</td>\n",
       "    </tr>\n",
       "    <tr>\n",
       "      <th>7</th>\n",
       "      <td>anything (0.56)</td>\n",
       "      <td>worse (0.56)</td>\n",
       "      <td>stop (0.14)</td>\n",
       "      <td>decent (0.2)</td>\n",
       "      <td>worth_watching (0.03)</td>\n",
       "      <td>annoying (0.3)</td>\n",
       "      <td>blockbuster (0.21)</td>\n",
       "      <td>meant (0.15)</td>\n",
       "      <td>cool (0.24)</td>\n",
       "      <td>thinking (0.13)</td>\n",
       "    </tr>\n",
       "    <tr>\n",
       "      <th>8</th>\n",
       "      <td>really (0.53)</td>\n",
       "      <td>waste_time (0.53)</td>\n",
       "      <td>find (0.13)</td>\n",
       "      <td>expected (0.18)</td>\n",
       "      <td>appreciate (0.02)</td>\n",
       "      <td>dialogue (0.3)</td>\n",
       "      <td>go_rent (0.21)</td>\n",
       "      <td>require (0.14)</td>\n",
       "      <td>hate (0.2)</td>\n",
       "      <td>need (0.13)</td>\n",
       "    </tr>\n",
       "    <tr>\n",
       "      <th>9</th>\n",
       "      <td>maybe (0.51)</td>\n",
       "      <td>waste (0.51)</td>\n",
       "      <td>come (0.12)</td>\n",
       "      <td>usually (0.17)</td>\n",
       "      <td>kid_adult (0.02)</td>\n",
       "      <td>ridiculous (0.29)</td>\n",
       "      <td>something_else (0.21)</td>\n",
       "      <td>particular (0.14)</td>\n",
       "      <td>hell (0.2)</td>\n",
       "      <td>able (0.13)</td>\n",
       "    </tr>\n",
       "  </tbody>\n",
       "</table>\n",
       "</div>"
      ],
      "text/plain": [
       "                9                  47              93                    60  \\\n",
       "0       even (1.2)         bad (4.38)      try (0.65)         pretty (0.46)   \n",
       "1      could (1.0)       worst (2.12)     save (0.41)            lot (0.36)   \n",
       "2   instead (0.78)       awful (1.04)  getting (0.29)  unfortunately (0.29)   \n",
       "3   nothing (0.63)    terrible (1.03)  quickly (0.22)        overall (0.27)   \n",
       "4   supposed (0.6)   ever_seen (0.86)       get (0.2)  disappointing (0.26)   \n",
       "5     least (0.58)    horrible (0.75)     start (0.2)    interesting (0.23)   \n",
       "6    enough (0.57)    one_worst (0.7)     tell (0.15)      otherwise (0.21)   \n",
       "7  anything (0.56)       worse (0.56)     stop (0.14)          decent (0.2)   \n",
       "8    really (0.53)  waste_time (0.53)     find (0.13)       expected (0.18)   \n",
       "9     maybe (0.51)       waste (0.51)     come (0.12)        usually (0.17)   \n",
       "\n",
       "                      97                   13                     81  \\\n",
       "0           movie (1.47)        boring (1.07)           money (0.94)   \n",
       "1          better (0.76)          poor (0.89)            rent (0.58)   \n",
       "2       recommend (0.38)        dialog (0.49)          anyone (0.42)   \n",
       "3          expect (0.32)          dull (0.48)          please (0.39)   \n",
       "4           admit (0.08)          lame (0.38)           unless (0.3)   \n",
       "5     entertained (0.07)          weak (0.34)      money_back (0.24)   \n",
       "6     chick_flick (0.06)  unbelievable (0.33)          warned (0.23)   \n",
       "7  worth_watching (0.03)       annoying (0.3)     blockbuster (0.21)   \n",
       "8      appreciate (0.02)       dialogue (0.3)         go_rent (0.21)   \n",
       "9       kid_adult (0.02)    ridiculous (0.29)  something_else (0.21)   \n",
       "\n",
       "                  1              59               20  \n",
       "0        case (0.36)  stupid (1.29)    believe (0.3)  \n",
       "1          le (0.21)     guy (0.96)   someone (0.28)  \n",
       "2         sort (0.2)     got (0.52)    wanted (0.27)  \n",
       "3       simply (0.2)      ok (0.51)    trying (0.21)  \n",
       "4      example (0.2)   bunch (0.36)      gone (0.19)  \n",
       "5     contain (0.17)    mean (0.35)      must (0.17)  \n",
       "6      beyond (0.16)    like (0.28)  whatever (0.17)  \n",
       "7       meant (0.15)    cool (0.24)  thinking (0.13)  \n",
       "8     require (0.14)     hate (0.2)      need (0.13)  \n",
       "9  particular (0.14)     hell (0.2)      able (0.13)  "
      ]
     },
     "execution_count": 87,
     "metadata": {},
     "output_type": "execute_result"
    }
   ],
   "source": [
    "c2 "
   ]
  },
  {
   "cell_type": "markdown",
   "metadata": {},
   "source": [
    "## 4 Better clusters with UMAP and T-SNE"
   ]
  },
  {
   "cell_type": "markdown",
   "metadata": {},
   "source": [
    "#### 4.1 UMAP + Kmeans"
   ]
  },
  {
   "cell_type": "code",
   "execution_count": 88,
   "metadata": {},
   "outputs": [],
   "source": [
    "word2cluster_u = {features[idx]: cl for idx, cl in enumerate(labels_umap)}"
   ]
  },
  {
   "cell_type": "code",
   "execution_count": 89,
   "metadata": {},
   "outputs": [
    {
     "name": "stdout",
     "output_type": "stream",
     "text": [
      "[(']', 36), ('^_', 22), ('`', 53), ('aaargh', 93), ('aaliyah', 18), ('aamir_khan', 70), ('aaron', 59), ('aaron_eckhart', 79), ('ab_tak', 35), ('abandon', 52)]\n"
     ]
    }
   ],
   "source": [
    "print(take(10, word2cluster_u.items()))"
   ]
  },
  {
   "cell_type": "markdown",
   "metadata": {},
   "source": [
    "Now, conversely, create an index that maps each cluster to a word."
   ]
  },
  {
   "cell_type": "code",
   "execution_count": 90,
   "metadata": {},
   "outputs": [],
   "source": [
    "cluster2words_u = defaultdict(list)\n",
    "for key, value in word2cluster_u.items():\n",
    "    cluster2words_u[value].append(key)"
   ]
  },
  {
   "cell_type": "code",
   "execution_count": 93,
   "metadata": {},
   "outputs": [
    {
     "name": "stdout",
     "output_type": "stream",
     "text": [
      "Calculated distances between approximately 0 documents.00h00m00s elapsed.\n",
      "CPU times: user 10.6 s, sys: 4.59 s, total: 15.2 s\n",
      "Wall time: 5.26 s\n"
     ]
    }
   ],
   "source": [
    "%%time \n",
    "\n",
    "wmd_pairs_flow_u = WMDPairs(pos_docs,neg_docs,pairs,E,idx2word)\n",
    "wmd_pairs_flow_u.get_distances(decompose = True, \n",
    "                               sum_clusters = True, \n",
    "                               w2c = word2cluster_u, \n",
    "                               c2w = cluster2words_u,\n",
    "                               thread = True,\n",
    "                               relax = True)"
   ]
  },
  {
   "cell_type": "code",
   "execution_count": 94,
   "metadata": {},
   "outputs": [],
   "source": [
    "wmd_pairs_flow_u.get_differences()"
   ]
  },
  {
   "cell_type": "code",
   "execution_count": 95,
   "metadata": {},
   "outputs": [],
   "source": [
    "c1_u = output_clusters(wc=wmd_pairs_flow_u.wd_source_diff.items(), \n",
    "                     cc=wmd_pairs_flow_u.cd_source.items(), \n",
    "                     c2w=cluster2words_u, \n",
    "                     n_clusters=n_clusters, \n",
    "                     n_words=n_words)\n",
    "c2_u = output_clusters(wc=wmd_pairs_flow_u.wd_sink_diff.items(), \n",
    "                     cc=wmd_pairs_flow_u.cd_sink.items(), \n",
    "                     c2w=cluster2words_u, \n",
    "                     n_clusters=n_clusters, \n",
    "                     n_words=n_words)"
   ]
  },
  {
   "cell_type": "code",
   "execution_count": 96,
   "metadata": {},
   "outputs": [
    {
     "data": {
      "text/html": [
       "<div>\n",
       "<style scoped>\n",
       "    .dataframe tbody tr th:only-of-type {\n",
       "        vertical-align: middle;\n",
       "    }\n",
       "\n",
       "    .dataframe tbody tr th {\n",
       "        vertical-align: top;\n",
       "    }\n",
       "\n",
       "    .dataframe thead th {\n",
       "        text-align: right;\n",
       "    }\n",
       "</style>\n",
       "<table border=\"1\" class=\"dataframe\">\n",
       "  <thead>\n",
       "    <tr style=\"text-align: right;\">\n",
       "      <th></th>\n",
       "      <th>2</th>\n",
       "      <th>68</th>\n",
       "      <th>90</th>\n",
       "      <th>41</th>\n",
       "      <th>48</th>\n",
       "      <th>10</th>\n",
       "      <th>33</th>\n",
       "      <th>16</th>\n",
       "      <th>81</th>\n",
       "      <th>59</th>\n",
       "    </tr>\n",
       "  </thead>\n",
       "  <tbody>\n",
       "    <tr>\n",
       "      <th>0</th>\n",
       "      <td>entertaining (0.06)</td>\n",
       "      <td>hard (0.05)</td>\n",
       "      <td>loved (0.13)</td>\n",
       "      <td>great (0.27)</td>\n",
       "      <td>quite (0.05)</td>\n",
       "      <td>year (0.1)</td>\n",
       "      <td>romantic (0.06)</td>\n",
       "      <td>enjoy (0.07)</td>\n",
       "      <td>feeling (0.07)</td>\n",
       "      <td>young (0.14)</td>\n",
       "    </tr>\n",
       "    <tr>\n",
       "      <th>1</th>\n",
       "      <td>hilarious (0.06)</td>\n",
       "      <td>definitely (0.05)</td>\n",
       "      <td>time (0.12)</td>\n",
       "      <td>excellent (0.16)</td>\n",
       "      <td>easy (0.04)</td>\n",
       "      <td>new (0.08)</td>\n",
       "      <td>feel (0.06)</td>\n",
       "      <td>check (0.03)</td>\n",
       "      <td>message (0.05)</td>\n",
       "      <td>family (0.11)</td>\n",
       "    </tr>\n",
       "    <tr>\n",
       "      <th>2</th>\n",
       "      <td>comedy (0.05)</td>\n",
       "      <td>right (0.02)</td>\n",
       "      <td>well_worth (0.06)</td>\n",
       "      <td>wonderful (0.13)</td>\n",
       "      <td>although (0.03)</td>\n",
       "      <td>day (0.06)</td>\n",
       "      <td>romance (0.05)</td>\n",
       "      <td>would_recommend (0.02)</td>\n",
       "      <td>heart (0.04)</td>\n",
       "      <td>father (0.05)</td>\n",
       "    </tr>\n",
       "    <tr>\n",
       "      <th>3</th>\n",
       "      <td>film (0.03)</td>\n",
       "      <td>give (0.02)</td>\n",
       "      <td>fan (0.06)</td>\n",
       "      <td>brilliant (0.1)</td>\n",
       "      <td>quality (0.03)</td>\n",
       "      <td>show (0.06)</td>\n",
       "      <td>touching (0.05)</td>\n",
       "      <td>thought (0.02)</td>\n",
       "      <td>reality (0.04)</td>\n",
       "      <td>mother (0.05)</td>\n",
       "    </tr>\n",
       "    <tr>\n",
       "      <th>4</th>\n",
       "      <td>humour (0.02)</td>\n",
       "      <td>slasher (0.02)</td>\n",
       "      <td>found (0.04)</td>\n",
       "      <td>perfect (0.09)</td>\n",
       "      <td>part (0.02)</td>\n",
       "      <td>lived (0.04)</td>\n",
       "      <td>touch (0.04)</td>\n",
       "      <td>popcorn (0.01)</td>\n",
       "      <td>personal (0.04)</td>\n",
       "      <td>meet (0.05)</td>\n",
       "    </tr>\n",
       "    <tr>\n",
       "      <th>5</th>\n",
       "      <td>clever (0.02)</td>\n",
       "      <td>laughter (0.02)</td>\n",
       "      <td>hope (0.04)</td>\n",
       "      <td>amazing (0.07)</td>\n",
       "      <td>bit (0.02)</td>\n",
       "      <td>late (0.04)</td>\n",
       "      <td>moving (0.04)</td>\n",
       "      <td>amazed (0.01)</td>\n",
       "      <td>capture (0.03)</td>\n",
       "      <td>sister (0.03)</td>\n",
       "    </tr>\n",
       "    <tr>\n",
       "      <th>6</th>\n",
       "      <td>enjoyable (0.02)</td>\n",
       "      <td>people (0.01)</td>\n",
       "      <td>see (0.03)</td>\n",
       "      <td>incredible (0.07)</td>\n",
       "      <td>though (0.02)</td>\n",
       "      <td>grew (0.03)</td>\n",
       "      <td>strong (0.04)</td>\n",
       "      <td>deserves (0.01)</td>\n",
       "      <td>emotionally (0.03)</td>\n",
       "      <td>parent (0.03)</td>\n",
       "    </tr>\n",
       "    <tr>\n",
       "      <th>7</th>\n",
       "      <td>perhaps (0.02)</td>\n",
       "      <td>possibly (0.01)</td>\n",
       "      <td>highly_recommend (0.03)</td>\n",
       "      <td>soundtrack (0.05)</td>\n",
       "      <td>pure (0.02)</td>\n",
       "      <td>cartoon (0.02)</td>\n",
       "      <td>theme (0.04)</td>\n",
       "      <td>noticed (0.01)</td>\n",
       "      <td>issue (0.02)</td>\n",
       "      <td>dad (0.03)</td>\n",
       "    </tr>\n",
       "    <tr>\n",
       "      <th>8</th>\n",
       "      <td>romantic_comedy (0.02)</td>\n",
       "      <td>van_damme (0.01)</td>\n",
       "      <td>wish (0.03)</td>\n",
       "      <td>music (0.04)</td>\n",
       "      <td>filled (0.02)</td>\n",
       "      <td>june (0.02)</td>\n",
       "      <td>matter (0.03)</td>\n",
       "      <td>watch (0.01)</td>\n",
       "      <td>u (0.02)</td>\n",
       "      <td>brother (0.03)</td>\n",
       "    </tr>\n",
       "    <tr>\n",
       "      <th>9</th>\n",
       "      <td>ghost_story (0.02)</td>\n",
       "      <td>exactly (0.01)</td>\n",
       "      <td>impressed (0.02)</td>\n",
       "      <td>memorable (0.04)</td>\n",
       "      <td>surprisingly_good (0.02)</td>\n",
       "      <td>last (0.02)</td>\n",
       "      <td>powerful (0.03)</td>\n",
       "      <td>laughed_hard (0.01)</td>\n",
       "      <td>question (0.02)</td>\n",
       "      <td>friend (0.02)</td>\n",
       "    </tr>\n",
       "  </tbody>\n",
       "</table>\n",
       "</div>"
      ],
      "text/plain": [
       "                       2                  68                       90  \\\n",
       "0     entertaining (0.06)        hard (0.05)             loved (0.13)   \n",
       "1        hilarious (0.06)  definitely (0.05)              time (0.12)   \n",
       "2           comedy (0.05)       right (0.02)        well_worth (0.06)   \n",
       "3             film (0.03)        give (0.02)               fan (0.06)   \n",
       "4           humour (0.02)     slasher (0.02)             found (0.04)   \n",
       "5           clever (0.02)    laughter (0.02)              hope (0.04)   \n",
       "6        enjoyable (0.02)      people (0.01)               see (0.03)   \n",
       "7          perhaps (0.02)    possibly (0.01)  highly_recommend (0.03)   \n",
       "8  romantic_comedy (0.02)   van_damme (0.01)              wish (0.03)   \n",
       "9      ghost_story (0.02)     exactly (0.01)         impressed (0.02)   \n",
       "\n",
       "                  41                        48              10  \\\n",
       "0       great (0.27)              quite (0.05)      year (0.1)   \n",
       "1   excellent (0.16)               easy (0.04)      new (0.08)   \n",
       "2   wonderful (0.13)           although (0.03)      day (0.06)   \n",
       "3    brilliant (0.1)            quality (0.03)     show (0.06)   \n",
       "4     perfect (0.09)               part (0.02)    lived (0.04)   \n",
       "5     amazing (0.07)                bit (0.02)     late (0.04)   \n",
       "6  incredible (0.07)             though (0.02)     grew (0.03)   \n",
       "7  soundtrack (0.05)               pure (0.02)  cartoon (0.02)   \n",
       "8       music (0.04)             filled (0.02)     june (0.02)   \n",
       "9   memorable (0.04)  surprisingly_good (0.02)     last (0.02)   \n",
       "\n",
       "                33                      16                  81              59  \n",
       "0  romantic (0.06)            enjoy (0.07)      feeling (0.07)    young (0.14)  \n",
       "1      feel (0.06)            check (0.03)      message (0.05)   family (0.11)  \n",
       "2   romance (0.05)  would_recommend (0.02)        heart (0.04)   father (0.05)  \n",
       "3  touching (0.05)          thought (0.02)      reality (0.04)   mother (0.05)  \n",
       "4     touch (0.04)          popcorn (0.01)     personal (0.04)     meet (0.05)  \n",
       "5    moving (0.04)           amazed (0.01)      capture (0.03)   sister (0.03)  \n",
       "6    strong (0.04)         deserves (0.01)  emotionally (0.03)   parent (0.03)  \n",
       "7     theme (0.04)          noticed (0.01)        issue (0.02)      dad (0.03)  \n",
       "8    matter (0.03)            watch (0.01)            u (0.02)  brother (0.03)  \n",
       "9  powerful (0.03)     laughed_hard (0.01)     question (0.02)   friend (0.02)  "
      ]
     },
     "execution_count": 96,
     "metadata": {},
     "output_type": "execute_result"
    }
   ],
   "source": [
    "c1_u"
   ]
  },
  {
   "cell_type": "code",
   "execution_count": 97,
   "metadata": {},
   "outputs": [
    {
     "data": {
      "text/html": [
       "<div>\n",
       "<style scoped>\n",
       "    .dataframe tbody tr th:only-of-type {\n",
       "        vertical-align: middle;\n",
       "    }\n",
       "\n",
       "    .dataframe tbody tr th {\n",
       "        vertical-align: top;\n",
       "    }\n",
       "\n",
       "    .dataframe thead th {\n",
       "        text-align: right;\n",
       "    }\n",
       "</style>\n",
       "<table border=\"1\" class=\"dataframe\">\n",
       "  <thead>\n",
       "    <tr style=\"text-align: right;\">\n",
       "      <th></th>\n",
       "      <th>73</th>\n",
       "      <th>87</th>\n",
       "      <th>2</th>\n",
       "      <th>68</th>\n",
       "      <th>38</th>\n",
       "      <th>16</th>\n",
       "      <th>31</th>\n",
       "      <th>48</th>\n",
       "      <th>90</th>\n",
       "      <th>17</th>\n",
       "    </tr>\n",
       "  </thead>\n",
       "  <tbody>\n",
       "    <tr>\n",
       "      <th>0</th>\n",
       "      <td>bad (0.57)</td>\n",
       "      <td>worst (0.27)</td>\n",
       "      <td>funny (0.13)</td>\n",
       "      <td>better (0.1)</td>\n",
       "      <td>stupid (0.16)</td>\n",
       "      <td>movie (0.18)</td>\n",
       "      <td>even (0.18)</td>\n",
       "      <td>enough (0.08)</td>\n",
       "      <td>next (0.04)</td>\n",
       "      <td>action (0.06)</td>\n",
       "    </tr>\n",
       "    <tr>\n",
       "      <th>1</th>\n",
       "      <td>plot (0.15)</td>\n",
       "      <td>ever (0.11)</td>\n",
       "      <td>made (0.1)</td>\n",
       "      <td>gave (0.05)</td>\n",
       "      <td>could (0.14)</td>\n",
       "      <td>say (0.08)</td>\n",
       "      <td>instead (0.12)</td>\n",
       "      <td>idea (0.07)</td>\n",
       "      <td>ended (0.04)</td>\n",
       "      <td>end (0.06)</td>\n",
       "    </tr>\n",
       "    <tr>\n",
       "      <th>2</th>\n",
       "      <td>acting (0.13)</td>\n",
       "      <td>ever_seen (0.1)</td>\n",
       "      <td>joke (0.08)</td>\n",
       "      <td>would (0.05)</td>\n",
       "      <td>nothing (0.09)</td>\n",
       "      <td>got (0.07)</td>\n",
       "      <td>supposed (0.08)</td>\n",
       "      <td>pretty (0.06)</td>\n",
       "      <td>went (0.04)</td>\n",
       "      <td>premise (0.05)</td>\n",
       "    </tr>\n",
       "    <tr>\n",
       "      <th>3</th>\n",
       "      <td>poor (0.13)</td>\n",
       "      <td>one_worst (0.08)</td>\n",
       "      <td>making (0.06)</td>\n",
       "      <td>horror (0.04)</td>\n",
       "      <td>hour (0.08)</td>\n",
       "      <td>rating (0.07)</td>\n",
       "      <td>lot (0.05)</td>\n",
       "      <td>case (0.05)</td>\n",
       "      <td>sat (0.03)</td>\n",
       "      <td>lack (0.05)</td>\n",
       "    </tr>\n",
       "    <tr>\n",
       "      <th>4</th>\n",
       "      <td>boring (0.13)</td>\n",
       "      <td>really (0.07)</td>\n",
       "      <td>unfortunately (0.04)</td>\n",
       "      <td>laugh (0.04)</td>\n",
       "      <td>least (0.08)</td>\n",
       "      <td>rent (0.06)</td>\n",
       "      <td>rest (0.05)</td>\n",
       "      <td>effort (0.04)</td>\n",
       "      <td>disappointed (0.03)</td>\n",
       "      <td>slow (0.03)</td>\n",
       "    </tr>\n",
       "    <tr>\n",
       "      <th>5</th>\n",
       "      <td>terrible (0.13)</td>\n",
       "      <td>something (0.07)</td>\n",
       "      <td>project (0.04)</td>\n",
       "      <td>like (0.04)</td>\n",
       "      <td>minute (0.08)</td>\n",
       "      <td>reason (0.05)</td>\n",
       "      <td>basically (0.05)</td>\n",
       "      <td>understand (0.03)</td>\n",
       "      <td>gone (0.03)</td>\n",
       "      <td>character_development (0.02)</td>\n",
       "    </tr>\n",
       "    <tr>\n",
       "      <th>6</th>\n",
       "      <td>awful (0.13)</td>\n",
       "      <td>waste (0.07)</td>\n",
       "      <td>obviously (0.03)</td>\n",
       "      <td>expect (0.04)</td>\n",
       "      <td>anything (0.08)</td>\n",
       "      <td>watching (0.05)</td>\n",
       "      <td>either (0.05)</td>\n",
       "      <td>overall (0.03)</td>\n",
       "      <td>wait (0.03)</td>\n",
       "      <td>shallow (0.02)</td>\n",
       "    </tr>\n",
       "    <tr>\n",
       "      <th>7</th>\n",
       "      <td>horrible (0.09)</td>\n",
       "      <td>maybe (0.06)</td>\n",
       "      <td>line (0.03)</td>\n",
       "      <td>believe (0.04)</td>\n",
       "      <td>worse (0.08)</td>\n",
       "      <td>please (0.04)</td>\n",
       "      <td>nudity (0.04)</td>\n",
       "      <td>point (0.03)</td>\n",
       "      <td>must_say (0.02)</td>\n",
       "      <td>climax (0.02)</td>\n",
       "    </tr>\n",
       "    <tr>\n",
       "      <th>8</th>\n",
       "      <td>script (0.07)</td>\n",
       "      <td>ok (0.06)</td>\n",
       "      <td>fact (0.03)</td>\n",
       "      <td>wrong (0.04)</td>\n",
       "      <td>cheap (0.06)</td>\n",
       "      <td>review (0.04)</td>\n",
       "      <td>totally (0.03)</td>\n",
       "      <td>numerous (0.03)</td>\n",
       "      <td>finished (0.02)</td>\n",
       "      <td>pretentious (0.02)</td>\n",
       "    </tr>\n",
       "    <tr>\n",
       "      <th>9</th>\n",
       "      <td>dull (0.06)</td>\n",
       "      <td>ever_made (0.06)</td>\n",
       "      <td>serious (0.03)</td>\n",
       "      <td>bmovie (0.04)</td>\n",
       "      <td>going (0.06)</td>\n",
       "      <td>recommend (0.04)</td>\n",
       "      <td>disgusting (0.03)</td>\n",
       "      <td>interesting (0.03)</td>\n",
       "      <td>twice (0.02)</td>\n",
       "      <td>footage (0.02)</td>\n",
       "    </tr>\n",
       "  </tbody>\n",
       "</table>\n",
       "</div>"
      ],
      "text/plain": [
       "                73                87                    2               68  \\\n",
       "0       bad (0.57)      worst (0.27)          funny (0.13)    better (0.1)   \n",
       "1      plot (0.15)       ever (0.11)            made (0.1)     gave (0.05)   \n",
       "2    acting (0.13)   ever_seen (0.1)           joke (0.08)    would (0.05)   \n",
       "3      poor (0.13)  one_worst (0.08)         making (0.06)   horror (0.04)   \n",
       "4    boring (0.13)     really (0.07)  unfortunately (0.04)    laugh (0.04)   \n",
       "5  terrible (0.13)  something (0.07)        project (0.04)     like (0.04)   \n",
       "6     awful (0.13)      waste (0.07)      obviously (0.03)   expect (0.04)   \n",
       "7  horrible (0.09)      maybe (0.06)           line (0.03)  believe (0.04)   \n",
       "8    script (0.07)         ok (0.06)           fact (0.03)    wrong (0.04)   \n",
       "9      dull (0.06)  ever_made (0.06)        serious (0.03)   bmovie (0.04)   \n",
       "\n",
       "                38                16                 31                  48  \\\n",
       "0    stupid (0.16)      movie (0.18)        even (0.18)       enough (0.08)   \n",
       "1     could (0.14)        say (0.08)     instead (0.12)         idea (0.07)   \n",
       "2   nothing (0.09)        got (0.07)    supposed (0.08)       pretty (0.06)   \n",
       "3      hour (0.08)     rating (0.07)         lot (0.05)         case (0.05)   \n",
       "4     least (0.08)       rent (0.06)        rest (0.05)       effort (0.04)   \n",
       "5    minute (0.08)     reason (0.05)   basically (0.05)   understand (0.03)   \n",
       "6  anything (0.08)   watching (0.05)      either (0.05)      overall (0.03)   \n",
       "7     worse (0.08)     please (0.04)      nudity (0.04)        point (0.03)   \n",
       "8     cheap (0.06)     review (0.04)     totally (0.03)     numerous (0.03)   \n",
       "9     going (0.06)  recommend (0.04)  disgusting (0.03)  interesting (0.03)   \n",
       "\n",
       "                    90                            17  \n",
       "0          next (0.04)                 action (0.06)  \n",
       "1         ended (0.04)                    end (0.06)  \n",
       "2          went (0.04)                premise (0.05)  \n",
       "3           sat (0.03)                   lack (0.05)  \n",
       "4  disappointed (0.03)                   slow (0.03)  \n",
       "5          gone (0.03)  character_development (0.02)  \n",
       "6          wait (0.03)                shallow (0.02)  \n",
       "7      must_say (0.02)                 climax (0.02)  \n",
       "8      finished (0.02)            pretentious (0.02)  \n",
       "9         twice (0.02)                footage (0.02)  "
      ]
     },
     "execution_count": 97,
     "metadata": {},
     "output_type": "execute_result"
    }
   ],
   "source": [
    "c2_u"
   ]
  },
  {
   "cell_type": "markdown",
   "metadata": {},
   "source": [
    "#### 4.1 T-SNE + Kmeans"
   ]
  },
  {
   "cell_type": "code",
   "execution_count": 98,
   "metadata": {},
   "outputs": [],
   "source": [
    "word2cluster_t = {features[idx]: cl for idx, cl in enumerate(labels_tsne)}"
   ]
  },
  {
   "cell_type": "code",
   "execution_count": 99,
   "metadata": {},
   "outputs": [
    {
     "name": "stdout",
     "output_type": "stream",
     "text": [
      "[(']', 19), ('^_', 28), ('`', 41), ('aaargh', 59), ('aaliyah', 48), ('aamir_khan', 48), ('aaron', 18), ('aaron_eckhart', 68), ('ab_tak', 96), ('abandon', 12)]\n"
     ]
    }
   ],
   "source": [
    "print(take(10, word2cluster_t.items()))"
   ]
  },
  {
   "cell_type": "markdown",
   "metadata": {},
   "source": [
    "Now, conversely, create an index that maps each cluster to a word."
   ]
  },
  {
   "cell_type": "code",
   "execution_count": 100,
   "metadata": {},
   "outputs": [],
   "source": [
    "cluster2words_t = defaultdict(list)\n",
    "for key, value in word2cluster_t.items():\n",
    "    cluster2words_t[value].append(key)"
   ]
  },
  {
   "cell_type": "code",
   "execution_count": 102,
   "metadata": {},
   "outputs": [
    {
     "name": "stdout",
     "output_type": "stream",
     "text": [
      "Calculated distances between approximately 0 documents.00h00m00s elapsed.\n",
      "CPU times: user 10.7 s, sys: 4.81 s, total: 15.5 s\n",
      "Wall time: 5.34 s\n"
     ]
    }
   ],
   "source": [
    "%%time \n",
    "\n",
    "wmd_pairs_flow_t = WMDPairs(pos_docs,neg_docs,pairs,E,idx2word)\n",
    "wmd_pairs_flow_t.get_distances(decompose = True, \n",
    "                               sum_clusters = True, \n",
    "                               w2c = word2cluster_t, \n",
    "                               c2w = cluster2words_t,\n",
    "                               thread = True,\n",
    "                               relax = True)"
   ]
  },
  {
   "cell_type": "code",
   "execution_count": 103,
   "metadata": {},
   "outputs": [],
   "source": [
    "wmd_pairs_flow_t.get_differences()"
   ]
  },
  {
   "cell_type": "code",
   "execution_count": 104,
   "metadata": {},
   "outputs": [],
   "source": [
    "c1_t = output_clusters(wc=wmd_pairs_flow_t.wd_source_diff.items(), \n",
    "                     cc=wmd_pairs_flow_t.cd_source.items(), \n",
    "                     c2w=cluster2words_t, \n",
    "                     n_clusters=n_clusters, \n",
    "                     n_words=n_words)\n",
    "c2_t = output_clusters(wc=wmd_pairs_flow_t.wd_sink_diff.items(), \n",
    "                     cc=wmd_pairs_flow_t.cd_sink.items(), \n",
    "                     c2w=cluster2words_t, \n",
    "                     n_clusters=n_clusters, \n",
    "                     n_words=n_words)"
   ]
  },
  {
   "cell_type": "code",
   "execution_count": 105,
   "metadata": {},
   "outputs": [
    {
     "data": {
      "text/html": [
       "<div>\n",
       "<style scoped>\n",
       "    .dataframe tbody tr th:only-of-type {\n",
       "        vertical-align: middle;\n",
       "    }\n",
       "\n",
       "    .dataframe tbody tr th {\n",
       "        vertical-align: top;\n",
       "    }\n",
       "\n",
       "    .dataframe thead th {\n",
       "        text-align: right;\n",
       "    }\n",
       "</style>\n",
       "<table border=\"1\" class=\"dataframe\">\n",
       "  <thead>\n",
       "    <tr style=\"text-align: right;\">\n",
       "      <th></th>\n",
       "      <th>53</th>\n",
       "      <th>85</th>\n",
       "      <th>24</th>\n",
       "      <th>22</th>\n",
       "      <th>33</th>\n",
       "      <th>54</th>\n",
       "      <th>87</th>\n",
       "      <th>62</th>\n",
       "      <th>18</th>\n",
       "      <th>45</th>\n",
       "    </tr>\n",
       "  </thead>\n",
       "  <tbody>\n",
       "    <tr>\n",
       "      <th>0</th>\n",
       "      <td>loved (0.13)</td>\n",
       "      <td>great (0.27)</td>\n",
       "      <td>time (0.12)</td>\n",
       "      <td>little (0.16)</td>\n",
       "      <td>future (0.03)</td>\n",
       "      <td>still (0.19)</td>\n",
       "      <td>story (0.06)</td>\n",
       "      <td>performance (0.14)</td>\n",
       "      <td>young (0.14)</td>\n",
       "      <td>disney (0.09)</td>\n",
       "    </tr>\n",
       "    <tr>\n",
       "      <th>1</th>\n",
       "      <td>enjoy (0.07)</td>\n",
       "      <td>excellent (0.16)</td>\n",
       "      <td>dvd (0.07)</td>\n",
       "      <td>entertaining (0.06)</td>\n",
       "      <td>matter (0.03)</td>\n",
       "      <td>hard (0.05)</td>\n",
       "      <td>build (0.02)</td>\n",
       "      <td>role (0.11)</td>\n",
       "      <td>family (0.11)</td>\n",
       "      <td>always (0.08)</td>\n",
       "    </tr>\n",
       "    <tr>\n",
       "      <th>2</th>\n",
       "      <td>well_worth (0.06)</td>\n",
       "      <td>wonderful (0.13)</td>\n",
       "      <td>show (0.06)</td>\n",
       "      <td>quite (0.05)</td>\n",
       "      <td>u (0.02)</td>\n",
       "      <td>today (0.03)</td>\n",
       "      <td>edge_seat (0.02)</td>\n",
       "      <td>star (0.06)</td>\n",
       "      <td>father (0.05)</td>\n",
       "      <td>era (0.03)</td>\n",
       "    </tr>\n",
       "    <tr>\n",
       "      <th>3</th>\n",
       "      <td>fan (0.06)</td>\n",
       "      <td>song (0.12)</td>\n",
       "      <td>found (0.04)</td>\n",
       "      <td>work (0.05)</td>\n",
       "      <td>question (0.02)</td>\n",
       "      <td>taste (0.02)</td>\n",
       "      <td>throughout (0.02)</td>\n",
       "      <td>play (0.06)</td>\n",
       "      <td>mother (0.05)</td>\n",
       "      <td>cinema (0.03)</td>\n",
       "    </tr>\n",
       "    <tr>\n",
       "      <th>4</th>\n",
       "      <td>see (0.03)</td>\n",
       "      <td>brilliant (0.1)</td>\n",
       "      <td>hope (0.04)</td>\n",
       "      <td>particularly (0.04)</td>\n",
       "      <td>whether (0.01)</td>\n",
       "      <td>may (0.01)</td>\n",
       "      <td>pace (0.01)</td>\n",
       "      <td>playing (0.06)</td>\n",
       "      <td>meet (0.05)</td>\n",
       "      <td>short (0.03)</td>\n",
       "    </tr>\n",
       "    <tr>\n",
       "      <th>5</th>\n",
       "      <td>check (0.03)</td>\n",
       "      <td>perfect (0.09)</td>\n",
       "      <td>channel (0.04)</td>\n",
       "      <td>typical (0.04)</td>\n",
       "      <td>people (0.01)</td>\n",
       "      <td>subtitle (0.01)</td>\n",
       "      <td>direct (0.01)</td>\n",
       "      <td>great_job (0.03)</td>\n",
       "      <td>mary (0.04)</td>\n",
       "      <td>film (0.03)</td>\n",
       "    </tr>\n",
       "    <tr>\n",
       "      <th>6</th>\n",
       "      <td>wish (0.03)</td>\n",
       "      <td>beautiful (0.08)</td>\n",
       "      <td>grew (0.03)</td>\n",
       "      <td>plus (0.04)</td>\n",
       "      <td>know (0.01)</td>\n",
       "      <td>adult (0.01)</td>\n",
       "      <td>suspense (0.01)</td>\n",
       "      <td>played (0.03)</td>\n",
       "      <td>joe (0.04)</td>\n",
       "      <td>quality (0.03)</td>\n",
       "    </tr>\n",
       "    <tr>\n",
       "      <th>7</th>\n",
       "      <td>impressed (0.02)</td>\n",
       "      <td>amazing (0.07)</td>\n",
       "      <td>film_festival (0.03)</td>\n",
       "      <td>although (0.03)</td>\n",
       "      <td>mind (0.01)</td>\n",
       "      <td>intended (0.01)</td>\n",
       "      <td>unexpected (0.01)</td>\n",
       "      <td>usual (0.03)</td>\n",
       "      <td>sister (0.03)</td>\n",
       "      <td>rare (0.03)</td>\n",
       "    </tr>\n",
       "    <tr>\n",
       "      <th>8</th>\n",
       "      <td>enjoyed (0.02)</td>\n",
       "      <td>incredible (0.07)</td>\n",
       "      <td>watched (0.03)</td>\n",
       "      <td>enjoyable (0.02)</td>\n",
       "      <td>exactly (0.01)</td>\n",
       "      <td>feel_sorry (0.01)</td>\n",
       "      <td>considering (0.01)</td>\n",
       "      <td>believable (0.02)</td>\n",
       "      <td>parent (0.03)</td>\n",
       "      <td>compared (0.02)</td>\n",
       "    </tr>\n",
       "    <tr>\n",
       "      <th>9</th>\n",
       "      <td>liked (0.02)</td>\n",
       "      <td>voice (0.06)</td>\n",
       "      <td>buy (0.02)</td>\n",
       "      <td>bit (0.02)</td>\n",
       "      <td>folk (0.01)</td>\n",
       "      <td>go_wrong (0.01)</td>\n",
       "      <td>done (0.01)</td>\n",
       "      <td>shine (0.02)</td>\n",
       "      <td>dad (0.03)</td>\n",
       "      <td>epic (0.02)</td>\n",
       "    </tr>\n",
       "  </tbody>\n",
       "</table>\n",
       "</div>"
      ],
      "text/plain": [
       "                  53                 85                    24  \\\n",
       "0       loved (0.13)       great (0.27)           time (0.12)   \n",
       "1       enjoy (0.07)   excellent (0.16)            dvd (0.07)   \n",
       "2  well_worth (0.06)   wonderful (0.13)           show (0.06)   \n",
       "3         fan (0.06)        song (0.12)          found (0.04)   \n",
       "4         see (0.03)    brilliant (0.1)           hope (0.04)   \n",
       "5       check (0.03)     perfect (0.09)        channel (0.04)   \n",
       "6        wish (0.03)   beautiful (0.08)           grew (0.03)   \n",
       "7   impressed (0.02)     amazing (0.07)  film_festival (0.03)   \n",
       "8     enjoyed (0.02)  incredible (0.07)        watched (0.03)   \n",
       "9       liked (0.02)       voice (0.06)            buy (0.02)   \n",
       "\n",
       "                    22               33                 54  \\\n",
       "0        little (0.16)    future (0.03)       still (0.19)   \n",
       "1  entertaining (0.06)    matter (0.03)        hard (0.05)   \n",
       "2         quite (0.05)         u (0.02)       today (0.03)   \n",
       "3          work (0.05)  question (0.02)       taste (0.02)   \n",
       "4  particularly (0.04)   whether (0.01)         may (0.01)   \n",
       "5       typical (0.04)    people (0.01)    subtitle (0.01)   \n",
       "6          plus (0.04)      know (0.01)       adult (0.01)   \n",
       "7      although (0.03)      mind (0.01)    intended (0.01)   \n",
       "8     enjoyable (0.02)   exactly (0.01)  feel_sorry (0.01)   \n",
       "9           bit (0.02)      folk (0.01)    go_wrong (0.01)   \n",
       "\n",
       "                   87                  62             18               45  \n",
       "0        story (0.06)  performance (0.14)   young (0.14)    disney (0.09)  \n",
       "1        build (0.02)         role (0.11)  family (0.11)    always (0.08)  \n",
       "2    edge_seat (0.02)         star (0.06)  father (0.05)       era (0.03)  \n",
       "3   throughout (0.02)         play (0.06)  mother (0.05)    cinema (0.03)  \n",
       "4         pace (0.01)      playing (0.06)    meet (0.05)     short (0.03)  \n",
       "5       direct (0.01)    great_job (0.03)    mary (0.04)      film (0.03)  \n",
       "6     suspense (0.01)       played (0.03)     joe (0.04)   quality (0.03)  \n",
       "7   unexpected (0.01)        usual (0.03)  sister (0.03)      rare (0.03)  \n",
       "8  considering (0.01)   believable (0.02)  parent (0.03)  compared (0.02)  \n",
       "9         done (0.01)        shine (0.02)     dad (0.03)      epic (0.02)  "
      ]
     },
     "execution_count": 105,
     "metadata": {},
     "output_type": "execute_result"
    }
   ],
   "source": [
    "c1_t"
   ]
  },
  {
   "cell_type": "code",
   "execution_count": 106,
   "metadata": {},
   "outputs": [
    {
     "data": {
      "text/html": [
       "<div>\n",
       "<style scoped>\n",
       "    .dataframe tbody tr th:only-of-type {\n",
       "        vertical-align: middle;\n",
       "    }\n",
       "\n",
       "    .dataframe tbody tr th {\n",
       "        vertical-align: top;\n",
       "    }\n",
       "\n",
       "    .dataframe thead th {\n",
       "        text-align: right;\n",
       "    }\n",
       "</style>\n",
       "<table border=\"1\" class=\"dataframe\">\n",
       "  <thead>\n",
       "    <tr style=\"text-align: right;\">\n",
       "      <th></th>\n",
       "      <th>53</th>\n",
       "      <th>91</th>\n",
       "      <th>87</th>\n",
       "      <th>33</th>\n",
       "      <th>54</th>\n",
       "      <th>24</th>\n",
       "      <th>1</th>\n",
       "      <th>80</th>\n",
       "      <th>22</th>\n",
       "      <th>25</th>\n",
       "    </tr>\n",
       "  </thead>\n",
       "  <tbody>\n",
       "    <tr>\n",
       "      <th>0</th>\n",
       "      <td>movie (0.18)</td>\n",
       "      <td>bad (0.57)</td>\n",
       "      <td>even (0.18)</td>\n",
       "      <td>going (0.06)</td>\n",
       "      <td>made (0.1)</td>\n",
       "      <td>rent (0.06)</td>\n",
       "      <td>stupid (0.16)</td>\n",
       "      <td>worst (0.27)</td>\n",
       "      <td>pretty (0.06)</td>\n",
       "      <td>really (0.07)</td>\n",
       "    </tr>\n",
       "    <tr>\n",
       "      <th>1</th>\n",
       "      <td>say (0.08)</td>\n",
       "      <td>acting (0.13)</td>\n",
       "      <td>plot (0.15)</td>\n",
       "      <td>anyone (0.06)</td>\n",
       "      <td>supposed (0.08)</td>\n",
       "      <td>came (0.04)</td>\n",
       "      <td>hour (0.08)</td>\n",
       "      <td>ever (0.11)</td>\n",
       "      <td>effort (0.04)</td>\n",
       "      <td>maybe (0.06)</td>\n",
       "    </tr>\n",
       "    <tr>\n",
       "      <th>2</th>\n",
       "      <td>rating (0.07)</td>\n",
       "      <td>poor (0.13)</td>\n",
       "      <td>could (0.14)</td>\n",
       "      <td>end (0.06)</td>\n",
       "      <td>making (0.06)</td>\n",
       "      <td>saw (0.03)</td>\n",
       "      <td>minute (0.08)</td>\n",
       "      <td>ever_seen (0.1)</td>\n",
       "      <td>overall (0.03)</td>\n",
       "      <td>mean (0.05)</td>\n",
       "    </tr>\n",
       "    <tr>\n",
       "      <th>3</th>\n",
       "      <td>something (0.07)</td>\n",
       "      <td>terrible (0.13)</td>\n",
       "      <td>instead (0.12)</td>\n",
       "      <td>problem (0.05)</td>\n",
       "      <td>would (0.05)</td>\n",
       "      <td>blockbuster (0.03)</td>\n",
       "      <td>got (0.07)</td>\n",
       "      <td>one_worst (0.08)</td>\n",
       "      <td>interesting (0.03)</td>\n",
       "      <td>laugh (0.04)</td>\n",
       "    </tr>\n",
       "    <tr>\n",
       "      <th>4</th>\n",
       "      <td>reason (0.05)</td>\n",
       "      <td>awful (0.13)</td>\n",
       "      <td>nothing (0.09)</td>\n",
       "      <td>happen (0.05)</td>\n",
       "      <td>wrong (0.04)</td>\n",
       "      <td>rented (0.03)</td>\n",
       "      <td>bored (0.06)</td>\n",
       "      <td>waste (0.07)</td>\n",
       "      <td>serious (0.03)</td>\n",
       "      <td>believe (0.04)</td>\n",
       "    </tr>\n",
       "    <tr>\n",
       "      <th>5</th>\n",
       "      <td>watching (0.05)</td>\n",
       "      <td>horrible (0.09)</td>\n",
       "      <td>enough (0.08)</td>\n",
       "      <td>depressing (0.04)</td>\n",
       "      <td>line (0.03)</td>\n",
       "      <td>series (0.03)</td>\n",
       "      <td>actually (0.05)</td>\n",
       "      <td>ever_made (0.06)</td>\n",
       "      <td>material (0.02)</td>\n",
       "      <td>saying (0.04)</td>\n",
       "    </tr>\n",
       "    <tr>\n",
       "      <th>6</th>\n",
       "      <td>please (0.04)</td>\n",
       "      <td>worse (0.08)</td>\n",
       "      <td>least (0.08)</td>\n",
       "      <td>make_sense (0.04)</td>\n",
       "      <td>usually (0.02)</td>\n",
       "      <td>twice (0.02)</td>\n",
       "      <td>wanted (0.04)</td>\n",
       "      <td>waste_time (0.06)</td>\n",
       "      <td>exciting (0.02)</td>\n",
       "      <td>seriously (0.04)</td>\n",
       "    </tr>\n",
       "    <tr>\n",
       "      <th>7</th>\n",
       "      <td>like (0.04)</td>\n",
       "      <td>script (0.07)</td>\n",
       "      <td>anything (0.08)</td>\n",
       "      <td>thing (0.04)</td>\n",
       "      <td>accent (0.02)</td>\n",
       "      <td>went_see (0.02)</td>\n",
       "      <td>seemed (0.04)</td>\n",
       "      <td>gave (0.05)</td>\n",
       "      <td>generally (0.02)</td>\n",
       "      <td>guess (0.03)</td>\n",
       "    </tr>\n",
       "    <tr>\n",
       "      <th>8</th>\n",
       "      <td>review (0.04)</td>\n",
       "      <td>cheap (0.06)</td>\n",
       "      <td>idea (0.07)</td>\n",
       "      <td>never (0.03)</td>\n",
       "      <td>might (0.02)</td>\n",
       "      <td>episode (0.02)</td>\n",
       "      <td>tried (0.04)</td>\n",
       "      <td>suck (0.05)</td>\n",
       "      <td>mixed (0.01)</td>\n",
       "      <td>hell (0.03)</td>\n",
       "    </tr>\n",
       "    <tr>\n",
       "      <th>9</th>\n",
       "      <td>recommend (0.04)</td>\n",
       "      <td>ok (0.06)</td>\n",
       "      <td>premise (0.05)</td>\n",
       "      <td>understand (0.03)</td>\n",
       "      <td>looking (0.02)</td>\n",
       "      <td>preview (0.01)</td>\n",
       "      <td>someone (0.04)</td>\n",
       "      <td>expect (0.04)</td>\n",
       "      <td>worked (0.01)</td>\n",
       "      <td>hate (0.03)</td>\n",
       "    </tr>\n",
       "  </tbody>\n",
       "</table>\n",
       "</div>"
      ],
      "text/plain": [
       "                 53               91               87                 33  \\\n",
       "0      movie (0.18)       bad (0.57)      even (0.18)       going (0.06)   \n",
       "1        say (0.08)    acting (0.13)      plot (0.15)      anyone (0.06)   \n",
       "2     rating (0.07)      poor (0.13)     could (0.14)         end (0.06)   \n",
       "3  something (0.07)  terrible (0.13)   instead (0.12)     problem (0.05)   \n",
       "4     reason (0.05)     awful (0.13)   nothing (0.09)      happen (0.05)   \n",
       "5   watching (0.05)  horrible (0.09)    enough (0.08)  depressing (0.04)   \n",
       "6     please (0.04)     worse (0.08)     least (0.08)  make_sense (0.04)   \n",
       "7       like (0.04)    script (0.07)  anything (0.08)       thing (0.04)   \n",
       "8     review (0.04)     cheap (0.06)      idea (0.07)       never (0.03)   \n",
       "9  recommend (0.04)        ok (0.06)   premise (0.05)  understand (0.03)   \n",
       "\n",
       "                54                  24               1                  80  \\\n",
       "0       made (0.1)         rent (0.06)    stupid (0.16)       worst (0.27)   \n",
       "1  supposed (0.08)         came (0.04)      hour (0.08)        ever (0.11)   \n",
       "2    making (0.06)          saw (0.03)    minute (0.08)    ever_seen (0.1)   \n",
       "3     would (0.05)  blockbuster (0.03)       got (0.07)   one_worst (0.08)   \n",
       "4     wrong (0.04)       rented (0.03)     bored (0.06)       waste (0.07)   \n",
       "5      line (0.03)       series (0.03)  actually (0.05)   ever_made (0.06)   \n",
       "6   usually (0.02)        twice (0.02)    wanted (0.04)  waste_time (0.06)   \n",
       "7    accent (0.02)     went_see (0.02)    seemed (0.04)        gave (0.05)   \n",
       "8     might (0.02)      episode (0.02)     tried (0.04)        suck (0.05)   \n",
       "9   looking (0.02)      preview (0.01)   someone (0.04)      expect (0.04)   \n",
       "\n",
       "                   22                25  \n",
       "0       pretty (0.06)     really (0.07)  \n",
       "1       effort (0.04)      maybe (0.06)  \n",
       "2      overall (0.03)       mean (0.05)  \n",
       "3  interesting (0.03)      laugh (0.04)  \n",
       "4      serious (0.03)    believe (0.04)  \n",
       "5     material (0.02)     saying (0.04)  \n",
       "6     exciting (0.02)  seriously (0.04)  \n",
       "7    generally (0.02)      guess (0.03)  \n",
       "8        mixed (0.01)       hell (0.03)  \n",
       "9       worked (0.01)       hate (0.03)  "
      ]
     },
     "execution_count": 106,
     "metadata": {},
     "output_type": "execute_result"
    }
   ],
   "source": [
    "c2_t"
   ]
  },
  {
   "cell_type": "code",
   "execution_count": null,
   "metadata": {},
   "outputs": [],
   "source": []
  }
 ],
 "metadata": {
  "kernelspec": {
   "display_name": "venv-wmdecomp",
   "language": "python",
   "name": "venv-wmdecomp"
  },
  "language_info": {
   "codemirror_mode": {
    "name": "ipython",
    "version": 3
   },
   "file_extension": ".py",
   "mimetype": "text/x-python",
   "name": "python",
   "nbconvert_exporter": "python",
   "pygments_lexer": "ipython3",
   "version": "3.8.3"
  }
 },
 "nbformat": 4,
 "nbformat_minor": 4
}

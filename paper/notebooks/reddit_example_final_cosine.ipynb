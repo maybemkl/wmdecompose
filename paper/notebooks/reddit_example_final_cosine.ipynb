{
 "cells": [
  {
   "cell_type": "code",
   "execution_count": 98,
   "metadata": {},
   "outputs": [],
   "source": [
    "import os\n",
    "import sys\n",
    "\n",
    "root_dir = os.path.join(os.getcwd(), '../../src/')\n",
    "sys.path.append(root_dir)"
   ]
  },
  {
   "cell_type": "code",
   "execution_count": 99,
   "metadata": {},
   "outputs": [
    {
     "name": "stdout",
     "output_type": "stream",
     "text": [
      "The autoreload extension is already loaded. To reload it, use:\n",
      "  %reload_ext autoreload\n"
     ]
    }
   ],
   "source": [
    "from collections import defaultdict\n",
    "from wmdecompose.documents import Document\n",
    "from wmdecompose.gale_shapeley import Matcher\n",
    "from wmdecompose.models import LC_RWMD, WMD, WMDPairs\n",
    "from wmdecompose.utils import *\n",
    "\n",
    "from gensim.models import KeyedVectors\n",
    "from nltk.corpus import stopwords\n",
    "from nltk.tokenize import ToktokTokenizer\n",
    "\n",
    "from random import shuffle,choices\n",
    "from scipy.spatial.distance import is_valid_dm, cdist\n",
    "from sklearn.decomposition import PCA\n",
    "from sklearn.feature_extraction.text import TfidfVectorizer\n",
    "from sklearn.manifold import TSNE\n",
    "from sklearn.metrics import silhouette_score\n",
    "from sklearn import cluster\n",
    "\n",
    "from redditcleaner import clean\n",
    "\n",
    "import matplotlib.pyplot as plt\n",
    "import numpy as np\n",
    "import pandas as pd\n",
    "import re\n",
    "import seaborn as sns\n",
    "import umap\n",
    "import spacy\n",
    "import pickle\n",
    "#import umap.plot\n",
    "\n",
    "%load_ext autoreload\n",
    "%autoreload 2"
   ]
  },
  {
   "cell_type": "markdown",
   "metadata": {},
   "source": [
    "## 1. Prepare reddit data"
   ]
  },
  {
   "cell_type": "markdown",
   "metadata": {},
   "source": [
    "### 1.1 Load data and stopwords; filter data for paper analysis."
   ]
  },
  {
   "cell_type": "code",
   "execution_count": 100,
   "metadata": {
    "scrolled": true
   },
   "outputs": [
    {
     "name": "stdout",
     "output_type": "stream",
     "text": [
      "CPU times: user 26.2 s, sys: 58 s, total: 1min 24s\n",
      "Wall time: 2min 43s\n"
     ]
    }
   ],
   "source": [
    "%%time\n",
    "\n",
    "# import spacy stopwords\n",
    "\n",
    "from spacy.lang.en.stop_words import STOP_WORDS\n",
    "stopword_list=STOP_WORDS\n",
    "\n",
    "# read reddit data\n",
    "\n",
    "PATH = \"../data/\"\n",
    "reddit_data = pd.read_json(f\"{PATH}self_posts_conservative_and_conspiracy_subs.json\",lines=True)"
   ]
  },
  {
   "cell_type": "code",
   "execution_count": 101,
   "metadata": {},
   "outputs": [],
   "source": [
    "# filter out other subs\n",
    "\n",
    "reddit_data = reddit_data[reddit_data.subreddit.isin([\"conspiracy\",\"The_Donald\"])]"
   ]
  },
  {
   "cell_type": "code",
   "execution_count": 102,
   "metadata": {},
   "outputs": [],
   "source": [
    "# add field for number of words\n",
    "\n",
    "reddit_data[\"length\"] = reddit_data[\"selftext\"].apply(lambda x: len(x.split()))\n",
    "\n",
    "# filter to at least 30 words\n",
    "\n",
    "reddit_data = reddit_data[reddit_data.length>=30].reset_index(drop=True)"
   ]
  },
  {
   "cell_type": "code",
   "execution_count": 103,
   "metadata": {},
   "outputs": [
    {
     "name": "stdout",
     "output_type": "stream",
     "text": [
      "subreddit   t0\n",
      "The_Donald  1     29855\n",
      "            0     12560\n",
      "conspiracy  0     13045\n",
      "            1      6075\n",
      "Name: t0, dtype: int64\n"
     ]
    }
   ],
   "source": [
    "# add dummies indicating time period (t0 or t1) - see paper for definitions\n",
    "\n",
    "reddit_data[\"t0\"] = [1 if (i < 1468209600) & (i>=1436598580) else 0 for i in reddit_data[\"created_utc\"]]\n",
    "reddit_data[\"t1\"] = [1 if i > 1535688000 else 0 for i in reddit_data[\"created_utc\"]]\n",
    "\n",
    "# filter\n",
    "\n",
    "reddit_data = reddit_data[(reddit_data.t0==1)|(reddit_data.t1==1)]\n",
    "print(reddit_data.groupby(\"subreddit\").t0.value_counts())"
   ]
  },
  {
   "cell_type": "code",
   "execution_count": 104,
   "metadata": {},
   "outputs": [
    {
     "name": "stdout",
     "output_type": "stream",
     "text": [
      "subreddit   t0\n",
      "The_Donald  0     5000\n",
      "            1     5000\n",
      "conspiracy  0     5000\n",
      "            1     5000\n",
      "Name: t0, dtype: int64\n"
     ]
    }
   ],
   "source": [
    "# sample\n",
    "\n",
    "s_size = 5000\n",
    "rs = 42\n",
    "\n",
    "sample = reddit_data.groupby([\"subreddit\", \"t0\"]).apply(lambda x: x.sample(s_size, random_state=rs)).reset_index(drop=True)\n",
    "print(sample.groupby(\"subreddit\").t0.value_counts())\n",
    "\n",
    "del reddit_data"
   ]
  },
  {
   "cell_type": "markdown",
   "metadata": {},
   "source": [
    "### 1.2 Remove special formatting and stopwords"
   ]
  },
  {
   "cell_type": "code",
   "execution_count": 105,
   "metadata": {},
   "outputs": [],
   "source": [
    "tokenizer = ToktokTokenizer()"
   ]
  },
  {
   "cell_type": "markdown",
   "metadata": {},
   "source": [
    "Remove stopwords before denoising, lemmatizing and removing special characters."
   ]
  },
  {
   "cell_type": "code",
   "execution_count": 106,
   "metadata": {},
   "outputs": [
    {
     "name": "stdout",
     "output_type": "stream",
     "text": [
      "CPU times: user 5.38 s, sys: 137 ms, total: 5.52 s\n",
      "Wall time: 5.64 s\n"
     ]
    }
   ],
   "source": [
    "%%time \n",
    "\n",
    "# combine title and body\n",
    "\n",
    "sample[\"full_text\"] = sample[\"title\"] + \". \" + sample[\"selftext\"]\n",
    "\n",
    "# remove URLs\n",
    "\n",
    "URL_REGEX = r\"((http|https)\\:\\/\\/)?[a-zA-Z0-9\\.\\/\\?\\:@\\-_=#]+\\.([a-zA-Z]){2,6}([a-zA-Z0-9\\.\\&\\/\\?\\:@\\-_=#])*\"\n",
    "sample['full_text'] =  sample['full_text'].apply(lambda x: re.sub(URL_REGEX,'', str(x)))\n",
    "\n",
    "# apply redditcleaner function\n",
    "\n",
    "sample['full_text'] = sample['full_text'].map(clean)\n",
    "\n",
    "# lowercase \n",
    "\n",
    "sample[\"full_text\"] = sample[\"full_text\"].str.lower()"
   ]
  },
  {
   "cell_type": "markdown",
   "metadata": {},
   "source": [
    "Lemmatize and remove stopwords with spaCy"
   ]
  },
  {
   "cell_type": "code",
   "execution_count": 107,
   "metadata": {},
   "outputs": [
    {
     "name": "stdout",
     "output_type": "stream",
     "text": [
      "CPU times: user 52.9 s, sys: 27.1 s, total: 1min 19s\n",
      "Wall time: 3min 8s\n"
     ]
    }
   ],
   "source": [
    "%%time\n",
    "\n",
    "nlp = spacy.load(\"en_core_web_sm\")\n",
    "\n",
    "posts = list(sample[\"full_text\"])\n",
    "\n",
    "lemmatized_list = []\n",
    "\n",
    "for doc in nlp.pipe(posts, batch_size=32, n_process=3, disable=[\"parser\", \"ner\"]):\n",
    "\n",
    "    lemmas = [token.lemma_.lower() for token in doc]\n",
    "    lemmas_no_stopwords = [lemma for lemma in lemmas if not lemma in stopword_list]\n",
    "    lemmatized = \" \".join(lemmas_no_stopwords)\n",
    "    lemmatized_list.append(lemmatized)\n",
    "    \n",
    "sample[\"full_text_clean\"] = lemmatized_list\n"
   ]
  },
  {
   "cell_type": "code",
   "execution_count": 108,
   "metadata": {},
   "outputs": [
    {
     "name": "stdout",
     "output_type": "stream",
     "text": [
      "how'd we miss this little gem?. i know hollywood hates conservatives but look at this trash from 2005:  i've not seen the movie but apparently a group of libtards invites scary conservatives to dinner and murder them. and this was pre-antifa. can you imagine the outrage if the roles were reversed? unfuckingbelieveable!\n",
      "\n",
      "miss little gem ? . know hollywood hate conservative look trash 2005 :   movie apparently group libtard invite scary conservative dinner murder . pre - antifa . imagine outrage role reverse ? unfuckingbelieveable !\n"
     ]
    }
   ],
   "source": [
    "print(sample[\"full_text\"][2])\n",
    "print()\n",
    "print(sample[\"full_text_clean\"][2])"
   ]
  },
  {
   "cell_type": "markdown",
   "metadata": {},
   "source": [
    "Denoise, remove special characters."
   ]
  },
  {
   "cell_type": "code",
   "execution_count": 109,
   "metadata": {},
   "outputs": [
    {
     "name": "stdout",
     "output_type": "stream",
     "text": [
      "CPU times: user 1.89 s, sys: 380 ms, total: 2.27 s\n",
      "Wall time: 2.66 s\n"
     ]
    }
   ],
   "source": [
    "%%time\n",
    "\n",
    "sample['full_text_clean']=sample['full_text_clean'].apply(denoise_text)\n",
    "sample['full_text_clean']=sample['full_text_clean'].apply(remove_special_characters)\n",
    "sample['full_text_clean']=sample['full_text_clean'].str.replace(\"ampamp\",\"\")"
   ]
  },
  {
   "cell_type": "markdown",
   "metadata": {},
   "source": [
    "Remove stopwords again, after other preprocessing."
   ]
  },
  {
   "cell_type": "code",
   "execution_count": 110,
   "metadata": {},
   "outputs": [
    {
     "name": "stdout",
     "output_type": "stream",
     "text": [
      "CPU times: user 4.21 s, sys: 89.2 ms, total: 4.3 s\n",
      "Wall time: 4.43 s\n"
     ]
    }
   ],
   "source": [
    "%%time \n",
    "\n",
    "sample['full_text_clean']= [remove_stopwords(r, stopword_list, tokenizer) for r in sample['full_text_clean']]"
   ]
  },
  {
   "cell_type": "code",
   "execution_count": 111,
   "metadata": {},
   "outputs": [
    {
     "name": "stdout",
     "output_type": "stream",
     "text": [
      "how'd we miss this little gem?. i know hollywood hates conservatives but look at this trash from 2005:  i've not seen the movie but apparently a group of libtards invites scary conservatives to dinner and murder them. and this was pre-antifa. can you imagine the outrage if the roles were reversed? unfuckingbelieveable!\n",
      "\n",
      "miss little gem know hollywood hate conservative look trash movie apparently group libtard invite scary conservative dinner murder pre antifa imagine outrage role reverse unfuckingbelieveable\n"
     ]
    }
   ],
   "source": [
    "print(sample[\"full_text\"][2])\n",
    "print()\n",
    "print(sample[\"full_text_clean\"][2])"
   ]
  },
  {
   "cell_type": "markdown",
   "metadata": {},
   "source": [
    "Find phrases."
   ]
  },
  {
   "cell_type": "code",
   "execution_count": 112,
   "metadata": {},
   "outputs": [],
   "source": [
    "PHRASING = True\n",
    "MIN = 100\n",
    "THRESHOLD = 500"
   ]
  },
  {
   "cell_type": "code",
   "execution_count": 113,
   "metadata": {},
   "outputs": [
    {
     "name": "stdout",
     "output_type": "stream",
     "text": [
      "Initializing bigram Phrases.\n",
      "Initializing trigram Phrases.\n",
      "Finding bigrams in data.\n",
      "Finding trigrams in data.\n",
      "CPU times: user 28.6 s, sys: 1.76 s, total: 30.3 s\n",
      "Wall time: 32.9 s\n"
     ]
    }
   ],
   "source": [
    "%%time\n",
    "\n",
    "if PHRASING:\n",
    "    sample['full_text_clean']= get_phrases([tokenizer.tokenize(i) for i in sample['full_text_clean']],\n",
    "                                        min_count = MIN, \n",
    "                                        threshold = THRESHOLD)"
   ]
  },
  {
   "cell_type": "code",
   "execution_count": 114,
   "metadata": {},
   "outputs": [],
   "source": [
    "sample[\"full_text_clean\"] = [\" \".join(post) for post in sample[\"full_text_clean\"]]"
   ]
  },
  {
   "cell_type": "markdown",
   "metadata": {},
   "source": [
    "Data _before_ preprocessing and phrasing."
   ]
  },
  {
   "cell_type": "code",
   "execution_count": 115,
   "metadata": {},
   "outputs": [
    {
     "data": {
      "text/plain": [
       "'next time you hear a lib pull the \"muh popular vote\" card, ask them these 5 questions and watch as their npc software crashes, saying \"error: rebuttal not found. divert, insult, or play race card. contact it dept if problem persists\").  question answer  - -   which group of states did trump primarily focus much of his campaign resources/time on? the rust belt (wisconsin, michigan, ohio, pennsylvania, and indiana)   which 2 states with a combined population of 60m(i.e. 20% of the entire us) did trump almost completely ignore? california &amp;amp; new york.   why did trump not even try to woo over 60m people? because he knows the electoral system, and there was no incentive to campaign in states you are guaranteed to lose   if there were no ec in 2016, and only the popular vote mattered, what would have changed? everything would be different. trump\\'s entire campaign strategy would have changed by investing huge amounts of resources/time into ca &amp;amp; ny  also question 5: why did op lie about there being 5 questions!? answer: he\\'s half-retarded at times (sowie)'"
      ]
     },
     "execution_count": 115,
     "metadata": {},
     "output_type": "execute_result"
    }
   ],
   "source": [
    "sample['full_text'][0]"
   ]
  },
  {
   "cell_type": "markdown",
   "metadata": {},
   "source": [
    "Data _after_ preprocessing and phrasing."
   ]
  },
  {
   "cell_type": "code",
   "execution_count": 116,
   "metadata": {},
   "outputs": [
    {
     "data": {
      "text/plain": [
       "'time hear lib pull muh popular_vote card ask_question watch npc software crash error rebuttal find divert insult play race card contact dept problem persist question_answer group state trump primarily focus campaign resource time rust_belt wisconsin_michigan ohio pennsylvania indiana state combined population mie entire trump completely_ignore california new_york trump try woo m people know electoral system incentive campaign state guarantee lose ec popular_vote matter change different trump entire campaign strategy change invest huge resource time ny question op lie question_answer half retarded time sowie'"
      ]
     },
     "execution_count": 116,
     "metadata": {},
     "output_type": "execute_result"
    }
   ],
   "source": [
    "sample['full_text_clean'][0]"
   ]
  },
  {
   "cell_type": "markdown",
   "metadata": {},
   "source": [
    "### 1.3 Separate r/conservative and r/The_Donald posts"
   ]
  },
  {
   "cell_type": "code",
   "execution_count": 117,
   "metadata": {},
   "outputs": [],
   "source": [
    "con = sample[sample.subreddit == \"conspiracy\"].sort_values(by=\"created_utc\").reset_index(drop=True)\n",
    "td = sample[sample.subreddit == \"The_Donald\"].sort_values(by=\"created_utc\").reset_index(drop=True)"
   ]
  },
  {
   "cell_type": "code",
   "execution_count": 118,
   "metadata": {},
   "outputs": [],
   "source": [
    "con = con.full_text_clean.tolist()\n",
    "td = td.full_text_clean.tolist()"
   ]
  },
  {
   "cell_type": "markdown",
   "metadata": {},
   "source": [
    "## 2. WMD"
   ]
  },
  {
   "cell_type": "markdown",
   "metadata": {},
   "source": [
    "### 2.1 Tokenize data, remove infrequent terms"
   ]
  },
  {
   "cell_type": "code",
   "execution_count": 119,
   "metadata": {},
   "outputs": [],
   "source": [
    "con_tok = list(map(lambda x: tokenize(x, tokenizer), con))\n",
    "td_tok = list(map(lambda x: tokenize(x, tokenizer), td))"
   ]
  },
  {
   "cell_type": "code",
   "execution_count": 120,
   "metadata": {},
   "outputs": [
    {
     "name": "stdout",
     "output_type": "stream",
     "text": [
      "1841640\n",
      "1621375\n"
     ]
    }
   ],
   "source": [
    "# REMOVE WORDS OCCURRINIG <20 times\n",
    "\n",
    "# 1. get list of word counts\n",
    "\n",
    "all_tok = con_tok + td_tok\n",
    "all_tok_flat = [item for sublist in all_tok for item in sublist]\n",
    "print(len(all_tok_flat))\n",
    "all_tok_flat = pd.Series(all_tok_flat)\n",
    "word_counts = all_tok_flat.value_counts()\n",
    "\n",
    "# 2. remove words occurring less than 20 times\n",
    "\n",
    "thresh = 20\n",
    "\n",
    "words_to_keep = list(word_counts[word_counts>=thresh].index)\n",
    "\n",
    "# 3. filter out words\n",
    "\n",
    "con_tok = [list(filter(lambda word: word in words_to_keep, l)) for l in con_tok]\n",
    "td_tok = [list(filter(lambda word: word in words_to_keep, l)) for l in td_tok]\n",
    "\n",
    "print(len([item for sublist in con_tok+td_tok for item in sublist]))\n",
    "\n"
   ]
  },
  {
   "cell_type": "code",
   "execution_count": 121,
   "metadata": {},
   "outputs": [],
   "source": [
    "con_sample = [\" \".join(doc) for doc in con_tok]\n",
    "td_sample = [\" \".join(doc) for doc in td_tok]"
   ]
  },
  {
   "cell_type": "code",
   "execution_count": 122,
   "metadata": {},
   "outputs": [
    {
     "name": "stdout",
     "output_type": "stream",
     "text": [
      "10000\n",
      "10000\n"
     ]
    }
   ],
   "source": [
    "print(len(con_sample))\n",
    "print(len(td_sample))"
   ]
  },
  {
   "cell_type": "markdown",
   "metadata": {},
   "source": [
    "### 2.2 Load pretrained Google News W2V model"
   ]
  },
  {
   "cell_type": "code",
   "execution_count": 123,
   "metadata": {},
   "outputs": [],
   "source": [
    "finetuned = True"
   ]
  },
  {
   "cell_type": "code",
   "execution_count": 124,
   "metadata": {},
   "outputs": [
    {
     "name": "stdout",
     "output_type": "stream",
     "text": [
      "Loading GoogleNews Vectors finetuned using Reddit data.\n",
      "CPU times: user 47.6 s, sys: 885 ms, total: 48.5 s\n",
      "Wall time: 49.5 s\n"
     ]
    }
   ],
   "source": [
    "if not finetuned:\n",
    "    print(\"Loading GoogleNews Vectors\")\n",
    "    %time model = KeyedVectors.load_word2vec_format('/Users/jack/Downloads/GoogleNews-vectors-negative300.bin.gz', binary=True)\n",
    "else:\n",
    "    print(\"Loading GoogleNews Vectors finetuned using Reddit data.\")\n",
    "    %time model = KeyedVectors.load_word2vec_format('../../embeddings/reddit_w2v.txt', binary=False)"
   ]
  },
  {
   "cell_type": "code",
   "execution_count": 125,
   "metadata": {},
   "outputs": [
    {
     "data": {
      "text/plain": [
       "0.5155870914459229"
      ]
     },
     "execution_count": 125,
     "metadata": {},
     "output_type": "execute_result"
    }
   ],
   "source": [
    "model.distance(\"trump\", \"conservative\")"
   ]
  },
  {
   "cell_type": "code",
   "execution_count": 126,
   "metadata": {},
   "outputs": [
    {
     "data": {
      "text/plain": [
       "0.6331793665885925"
      ]
     },
     "execution_count": 126,
     "metadata": {},
     "output_type": "execute_result"
    }
   ],
   "source": [
    "model.distance(\"trump\",\"progressive\")"
   ]
  },
  {
   "cell_type": "code",
   "execution_count": 127,
   "metadata": {},
   "outputs": [
    {
     "data": {
      "text/plain": [
       "0.26222318410873413"
      ]
     },
     "execution_count": 127,
     "metadata": {},
     "output_type": "execute_result"
    }
   ],
   "source": [
    "model.distance(\"centipede\",\"maga\")"
   ]
  },
  {
   "cell_type": "code",
   "execution_count": 128,
   "metadata": {},
   "outputs": [
    {
     "data": {
      "text/plain": [
       "0.3817483186721802"
      ]
     },
     "execution_count": 128,
     "metadata": {},
     "output_type": "execute_result"
    }
   ],
   "source": [
    "model.distance(\"conspiracy\",\"theory\")"
   ]
  },
  {
   "cell_type": "markdown",
   "metadata": {},
   "source": [
    "### 2.3 Load corpus and remove OOV words"
   ]
  },
  {
   "cell_type": "code",
   "execution_count": 129,
   "metadata": {
    "scrolled": true
   },
   "outputs": [
    {
     "name": "stderr",
     "output_type": "stream",
     "text": [
      "/opt/anaconda3/lib/python3.7/site-packages/sklearn/feature_extraction/text.py:507: UserWarning: The parameter 'token_pattern' will not be used since 'tokenizer' is not None'\n",
      "  warnings.warn(\"The parameter 'token_pattern' will not be used\"\n"
     ]
    },
    {
     "name": "stdout",
     "output_type": "stream",
     "text": [
      "CPU times: user 3.22 s, sys: 193 ms, total: 3.42 s\n",
      "Wall time: 3.67 s\n"
     ]
    },
    {
     "data": {
      "text/plain": [
       "TfidfVectorizer(analyzer='word', binary=False, decode_error='strict',\n",
       "                dtype=<class 'numpy.float64'>, encoding='utf-8',\n",
       "                input='content', lowercase=True, max_df=1.0, max_features=None,\n",
       "                min_df=1, ngram_range=(1, 1), norm='l1', preprocessor=None,\n",
       "                smooth_idf=True, stop_words=None, strip_accents=None,\n",
       "                sublinear_tf=False, token_pattern='(?u)\\\\b\\\\w\\\\w+\\\\b',\n",
       "                tokenizer=<function tfidf_tokenize at 0x1a1e75d830>,\n",
       "                use_idf=False, vocabulary=None)"
      ]
     },
     "execution_count": 129,
     "metadata": {},
     "output_type": "execute_result"
    }
   ],
   "source": [
    "%%time\n",
    "\n",
    "corpus = con_sample + td_sample\n",
    "vectorizer = TfidfVectorizer(use_idf=False, tokenizer=tfidf_tokenize, norm='l1')\n",
    "vectorizer.fit(corpus)"
   ]
  },
  {
   "cell_type": "code",
   "execution_count": 130,
   "metadata": {
    "scrolled": true
   },
   "outputs": [
    {
     "name": "stdout",
     "output_type": "stream",
     "text": [
      "CPU times: user 11.6 ms, sys: 4.73 ms, total: 16.3 ms\n",
      "Wall time: 21.2 ms\n"
     ]
    }
   ],
   "source": [
    "%time oov = [word for word in vectorizer.get_feature_names() if word not in model.key_to_index.keys()]"
   ]
  },
  {
   "cell_type": "code",
   "execution_count": 131,
   "metadata": {},
   "outputs": [
    {
     "data": {
      "text/plain": [
       "407"
      ]
     },
     "execution_count": 131,
     "metadata": {},
     "output_type": "execute_result"
    }
   ],
   "source": [
    "len(oov)"
   ]
  },
  {
   "cell_type": "code",
   "execution_count": 132,
   "metadata": {},
   "outputs": [
    {
     "name": "stdout",
     "output_type": "stream",
     "text": [
      "['&#9_', ';', '\\\\', '\\\\\\\\\\\\\\\\\\\\\\\\\\\\\\\\\\\\\\\\', '\\\\_\\\\', '\\\\_giuffre', '\\\\_q', ']', '^', '^_^', '_&#9_', '_dr', '_negro', 'abuse_child', 'accord_official', 'accusation_politically', 'african_&#9_', 'algorithmic_fairness_small', 'alternative_news', 'american_currency', 'american_european', 'american_revolution', 'ampnbsp', 'ampnbsp_hillary', 'andor', 'anti_illegal', 'anti_vaccine', 'april_th', 'area_include', 'august_th', 'avoid_need', 'bad_guy', 'ban_gun', 'ban_muslim', 'ban_r', 'ban_sub', 'beat_hillary', 'beyonc', 'big_bank', 'big_business', 'big_oil', 'big_problem', 'black_man', 'black_white', 'body_mind', 'bombing_justified', 'broken_country', 'bush_clinton', 'cause_collapse', 'cause_problem']\n"
     ]
    }
   ],
   "source": [
    "print(oov[:50])"
   ]
  },
  {
   "cell_type": "code",
   "execution_count": 133,
   "metadata": {},
   "outputs": [
    {
     "name": "stdout",
     "output_type": "stream",
     "text": [
      "CPU times: user 5.98 s, sys: 70.9 ms, total: 6.05 s\n",
      "Wall time: 6.19 s\n",
      "CPU times: user 3.68 s, sys: 70.4 ms, total: 3.75 s\n",
      "Wall time: 3.89 s\n"
     ]
    }
   ],
   "source": [
    "%time con_sample = list(map(lambda x: remove_oov(x, tokenizer, oov), con_sample))\n",
    "%time td_sample = list(map(lambda x: remove_oov(x, tokenizer, oov), td_sample))"
   ]
  },
  {
   "cell_type": "code",
   "execution_count": 134,
   "metadata": {},
   "outputs": [
    {
     "data": {
      "text/plain": [
       "'disgusting marine advertisement outside high_school post outside high_school think cross write dead brother serve goal elite op deliver care advertisement'"
      ]
     },
     "execution_count": 134,
     "metadata": {},
     "output_type": "execute_result"
    }
   ],
   "source": [
    "con_sample[5]"
   ]
  },
  {
   "cell_type": "code",
   "execution_count": 135,
   "metadata": {},
   "outputs": [
    {
     "name": "stdout",
     "output_type": "stream",
     "text": [
      "CPU times: user 16 µs, sys: 2 µs, total: 18 µs\n",
      "Wall time: 22.9 µs\n",
      "CPU times: user 3.52 s, sys: 81.5 ms, total: 3.6 s\n",
      "Wall time: 3.71 s\n"
     ]
    },
    {
     "data": {
      "text/plain": [
       "TfidfVectorizer(analyzer='word', binary=False, decode_error='strict',\n",
       "                dtype=<class 'numpy.float64'>, encoding='utf-8',\n",
       "                input='content', lowercase=True, max_df=1.0, max_features=None,\n",
       "                min_df=1, ngram_range=(1, 1), norm='l1', preprocessor=None,\n",
       "                smooth_idf=True, stop_words=None, strip_accents=None,\n",
       "                sublinear_tf=False, token_pattern='(?u)\\\\b\\\\w\\\\w+\\\\b',\n",
       "                tokenizer=<function tfidf_tokenize at 0x1a1e75d830>,\n",
       "                use_idf=True, vocabulary=None)"
      ]
     },
     "execution_count": 135,
     "metadata": {},
     "output_type": "execute_result"
    }
   ],
   "source": [
    "corpus = con_sample + td_sample\n",
    "\n",
    "%time vectorizer = TfidfVectorizer(use_idf=True, tokenizer=tfidf_tokenize,norm='l1')\n",
    "%time vectorizer.fit(corpus)"
   ]
  },
  {
   "cell_type": "markdown",
   "metadata": {},
   "source": [
    "Bag-of-words vectorizer."
   ]
  },
  {
   "cell_type": "code",
   "execution_count": 136,
   "metadata": {},
   "outputs": [
    {
     "name": "stdout",
     "output_type": "stream",
     "text": [
      "CPU times: user 4 µs, sys: 1 µs, total: 5 µs\n",
      "Wall time: 9.3 µs\n"
     ]
    }
   ],
   "source": [
    "%time\n",
    "con_nbow = vectorizer.transform(con_sample)\n",
    "td_nbow = vectorizer.transform(td_sample)"
   ]
  },
  {
   "cell_type": "code",
   "execution_count": 137,
   "metadata": {},
   "outputs": [],
   "source": [
    "con_tok = list(map(lambda x: tokenize(x, tokenizer), con_sample))\n",
    "td_tok =list(map(lambda x: tokenize(x, tokenizer), td_sample))"
   ]
  },
  {
   "cell_type": "code",
   "execution_count": 138,
   "metadata": {},
   "outputs": [
    {
     "name": "stdout",
     "output_type": "stream",
     "text": [
      "['disgusting', 'marine', 'advertisement', 'outside', 'high_school', 'post', 'outside', 'high_school', 'think', 'cross', 'write', 'dead', 'brother', 'serve', 'goal', 'elite', 'op', 'deliver', 'care', 'advertisement']\n"
     ]
    }
   ],
   "source": [
    "print(con_tok[5][:20])"
   ]
  },
  {
   "cell_type": "code",
   "execution_count": 139,
   "metadata": {},
   "outputs": [
    {
     "name": "stdout",
     "output_type": "stream",
     "text": [
      "CPU times: user 11 ms, sys: 449 µs, total: 11.5 ms\n",
      "Wall time: 11.1 ms\n"
     ]
    }
   ],
   "source": [
    "%time oov_ = [word for word in vectorizer.get_feature_names() if word not in model.key_to_index.keys()]"
   ]
  },
  {
   "cell_type": "code",
   "execution_count": 140,
   "metadata": {},
   "outputs": [
    {
     "data": {
      "text/plain": [
       "0"
      ]
     },
     "execution_count": 140,
     "metadata": {},
     "output_type": "execute_result"
    }
   ],
   "source": [
    "len(oov_)"
   ]
  },
  {
   "cell_type": "markdown",
   "metadata": {},
   "source": [
    "Remove empty docs, and make sure both samples are same size"
   ]
  },
  {
   "cell_type": "code",
   "execution_count": 141,
   "metadata": {},
   "outputs": [
    {
     "name": "stdout",
     "output_type": "stream",
     "text": [
      "[]\n",
      "[3675, 3825, 4121]\n"
     ]
    }
   ],
   "source": [
    "con_tok = list(map(lambda x: tokenize(x, tokenizer), con_sample))\n",
    "td_tok = list(map(lambda x: tokenize(x, tokenizer), td_sample))\n",
    "\n",
    "con_tok_empty = [c for c,i in enumerate(con_tok) if len(i)==0]\n",
    "td_tok_empty = [c for c,i in enumerate(td_tok) if len(i)==0]\n",
    "\n",
    "print(con_tok_empty)\n",
    "print(td_tok_empty)"
   ]
  },
  {
   "cell_type": "code",
   "execution_count": 142,
   "metadata": {},
   "outputs": [],
   "source": [
    "for i in sorted(td_tok_empty,reverse=True):\n",
    "    del td_tok[i],td_sample[i], con_tok[i],con_sample[i]\n",
    "    \n"
   ]
  },
  {
   "cell_type": "code",
   "execution_count": 143,
   "metadata": {},
   "outputs": [
    {
     "name": "stdout",
     "output_type": "stream",
     "text": [
      "9997 9997\n"
     ]
    }
   ],
   "source": [
    "print(len(con_tok),len(td_tok))\n",
    "\n",
    "con_nbow = vectorizer.transform(con_sample)\n",
    "td_nbow = vectorizer.transform(td_sample)"
   ]
  },
  {
   "cell_type": "markdown",
   "metadata": {},
   "source": [
    "### 2.4 Get features and embeddings"
   ]
  },
  {
   "cell_type": "code",
   "execution_count": 144,
   "metadata": {},
   "outputs": [],
   "source": [
    "features = vectorizer.get_feature_names()\n",
    "word2idx = {word: idx for idx, word in enumerate(vectorizer.get_feature_names())}\n",
    "idx2word = {idx: word for idx, word in enumerate(vectorizer.get_feature_names())}"
   ]
  },
  {
   "cell_type": "markdown",
   "metadata": {},
   "source": [
    "Get the embedding matrix \"E\" for all features."
   ]
  },
  {
   "cell_type": "code",
   "execution_count": 145,
   "metadata": {},
   "outputs": [],
   "source": [
    "E = model[features]\n"
   ]
  },
  {
   "cell_type": "markdown",
   "metadata": {},
   "source": [
    "### 2.5 Cluster"
   ]
  },
  {
   "cell_type": "markdown",
   "metadata": {},
   "source": [
    "In order to make the results of the WMD model more interpretable, we add the option to inspect the output not only by individual words, but also by *word clusters*. We do this by clustering the input words with two different algorithms\n",
    "and assigning each word to a cluster."
   ]
  },
  {
   "cell_type": "markdown",
   "metadata": {},
   "source": [
    "#### 2.5.1 Kmeans"
   ]
  },
  {
   "cell_type": "markdown",
   "metadata": {},
   "source": [
    "First, we get the embeddings for the words that are in our feature space."
   ]
  },
  {
   "cell_type": "code",
   "execution_count": 146,
   "metadata": {},
   "outputs": [],
   "source": [
    "X = model[features]"
   ]
  },
  {
   "cell_type": "markdown",
   "metadata": {},
   "source": [
    "Then we select the number of clusters we want, initialize the Kmeans model and fit it."
   ]
  },
  {
   "cell_type": "code",
   "execution_count": 147,
   "metadata": {},
   "outputs": [
    {
     "name": "stdout",
     "output_type": "stream",
     "text": [
      "CPU times: user 7 µs, sys: 2 µs, total: 9 µs\n",
      "Wall time: 14.1 µs\n"
     ]
    }
   ],
   "source": [
    "%%time\n",
    "\n",
    "K = range(10,110, 10)"
   ]
  },
  {
   "cell_type": "markdown",
   "metadata": {},
   "source": [
    "Assign labels and centroids to separate variables for later use."
   ]
  },
  {
   "cell_type": "markdown",
   "metadata": {},
   "source": [
    "#### 2.5.2 T-SNE + Kmeans"
   ]
  },
  {
   "cell_type": "code",
   "execution_count": 148,
   "metadata": {},
   "outputs": [],
   "source": [
    "method='barnes_hut'\n",
    "n_components = 2\n",
    "verbose = 1"
   ]
  },
  {
   "cell_type": "code",
   "execution_count": 149,
   "metadata": {},
   "outputs": [
    {
     "name": "stdout",
     "output_type": "stream",
     "text": [
      "[t-SNE] Computing 91 nearest neighbors...\n",
      "[t-SNE] Indexed 9349 samples in 0.155s...\n",
      "[t-SNE] Computed neighbors for 9349 samples in 46.836s...\n",
      "[t-SNE] Computed conditional probabilities for sample 1000 / 9349\n",
      "[t-SNE] Computed conditional probabilities for sample 2000 / 9349\n",
      "[t-SNE] Computed conditional probabilities for sample 3000 / 9349\n",
      "[t-SNE] Computed conditional probabilities for sample 4000 / 9349\n",
      "[t-SNE] Computed conditional probabilities for sample 5000 / 9349\n",
      "[t-SNE] Computed conditional probabilities for sample 6000 / 9349\n",
      "[t-SNE] Computed conditional probabilities for sample 7000 / 9349\n",
      "[t-SNE] Computed conditional probabilities for sample 8000 / 9349\n",
      "[t-SNE] Computed conditional probabilities for sample 9000 / 9349\n",
      "[t-SNE] Computed conditional probabilities for sample 9349 / 9349\n",
      "[t-SNE] Mean sigma: 0.682172\n",
      "[t-SNE] KL divergence after 250 iterations with early exaggeration: 92.855957\n",
      "[t-SNE] KL divergence after 1000 iterations: 2.825847\n"
     ]
    }
   ],
   "source": [
    "E_tsne = TSNE(n_components=n_components, method=method, verbose=verbose).fit_transform(E)"
   ]
  },
  {
   "cell_type": "code",
   "execution_count": 150,
   "metadata": {},
   "outputs": [
    {
     "data": {
      "image/png": "[encoded data removed]",
      "text/plain": [
       "<Figure size 432x288 with 1 Axes>"
      ]
     },
     "metadata": {
      "needs_background": "light"
     },
     "output_type": "display_data"
    }
   ],
   "source": [
    "plt.scatter(E_tsne[:, 0], E_tsne[:, 1], s=1);"
   ]
  },
  {
   "cell_type": "code",
   "execution_count": 151,
   "metadata": {},
   "outputs": [
    {
     "name": "stdout",
     "output_type": "stream",
     "text": [
      "For n_clusters = 10 The average silhouette_score is : 0.36264163\n",
      "For n_clusters = 20 The average silhouette_score is : 0.3685452\n",
      "For n_clusters = 30 The average silhouette_score is : 0.3633071\n",
      "For n_clusters = 40 The average silhouette_score is : 0.36219892\n",
      "For n_clusters = 50 The average silhouette_score is : 0.36440107\n",
      "For n_clusters = 60 The average silhouette_score is : 0.3665684\n",
      "For n_clusters = 70 The average silhouette_score is : 0.36834437\n",
      "For n_clusters = 80 The average silhouette_score is : 0.36999822\n",
      "For n_clusters = 90 The average silhouette_score is : 0.3654861\n",
      "For n_clusters = 100 The average silhouette_score is : 0.36357018\n",
      "CPU times: user 1min 1s, sys: 5.92 s, total: 1min 7s\n",
      "Wall time: 43.5 s\n"
     ]
    }
   ],
   "source": [
    "%%time\n",
    "\n",
    "tsne_ssd, tsne_silhouette = kmeans_search(E_tsne, K)"
   ]
  },
  {
   "cell_type": "code",
   "execution_count": 152,
   "metadata": {
    "scrolled": true
   },
   "outputs": [
    {
     "data": {
      "image/png": "[encoded data removed]",
      "text/plain": [
       "<Figure size 432x288 with 1 Axes>"
      ]
     },
     "metadata": {
      "needs_background": "light"
     },
     "output_type": "display_data"
    }
   ],
   "source": [
    "plot_kmeans(K,tsne_ssd,\"elbow\")"
   ]
  },
  {
   "cell_type": "code",
   "execution_count": 153,
   "metadata": {},
   "outputs": [
    {
     "data": {
      "image/png": "[encoded data removed]",
      "text/plain": [
       "<Figure size 432x288 with 1 Axes>"
      ]
     },
     "metadata": {
      "needs_background": "light"
     },
     "output_type": "display_data"
    }
   ],
   "source": [
    "plot_kmeans(K,tsne_silhouette,\"silhouette\")"
   ]
  },
  {
   "cell_type": "markdown",
   "metadata": {},
   "source": [
    "#### 2.5.5 Choose clustering model"
   ]
  },
  {
   "cell_type": "code",
   "execution_count": 154,
   "metadata": {},
   "outputs": [],
   "source": [
    "k = 100"
   ]
  },
  {
   "cell_type": "code",
   "execution_count": 155,
   "metadata": {},
   "outputs": [
    {
     "name": "stdout",
     "output_type": "stream",
     "text": [
      "CPU times: user 2.17 s, sys: 181 ms, total: 2.35 s\n",
      "Wall time: 2.36 s\n"
     ]
    }
   ],
   "source": [
    "%%time\n",
    "\n",
    "km_tsne = cluster.KMeans(n_clusters=k,max_iter=300).fit(E_tsne)\n",
    "labels = km_tsne.labels_"
   ]
  },
  {
   "cell_type": "markdown",
   "metadata": {},
   "source": [
    "Create an index that maps each word to a cluster."
   ]
  },
  {
   "cell_type": "code",
   "execution_count": 156,
   "metadata": {},
   "outputs": [],
   "source": [
    "word2cluster = {features[idx]: cl for idx, cl in enumerate(labels)}"
   ]
  },
  {
   "cell_type": "markdown",
   "metadata": {},
   "source": [
    "Now, conversely, create an index that maps each cluster to a word."
   ]
  },
  {
   "cell_type": "code",
   "execution_count": 157,
   "metadata": {},
   "outputs": [],
   "source": [
    "cluster2words = defaultdict(list)\n",
    "for key, value in word2cluster.items():\n",
    "    cluster2words[value].append(key)"
   ]
  },
  {
   "cell_type": "markdown",
   "metadata": {},
   "source": [
    "### 2.6 Initialize documents"
   ]
  },
  {
   "cell_type": "markdown",
   "metadata": {},
   "source": [
    "Transform all reviews into \"documents\", each with a set of weights per word in the corpus (\"nbow\"), the sum of these weights (\"weights_sum\"), the indices of the words in the documents (\"idxs\") and the word vectors corresponding to each word (\"vecs\")."
   ]
  },
  {
   "cell_type": "code",
   "execution_count": 158,
   "metadata": {
    "scrolled": true
   },
   "outputs": [
    {
     "data": {
      "text/plain": [
       "<1x9349 sparse matrix of type '<class 'numpy.float64'>'\n",
       "\twith 153 stored elements in Compressed Sparse Row format>"
      ]
     },
     "execution_count": 158,
     "metadata": {},
     "output_type": "execute_result"
    }
   ],
   "source": [
    "con_nbow[0]"
   ]
  },
  {
   "cell_type": "code",
   "execution_count": 159,
   "metadata": {},
   "outputs": [],
   "source": [
    "# import random\n",
    "# random.seed(42)"
   ]
  },
  {
   "cell_type": "code",
   "execution_count": 160,
   "metadata": {},
   "outputs": [
    {
     "name": "stdout",
     "output_type": "stream",
     "text": [
      "CPU times: user 10.5 s, sys: 24.3 s, total: 34.8 s\n",
      "Wall time: 57.3 s\n"
     ]
    }
   ],
   "source": [
    "%%time \n",
    "\n",
    "con_docs, td_docs = [], []\n",
    "\n",
    "for idx, doc in enumerate(con_tok):\n",
    "    con_docs.append(Document(doc, con_nbow[idx], word2idx, E))\n",
    "    \n",
    "for idx, doc in enumerate(td_tok):\n",
    "    td_docs.append(Document(doc, td_nbow[idx], word2idx, E))"
   ]
  },
  {
   "cell_type": "markdown",
   "metadata": {},
   "source": [
    "### 2.7 Linear-Complexity Relaxed WMD (LC-RWMD)"
   ]
  },
  {
   "cell_type": "markdown",
   "metadata": {},
   "source": [
    "Run the [Linear-Complexity Relaxed WMD](https://arxiv.org/abs/1711.07227) to get the distances between all conspiracy and all TD posts. This is performed for the t0 corpus and for the t1 corpus."
   ]
  },
  {
   "cell_type": "code",
   "execution_count": 161,
   "metadata": {},
   "outputs": [],
   "source": [
    "# initialize LCRWMD\n",
    "\n",
    "lc_rwmd_t0 = LC_RWMD(con_docs[:4997], td_docs[:4997],con_nbow[:4997],td_nbow[:4997],E)\n",
    "lc_rwmd_t1 = LC_RWMD(con_docs[4997:], td_docs[4997:],con_nbow[4997:],td_nbow[4997:],E)"
   ]
  },
  {
   "cell_type": "code",
   "execution_count": 162,
   "metadata": {},
   "outputs": [
    {
     "name": "stdout",
     "output_type": "stream",
     "text": [
      "CPU times: user 1h 53min 5s, sys: 23min 5s, total: 2h 16min 10s\n",
      "Wall time: 34min 23s\n",
      "CPU times: user 1h 54min 58s, sys: 23min 10s, total: 2h 18min 8s\n",
      "Wall time: 34min 43s\n"
     ]
    }
   ],
   "source": [
    "# get cosine distances\n",
    "\n",
    "%time lc_rwmd_t0.get_D('cosine')\n",
    "%time lc_rwmd_t1.get_D('cosine')"
   ]
  },
  {
   "cell_type": "code",
   "execution_count": 163,
   "metadata": {},
   "outputs": [],
   "source": [
    "# write pickle to easily switch between cosine and euclidean if desired\n",
    "\n",
    "# pickle.dump(lc_rwmd_t0,open(\"../checkpoints/lc_rwmd_t0_cosine.p\",\"wb\"))\n",
    "# pickle.dump(lc_rwmd_t1,open(\"../checkpoints/lc_rwmd_t1_cosine.p\",\"wb\"))"
   ]
  },
  {
   "cell_type": "code",
   "execution_count": 164,
   "metadata": {},
   "outputs": [],
   "source": [
    "# load pickle\n",
    "\n",
    "# lc_rwmd_t0 = pickle.load(open(\"../checkpoints/lc_rwmd_t0_cosine.p\",\"rb\"))\n",
    "# lc_rwmd_t1 = pickle.load(open(\"../checkpoints/lc_rwmd_t1_cosine.p\",\"rb\"))"
   ]
  },
  {
   "cell_type": "code",
   "execution_count": 165,
   "metadata": {},
   "outputs": [
    {
     "name": "stdout",
     "output_type": "stream",
     "text": [
      "Mean of all 25M pairwise LCRWMD distances at t0: 3.5098675934671815\n",
      "Mean of all 25M pairwise LCRWMD distances at t1: 3.47743125646888\n"
     ]
    }
   ],
   "source": [
    "print(f\"Mean of all 25M pairwise LCRWMD distances at t0: {np.concatenate(lc_rwmd_t0.D).mean()}\")\n",
    "print(f\"Mean of all 25M pairwise LCRWMD distances at t1: {np.concatenate(lc_rwmd_t1.D).mean()}\")"
   ]
  },
  {
   "cell_type": "code",
   "execution_count": 166,
   "metadata": {
    "scrolled": true
   },
   "outputs": [
    {
     "name": "stdout",
     "output_type": "stream",
     "text": [
      "0\n",
      "Getting distances of random pairs...\n",
      "Calculated distances between approximately 0 documents.\n",
      "Calculated distances between approximately 1000 documents.\n",
      "Calculated distances between approximately 2000 documents.\n",
      "Calculated distances between approximately 3000 documents.\n",
      "Calculated distances between approximately 4000 documents.\n",
      "Calculated distances between approximately 0 documents.\n",
      "Calculated distances between approximately 1000 documents.\n",
      "Calculated distances between approximately 2000 documents.\n",
      "Calculated distances between approximately 3000 documents.\n",
      "Calculated distances between approximately 4000 documents.\n",
      "1\n",
      "Getting distances of random pairs...\n",
      "Calculated distances between approximately 0 documents.\n",
      "Calculated distances between approximately 1000 documents.\n",
      "Calculated distances between approximately 2000 documents.\n",
      "Calculated distances between approximately 3000 documents.\n",
      "Calculated distances between approximately 4000 documents.\n",
      "Calculated distances between approximately 0 documents.\n",
      "Calculated distances between approximately 1000 documents.\n",
      "Calculated distances between approximately 2000 documents.\n",
      "Calculated distances between approximately 3000 documents.\n",
      "Calculated distances between approximately 4000 documents.\n",
      "2\n",
      "Getting distances of random pairs...\n",
      "Calculated distances between approximately 0 documents.\n",
      "Calculated distances between approximately 1000 documents.\n",
      "Calculated distances between approximately 2000 documents.\n",
      "Calculated distances between approximately 3000 documents.\n",
      "Calculated distances between approximately 4000 documents.\n",
      "Calculated distances between approximately 0 documents.\n",
      "Calculated distances between approximately 1000 documents.\n",
      "Calculated distances between approximately 2000 documents.\n",
      "Calculated distances between approximately 3000 documents.\n",
      "Calculated distances between approximately 4000 documents.\n",
      "3\n",
      "Getting distances of random pairs...\n",
      "Calculated distances between approximately 0 documents.\n",
      "Calculated distances between approximately 1000 documents.\n",
      "Calculated distances between approximately 2000 documents.\n",
      "Calculated distances between approximately 3000 documents.\n",
      "Calculated distances between approximately 4000 documents.\n",
      "Calculated distances between approximately 0 documents.\n",
      "Calculated distances between approximately 1000 documents.\n",
      "Calculated distances between approximately 2000 documents.\n",
      "Calculated distances between approximately 3000 documents.\n",
      "Calculated distances between approximately 4000 documents.\n",
      "4\n",
      "Getting distances of random pairs...\n",
      "Calculated distances between approximately 0 documents.\n",
      "Calculated distances between approximately 1000 documents.\n",
      "Calculated distances between approximately 2000 documents.\n",
      "Calculated distances between approximately 3000 documents.\n",
      "Calculated distances between approximately 4000 documents.\n",
      "Calculated distances between approximately 0 documents.\n",
      "Calculated distances between approximately 1000 documents.\n",
      "Calculated distances between approximately 2000 documents.\n",
      "Calculated distances between approximately 3000 documents.\n",
      "Calculated distances between approximately 4000 documents.\n"
     ]
    }
   ],
   "source": [
    "# RANDOM PAIRING TRIAL\n",
    "\n",
    "from scipy.stats import ttest_ind\n",
    "\n",
    "\n",
    "t0_distros = []\n",
    "t1_distros = []\n",
    "t_statistics = []\n",
    "p_values = []\n",
    "\n",
    "n = 5\n",
    "\n",
    "for i in range(n):\n",
    "    \n",
    "    print(i)\n",
    "\n",
    "    # generate random pairs\n",
    "\n",
    "    con_idx0, td_idx0 = [list(range(0,4997)) for r in range(2)] \n",
    "    con_idx1, td_idx1 = [list(range(0,5000)) for r in range(2)] \n",
    "    \n",
    "    for idx in [con_idx0, td_idx0, con_idx1, td_idx1]:\n",
    "        shuffle(idx)\n",
    "    \n",
    "\n",
    "    pairs0 = list(zip(con_idx0, td_idx0))\n",
    "    pairs1 = list(zip(con_idx1, td_idx1))\n",
    "    \n",
    "    # get distannces of random pairs\n",
    "    \n",
    "    print(\"Getting distances of random pairs...\")\n",
    "\n",
    "    wmd_pairs_t0 = WMDPairs(con_docs[:4997],td_docs[:4997],pairs0,E,idx2word,metric=\"euclidean\")\n",
    "    wmd_pairs_t0.get_distances(decompose = True, \n",
    "                             sum_clusters = True, \n",
    "                             w2c = word2cluster, \n",
    "                             c2w = cluster2words,\n",
    "                             thread = True,\n",
    "                             relax = False)\n",
    "\n",
    "    wmd_pairs_t1 = WMDPairs(con_docs[4997:],td_docs[4997:],pairs1,E,idx2word,metric=\"euclidean\")\n",
    "    wmd_pairs_t1.get_distances(decompose = True, \n",
    "                             sum_clusters = True, \n",
    "                             w2c = word2cluster, \n",
    "                             c2w = cluster2words,\n",
    "                             thread = True,\n",
    "                             relax = False)\n",
    "\n",
    "    # create 1D array\n",
    "\n",
    "    distances_t0 = np.concatenate(wmd_pairs_t0.distances)\n",
    "    distances_t1 = np.concatenate(wmd_pairs_t1.distances)\n",
    "\n",
    "    # remove zeros\n",
    "\n",
    "    distances_t0 = distances_t0[distances_t0!=0]\n",
    "    distances_t1 = distances_t1[distances_t1!=0]\n",
    "\n",
    "    # t test\n",
    "\n",
    "    ttest = ttest_ind(distances_t0,distances_t1)\n",
    "    t_stat, p_val = ttest[0],ttest[1]\n",
    "\n",
    "    # save values\n",
    "\n",
    "    t0_distros.append(distances_t0)\n",
    "    t1_distros.append(distances_t1)\n",
    "    t_statistics.append(t_stat)\n",
    "    p_values.append(p_val)\n",
    "        \n",
    "    \n",
    "# print(t0_means) \n",
    "# print(t1_means) \n",
    "# print(t_statistics)   \n",
    "# print(p_values)  "
   ]
  },
  {
   "cell_type": "code",
   "execution_count": 178,
   "metadata": {
    "scrolled": true
   },
   "outputs": [
    {
     "data": {
      "text/plain": [
       "3.9967654068333958"
      ]
     },
     "execution_count": 178,
     "metadata": {},
     "output_type": "execute_result"
    }
   ],
   "source": [
    "np.concatenate(t0_distros).mean()"
   ]
  },
  {
   "cell_type": "code",
   "execution_count": 179,
   "metadata": {},
   "outputs": [
    {
     "data": {
      "text/plain": [
       "3.954404123733645"
      ]
     },
     "execution_count": 179,
     "metadata": {},
     "output_type": "execute_result"
    }
   ],
   "source": [
    "np.concatenate(t1_distros).mean()"
   ]
  },
  {
   "cell_type": "code",
   "execution_count": 171,
   "metadata": {},
   "outputs": [],
   "source": [
    "# plt.figure(figsize=(12,12))\n",
    "\n",
    "\n",
    "# sns.distplot(x = np.concatenate(t0_distros),hist=True,norm_hist=True,label=\"t0 (mean = 0.548)\")\n",
    "# sns.distplot(x = np.concatenate(t1_distros),hist=True,norm_hist=True,label = \"t1 (mean = 0.545)\")\n",
    "\n",
    "# plt.ylabel(\"Density\",fontsize=28)\n",
    "# plt.xlabel(\"Cosine distance\",fontsize=28)\n",
    "\n",
    "# plt.xticks(fontsize=22)\n",
    "# plt.yticks(fontsize=22)\n",
    "# plt.legend(prop={'size': 20})\n",
    "\n",
    "# plt.savefig(\"/Users/jack/Downloads/wmdecompose-master/paper/images/wmd_random.png\",bbox_inches=\"tight\",dpi=500)\n",
    "\n",
    "# plt.show()"
   ]
  },
  {
   "cell_type": "markdown",
   "metadata": {},
   "source": [
    "### 2.8 Gale-Shapeley Pairing"
   ]
  },
  {
   "cell_type": "markdown",
   "metadata": {},
   "source": [
    "Use the [Gale-Shapeley matching algorithm](https://en.wikipedia.org/wiki/Gale%E2%80%93Shapley_algorithm) to find the optimal pairs between positive and negative reviews. This iterates over all the reviews and finds the set of matches that pairs each review with its optimal match given that all positive reviews have to be matched with a negative review and vice versa. The output is a dictionary of key-value pairs, where each pair represents an optimal match."
   ]
  },
  {
   "cell_type": "code",
   "execution_count": 172,
   "metadata": {},
   "outputs": [
    {
     "name": "stdout",
     "output_type": "stream",
     "text": [
      "CPU times: user 5.29 s, sys: 2.6 s, total: 7.89 s\n",
      "Wall time: 9.84 s\n"
     ]
    }
   ],
   "source": [
    "%%time \n",
    "\n",
    "con_docs, td_docs = [], []\n",
    "\n",
    "for idx, doc in enumerate(con_tok):\n",
    "    con_docs.append(Document(doc, con_nbow[idx], word2idx, E))\n",
    "    \n",
    "for idx, doc in enumerate(td_tok):\n",
    "    td_docs.append(Document(doc, td_nbow[idx], word2idx, E))"
   ]
  },
  {
   "cell_type": "code",
   "execution_count": 173,
   "metadata": {},
   "outputs": [],
   "source": [
    "# Options: 'gale_shapeley','random','full'\n",
    "\n",
    "pairing = 'gale_shapeley'"
   ]
  },
  {
   "cell_type": "code",
   "execution_count": 174,
   "metadata": {},
   "outputs": [
    {
     "name": "stdout",
     "output_type": "stream",
     "text": [
      "Running Gale-Shapeley pairing.\n",
      "CPU times: user 9min 7s, sys: 49.3 s, total: 9min 56s\n",
      "Wall time: 10min 36s\n"
     ]
    }
   ],
   "source": [
    "%%time\n",
    "\n",
    "if pairing == 'gale_shapeley':\n",
    "    \n",
    "    print(\"Running Gale-Shapeley pairing.\")\n",
    "    \n",
    "    # Run G-S pairing for the t0 docs and the t1 docs separately \n",
    "    \n",
    "    matcher_t0 = Matcher(lc_rwmd_t0.D)\n",
    "    engaged_t0 = matcher_t0.matchmaker()\n",
    "    matcher_t0.check()\n",
    "    pairs_t0 = [(k, v) for k, v in engaged_t0.items()]\n",
    "    \n",
    "    matcher_t1 = Matcher(lc_rwmd_t1.D)\n",
    "    engaged_t1 = matcher_t1.matchmaker()\n",
    "    matcher_t1.check()\n",
    "    pairs_t1 = [(k, v) for k, v in engaged_t1.items()]\n",
    "    \n"
   ]
  },
  {
   "cell_type": "code",
   "execution_count": 175,
   "metadata": {},
   "outputs": [
    {
     "name": "stdout",
     "output_type": "stream",
     "text": [
      "Calculated distances between approximately 0 documents.\n",
      "Calculated distances between approximately 1000 documents.\n",
      "Calculated distances between approximately 2000 documents.\n",
      "Calculated distances between approximately 3000 documents.\n",
      "Calculated distances between approximately 4000 documents.\n",
      "Calculated distances between approximately 0 documents.\n",
      "Calculated distances between approximately 1000 documents.\n",
      "Calculated distances between approximately 2000 documents.\n",
      "Calculated distances between approximately 3000 documents.\n",
      "Calculated distances between approximately 4000 documents.\n",
      "CPU times: user 19min 28s, sys: 21min 28s, total: 40min 56s\n",
      "Wall time: 13min 11s\n"
     ]
    }
   ],
   "source": [
    "%%time \n",
    "\n",
    "wmd_pairs_flow0 = WMDPairs(con_docs[:4997],td_docs[:4997],pairs_t0,E,idx2word,metric=\"cosine\")\n",
    "wmd_pairs_flow0.get_distances(decompose = True, \n",
    "                             sum_clusters = True, \n",
    "                             w2c = word2cluster, \n",
    "                             c2w = cluster2words,\n",
    "                             thread = True,\n",
    "                             relax = False)\n",
    "\n",
    "wmd_pairs_flow1 = WMDPairs(con_docs[4997:],td_docs[4997:],pairs_t1,E,idx2word,metric=\"cosine\")\n",
    "wmd_pairs_flow1.get_distances(decompose = True, \n",
    "                             sum_clusters = True, \n",
    "                             w2c = word2cluster, \n",
    "                             c2w = cluster2words,\n",
    "                             thread = True,\n",
    "                             relax = False)"
   ]
  },
  {
   "cell_type": "code",
   "execution_count": 184,
   "metadata": {},
   "outputs": [
    {
     "data": {
      "text/plain": [
       "3.9950161576653884"
      ]
     },
     "execution_count": 184,
     "metadata": {},
     "output_type": "execute_result"
    }
   ],
   "source": [
    "wmd_pairs_flow0.distances[wmd_pairs_flow0.distances!=0].mean()"
   ]
  },
  {
   "cell_type": "code",
   "execution_count": 185,
   "metadata": {
    "scrolled": false
   },
   "outputs": [
    {
     "data": {
      "text/plain": [
       "3.956358610267406"
      ]
     },
     "execution_count": 185,
     "metadata": {},
     "output_type": "execute_result"
    }
   ],
   "source": [
    "wmd_pairs_flow1.distances[wmd_pairs_flow1.distances!=0].mean()"
   ]
  },
  {
   "cell_type": "code",
   "execution_count": 190,
   "metadata": {},
   "outputs": [
    {
     "data": {
      "text/plain": [
       "Ttest_indResult(statistic=0.38418556964970313, pvalue=0.7008490881966174)"
      ]
     },
     "execution_count": 190,
     "metadata": {},
     "output_type": "execute_result"
    }
   ],
   "source": [
    "ttest_ind(np.concatenate(t0_distros),wmd_gs0)"
   ]
  },
  {
   "cell_type": "code",
   "execution_count": 80,
   "metadata": {},
   "outputs": [
    {
     "name": "stdout",
     "output_type": "stream",
     "text": [
      "3.9950161576653884\n",
      "3.956358610267406\n"
     ]
    }
   ],
   "source": [
    "wmd_gs0 = np.concatenate(wmd_pairs_flow0.distances)\n",
    "wmd_gs0 = wmd_gs0[wmd_gs0!=0]\n",
    "\n",
    "wmd_gs1 = np.concatenate(wmd_pairs_flow1.distances)\n",
    "wmd_gs1 = wmd_gs1[wmd_gs1!=0]\n",
    "\n",
    "print(wmd_gs0.mean())\n",
    "print(wmd_gs1.mean())\n",
    "\n",
    "\n"
   ]
  },
  {
   "cell_type": "code",
   "execution_count": 82,
   "metadata": {},
   "outputs": [],
   "source": [
    "wmd_pairs_flow0.get_differences()\n",
    "wmd_pairs_flow1.get_differences()\n"
   ]
  },
  {
   "cell_type": "markdown",
   "metadata": {},
   "source": [
    "### 3.1 Intepreting pairwise WMD flows"
   ]
  },
  {
   "cell_type": "code",
   "execution_count": 83,
   "metadata": {},
   "outputs": [
    {
     "data": {
      "text/plain": [
       "['conspiracy',\n",
       " 'government',\n",
       " 'israel',\n",
       " 'video',\n",
       " 'world',\n",
       " 'find',\n",
       " 'r_conspiracy',\n",
       " 'isis',\n",
       " 'documentary',\n",
       " 'theory']"
      ]
     },
     "execution_count": 83,
     "metadata": {},
     "output_type": "execute_result"
    }
   ],
   "source": [
    "# words most distinguishing r/conspiracy from r/TD, t0\n",
    "\n",
    "take(10,{k: v for k, v in sorted(wmd_pairs_flow0.wd_source_diff.items(), key=lambda item: item[1], reverse=True)})"
   ]
  },
  {
   "cell_type": "code",
   "execution_count": 84,
   "metadata": {},
   "outputs": [
    {
     "data": {
      "text/plain": [
       "['conspiracy',\n",
       " 'epstein',\n",
       " 'video',\n",
       " 'vaccine',\n",
       " 'control',\n",
       " 'theory',\n",
       " 'world',\n",
       " 'government',\n",
       " 'find',\n",
       " 'cia']"
      ]
     },
     "execution_count": 84,
     "metadata": {},
     "output_type": "execute_result"
    }
   ],
   "source": [
    "# words most distinguishing r/conspiracy from r/TD, t1\n",
    "\n",
    "take(10,{k: v for k, v in sorted(wmd_pairs_flow1.wd_source_diff.items(), key=lambda item: item[1], reverse=True)})"
   ]
  },
  {
   "cell_type": "code",
   "execution_count": 85,
   "metadata": {},
   "outputs": [
    {
     "data": {
      "text/plain": [
       "['trump',\n",
       " 'vote',\n",
       " 'bernie',\n",
       " 'hillary',\n",
       " 'cruz',\n",
       " 'win',\n",
       " 'donald',\n",
       " 'delegate',\n",
       " 'donald_trump',\n",
       " 'cuck']"
      ]
     },
     "execution_count": 85,
     "metadata": {},
     "output_type": "execute_result"
    }
   ],
   "source": [
    "# words most distinguishing r/TD from r/conspiracy, t0\n",
    "\n",
    "take(10,{k: v for k, v in sorted(wmd_pairs_flow0.wd_sink_diff.items(), key=lambda item: item[1], reverse=True)})"
   ]
  },
  {
   "cell_type": "code",
   "execution_count": 86,
   "metadata": {},
   "outputs": [
    {
     "data": {
      "text/plain": [
       "['___',\n",
       " 'trump',\n",
       " 'vote',\n",
       " 'democrat',\n",
       " 'president',\n",
       " 'dem',\n",
       " 'left',\n",
       " 'pes',\n",
       " 'election',\n",
       " 'liberal',\n",
       " 'republican']"
      ]
     },
     "execution_count": 86,
     "metadata": {},
     "output_type": "execute_result"
    }
   ],
   "source": [
    "# words most distinguishing r/TD from r/conspiracy, t1\n",
    "\n",
    "take(11,{k: v for k, v in sorted(wmd_pairs_flow1.wd_sink_diff.items(), key=lambda item: item[1], reverse=True)})"
   ]
  },
  {
   "cell_type": "markdown",
   "metadata": {},
   "source": [
    "## Combine into DF"
   ]
  },
  {
   "cell_type": "code",
   "execution_count": 87,
   "metadata": {},
   "outputs": [
    {
     "data": {
      "text/html": [
       "<div>\n",
       "<style scoped>\n",
       "    .dataframe tbody tr th:only-of-type {\n",
       "        vertical-align: middle;\n",
       "    }\n",
       "\n",
       "    .dataframe tbody tr th {\n",
       "        vertical-align: top;\n",
       "    }\n",
       "\n",
       "    .dataframe thead th {\n",
       "        text-align: right;\n",
       "    }\n",
       "</style>\n",
       "<table border=\"1\" class=\"dataframe\">\n",
       "  <thead>\n",
       "    <tr style=\"text-align: right;\">\n",
       "      <th></th>\n",
       "      <th>word</th>\n",
       "      <th>cost_t0</th>\n",
       "      <th>cost_t1</th>\n",
       "    </tr>\n",
       "  </thead>\n",
       "  <tbody>\n",
       "    <tr>\n",
       "      <th>0</th>\n",
       "      <td>conspiracy</td>\n",
       "      <td>68.69768</td>\n",
       "      <td>87.61090</td>\n",
       "    </tr>\n",
       "    <tr>\n",
       "      <th>1</th>\n",
       "      <td>government</td>\n",
       "      <td>53.44615</td>\n",
       "      <td>27.51473</td>\n",
       "    </tr>\n",
       "    <tr>\n",
       "      <th>2</th>\n",
       "      <td>israel</td>\n",
       "      <td>30.78626</td>\n",
       "      <td>22.89808</td>\n",
       "    </tr>\n",
       "    <tr>\n",
       "      <th>3</th>\n",
       "      <td>video</td>\n",
       "      <td>30.67359</td>\n",
       "      <td>45.77843</td>\n",
       "    </tr>\n",
       "    <tr>\n",
       "      <th>4</th>\n",
       "      <td>world</td>\n",
       "      <td>30.05910</td>\n",
       "      <td>29.26474</td>\n",
       "    </tr>\n",
       "  </tbody>\n",
       "</table>\n",
       "</div>"
      ],
      "text/plain": [
       "         word   cost_t0   cost_t1\n",
       "0  conspiracy  68.69768  87.61090\n",
       "1  government  53.44615  27.51473\n",
       "2      israel  30.78626  22.89808\n",
       "3       video  30.67359  45.77843\n",
       "4       world  30.05910  29.26474"
      ]
     },
     "execution_count": 87,
     "metadata": {},
     "output_type": "execute_result"
    }
   ],
   "source": [
    "top_words_t0 = {k: v for k, v in sorted(wmd_pairs_flow0.wd_source_diff.items(), key=lambda item: item[1], reverse=True)}\n",
    "top_words_t0_df = pd.DataFrame.from_dict(top_words_t0, orient='index', columns = [\"cost_t0\"])\n",
    "\n",
    "top_words_t0_df = top_words_t0_df.reset_index().rename(columns={\"index\":\"word\"})\n",
    "\n",
    "# merge in t1\n",
    "\n",
    "top_words_t1 = {k: v for k, v in sorted(wmd_pairs_flow1.wd_source_diff.items(), key=lambda item: item[1], reverse=True)}\n",
    "top_words_t1_df = pd.DataFrame.from_dict(top_words_t1, orient='index', columns = [\"cost_t1\"])\n",
    "\n",
    "top_words_t1_df = top_words_t1_df.reset_index().rename(columns={\"index\":\"word\"})\n",
    "\n",
    "\n",
    "words_df = top_words_t0_df.merge(top_words_t1_df,left_on=\"word\",right_on=\"word\",how=\"outer\").fillna(0)\n",
    "words_df.head()\n",
    "\n"
   ]
  },
  {
   "cell_type": "code",
   "execution_count": 82,
   "metadata": {},
   "outputs": [],
   "source": [
    "# add counts\n",
    "\n",
    "def get_counts(vocab,list_of_lists):\n",
    "    \n",
    "    d = {}\n",
    "    for v in vocab:\n",
    "        total = 0\n",
    "        for l in list_of_lists:\n",
    "            count = l.count(v)\n",
    "            total+=count\n",
    "        d[v] = total\n",
    "        \n",
    "    return d\n",
    "\n",
    "vocab = list(words_df[\"word\"])\n",
    "\n",
    "t0_consp = get_counts(vocab,con_tok[:4997])\n",
    "t0_td = get_counts(vocab,td_tok[:4997])\n",
    "\n",
    "t1_consp = get_counts(vocab,con_tok[4997:])\n",
    "t1_td = get_counts(vocab,td_tok[4997:])\n",
    "\n",
    "words_df[\"cons_t0\"] = words_df.word.map(t0_consp)\n",
    "words_df[\"cons_t1\"] = words_df.word.map(t1_consp)\n",
    "words_df[\"td_t0\"] = words_df.word.map(t0_td)\n",
    "words_df[\"td_t1\"] = words_df.word.map(t1_td)"
   ]
  },
  {
   "cell_type": "code",
   "execution_count": 83,
   "metadata": {},
   "outputs": [],
   "source": [
    "# add clusters\n",
    "\n",
    "words_df[\"cluster\"] = words_df.word.map(word2cluster)"
   ]
  },
  {
   "cell_type": "code",
   "execution_count": 84,
   "metadata": {},
   "outputs": [
    {
     "data": {
      "text/html": [
       "<div>\n",
       "<style scoped>\n",
       "    .dataframe tbody tr th:only-of-type {\n",
       "        vertical-align: middle;\n",
       "    }\n",
       "\n",
       "    .dataframe tbody tr th {\n",
       "        vertical-align: top;\n",
       "    }\n",
       "\n",
       "    .dataframe thead th {\n",
       "        text-align: right;\n",
       "    }\n",
       "</style>\n",
       "<table border=\"1\" class=\"dataframe\">\n",
       "  <thead>\n",
       "    <tr style=\"text-align: right;\">\n",
       "      <th></th>\n",
       "      <th>word</th>\n",
       "      <th>cost_t0</th>\n",
       "      <th>cost_t1</th>\n",
       "      <th>cons_t0</th>\n",
       "      <th>cons_t1</th>\n",
       "      <th>td_t0</th>\n",
       "      <th>td_t1</th>\n",
       "      <th>cluster</th>\n",
       "    </tr>\n",
       "  </thead>\n",
       "  <tbody>\n",
       "    <tr>\n",
       "      <th>0</th>\n",
       "      <td>conspiracy</td>\n",
       "      <td>8.94383</td>\n",
       "      <td>11.64697</td>\n",
       "      <td>1107</td>\n",
       "      <td>1366</td>\n",
       "      <td>31</td>\n",
       "      <td>48</td>\n",
       "      <td>60</td>\n",
       "    </tr>\n",
       "    <tr>\n",
       "      <th>1</th>\n",
       "      <td>government</td>\n",
       "      <td>6.68811</td>\n",
       "      <td>3.53491</td>\n",
       "      <td>2037</td>\n",
       "      <td>1536</td>\n",
       "      <td>363</td>\n",
       "      <td>731</td>\n",
       "      <td>74</td>\n",
       "    </tr>\n",
       "    <tr>\n",
       "      <th>2</th>\n",
       "      <td>world</td>\n",
       "      <td>3.98636</td>\n",
       "      <td>3.75264</td>\n",
       "      <td>1713</td>\n",
       "      <td>1999</td>\n",
       "      <td>520</td>\n",
       "      <td>653</td>\n",
       "      <td>53</td>\n",
       "    </tr>\n",
       "    <tr>\n",
       "      <th>3</th>\n",
       "      <td>video</td>\n",
       "      <td>3.86094</td>\n",
       "      <td>5.85273</td>\n",
       "      <td>984</td>\n",
       "      <td>1007</td>\n",
       "      <td>308</td>\n",
       "      <td>309</td>\n",
       "      <td>29</td>\n",
       "    </tr>\n",
       "    <tr>\n",
       "      <th>4</th>\n",
       "      <td>israel</td>\n",
       "      <td>3.76954</td>\n",
       "      <td>2.89410</td>\n",
       "      <td>568</td>\n",
       "      <td>375</td>\n",
       "      <td>67</td>\n",
       "      <td>103</td>\n",
       "      <td>56</td>\n",
       "    </tr>\n",
       "    <tr>\n",
       "      <th>...</th>\n",
       "      <td>...</td>\n",
       "      <td>...</td>\n",
       "      <td>...</td>\n",
       "      <td>...</td>\n",
       "      <td>...</td>\n",
       "      <td>...</td>\n",
       "      <td>...</td>\n",
       "      <td>...</td>\n",
       "    </tr>\n",
       "    <tr>\n",
       "      <th>9267</th>\n",
       "      <td>t_d</td>\n",
       "      <td>0.00000</td>\n",
       "      <td>-2.66619</td>\n",
       "      <td>0</td>\n",
       "      <td>8</td>\n",
       "      <td>2</td>\n",
       "      <td>147</td>\n",
       "      <td>47</td>\n",
       "    </tr>\n",
       "    <tr>\n",
       "      <th>9268</th>\n",
       "      <td>fake_news</td>\n",
       "      <td>0.00000</td>\n",
       "      <td>-2.69475</td>\n",
       "      <td>0</td>\n",
       "      <td>81</td>\n",
       "      <td>0</td>\n",
       "      <td>165</td>\n",
       "      <td>89</td>\n",
       "    </tr>\n",
       "    <tr>\n",
       "      <th>9269</th>\n",
       "      <td>geotus</td>\n",
       "      <td>0.00000</td>\n",
       "      <td>-2.90702</td>\n",
       "      <td>0</td>\n",
       "      <td>1</td>\n",
       "      <td>0</td>\n",
       "      <td>166</td>\n",
       "      <td>7</td>\n",
       "    </tr>\n",
       "    <tr>\n",
       "      <th>9270</th>\n",
       "      <td>kavanaugh</td>\n",
       "      <td>0.00000</td>\n",
       "      <td>-3.04955</td>\n",
       "      <td>0</td>\n",
       "      <td>48</td>\n",
       "      <td>0</td>\n",
       "      <td>284</td>\n",
       "      <td>1</td>\n",
       "    </tr>\n",
       "    <tr>\n",
       "      <th>9271</th>\n",
       "      <td>maga</td>\n",
       "      <td>0.00000</td>\n",
       "      <td>-3.88915</td>\n",
       "      <td>0</td>\n",
       "      <td>16</td>\n",
       "      <td>456</td>\n",
       "      <td>304</td>\n",
       "      <td>7</td>\n",
       "    </tr>\n",
       "  </tbody>\n",
       "</table>\n",
       "<p>9272 rows × 8 columns</p>\n",
       "</div>"
      ],
      "text/plain": [
       "            word  cost_t0   cost_t1  cons_t0  cons_t1  td_t0  td_t1  cluster\n",
       "0     conspiracy  8.94383  11.64697     1107     1366     31     48       60\n",
       "1     government  6.68811   3.53491     2037     1536    363    731       74\n",
       "2          world  3.98636   3.75264     1713     1999    520    653       53\n",
       "3          video  3.86094   5.85273      984     1007    308    309       29\n",
       "4         israel  3.76954   2.89410      568      375     67    103       56\n",
       "...          ...      ...       ...      ...      ...    ...    ...      ...\n",
       "9267         t_d  0.00000  -2.66619        0        8      2    147       47\n",
       "9268   fake_news  0.00000  -2.69475        0       81      0    165       89\n",
       "9269      geotus  0.00000  -2.90702        0        1      0    166        7\n",
       "9270   kavanaugh  0.00000  -3.04955        0       48      0    284        1\n",
       "9271        maga  0.00000  -3.88915        0       16    456    304        7\n",
       "\n",
       "[9272 rows x 8 columns]"
      ]
     },
     "execution_count": 84,
     "metadata": {},
     "output_type": "execute_result"
    }
   ],
   "source": [
    "words_df"
   ]
  },
  {
   "cell_type": "code",
   "execution_count": 85,
   "metadata": {},
   "outputs": [],
   "source": [
    "for index,row in words_df.iterrows():\n",
    "\n",
    "    if row[\"cost_t0\"]==0:\n",
    "        pct_change = \"NA\"\n",
    "    else:\n",
    "        pct_change = (row[\"cost_t1\"] - row[\"cost_t0\"])/row[\"cost_t0\"]\n",
    "    words_df.loc[index,\"cost_pct_change\"] = pct_change\n",
    "    \n",
    "for index,row in words_df.iterrows():\n",
    "    if row[\"cons_t0\"]==0:\n",
    "        pct_change = \"NA\"\n",
    "    else:\n",
    "        pct_change = (row[\"cons_t1\"] - row[\"cons_t0\"])/row[\"cons_t0\"]\n",
    "    words_df.loc[index,\"cons_pct_change\"] = pct_change\n",
    "    \n",
    "for index,row in words_df.iterrows():\n",
    "    if row[\"td_t0\"]==0:\n",
    "        pct_change = \"NA\"\n",
    "    else:\n",
    "        pct_change = (row[\"td_t1\"] - row[\"td_t0\"])/row[\"td_t0\"]\n",
    "    words_df.loc[index,\"td_pct_change\"] = pct_change"
   ]
  },
  {
   "cell_type": "code",
   "execution_count": 86,
   "metadata": {},
   "outputs": [
    {
     "data": {
      "text/html": [
       "<div>\n",
       "<style scoped>\n",
       "    .dataframe tbody tr th:only-of-type {\n",
       "        vertical-align: middle;\n",
       "    }\n",
       "\n",
       "    .dataframe tbody tr th {\n",
       "        vertical-align: top;\n",
       "    }\n",
       "\n",
       "    .dataframe thead th {\n",
       "        text-align: right;\n",
       "    }\n",
       "</style>\n",
       "<table border=\"1\" class=\"dataframe\">\n",
       "  <thead>\n",
       "    <tr style=\"text-align: right;\">\n",
       "      <th></th>\n",
       "      <th>word</th>\n",
       "      <th>cost_t0</th>\n",
       "      <th>cost_t1</th>\n",
       "      <th>cons_t0</th>\n",
       "      <th>cons_t1</th>\n",
       "      <th>td_t0</th>\n",
       "      <th>td_t1</th>\n",
       "      <th>cluster</th>\n",
       "      <th>cost_pct_change</th>\n",
       "      <th>cons_pct_change</th>\n",
       "      <th>td_pct_change</th>\n",
       "    </tr>\n",
       "  </thead>\n",
       "  <tbody>\n",
       "    <tr>\n",
       "      <th>0</th>\n",
       "      <td>conspiracy</td>\n",
       "      <td>8.94383</td>\n",
       "      <td>11.64697</td>\n",
       "      <td>1107</td>\n",
       "      <td>1366</td>\n",
       "      <td>31</td>\n",
       "      <td>48</td>\n",
       "      <td>60</td>\n",
       "      <td>0.302235</td>\n",
       "      <td>0.233966</td>\n",
       "      <td>0.548387</td>\n",
       "    </tr>\n",
       "    <tr>\n",
       "      <th>1</th>\n",
       "      <td>government</td>\n",
       "      <td>6.68811</td>\n",
       "      <td>3.53491</td>\n",
       "      <td>2037</td>\n",
       "      <td>1536</td>\n",
       "      <td>363</td>\n",
       "      <td>731</td>\n",
       "      <td>74</td>\n",
       "      <td>-0.471464</td>\n",
       "      <td>-0.24595</td>\n",
       "      <td>1.01377</td>\n",
       "    </tr>\n",
       "    <tr>\n",
       "      <th>2</th>\n",
       "      <td>world</td>\n",
       "      <td>3.98636</td>\n",
       "      <td>3.75264</td>\n",
       "      <td>1713</td>\n",
       "      <td>1999</td>\n",
       "      <td>520</td>\n",
       "      <td>653</td>\n",
       "      <td>53</td>\n",
       "      <td>-0.0586299</td>\n",
       "      <td>0.166959</td>\n",
       "      <td>0.255769</td>\n",
       "    </tr>\n",
       "    <tr>\n",
       "      <th>3</th>\n",
       "      <td>video</td>\n",
       "      <td>3.86094</td>\n",
       "      <td>5.85273</td>\n",
       "      <td>984</td>\n",
       "      <td>1007</td>\n",
       "      <td>308</td>\n",
       "      <td>309</td>\n",
       "      <td>29</td>\n",
       "      <td>0.515882</td>\n",
       "      <td>0.023374</td>\n",
       "      <td>0.00324675</td>\n",
       "    </tr>\n",
       "    <tr>\n",
       "      <th>4</th>\n",
       "      <td>israel</td>\n",
       "      <td>3.76954</td>\n",
       "      <td>2.89410</td>\n",
       "      <td>568</td>\n",
       "      <td>375</td>\n",
       "      <td>67</td>\n",
       "      <td>103</td>\n",
       "      <td>56</td>\n",
       "      <td>-0.232241</td>\n",
       "      <td>-0.339789</td>\n",
       "      <td>0.537313</td>\n",
       "    </tr>\n",
       "  </tbody>\n",
       "</table>\n",
       "</div>"
      ],
      "text/plain": [
       "         word  cost_t0   cost_t1  cons_t0  cons_t1  td_t0  td_t1  cluster  \\\n",
       "0  conspiracy  8.94383  11.64697     1107     1366     31     48       60   \n",
       "1  government  6.68811   3.53491     2037     1536    363    731       74   \n",
       "2       world  3.98636   3.75264     1713     1999    520    653       53   \n",
       "3       video  3.86094   5.85273      984     1007    308    309       29   \n",
       "4      israel  3.76954   2.89410      568      375     67    103       56   \n",
       "\n",
       "  cost_pct_change cons_pct_change td_pct_change  \n",
       "0        0.302235        0.233966      0.548387  \n",
       "1       -0.471464        -0.24595       1.01377  \n",
       "2      -0.0586299        0.166959      0.255769  \n",
       "3        0.515882        0.023374    0.00324675  \n",
       "4       -0.232241       -0.339789      0.537313  "
      ]
     },
     "execution_count": 86,
     "metadata": {},
     "output_type": "execute_result"
    }
   ],
   "source": [
    "words_df.head()"
   ]
  },
  {
   "cell_type": "code",
   "execution_count": 87,
   "metadata": {},
   "outputs": [
    {
     "name": "stderr",
     "output_type": "stream",
     "text": [
      "/opt/anaconda3/lib/python3.7/site-packages/ipykernel_launcher.py:1: FutureWarning: Indexing with multiple keys (implicitly converted to a tuple of keys) will be deprecated, use a list instead.\n",
      "  \"\"\"Entry point for launching an IPython kernel.\n"
     ]
    },
    {
     "data": {
      "text/html": [
       "<div>\n",
       "<style scoped>\n",
       "    .dataframe tbody tr th:only-of-type {\n",
       "        vertical-align: middle;\n",
       "    }\n",
       "\n",
       "    .dataframe tbody tr th {\n",
       "        vertical-align: top;\n",
       "    }\n",
       "\n",
       "    .dataframe thead th {\n",
       "        text-align: right;\n",
       "    }\n",
       "</style>\n",
       "<table border=\"1\" class=\"dataframe\">\n",
       "  <thead>\n",
       "    <tr style=\"text-align: right;\">\n",
       "      <th></th>\n",
       "      <th>cost_t0</th>\n",
       "      <th>cost_t1</th>\n",
       "      <th>cons_t0</th>\n",
       "      <th>cons_t1</th>\n",
       "      <th>td_t0</th>\n",
       "      <th>td_t1</th>\n",
       "    </tr>\n",
       "    <tr>\n",
       "      <th>cluster</th>\n",
       "      <th></th>\n",
       "      <th></th>\n",
       "      <th></th>\n",
       "      <th></th>\n",
       "      <th></th>\n",
       "      <th></th>\n",
       "    </tr>\n",
       "  </thead>\n",
       "  <tbody>\n",
       "    <tr>\n",
       "      <th>0</th>\n",
       "      <td>2.82161</td>\n",
       "      <td>0.77723</td>\n",
       "      <td>7317</td>\n",
       "      <td>6900</td>\n",
       "      <td>3379</td>\n",
       "      <td>4514</td>\n",
       "    </tr>\n",
       "    <tr>\n",
       "      <th>1</th>\n",
       "      <td>2.64749</td>\n",
       "      <td>-13.67350</td>\n",
       "      <td>3008</td>\n",
       "      <td>2918</td>\n",
       "      <td>1152</td>\n",
       "      <td>3368</td>\n",
       "    </tr>\n",
       "    <tr>\n",
       "      <th>2</th>\n",
       "      <td>-6.66460</td>\n",
       "      <td>-1.52814</td>\n",
       "      <td>3998</td>\n",
       "      <td>4024</td>\n",
       "      <td>2863</td>\n",
       "      <td>2990</td>\n",
       "    </tr>\n",
       "    <tr>\n",
       "      <th>3</th>\n",
       "      <td>21.54318</td>\n",
       "      <td>20.93541</td>\n",
       "      <td>6584</td>\n",
       "      <td>6377</td>\n",
       "      <td>1039</td>\n",
       "      <td>1753</td>\n",
       "    </tr>\n",
       "    <tr>\n",
       "      <th>4</th>\n",
       "      <td>27.56977</td>\n",
       "      <td>21.99540</td>\n",
       "      <td>6704</td>\n",
       "      <td>5738</td>\n",
       "      <td>1003</td>\n",
       "      <td>1703</td>\n",
       "    </tr>\n",
       "  </tbody>\n",
       "</table>\n",
       "</div>"
      ],
      "text/plain": [
       "          cost_t0   cost_t1  cons_t0  cons_t1  td_t0  td_t1\n",
       "cluster                                                    \n",
       "0         2.82161   0.77723     7317     6900   3379   4514\n",
       "1         2.64749 -13.67350     3008     2918   1152   3368\n",
       "2        -6.66460  -1.52814     3998     4024   2863   2990\n",
       "3        21.54318  20.93541     6584     6377   1039   1753\n",
       "4        27.56977  21.99540     6704     5738   1003   1703"
      ]
     },
     "execution_count": 87,
     "metadata": {},
     "output_type": "execute_result"
    }
   ],
   "source": [
    "cluster_df = words_df.groupby(\"cluster\")[\"cost_t0\",\"cost_t1\",\"cons_t0\",\"cons_t1\",\"td_t0\",\"td_t1\"].agg(\"sum\")\n",
    "cluster_df.head()\n"
   ]
  },
  {
   "cell_type": "code",
   "execution_count": 88,
   "metadata": {},
   "outputs": [],
   "source": [
    "no_na = words_df[(words_df[\"cost_pct_change\"]!=\"NA\")&(words_df[\"cons_pct_change\"]!=\"NA\")&(words_df[\"td_pct_change\"]!=\"NA\")].reset_index(drop=True)\n"
   ]
  },
  {
   "cell_type": "code",
   "execution_count": 89,
   "metadata": {},
   "outputs": [],
   "source": [
    "words_df.to_csv(\"../checkpoints/wmd_words_df_euc.csv\",index=False)\n",
    "no_na.to_csv(\"../checkpoints/wmd_words_df_no_na_euc.csv\",index=False)"
   ]
  },
  {
   "cell_type": "code",
   "execution_count": 90,
   "metadata": {},
   "outputs": [],
   "source": [
    "# look at dynamically ranked clusters"
   ]
  },
  {
   "cell_type": "code",
   "execution_count": 91,
   "metadata": {},
   "outputs": [],
   "source": [
    "n_clusters = 100\n",
    "n_words = 10"
   ]
  },
  {
   "cell_type": "code",
   "execution_count": 92,
   "metadata": {},
   "outputs": [],
   "source": [
    "# conspiracy t0\n",
    "\n",
    "c1 = output_clusters(wd=wmd_pairs_flow0.wd_source_diff.items(), \n",
    "                     cd=wmd_pairs_flow0.cd_source.items(), \n",
    "                     c2w=cluster2words, \n",
    "                     n_clusters=n_clusters, \n",
    "                     n_words=n_words)\n",
    "\n",
    "# conspiracy t1\n",
    "\n",
    "c2 = output_clusters(wd=wmd_pairs_flow1.wd_source_diff.items(), \n",
    "                     cd=wmd_pairs_flow1.cd_source.items(), \n",
    "                     c2w=cluster2words, \n",
    "                     n_clusters=n_clusters, \n",
    "                     n_words=n_words)\n",
    "\n",
    "# TD t0\n",
    "\n",
    "c3 = output_clusters(wd=wmd_pairs_flow0.wd_sink_diff.items(), \n",
    "                     cd=wmd_pairs_flow0.cd_sink.items(), \n",
    "                     c2w=cluster2words, \n",
    "                     n_clusters=n_clusters, \n",
    "                     n_words=n_words)\n",
    "\n",
    "# TD t1\n",
    "\n",
    "c4 = output_clusters(wd=wmd_pairs_flow1.wd_sink_diff.items(), \n",
    "                     cd=wmd_pairs_flow1.cd_sink.items(), \n",
    "                     c2w=cluster2words, \n",
    "                     n_clusters=n_clusters, \n",
    "                     n_words=n_words)\n",
    "\n"
   ]
  },
  {
   "cell_type": "code",
   "execution_count": 93,
   "metadata": {},
   "outputs": [
    {
     "data": {
      "text/html": [
       "<div>\n",
       "<style scoped>\n",
       "    .dataframe tbody tr th:only-of-type {\n",
       "        vertical-align: middle;\n",
       "    }\n",
       "\n",
       "    .dataframe tbody tr th {\n",
       "        vertical-align: top;\n",
       "    }\n",
       "\n",
       "    .dataframe thead th {\n",
       "        text-align: right;\n",
       "    }\n",
       "</style>\n",
       "<table border=\"1\" class=\"dataframe\">\n",
       "  <thead>\n",
       "    <tr style=\"text-align: right;\">\n",
       "      <th></th>\n",
       "      <th>80</th>\n",
       "      <th>47</th>\n",
       "      <th>60</th>\n",
       "      <th>32</th>\n",
       "      <th>28</th>\n",
       "      <th>53</th>\n",
       "      <th>15</th>\n",
       "      <th>50</th>\n",
       "      <th>23</th>\n",
       "      <th>14</th>\n",
       "      <th>...</th>\n",
       "      <th>44</th>\n",
       "      <th>26</th>\n",
       "      <th>9</th>\n",
       "      <th>78</th>\n",
       "      <th>6</th>\n",
       "      <th>77</th>\n",
       "      <th>27</th>\n",
       "      <th>13</th>\n",
       "      <th>33</th>\n",
       "      <th>7</th>\n",
       "    </tr>\n",
       "  </thead>\n",
       "  <tbody>\n",
       "    <tr>\n",
       "      <th>0</th>\n",
       "      <td>propaganda (1.7)</td>\n",
       "      <td>r_conspiracy (3.05)</td>\n",
       "      <td>conspiracy (8.94)</td>\n",
       "      <td>real (1.48)</td>\n",
       "      <td>link (2.84)</td>\n",
       "      <td>world (3.99)</td>\n",
       "      <td>information (3.11)</td>\n",
       "      <td>new (1.51)</td>\n",
       "      <td>stuff (0.86)</td>\n",
       "      <td>use (2.94)</td>\n",
       "      <td>...</td>\n",
       "      <td>rig (0.44)</td>\n",
       "      <td>population (1.07)</td>\n",
       "      <td>september (1.09)</td>\n",
       "      <td>club (0.58)</td>\n",
       "      <td>symbol (0.65)</td>\n",
       "      <td>wisdom (0.16)</td>\n",
       "      <td>vice (0.14)</td>\n",
       "      <td>rd (0.41)</td>\n",
       "      <td>light (0.24)</td>\n",
       "      <td>spelling (0.06)</td>\n",
       "    </tr>\n",
       "    <tr>\n",
       "      <th>1</th>\n",
       "      <td>thought (1.55)</td>\n",
       "      <td>comment (2.19)</td>\n",
       "      <td>find (3.73)</td>\n",
       "      <td>completely (0.5)</td>\n",
       "      <td>page (2.18)</td>\n",
       "      <td>death (1.93)</td>\n",
       "      <td>article (2.41)</td>\n",
       "      <td>history (1.39)</td>\n",
       "      <td>til (0.64)</td>\n",
       "      <td>tool (0.66)</td>\n",
       "      <td>...</td>\n",
       "      <td>election_fraud (0.26)</td>\n",
       "      <td>weather (0.75)</td>\n",
       "      <td>date (1.09)</td>\n",
       "      <td>alphabet (0.41)</td>\n",
       "      <td>star (0.57)</td>\n",
       "      <td>heaven (0.15)</td>\n",
       "      <td>hrc (0.13)</td>\n",
       "      <td>ct (0.05)</td>\n",
       "      <td>muscle (0.18)</td>\n",
       "      <td>irl (0.01)</td>\n",
       "    </tr>\n",
       "    <tr>\n",
       "      <th>2</th>\n",
       "      <td>happen (1.36)</td>\n",
       "      <td>post (1.91)</td>\n",
       "      <td>documentary (3.11)</td>\n",
       "      <td>actual (0.48)</td>\n",
       "      <td>site (1.61)</td>\n",
       "      <td>bank (1.56)</td>\n",
       "      <td>read (1.89)</td>\n",
       "      <td>major (0.89)</td>\n",
       "      <td>maybe (0.61)</td>\n",
       "      <td>lead (0.62)</td>\n",
       "      <td>...</td>\n",
       "      <td>voting_machine (0.19)</td>\n",
       "      <td>earthquake (0.37)</td>\n",
       "      <td>ceo (0.96)</td>\n",
       "      <td>mh (0.28)</td>\n",
       "      <td>age (0.41)</td>\n",
       "      <td>wolf (0.13)</td>\n",
       "      <td>herald (0.02)</td>\n",
       "      <td>virginia (0.04)</td>\n",
       "      <td>bone (0.16)</td>\n",
       "      <td>chan (-0.0)</td>\n",
       "    </tr>\n",
       "    <tr>\n",
       "      <th>3</th>\n",
       "      <td>hide (1.35)</td>\n",
       "      <td>u (1.79)</td>\n",
       "      <td>conspiracy_theory (2.79)</td>\n",
       "      <td>generation (0.39)</td>\n",
       "      <td>search (1.42)</td>\n",
       "      <td>global (1.26)</td>\n",
       "      <td>info (1.65)</td>\n",
       "      <td>tragedy (0.41)</td>\n",
       "      <td>appreciate (0.25)</td>\n",
       "      <td>inside (0.59)</td>\n",
       "      <td>...</td>\n",
       "      <td>recount (0.07)</td>\n",
       "      <td>determine (0.34)</td>\n",
       "      <td>director (0.38)</td>\n",
       "      <td>chase (0.26)</td>\n",
       "      <td>circle (0.34)</td>\n",
       "      <td>wicked (0.13)</td>\n",
       "      <td>scoop (-0.0)</td>\n",
       "      <td>oregon (0.04)</td>\n",
       "      <td>wing (0.16)</td>\n",
       "      <td>chat (-0.01)</td>\n",
       "    </tr>\n",
       "    <tr>\n",
       "      <th>4</th>\n",
       "      <td>believe (0.88)</td>\n",
       "      <td>account (1.78)</td>\n",
       "      <td>truth (2.51)</td>\n",
       "      <td>extremely (0.36)</td>\n",
       "      <td>website (1.07)</td>\n",
       "      <td>central_banker (1.19)</td>\n",
       "      <td>book (1.58)</td>\n",
       "      <td>launch (0.35)</td>\n",
       "      <td>vibe (0.15)</td>\n",
       "      <td>significant (0.58)</td>\n",
       "      <td>...</td>\n",
       "      <td>voting_system (0.05)</td>\n",
       "      <td>nearly (0.28)</td>\n",
       "      <td>august (0.27)</td>\n",
       "      <td>th_century (0.24)</td>\n",
       "      <td>logo (0.26)</td>\n",
       "      <td>angel (0.13)</td>\n",
       "      <td>burger (-0.02)</td>\n",
       "      <td>tx (0.03)</td>\n",
       "      <td>pour (0.16)</td>\n",
       "      <td>deplorable (-0.02)</td>\n",
       "    </tr>\n",
       "    <tr>\n",
       "      <th>5</th>\n",
       "      <td>type (0.63)</td>\n",
       "      <td>user (1.39)</td>\n",
       "      <td>conspiracy_theorist (1.6)</td>\n",
       "      <td>divide_conquer (0.34)</td>\n",
       "      <td>photo (0.99)</td>\n",
       "      <td>die (1.12)</td>\n",
       "      <td>etc (0.91)</td>\n",
       "      <td>warn (0.31)</td>\n",
       "      <td>definitely (0.14)</td>\n",
       "      <td>individual (0.53)</td>\n",
       "      <td>...</td>\n",
       "      <td>rig_election (0.05)</td>\n",
       "      <td>approximately (0.23)</td>\n",
       "      <td>found (0.25)</td>\n",
       "      <td>seven (0.22)</td>\n",
       "      <td>depict (0.22)</td>\n",
       "      <td>darkness (0.12)</td>\n",
       "      <td>wh (-0.02)</td>\n",
       "      <td>md (0.03)</td>\n",
       "      <td>sight (0.15)</td>\n",
       "      <td>stay_vigilant (-0.04)</td>\n",
       "    </tr>\n",
       "    <tr>\n",
       "      <th>6</th>\n",
       "      <td>figure (0.56)</td>\n",
       "      <td>thread (1.38)</td>\n",
       "      <td>strange (1.34)</td>\n",
       "      <td>ignore (0.32)</td>\n",
       "      <td>list (0.97)</td>\n",
       "      <td>banker (1.04)</td>\n",
       "      <td>reference (0.6)</td>\n",
       "      <td>apart (0.3)</td>\n",
       "      <td>honest_question (0.13)</td>\n",
       "      <td>condition (0.49)</td>\n",
       "      <td>...</td>\n",
       "      <td>mid_term (-0.01)</td>\n",
       "      <td>quake (0.21)</td>\n",
       "      <td>founder (0.22)</td>\n",
       "      <td>lee_harvey (0.2)</td>\n",
       "      <td>creator (0.22)</td>\n",
       "      <td>prayer (0.11)</td>\n",
       "      <td>cuomo (-0.03)</td>\n",
       "      <td>mi (0.02)</td>\n",
       "      <td>foot (0.11)</td>\n",
       "      <td>spell (-0.04)</td>\n",
       "    </tr>\n",
       "    <tr>\n",
       "      <th>7</th>\n",
       "      <td>obvious (0.52)</td>\n",
       "      <td>delete (0.83)</td>\n",
       "      <td>weird (1.11)</td>\n",
       "      <td>attempt (0.24)</td>\n",
       "      <td>google (0.94)</td>\n",
       "      <td>international_oligarch (0.95)</td>\n",
       "      <td>version (0.53)</td>\n",
       "      <td>warning (0.25)</td>\n",
       "      <td>ok (0.13)</td>\n",
       "      <td>method (0.48)</td>\n",
       "      <td>...</td>\n",
       "      <td>rigging (-0.01)</td>\n",
       "      <td>hurricane (0.19)</td>\n",
       "      <td>partner (0.22)</td>\n",
       "      <td>architect (0.2)</td>\n",
       "      <td>cross (0.18)</td>\n",
       "      <td>curse (0.11)</td>\n",
       "      <td>press_briefing (-0.06)</td>\n",
       "      <td>vt (0.02)</td>\n",
       "      <td>flower (0.11)</td>\n",
       "      <td>vigilant (-0.06)</td>\n",
       "    </tr>\n",
       "    <tr>\n",
       "      <th>8</th>\n",
       "      <td>ton (0.45)</td>\n",
       "      <td>r_worldnews (0.83)</td>\n",
       "      <td>discussion (1.05)</td>\n",
       "      <td>cynical (0.14)</td>\n",
       "      <td>add (0.71)</td>\n",
       "      <td>gold (0.92)</td>\n",
       "      <td>title (0.51)</td>\n",
       "      <td>opening (0.24)</td>\n",
       "      <td>m_sure (0.11)</td>\n",
       "      <td>scenario (0.41)</td>\n",
       "      <td>...</td>\n",
       "      <td>midterm_election (-0.01)</td>\n",
       "      <td>starvation (0.19)</td>\n",
       "      <td>sept (0.21)</td>\n",
       "      <td>mark (0.2)</td>\n",
       "      <td>arch (0.16)</td>\n",
       "      <td>forever (0.09)</td>\n",
       "      <td>grill (-0.07)</td>\n",
       "      <td>ak (0.0)</td>\n",
       "      <td>grass (0.1)</td>\n",
       "      <td>complacent (-0.06)</td>\n",
       "    </tr>\n",
       "    <tr>\n",
       "      <th>9</th>\n",
       "      <td>know (0.44)</td>\n",
       "      <td>reddit (0.82)</td>\n",
       "      <td>official_story (1.01)</td>\n",
       "      <td>imagine (0.11)</td>\n",
       "      <td>text (0.69)</td>\n",
       "      <td>print_create (0.86)</td>\n",
       "      <td>piece (0.39)</td>\n",
       "      <td>place (0.23)</td>\n",
       "      <td>em (0.09)</td>\n",
       "      <td>possibility (0.39)</td>\n",
       "      <td>...</td>\n",
       "      <td>electoral (-0.01)</td>\n",
       "      <td>magnitude (0.17)</td>\n",
       "      <td>december (0.21)</td>\n",
       "      <td>eli (0.19)</td>\n",
       "      <td>art (0.14)</td>\n",
       "      <td>wise (0.09)</td>\n",
       "      <td>hilary_clinton (-0.08)</td>\n",
       "      <td>rhode_island (0.0)</td>\n",
       "      <td>garden (0.09)</td>\n",
       "      <td>grammar (-0.08)</td>\n",
       "    </tr>\n",
       "  </tbody>\n",
       "</table>\n",
       "<p>10 rows × 100 columns</p>\n",
       "</div>"
      ],
      "text/plain": [
       "                 80                   47                         60  \\\n",
       "0  propaganda (1.7)  r_conspiracy (3.05)          conspiracy (8.94)   \n",
       "1    thought (1.55)       comment (2.19)                find (3.73)   \n",
       "2     happen (1.36)          post (1.91)         documentary (3.11)   \n",
       "3       hide (1.35)             u (1.79)   conspiracy_theory (2.79)   \n",
       "4    believe (0.88)       account (1.78)               truth (2.51)   \n",
       "5       type (0.63)          user (1.39)  conspiracy_theorist (1.6)   \n",
       "6     figure (0.56)        thread (1.38)             strange (1.34)   \n",
       "7    obvious (0.52)        delete (0.83)               weird (1.11)   \n",
       "8        ton (0.45)   r_worldnews (0.83)          discussion (1.05)   \n",
       "9       know (0.44)        reddit (0.82)      official_story (1.01)   \n",
       "\n",
       "                      32              28                             53  \\\n",
       "0            real (1.48)     link (2.84)                   world (3.99)   \n",
       "1       completely (0.5)     page (2.18)                   death (1.93)   \n",
       "2          actual (0.48)     site (1.61)                    bank (1.56)   \n",
       "3      generation (0.39)   search (1.42)                  global (1.26)   \n",
       "4       extremely (0.36)  website (1.07)          central_banker (1.19)   \n",
       "5  divide_conquer (0.34)    photo (0.99)                     die (1.12)   \n",
       "6          ignore (0.32)     list (0.97)                  banker (1.04)   \n",
       "7         attempt (0.24)   google (0.94)  international_oligarch (0.95)   \n",
       "8         cynical (0.14)      add (0.71)                    gold (0.92)   \n",
       "9         imagine (0.11)     text (0.69)            print_create (0.86)   \n",
       "\n",
       "                   15              50                      23  \\\n",
       "0  information (3.11)      new (1.51)            stuff (0.86)   \n",
       "1      article (2.41)  history (1.39)              til (0.64)   \n",
       "2         read (1.89)    major (0.89)            maybe (0.61)   \n",
       "3         info (1.65)  tragedy (0.41)       appreciate (0.25)   \n",
       "4         book (1.58)   launch (0.35)             vibe (0.15)   \n",
       "5          etc (0.91)     warn (0.31)       definitely (0.14)   \n",
       "6     reference (0.6)     apart (0.3)  honest_question (0.13)   \n",
       "7      version (0.53)  warning (0.25)               ok (0.13)   \n",
       "8        title (0.51)  opening (0.24)           m_sure (0.11)   \n",
       "9        piece (0.39)    place (0.23)               em (0.09)   \n",
       "\n",
       "                   14  ...                        44                    26  \\\n",
       "0          use (2.94)  ...                rig (0.44)     population (1.07)   \n",
       "1         tool (0.66)  ...     election_fraud (0.26)        weather (0.75)   \n",
       "2         lead (0.62)  ...     voting_machine (0.19)     earthquake (0.37)   \n",
       "3       inside (0.59)  ...            recount (0.07)      determine (0.34)   \n",
       "4  significant (0.58)  ...      voting_system (0.05)         nearly (0.28)   \n",
       "5   individual (0.53)  ...       rig_election (0.05)  approximately (0.23)   \n",
       "6    condition (0.49)  ...          mid_term (-0.01)          quake (0.21)   \n",
       "7       method (0.48)  ...           rigging (-0.01)      hurricane (0.19)   \n",
       "8     scenario (0.41)  ...  midterm_election (-0.01)     starvation (0.19)   \n",
       "9  possibility (0.39)  ...         electoral (-0.01)      magnitude (0.17)   \n",
       "\n",
       "                 9                  78              6                77  \\\n",
       "0  september (1.09)        club (0.58)   symbol (0.65)    wisdom (0.16)   \n",
       "1       date (1.09)    alphabet (0.41)     star (0.57)    heaven (0.15)   \n",
       "2        ceo (0.96)          mh (0.28)      age (0.41)      wolf (0.13)   \n",
       "3   director (0.38)       chase (0.26)   circle (0.34)    wicked (0.13)   \n",
       "4     august (0.27)  th_century (0.24)     logo (0.26)     angel (0.13)   \n",
       "5      found (0.25)       seven (0.22)   depict (0.22)  darkness (0.12)   \n",
       "6    founder (0.22)   lee_harvey (0.2)  creator (0.22)    prayer (0.11)   \n",
       "7    partner (0.22)    architect (0.2)    cross (0.18)     curse (0.11)   \n",
       "8       sept (0.21)         mark (0.2)     arch (0.16)   forever (0.09)   \n",
       "9   december (0.21)         eli (0.19)      art (0.14)      wise (0.09)   \n",
       "\n",
       "                       27                  13             33  \\\n",
       "0             vice (0.14)           rd (0.41)   light (0.24)   \n",
       "1              hrc (0.13)           ct (0.05)  muscle (0.18)   \n",
       "2           herald (0.02)     virginia (0.04)    bone (0.16)   \n",
       "3            scoop (-0.0)       oregon (0.04)    wing (0.16)   \n",
       "4          burger (-0.02)           tx (0.03)    pour (0.16)   \n",
       "5              wh (-0.02)           md (0.03)   sight (0.15)   \n",
       "6           cuomo (-0.03)           mi (0.02)    foot (0.11)   \n",
       "7  press_briefing (-0.06)           vt (0.02)  flower (0.11)   \n",
       "8           grill (-0.07)            ak (0.0)    grass (0.1)   \n",
       "9  hilary_clinton (-0.08)  rhode_island (0.0)  garden (0.09)   \n",
       "\n",
       "                      7   \n",
       "0        spelling (0.06)  \n",
       "1             irl (0.01)  \n",
       "2            chan (-0.0)  \n",
       "3           chat (-0.01)  \n",
       "4     deplorable (-0.02)  \n",
       "5  stay_vigilant (-0.04)  \n",
       "6          spell (-0.04)  \n",
       "7       vigilant (-0.06)  \n",
       "8     complacent (-0.06)  \n",
       "9        grammar (-0.08)  \n",
       "\n",
       "[10 rows x 100 columns]"
      ]
     },
     "execution_count": 93,
     "metadata": {},
     "output_type": "execute_result"
    }
   ],
   "source": [
    "c1"
   ]
  },
  {
   "cell_type": "code",
   "execution_count": 94,
   "metadata": {},
   "outputs": [
    {
     "data": {
      "text/html": [
       "<div>\n",
       "<style scoped>\n",
       "    .dataframe tbody tr th:only-of-type {\n",
       "        vertical-align: middle;\n",
       "    }\n",
       "\n",
       "    .dataframe tbody tr th {\n",
       "        vertical-align: top;\n",
       "    }\n",
       "\n",
       "    .dataframe thead th {\n",
       "        text-align: right;\n",
       "    }\n",
       "</style>\n",
       "<table border=\"1\" class=\"dataframe\">\n",
       "  <thead>\n",
       "    <tr style=\"text-align: right;\">\n",
       "      <th></th>\n",
       "      <th>80</th>\n",
       "      <th>60</th>\n",
       "      <th>47</th>\n",
       "      <th>32</th>\n",
       "      <th>28</th>\n",
       "      <th>15</th>\n",
       "      <th>5</th>\n",
       "      <th>23</th>\n",
       "      <th>50</th>\n",
       "      <th>14</th>\n",
       "      <th>...</th>\n",
       "      <th>79</th>\n",
       "      <th>33</th>\n",
       "      <th>78</th>\n",
       "      <th>9</th>\n",
       "      <th>13</th>\n",
       "      <th>24</th>\n",
       "      <th>7</th>\n",
       "      <th>69</th>\n",
       "      <th>44</th>\n",
       "      <th>27</th>\n",
       "    </tr>\n",
       "  </thead>\n",
       "  <tbody>\n",
       "    <tr>\n",
       "      <th>0</th>\n",
       "      <td>believe (2.48)</td>\n",
       "      <td>conspiracy (11.65)</td>\n",
       "      <td>post (2.78)</td>\n",
       "      <td>people (1.67)</td>\n",
       "      <td>link (2.73)</td>\n",
       "      <td>information (2.78)</td>\n",
       "      <td>epstein (9.4)</td>\n",
       "      <td>lot (1.16)</td>\n",
       "      <td>new (1.65)</td>\n",
       "      <td>use (2.49)</td>\n",
       "      <td>...</td>\n",
       "      <td>waste_time (0.14)</td>\n",
       "      <td>light (1.02)</td>\n",
       "      <td>ss (2.14)</td>\n",
       "      <td>date (0.84)</td>\n",
       "      <td>nm (0.19)</td>\n",
       "      <td>jfk (0.79)</td>\n",
       "      <td>chan (0.46)</td>\n",
       "      <td>tulsi_gabbard (0.28)</td>\n",
       "      <td>rig (0.14)</td>\n",
       "      <td>hilary_clinton (0.05)</td>\n",
       "    </tr>\n",
       "    <tr>\n",
       "      <th>1</th>\n",
       "      <td>thought (2.15)</td>\n",
       "      <td>find (3.61)</td>\n",
       "      <td>r_conspiracy (1.65)</td>\n",
       "      <td>real (1.21)</td>\n",
       "      <td>edit (1.96)</td>\n",
       "      <td>info (2.24)</td>\n",
       "      <td>jeffrey_epstein (2.25)</td>\n",
       "      <td>maybe (1.14)</td>\n",
       "      <td>major (0.9)</td>\n",
       "      <td>level (0.74)</td>\n",
       "      <td>...</td>\n",
       "      <td>mess (0.11)</td>\n",
       "      <td>bone (0.27)</td>\n",
       "      <td>library (0.43)</td>\n",
       "      <td>august (0.32)</td>\n",
       "      <td>west_virginia (0.14)</td>\n",
       "      <td>bush (0.76)</td>\n",
       "      <td>discord (0.25)</td>\n",
       "      <td>ron_paul (0.14)</td>\n",
       "      <td>threshold (0.07)</td>\n",
       "      <td>acosta (0.03)</td>\n",
       "    </tr>\n",
       "    <tr>\n",
       "      <th>2</th>\n",
       "      <td>happen (2.03)</td>\n",
       "      <td>conspiracy_theory (2.89)</td>\n",
       "      <td>user (1.08)</td>\n",
       "      <td>super (1.02)</td>\n",
       "      <td>page (1.07)</td>\n",
       "      <td>article (1.9)</td>\n",
       "      <td>pedophile (1.62)</td>\n",
       "      <td>stuff (1.08)</td>\n",
       "      <td>warn (0.42)</td>\n",
       "      <td>lead (0.64)</td>\n",
       "      <td>...</td>\n",
       "      <td>ridicule (0.09)</td>\n",
       "      <td>ghost (0.25)</td>\n",
       "      <td>max (0.27)</td>\n",
       "      <td>director (0.3)</td>\n",
       "      <td>mi (0.05)</td>\n",
       "      <td>assassination (0.39)</td>\n",
       "      <td>spell (0.13)</td>\n",
       "      <td>penny (0.08)</td>\n",
       "      <td>rig_election (0.05)</td>\n",
       "      <td>vice (0.02)</td>\n",
       "    </tr>\n",
       "    <tr>\n",
       "      <th>3</th>\n",
       "      <td>think (1.86)</td>\n",
       "      <td>documentary (2.7)</td>\n",
       "      <td>r (0.9)</td>\n",
       "      <td>actually (0.69)</td>\n",
       "      <td>site (0.94)</td>\n",
       "      <td>book (1.82)</td>\n",
       "      <td>ring (1.17)</td>\n",
       "      <td>guy (0.95)</td>\n",
       "      <td>history (0.36)</td>\n",
       "      <td>likely (0.62)</td>\n",
       "      <td>...</td>\n",
       "      <td>hysteria (0.09)</td>\n",
       "      <td>breathe (0.25)</td>\n",
       "      <td>le (0.26)</td>\n",
       "      <td>partner (0.3)</td>\n",
       "      <td>north_carolina (0.04)</td>\n",
       "      <td>assassin (0.3)</td>\n",
       "      <td>spelling (0.11)</td>\n",
       "      <td>democrat_republican (0.05)</td>\n",
       "      <td>rigging (0.01)</td>\n",
       "      <td>herald (-0.02)</td>\n",
       "    </tr>\n",
       "    <tr>\n",
       "      <th>4</th>\n",
       "      <td>know (1.48)</td>\n",
       "      <td>topic (2.03)</td>\n",
       "      <td>comment (0.79)</td>\n",
       "      <td>divide_conquer (0.18)</td>\n",
       "      <td>search (0.85)</td>\n",
       "      <td>read (1.48)</td>\n",
       "      <td>pedophilia (0.85)</td>\n",
       "      <td>probably (0.65)</td>\n",
       "      <td>begin (0.3)</td>\n",
       "      <td>possibility (0.61)</td>\n",
       "      <td>...</td>\n",
       "      <td>everytime (0.08)</td>\n",
       "      <td>thick (0.24)</td>\n",
       "      <td>el (0.22)</td>\n",
       "      <td>december (0.27)</td>\n",
       "      <td>virginia (0.02)</td>\n",
       "      <td>assassinate (0.24)</td>\n",
       "      <td>chat (0.08)</td>\n",
       "      <td>runner (0.03)</td>\n",
       "      <td>proportional (-0.0)</td>\n",
       "      <td>crook (-0.03)</td>\n",
       "    </tr>\n",
       "    <tr>\n",
       "      <th>5</th>\n",
       "      <td>propaganda (1.08)</td>\n",
       "      <td>weird (1.78)</td>\n",
       "      <td>content (0.76)</td>\n",
       "      <td>ignore (0.16)</td>\n",
       "      <td>image (0.8)</td>\n",
       "      <td>etc (1.16)</td>\n",
       "      <td>blackmail (0.74)</td>\n",
       "      <td>idk (0.43)</td>\n",
       "      <td>place (0.21)</td>\n",
       "      <td>individual (0.37)</td>\n",
       "      <td>...</td>\n",
       "      <td>annoying (0.07)</td>\n",
       "      <td>bright (0.23)</td>\n",
       "      <td>je (0.21)</td>\n",
       "      <td>september (0.17)</td>\n",
       "      <td>md (0.01)</td>\n",
       "      <td>jfk_assassination (0.22)</td>\n",
       "      <td>anon (0.05)</td>\n",
       "      <td>strategist (0.02)</td>\n",
       "      <td>electorate (-0.0)</td>\n",
       "      <td>grill (-0.04)</td>\n",
       "    </tr>\n",
       "    <tr>\n",
       "      <th>6</th>\n",
       "      <td>idea (0.94)</td>\n",
       "      <td>strange (1.77)</td>\n",
       "      <td>delete (0.71)</td>\n",
       "      <td>extremely (0.16)</td>\n",
       "      <td>photo (0.65)</td>\n",
       "      <td>sudden (0.5)</td>\n",
       "      <td>pedo (0.66)</td>\n",
       "      <td>alot (0.33)</td>\n",
       "      <td>gate (0.17)</td>\n",
       "      <td>technique (0.35)</td>\n",
       "      <td>...</td>\n",
       "      <td>divisive (0.07)</td>\n",
       "      <td>attract (0.21)</td>\n",
       "      <td>chase (0.18)</td>\n",
       "      <td>april (0.17)</td>\n",
       "      <td>ne (0.0)</td>\n",
       "      <td>dick_cheney (0.18)</td>\n",
       "      <td>russian_bot (0.03)</td>\n",
       "      <td>marco (0.0)</td>\n",
       "      <td>voting_system (-0.01)</td>\n",
       "      <td>hrc (-0.09)</td>\n",
       "    </tr>\n",
       "    <tr>\n",
       "      <th>7</th>\n",
       "      <td>like (0.9)</td>\n",
       "      <td>truth (1.7)</td>\n",
       "      <td>account (0.67)</td>\n",
       "      <td>literally (0.15)</td>\n",
       "      <td>archive (0.56)</td>\n",
       "      <td>piece (0.48)</td>\n",
       "      <td>porn (0.63)</td>\n",
       "      <td>legit (0.28)</td>\n",
       "      <td>grand (0.15)</td>\n",
       "      <td>condition (0.32)</td>\n",
       "      <td>...</td>\n",
       "      <td>buzzword (0.04)</td>\n",
       "      <td>sight (0.19)</td>\n",
       "      <td>mh (0.15)</td>\n",
       "      <td>aug (0.16)</td>\n",
       "      <td>rd (-0.0)</td>\n",
       "      <td>cheney (0.18)</td>\n",
       "      <td>madman (0.01)</td>\n",
       "      <td>win_nomination (-0.0)</td>\n",
       "      <td>political_party (-0.02)</td>\n",
       "      <td>hilary (-0.09)</td>\n",
       "    </tr>\n",
       "    <tr>\n",
       "      <th>8</th>\n",
       "      <td>sort (0.89)</td>\n",
       "      <td>interesting (1.64)</td>\n",
       "      <td>sub (0.64)</td>\n",
       "      <td>portray (0.14)</td>\n",
       "      <td>download (0.52)</td>\n",
       "      <td>usually (0.39)</td>\n",
       "      <td>sex_trafficking (0.53)</td>\n",
       "      <td>okay (0.27)</td>\n",
       "      <td>warning (0.15)</td>\n",
       "      <td>remain (0.3)</td>\n",
       "      <td>...</td>\n",
       "      <td>childish (0.04)</td>\n",
       "      <td>shine (0.18)</td>\n",
       "      <td>se (0.15)</td>\n",
       "      <td>sept (0.14)</td>\n",
       "      <td>new_york (-0.0)</td>\n",
       "      <td>george_bush (0.16)</td>\n",
       "      <td>stay_vigilant (0.0)</td>\n",
       "      <td>gabbard (-0.0)</td>\n",
       "      <td>statewide (-0.04)</td>\n",
       "      <td>oval_office (-0.09)</td>\n",
       "    </tr>\n",
       "    <tr>\n",
       "      <th>9</th>\n",
       "      <td>hide (0.86)</td>\n",
       "      <td>wonder (1.43)</td>\n",
       "      <td>bot (0.57)</td>\n",
       "      <td>try (0.14)</td>\n",
       "      <td>picture (0.51)</td>\n",
       "      <td>version (0.37)</td>\n",
       "      <td>jeffery_epstein (0.5)</td>\n",
       "      <td>nt (0.25)</td>\n",
       "      <td>ultimate (0.14)</td>\n",
       "      <td>method (0.3)</td>\n",
       "      <td>...</td>\n",
       "      <td>frustration (0.04)</td>\n",
       "      <td>trail (0.12)</td>\n",
       "      <td>architect (0.12)</td>\n",
       "      <td>jan (0.13)</td>\n",
       "      <td>new_mexico (-0.01)</td>\n",
       "      <td>kennedy (0.15)</td>\n",
       "      <td>navigator (0.0)</td>\n",
       "      <td>presidential_race (-0.0)</td>\n",
       "      <td>caucus (-0.05)</td>\n",
       "      <td>press_conference (-0.13)</td>\n",
       "    </tr>\n",
       "  </tbody>\n",
       "</table>\n",
       "<p>10 rows × 100 columns</p>\n",
       "</div>"
      ],
      "text/plain": [
       "                  80                        60                   47  \\\n",
       "0     believe (2.48)        conspiracy (11.65)          post (2.78)   \n",
       "1     thought (2.15)               find (3.61)  r_conspiracy (1.65)   \n",
       "2      happen (2.03)  conspiracy_theory (2.89)          user (1.08)   \n",
       "3       think (1.86)         documentary (2.7)              r (0.9)   \n",
       "4        know (1.48)              topic (2.03)       comment (0.79)   \n",
       "5  propaganda (1.08)              weird (1.78)       content (0.76)   \n",
       "6        idea (0.94)            strange (1.77)        delete (0.71)   \n",
       "7         like (0.9)               truth (1.7)       account (0.67)   \n",
       "8        sort (0.89)        interesting (1.64)           sub (0.64)   \n",
       "9        hide (0.86)             wonder (1.43)           bot (0.57)   \n",
       "\n",
       "                      32               28                  15  \\\n",
       "0          people (1.67)      link (2.73)  information (2.78)   \n",
       "1            real (1.21)      edit (1.96)         info (2.24)   \n",
       "2           super (1.02)      page (1.07)       article (1.9)   \n",
       "3        actually (0.69)      site (0.94)         book (1.82)   \n",
       "4  divide_conquer (0.18)    search (0.85)         read (1.48)   \n",
       "5          ignore (0.16)      image (0.8)          etc (1.16)   \n",
       "6       extremely (0.16)     photo (0.65)        sudden (0.5)   \n",
       "7       literally (0.15)   archive (0.56)        piece (0.48)   \n",
       "8         portray (0.14)  download (0.52)      usually (0.39)   \n",
       "9             try (0.14)   picture (0.51)      version (0.37)   \n",
       "\n",
       "                       5                23               50  \\\n",
       "0           epstein (9.4)       lot (1.16)       new (1.65)   \n",
       "1  jeffrey_epstein (2.25)     maybe (1.14)      major (0.9)   \n",
       "2        pedophile (1.62)     stuff (1.08)      warn (0.42)   \n",
       "3             ring (1.17)       guy (0.95)   history (0.36)   \n",
       "4       pedophilia (0.85)  probably (0.65)      begin (0.3)   \n",
       "5        blackmail (0.74)       idk (0.43)     place (0.21)   \n",
       "6             pedo (0.66)      alot (0.33)      gate (0.17)   \n",
       "7             porn (0.63)     legit (0.28)     grand (0.15)   \n",
       "8  sex_trafficking (0.53)      okay (0.27)   warning (0.15)   \n",
       "9   jeffery_epstein (0.5)        nt (0.25)  ultimate (0.14)   \n",
       "\n",
       "                   14  ...                  79              33  \\\n",
       "0          use (2.49)  ...   waste_time (0.14)    light (1.02)   \n",
       "1        level (0.74)  ...         mess (0.11)     bone (0.27)   \n",
       "2         lead (0.64)  ...     ridicule (0.09)    ghost (0.25)   \n",
       "3       likely (0.62)  ...     hysteria (0.09)  breathe (0.25)   \n",
       "4  possibility (0.61)  ...    everytime (0.08)    thick (0.24)   \n",
       "5   individual (0.37)  ...     annoying (0.07)   bright (0.23)   \n",
       "6    technique (0.35)  ...     divisive (0.07)  attract (0.21)   \n",
       "7    condition (0.32)  ...     buzzword (0.04)    sight (0.19)   \n",
       "8        remain (0.3)  ...     childish (0.04)    shine (0.18)   \n",
       "9        method (0.3)  ...  frustration (0.04)    trail (0.12)   \n",
       "\n",
       "                 78                9                      13  \\\n",
       "0         ss (2.14)       date (0.84)              nm (0.19)   \n",
       "1    library (0.43)     august (0.32)   west_virginia (0.14)   \n",
       "2        max (0.27)    director (0.3)              mi (0.05)   \n",
       "3         le (0.26)     partner (0.3)  north_carolina (0.04)   \n",
       "4         el (0.22)   december (0.27)        virginia (0.02)   \n",
       "5         je (0.21)  september (0.17)              md (0.01)   \n",
       "6      chase (0.18)      april (0.17)               ne (0.0)   \n",
       "7         mh (0.15)        aug (0.16)              rd (-0.0)   \n",
       "8         se (0.15)       sept (0.14)        new_york (-0.0)   \n",
       "9  architect (0.12)        jan (0.13)     new_mexico (-0.01)   \n",
       "\n",
       "                         24                   7                           69  \\\n",
       "0                jfk (0.79)          chan (0.46)        tulsi_gabbard (0.28)   \n",
       "1               bush (0.76)       discord (0.25)             ron_paul (0.14)   \n",
       "2      assassination (0.39)         spell (0.13)                penny (0.08)   \n",
       "3            assassin (0.3)      spelling (0.11)  democrat_republican (0.05)   \n",
       "4        assassinate (0.24)          chat (0.08)               runner (0.03)   \n",
       "5  jfk_assassination (0.22)          anon (0.05)           strategist (0.02)   \n",
       "6        dick_cheney (0.18)   russian_bot (0.03)                 marco (0.0)   \n",
       "7             cheney (0.18)        madman (0.01)       win_nomination (-0.0)   \n",
       "8        george_bush (0.16)  stay_vigilant (0.0)              gabbard (-0.0)   \n",
       "9            kennedy (0.15)      navigator (0.0)    presidential_race (-0.0)   \n",
       "\n",
       "                        44                        27  \n",
       "0               rig (0.14)     hilary_clinton (0.05)  \n",
       "1         threshold (0.07)             acosta (0.03)  \n",
       "2      rig_election (0.05)               vice (0.02)  \n",
       "3           rigging (0.01)            herald (-0.02)  \n",
       "4      proportional (-0.0)             crook (-0.03)  \n",
       "5        electorate (-0.0)             grill (-0.04)  \n",
       "6    voting_system (-0.01)               hrc (-0.09)  \n",
       "7  political_party (-0.02)            hilary (-0.09)  \n",
       "8        statewide (-0.04)       oval_office (-0.09)  \n",
       "9           caucus (-0.05)  press_conference (-0.13)  \n",
       "\n",
       "[10 rows x 100 columns]"
      ]
     },
     "execution_count": 94,
     "metadata": {},
     "output_type": "execute_result"
    }
   ],
   "source": [
    "c2"
   ]
  },
  {
   "cell_type": "code",
   "execution_count": 95,
   "metadata": {},
   "outputs": [
    {
     "data": {
      "text/html": [
       "<div>\n",
       "<style scoped>\n",
       "    .dataframe tbody tr th:only-of-type {\n",
       "        vertical-align: middle;\n",
       "    }\n",
       "\n",
       "    .dataframe tbody tr th {\n",
       "        vertical-align: top;\n",
       "    }\n",
       "\n",
       "    .dataframe thead th {\n",
       "        text-align: right;\n",
       "    }\n",
       "</style>\n",
       "<table border=\"1\" class=\"dataframe\">\n",
       "  <thead>\n",
       "    <tr style=\"text-align: right;\">\n",
       "      <th></th>\n",
       "      <th>7</th>\n",
       "      <th>69</th>\n",
       "      <th>80</th>\n",
       "      <th>47</th>\n",
       "      <th>23</th>\n",
       "      <th>32</th>\n",
       "      <th>87</th>\n",
       "      <th>64</th>\n",
       "      <th>94</th>\n",
       "      <th>44</th>\n",
       "      <th>...</th>\n",
       "      <th>6</th>\n",
       "      <th>93</th>\n",
       "      <th>9</th>\n",
       "      <th>36</th>\n",
       "      <th>39</th>\n",
       "      <th>52</th>\n",
       "      <th>48</th>\n",
       "      <th>90</th>\n",
       "      <th>22</th>\n",
       "      <th>20</th>\n",
       "    </tr>\n",
       "  </thead>\n",
       "  <tbody>\n",
       "    <tr>\n",
       "      <th>0</th>\n",
       "      <td>trump (45.73)</td>\n",
       "      <td>cruz (9.92)</td>\n",
       "      <td>good (2.38)</td>\n",
       "      <td>r_the_donald (4.14)</td>\n",
       "      <td>fucking (3.55)</td>\n",
       "      <td>want (4.16)</td>\n",
       "      <td>bernie (11.27)</td>\n",
       "      <td>liberal (5.92)</td>\n",
       "      <td>support (7.36)</td>\n",
       "      <td>vote (15.21)</td>\n",
       "      <td>...</td>\n",
       "      <td>bear (0.38)</td>\n",
       "      <td>embrace (0.31)</td>\n",
       "      <td>november (0.8)</td>\n",
       "      <td>holy (0.18)</td>\n",
       "      <td>exposure (0.16)</td>\n",
       "      <td>wildlife (0.05)</td>\n",
       "      <td>cotton (0.1)</td>\n",
       "      <td>skyscraper (-0.03)</td>\n",
       "      <td>cm (0.05)</td>\n",
       "      <td>abortion (0.9)</td>\n",
       "    </tr>\n",
       "    <tr>\n",
       "      <th>1</th>\n",
       "      <td>donald (9.45)</td>\n",
       "      <td>win (9.62)</td>\n",
       "      <td>like (1.9)</td>\n",
       "      <td>the_donald (2.64)</td>\n",
       "      <td>guy (1.8)</td>\n",
       "      <td>debate (3.85)</td>\n",
       "      <td>trump_supporter (5.19)</td>\n",
       "      <td>fuck (4.89)</td>\n",
       "      <td>let (3.76)</td>\n",
       "      <td>poll (4.84)</td>\n",
       "      <td>...</td>\n",
       "      <td>bird (0.23)</td>\n",
       "      <td>desire (0.14)</td>\n",
       "      <td>march (0.19)</td>\n",
       "      <td>evil (0.14)</td>\n",
       "      <td>ptsd (0.08)</td>\n",
       "      <td>hygiene (0.04)</td>\n",
       "      <td>crime_rate (0.08)</td>\n",
       "      <td>residue (-0.04)</td>\n",
       "      <td>meter (0.04)</td>\n",
       "      <td>baby (0.04)</td>\n",
       "    </tr>\n",
       "    <tr>\n",
       "      <th>2</th>\n",
       "      <td>donald_trump (8.63)</td>\n",
       "      <td>delegate (7.87)</td>\n",
       "      <td>come (1.65)</td>\n",
       "      <td>mr_trump (1.68)</td>\n",
       "      <td>thank (1.78)</td>\n",
       "      <td>stop (2.19)</td>\n",
       "      <td>sander (4.26)</td>\n",
       "      <td>sjw (2.21)</td>\n",
       "      <td>establishment (2.39)</td>\n",
       "      <td>voter (3.48)</td>\n",
       "      <td>...</td>\n",
       "      <td>birth (0.12)</td>\n",
       "      <td>moral (0.12)</td>\n",
       "      <td>june (0.13)</td>\n",
       "      <td>witch (0.12)</td>\n",
       "      <td>surgeon (0.04)</td>\n",
       "      <td>coal (0.04)</td>\n",
       "      <td>carrier (0.06)</td>\n",
       "      <td>liquid (-0.04)</td>\n",
       "      <td>ft (0.03)</td>\n",
       "      <td>fetus (0.01)</td>\n",
       "    </tr>\n",
       "    <tr>\n",
       "      <th>3</th>\n",
       "      <td>cuck (7.45)</td>\n",
       "      <td>candidate (6.01)</td>\n",
       "      <td>leave (0.81)</td>\n",
       "      <td>domreddit (1.3)</td>\n",
       "      <td>fun (1.5)</td>\n",
       "      <td>chance (1.33)</td>\n",
       "      <td>supporter (3.73)</td>\n",
       "      <td>shit (2.02)</td>\n",
       "      <td>conservative (2.19)</td>\n",
       "      <td>party (3.02)</td>\n",
       "      <td>...</td>\n",
       "      <td>destiny (0.08)</td>\n",
       "      <td>loyalty (0.11)</td>\n",
       "      <td>july (0.11)</td>\n",
       "      <td>savior (0.1)</td>\n",
       "      <td>complication (0.04)</td>\n",
       "      <td>unsafe (0.01)</td>\n",
       "      <td>violent_crime (0.06)</td>\n",
       "      <td>powder (-0.05)</td>\n",
       "      <td>jupiter (0.03)</td>\n",
       "      <td>incidence (-0.01)</td>\n",
       "    </tr>\n",
       "    <tr>\n",
       "      <th>4</th>\n",
       "      <td>maga (7.23)</td>\n",
       "      <td>campaign (5.3)</td>\n",
       "      <td>far (0.66)</td>\n",
       "      <td>upvote (1.29)</td>\n",
       "      <td>arf_arf_arf_arf (1.35)</td>\n",
       "      <td>politic (1.3)</td>\n",
       "      <td>bernie_supporter (2.48)</td>\n",
       "      <td>left (1.83)</td>\n",
       "      <td>right (1.73)</td>\n",
       "      <td>election (2.76)</td>\n",
       "      <td>...</td>\n",
       "      <td>elephant (0.08)</td>\n",
       "      <td>display (0.1)</td>\n",
       "      <td>april (0.05)</td>\n",
       "      <td>devil (0.09)</td>\n",
       "      <td>dysfunction (0.03)</td>\n",
       "      <td>soil (0.01)</td>\n",
       "      <td>high_rate (0.06)</td>\n",
       "      <td>law_physics (-0.05)</td>\n",
       "      <td>cosmic (0.02)</td>\n",
       "      <td>prevention (-0.02)</td>\n",
       "    </tr>\n",
       "    <tr>\n",
       "      <th>5</th>\n",
       "      <td>high_energy (6.59)</td>\n",
       "      <td>kasich (5.27)</td>\n",
       "      <td>rest (0.47)</td>\n",
       "      <td>r_politic (1.25)</td>\n",
       "      <td>gon_na (1.32)</td>\n",
       "      <td>try (1.1)</td>\n",
       "      <td>tweet (1.92)</td>\n",
       "      <td>sjws (1.3)</td>\n",
       "      <td>finally (0.73)</td>\n",
       "      <td>caucus (1.48)</td>\n",
       "      <td>...</td>\n",
       "      <td>descend (0.07)</td>\n",
       "      <td>allegiance (0.09)</td>\n",
       "      <td>chairman (0.03)</td>\n",
       "      <td>jesus_christ (0.09)</td>\n",
       "      <td>pill (0.01)</td>\n",
       "      <td>global_warming (-0.0)</td>\n",
       "      <td>pot (0.05)</td>\n",
       "      <td>intact (-0.05)</td>\n",
       "      <td>dome (0.02)</td>\n",
       "      <td>efficacy (-0.02)</td>\n",
       "    </tr>\n",
       "    <tr>\n",
       "      <th>6</th>\n",
       "      <td>centipede (6.34)</td>\n",
       "      <td>primary (3.91)</td>\n",
       "      <td>ahead (0.35)</td>\n",
       "      <td>admin (1.19)</td>\n",
       "      <td>wait (1.3)</td>\n",
       "      <td>care (0.93)</td>\n",
       "      <td>tonight (1.83)</td>\n",
       "      <td>spread (1.06)</td>\n",
       "      <td>defend (0.62)</td>\n",
       "      <td>voting (1.23)</td>\n",
       "      <td>...</td>\n",
       "      <td>eagle (0.06)</td>\n",
       "      <td>ideal (0.08)</td>\n",
       "      <td>february (0.02)</td>\n",
       "      <td>mortal (0.08)</td>\n",
       "      <td>stroke (0.0)</td>\n",
       "      <td>transplant (-0.01)</td>\n",
       "      <td>legalize (0.02)</td>\n",
       "      <td>footprint (-0.07)</td>\n",
       "      <td>infinite (0.01)</td>\n",
       "      <td>pregnancy (-0.02)</td>\n",
       "    </tr>\n",
       "    <tr>\n",
       "      <th>7</th>\n",
       "      <td>america_great (5.71)</td>\n",
       "      <td>te_cruz (3.46)</td>\n",
       "      <td>think (0.34)</td>\n",
       "      <td>subreddit (1.14)</td>\n",
       "      <td>seriously (1.07)</td>\n",
       "      <td>literally (0.89)</td>\n",
       "      <td>tomorrow (1.18)</td>\n",
       "      <td>ass (0.98)</td>\n",
       "      <td>stance (0.57)</td>\n",
       "      <td>ballot (1.08)</td>\n",
       "      <td>...</td>\n",
       "      <td>carve (0.05)</td>\n",
       "      <td>lay (0.06)</td>\n",
       "      <td>january (0.0)</td>\n",
       "      <td>goat (0.08)</td>\n",
       "      <td>brain_damage (-0.0)</td>\n",
       "      <td>carbon_emission (-0.01)</td>\n",
       "      <td>export (0.02)</td>\n",
       "      <td>dust (-0.09)</td>\n",
       "      <td>galaxy (0.01)</td>\n",
       "      <td>cervical_cancer (-0.03)</td>\n",
       "    </tr>\n",
       "    <tr>\n",
       "      <th>8</th>\n",
       "      <td>meme (3.42)</td>\n",
       "      <td>republican (3.3)</td>\n",
       "      <td>personally (0.26)</td>\n",
       "      <td>mod (1.04)</td>\n",
       "      <td>wo (1.0)</td>\n",
       "      <td>realize (0.71)</td>\n",
       "      <td>twitter (1.14)</td>\n",
       "      <td>leftist (0.95)</td>\n",
       "      <td>pander (0.54)</td>\n",
       "      <td>polling (0.75)</td>\n",
       "      <td>...</td>\n",
       "      <td>stretch (0.04)</td>\n",
       "      <td>breed (0.05)</td>\n",
       "      <td>law_firm (-0.02)</td>\n",
       "      <td>zeus (0.04)</td>\n",
       "      <td>wheat (-0.0)</td>\n",
       "      <td>poisonous (-0.02)</td>\n",
       "      <td>save_life (0.01)</td>\n",
       "      <td>motion (-0.09)</td>\n",
       "      <td>mile (0.01)</td>\n",
       "      <td>nutrition (-0.03)</td>\n",
       "    </tr>\n",
       "    <tr>\n",
       "      <th>9</th>\n",
       "      <td>don (2.86)</td>\n",
       "      <td>rubio (3.24)</td>\n",
       "      <td>impressive (0.26)</td>\n",
       "      <td>brigade (1.01)</td>\n",
       "      <td>nt (0.96)</td>\n",
       "      <td>person (0.67)</td>\n",
       "      <td>sander_supporter (1.11)</td>\n",
       "      <td>fucking_breakdown (0.83)</td>\n",
       "      <td>fair (0.54)</td>\n",
       "      <td>register (0.75)</td>\n",
       "      <td>...</td>\n",
       "      <td>cattle (0.04)</td>\n",
       "      <td>instill (0.04)</td>\n",
       "      <td>executive_director (-0.03)</td>\n",
       "      <td>immortal (0.03)</td>\n",
       "      <td>enzyme (-0.01)</td>\n",
       "      <td>insect (-0.03)</td>\n",
       "      <td>legalization (-0.0)</td>\n",
       "      <td>rubble (-0.1)</td>\n",
       "      <td>dimensional (-0.01)</td>\n",
       "      <td>effectiveness (-0.03)</td>\n",
       "    </tr>\n",
       "  </tbody>\n",
       "</table>\n",
       "<p>10 rows × 100 columns</p>\n",
       "</div>"
      ],
      "text/plain": [
       "                     7                 69                 80  \\\n",
       "0         trump (45.73)       cruz (9.92)        good (2.38)   \n",
       "1         donald (9.45)        win (9.62)         like (1.9)   \n",
       "2   donald_trump (8.63)   delegate (7.87)        come (1.65)   \n",
       "3           cuck (7.45)  candidate (6.01)       leave (0.81)   \n",
       "4           maga (7.23)    campaign (5.3)         far (0.66)   \n",
       "5    high_energy (6.59)     kasich (5.27)        rest (0.47)   \n",
       "6      centipede (6.34)    primary (3.91)       ahead (0.35)   \n",
       "7  america_great (5.71)    te_cruz (3.46)       think (0.34)   \n",
       "8           meme (3.42)  republican (3.3)  personally (0.26)   \n",
       "9            don (2.86)      rubio (3.24)  impressive (0.26)   \n",
       "\n",
       "                    47                      23                32  \\\n",
       "0  r_the_donald (4.14)          fucking (3.55)       want (4.16)   \n",
       "1    the_donald (2.64)               guy (1.8)     debate (3.85)   \n",
       "2      mr_trump (1.68)            thank (1.78)       stop (2.19)   \n",
       "3      domreddit (1.3)               fun (1.5)     chance (1.33)   \n",
       "4        upvote (1.29)  arf_arf_arf_arf (1.35)     politic (1.3)   \n",
       "5     r_politic (1.25)           gon_na (1.32)         try (1.1)   \n",
       "6         admin (1.19)              wait (1.3)       care (0.93)   \n",
       "7     subreddit (1.14)        seriously (1.07)  literally (0.89)   \n",
       "8           mod (1.04)                wo (1.0)    realize (0.71)   \n",
       "9       brigade (1.01)               nt (0.96)     person (0.67)   \n",
       "\n",
       "                        87                        64                    94  \\\n",
       "0           bernie (11.27)            liberal (5.92)        support (7.36)   \n",
       "1   trump_supporter (5.19)               fuck (4.89)            let (3.76)   \n",
       "2            sander (4.26)                sjw (2.21)  establishment (2.39)   \n",
       "3         supporter (3.73)               shit (2.02)   conservative (2.19)   \n",
       "4  bernie_supporter (2.48)               left (1.83)          right (1.73)   \n",
       "5             tweet (1.92)                sjws (1.3)        finally (0.73)   \n",
       "6           tonight (1.83)             spread (1.06)         defend (0.62)   \n",
       "7          tomorrow (1.18)                ass (0.98)         stance (0.57)   \n",
       "8           twitter (1.14)            leftist (0.95)         pander (0.54)   \n",
       "9  sander_supporter (1.11)  fucking_breakdown (0.83)           fair (0.54)   \n",
       "\n",
       "                44  ...               6                  93  \\\n",
       "0     vote (15.21)  ...      bear (0.38)     embrace (0.31)   \n",
       "1      poll (4.84)  ...      bird (0.23)      desire (0.14)   \n",
       "2     voter (3.48)  ...     birth (0.12)       moral (0.12)   \n",
       "3     party (3.02)  ...   destiny (0.08)     loyalty (0.11)   \n",
       "4  election (2.76)  ...  elephant (0.08)      display (0.1)   \n",
       "5    caucus (1.48)  ...   descend (0.07)  allegiance (0.09)   \n",
       "6    voting (1.23)  ...     eagle (0.06)       ideal (0.08)   \n",
       "7    ballot (1.08)  ...     carve (0.05)         lay (0.06)   \n",
       "8   polling (0.75)  ...   stretch (0.04)       breed (0.05)   \n",
       "9  register (0.75)  ...    cattle (0.04)     instill (0.04)   \n",
       "\n",
       "                           9                    36                   39  \\\n",
       "0              november (0.8)          holy (0.18)      exposure (0.16)   \n",
       "1                march (0.19)          evil (0.14)          ptsd (0.08)   \n",
       "2                 june (0.13)         witch (0.12)       surgeon (0.04)   \n",
       "3                 july (0.11)         savior (0.1)  complication (0.04)   \n",
       "4                april (0.05)         devil (0.09)   dysfunction (0.03)   \n",
       "5             chairman (0.03)  jesus_christ (0.09)          pill (0.01)   \n",
       "6             february (0.02)        mortal (0.08)         stroke (0.0)   \n",
       "7               january (0.0)          goat (0.08)  brain_damage (-0.0)   \n",
       "8            law_firm (-0.02)          zeus (0.04)         wheat (-0.0)   \n",
       "9  executive_director (-0.03)      immortal (0.03)       enzyme (-0.01)   \n",
       "\n",
       "                        52                    48                   90  \\\n",
       "0          wildlife (0.05)          cotton (0.1)   skyscraper (-0.03)   \n",
       "1           hygiene (0.04)     crime_rate (0.08)      residue (-0.04)   \n",
       "2              coal (0.04)        carrier (0.06)       liquid (-0.04)   \n",
       "3            unsafe (0.01)  violent_crime (0.06)       powder (-0.05)   \n",
       "4              soil (0.01)      high_rate (0.06)  law_physics (-0.05)   \n",
       "5    global_warming (-0.0)            pot (0.05)       intact (-0.05)   \n",
       "6       transplant (-0.01)       legalize (0.02)    footprint (-0.07)   \n",
       "7  carbon_emission (-0.01)         export (0.02)         dust (-0.09)   \n",
       "8        poisonous (-0.02)      save_life (0.01)       motion (-0.09)   \n",
       "9           insect (-0.03)   legalization (-0.0)        rubble (-0.1)   \n",
       "\n",
       "                    22                       20  \n",
       "0            cm (0.05)           abortion (0.9)  \n",
       "1         meter (0.04)              baby (0.04)  \n",
       "2            ft (0.03)             fetus (0.01)  \n",
       "3       jupiter (0.03)        incidence (-0.01)  \n",
       "4        cosmic (0.02)       prevention (-0.02)  \n",
       "5          dome (0.02)         efficacy (-0.02)  \n",
       "6      infinite (0.01)        pregnancy (-0.02)  \n",
       "7        galaxy (0.01)  cervical_cancer (-0.03)  \n",
       "8          mile (0.01)        nutrition (-0.03)  \n",
       "9  dimensional (-0.01)    effectiveness (-0.03)  \n",
       "\n",
       "[10 rows x 100 columns]"
      ]
     },
     "execution_count": 95,
     "metadata": {},
     "output_type": "execute_result"
    }
   ],
   "source": [
    "c3"
   ]
  },
  {
   "cell_type": "code",
   "execution_count": 96,
   "metadata": {},
   "outputs": [
    {
     "data": {
      "text/html": [
       "<div>\n",
       "<style scoped>\n",
       "    .dataframe tbody tr th:only-of-type {\n",
       "        vertical-align: middle;\n",
       "    }\n",
       "\n",
       "    .dataframe tbody tr th {\n",
       "        vertical-align: top;\n",
       "    }\n",
       "\n",
       "    .dataframe thead th {\n",
       "        text-align: right;\n",
       "    }\n",
       "</style>\n",
       "<table border=\"1\" class=\"dataframe\">\n",
       "  <thead>\n",
       "    <tr style=\"text-align: right;\">\n",
       "      <th></th>\n",
       "      <th>80</th>\n",
       "      <th>47</th>\n",
       "      <th>72</th>\n",
       "      <th>32</th>\n",
       "      <th>23</th>\n",
       "      <th>7</th>\n",
       "      <th>94</th>\n",
       "      <th>64</th>\n",
       "      <th>87</th>\n",
       "      <th>69</th>\n",
       "      <th>...</th>\n",
       "      <th>9</th>\n",
       "      <th>48</th>\n",
       "      <th>20</th>\n",
       "      <th>36</th>\n",
       "      <th>62</th>\n",
       "      <th>56</th>\n",
       "      <th>52</th>\n",
       "      <th>81</th>\n",
       "      <th>22</th>\n",
       "      <th>90</th>\n",
       "    </tr>\n",
       "  </thead>\n",
       "  <tbody>\n",
       "    <tr>\n",
       "      <th>0</th>\n",
       "      <td>leave (1.9)</td>\n",
       "      <td>quarantine (3.58)</td>\n",
       "      <td>american (4.03)</td>\n",
       "      <td>want (2.04)</td>\n",
       "      <td>thank (3.25)</td>\n",
       "      <td>trump (12.9)</td>\n",
       "      <td>conservative (4.45)</td>\n",
       "      <td>left (5.26)</td>\n",
       "      <td>significant_tweet (3.02)</td>\n",
       "      <td>democrat (6.5)</td>\n",
       "      <td>...</td>\n",
       "      <td>november (0.82)</td>\n",
       "      <td>alcohol (0.2)</td>\n",
       "      <td>abortion (2.0)</td>\n",
       "      <td>evil (0.64)</td>\n",
       "      <td>civil_right (0.37)</td>\n",
       "      <td>vietnam (0.13)</td>\n",
       "      <td>ricin (0.12)</td>\n",
       "      <td>methodology (0.03)</td>\n",
       "      <td>mile (0.15)</td>\n",
       "      <td>floor (0.13)</td>\n",
       "    </tr>\n",
       "    <tr>\n",
       "      <th>1</th>\n",
       "      <td>good (1.76)</td>\n",
       "      <td>t_d (2.67)</td>\n",
       "      <td>country (3.69)</td>\n",
       "      <td>stop (1.38)</td>\n",
       "      <td>wait (1.23)</td>\n",
       "      <td>pes (4.73)</td>\n",
       "      <td>support (3.47)</td>\n",
       "      <td>liberal (4.71)</td>\n",
       "      <td>news_spice (2.75)</td>\n",
       "      <td>dem (6.0)</td>\n",
       "      <td>...</td>\n",
       "      <td>march (0.27)</td>\n",
       "      <td>pound (0.17)</td>\n",
       "      <td>baby (0.7)</td>\n",
       "      <td>holy (0.45)</td>\n",
       "      <td>king (0.3)</td>\n",
       "      <td>bangladesh (0.06)</td>\n",
       "      <td>global_warming (0.12)</td>\n",
       "      <td>sample (0.01)</td>\n",
       "      <td>vacuum (0.05)</td>\n",
       "      <td>motion (0.06)</td>\n",
       "    </tr>\n",
       "    <tr>\n",
       "      <th>2</th>\n",
       "      <td>line (0.99)</td>\n",
       "      <td>the_donald (2.56)</td>\n",
       "      <td>america (3.37)</td>\n",
       "      <td>debate (1.22)</td>\n",
       "      <td>fucking (1.08)</td>\n",
       "      <td>maga (3.89)</td>\n",
       "      <td>let (2.95)</td>\n",
       "      <td>leftist (3.86)</td>\n",
       "      <td>twitter (2.19)</td>\n",
       "      <td>republican (4.43)</td>\n",
       "      <td>...</td>\n",
       "      <td>firm (0.2)</td>\n",
       "      <td>homicide (0.15)</td>\n",
       "      <td>plan_parenthood (0.39)</td>\n",
       "      <td>jesus_christ (0.21)</td>\n",
       "      <td>preach (0.28)</td>\n",
       "      <td>isis (0.04)</td>\n",
       "      <td>toxic (0.07)</td>\n",
       "      <td>cascade (0.0)</td>\n",
       "      <td>ft (0.05)</td>\n",
       "      <td>intact (0.01)</td>\n",
       "    </tr>\n",
       "    <tr>\n",
       "      <th>3</th>\n",
       "      <td>tell (0.92)</td>\n",
       "      <td>reddit (1.66)</td>\n",
       "      <td>wall (2.53)</td>\n",
       "      <td>care (0.89)</td>\n",
       "      <td>fredo (0.82)</td>\n",
       "      <td>geotus (2.91)</td>\n",
       "      <td>right (2.87)</td>\n",
       "      <td>fuck (1.36)</td>\n",
       "      <td>trump_supporter (1.79)</td>\n",
       "      <td>win (4.34)</td>\n",
       "      <td>...</td>\n",
       "      <td>nov (0.19)</td>\n",
       "      <td>cotton (0.14)</td>\n",
       "      <td>fetus (0.14)</td>\n",
       "      <td>tomb (0.17)</td>\n",
       "      <td>persecute (0.28)</td>\n",
       "      <td>kurdish (0.03)</td>\n",
       "      <td>food_water (0.04)</td>\n",
       "      <td>chemistry (-0.0)</td>\n",
       "      <td>cm (0.01)</td>\n",
       "      <td>rubble (0.01)</td>\n",
       "    </tr>\n",
       "    <tr>\n",
       "      <th>4</th>\n",
       "      <td>come (0.83)</td>\n",
       "      <td>r_the_donald (1.51)</td>\n",
       "      <td>illegal (2.34)</td>\n",
       "      <td>politic (0.81)</td>\n",
       "      <td>lol (0.77)</td>\n",
       "      <td>pede (2.18)</td>\n",
       "      <td>progressive (0.76)</td>\n",
       "      <td>bad (1.26)</td>\n",
       "      <td>day (1.48)</td>\n",
       "      <td>democrats (4.09)</td>\n",
       "      <td>...</td>\n",
       "      <td>executive (0.17)</td>\n",
       "      <td>exam (0.14)</td>\n",
       "      <td>pregnancy (0.08)</td>\n",
       "      <td>savior (0.12)</td>\n",
       "      <td>persecution (0.1)</td>\n",
       "      <td>turk (0.03)</td>\n",
       "      <td>roundup (0.03)</td>\n",
       "      <td>precise (-0.0)</td>\n",
       "      <td>mph (0.01)</td>\n",
       "      <td>physical_evidence (0.01)</td>\n",
       "    </tr>\n",
       "    <tr>\n",
       "      <th>5</th>\n",
       "      <td>tip (0.5)</td>\n",
       "      <td>td (1.29)</td>\n",
       "      <td>border (1.55)</td>\n",
       "      <td>truly (0.5)</td>\n",
       "      <td>reminder (0.77)</td>\n",
       "      <td>potus (2.07)</td>\n",
       "      <td>silence (0.73)</td>\n",
       "      <td>lefty (0.98)</td>\n",
       "      <td>tweet (1.47)</td>\n",
       "      <td>campaign (1.88)</td>\n",
       "      <td>...</td>\n",
       "      <td>chairman (0.1)</td>\n",
       "      <td>legalize (0.13)</td>\n",
       "      <td>drug_company (0.06)</td>\n",
       "      <td>gospel (0.1)</td>\n",
       "      <td>caesar (0.07)</td>\n",
       "      <td>mediterranean (0.03)</td>\n",
       "      <td>transplant (0.03)</td>\n",
       "      <td>modify (-0.0)</td>\n",
       "      <td>aurora (-0.01)</td>\n",
       "      <td>structural (-0.01)</td>\n",
       "    </tr>\n",
       "    <tr>\n",
       "      <th>6</th>\n",
       "      <td>point (0.46)</td>\n",
       "      <td>subscribe (0.72)</td>\n",
       "      <td>nation (1.54)</td>\n",
       "      <td>attempt (0.46)</td>\n",
       "      <td>ha_ha_ha_ha (0.74)</td>\n",
       "      <td>meme (1.82)</td>\n",
       "      <td>defend (0.64)</td>\n",
       "      <td>libtard (0.77)</td>\n",
       "      <td>retweete (1.3)</td>\n",
       "      <td>elect (1.27)</td>\n",
       "      <td>...</td>\n",
       "      <td>january (0.04)</td>\n",
       "      <td>farmer (0.12)</td>\n",
       "      <td>pregnant (0.05)</td>\n",
       "      <td>tradition (0.09)</td>\n",
       "      <td>execution (0.06)</td>\n",
       "      <td>terrorist_organization (0.03)</td>\n",
       "      <td>greenhouse_gas (0.03)</td>\n",
       "      <td>simultaneous (-0.01)</td>\n",
       "      <td>linear (-0.02)</td>\n",
       "      <td>powder (-0.02)</td>\n",
       "    </tr>\n",
       "    <tr>\n",
       "      <th>7</th>\n",
       "      <td>ahead (0.27)</td>\n",
       "      <td>spez (0.71)</td>\n",
       "      <td>immigrant (1.17)</td>\n",
       "      <td>fault (0.41)</td>\n",
       "      <td>wo (0.74)</td>\n",
       "      <td>donald_trump (1.63)</td>\n",
       "      <td>left_wing (0.58)</td>\n",
       "      <td>libs (0.69)</td>\n",
       "      <td>tonight (1.1)</td>\n",
       "      <td>candidate (1.14)</td>\n",
       "      <td>...</td>\n",
       "      <td>oct (0.02)</td>\n",
       "      <td>lbs (0.12)</td>\n",
       "      <td>prevention (0.03)</td>\n",
       "      <td>demon (0.08)</td>\n",
       "      <td>reign (0.06)</td>\n",
       "      <td>al_qaeda (0.02)</td>\n",
       "      <td>coal (0.02)</td>\n",
       "      <td>index (-0.02)</td>\n",
       "      <td>einstein (-0.02)</td>\n",
       "      <td>iron (-0.04)</td>\n",
       "    </tr>\n",
       "    <tr>\n",
       "      <th>8</th>\n",
       "      <td>trouble (0.27)</td>\n",
       "      <td>censor (0.59)</td>\n",
       "      <td>illegal_alien (1.17)</td>\n",
       "      <td>pretend (0.3)</td>\n",
       "      <td>muh (0.73)</td>\n",
       "      <td>america_great (1.44)</td>\n",
       "      <td>condemn (0.54)</td>\n",
       "      <td>commie (0.65)</td>\n",
       "      <td>tomorrow (0.89)</td>\n",
       "      <td>democrat_party (0.99)</td>\n",
       "      <td>...</td>\n",
       "      <td>feb (0.01)</td>\n",
       "      <td>save_life (0.11)</td>\n",
       "      <td>newborn (0.02)</td>\n",
       "      <td>dragon (0.07)</td>\n",
       "      <td>bid (0.05)</td>\n",
       "      <td>militant (0.02)</td>\n",
       "      <td>wildlife (0.01)</td>\n",
       "      <td>respectively (-0.02)</td>\n",
       "      <td>acceleration (-0.05)</td>\n",
       "      <td>column (-0.06)</td>\n",
       "    </tr>\n",
       "    <tr>\n",
       "      <th>9</th>\n",
       "      <td>rest (0.25)</td>\n",
       "      <td>censorship (0.59)</td>\n",
       "      <td>census (1.12)</td>\n",
       "      <td>blame (0.28)</td>\n",
       "      <td>yes (0.61)</td>\n",
       "      <td>patriot (1.37)</td>\n",
       "      <td>libertarian (0.48)</td>\n",
       "      <td>ass (0.64)</td>\n",
       "      <td>supporter (0.84)</td>\n",
       "      <td>gop (0.95)</td>\n",
       "      <td>...</td>\n",
       "      <td>october (0.01)</td>\n",
       "      <td>dea (0.08)</td>\n",
       "      <td>birth_control (0.01)</td>\n",
       "      <td>covenant (0.07)</td>\n",
       "      <td>christian (0.05)</td>\n",
       "      <td>caliphate (0.02)</td>\n",
       "      <td>gmos (0.01)</td>\n",
       "      <td>theoretical (-0.03)</td>\n",
       "      <td>expedition (-0.05)</td>\n",
       "      <td>demolish (-0.06)</td>\n",
       "    </tr>\n",
       "  </tbody>\n",
       "</table>\n",
       "<p>10 rows × 100 columns</p>\n",
       "</div>"
      ],
      "text/plain": [
       "               80                   47                    72              32  \\\n",
       "0     leave (1.9)    quarantine (3.58)       american (4.03)     want (2.04)   \n",
       "1     good (1.76)           t_d (2.67)        country (3.69)     stop (1.38)   \n",
       "2     line (0.99)    the_donald (2.56)        america (3.37)   debate (1.22)   \n",
       "3     tell (0.92)        reddit (1.66)           wall (2.53)     care (0.89)   \n",
       "4     come (0.83)  r_the_donald (1.51)        illegal (2.34)  politic (0.81)   \n",
       "5       tip (0.5)            td (1.29)         border (1.55)     truly (0.5)   \n",
       "6    point (0.46)     subscribe (0.72)         nation (1.54)  attempt (0.46)   \n",
       "7    ahead (0.27)          spez (0.71)      immigrant (1.17)    fault (0.41)   \n",
       "8  trouble (0.27)        censor (0.59)  illegal_alien (1.17)   pretend (0.3)   \n",
       "9     rest (0.25)    censorship (0.59)         census (1.12)    blame (0.28)   \n",
       "\n",
       "                   23                    7                    94  \\\n",
       "0        thank (3.25)          trump (12.9)  conservative (4.45)   \n",
       "1         wait (1.23)            pes (4.73)       support (3.47)   \n",
       "2      fucking (1.08)           maga (3.89)           let (2.95)   \n",
       "3        fredo (0.82)         geotus (2.91)         right (2.87)   \n",
       "4          lol (0.77)           pede (2.18)   progressive (0.76)   \n",
       "5     reminder (0.77)          potus (2.07)       silence (0.73)   \n",
       "6  ha_ha_ha_ha (0.74)           meme (1.82)        defend (0.64)   \n",
       "7           wo (0.74)   donald_trump (1.63)     left_wing (0.58)   \n",
       "8          muh (0.73)  america_great (1.44)       condemn (0.54)   \n",
       "9          yes (0.61)        patriot (1.37)   libertarian (0.48)   \n",
       "\n",
       "               64                        87                     69  ...  \\\n",
       "0     left (5.26)  significant_tweet (3.02)         democrat (6.5)  ...   \n",
       "1  liberal (4.71)         news_spice (2.75)              dem (6.0)  ...   \n",
       "2  leftist (3.86)            twitter (2.19)      republican (4.43)  ...   \n",
       "3     fuck (1.36)    trump_supporter (1.79)             win (4.34)  ...   \n",
       "4      bad (1.26)                day (1.48)       democrats (4.09)  ...   \n",
       "5    lefty (0.98)              tweet (1.47)        campaign (1.88)  ...   \n",
       "6  libtard (0.77)            retweete (1.3)           elect (1.27)  ...   \n",
       "7     libs (0.69)             tonight (1.1)       candidate (1.14)  ...   \n",
       "8   commie (0.65)           tomorrow (0.89)  democrat_party (0.99)  ...   \n",
       "9      ass (0.64)          supporter (0.84)             gop (0.95)  ...   \n",
       "\n",
       "                 9                 48                      20  \\\n",
       "0   november (0.82)     alcohol (0.2)          abortion (2.0)   \n",
       "1      march (0.27)      pound (0.17)              baby (0.7)   \n",
       "2        firm (0.2)   homicide (0.15)  plan_parenthood (0.39)   \n",
       "3        nov (0.19)     cotton (0.14)            fetus (0.14)   \n",
       "4  executive (0.17)       exam (0.14)        pregnancy (0.08)   \n",
       "5    chairman (0.1)   legalize (0.13)     drug_company (0.06)   \n",
       "6    january (0.04)     farmer (0.12)         pregnant (0.05)   \n",
       "7        oct (0.02)        lbs (0.12)       prevention (0.03)   \n",
       "8        feb (0.01)  save_life (0.11)          newborn (0.02)   \n",
       "9    october (0.01)        dea (0.08)    birth_control (0.01)   \n",
       "\n",
       "                    36                  62                             56  \\\n",
       "0          evil (0.64)  civil_right (0.37)                 vietnam (0.13)   \n",
       "1          holy (0.45)          king (0.3)              bangladesh (0.06)   \n",
       "2  jesus_christ (0.21)       preach (0.28)                    isis (0.04)   \n",
       "3          tomb (0.17)    persecute (0.28)                 kurdish (0.03)   \n",
       "4        savior (0.12)   persecution (0.1)                    turk (0.03)   \n",
       "5         gospel (0.1)       caesar (0.07)           mediterranean (0.03)   \n",
       "6     tradition (0.09)    execution (0.06)  terrorist_organization (0.03)   \n",
       "7         demon (0.08)        reign (0.06)                al_qaeda (0.02)   \n",
       "8        dragon (0.07)          bid (0.05)                militant (0.02)   \n",
       "9      covenant (0.07)    christian (0.05)               caliphate (0.02)   \n",
       "\n",
       "                      52                    81                    22  \\\n",
       "0           ricin (0.12)    methodology (0.03)           mile (0.15)   \n",
       "1  global_warming (0.12)         sample (0.01)         vacuum (0.05)   \n",
       "2           toxic (0.07)         cascade (0.0)             ft (0.05)   \n",
       "3      food_water (0.04)      chemistry (-0.0)             cm (0.01)   \n",
       "4         roundup (0.03)        precise (-0.0)            mph (0.01)   \n",
       "5      transplant (0.03)         modify (-0.0)        aurora (-0.01)   \n",
       "6  greenhouse_gas (0.03)  simultaneous (-0.01)        linear (-0.02)   \n",
       "7            coal (0.02)         index (-0.02)      einstein (-0.02)   \n",
       "8        wildlife (0.01)  respectively (-0.02)  acceleration (-0.05)   \n",
       "9            gmos (0.01)   theoretical (-0.03)    expedition (-0.05)   \n",
       "\n",
       "                         90  \n",
       "0              floor (0.13)  \n",
       "1             motion (0.06)  \n",
       "2             intact (0.01)  \n",
       "3             rubble (0.01)  \n",
       "4  physical_evidence (0.01)  \n",
       "5        structural (-0.01)  \n",
       "6            powder (-0.02)  \n",
       "7              iron (-0.04)  \n",
       "8            column (-0.06)  \n",
       "9          demolish (-0.06)  \n",
       "\n",
       "[10 rows x 100 columns]"
      ]
     },
     "execution_count": 96,
     "metadata": {},
     "output_type": "execute_result"
    }
   ],
   "source": [
    "c4"
   ]
  },
  {
   "cell_type": "code",
   "execution_count": null,
   "metadata": {},
   "outputs": [],
   "source": []
  }
 ],
 "metadata": {
  "kernelspec": {
   "display_name": "Python 3",
   "language": "python",
   "name": "python3"
  },
  "language_info": {
   "codemirror_mode": {
    "name": "ipython",
    "version": 3
   },
   "file_extension": ".py",
   "mimetype": "text/x-python",
   "name": "python",
   "nbconvert_exporter": "python",
   "pygments_lexer": "ipython3",
   "version": "3.7.6"
  }
 },
 "nbformat": 4,
 "nbformat_minor": 4
}

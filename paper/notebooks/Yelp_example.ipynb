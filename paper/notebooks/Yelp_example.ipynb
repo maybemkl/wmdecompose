{
 "cells": [
  {
   "cell_type": "code",
   "execution_count": 4,
   "metadata": {},
   "outputs": [],
   "source": [
    "from collections import defaultdict\n",
    "from wmdecompose.documents import Document\n",
    "from wmdecompose.gale_shapeley import Matcher\n",
    "from wmdecompose.models import LC_RWMD, WMD, WMDPairs\n",
    "from wmdecompose.utils import *\n",
    "\n",
    "from gensim.models import KeyedVectors\n",
    "from nltk.corpus import stopwords\n",
    "from nltk.tokenize import ToktokTokenizer\n",
    "from random import shuffle\n",
    "from scipy.spatial.distance import is_valid_dm, cdist\n",
    "from sklearn.decomposition import PCA\n",
    "from sklearn.feature_extraction.text import TfidfVectorizer\n",
    "from sklearn.manifold import TSNE\n",
    "from sklearn.metrics import silhouette_score\n",
    "from sklearn import cluster\n",
    "\n",
    "import matplotlib.pyplot as plt\n",
    "import numpy as np\n",
    "import pandas as pd\n",
    "import random\n",
    "import re\n",
    "import seaborn as sns\n",
    "import umap\n",
    "\n",
    "%load_ext autoreload\n",
    "%autoreload 2\n",
    "\n",
    "random.seed(42)"
   ]
  },
  {
   "cell_type": "markdown",
   "metadata": {},
   "source": [
    "## 1. Prepare IMDB data"
   ]
  },
  {
   "cell_type": "markdown",
   "metadata": {},
   "source": [
    "### 1.1 Load data and stopwords."
   ]
  },
  {
   "cell_type": "code",
   "execution_count": 5,
   "metadata": {},
   "outputs": [
    {
     "name": "stdout",
     "output_type": "stream",
     "text": [
      "CPU times: user 2min 37s, sys: 9.94 s, total: 2min 47s\n",
      "Wall time: 2min 50s\n"
     ]
    }
   ],
   "source": [
    "%%time\n",
    "\n",
    "PATH = \"../data/yelp_dataset/\"\n",
    "yelp_data = []\n",
    "r_dtypes = {\"review_id\":str,\n",
    "            \"user_id\":str,\n",
    "            \"business_id\":str,\n",
    "            \"stars\": np.int32, \n",
    "            \"date\":str,\n",
    "            \"text\":str,\n",
    "            \"useful\": np.int32, \n",
    "            \"funny\": np.int32,\n",
    "            \"cool\": np.int32}\n",
    "drop = ['review_id', 'user_id', 'useful', 'funny', 'cool']\n",
    "query = \"date >= '2017-12-01' and (stars==1 or stars ==5)\"\n",
    "\n",
    "with open(f\"{PATH}yelp_academic_dataset_review.json\", \"r\") as f:\n",
    "    reader = pd.read_json(f, orient=\"records\", lines=True, dtype=r_dtypes, chunksize=1000)\n",
    "    for chunk in reader:\n",
    "        reduced_chunk = chunk.drop(columns=drop).query(query)\n",
    "        yelp_data.append(reduced_chunk)\n",
    "    \n",
    "yelp_data = pd.concat(yelp_data, ignore_index=True)\n"
   ]
  },
  {
   "cell_type": "code",
   "execution_count": 6,
   "metadata": {},
   "outputs": [
    {
     "data": {
      "text/plain": [
       "(1948607, 4)"
      ]
     },
     "execution_count": 6,
     "metadata": {},
     "output_type": "execute_result"
    }
   ],
   "source": [
    "yelp_data.shape"
   ]
  },
  {
   "cell_type": "code",
   "execution_count": 7,
   "metadata": {},
   "outputs": [
    {
     "data": {
      "text/plain": [
       "(160585, 14)"
      ]
     },
     "execution_count": 7,
     "metadata": {},
     "output_type": "execute_result"
    }
   ],
   "source": [
    "yelp_business = pd.read_json(f\"{PATH}yelp_academic_dataset_business.json\", orient=\"records\", lines=True)\n",
    "yelp_business.shape"
   ]
  },
  {
   "cell_type": "code",
   "execution_count": 8,
   "metadata": {},
   "outputs": [
    {
     "data": {
      "text/plain": [
       "(30815, 14)"
      ]
     },
     "execution_count": 8,
     "metadata": {},
     "output_type": "execute_result"
    }
   ],
   "source": [
    "yelp_business = yelp_business[yelp_business.city.isin([\"Portland\", \"Atlanta\"])]\n",
    "yelp_business.shape"
   ]
  },
  {
   "cell_type": "code",
   "execution_count": 9,
   "metadata": {},
   "outputs": [],
   "source": [
    "yelp_merged = yelp_data.merge(yelp_business, on='business_id')"
   ]
  },
  {
   "cell_type": "code",
   "execution_count": 10,
   "metadata": {},
   "outputs": [
    {
     "data": {
      "text/plain": [
       "(451826, 17)"
      ]
     },
     "execution_count": 10,
     "metadata": {},
     "output_type": "execute_result"
    }
   ],
   "source": [
    "yelp_merged.shape"
   ]
  },
  {
   "cell_type": "code",
   "execution_count": 11,
   "metadata": {},
   "outputs": [],
   "source": [
    "yelp_merged = yelp_merged.rename(columns={\"stars_x\":\"stars\"})"
   ]
  },
  {
   "cell_type": "code",
   "execution_count": 12,
   "metadata": {},
   "outputs": [],
   "source": [
    "categories = [c.split(\",\") for c in yelp_merged.categories if c is not None]"
   ]
  },
  {
   "cell_type": "code",
   "execution_count": 13,
   "metadata": {},
   "outputs": [
    {
     "data": {
      "text/plain": [
       "[('Restaurants', 272644),\n",
       " ('Food', 125420),\n",
       " ('Nightlife', 97019),\n",
       " ('Bars', 92658),\n",
       " ('Breakfast & Brunch', 55588),\n",
       " ('American (New)', 51193),\n",
       " ('American (Traditional)', 45802),\n",
       " ('Shopping', 40107),\n",
       " ('Coffee & Tea', 35901),\n",
       " ('Event Planning & Services', 35797),\n",
       " ('Sandwiches', 35124),\n",
       " ('Beauty & Spas', 34342),\n",
       " ('Home Services', 27398),\n",
       " ('Cocktail Bars', 27397),\n",
       " ('Southern', 25006),\n",
       " ('Seafood', 22942),\n",
       " ('Health & Medical', 21841),\n",
       " ('Mexican', 21828),\n",
       " ('Burgers', 21287),\n",
       " ('Pizza', 19637),\n",
       " ('Desserts', 19446),\n",
       " ('Bakeries', 18827),\n",
       " ('Local Services', 18501),\n",
       " ('Vegan', 17800),\n",
       " ('Vegetarian', 17096),\n",
       " ('Hotels & Travel', 16855),\n",
       " ('Automotive', 16844),\n",
       " ('Asian Fusion', 16781),\n",
       " ('Salad', 16769),\n",
       " ('Beer', 16370)]"
      ]
     },
     "execution_count": 13,
     "metadata": {},
     "output_type": "execute_result"
    }
   ],
   "source": [
    "c_count = Counter(c.strip() for c_list in categories for c in set(c_list))\n",
    "c_count.most_common()[:30]"
   ]
  },
  {
   "cell_type": "code",
   "execution_count": 14,
   "metadata": {},
   "outputs": [
    {
     "data": {
      "text/plain": [
       "(2424116, 17)"
      ]
     },
     "execution_count": 14,
     "metadata": {},
     "output_type": "execute_result"
    }
   ],
   "source": [
    "yelp_categorized = yelp_merged.assign(categories=yelp_merged['categories'].str.split(',')).explode('categories')\n",
    "yelp_categorized.categories = yelp_categorized.categories.str.strip()\n",
    "yelp_categorized.shape"
   ]
  },
  {
   "cell_type": "code",
   "execution_count": 15,
   "metadata": {},
   "outputs": [
    {
     "data": {
      "text/plain": [
       "(294485, 17)"
      ]
     },
     "execution_count": 15,
     "metadata": {},
     "output_type": "execute_result"
    }
   ],
   "source": [
    "yelp_filtered = yelp_categorized[yelp_categorized.categories.isin(['Restaurants','Health & Medical'])]\n",
    "yelp_filtered.shape"
   ]
  },
  {
   "cell_type": "code",
   "execution_count": 16,
   "metadata": {},
   "outputs": [
    {
     "data": {
      "text/plain": [
       "(4000, 18)"
      ]
     },
     "execution_count": 16,
     "metadata": {},
     "output_type": "execute_result"
    }
   ],
   "source": [
    "s_size = 1000\n",
    "rs = 42\n",
    "sample = yelp_filtered.groupby([\"stars\", \"categories\"]).sample(n=s_size, random_state=rs).reset_index()\n",
    "sample.shape"
   ]
  },
  {
   "cell_type": "code",
   "execution_count": 17,
   "metadata": {},
   "outputs": [],
   "source": [
    "stopword_list=stopwords.words('english')"
   ]
  },
  {
   "cell_type": "markdown",
   "metadata": {},
   "source": [
    "### 1.2 Remove special formatting and stopwords"
   ]
  },
  {
   "cell_type": "code",
   "execution_count": 18,
   "metadata": {},
   "outputs": [],
   "source": [
    "tokenizer = ToktokTokenizer()"
   ]
  },
  {
   "cell_type": "markdown",
   "metadata": {},
   "source": [
    "Remove stopwords before denoising, lemmatizing and removing special characters."
   ]
  },
  {
   "cell_type": "code",
   "execution_count": 19,
   "metadata": {},
   "outputs": [
    {
     "name": "stdout",
     "output_type": "stream",
     "text": [
      "CPU times: user 1.53 s, sys: 10.9 ms, total: 1.54 s\n",
      "Wall time: 1.55 s\n"
     ]
    }
   ],
   "source": [
    "%%time \n",
    "\n",
    "sample['review_clean']= [remove_stopwords(r, stopword_list, tokenizer) for r in sample['text']]"
   ]
  },
  {
   "cell_type": "markdown",
   "metadata": {},
   "source": [
    "Denoise, remove special characters, lemmatize."
   ]
  },
  {
   "cell_type": "code",
   "execution_count": 20,
   "metadata": {},
   "outputs": [
    {
     "name": "stdout",
     "output_type": "stream",
     "text": [
      "CPU times: user 2.65 s, sys: 74.7 ms, total: 2.73 s\n",
      "Wall time: 2.76 s\n"
     ]
    }
   ],
   "source": [
    "%%time\n",
    "\n",
    "sample['review_clean']=sample['review_clean'].apply(denoise_text)\n",
    "sample['review_clean']=sample['review_clean'].apply(remove_special_characters)\n",
    "sample['review_clean']=sample['review_clean'].apply(simple_lemmatizer)"
   ]
  },
  {
   "cell_type": "markdown",
   "metadata": {},
   "source": [
    "Remove stopwords again, after other preprocessing."
   ]
  },
  {
   "cell_type": "code",
   "execution_count": 21,
   "metadata": {},
   "outputs": [
    {
     "name": "stdout",
     "output_type": "stream",
     "text": [
      "CPU times: user 888 ms, sys: 5.44 ms, total: 894 ms\n",
      "Wall time: 902 ms\n"
     ]
    }
   ],
   "source": [
    "%%time \n",
    "\n",
    "sample['review_clean']= [remove_stopwords(r, stopword_list, tokenizer) for r in sample['review_clean']]"
   ]
  },
  {
   "cell_type": "markdown",
   "metadata": {},
   "source": [
    "Find phrases."
   ]
  },
  {
   "cell_type": "code",
   "execution_count": 22,
   "metadata": {},
   "outputs": [],
   "source": [
    "PHRASING = True\n",
    "MIN = 500\n",
    "THRESHOLD = 200"
   ]
  },
  {
   "cell_type": "code",
   "execution_count": 23,
   "metadata": {},
   "outputs": [
    {
     "name": "stdout",
     "output_type": "stream",
     "text": [
      "Finding bigrams in data.\n",
      "Finding trigrams in data.\n",
      "CPU times: user 17.9 s, sys: 4.69 s, total: 22.6 s\n",
      "Wall time: 23.3 s\n"
     ]
    }
   ],
   "source": [
    "%%time\n",
    "\n",
    "if PHRASING:\n",
    "    sample['review_clean']= get_phrases([tokenizer.tokenize(i) for i in sample['review_clean']],\n",
    "                                        min_count = MIN, \n",
    "                                        threshold = THRESHOLD,\n",
    "                                        save=False,\n",
    "                                        load=True,\n",
    "                                        PATH=\"../embeddings/\")"
   ]
  },
  {
   "cell_type": "markdown",
   "metadata": {},
   "source": [
    "Data _before_ preprocessing and phrasing."
   ]
  },
  {
   "cell_type": "code",
   "execution_count": 24,
   "metadata": {},
   "outputs": [
    {
     "data": {
      "text/plain": [
       "\"Very poor business practices and patient relations. Some doctors and offices treat you like a human and make you feel good about being a patient. This is not one of them. If you want a relationship with your doctor, a good experience, returned phone calls and professionalism, don't go here. Looks like I'm another reviewer heading to the GA Board of Dentistry......\""
      ]
     },
     "execution_count": 24,
     "metadata": {},
     "output_type": "execute_result"
    }
   ],
   "source": [
    "sample['text'][6]"
   ]
  },
  {
   "cell_type": "markdown",
   "metadata": {},
   "source": [
    "Data _after_ preprocessing and phrasing."
   ]
  },
  {
   "cell_type": "code",
   "execution_count": 25,
   "metadata": {},
   "outputs": [
    {
     "data": {
      "text/plain": [
       "'poor business_practice patient relation doctor_office treat like human make feel good patient one want relationship doctor good experience returned phone_call professionalism go look like another_reviewer heading ga board_dentistry'"
      ]
     },
     "execution_count": 25,
     "metadata": {},
     "output_type": "execute_result"
    }
   ],
   "source": [
    "#sample['review_clean'][0]\n",
    "\" \".join(sample['review_clean'][6])"
   ]
  },
  {
   "cell_type": "code",
   "execution_count": 26,
   "metadata": {},
   "outputs": [],
   "source": [
    "sample[\"sentiment\"] = ['positive' if s == 5 else 'negative' for s in sample['stars']]"
   ]
  },
  {
   "cell_type": "code",
   "execution_count": 27,
   "metadata": {},
   "outputs": [
    {
     "data": {
      "text/html": [
       "<div>\n",
       "<style scoped>\n",
       "    .dataframe tbody tr th:only-of-type {\n",
       "        vertical-align: middle;\n",
       "    }\n",
       "\n",
       "    .dataframe tbody tr th {\n",
       "        vertical-align: top;\n",
       "    }\n",
       "\n",
       "    .dataframe thead th {\n",
       "        text-align: right;\n",
       "    }\n",
       "</style>\n",
       "<table border=\"1\" class=\"dataframe\">\n",
       "  <thead>\n",
       "    <tr style=\"text-align: right;\">\n",
       "      <th></th>\n",
       "      <th>sentiment</th>\n",
       "      <th>stars</th>\n",
       "    </tr>\n",
       "  </thead>\n",
       "  <tbody>\n",
       "    <tr>\n",
       "      <th>0</th>\n",
       "      <td>negative</td>\n",
       "      <td>1</td>\n",
       "    </tr>\n",
       "    <tr>\n",
       "      <th>1</th>\n",
       "      <td>negative</td>\n",
       "      <td>1</td>\n",
       "    </tr>\n",
       "    <tr>\n",
       "      <th>2</th>\n",
       "      <td>negative</td>\n",
       "      <td>1</td>\n",
       "    </tr>\n",
       "    <tr>\n",
       "      <th>3</th>\n",
       "      <td>negative</td>\n",
       "      <td>1</td>\n",
       "    </tr>\n",
       "    <tr>\n",
       "      <th>4</th>\n",
       "      <td>negative</td>\n",
       "      <td>1</td>\n",
       "    </tr>\n",
       "    <tr>\n",
       "      <th>...</th>\n",
       "      <td>...</td>\n",
       "      <td>...</td>\n",
       "    </tr>\n",
       "    <tr>\n",
       "      <th>3995</th>\n",
       "      <td>positive</td>\n",
       "      <td>5</td>\n",
       "    </tr>\n",
       "    <tr>\n",
       "      <th>3996</th>\n",
       "      <td>positive</td>\n",
       "      <td>5</td>\n",
       "    </tr>\n",
       "    <tr>\n",
       "      <th>3997</th>\n",
       "      <td>positive</td>\n",
       "      <td>5</td>\n",
       "    </tr>\n",
       "    <tr>\n",
       "      <th>3998</th>\n",
       "      <td>positive</td>\n",
       "      <td>5</td>\n",
       "    </tr>\n",
       "    <tr>\n",
       "      <th>3999</th>\n",
       "      <td>positive</td>\n",
       "      <td>5</td>\n",
       "    </tr>\n",
       "  </tbody>\n",
       "</table>\n",
       "<p>4000 rows × 2 columns</p>\n",
       "</div>"
      ],
      "text/plain": [
       "     sentiment  stars\n",
       "0     negative      1\n",
       "1     negative      1\n",
       "2     negative      1\n",
       "3     negative      1\n",
       "4     negative      1\n",
       "...        ...    ...\n",
       "3995  positive      5\n",
       "3996  positive      5\n",
       "3997  positive      5\n",
       "3998  positive      5\n",
       "3999  positive      5\n",
       "\n",
       "[4000 rows x 2 columns]"
      ]
     },
     "execution_count": 27,
     "metadata": {},
     "output_type": "execute_result"
    }
   ],
   "source": [
    "sample[[\"sentiment\", \"stars\"]]"
   ]
  },
  {
   "cell_type": "code",
   "execution_count": 28,
   "metadata": {},
   "outputs": [
    {
     "data": {
      "text/html": [
       "<div>\n",
       "<style scoped>\n",
       "    .dataframe tbody tr th:only-of-type {\n",
       "        vertical-align: middle;\n",
       "    }\n",
       "\n",
       "    .dataframe tbody tr th {\n",
       "        vertical-align: top;\n",
       "    }\n",
       "\n",
       "    .dataframe thead th {\n",
       "        text-align: right;\n",
       "    }\n",
       "</style>\n",
       "<table border=\"1\" class=\"dataframe\">\n",
       "  <thead>\n",
       "    <tr style=\"text-align: right;\">\n",
       "      <th></th>\n",
       "      <th>index</th>\n",
       "      <th>business_id</th>\n",
       "      <th>stars</th>\n",
       "      <th>text</th>\n",
       "      <th>date</th>\n",
       "      <th>name</th>\n",
       "      <th>address</th>\n",
       "      <th>city</th>\n",
       "      <th>state</th>\n",
       "      <th>postal_code</th>\n",
       "      <th>latitude</th>\n",
       "      <th>longitude</th>\n",
       "      <th>stars_y</th>\n",
       "      <th>review_count</th>\n",
       "      <th>is_open</th>\n",
       "      <th>attributes</th>\n",
       "      <th>categories</th>\n",
       "      <th>hours</th>\n",
       "      <th>review_clean</th>\n",
       "      <th>sentiment</th>\n",
       "    </tr>\n",
       "  </thead>\n",
       "  <tbody>\n",
       "    <tr>\n",
       "      <th>0</th>\n",
       "      <td>127548</td>\n",
       "      <td>yfYIxgJcjamxnztuDhitUg</td>\n",
       "      <td>1</td>\n",
       "      <td>this place is a disaster, and I hate My doctor...</td>\n",
       "      <td>2019-04-25 14:34:31</td>\n",
       "      <td>Atlanta Center for Reproductive Medicine</td>\n",
       "      <td>5909 Peachtree Dunwoody Rd, Ste 600</td>\n",
       "      <td>Atlanta</td>\n",
       "      <td>GA</td>\n",
       "      <td>30328</td>\n",
       "      <td>33.917085</td>\n",
       "      <td>-84.349500</td>\n",
       "      <td>2.5</td>\n",
       "      <td>86</td>\n",
       "      <td>1</td>\n",
       "      <td>{'ByAppointmentOnly': 'True', 'BusinessAccepts...</td>\n",
       "      <td>Health &amp; Medical</td>\n",
       "      <td>{'Monday': '8:0-16:0', 'Tuesday': '8:0-16:0', ...</td>\n",
       "      <td>[place, disaster, hate, doctor, carpenter, nur...</td>\n",
       "      <td>negative</td>\n",
       "    </tr>\n",
       "    <tr>\n",
       "      <th>1</th>\n",
       "      <td>77717</td>\n",
       "      <td>Mpzv9m1f9qzl5UUHZyTemw</td>\n",
       "      <td>1</td>\n",
       "      <td>I've come here many times. It's hit or miss. T...</td>\n",
       "      <td>2019-12-02 03:38:21</td>\n",
       "      <td>Fly Dragon Spa</td>\n",
       "      <td>1928 NE 42nd Ave</td>\n",
       "      <td>Portland</td>\n",
       "      <td>OR</td>\n",
       "      <td>97213</td>\n",
       "      <td>45.536932</td>\n",
       "      <td>-122.619541</td>\n",
       "      <td>3.5</td>\n",
       "      <td>118</td>\n",
       "      <td>1</td>\n",
       "      <td>{'BusinessParking': '{'garage': False, 'street...</td>\n",
       "      <td>Health &amp; Medical</td>\n",
       "      <td>{'Monday': '10:0-23:0', 'Tuesday': '10:0-23:0'...</td>\n",
       "      <td>[come, many, time, hit_miss, evening, male_mas...</td>\n",
       "      <td>negative</td>\n",
       "    </tr>\n",
       "    <tr>\n",
       "      <th>2</th>\n",
       "      <td>289181</td>\n",
       "      <td>Hb9O0Ox97v1uxCt77sLoMQ</td>\n",
       "      <td>1</td>\n",
       "      <td>DO NOT GO HERE UNLESS YOU WANT TO BE RIPPED OF...</td>\n",
       "      <td>2018-03-07 22:43:01</td>\n",
       "      <td>Zama Massage</td>\n",
       "      <td>2149 NE Broadway St</td>\n",
       "      <td>Portland</td>\n",
       "      <td>OR</td>\n",
       "      <td>97232</td>\n",
       "      <td>45.535209</td>\n",
       "      <td>-122.643698</td>\n",
       "      <td>4.5</td>\n",
       "      <td>468</td>\n",
       "      <td>1</td>\n",
       "      <td>{'ByAppointmentOnly': 'False', 'BikeParking': ...</td>\n",
       "      <td>Health &amp; Medical</td>\n",
       "      <td>{'Monday': '9:0-21:0', 'Tuesday': '9:0-21:0', ...</td>\n",
       "      <td>[go, unless, want, ripped, lied, immensely, di...</td>\n",
       "      <td>negative</td>\n",
       "    </tr>\n",
       "    <tr>\n",
       "      <th>3</th>\n",
       "      <td>127843</td>\n",
       "      <td>vOj3VF7l-aUPSHBmasgHPQ</td>\n",
       "      <td>1</td>\n",
       "      <td>uh. this place is definitely closed. boarded u...</td>\n",
       "      <td>2020-01-06 15:15:40</td>\n",
       "      <td>Joseph Allen, DDS - JBM Dent</td>\n",
       "      <td>1336 Glenwood Ave SE</td>\n",
       "      <td>Atlanta</td>\n",
       "      <td>GA</td>\n",
       "      <td>30316</td>\n",
       "      <td>33.740468</td>\n",
       "      <td>-84.343748</td>\n",
       "      <td>4.5</td>\n",
       "      <td>6</td>\n",
       "      <td>0</td>\n",
       "      <td>{'ByAppointmentOnly': 'False'}</td>\n",
       "      <td>Health &amp; Medical</td>\n",
       "      <td>{'Monday': '8:30-16:30', 'Tuesday': '8:30-16:3...</td>\n",
       "      <td>[uh, place, definitely, closed, boarded, windo...</td>\n",
       "      <td>negative</td>\n",
       "    </tr>\n",
       "    <tr>\n",
       "      <th>4</th>\n",
       "      <td>358414</td>\n",
       "      <td>2cqd12IDUfOwIBMXDxyy8Q</td>\n",
       "      <td>1</td>\n",
       "      <td>I had a first time appointment yesterday and u...</td>\n",
       "      <td>2019-01-17 03:26:01</td>\n",
       "      <td>Executive Park Dentistry</td>\n",
       "      <td>17 Executive Park Dr NE, Ste 100</td>\n",
       "      <td>Atlanta</td>\n",
       "      <td>GA</td>\n",
       "      <td>30329</td>\n",
       "      <td>33.827726</td>\n",
       "      <td>-84.339213</td>\n",
       "      <td>4.5</td>\n",
       "      <td>44</td>\n",
       "      <td>1</td>\n",
       "      <td>{'ByAppointmentOnly': 'True', 'WiFi': 'u'free'...</td>\n",
       "      <td>Health &amp; Medical</td>\n",
       "      <td>{'Monday': '0:0-0:0', 'Tuesday': '8:0-17:0', '...</td>\n",
       "      <td>[first, time, appointment, yesterday, ultimate...</td>\n",
       "      <td>negative</td>\n",
       "    </tr>\n",
       "  </tbody>\n",
       "</table>\n",
       "</div>"
      ],
      "text/plain": [
       "    index             business_id  stars  \\\n",
       "0  127548  yfYIxgJcjamxnztuDhitUg      1   \n",
       "1   77717  Mpzv9m1f9qzl5UUHZyTemw      1   \n",
       "2  289181  Hb9O0Ox97v1uxCt77sLoMQ      1   \n",
       "3  127843  vOj3VF7l-aUPSHBmasgHPQ      1   \n",
       "4  358414  2cqd12IDUfOwIBMXDxyy8Q      1   \n",
       "\n",
       "                                                text                 date  \\\n",
       "0  this place is a disaster, and I hate My doctor...  2019-04-25 14:34:31   \n",
       "1  I've come here many times. It's hit or miss. T...  2019-12-02 03:38:21   \n",
       "2  DO NOT GO HERE UNLESS YOU WANT TO BE RIPPED OF...  2018-03-07 22:43:01   \n",
       "3  uh. this place is definitely closed. boarded u...  2020-01-06 15:15:40   \n",
       "4  I had a first time appointment yesterday and u...  2019-01-17 03:26:01   \n",
       "\n",
       "                                       name  \\\n",
       "0  Atlanta Center for Reproductive Medicine   \n",
       "1                            Fly Dragon Spa   \n",
       "2                              Zama Massage   \n",
       "3              Joseph Allen, DDS - JBM Dent   \n",
       "4                  Executive Park Dentistry   \n",
       "\n",
       "                               address      city state postal_code   latitude  \\\n",
       "0  5909 Peachtree Dunwoody Rd, Ste 600   Atlanta    GA       30328  33.917085   \n",
       "1                     1928 NE 42nd Ave  Portland    OR       97213  45.536932   \n",
       "2                  2149 NE Broadway St  Portland    OR       97232  45.535209   \n",
       "3                 1336 Glenwood Ave SE   Atlanta    GA       30316  33.740468   \n",
       "4     17 Executive Park Dr NE, Ste 100   Atlanta    GA       30329  33.827726   \n",
       "\n",
       "    longitude  stars_y  review_count  is_open  \\\n",
       "0  -84.349500      2.5            86        1   \n",
       "1 -122.619541      3.5           118        1   \n",
       "2 -122.643698      4.5           468        1   \n",
       "3  -84.343748      4.5             6        0   \n",
       "4  -84.339213      4.5            44        1   \n",
       "\n",
       "                                          attributes        categories  \\\n",
       "0  {'ByAppointmentOnly': 'True', 'BusinessAccepts...  Health & Medical   \n",
       "1  {'BusinessParking': '{'garage': False, 'street...  Health & Medical   \n",
       "2  {'ByAppointmentOnly': 'False', 'BikeParking': ...  Health & Medical   \n",
       "3                     {'ByAppointmentOnly': 'False'}  Health & Medical   \n",
       "4  {'ByAppointmentOnly': 'True', 'WiFi': 'u'free'...  Health & Medical   \n",
       "\n",
       "                                               hours  \\\n",
       "0  {'Monday': '8:0-16:0', 'Tuesday': '8:0-16:0', ...   \n",
       "1  {'Monday': '10:0-23:0', 'Tuesday': '10:0-23:0'...   \n",
       "2  {'Monday': '9:0-21:0', 'Tuesday': '9:0-21:0', ...   \n",
       "3  {'Monday': '8:30-16:30', 'Tuesday': '8:30-16:3...   \n",
       "4  {'Monday': '0:0-0:0', 'Tuesday': '8:0-17:0', '...   \n",
       "\n",
       "                                        review_clean sentiment  \n",
       "0  [place, disaster, hate, doctor, carpenter, nur...  negative  \n",
       "1  [come, many, time, hit_miss, evening, male_mas...  negative  \n",
       "2  [go, unless, want, ripped, lied, immensely, di...  negative  \n",
       "3  [uh, place, definitely, closed, boarded, windo...  negative  \n",
       "4  [first, time, appointment, yesterday, ultimate...  negative  "
      ]
     },
     "execution_count": 28,
     "metadata": {},
     "output_type": "execute_result"
    }
   ],
   "source": [
    "sample.head()"
   ]
  },
  {
   "cell_type": "code",
   "execution_count": 29,
   "metadata": {},
   "outputs": [],
   "source": [
    "sample_sorted = sample.sort_values([\"sentiment\", \"categories\"]).reset_index()"
   ]
  },
  {
   "cell_type": "code",
   "execution_count": 30,
   "metadata": {},
   "outputs": [
    {
     "data": {
      "text/html": [
       "<div>\n",
       "<style scoped>\n",
       "    .dataframe tbody tr th:only-of-type {\n",
       "        vertical-align: middle;\n",
       "    }\n",
       "\n",
       "    .dataframe tbody tr th {\n",
       "        vertical-align: top;\n",
       "    }\n",
       "\n",
       "    .dataframe thead th {\n",
       "        text-align: right;\n",
       "    }\n",
       "</style>\n",
       "<table border=\"1\" class=\"dataframe\">\n",
       "  <thead>\n",
       "    <tr style=\"text-align: right;\">\n",
       "      <th></th>\n",
       "      <th>level_0</th>\n",
       "      <th>index</th>\n",
       "      <th>business_id</th>\n",
       "      <th>stars</th>\n",
       "      <th>text</th>\n",
       "      <th>date</th>\n",
       "      <th>name</th>\n",
       "      <th>address</th>\n",
       "      <th>city</th>\n",
       "      <th>state</th>\n",
       "      <th>...</th>\n",
       "      <th>latitude</th>\n",
       "      <th>longitude</th>\n",
       "      <th>stars_y</th>\n",
       "      <th>review_count</th>\n",
       "      <th>is_open</th>\n",
       "      <th>attributes</th>\n",
       "      <th>categories</th>\n",
       "      <th>hours</th>\n",
       "      <th>review_clean</th>\n",
       "      <th>sentiment</th>\n",
       "    </tr>\n",
       "  </thead>\n",
       "  <tbody>\n",
       "    <tr>\n",
       "      <th>0</th>\n",
       "      <td>0</td>\n",
       "      <td>127548</td>\n",
       "      <td>yfYIxgJcjamxnztuDhitUg</td>\n",
       "      <td>1</td>\n",
       "      <td>this place is a disaster, and I hate My doctor...</td>\n",
       "      <td>2019-04-25 14:34:31</td>\n",
       "      <td>Atlanta Center for Reproductive Medicine</td>\n",
       "      <td>5909 Peachtree Dunwoody Rd, Ste 600</td>\n",
       "      <td>Atlanta</td>\n",
       "      <td>GA</td>\n",
       "      <td>...</td>\n",
       "      <td>33.917085</td>\n",
       "      <td>-84.349500</td>\n",
       "      <td>2.5</td>\n",
       "      <td>86</td>\n",
       "      <td>1</td>\n",
       "      <td>{'ByAppointmentOnly': 'True', 'BusinessAccepts...</td>\n",
       "      <td>Health &amp; Medical</td>\n",
       "      <td>{'Monday': '8:0-16:0', 'Tuesday': '8:0-16:0', ...</td>\n",
       "      <td>[place, disaster, hate, doctor, carpenter, nur...</td>\n",
       "      <td>negative</td>\n",
       "    </tr>\n",
       "    <tr>\n",
       "      <th>1</th>\n",
       "      <td>1</td>\n",
       "      <td>77717</td>\n",
       "      <td>Mpzv9m1f9qzl5UUHZyTemw</td>\n",
       "      <td>1</td>\n",
       "      <td>I've come here many times. It's hit or miss. T...</td>\n",
       "      <td>2019-12-02 03:38:21</td>\n",
       "      <td>Fly Dragon Spa</td>\n",
       "      <td>1928 NE 42nd Ave</td>\n",
       "      <td>Portland</td>\n",
       "      <td>OR</td>\n",
       "      <td>...</td>\n",
       "      <td>45.536932</td>\n",
       "      <td>-122.619541</td>\n",
       "      <td>3.5</td>\n",
       "      <td>118</td>\n",
       "      <td>1</td>\n",
       "      <td>{'BusinessParking': '{'garage': False, 'street...</td>\n",
       "      <td>Health &amp; Medical</td>\n",
       "      <td>{'Monday': '10:0-23:0', 'Tuesday': '10:0-23:0'...</td>\n",
       "      <td>[come, many, time, hit_miss, evening, male_mas...</td>\n",
       "      <td>negative</td>\n",
       "    </tr>\n",
       "    <tr>\n",
       "      <th>2</th>\n",
       "      <td>2</td>\n",
       "      <td>289181</td>\n",
       "      <td>Hb9O0Ox97v1uxCt77sLoMQ</td>\n",
       "      <td>1</td>\n",
       "      <td>DO NOT GO HERE UNLESS YOU WANT TO BE RIPPED OF...</td>\n",
       "      <td>2018-03-07 22:43:01</td>\n",
       "      <td>Zama Massage</td>\n",
       "      <td>2149 NE Broadway St</td>\n",
       "      <td>Portland</td>\n",
       "      <td>OR</td>\n",
       "      <td>...</td>\n",
       "      <td>45.535209</td>\n",
       "      <td>-122.643698</td>\n",
       "      <td>4.5</td>\n",
       "      <td>468</td>\n",
       "      <td>1</td>\n",
       "      <td>{'ByAppointmentOnly': 'False', 'BikeParking': ...</td>\n",
       "      <td>Health &amp; Medical</td>\n",
       "      <td>{'Monday': '9:0-21:0', 'Tuesday': '9:0-21:0', ...</td>\n",
       "      <td>[go, unless, want, ripped, lied, immensely, di...</td>\n",
       "      <td>negative</td>\n",
       "    </tr>\n",
       "    <tr>\n",
       "      <th>3</th>\n",
       "      <td>3</td>\n",
       "      <td>127843</td>\n",
       "      <td>vOj3VF7l-aUPSHBmasgHPQ</td>\n",
       "      <td>1</td>\n",
       "      <td>uh. this place is definitely closed. boarded u...</td>\n",
       "      <td>2020-01-06 15:15:40</td>\n",
       "      <td>Joseph Allen, DDS - JBM Dent</td>\n",
       "      <td>1336 Glenwood Ave SE</td>\n",
       "      <td>Atlanta</td>\n",
       "      <td>GA</td>\n",
       "      <td>...</td>\n",
       "      <td>33.740468</td>\n",
       "      <td>-84.343748</td>\n",
       "      <td>4.5</td>\n",
       "      <td>6</td>\n",
       "      <td>0</td>\n",
       "      <td>{'ByAppointmentOnly': 'False'}</td>\n",
       "      <td>Health &amp; Medical</td>\n",
       "      <td>{'Monday': '8:30-16:30', 'Tuesday': '8:30-16:3...</td>\n",
       "      <td>[uh, place, definitely, closed, boarded, windo...</td>\n",
       "      <td>negative</td>\n",
       "    </tr>\n",
       "    <tr>\n",
       "      <th>4</th>\n",
       "      <td>4</td>\n",
       "      <td>358414</td>\n",
       "      <td>2cqd12IDUfOwIBMXDxyy8Q</td>\n",
       "      <td>1</td>\n",
       "      <td>I had a first time appointment yesterday and u...</td>\n",
       "      <td>2019-01-17 03:26:01</td>\n",
       "      <td>Executive Park Dentistry</td>\n",
       "      <td>17 Executive Park Dr NE, Ste 100</td>\n",
       "      <td>Atlanta</td>\n",
       "      <td>GA</td>\n",
       "      <td>...</td>\n",
       "      <td>33.827726</td>\n",
       "      <td>-84.339213</td>\n",
       "      <td>4.5</td>\n",
       "      <td>44</td>\n",
       "      <td>1</td>\n",
       "      <td>{'ByAppointmentOnly': 'True', 'WiFi': 'u'free'...</td>\n",
       "      <td>Health &amp; Medical</td>\n",
       "      <td>{'Monday': '0:0-0:0', 'Tuesday': '8:0-17:0', '...</td>\n",
       "      <td>[first, time, appointment, yesterday, ultimate...</td>\n",
       "      <td>negative</td>\n",
       "    </tr>\n",
       "    <tr>\n",
       "      <th>...</th>\n",
       "      <td>...</td>\n",
       "      <td>...</td>\n",
       "      <td>...</td>\n",
       "      <td>...</td>\n",
       "      <td>...</td>\n",
       "      <td>...</td>\n",
       "      <td>...</td>\n",
       "      <td>...</td>\n",
       "      <td>...</td>\n",
       "      <td>...</td>\n",
       "      <td>...</td>\n",
       "      <td>...</td>\n",
       "      <td>...</td>\n",
       "      <td>...</td>\n",
       "      <td>...</td>\n",
       "      <td>...</td>\n",
       "      <td>...</td>\n",
       "      <td>...</td>\n",
       "      <td>...</td>\n",
       "      <td>...</td>\n",
       "      <td>...</td>\n",
       "    </tr>\n",
       "    <tr>\n",
       "      <th>3995</th>\n",
       "      <td>3995</td>\n",
       "      <td>330257</td>\n",
       "      <td>oloBhDAbMhmqA8tlAChj4g</td>\n",
       "      <td>5</td>\n",
       "      <td>Took a few weeks to get a reservation but tota...</td>\n",
       "      <td>2020-03-01 14:06:07</td>\n",
       "      <td>Nostrana</td>\n",
       "      <td>1401 SE Morrison St, Ste 101</td>\n",
       "      <td>Portland</td>\n",
       "      <td>OR</td>\n",
       "      <td>...</td>\n",
       "      <td>45.517729</td>\n",
       "      <td>-122.651156</td>\n",
       "      <td>4.0</td>\n",
       "      <td>956</td>\n",
       "      <td>1</td>\n",
       "      <td>{'OutdoorSeating': 'True', 'BusinessAcceptsCre...</td>\n",
       "      <td>Restaurants</td>\n",
       "      <td>{'Monday': '0:0-0:0', 'Tuesday': '14:0-20:0', ...</td>\n",
       "      <td>[took, week, get, reservation, totally_worth, ...</td>\n",
       "      <td>positive</td>\n",
       "    </tr>\n",
       "    <tr>\n",
       "      <th>3996</th>\n",
       "      <td>3996</td>\n",
       "      <td>165392</td>\n",
       "      <td>DA6xYi5O2W9na51raLQOyA</td>\n",
       "      <td>5</td>\n",
       "      <td>This place is great and I'll definitely be com...</td>\n",
       "      <td>2020-06-05 16:26:35</td>\n",
       "      <td>Commissary</td>\n",
       "      <td>915 NW 19th Ave, Ste A</td>\n",
       "      <td>Portland</td>\n",
       "      <td>OR</td>\n",
       "      <td>...</td>\n",
       "      <td>45.529501</td>\n",
       "      <td>-122.690794</td>\n",
       "      <td>4.5</td>\n",
       "      <td>176</td>\n",
       "      <td>1</td>\n",
       "      <td>{'WiFi': 'u'free'', 'BusinessAcceptsCreditCard...</td>\n",
       "      <td>Restaurants</td>\n",
       "      <td>{'Monday': '8:0-15:0', 'Tuesday': '8:0-15:0', ...</td>\n",
       "      <td>[place, great, definitely, coming_back, tasty,...</td>\n",
       "      <td>positive</td>\n",
       "    </tr>\n",
       "    <tr>\n",
       "      <th>3997</th>\n",
       "      <td>3997</td>\n",
       "      <td>54250</td>\n",
       "      <td>38e7N-ecFagCvB0Gnrx35A</td>\n",
       "      <td>5</td>\n",
       "      <td>We've lived near the Reel M Inn Tavern since 2...</td>\n",
       "      <td>2020-06-27 02:11:45</td>\n",
       "      <td>Reel M Inn</td>\n",
       "      <td>2430 SE Division St</td>\n",
       "      <td>Portland</td>\n",
       "      <td>OR</td>\n",
       "      <td>...</td>\n",
       "      <td>45.504633</td>\n",
       "      <td>-122.640556</td>\n",
       "      <td>4.0</td>\n",
       "      <td>358</td>\n",
       "      <td>1</td>\n",
       "      <td>{'RestaurantsPriceRange2': '1', 'WiFi': 'u'no'...</td>\n",
       "      <td>Restaurants</td>\n",
       "      <td>{'Monday': '10:0-2:30', 'Tuesday': '10:0-2:30'...</td>\n",
       "      <td>[lived, near, reel_inn, tavern, since, known, ...</td>\n",
       "      <td>positive</td>\n",
       "    </tr>\n",
       "    <tr>\n",
       "      <th>3998</th>\n",
       "      <td>3998</td>\n",
       "      <td>17044</td>\n",
       "      <td>fMZRia9Jq8CXgP3Wna6_gg</td>\n",
       "      <td>5</td>\n",
       "      <td>So fresh, flavorful and quantity makes this pl...</td>\n",
       "      <td>2019-05-07 02:08:13</td>\n",
       "      <td>Cha Ba Thai</td>\n",
       "      <td>5810 NE Sandy Blvd</td>\n",
       "      <td>Portland</td>\n",
       "      <td>OR</td>\n",
       "      <td>...</td>\n",
       "      <td>45.542554</td>\n",
       "      <td>-122.603306</td>\n",
       "      <td>4.0</td>\n",
       "      <td>332</td>\n",
       "      <td>1</td>\n",
       "      <td>{'Alcohol': ''beer_and_wine'', 'BusinessAccept...</td>\n",
       "      <td>Restaurants</td>\n",
       "      <td>{'Monday': '17:0-21:0', 'Tuesday': '17:0-21:0'...</td>\n",
       "      <td>[fresh, flavorful, quantity, make, place, favo...</td>\n",
       "      <td>positive</td>\n",
       "    </tr>\n",
       "    <tr>\n",
       "      <th>3999</th>\n",
       "      <td>3999</td>\n",
       "      <td>220098</td>\n",
       "      <td>UQ0gqyDzvIMbCKpwxQJxOg</td>\n",
       "      <td>5</td>\n",
       "      <td>This is really a good place. Staff is friendly...</td>\n",
       "      <td>2019-09-10 16:37:35</td>\n",
       "      <td>Chopt Creative Salad Co.</td>\n",
       "      <td>3655 Roswell Rd, Ste 212</td>\n",
       "      <td>Atlanta</td>\n",
       "      <td>GA</td>\n",
       "      <td>...</td>\n",
       "      <td>33.855182</td>\n",
       "      <td>-84.381928</td>\n",
       "      <td>3.5</td>\n",
       "      <td>75</td>\n",
       "      <td>1</td>\n",
       "      <td>{'RestaurantsTakeOut': 'True', 'RestaurantsRes...</td>\n",
       "      <td>Restaurants</td>\n",
       "      <td>{'Monday': '10:30-20:0', 'Tuesday': '10:30-20:...</td>\n",
       "      <td>[really, good, place, staff, friendly, fast, m...</td>\n",
       "      <td>positive</td>\n",
       "    </tr>\n",
       "  </tbody>\n",
       "</table>\n",
       "<p>4000 rows × 21 columns</p>\n",
       "</div>"
      ],
      "text/plain": [
       "      level_0   index             business_id  stars  \\\n",
       "0           0  127548  yfYIxgJcjamxnztuDhitUg      1   \n",
       "1           1   77717  Mpzv9m1f9qzl5UUHZyTemw      1   \n",
       "2           2  289181  Hb9O0Ox97v1uxCt77sLoMQ      1   \n",
       "3           3  127843  vOj3VF7l-aUPSHBmasgHPQ      1   \n",
       "4           4  358414  2cqd12IDUfOwIBMXDxyy8Q      1   \n",
       "...       ...     ...                     ...    ...   \n",
       "3995     3995  330257  oloBhDAbMhmqA8tlAChj4g      5   \n",
       "3996     3996  165392  DA6xYi5O2W9na51raLQOyA      5   \n",
       "3997     3997   54250  38e7N-ecFagCvB0Gnrx35A      5   \n",
       "3998     3998   17044  fMZRia9Jq8CXgP3Wna6_gg      5   \n",
       "3999     3999  220098  UQ0gqyDzvIMbCKpwxQJxOg      5   \n",
       "\n",
       "                                                   text                 date  \\\n",
       "0     this place is a disaster, and I hate My doctor...  2019-04-25 14:34:31   \n",
       "1     I've come here many times. It's hit or miss. T...  2019-12-02 03:38:21   \n",
       "2     DO NOT GO HERE UNLESS YOU WANT TO BE RIPPED OF...  2018-03-07 22:43:01   \n",
       "3     uh. this place is definitely closed. boarded u...  2020-01-06 15:15:40   \n",
       "4     I had a first time appointment yesterday and u...  2019-01-17 03:26:01   \n",
       "...                                                 ...                  ...   \n",
       "3995  Took a few weeks to get a reservation but tota...  2020-03-01 14:06:07   \n",
       "3996  This place is great and I'll definitely be com...  2020-06-05 16:26:35   \n",
       "3997  We've lived near the Reel M Inn Tavern since 2...  2020-06-27 02:11:45   \n",
       "3998  So fresh, flavorful and quantity makes this pl...  2019-05-07 02:08:13   \n",
       "3999  This is really a good place. Staff is friendly...  2019-09-10 16:37:35   \n",
       "\n",
       "                                          name  \\\n",
       "0     Atlanta Center for Reproductive Medicine   \n",
       "1                               Fly Dragon Spa   \n",
       "2                                 Zama Massage   \n",
       "3                 Joseph Allen, DDS - JBM Dent   \n",
       "4                     Executive Park Dentistry   \n",
       "...                                        ...   \n",
       "3995                                  Nostrana   \n",
       "3996                                Commissary   \n",
       "3997                                Reel M Inn   \n",
       "3998                               Cha Ba Thai   \n",
       "3999                  Chopt Creative Salad Co.   \n",
       "\n",
       "                                  address      city state  ...   latitude  \\\n",
       "0     5909 Peachtree Dunwoody Rd, Ste 600   Atlanta    GA  ...  33.917085   \n",
       "1                        1928 NE 42nd Ave  Portland    OR  ...  45.536932   \n",
       "2                     2149 NE Broadway St  Portland    OR  ...  45.535209   \n",
       "3                    1336 Glenwood Ave SE   Atlanta    GA  ...  33.740468   \n",
       "4        17 Executive Park Dr NE, Ste 100   Atlanta    GA  ...  33.827726   \n",
       "...                                   ...       ...   ...  ...        ...   \n",
       "3995         1401 SE Morrison St, Ste 101  Portland    OR  ...  45.517729   \n",
       "3996               915 NW 19th Ave, Ste A  Portland    OR  ...  45.529501   \n",
       "3997                  2430 SE Division St  Portland    OR  ...  45.504633   \n",
       "3998                   5810 NE Sandy Blvd  Portland    OR  ...  45.542554   \n",
       "3999             3655 Roswell Rd, Ste 212   Atlanta    GA  ...  33.855182   \n",
       "\n",
       "       longitude  stars_y  review_count  is_open  \\\n",
       "0     -84.349500      2.5            86        1   \n",
       "1    -122.619541      3.5           118        1   \n",
       "2    -122.643698      4.5           468        1   \n",
       "3     -84.343748      4.5             6        0   \n",
       "4     -84.339213      4.5            44        1   \n",
       "...          ...      ...           ...      ...   \n",
       "3995 -122.651156      4.0           956        1   \n",
       "3996 -122.690794      4.5           176        1   \n",
       "3997 -122.640556      4.0           358        1   \n",
       "3998 -122.603306      4.0           332        1   \n",
       "3999  -84.381928      3.5            75        1   \n",
       "\n",
       "                                             attributes        categories  \\\n",
       "0     {'ByAppointmentOnly': 'True', 'BusinessAccepts...  Health & Medical   \n",
       "1     {'BusinessParking': '{'garage': False, 'street...  Health & Medical   \n",
       "2     {'ByAppointmentOnly': 'False', 'BikeParking': ...  Health & Medical   \n",
       "3                        {'ByAppointmentOnly': 'False'}  Health & Medical   \n",
       "4     {'ByAppointmentOnly': 'True', 'WiFi': 'u'free'...  Health & Medical   \n",
       "...                                                 ...               ...   \n",
       "3995  {'OutdoorSeating': 'True', 'BusinessAcceptsCre...       Restaurants   \n",
       "3996  {'WiFi': 'u'free'', 'BusinessAcceptsCreditCard...       Restaurants   \n",
       "3997  {'RestaurantsPriceRange2': '1', 'WiFi': 'u'no'...       Restaurants   \n",
       "3998  {'Alcohol': ''beer_and_wine'', 'BusinessAccept...       Restaurants   \n",
       "3999  {'RestaurantsTakeOut': 'True', 'RestaurantsRes...       Restaurants   \n",
       "\n",
       "                                                  hours  \\\n",
       "0     {'Monday': '8:0-16:0', 'Tuesday': '8:0-16:0', ...   \n",
       "1     {'Monday': '10:0-23:0', 'Tuesday': '10:0-23:0'...   \n",
       "2     {'Monday': '9:0-21:0', 'Tuesday': '9:0-21:0', ...   \n",
       "3     {'Monday': '8:30-16:30', 'Tuesday': '8:30-16:3...   \n",
       "4     {'Monday': '0:0-0:0', 'Tuesday': '8:0-17:0', '...   \n",
       "...                                                 ...   \n",
       "3995  {'Monday': '0:0-0:0', 'Tuesday': '14:0-20:0', ...   \n",
       "3996  {'Monday': '8:0-15:0', 'Tuesday': '8:0-15:0', ...   \n",
       "3997  {'Monday': '10:0-2:30', 'Tuesday': '10:0-2:30'...   \n",
       "3998  {'Monday': '17:0-21:0', 'Tuesday': '17:0-21:0'...   \n",
       "3999  {'Monday': '10:30-20:0', 'Tuesday': '10:30-20:...   \n",
       "\n",
       "                                           review_clean sentiment  \n",
       "0     [place, disaster, hate, doctor, carpenter, nur...  negative  \n",
       "1     [come, many, time, hit_miss, evening, male_mas...  negative  \n",
       "2     [go, unless, want, ripped, lied, immensely, di...  negative  \n",
       "3     [uh, place, definitely, closed, boarded, windo...  negative  \n",
       "4     [first, time, appointment, yesterday, ultimate...  negative  \n",
       "...                                                 ...       ...  \n",
       "3995  [took, week, get, reservation, totally_worth, ...  positive  \n",
       "3996  [place, great, definitely, coming_back, tasty,...  positive  \n",
       "3997  [lived, near, reel_inn, tavern, since, known, ...  positive  \n",
       "3998  [fresh, flavorful, quantity, make, place, favo...  positive  \n",
       "3999  [really, good, place, staff, friendly, fast, m...  positive  \n",
       "\n",
       "[4000 rows x 21 columns]"
      ]
     },
     "execution_count": 30,
     "metadata": {},
     "output_type": "execute_result"
    }
   ],
   "source": [
    "sample_sorted"
   ]
  },
  {
   "cell_type": "markdown",
   "metadata": {},
   "source": [
    "### 1.3 Separate pos and neg reviews"
   ]
  },
  {
   "cell_type": "code",
   "execution_count": 31,
   "metadata": {},
   "outputs": [],
   "source": [
    "pos = sample_sorted[sample_sorted.sentiment == \"positive\"].reset_index(drop=True)\n",
    "neg = sample_sorted[sample_sorted.sentiment == \"negative\"].reset_index(drop=True)"
   ]
  },
  {
   "cell_type": "code",
   "execution_count": 32,
   "metadata": {},
   "outputs": [],
   "source": [
    "pos = pos.review_clean.tolist()\n",
    "neg = neg.review_clean.tolist()"
   ]
  },
  {
   "cell_type": "markdown",
   "metadata": {},
   "source": [
    "## 2. WMD"
   ]
  },
  {
   "cell_type": "markdown",
   "metadata": {},
   "source": [
    "### 2.1 Tokenize and \"sample\" data"
   ]
  },
  {
   "cell_type": "code",
   "execution_count": 33,
   "metadata": {},
   "outputs": [],
   "source": [
    "pos_tok = list(map(lambda x: tokenize(x, tokenizer), pos[:2000]))\n",
    "neg_tok = list(map(lambda x: tokenize(x, tokenizer), neg[:2000]))"
   ]
  },
  {
   "cell_type": "code",
   "execution_count": 34,
   "metadata": {},
   "outputs": [],
   "source": [
    "pos_sample = [\" \".join(doc) for doc in pos_tok]\n",
    "neg_sample = [\" \".join(doc) for doc in neg_tok]"
   ]
  },
  {
   "cell_type": "code",
   "execution_count": 35,
   "metadata": {},
   "outputs": [
    {
     "name": "stdout",
     "output_type": "stream",
     "text": [
      "2000\n",
      "2000\n"
     ]
    }
   ],
   "source": [
    "print(len(pos_sample))\n",
    "print(len(neg_sample))"
   ]
  },
  {
   "cell_type": "markdown",
   "metadata": {},
   "source": [
    "### 2.2 Load pretrained Google News W2V model"
   ]
  },
  {
   "cell_type": "code",
   "execution_count": 36,
   "metadata": {},
   "outputs": [],
   "source": [
    "finetuned = True"
   ]
  },
  {
   "cell_type": "code",
   "execution_count": 37,
   "metadata": {},
   "outputs": [
    {
     "name": "stdout",
     "output_type": "stream",
     "text": [
      "Loading GoogleNews Vectors finetuned using Yelp review data.\n",
      "CPU times: user 44.8 s, sys: 971 ms, total: 45.7 s\n",
      "Wall time: 46 s\n"
     ]
    }
   ],
   "source": [
    "if not finetuned:\n",
    "    print(\"Loading GoogleNews Vectors\")\n",
    "    %time model = KeyedVectors.load_word2vec_format('../embeddings/GoogleNews-vectors-negative300.bin.gz', binary=True)\n",
    "else:\n",
    "    print(\"Loading GoogleNews Vectors finetuned using Yelp review data.\")\n",
    "    %time model = KeyedVectors.load_word2vec_format('../embeddings/yelp_w2v.txt', binary=False)"
   ]
  },
  {
   "cell_type": "code",
   "execution_count": 38,
   "metadata": {},
   "outputs": [
    {
     "data": {
      "text/plain": [
       "0.23625940084457397"
      ]
     },
     "execution_count": 38,
     "metadata": {},
     "output_type": "execute_result"
    }
   ],
   "source": [
    "model.distance(\"taco\", \"burrito\")"
   ]
  },
  {
   "cell_type": "code",
   "execution_count": 39,
   "metadata": {},
   "outputs": [
    {
     "data": {
      "text/plain": [
       "0.237795889377594"
      ]
     },
     "execution_count": 39,
     "metadata": {},
     "output_type": "execute_result"
    }
   ],
   "source": [
    "model.distance(\"quesadilla\",\"tostada\")"
   ]
  },
  {
   "cell_type": "code",
   "execution_count": 40,
   "metadata": {},
   "outputs": [
    {
     "data": {
      "text/plain": [
       "0.17333048582077026"
      ]
     },
     "execution_count": 40,
     "metadata": {},
     "output_type": "execute_result"
    }
   ],
   "source": [
    "model.distance(\"sushi\", \"sashimi\")"
   ]
  },
  {
   "cell_type": "markdown",
   "metadata": {},
   "source": [
    "### 2.3 Load corpus and remove OOV words"
   ]
  },
  {
   "cell_type": "code",
   "execution_count": 41,
   "metadata": {},
   "outputs": [
    {
     "name": "stderr",
     "output_type": "stream",
     "text": [
      "/Users/mikaelbrunila/Documents/Code/wmdecompose/venv-wmdecomp/lib/python3.8/site-packages/sklearn/feature_extraction/text.py:489: UserWarning: The parameter 'token_pattern' will not be used since 'tokenizer' is not None'\n",
      "  warnings.warn(\"The parameter 'token_pattern' will not be used\"\n"
     ]
    },
    {
     "name": "stdout",
     "output_type": "stream",
     "text": [
      "CPU times: user 2.27 s, sys: 187 ms, total: 2.46 s\n",
      "Wall time: 2.62 s\n"
     ]
    },
    {
     "data": {
      "text/plain": [
       "TfidfVectorizer(norm='l1',\n",
       "                tokenizer=<function tfidf_tokenize at 0x7fc345ea6280>,\n",
       "                use_idf=False)"
      ]
     },
     "execution_count": 41,
     "metadata": {},
     "output_type": "execute_result"
    }
   ],
   "source": [
    "%%time\n",
    "\n",
    "corpus = pos_sample + neg_sample\n",
    "vectorizer = TfidfVectorizer(use_idf=False, tokenizer=tfidf_tokenize, norm='l1')\n",
    "vectorizer.fit(corpus)"
   ]
  },
  {
   "cell_type": "code",
   "execution_count": 42,
   "metadata": {},
   "outputs": [
    {
     "name": "stdout",
     "output_type": "stream",
     "text": [
      "CPU times: user 19.2 ms, sys: 926 µs, total: 20.1 ms\n",
      "Wall time: 19.4 ms\n"
     ]
    }
   ],
   "source": [
    "%time oov = [word for word in vectorizer.get_feature_names() if word not in model.key_to_index.keys()]"
   ]
  },
  {
   "cell_type": "code",
   "execution_count": 43,
   "metadata": {},
   "outputs": [
    {
     "data": {
      "text/plain": [
       "538"
      ]
     },
     "execution_count": 43,
     "metadata": {},
     "output_type": "execute_result"
    }
   ],
   "source": [
    "len(oov)"
   ]
  },
  {
   "cell_type": "code",
   "execution_count": 44,
   "metadata": {},
   "outputs": [
    {
     "name": "stdout",
     "output_type": "stream",
     "text": [
      "[\"'\", ',', '\\\\\\\\___', '_community_', 'aahhhhhhhhmazing', 'aboutlastnight', 'ackwkowlegement', 'acutaly', 'addictivethere', 'adonika', 'afterwardscould', 'againmethinks', 'agosta', 'airopro', 'airoproindigopro', 'akosua', 'aksanaiva', 'albertathe', 'alcoholptsd', 'aligeti', 'alliera', 'almostttt', 'amberbeautyatl', 'amberrose', 'analysishistory', 'andtheh', 'anethistician', 'anplaces', 'anshante', 'antgolotti', 'antidentite', 'antiiconic', 'anxietydepression', 'apppts', 'areacentral', 'arnoud', 'aromantic', 'aroundtheclockcare', 'athina', 'athletetherapist', 'atlantaedgewood', 'atrovent', 'autocharge', 'availity', 'babycare', 'baedner', 'bajraktarevi', 'barnese', 'battaglia', 'bazoria']\n"
     ]
    }
   ],
   "source": [
    "print(oov[:50])"
   ]
  },
  {
   "cell_type": "code",
   "execution_count": 45,
   "metadata": {},
   "outputs": [
    {
     "name": "stdout",
     "output_type": "stream",
     "text": [
      "CPU times: user 1.18 s, sys: 9.01 ms, total: 1.19 s\n",
      "Wall time: 1.2 s\n",
      "CPU times: user 1.64 s, sys: 9.7 ms, total: 1.65 s\n",
      "Wall time: 1.66 s\n"
     ]
    }
   ],
   "source": [
    "%time pos_sample = list(map(lambda x: remove_oov(x, tokenizer, oov), pos_sample[:2000]))\n",
    "%time neg_sample = list(map(lambda x: remove_oov(x, tokenizer, oov), neg_sample[:2000]))"
   ]
  },
  {
   "cell_type": "code",
   "execution_count": 46,
   "metadata": {},
   "outputs": [
    {
     "data": {
      "text/plain": [
       "'[ writing_review little late lilia cleaning minute whitening_treatment couple month_ago purchased whitening_treatment groupon suggested cleaning right thought cleaning reasonable gentle_thorough gave lot great advice good oral_hygiene whitening_treatment immediately following painless even relaxing usually get quiet moment life like able read anything light teeth lay back relax extremely sensitive_teeth experience pain procedure afterwards lilia educated proper care whitening keep teeth white suggested buy whitening_strip use weekly_biweekly keep new surface stain since treatment deep clean considering treatment would also suggest aware eat staining food day following whitening something considered since done right thanksgiving little worried cranberry sauce afterwards also bought desensitizing gel lilia think help sensitivity treatment would definitely suggest buying get couple zinger later day gave enough though whitening done would able use left ok review getting long summarize happy treatment cleaning mostly lilia friendliness customer_service recommend need service ]'"
      ]
     },
     "execution_count": 46,
     "metadata": {},
     "output_type": "execute_result"
    }
   ],
   "source": [
    "pos_sample[5]"
   ]
  },
  {
   "cell_type": "code",
   "execution_count": 47,
   "metadata": {},
   "outputs": [
    {
     "name": "stdout",
     "output_type": "stream",
     "text": [
      "CPU times: user 23 µs, sys: 0 ns, total: 23 µs\n",
      "Wall time: 24.1 µs\n",
      "CPU times: user 492 ms, sys: 7.73 ms, total: 499 ms\n",
      "Wall time: 504 ms\n"
     ]
    },
    {
     "data": {
      "text/plain": [
       "TfidfVectorizer(norm='l1',\n",
       "                tokenizer=<function tfidf_tokenize at 0x7fc345ea6280>)"
      ]
     },
     "execution_count": 47,
     "metadata": {},
     "output_type": "execute_result"
    }
   ],
   "source": [
    "corpus = pos_sample + neg_sample\n",
    "\n",
    "%time vectorizer = TfidfVectorizer(use_idf=True, tokenizer=tfidf_tokenize,norm='l1')\n",
    "%time vectorizer.fit(corpus)"
   ]
  },
  {
   "cell_type": "markdown",
   "metadata": {},
   "source": [
    "Bag-of-words vectorizer."
   ]
  },
  {
   "cell_type": "code",
   "execution_count": 48,
   "metadata": {},
   "outputs": [
    {
     "name": "stdout",
     "output_type": "stream",
     "text": [
      "CPU times: user 2 µs, sys: 0 ns, total: 2 µs\n",
      "Wall time: 5.01 µs\n"
     ]
    }
   ],
   "source": [
    "%time\n",
    "pos_nbow = vectorizer.transform(pos_sample)\n",
    "neg_nbow = vectorizer.transform(neg_sample)"
   ]
  },
  {
   "cell_type": "code",
   "execution_count": 49,
   "metadata": {},
   "outputs": [],
   "source": [
    "pos_tok = list(map(lambda x: tokenize(x, tokenizer), pos_sample[:2000]))\n",
    "neg_tok =list(map(lambda x: tokenize(x, tokenizer), neg_sample[:2000]))"
   ]
  },
  {
   "cell_type": "code",
   "execution_count": 50,
   "metadata": {},
   "outputs": [
    {
     "name": "stdout",
     "output_type": "stream",
     "text": [
      "['[', 'writing_review', 'little', 'late', 'lilia', 'cleaning', 'minute', 'whitening_treatment', 'couple', 'month_ago', 'purchased', 'whitening_treatment', 'groupon', 'suggested', 'cleaning', 'right', 'thought', 'cleaning', 'reasonable', 'gentle_thorough']\n"
     ]
    }
   ],
   "source": [
    "print(pos_tok[5][:20])"
   ]
  },
  {
   "cell_type": "code",
   "execution_count": 51,
   "metadata": {},
   "outputs": [
    {
     "name": "stdout",
     "output_type": "stream",
     "text": [
      "CPU times: user 24.6 ms, sys: 354 µs, total: 25 ms\n",
      "Wall time: 25.1 ms\n"
     ]
    }
   ],
   "source": [
    "%time oov_ = [word for word in vectorizer.get_feature_names() if word not in model.key_to_index.keys()]"
   ]
  },
  {
   "cell_type": "code",
   "execution_count": 52,
   "metadata": {},
   "outputs": [
    {
     "data": {
      "text/plain": [
       "0"
      ]
     },
     "execution_count": 52,
     "metadata": {},
     "output_type": "execute_result"
    }
   ],
   "source": [
    "len(oov_)"
   ]
  },
  {
   "cell_type": "markdown",
   "metadata": {},
   "source": [
    "### 2.4 Get features and embeddings"
   ]
  },
  {
   "cell_type": "code",
   "execution_count": 53,
   "metadata": {},
   "outputs": [],
   "source": [
    "features = vectorizer.get_feature_names()\n",
    "word2idx = {word: idx for idx, word in enumerate(vectorizer.get_feature_names())}\n",
    "idx2word = {idx: word for idx, word in enumerate(vectorizer.get_feature_names())}"
   ]
  },
  {
   "cell_type": "markdown",
   "metadata": {},
   "source": [
    "Get the embedding matrix \"E\" for all features."
   ]
  },
  {
   "cell_type": "code",
   "execution_count": 55,
   "metadata": {},
   "outputs": [],
   "source": [
    "E = model[features]"
   ]
  },
  {
   "cell_type": "markdown",
   "metadata": {},
   "source": [
    "### 2.5 Cluster"
   ]
  },
  {
   "cell_type": "markdown",
   "metadata": {},
   "source": [
    "In order to make the results of the WMD model more interpretable, we add the option to inspect the output not only by individual words, but also by *word clusters*. We do this by clustering the input words with two different algorithms\n",
    "and assigning each word to a cluster."
   ]
  },
  {
   "cell_type": "markdown",
   "metadata": {},
   "source": [
    "#### 2.5.1 Kmeans"
   ]
  },
  {
   "cell_type": "markdown",
   "metadata": {},
   "source": [
    "First, we select the number of clusters we want, initialize the Kmeans model and fit it."
   ]
  },
  {
   "cell_type": "code",
   "execution_count": 382,
   "metadata": {},
   "outputs": [
    {
     "name": "stdout",
     "output_type": "stream",
     "text": [
      "CPU times: user 5 µs, sys: 1e+03 ns, total: 6 µs\n",
      "Wall time: 8.11 µs\n"
     ]
    }
   ],
   "source": [
    "%%time\n",
    "\n",
    "K = range(10,210, 10)"
   ]
  },
  {
   "cell_type": "code",
   "execution_count": 383,
   "metadata": {},
   "outputs": [
    {
     "name": "stdout",
     "output_type": "stream",
     "text": [
      "For n_clusters = 10 The average silhouette_score is : -0.036006346\n",
      "For n_clusters = 20 The average silhouette_score is : -0.019238664\n",
      "For n_clusters = 30 The average silhouette_score is : -0.07277242\n",
      "For n_clusters = 40 The average silhouette_score is : -0.067528106\n",
      "For n_clusters = 50 The average silhouette_score is : -0.06428317\n",
      "For n_clusters = 60 The average silhouette_score is : -0.054389443\n",
      "For n_clusters = 70 The average silhouette_score is : -0.055071943\n",
      "For n_clusters = 80 The average silhouette_score is : -0.055669922\n",
      "For n_clusters = 90 The average silhouette_score is : -0.05850744\n",
      "For n_clusters = 100 The average silhouette_score is : -0.065402016\n",
      "For n_clusters = 110 The average silhouette_score is : -0.069656424\n",
      "For n_clusters = 120 The average silhouette_score is : -0.07031331\n",
      "For n_clusters = 130 The average silhouette_score is : -0.056954652\n",
      "For n_clusters = 140 The average silhouette_score is : -0.05302294\n",
      "For n_clusters = 150 The average silhouette_score is : -0.06565009\n",
      "For n_clusters = 160 The average silhouette_score is : -0.06449294\n",
      "For n_clusters = 170 The average silhouette_score is : -0.062018216\n",
      "For n_clusters = 180 The average silhouette_score is : -0.06256109\n",
      "For n_clusters = 190 The average silhouette_score is : -0.060635068\n",
      "For n_clusters = 200 The average silhouette_score is : -0.057702653\n",
      "CPU times: user 1h 16min 23s, sys: 10min 28s, total: 1h 26min 51s\n",
      "Wall time: 21min 5s\n"
     ]
    }
   ],
   "source": [
    "%%time\n",
    "\n",
    "wvec_ssd, wvec_silhouette = kmeans_search(E, K)"
   ]
  },
  {
   "cell_type": "code",
   "execution_count": 384,
   "metadata": {},
   "outputs": [
    {
     "data": {
      "image/png": "[encoded data removed]",
      "text/plain": [
       "<Figure size 432x288 with 1 Axes>"
      ]
     },
     "metadata": {
      "needs_background": "light"
     },
     "output_type": "display_data"
    }
   ],
   "source": [
    "plot_kmeans(K,wvec_ssd,\"elbow\")"
   ]
  },
  {
   "cell_type": "code",
   "execution_count": 385,
   "metadata": {},
   "outputs": [
    {
     "data": {
      "image/png": "[encoded data removed]",
      "text/plain": [
       "<Figure size 432x288 with 1 Axes>"
      ]
     },
     "metadata": {
      "needs_background": "light"
     },
     "output_type": "display_data"
    }
   ],
   "source": [
    "plot_kmeans(K,wvec_silhouette,\"silhouette\")"
   ]
  },
  {
   "cell_type": "markdown",
   "metadata": {},
   "source": [
    "Assign labels and centroids to separate variables for later use."
   ]
  },
  {
   "cell_type": "markdown",
   "metadata": {},
   "source": [
    "#### 2.5.2 T-SNE + Kmeans"
   ]
  },
  {
   "cell_type": "code",
   "execution_count": 57,
   "metadata": {},
   "outputs": [],
   "source": [
    "method='barnes_hut'\n",
    "n_components = 2\n",
    "verbose = 1"
   ]
  },
  {
   "cell_type": "code",
   "execution_count": 58,
   "metadata": {},
   "outputs": [
    {
     "name": "stdout",
     "output_type": "stream",
     "text": [
      "[t-SNE] Computing 91 nearest neighbors...\n",
      "[t-SNE] Indexed 19498 samples in 0.004s...\n",
      "[t-SNE] Computed neighbors for 19498 samples in 8.943s...\n",
      "[t-SNE] Computed conditional probabilities for sample 1000 / 19498\n",
      "[t-SNE] Computed conditional probabilities for sample 2000 / 19498\n",
      "[t-SNE] Computed conditional probabilities for sample 3000 / 19498\n",
      "[t-SNE] Computed conditional probabilities for sample 4000 / 19498\n",
      "[t-SNE] Computed conditional probabilities for sample 5000 / 19498\n",
      "[t-SNE] Computed conditional probabilities for sample 6000 / 19498\n",
      "[t-SNE] Computed conditional probabilities for sample 7000 / 19498\n",
      "[t-SNE] Computed conditional probabilities for sample 8000 / 19498\n",
      "[t-SNE] Computed conditional probabilities for sample 9000 / 19498\n",
      "[t-SNE] Computed conditional probabilities for sample 10000 / 19498\n",
      "[t-SNE] Computed conditional probabilities for sample 11000 / 19498\n",
      "[t-SNE] Computed conditional probabilities for sample 12000 / 19498\n",
      "[t-SNE] Computed conditional probabilities for sample 13000 / 19498\n",
      "[t-SNE] Computed conditional probabilities for sample 14000 / 19498\n",
      "[t-SNE] Computed conditional probabilities for sample 15000 / 19498\n",
      "[t-SNE] Computed conditional probabilities for sample 16000 / 19498\n",
      "[t-SNE] Computed conditional probabilities for sample 17000 / 19498\n",
      "[t-SNE] Computed conditional probabilities for sample 18000 / 19498\n",
      "[t-SNE] Computed conditional probabilities for sample 19000 / 19498\n",
      "[t-SNE] Computed conditional probabilities for sample 19498 / 19498\n",
      "[t-SNE] Mean sigma: 0.288991\n",
      "[t-SNE] KL divergence after 250 iterations with early exaggeration: 97.596703\n",
      "[t-SNE] KL divergence after 1000 iterations: 2.811732\n"
     ]
    }
   ],
   "source": [
    "E_tsne = TSNE(n_components=n_components, method=method, verbose=verbose).fit_transform(E)"
   ]
  },
  {
   "cell_type": "code",
   "execution_count": 59,
   "metadata": {},
   "outputs": [
    {
     "data": {
      "image/png": "[encoded data removed]",
      "text/plain": [
       "<Figure size 432x288 with 1 Axes>"
      ]
     },
     "metadata": {
      "needs_background": "light"
     },
     "output_type": "display_data"
    }
   ],
   "source": [
    "plt.scatter(E_tsne[:, 0], E_tsne[:, 1], s=1);"
   ]
  },
  {
   "cell_type": "code",
   "execution_count": 389,
   "metadata": {},
   "outputs": [
    {
     "name": "stdout",
     "output_type": "stream",
     "text": [
      "For n_clusters = 10 The average silhouette_score is : 0.37478644\n",
      "For n_clusters = 20 The average silhouette_score is : 0.36666763\n",
      "For n_clusters = 30 The average silhouette_score is : 0.36414522\n",
      "For n_clusters = 40 The average silhouette_score is : 0.35804102\n",
      "For n_clusters = 50 The average silhouette_score is : 0.36096376\n",
      "For n_clusters = 60 The average silhouette_score is : 0.3575868\n",
      "For n_clusters = 70 The average silhouette_score is : 0.35891905\n",
      "For n_clusters = 80 The average silhouette_score is : 0.36087665\n",
      "For n_clusters = 90 The average silhouette_score is : 0.36161482\n",
      "For n_clusters = 100 The average silhouette_score is : 0.3613771\n",
      "For n_clusters = 110 The average silhouette_score is : 0.36354688\n",
      "For n_clusters = 120 The average silhouette_score is : 0.36354893\n",
      "For n_clusters = 130 The average silhouette_score is : 0.36461017\n",
      "For n_clusters = 140 The average silhouette_score is : 0.365778\n",
      "For n_clusters = 150 The average silhouette_score is : 0.36173385\n",
      "For n_clusters = 160 The average silhouette_score is : 0.361798\n",
      "For n_clusters = 170 The average silhouette_score is : 0.362134\n",
      "For n_clusters = 180 The average silhouette_score is : 0.36180627\n",
      "For n_clusters = 190 The average silhouette_score is : 0.3635253\n",
      "For n_clusters = 200 The average silhouette_score is : 0.35945854\n",
      "CPU times: user 12min 45s, sys: 1min 26s, total: 14min 12s\n",
      "Wall time: 3min 8s\n"
     ]
    }
   ],
   "source": [
    "%%time\n",
    "\n",
    "tsne_ssd, tsne_silhouette = kmeans_search(E_tsne, K)"
   ]
  },
  {
   "cell_type": "code",
   "execution_count": 390,
   "metadata": {},
   "outputs": [
    {
     "data": {
      "image/png": "[encoded data removed]",
      "text/plain": [
       "<Figure size 432x288 with 1 Axes>"
      ]
     },
     "metadata": {
      "needs_background": "light"
     },
     "output_type": "display_data"
    }
   ],
   "source": [
    "plot_kmeans(K,tsne_ssd,\"elbow\")"
   ]
  },
  {
   "cell_type": "code",
   "execution_count": 391,
   "metadata": {},
   "outputs": [
    {
     "data": {
      "image/png": "[encoded data removed]",
      "text/plain": [
       "<Figure size 432x288 with 1 Axes>"
      ]
     },
     "metadata": {
      "needs_background": "light"
     },
     "output_type": "display_data"
    }
   ],
   "source": [
    "plot_kmeans(K,tsne_silhouette,\"silhouette\")"
   ]
  },
  {
   "cell_type": "markdown",
   "metadata": {},
   "source": [
    "#### 2.5.3 PCA + Kmeans"
   ]
  },
  {
   "cell_type": "code",
   "execution_count": 60,
   "metadata": {},
   "outputs": [],
   "source": [
    "n_components = 0.9\n",
    "verbose = 1"
   ]
  },
  {
   "cell_type": "code",
   "execution_count": 61,
   "metadata": {},
   "outputs": [],
   "source": [
    "pca_fit = PCA(n_components = n_components).fit(E)"
   ]
  },
  {
   "cell_type": "code",
   "execution_count": 62,
   "metadata": {},
   "outputs": [
    {
     "name": "stdout",
     "output_type": "stream",
     "text": [
      "179\n",
      "[0.09085786 0.04430506 0.03889802 0.03021837 0.02840263 0.02468055\n",
      " 0.02224194 0.02052893 0.01921241 0.01784137 0.01683477 0.0148225\n",
      " 0.01361957 0.01283089 0.01258834 0.01158361 0.01097102 0.01016251\n",
      " 0.0097819  0.00954368 0.00887937 0.00867909 0.00824066 0.00811348\n",
      " 0.00771921 0.00730779 0.00714592 0.00705249 0.00681285 0.00655042\n",
      " 0.00636943 0.00622913 0.00610005 0.00592973 0.00575623 0.00562367\n",
      " 0.00544014 0.00528517 0.00526524 0.00500746 0.0049221  0.00485796\n",
      " 0.00484005 0.00476447 0.00458024 0.00453214 0.00438317 0.00435277\n",
      " 0.00416083 0.00410721 0.00400743 0.00394602 0.00391809 0.00383531\n",
      " 0.00373255 0.0036343  0.00354919 0.00349796 0.00343568 0.0033994\n",
      " 0.0033862  0.00331953 0.00327547 0.00321532 0.00318813 0.00315867\n",
      " 0.003119   0.00305727 0.00301948 0.00298445 0.00293655 0.00291594\n",
      " 0.00284899 0.00283848 0.00277709 0.00273183 0.00271985 0.00268629\n",
      " 0.00266973 0.00262688 0.00256858 0.00254215 0.00252468 0.00250248\n",
      " 0.00245366 0.00241552 0.00238988 0.00238026 0.00234211 0.00230819\n",
      " 0.00226889 0.00225527 0.00223287 0.0022122  0.00220135 0.00218509\n",
      " 0.00217278 0.00215447 0.00211762 0.00210428 0.00206383 0.00205275\n",
      " 0.00203856 0.0019976  0.00199284 0.00198419 0.00195459 0.00193617\n",
      " 0.00190198 0.00188358 0.00186088 0.00185419 0.00183226 0.00180525\n",
      " 0.00179994 0.00177457 0.00176767 0.00175715 0.00174884 0.00173498\n",
      " 0.00170767 0.00169763 0.00168613 0.00166391 0.00165428 0.00164136\n",
      " 0.00162812 0.00162348 0.00160496 0.00159372 0.00158728 0.00156864\n",
      " 0.00154286 0.00153377 0.0015194  0.00150403 0.00150293 0.00148865\n",
      " 0.001484   0.00146949 0.00145649 0.00144348 0.00143159 0.0014275\n",
      " 0.00142102 0.0014003  0.00138654 0.00138157 0.00137218 0.00135512\n",
      " 0.00135148 0.00134128 0.00133814 0.0013225  0.00131511 0.00130815\n",
      " 0.00129067 0.00128608 0.00127688 0.00126452 0.0012551  0.00124617\n",
      " 0.00124261 0.00122225 0.001219   0.00121483 0.00120427 0.00119687\n",
      " 0.00119258 0.00118506 0.00117879 0.00117545 0.00116181 0.00115437\n",
      " 0.00115081 0.001141   0.0011365  0.00113148 0.00111884]\n",
      "0.9008404\n"
     ]
    }
   ],
   "source": [
    "print(len(pca_fit.explained_variance_ratio_))\n",
    "print(pca_fit.explained_variance_ratio_)\n",
    "print(np.sum(pca_fit.explained_variance_ratio_))"
   ]
  },
  {
   "cell_type": "code",
   "execution_count": 63,
   "metadata": {},
   "outputs": [],
   "source": [
    "E_pca = pca_fit.transform(E)"
   ]
  },
  {
   "cell_type": "code",
   "execution_count": 64,
   "metadata": {},
   "outputs": [
    {
     "data": {
      "image/png": "[encoded data removed]",
      "text/plain": [
       "<Figure size 432x288 with 1 Axes>"
      ]
     },
     "metadata": {
      "needs_background": "light"
     },
     "output_type": "display_data"
    }
   ],
   "source": [
    "plt.scatter(E_pca[:, 0], E_pca[:, 1], s=1);"
   ]
  },
  {
   "cell_type": "code",
   "execution_count": 397,
   "metadata": {},
   "outputs": [
    {
     "name": "stdout",
     "output_type": "stream",
     "text": [
      "For n_clusters = 10 The average silhouette_score is : -0.022082698\n",
      "For n_clusters = 20 The average silhouette_score is : -0.004242049\n",
      "For n_clusters = 30 The average silhouette_score is : -0.04832848\n",
      "For n_clusters = 40 The average silhouette_score is : -0.042334124\n",
      "For n_clusters = 50 The average silhouette_score is : -0.04541711\n",
      "For n_clusters = 60 The average silhouette_score is : -0.029091742\n",
      "For n_clusters = 70 The average silhouette_score is : -0.04208782\n",
      "For n_clusters = 80 The average silhouette_score is : -0.033878442\n",
      "For n_clusters = 90 The average silhouette_score is : -0.039335344\n",
      "For n_clusters = 100 The average silhouette_score is : -0.03747511\n",
      "For n_clusters = 110 The average silhouette_score is : -0.04942073\n",
      "For n_clusters = 120 The average silhouette_score is : -0.04341687\n",
      "For n_clusters = 130 The average silhouette_score is : -0.041762803\n",
      "For n_clusters = 140 The average silhouette_score is : -0.03971628\n",
      "For n_clusters = 150 The average silhouette_score is : -0.038378283\n",
      "For n_clusters = 160 The average silhouette_score is : -0.043082617\n",
      "For n_clusters = 170 The average silhouette_score is : -0.03583176\n",
      "For n_clusters = 180 The average silhouette_score is : -0.03872349\n",
      "For n_clusters = 190 The average silhouette_score is : -0.039317682\n",
      "For n_clusters = 200 The average silhouette_score is : -0.038236484\n",
      "CPU times: user 58min 1s, sys: 9min 15s, total: 1h 7min 17s\n",
      "Wall time: 15min 39s\n"
     ]
    }
   ],
   "source": [
    "%%time\n",
    "\n",
    "pca_ssd, pca_silhouette = kmeans_search(E_pca, K)"
   ]
  },
  {
   "cell_type": "code",
   "execution_count": 398,
   "metadata": {},
   "outputs": [
    {
     "data": {
      "image/png": "[encoded data removed]",
      "text/plain": [
       "<Figure size 432x288 with 1 Axes>"
      ]
     },
     "metadata": {
      "needs_background": "light"
     },
     "output_type": "display_data"
    }
   ],
   "source": [
    "plot_kmeans(K,pca_ssd,\"elbow\")"
   ]
  },
  {
   "cell_type": "code",
   "execution_count": 399,
   "metadata": {},
   "outputs": [
    {
     "data": {
      "image/png": "[encoded data removed]",
      "text/plain": [
       "<Figure size 432x288 with 1 Axes>"
      ]
     },
     "metadata": {
      "needs_background": "light"
     },
     "output_type": "display_data"
    }
   ],
   "source": [
    "plot_kmeans(K,pca_silhouette,\"silhouette\")"
   ]
  },
  {
   "cell_type": "markdown",
   "metadata": {},
   "source": [
    "#### 2.5.4 UMAP + Kmeans"
   ]
  },
  {
   "cell_type": "code",
   "execution_count": 65,
   "metadata": {},
   "outputs": [
    {
     "name": "stdout",
     "output_type": "stream",
     "text": [
      "CPU times: user 2min 11s, sys: 2.02 s, total: 2min 13s\n",
      "Wall time: 2min 14s\n"
     ]
    }
   ],
   "source": [
    "%%time\n",
    "\n",
    "metric = 'cosine'\n",
    "dm = cdist(E, E, metric)\n",
    "np.fill_diagonal(dm, 0)"
   ]
  },
  {
   "cell_type": "code",
   "execution_count": 66,
   "metadata": {},
   "outputs": [
    {
     "data": {
      "text/plain": [
       "True"
      ]
     },
     "execution_count": 66,
     "metadata": {},
     "output_type": "execute_result"
    }
   ],
   "source": [
    "is_valid_dm(dm)"
   ]
  },
  {
   "cell_type": "code",
   "execution_count": 67,
   "metadata": {},
   "outputs": [
    {
     "name": "stdout",
     "output_type": "stream",
     "text": [
      "0.5925560692136862 0.14890877456877802\n"
     ]
    }
   ],
   "source": [
    "mean, std = np.mean(dm), np.std(dm)\n",
    "print(mean, std)"
   ]
  },
  {
   "cell_type": "code",
   "execution_count": 68,
   "metadata": {},
   "outputs": [
    {
     "name": "stdout",
     "output_type": "stream",
     "text": [
      "Min distance: 0.29473852007613016\n",
      "N. neighbors: 19\n",
      "N. compontents: 2\n"
     ]
    }
   ],
   "source": [
    "min_dist=mean - 2*std\n",
    "n_neighbors = int(0.001*len(E))\n",
    "n_components=2\n",
    "print(f\"Min distance: {min_dist}\")\n",
    "print(f\"N. neighbors: {n_neighbors}\")\n",
    "print(f\"N. compontents: {n_components}\")"
   ]
  },
  {
   "cell_type": "code",
   "execution_count": 69,
   "metadata": {},
   "outputs": [
    {
     "name": "stdout",
     "output_type": "stream",
     "text": [
      "UMAP(dens_frac=0.0, dens_lambda=0.0, min_dist=0.29473852007613016,\n",
      "     n_neighbors=19, random_state=42, verbose=1)\n",
      "Construct fuzzy simplicial set\n",
      "Thu Sep 16 17:40:51 2021 Finding Nearest Neighbors\n",
      "Thu Sep 16 17:40:51 2021 Building RP forest with 12 trees\n",
      "Thu Sep 16 17:40:53 2021 NN descent for 14 iterations\n",
      "\t 1  /  14\n",
      "\t 2  /  14\n",
      "\t 3  /  14\n",
      "\t 4  /  14\n",
      "\t 5  /  14\n",
      "\tStopping threshold met -- exiting after 5 iterations\n",
      "Thu Sep 16 17:41:03 2021 Finished Nearest Neighbor Search\n",
      "Thu Sep 16 17:41:07 2021 Construct embedding\n",
      "\tcompleted  0  /  200 epochs\n",
      "\tcompleted  20  /  200 epochs\n",
      "\tcompleted  40  /  200 epochs\n",
      "\tcompleted  60  /  200 epochs\n",
      "\tcompleted  80  /  200 epochs\n",
      "\tcompleted  100  /  200 epochs\n",
      "\tcompleted  120  /  200 epochs\n",
      "\tcompleted  140  /  200 epochs\n",
      "\tcompleted  160  /  200 epochs\n",
      "\tcompleted  180  /  200 epochs\n",
      "Thu Sep 16 17:41:21 2021 Finished embedding\n",
      "CPU times: user 32.8 s, sys: 3.25 s, total: 36.1 s\n",
      "Wall time: 30.3 s\n"
     ]
    }
   ],
   "source": [
    "%%time\n",
    "\n",
    "E_umap = umap.UMAP(\n",
    "    n_neighbors=n_neighbors,\n",
    "    min_dist=min_dist,\n",
    "    n_components=n_components,\n",
    "    random_state=42,\n",
    "    verbose=verbose\n",
    ").fit_transform(E)"
   ]
  },
  {
   "cell_type": "code",
   "execution_count": 70,
   "metadata": {},
   "outputs": [
    {
     "data": {
      "image/png": "[encoded data removed]",
      "text/plain": [
       "<Figure size 432x288 with 1 Axes>"
      ]
     },
     "metadata": {
      "needs_background": "light"
     },
     "output_type": "display_data"
    }
   ],
   "source": [
    "plt.scatter(E_umap[:, 0], E_umap[:, 1], s=1);"
   ]
  },
  {
   "cell_type": "code",
   "execution_count": 438,
   "metadata": {},
   "outputs": [
    {
     "name": "stdout",
     "output_type": "stream",
     "text": [
      "For n_clusters = 10 The average silhouette_score is : 0.351182\n",
      "For n_clusters = 20 The average silhouette_score is : 0.35603577\n",
      "For n_clusters = 30 The average silhouette_score is : 0.36309338\n",
      "For n_clusters = 40 The average silhouette_score is : 0.35398746\n",
      "For n_clusters = 50 The average silhouette_score is : 0.34627366\n",
      "For n_clusters = 60 The average silhouette_score is : 0.34752306\n",
      "For n_clusters = 70 The average silhouette_score is : 0.3474978\n",
      "For n_clusters = 80 The average silhouette_score is : 0.34946468\n",
      "For n_clusters = 90 The average silhouette_score is : 0.35045117\n",
      "For n_clusters = 100 The average silhouette_score is : 0.34772164\n",
      "For n_clusters = 110 The average silhouette_score is : 0.3505882\n",
      "For n_clusters = 120 The average silhouette_score is : 0.3454415\n",
      "For n_clusters = 130 The average silhouette_score is : 0.34700733\n",
      "For n_clusters = 140 The average silhouette_score is : 0.34971148\n",
      "For n_clusters = 150 The average silhouette_score is : 0.3476493\n",
      "For n_clusters = 160 The average silhouette_score is : 0.34707153\n",
      "For n_clusters = 170 The average silhouette_score is : 0.3487325\n",
      "For n_clusters = 180 The average silhouette_score is : 0.34745893\n",
      "For n_clusters = 190 The average silhouette_score is : 0.3494686\n",
      "For n_clusters = 200 The average silhouette_score is : 0.35159218\n",
      "CPU times: user 13min 8s, sys: 1min 26s, total: 14min 34s\n",
      "Wall time: 3min 10s\n"
     ]
    }
   ],
   "source": [
    "%%time\n",
    "\n",
    "umap_ssd, umap_silhouette = kmeans_search(E_umap, K)"
   ]
  },
  {
   "cell_type": "code",
   "execution_count": 439,
   "metadata": {},
   "outputs": [
    {
     "data": {
      "image/png": "[encoded data removed]",
      "text/plain": [
       "<Figure size 432x288 with 1 Axes>"
      ]
     },
     "metadata": {
      "needs_background": "light"
     },
     "output_type": "display_data"
    }
   ],
   "source": [
    "plot_kmeans(K,umap_ssd,\"elbow\")"
   ]
  },
  {
   "cell_type": "code",
   "execution_count": 440,
   "metadata": {},
   "outputs": [
    {
     "data": {
      "image/png": "[encoded data removed]",
      "text/plain": [
       "<Figure size 432x288 with 1 Axes>"
      ]
     },
     "metadata": {
      "needs_background": "light"
     },
     "output_type": "display_data"
    }
   ],
   "source": [
    "plot_kmeans(K,umap_silhouette,\"silhouette\")"
   ]
  },
  {
   "cell_type": "markdown",
   "metadata": {},
   "source": [
    "#### 2.5.5 Choose clustering model"
   ]
  },
  {
   "cell_type": "code",
   "execution_count": 71,
   "metadata": {},
   "outputs": [],
   "source": [
    "k_base = 100\n",
    "k_pca = k_base\n",
    "k_tsne = k_base\n",
    "k_umap = k_base"
   ]
  },
  {
   "cell_type": "code",
   "execution_count": 72,
   "metadata": {},
   "outputs": [
    {
     "name": "stdout",
     "output_type": "stream",
     "text": [
      "CPU times: user 3min 20s, sys: 22.8 s, total: 3min 43s\n",
      "Wall time: 48.8 s\n"
     ]
    }
   ],
   "source": [
    "%%time\n",
    "\n",
    "km_base = cluster.KMeans(n_clusters=k_base,max_iter=300).fit(E)\n",
    "labels = km_base.labels_\n",
    "centroids = km_base.cluster_centers_\n",
    "\n",
    "km_pca = cluster.KMeans(n_clusters=k_pca,max_iter=300).fit(E_pca)\n",
    "labels_pca = km_pca.labels_\n",
    "\n",
    "km_tsne = cluster.KMeans(n_clusters=k_tsne,max_iter=300).fit(E_tsne)\n",
    "labels_tsne = km_tsne.labels_\n",
    "\n",
    "km_umap = cluster.KMeans(n_clusters=k_umap,max_iter=300).fit(E_umap)\n",
    "labels_umap=km_umap.labels_"
   ]
  },
  {
   "cell_type": "markdown",
   "metadata": {},
   "source": [
    "Create an index that maps each word to a cluster."
   ]
  },
  {
   "cell_type": "code",
   "execution_count": 73,
   "metadata": {},
   "outputs": [],
   "source": [
    "word2cluster = {features[idx]: cl for idx, cl in enumerate(labels)}"
   ]
  },
  {
   "cell_type": "code",
   "execution_count": 74,
   "metadata": {},
   "outputs": [
    {
     "name": "stdout",
     "output_type": "stream",
     "text": [
      "[('[', 9), (']', 93), ('^', 9), ('_____', 9), ('aa_bowl', 5), ('aaaaaand', 85), ('aaron', 21), ('aarp', 10), ('abandoned', 27), ('abandoning', 19)]\n"
     ]
    }
   ],
   "source": [
    "print(take(10, word2cluster.items()))"
   ]
  },
  {
   "cell_type": "markdown",
   "metadata": {},
   "source": [
    "Now, conversely, create an index that maps each cluster to a word."
   ]
  },
  {
   "cell_type": "code",
   "execution_count": 75,
   "metadata": {},
   "outputs": [],
   "source": [
    "cluster2words = defaultdict(list)\n",
    "for key, value in word2cluster.items():\n",
    "    cluster2words[value].append(key)"
   ]
  },
  {
   "cell_type": "code",
   "execution_count": 76,
   "metadata": {},
   "outputs": [
    {
     "name": "stdout",
     "output_type": "stream",
     "text": [
      "1563\n",
      "['abo', 'aboutso', 'abovereferenced', 'abutment', 'accidentally_stepped', 'accomplish_feat', 'acknowledgment_presence', 'acutely', 'adah', 'aderall', 'adhere_covid', 'adinah', 'adipose', 'administratively', 'adventist_hospital', 'afer', 'african_accent', 'africanaccented', 'africanamerican_man', 'afterglo', 'afterthefact', 'ahlee', 'aight_run', 'aim_provide', 'airbrushed', 'aire', 'akiscia', 'al_vino', 'alderman', 'alecky', 'alfreado', 'alieracare', 'alieratrinity', 'allergenic', 'allergiesdietary', 'alzheimers', 'americanlike', 'amid_covid', 'amma', 'amniotic_fluid', 'amphetamine', 'anand', 'anaphylactic', 'anastacia', 'andina_toro_bravo', 'anesthetizing', 'anker', 'anniversaryit', 'anniverssary', 'annual_mammogram', 'annual_pap', 'antiscience', 'anual', 'anxiety_provoking', 'anxious_scared', 'aos', 'aplogized', 'apoplectic', 'applied_deductible', 'applying_lotion', 'apprising', 'approachability', 'apricothabanero', 'aqua_terra', 'arianne', 'armhand_massage', 'armshoulder', 'arrogant_prick', 'arrrive', 'arthritis_knee', 'ascendant', 'asfala', 'ashamed_allowing', 'ashley_curtis', 'assimilate', 'aster', 'aster_tower', 'asymmetrically', 'atikune', 'attempt_reconcile', 'attorney_represent', 'au_naturale', 'auditory', 'auto_debit', 'avamere', 'avez', 'awad', 'ayman', 'backdated', 'backsmith', 'bacm', 'ballet_production', 'banhi', 'bankhead_hwy', 'basketball_season', 'bastien', 'batsht', 'battle_shopping', 'bboy', 'bda']\n"
     ]
    }
   ],
   "source": [
    "print(len(cluster2words[0]))\n",
    "print(cluster2words[0][:100])"
   ]
  },
  {
   "cell_type": "code",
   "execution_count": 77,
   "metadata": {},
   "outputs": [
    {
     "name": "stdout",
     "output_type": "stream",
     "text": [
      "59\n",
      "['ahi', 'albacore', 'bento', 'bento_box', 'california_roll', 'caterpillar_roll', 'conveyor_belt_sushi', 'edamame', 'eel', 'eel_sauce', 'fish', 'gyoza', 'handrolls', 'hibachi', 'japanese', 'karaage', 'katsu', 'miso', 'miso_soup', 'monkey_brain', 'nigiri', 'nigiri_sashimi', 'omakase', 'onigiri', 'poke', 'poke_bowl', 'rainbow_roll', 'ramen', 'raw_fish', 'roe', 'roll', 'sake', 'sake_nigiri', 'salmon_roe', 'salmon_sashimi', 'sashimi', 'scallop_nigiri', 'seaweed_salad', 'shrimp_tempura', 'soft_shell', 'spicy_ahi', 'spicy_mayo', 'spicy_tuna', 'sushi', 'sushi_chef', 'sushi_roll', 'tempura', 'teriyaki', 'tomo', 'toro_fatty', 'tuna', 'tuna_nigiri', 'udon', 'unagi', 'uni', 'wasabi', 'yakitori', 'yellowtail', 'yuki']\n"
     ]
    }
   ],
   "source": [
    "print(len(cluster2words[1]))\n",
    "print(cluster2words[1][:100])"
   ]
  },
  {
   "cell_type": "markdown",
   "metadata": {},
   "source": [
    "### 2.6 Initialize documents"
   ]
  },
  {
   "cell_type": "markdown",
   "metadata": {},
   "source": [
    "Transform all reviews into \"documents\", each with a set of weights per word in the corpus (\"nbow\"), the sum of these weights (\"weights_sum\"), the indeces of the words in the documents (\"idxs\") and the word vectors corresponding to each word (\"vecs\")."
   ]
  },
  {
   "cell_type": "code",
   "execution_count": 78,
   "metadata": {},
   "outputs": [
    {
     "data": {
      "text/plain": [
       "<1x19498 sparse matrix of type '<class 'numpy.float64'>'\n",
       "\twith 76 stored elements in Compressed Sparse Row format>"
      ]
     },
     "execution_count": 78,
     "metadata": {},
     "output_type": "execute_result"
    }
   ],
   "source": [
    "pos_nbow[0]"
   ]
  },
  {
   "cell_type": "code",
   "execution_count": 79,
   "metadata": {},
   "outputs": [
    {
     "ename": "TypeError",
     "evalue": "__init__() takes 5 positional arguments but 6 were given",
     "output_type": "error",
     "traceback": [
      "\u001b[0;31m---------------------------------------------------------------------------\u001b[0m",
      "\u001b[0;31mTypeError\u001b[0m                                 Traceback (most recent call last)",
      "\u001b[0;32m<timed exec>\u001b[0m in \u001b[0;36m<module>\u001b[0;34m\u001b[0m\n",
      "\u001b[0;31mTypeError\u001b[0m: __init__() takes 5 positional arguments but 6 were given"
     ]
    }
   ],
   "source": [
    "%%time \n",
    "\n",
    "pos_docs, neg_docs = [], []\n",
    "\n",
    "for idx, doc in enumerate(pos_tok):\n",
    "    pos_docs.append(Document(doc, pos_nbow[idx], word2idx, E, idx))\n",
    "    \n",
    "for idx, doc in enumerate(neg_tok):\n",
    "    neg_docs.append(Document(doc, neg_nbow[idx], word2idx, E, idx))"
   ]
  },
  {
   "cell_type": "code",
   "execution_count": 80,
   "metadata": {},
   "outputs": [
    {
     "ename": "IndexError",
     "evalue": "list index out of range",
     "output_type": "error",
     "traceback": [
      "\u001b[0;31m---------------------------------------------------------------------------\u001b[0m",
      "\u001b[0;31mIndexError\u001b[0m                                Traceback (most recent call last)",
      "\u001b[0;32m/var/folders/zz/3lhn60g1163cfzw5vrc_yrp00000gn/T/ipykernel_1157/2235875192.py\u001b[0m in \u001b[0;36m<module>\u001b[0;34m\u001b[0m\n\u001b[0;32m----> 1\u001b[0;31m \u001b[0mpos_docs\u001b[0m\u001b[0;34m[\u001b[0m\u001b[0;36m0\u001b[0m\u001b[0;34m]\u001b[0m\u001b[0;34m.\u001b[0m\u001b[0mnbow\u001b[0m\u001b[0;34m\u001b[0m\u001b[0;34m\u001b[0m\u001b[0m\n\u001b[0m",
      "\u001b[0;31mIndexError\u001b[0m: list index out of range"
     ]
    }
   ],
   "source": [
    "pos_docs[0].nbow"
   ]
  },
  {
   "cell_type": "code",
   "execution_count": null,
   "metadata": {},
   "outputs": [],
   "source": [
    "pos_docs[0].weights_sum"
   ]
  },
  {
   "cell_type": "code",
   "execution_count": null,
   "metadata": {},
   "outputs": [],
   "source": [
    "pos_docs[0].idxs[:10]"
   ]
  },
  {
   "cell_type": "code",
   "execution_count": null,
   "metadata": {},
   "outputs": [],
   "source": [
    "pos_docs[0].vecs[:1][0][:10]"
   ]
  },
  {
   "cell_type": "markdown",
   "metadata": {},
   "source": [
    "### 2.7 Linear-Complexity Relaxed WMD (LC-RWMD)"
   ]
  },
  {
   "cell_type": "markdown",
   "metadata": {},
   "source": [
    "Run the [Linear-Complexity Relaxed WMD](https://arxiv.org/abs/1711.07227) to get the distances between all positive and all negative reviews."
   ]
  },
  {
   "cell_type": "code",
   "execution_count": null,
   "metadata": {},
   "outputs": [],
   "source": [
    "metric = \"cosine\""
   ]
  },
  {
   "cell_type": "code",
   "execution_count": null,
   "metadata": {},
   "outputs": [],
   "source": [
    "lc_rwmd = LC_RWMD(pos_docs, neg_docs,pos_nbow,neg_nbow,E)"
   ]
  },
  {
   "cell_type": "code",
   "execution_count": null,
   "metadata": {},
   "outputs": [],
   "source": [
    "%time lc_rwmd.get_D(metric=metric)\n",
    "#%time lc_rwmd.get_L(1)\n",
    "#%time lc_rwmd.get_rwmd()"
   ]
  },
  {
   "cell_type": "markdown",
   "metadata": {},
   "source": [
    "### 2.8 Gale-Shapeley Pairing"
   ]
  },
  {
   "cell_type": "markdown",
   "metadata": {},
   "source": [
    "Use the [Gale-Shapeley matching algorithm](https://en.wikipedia.org/wiki/Gale%E2%80%93Shapley_algorithm) to find the optimal pairs between positive and negative reviews. This iterates over all the reviews and finds the set of matches that pairs each review with its optimal match given that all positive reviews have to be matched with a negative review and vice versa. The output is a dictionary of key-value pairs, where each pair represents an optimal match."
   ]
  },
  {
   "cell_type": "code",
   "execution_count": null,
   "metadata": {},
   "outputs": [],
   "source": [
    "# Options: 'gale_shapeley','random','full'\n",
    "\n",
    "pairing = 'gale_shapeley'"
   ]
  },
  {
   "cell_type": "code",
   "execution_count": null,
   "metadata": {},
   "outputs": [],
   "source": [
    "%%time\n",
    "\n",
    "if pairing == 'gale_shapeley':\n",
    "    print(\"Running Gale-Shapeley pairing.\")\n",
    "    matcher = Matcher(lc_rwmd.D)\n",
    "    engaged = matcher.matchmaker()\n",
    "    print(f\"Pairing is stable: {matcher.check()}\")\n",
    "    pairs = [(k, v) for k, v in engaged.items()]\n",
    "    #pairs = engaged\n",
    "if pairing == 'random':\n",
    "    print(\"Running random pairing.\")\n",
    "    pos_idx = list(range(0,len(pos_docs)))\n",
    "    neg_idx = list(range(0,len(neg_docs)))\n",
    "    shuffle(pos_idx)\n",
    "    shuffle(neg_idx)\n",
    "    pairs = zip(pos_idx, neg_idx)\n",
    "if pairing == 'full':\n",
    "    print(\"Running full pairing.\")\n",
    "    pos_idx = list(range(0,len(pos_docs)))\n",
    "    neg_idx = list(range(0,len(neg_docs)))\n",
    "    pairs = [(i,j) for i in pos_idx for j in neg_idx]\n",
    "    #pos_docs = [d for d in pos_docs for _ in list(range(0,len(neg_docs)))]\n",
    "    #neg_docs = [d for d in neg_docs for _ in list(range(0,len(pos_docs)))]"
   ]
  },
  {
   "cell_type": "markdown",
   "metadata": {},
   "source": [
    "Let's look at the output of Gale-Shapeley:"
   ]
  },
  {
   "cell_type": "code",
   "execution_count": null,
   "metadata": {},
   "outputs": [],
   "source": [
    "print(pairs[:20])"
   ]
  },
  {
   "cell_type": "code",
   "execution_count": null,
   "metadata": {},
   "outputs": [],
   "source": [
    "example_pairs = [(' '.join(word for word in pos_docs[p[0]].words), \n",
    "                  ' '.join(word for word in neg_docs[p[1]].words))\n",
    "                 for p in pairs]"
   ]
  },
  {
   "cell_type": "code",
   "execution_count": null,
   "metadata": {},
   "outputs": [],
   "source": [
    "example_pairs[9][0]"
   ]
  },
  {
   "cell_type": "code",
   "execution_count": null,
   "metadata": {},
   "outputs": [],
   "source": [
    "example_pairs[9][1]"
   ]
  },
  {
   "cell_type": "code",
   "execution_count": null,
   "metadata": {},
   "outputs": [],
   "source": [
    "len(pairs)"
   ]
  },
  {
   "cell_type": "markdown",
   "metadata": {},
   "source": [
    "### 2.9 Pairwise WMD with Baseline Kmeans"
   ]
  },
  {
   "cell_type": "markdown",
   "metadata": {},
   "source": [
    "Calculate the pairwise distances between the documents selected by the Galey-Shapeley algorithm _without_ returning the flow between individual words."
   ]
  },
  {
   "cell_type": "code",
   "execution_count": 157,
   "metadata": {},
   "outputs": [
    {
     "name": "stdout",
     "output_type": "stream",
     "text": [
      "Calculated distances between approximately 0 documents.00h00m00s elapsed.\n",
      "CPU times: user 39.1 s, sys: 4.82 s, total: 43.9 s\n",
      "Wall time: 14.4 s\n"
     ]
    }
   ],
   "source": [
    "%%time \n",
    "\n",
    "wmd_pairs = WMDPairs(pos_docs,neg_docs,pairs,E,idx2word, metric=metric)\n",
    "wmd_pairs.get_distances(thread=False,relax=False)"
   ]
  },
  {
   "cell_type": "markdown",
   "metadata": {},
   "source": [
    "The return value is a matrix of distances between the document pairs."
   ]
  },
  {
   "cell_type": "code",
   "execution_count": 474,
   "metadata": {},
   "outputs": [
    {
     "data": {
      "text/plain": [
       "3.459571953480627"
      ]
     },
     "execution_count": 474,
     "metadata": {},
     "output_type": "execute_result"
    }
   ],
   "source": [
    "np.max(wmd_pairs.distances)"
   ]
  },
  {
   "cell_type": "markdown",
   "metadata": {},
   "source": [
    "Calculate the pairwise distances between the documents selected by the Galey-Shapeley algorithm, this time also returning the flow between individual words."
   ]
  },
  {
   "cell_type": "code",
   "execution_count": 250,
   "metadata": {},
   "outputs": [
    {
     "name": "stdout",
     "output_type": "stream",
     "text": [
      "Calculated distances between approximately 0 documents.00h00m00s elapsed.\n",
      "Calculated distances between approximately 1000 documents.00h02m08s elapsed.\n",
      "CPU times: user 3min 22s, sys: 31.6 s, total: 3min 53s\n",
      "Wall time: 1min 20s\n"
     ]
    }
   ],
   "source": [
    "%%time \n",
    "\n",
    "wmd_pairs_flow = WMDPairs(pos_docs,neg_docs,pairs,E,idx2word, metric=metric)\n",
    "wmd_pairs_flow.get_distances(decompose = True, \n",
    "                             sum_clusters = True, \n",
    "                             w2c = word2cluster, \n",
    "                             c2w = cluster2words,\n",
    "                             thread = False,\n",
    "                             relax = False)"
   ]
  },
  {
   "cell_type": "markdown",
   "metadata": {},
   "source": [
    "Now we have three return values.\n",
    "\n",
    "The first one is again a matrix of distances between the document pairs."
   ]
  },
  {
   "cell_type": "code",
   "execution_count": 251,
   "metadata": {},
   "outputs": [
    {
     "data": {
      "text/plain": [
       "4.251672087687845"
      ]
     },
     "execution_count": 251,
     "metadata": {},
     "output_type": "execute_result"
    }
   ],
   "source": [
    "np.max(wmd_pairs_flow.distances)"
   ]
  },
  {
   "cell_type": "markdown",
   "metadata": {},
   "source": [
    "The second return value is a list of tuples with all the words that contributed the most to the distance from the positive documents to the negative ones. These are _not_ sorted from high to low or vice versa."
   ]
  },
  {
   "cell_type": "code",
   "execution_count": 252,
   "metadata": {},
   "outputs": [
    {
     "data": {
      "text/plain": [
       "[('seasoned_perfection', 0.24040999999999998),\n",
       " ('skin_rash', 0.09764),\n",
       " ('voodoo_doll', 0.12202),\n",
       " ('strength', 0.34069000000000005),\n",
       " ('patriarchy', 0.048679999999999994),\n",
       " ('cool', 4.467529999999998),\n",
       " ('chpt', 0.36633000000000004),\n",
       " ('fichadia', 0.05477),\n",
       " ('carb', 0.05297),\n",
       " ('especailly', 0.20220000000000002)]"
      ]
     },
     "execution_count": 252,
     "metadata": {},
     "output_type": "execute_result"
    }
   ],
   "source": [
    "take(10, wmd_pairs_flow.wd_source.items())"
   ]
  },
  {
   "cell_type": "markdown",
   "metadata": {},
   "source": [
    "The third return value is a list of tuples with all the words that contributed the most to the distance from the negative documents to the positive ones. Again, these are _not_ sorted from high to low or vice versa."
   ]
  },
  {
   "cell_type": "code",
   "execution_count": 253,
   "metadata": {},
   "outputs": [
    {
     "data": {
      "text/plain": [
       "[('strand_hair', 0.07417),\n",
       " ('dr_bootstaylor', 0.043840000000000004),\n",
       " ('strength', 0.18347999999999998),\n",
       " ('cool', 0.75659),\n",
       " ('regina', 0.27648),\n",
       " ('pet_sitter', 0.03388),\n",
       " ('summery', 0.03384),\n",
       " ('cheat_sheet', 0.03364),\n",
       " ('elliot', 0.01943),\n",
       " ('lengthy', 0.08423)]"
      ]
     },
     "execution_count": 253,
     "metadata": {},
     "output_type": "execute_result"
    }
   ],
   "source": [
    "take(10, wmd_pairs_flow.wd_sink.items())"
   ]
  },
  {
   "cell_type": "code",
   "execution_count": 254,
   "metadata": {},
   "outputs": [
    {
     "data": {
      "text/plain": [
       "[(37, 92.58577999999996),\n",
       " (56, 263.0988600000001),\n",
       " (53, 36.15221),\n",
       " (4, 25.16280999999998),\n",
       " (94, 65.63384999999997),\n",
       " (42, 9.690300000000002),\n",
       " (26, 69.7972300000001),\n",
       " (75, 83.35989999999997),\n",
       " (72, 78.37432999999997),\n",
       " (95, 651.3335799999985)]"
      ]
     },
     "execution_count": 254,
     "metadata": {},
     "output_type": "execute_result"
    }
   ],
   "source": [
    "take(10, wmd_pairs_flow.cd_source.items())"
   ]
  },
  {
   "cell_type": "code",
   "execution_count": 255,
   "metadata": {},
   "outputs": [
    {
     "data": {
      "text/plain": [
       "[(37, 137.96155999999985),\n",
       " (56, 85.81952000000005),\n",
       " (53, 19.145320000000005),\n",
       " (4, 36.072500000000026),\n",
       " (94, 35.027599999999985),\n",
       " (42, 38.17433999999995),\n",
       " (26, 121.59064000000009),\n",
       " (75, 114.93288000000004),\n",
       " (72, 12.537999999999997),\n",
       " (95, 312.6453400000012)]"
      ]
     },
     "execution_count": 255,
     "metadata": {},
     "output_type": "execute_result"
    }
   ],
   "source": [
    "take(10, wmd_pairs_flow.cd_sink.items())"
   ]
  },
  {
   "cell_type": "code",
   "execution_count": 256,
   "metadata": {},
   "outputs": [
    {
     "data": {
      "text/plain": [
       "{95: 651.3335799999985,\n",
       " 63: 498.48445999999905,\n",
       " 93: 344.8115400000003,\n",
       " 56: 263.0988600000001,\n",
       " 46: 216.88395999999952,\n",
       " 68: 204.46488000000028,\n",
       " 39: 159.62511999999984,\n",
       " 43: 156.20131999999995,\n",
       " 58: 154.79788,\n",
       " 28: 133.7786899999998}"
      ]
     },
     "execution_count": 256,
     "metadata": {},
     "output_type": "execute_result"
    }
   ],
   "source": [
    "{k: v for k, v in sorted(wmd_pairs_flow.cd_source.items(), key=lambda item: item[1], reverse=True)[:10]}"
   ]
  },
  {
   "cell_type": "code",
   "execution_count": 257,
   "metadata": {},
   "outputs": [],
   "source": [
    "wmd_pairs_flow.get_differences()"
   ]
  },
  {
   "cell_type": "markdown",
   "metadata": {},
   "source": [
    "### 3.1 Intepreting pairwise WMD flows"
   ]
  },
  {
   "cell_type": "markdown",
   "metadata": {},
   "source": [
    "Now, let's sort the distances of the words that created the most distance from the positive to the negative reviews."
   ]
  },
  {
   "cell_type": "code",
   "execution_count": 259,
   "metadata": {},
   "outputs": [
    {
     "data": {
      "text/html": [
       "<div>\n",
       "<style scoped>\n",
       "    .dataframe tbody tr th:only-of-type {\n",
       "        vertical-align: middle;\n",
       "    }\n",
       "\n",
       "    .dataframe tbody tr th {\n",
       "        vertical-align: top;\n",
       "    }\n",
       "\n",
       "    .dataframe thead th {\n",
       "        text-align: right;\n",
       "    }\n",
       "</style>\n",
       "<table border=\"1\" class=\"dataframe\">\n",
       "  <thead>\n",
       "    <tr style=\"text-align: right;\">\n",
       "      <th></th>\n",
       "      <th>cost</th>\n",
       "    </tr>\n",
       "  </thead>\n",
       "  <tbody>\n",
       "    <tr>\n",
       "      <th>great</th>\n",
       "      <td>41.79</td>\n",
       "    </tr>\n",
       "    <tr>\n",
       "      <th>best</th>\n",
       "      <td>33.15</td>\n",
       "    </tr>\n",
       "    <tr>\n",
       "      <th>amazing</th>\n",
       "      <td>31.35</td>\n",
       "    </tr>\n",
       "    <tr>\n",
       "      <th>love</th>\n",
       "      <td>27.71</td>\n",
       "    </tr>\n",
       "    <tr>\n",
       "      <th>friendly</th>\n",
       "      <td>27.02</td>\n",
       "    </tr>\n",
       "    <tr>\n",
       "      <th>delicious</th>\n",
       "      <td>26.18</td>\n",
       "    </tr>\n",
       "    <tr>\n",
       "      <th>highly_recommend</th>\n",
       "      <td>24.93</td>\n",
       "    </tr>\n",
       "    <tr>\n",
       "      <th>staff</th>\n",
       "      <td>19.96</td>\n",
       "    </tr>\n",
       "    <tr>\n",
       "      <th>definitely</th>\n",
       "      <td>19.52</td>\n",
       "    </tr>\n",
       "    <tr>\n",
       "      <th>always</th>\n",
       "      <td>18.68</td>\n",
       "    </tr>\n",
       "    <tr>\n",
       "      <th>favorite</th>\n",
       "      <td>18.42</td>\n",
       "    </tr>\n",
       "    <tr>\n",
       "      <th>massage</th>\n",
       "      <td>18.29</td>\n",
       "    </tr>\n",
       "    <tr>\n",
       "      <th>portland</th>\n",
       "      <td>16.15</td>\n",
       "    </tr>\n",
       "    <tr>\n",
       "      <th>excellent</th>\n",
       "      <td>16.09</td>\n",
       "    </tr>\n",
       "    <tr>\n",
       "      <th>super</th>\n",
       "      <td>13.74</td>\n",
       "    </tr>\n",
       "    <tr>\n",
       "      <th>awesome</th>\n",
       "      <td>12.82</td>\n",
       "    </tr>\n",
       "    <tr>\n",
       "      <th>thank</th>\n",
       "      <td>12.71</td>\n",
       "    </tr>\n",
       "    <tr>\n",
       "      <th>clean</th>\n",
       "      <td>12.62</td>\n",
       "    </tr>\n",
       "    <tr>\n",
       "      <th>]</th>\n",
       "      <td>12.44</td>\n",
       "    </tr>\n",
       "    <tr>\n",
       "      <th>wonderful</th>\n",
       "      <td>12.26</td>\n",
       "    </tr>\n",
       "    <tr>\n",
       "      <th>professional</th>\n",
       "      <td>11.80</td>\n",
       "    </tr>\n",
       "    <tr>\n",
       "      <th>good</th>\n",
       "      <td>11.64</td>\n",
       "    </tr>\n",
       "    <tr>\n",
       "      <th>place</th>\n",
       "      <td>11.00</td>\n",
       "    </tr>\n",
       "    <tr>\n",
       "      <th>spot</th>\n",
       "      <td>10.77</td>\n",
       "    </tr>\n",
       "    <tr>\n",
       "      <th>knowledgeable</th>\n",
       "      <td>10.39</td>\n",
       "    </tr>\n",
       "    <tr>\n",
       "      <th>perfect</th>\n",
       "      <td>10.26</td>\n",
       "    </tr>\n",
       "    <tr>\n",
       "      <th>atmosphere</th>\n",
       "      <td>10.04</td>\n",
       "    </tr>\n",
       "    <tr>\n",
       "      <th>food</th>\n",
       "      <td>9.90</td>\n",
       "    </tr>\n",
       "    <tr>\n",
       "      <th>atlanta</th>\n",
       "      <td>9.86</td>\n",
       "    </tr>\n",
       "    <tr>\n",
       "      <th>loved</th>\n",
       "      <td>9.70</td>\n",
       "    </tr>\n",
       "  </tbody>\n",
       "</table>\n",
       "</div>"
      ],
      "text/plain": [
       "                   cost\n",
       "great             41.79\n",
       "best              33.15\n",
       "amazing           31.35\n",
       "love              27.71\n",
       "friendly          27.02\n",
       "delicious         26.18\n",
       "highly_recommend  24.93\n",
       "staff             19.96\n",
       "definitely        19.52\n",
       "always            18.68\n",
       "favorite          18.42\n",
       "massage           18.29\n",
       "portland          16.15\n",
       "excellent         16.09\n",
       "super             13.74\n",
       "awesome           12.82\n",
       "thank             12.71\n",
       "clean             12.62\n",
       "]                 12.44\n",
       "wonderful         12.26\n",
       "professional      11.80\n",
       "good              11.64\n",
       "place             11.00\n",
       "spot              10.77\n",
       "knowledgeable     10.39\n",
       "perfect           10.26\n",
       "atmosphere        10.04\n",
       "food               9.90\n",
       "atlanta            9.86\n",
       "loved              9.70"
      ]
     },
     "execution_count": 259,
     "metadata": {},
     "output_type": "execute_result"
    }
   ],
   "source": [
    "top_words_source = {k: v for k, v in sorted(wmd_pairs_flow.wd_source_diff.items(), key=lambda item: item[1], reverse=True)[:30]}\n",
    "top_words_source_df = pd.DataFrame.from_dict(top_words_source, orient='index', columns = [\"distance\"])\n",
    "top_words_source_df.cost = top_words_soure_df.distance.round(2)\n",
    "top_words_source_df"
   ]
  },
  {
   "cell_type": "markdown",
   "metadata": {},
   "source": [
    "Next, let's see what added most distance when moving from the negative to the positive reviews."
   ]
  },
  {
   "cell_type": "code",
   "execution_count": 270,
   "metadata": {},
   "outputs": [
    {
     "data": {
      "text/html": [
       "<div>\n",
       "<style scoped>\n",
       "    .dataframe tbody tr th:only-of-type {\n",
       "        vertical-align: middle;\n",
       "    }\n",
       "\n",
       "    .dataframe tbody tr th {\n",
       "        vertical-align: top;\n",
       "    }\n",
       "\n",
       "    .dataframe thead th {\n",
       "        text-align: right;\n",
       "    }\n",
       "</style>\n",
       "<table border=\"1\" class=\"dataframe\">\n",
       "  <thead>\n",
       "    <tr style=\"text-align: right;\">\n",
       "      <th></th>\n",
       "      <th>cost</th>\n",
       "    </tr>\n",
       "  </thead>\n",
       "  <tbody>\n",
       "    <tr>\n",
       "      <th>told</th>\n",
       "      <td>19.64</td>\n",
       "    </tr>\n",
       "    <tr>\n",
       "      <th>order</th>\n",
       "      <td>19.58</td>\n",
       "    </tr>\n",
       "    <tr>\n",
       "      <th>rude</th>\n",
       "      <td>18.10</td>\n",
       "    </tr>\n",
       "    <tr>\n",
       "      <th>never</th>\n",
       "      <td>17.94</td>\n",
       "    </tr>\n",
       "    <tr>\n",
       "      <th>worst</th>\n",
       "      <td>17.44</td>\n",
       "    </tr>\n",
       "    <tr>\n",
       "      <th>minute</th>\n",
       "      <td>15.14</td>\n",
       "    </tr>\n",
       "    <tr>\n",
       "      <th>hour</th>\n",
       "      <td>14.97</td>\n",
       "    </tr>\n",
       "    <tr>\n",
       "      <th>said</th>\n",
       "      <td>14.91</td>\n",
       "    </tr>\n",
       "    <tr>\n",
       "      <th>money</th>\n",
       "      <td>13.89</td>\n",
       "    </tr>\n",
       "    <tr>\n",
       "      <th>terrible</th>\n",
       "      <td>13.57</td>\n",
       "    </tr>\n",
       "    <tr>\n",
       "      <th>called</th>\n",
       "      <td>13.14</td>\n",
       "    </tr>\n",
       "    <tr>\n",
       "      <th>asked</th>\n",
       "      <td>13.05</td>\n",
       "    </tr>\n",
       "    <tr>\n",
       "      <th>horrible</th>\n",
       "      <td>12.10</td>\n",
       "    </tr>\n",
       "    <tr>\n",
       "      <th>customer</th>\n",
       "      <td>12.03</td>\n",
       "    </tr>\n",
       "    <tr>\n",
       "      <th>call</th>\n",
       "      <td>11.94</td>\n",
       "    </tr>\n",
       "    <tr>\n",
       "      <th>would</th>\n",
       "      <td>11.71</td>\n",
       "    </tr>\n",
       "    <tr>\n",
       "      <th>manager</th>\n",
       "      <td>11.01</td>\n",
       "    </tr>\n",
       "    <tr>\n",
       "      <th>bill</th>\n",
       "      <td>10.38</td>\n",
       "    </tr>\n",
       "    <tr>\n",
       "      <th>waiting</th>\n",
       "      <td>10.09</td>\n",
       "    </tr>\n",
       "    <tr>\n",
       "      <th>bad</th>\n",
       "      <td>9.85</td>\n",
       "    </tr>\n",
       "    <tr>\n",
       "      <th>u</th>\n",
       "      <td>9.49</td>\n",
       "    </tr>\n",
       "    <tr>\n",
       "      <th>phone</th>\n",
       "      <td>9.09</td>\n",
       "    </tr>\n",
       "    <tr>\n",
       "      <th>business</th>\n",
       "      <td>9.05</td>\n",
       "    </tr>\n",
       "    <tr>\n",
       "      <th>appointment</th>\n",
       "      <td>9.04</td>\n",
       "    </tr>\n",
       "    <tr>\n",
       "      <th>insurance</th>\n",
       "      <td>8.90</td>\n",
       "    </tr>\n",
       "    <tr>\n",
       "      <th>table</th>\n",
       "      <td>8.89</td>\n",
       "    </tr>\n",
       "    <tr>\n",
       "      <th>charged</th>\n",
       "      <td>8.80</td>\n",
       "    </tr>\n",
       "    <tr>\n",
       "      <th>awful</th>\n",
       "      <td>8.66</td>\n",
       "    </tr>\n",
       "    <tr>\n",
       "      <th>pay</th>\n",
       "      <td>8.58</td>\n",
       "    </tr>\n",
       "    <tr>\n",
       "      <th>poor</th>\n",
       "      <td>8.32</td>\n",
       "    </tr>\n",
       "  </tbody>\n",
       "</table>\n",
       "</div>"
      ],
      "text/plain": [
       "              cost\n",
       "told         19.64\n",
       "order        19.58\n",
       "rude         18.10\n",
       "never        17.94\n",
       "worst        17.44\n",
       "minute       15.14\n",
       "hour         14.97\n",
       "said         14.91\n",
       "money        13.89\n",
       "terrible     13.57\n",
       "called       13.14\n",
       "asked        13.05\n",
       "horrible     12.10\n",
       "customer     12.03\n",
       "call         11.94\n",
       "would        11.71\n",
       "manager      11.01\n",
       "bill         10.38\n",
       "waiting      10.09\n",
       "bad           9.85\n",
       "u             9.49\n",
       "phone         9.09\n",
       "business      9.05\n",
       "appointment   9.04\n",
       "insurance     8.90\n",
       "table         8.89\n",
       "charged       8.80\n",
       "awful         8.66\n",
       "pay           8.58\n",
       "poor          8.32"
      ]
     },
     "execution_count": 270,
     "metadata": {},
     "output_type": "execute_result"
    }
   ],
   "source": [
    "top_words_sink = {k: v for k, v in sorted(wmd_pairs_flow.wd_sink_diff.items(), key=lambda item: item[1], reverse=True)[:30]}\n",
    "top_words_sink_df = pd.DataFrame.from_dict(top_words_sink, orient='index', columns = [\"distance\"])\n",
    "top_words_sink_df.distance = top_words_sink_df.distance.round(2)\n",
    "top_words_sink_df\n",
    "\n"
   ]
  },
  {
   "cell_type": "markdown",
   "metadata": {},
   "source": [
    "Finally, let's look at the distances between the two sets by clustering similar words, in order to get a better sense of what kind of \"topics\" that separate them. Each cluster has a weight that matches the sum of the words belonging to that cluster. We choose *n* top clusters to inspect. To make the clusters interpretable, we also represent each of them by *m* keywords, selected based on the cost they individually add between the two sets."
   ]
  },
  {
   "cell_type": "code",
   "execution_count": 485,
   "metadata": {},
   "outputs": [],
   "source": [
    "n_clusters = 10\n",
    "n_words = 10"
   ]
  },
  {
   "cell_type": "code",
   "execution_count": 486,
   "metadata": {},
   "outputs": [],
   "source": [
    "c1 = output_clusters(wc=wmd_pairs_flow.wd_source_diff.items(), \n",
    "                     cc=wmd_pairs_flow.cd_source.items(), \n",
    "                     c2w=cluster2words, \n",
    "                     n_clusters=n_clusters, \n",
    "                     n_words=n_words)\n",
    "c2 = output_clusters(wc=wmd_pairs_flow.wd_sink_diff.items(), \n",
    "                     cc=wmd_pairs_flow.cd_sink.items(), \n",
    "                     c2w=cluster2words, \n",
    "                     n_clusters=n_clusters, \n",
    "                     n_words=n_words)"
   ]
  },
  {
   "cell_type": "markdown",
   "metadata": {},
   "source": [
    "Positive to negative clusters."
   ]
  },
  {
   "cell_type": "code",
   "execution_count": 487,
   "metadata": {},
   "outputs": [
    {
     "data": {
      "text/html": [
       "<div>\n",
       "<style scoped>\n",
       "    .dataframe tbody tr th:only-of-type {\n",
       "        vertical-align: middle;\n",
       "    }\n",
       "\n",
       "    .dataframe tbody tr th {\n",
       "        vertical-align: top;\n",
       "    }\n",
       "\n",
       "    .dataframe thead th {\n",
       "        text-align: right;\n",
       "    }\n",
       "</style>\n",
       "<table border=\"1\" class=\"dataframe\">\n",
       "  <thead>\n",
       "    <tr style=\"text-align: right;\">\n",
       "      <th></th>\n",
       "      <th>56</th>\n",
       "      <th>51</th>\n",
       "      <th>92</th>\n",
       "      <th>76</th>\n",
       "      <th>26</th>\n",
       "      <th>30</th>\n",
       "      <th>33</th>\n",
       "      <th>78</th>\n",
       "      <th>47</th>\n",
       "      <th>88</th>\n",
       "    </tr>\n",
       "  </thead>\n",
       "  <tbody>\n",
       "    <tr>\n",
       "      <th>0</th>\n",
       "      <td>great (30.91)</td>\n",
       "      <td>made (3.18)</td>\n",
       "      <td>good (7.14)</td>\n",
       "      <td>delicious (21.13)</td>\n",
       "      <td>spot (8.24)</td>\n",
       "      <td>friendly (20.8)</td>\n",
       "      <td>professional (9.19)</td>\n",
       "      <td>year (4.98)</td>\n",
       "      <td>massage (16.45)</td>\n",
       "      <td>quality (2.12)</td>\n",
       "    </tr>\n",
       "    <tr>\n",
       "      <th>1</th>\n",
       "      <td>best (26.33)</td>\n",
       "      <td>felt (2.85)</td>\n",
       "      <td>really (5.9)</td>\n",
       "      <td>favorite (15.06)</td>\n",
       "      <td>place (6.2)</td>\n",
       "      <td>staff (14.39)</td>\n",
       "      <td>team (6.35)</td>\n",
       "      <td>new (2.89)</td>\n",
       "      <td>relaxing (3.83)</td>\n",
       "      <td>price (1.97)</td>\n",
       "    </tr>\n",
       "    <tr>\n",
       "      <th>2</th>\n",
       "      <td>amazing (25.21)</td>\n",
       "      <td>soon (2.54)</td>\n",
       "      <td>nice (5.87)</td>\n",
       "      <td>loved (7.27)</td>\n",
       "      <td>town (5.07)</td>\n",
       "      <td>everyone (6.24)</td>\n",
       "      <td>thorough (3.54)</td>\n",
       "      <td>moved (2.77)</td>\n",
       "      <td>facial (3.72)</td>\n",
       "      <td>worth (1.95)</td>\n",
       "    </tr>\n",
       "    <tr>\n",
       "      <th>3</th>\n",
       "      <td>love (21.88)</td>\n",
       "      <td>quickly (2.07)</td>\n",
       "      <td>well (4.3)</td>\n",
       "      <td>fresh (7.24)</td>\n",
       "      <td>found (3.77)</td>\n",
       "      <td>attentive (5.6)</td>\n",
       "      <td>feel_comfortable (3.48)</td>\n",
       "      <td>weekly (1.58)</td>\n",
       "      <td>spa (3.48)</td>\n",
       "      <td>option (1.94)</td>\n",
       "    </tr>\n",
       "    <tr>\n",
       "      <th>4</th>\n",
       "      <td>highly_recommend (20.17)</td>\n",
       "      <td>hand (1.87)</td>\n",
       "      <td>kind (4.27)</td>\n",
       "      <td>tasty (4.78)</td>\n",
       "      <td>glad (3.36)</td>\n",
       "      <td>welcoming (4.06)</td>\n",
       "      <td>job (2.84)</td>\n",
       "      <td>st (1.03)</td>\n",
       "      <td>treatment (3.15)</td>\n",
       "      <td>beat (1.74)</td>\n",
       "    </tr>\n",
       "    <tr>\n",
       "      <th>5</th>\n",
       "      <td>definitely (15.54)</td>\n",
       "      <td>house (1.72)</td>\n",
       "      <td>lot (3.38)</td>\n",
       "      <td>try (4.7)</td>\n",
       "      <td>looking (3.0)</td>\n",
       "      <td>accommodating (3.77)</td>\n",
       "      <td>work (2.74)</td>\n",
       "      <td>year_ago (0.98)</td>\n",
       "      <td>brow (2.81)</td>\n",
       "      <td>every_penny (1.21)</td>\n",
       "    </tr>\n",
       "    <tr>\n",
       "      <th>6</th>\n",
       "      <td>always (15.27)</td>\n",
       "      <td>next (1.36)</td>\n",
       "      <td>little (3.34)</td>\n",
       "      <td>enjoyed (4.43)</td>\n",
       "      <td>visit (2.95)</td>\n",
       "      <td>pleasant (3.28)</td>\n",
       "      <td>care (2.61)</td>\n",
       "      <td>first (0.86)</td>\n",
       "      <td>gentle (2.47)</td>\n",
       "      <td>size (0.95)</td>\n",
       "    </tr>\n",
       "    <tr>\n",
       "      <th>7</th>\n",
       "      <td>excellent (12.16)</td>\n",
       "      <td>around (1.22)</td>\n",
       "      <td>also (2.79)</td>\n",
       "      <td>must (4.39)</td>\n",
       "      <td>friend (2.62)</td>\n",
       "      <td>personable (2.76)</td>\n",
       "      <td>efficient (2.27)</td>\n",
       "      <td>monthly (0.73)</td>\n",
       "      <td>calming (2.32)</td>\n",
       "      <td>deal (0.95)</td>\n",
       "    </tr>\n",
       "    <tr>\n",
       "      <th>8</th>\n",
       "      <td>thank (10.63)</td>\n",
       "      <td>along (1.04)</td>\n",
       "      <td>enough (2.29)</td>\n",
       "      <td>die (2.95)</td>\n",
       "      <td>gem (2.52)</td>\n",
       "      <td>smile (2.38)</td>\n",
       "      <td>felt_comfortable (2.19)</td>\n",
       "      <td>yr (0.71)</td>\n",
       "      <td>hot_stone (2.2)</td>\n",
       "      <td>plus (0.9)</td>\n",
       "    </tr>\n",
       "    <tr>\n",
       "      <th>9</th>\n",
       "      <td>super (10.52)</td>\n",
       "      <td>totally (1.04)</td>\n",
       "      <td>much (2.0)</td>\n",
       "      <td>special (2.53)</td>\n",
       "      <td>coming (2.21)</td>\n",
       "      <td>met (1.46)</td>\n",
       "      <td>grateful (2.08)</td>\n",
       "      <td>last_week (0.59)</td>\n",
       "      <td>lash (1.57)</td>\n",
       "      <td>penny (0.88)</td>\n",
       "    </tr>\n",
       "  </tbody>\n",
       "</table>\n",
       "</div>"
      ],
      "text/plain": [
       "                         56              51             92                 76  \\\n",
       "0             great (30.91)     made (3.18)    good (7.14)  delicious (21.13)   \n",
       "1              best (26.33)     felt (2.85)   really (5.9)   favorite (15.06)   \n",
       "2           amazing (25.21)     soon (2.54)    nice (5.87)       loved (7.27)   \n",
       "3              love (21.88)  quickly (2.07)     well (4.3)       fresh (7.24)   \n",
       "4  highly_recommend (20.17)     hand (1.87)    kind (4.27)       tasty (4.78)   \n",
       "5        definitely (15.54)    house (1.72)     lot (3.38)          try (4.7)   \n",
       "6            always (15.27)     next (1.36)  little (3.34)     enjoyed (4.43)   \n",
       "7         excellent (12.16)   around (1.22)    also (2.79)        must (4.39)   \n",
       "8             thank (10.63)    along (1.04)  enough (2.29)         die (2.95)   \n",
       "9             super (10.52)  totally (1.04)     much (2.0)     special (2.53)   \n",
       "\n",
       "              26                    30                       33  \\\n",
       "0    spot (8.24)       friendly (20.8)      professional (9.19)   \n",
       "1    place (6.2)         staff (14.39)              team (6.35)   \n",
       "2    town (5.07)       everyone (6.24)          thorough (3.54)   \n",
       "3   found (3.77)       attentive (5.6)  feel_comfortable (3.48)   \n",
       "4    glad (3.36)      welcoming (4.06)               job (2.84)   \n",
       "5  looking (3.0)  accommodating (3.77)              work (2.74)   \n",
       "6   visit (2.95)       pleasant (3.28)              care (2.61)   \n",
       "7  friend (2.62)     personable (2.76)         efficient (2.27)   \n",
       "8     gem (2.52)          smile (2.38)  felt_comfortable (2.19)   \n",
       "9  coming (2.21)            met (1.46)          grateful (2.08)   \n",
       "\n",
       "                 78                47                  88  \n",
       "0       year (4.98)   massage (16.45)      quality (2.12)  \n",
       "1        new (2.89)   relaxing (3.83)        price (1.97)  \n",
       "2      moved (2.77)     facial (3.72)        worth (1.95)  \n",
       "3     weekly (1.58)        spa (3.48)       option (1.94)  \n",
       "4         st (1.03)  treatment (3.15)         beat (1.74)  \n",
       "5   year_ago (0.98)       brow (2.81)  every_penny (1.21)  \n",
       "6      first (0.86)     gentle (2.47)         size (0.95)  \n",
       "7    monthly (0.73)    calming (2.32)         deal (0.95)  \n",
       "8         yr (0.71)   hot_stone (2.2)          plus (0.9)  \n",
       "9  last_week (0.59)       lash (1.57)        penny (0.88)  "
      ]
     },
     "execution_count": 487,
     "metadata": {},
     "output_type": "execute_result"
    }
   ],
   "source": [
    "c1"
   ]
  },
  {
   "cell_type": "markdown",
   "metadata": {},
   "source": [
    "Negative to positive clusters."
   ]
  },
  {
   "cell_type": "code",
   "execution_count": 488,
   "metadata": {},
   "outputs": [
    {
     "data": {
      "text/html": [
       "<div>\n",
       "<style scoped>\n",
       "    .dataframe tbody tr th:only-of-type {\n",
       "        vertical-align: middle;\n",
       "    }\n",
       "\n",
       "    .dataframe tbody tr th {\n",
       "        vertical-align: top;\n",
       "    }\n",
       "\n",
       "    .dataframe thead th {\n",
       "        text-align: right;\n",
       "    }\n",
       "</style>\n",
       "<table border=\"1\" class=\"dataframe\">\n",
       "  <thead>\n",
       "    <tr style=\"text-align: right;\">\n",
       "      <th></th>\n",
       "      <th>51</th>\n",
       "      <th>92</th>\n",
       "      <th>44</th>\n",
       "      <th>95</th>\n",
       "      <th>35</th>\n",
       "      <th>52</th>\n",
       "      <th>56</th>\n",
       "      <th>26</th>\n",
       "      <th>78</th>\n",
       "      <th>0</th>\n",
       "    </tr>\n",
       "  </thead>\n",
       "  <tbody>\n",
       "    <tr>\n",
       "      <th>0</th>\n",
       "      <td>never (15.84)</td>\n",
       "      <td>like (4.84)</td>\n",
       "      <td>order (15.17)</td>\n",
       "      <td>worst (14.89)</td>\n",
       "      <td>told (16.11)</td>\n",
       "      <td>use (3.06)</td>\n",
       "      <td>ever (2.14)</td>\n",
       "      <td>review (5.09)</td>\n",
       "      <td>went (5.2)</td>\n",
       "      <td>terrible (11.24)</td>\n",
       "    </tr>\n",
       "    <tr>\n",
       "      <th>1</th>\n",
       "      <td>hour (11.77)</td>\n",
       "      <td>ok (3.46)</td>\n",
       "      <td>minute (12.0)</td>\n",
       "      <td>money (11.35)</td>\n",
       "      <td>said (11.41)</td>\n",
       "      <td>issue (2.41)</td>\n",
       "      <td>treat (1.23)</td>\n",
       "      <td>disappointed (3.2)</td>\n",
       "      <td>closed (4.6)</td>\n",
       "      <td>bad (7.88)</td>\n",
       "    </tr>\n",
       "    <tr>\n",
       "      <th>2</th>\n",
       "      <td>would (10.22)</td>\n",
       "      <td>hard (3.31)</td>\n",
       "      <td>waiting (7.83)</td>\n",
       "      <td>horrible (9.74)</td>\n",
       "      <td>asked (10.94)</td>\n",
       "      <td>follow (2.17)</td>\n",
       "      <td>unbelievable (0.98)</td>\n",
       "      <td>close (2.49)</td>\n",
       "      <td>month_later (1.89)</td>\n",
       "      <td>awful (7.0)</td>\n",
       "    </tr>\n",
       "    <tr>\n",
       "      <th>3</th>\n",
       "      <td>u (7.87)</td>\n",
       "      <td>maybe (3.27)</td>\n",
       "      <td>table (7.56)</td>\n",
       "      <td>customer_service (6.39)</td>\n",
       "      <td>manager (9.14)</td>\n",
       "      <td>problem (1.9)</td>\n",
       "      <td>cannot (0.63)</td>\n",
       "      <td>decided (1.6)</td>\n",
       "      <td>changed (1.87)</td>\n",
       "      <td>poor (6.84)</td>\n",
       "    </tr>\n",
       "    <tr>\n",
       "      <th>4</th>\n",
       "      <td>could (6.59)</td>\n",
       "      <td>however (2.43)</td>\n",
       "      <td>waited (6.24)</td>\n",
       "      <td>waste_time (5.66)</td>\n",
       "      <td>refused (4.05)</td>\n",
       "      <td>frustrating (1.66)</td>\n",
       "      <td>allaround (0.28)</td>\n",
       "      <td>find (1.3)</td>\n",
       "      <td>update (1.85)</td>\n",
       "      <td>star (4.98)</td>\n",
       "    </tr>\n",
       "    <tr>\n",
       "      <th>5</th>\n",
       "      <td>another (6.41)</td>\n",
       "      <td>used (2.41)</td>\n",
       "      <td>min (5.72)</td>\n",
       "      <td>please (4.4)</td>\n",
       "      <td>ask (2.86)</td>\n",
       "      <td>need (1.51)</td>\n",
       "      <td>every_aspect (0.24)</td>\n",
       "      <td>read_review (1.26)</td>\n",
       "      <td>day (1.8)</td>\n",
       "      <td>slow (4.86)</td>\n",
       "    </tr>\n",
       "    <tr>\n",
       "      <th>6</th>\n",
       "      <td>even (6.29)</td>\n",
       "      <td>seemed (2.33)</td>\n",
       "      <td>sitting (3.8)</td>\n",
       "      <td>unless (3.82)</td>\n",
       "      <td>asking (2.41)</td>\n",
       "      <td>properly (1.48)</td>\n",
       "      <td>everyday (0.2)</td>\n",
       "      <td>heard (1.24)</td>\n",
       "      <td>month_ago (1.68)</td>\n",
       "      <td>worse (3.8)</td>\n",
       "    </tr>\n",
       "    <tr>\n",
       "      <th>7</th>\n",
       "      <td>nothing (6.06)</td>\n",
       "      <td>fine (2.31)</td>\n",
       "      <td>waiter (3.71)</td>\n",
       "      <td>somewhere_else (3.63)</td>\n",
       "      <td>mistake (2.26)</td>\n",
       "      <td>multiple (1.27)</td>\n",
       "      <td>commend (0.2)</td>\n",
       "      <td>opened (0.82)</td>\n",
       "      <td>last (1.44)</td>\n",
       "      <td>disappointing (3.16)</td>\n",
       "    </tr>\n",
       "    <tr>\n",
       "      <th>8</th>\n",
       "      <td>give (5.36)</td>\n",
       "      <td>least (2.03)</td>\n",
       "      <td>hostess (3.59)</td>\n",
       "      <td>avoid (3.56)</td>\n",
       "      <td>stated (2.05)</td>\n",
       "      <td>due (1.17)</td>\n",
       "      <td>speedy (0.16)</td>\n",
       "      <td>somewhere (0.63)</td>\n",
       "      <td>twice (1.43)</td>\n",
       "      <td>sad (2.96)</td>\n",
       "    </tr>\n",
       "    <tr>\n",
       "      <th>9</th>\n",
       "      <td>left (5.35)</td>\n",
       "      <td>something (1.71)</td>\n",
       "      <td>line (3.32)</td>\n",
       "      <td>suck (2.5)</td>\n",
       "      <td>informed (1.87)</td>\n",
       "      <td>failed (1.12)</td>\n",
       "      <td>alway (0.13)</td>\n",
       "      <td>first_impression (0.62)</td>\n",
       "      <td>month (1.23)</td>\n",
       "      <td>unfortunately (2.63)</td>\n",
       "    </tr>\n",
       "  </tbody>\n",
       "</table>\n",
       "</div>"
      ],
      "text/plain": [
       "               51                92              44                       95  \\\n",
       "0   never (15.84)       like (4.84)   order (15.17)            worst (14.89)   \n",
       "1    hour (11.77)         ok (3.46)   minute (12.0)            money (11.35)   \n",
       "2   would (10.22)       hard (3.31)  waiting (7.83)          horrible (9.74)   \n",
       "3        u (7.87)      maybe (3.27)    table (7.56)  customer_service (6.39)   \n",
       "4    could (6.59)    however (2.43)   waited (6.24)        waste_time (5.66)   \n",
       "5  another (6.41)       used (2.41)      min (5.72)             please (4.4)   \n",
       "6     even (6.29)     seemed (2.33)   sitting (3.8)            unless (3.82)   \n",
       "7  nothing (6.06)       fine (2.31)   waiter (3.71)    somewhere_else (3.63)   \n",
       "8     give (5.36)      least (2.03)  hostess (3.59)             avoid (3.56)   \n",
       "9     left (5.35)  something (1.71)     line (3.32)               suck (2.5)   \n",
       "\n",
       "                35                  52                   56  \\\n",
       "0     told (16.11)          use (3.06)          ever (2.14)   \n",
       "1     said (11.41)        issue (2.41)         treat (1.23)   \n",
       "2    asked (10.94)       follow (2.17)  unbelievable (0.98)   \n",
       "3   manager (9.14)       problem (1.9)        cannot (0.63)   \n",
       "4   refused (4.05)  frustrating (1.66)     allaround (0.28)   \n",
       "5       ask (2.86)         need (1.51)  every_aspect (0.24)   \n",
       "6    asking (2.41)     properly (1.48)       everyday (0.2)   \n",
       "7   mistake (2.26)     multiple (1.27)        commend (0.2)   \n",
       "8    stated (2.05)          due (1.17)        speedy (0.16)   \n",
       "9  informed (1.87)       failed (1.12)         alway (0.13)   \n",
       "\n",
       "                        26                  78                    0   \n",
       "0            review (5.09)          went (5.2)      terrible (11.24)  \n",
       "1       disappointed (3.2)        closed (4.6)            bad (7.88)  \n",
       "2             close (2.49)  month_later (1.89)           awful (7.0)  \n",
       "3            decided (1.6)      changed (1.87)           poor (6.84)  \n",
       "4               find (1.3)       update (1.85)           star (4.98)  \n",
       "5       read_review (1.26)           day (1.8)           slow (4.86)  \n",
       "6             heard (1.24)    month_ago (1.68)           worse (3.8)  \n",
       "7            opened (0.82)         last (1.44)  disappointing (3.16)  \n",
       "8         somewhere (0.63)        twice (1.43)            sad (2.96)  \n",
       "9  first_impression (0.62)        month (1.23)  unfortunately (2.63)  "
      ]
     },
     "execution_count": 488,
     "metadata": {},
     "output_type": "execute_result"
    }
   ],
   "source": [
    "c2 "
   ]
  },
  {
   "cell_type": "code",
   "execution_count": 491,
   "metadata": {},
   "outputs": [
    {
     "data": {
      "text/plain": [
       "(4000, 21)"
      ]
     },
     "execution_count": 491,
     "metadata": {},
     "output_type": "execute_result"
    }
   ],
   "source": [
    "sample.shape"
   ]
  },
  {
   "cell_type": "code",
   "execution_count": 493,
   "metadata": {},
   "outputs": [],
   "source": [
    "source_costs = pd.DataFrame(wmd_pairs_flow.source_feat)\n",
    "source_costs.index = [p[0] for p in pairs]\n",
    "source_costs = source_costs.sort_index()\n",
    "source_costs = source_costs[c1.columns]\n",
    "source_costs['categories'] = sample[:2000].categories"
   ]
  },
  {
   "cell_type": "code",
   "execution_count": 494,
   "metadata": {},
   "outputs": [
    {
     "data": {
      "text/plain": [
       "Counter({'Health & Medical': 1000, 'Restaurants': 1000})"
      ]
     },
     "execution_count": 494,
     "metadata": {},
     "output_type": "execute_result"
    }
   ],
   "source": [
    "Counter(source_costs.categories)"
   ]
  },
  {
   "cell_type": "code",
   "execution_count": 496,
   "metadata": {},
   "outputs": [
    {
     "data": {
      "text/html": [
       "<div>\n",
       "<style scoped>\n",
       "    .dataframe tbody tr th:only-of-type {\n",
       "        vertical-align: middle;\n",
       "    }\n",
       "\n",
       "    .dataframe tbody tr th {\n",
       "        vertical-align: top;\n",
       "    }\n",
       "\n",
       "    .dataframe thead th {\n",
       "        text-align: right;\n",
       "    }\n",
       "</style>\n",
       "<table border=\"1\" class=\"dataframe\">\n",
       "  <thead>\n",
       "    <tr style=\"text-align: right;\">\n",
       "      <th></th>\n",
       "      <th>categories</th>\n",
       "      <th>cluster</th>\n",
       "      <th>value</th>\n",
       "    </tr>\n",
       "  </thead>\n",
       "  <tbody>\n",
       "    <tr>\n",
       "      <th>0</th>\n",
       "      <td>Health &amp; Medical</td>\n",
       "      <td>56</td>\n",
       "      <td>7.872019e-02</td>\n",
       "    </tr>\n",
       "    <tr>\n",
       "      <th>1</th>\n",
       "      <td>Restaurants</td>\n",
       "      <td>56</td>\n",
       "      <td>2.237806e-01</td>\n",
       "    </tr>\n",
       "    <tr>\n",
       "      <th>2</th>\n",
       "      <td>Restaurants</td>\n",
       "      <td>56</td>\n",
       "      <td>1.001827e-01</td>\n",
       "    </tr>\n",
       "    <tr>\n",
       "      <th>3</th>\n",
       "      <td>Restaurants</td>\n",
       "      <td>56</td>\n",
       "      <td>1.106436e-01</td>\n",
       "    </tr>\n",
       "    <tr>\n",
       "      <th>4</th>\n",
       "      <td>Restaurants</td>\n",
       "      <td>56</td>\n",
       "      <td>2.465860e-09</td>\n",
       "    </tr>\n",
       "  </tbody>\n",
       "</table>\n",
       "</div>"
      ],
      "text/plain": [
       "         categories cluster         value\n",
       "0  Health & Medical      56  7.872019e-02\n",
       "1       Restaurants      56  2.237806e-01\n",
       "2       Restaurants      56  1.001827e-01\n",
       "3       Restaurants      56  1.106436e-01\n",
       "4       Restaurants      56  2.465860e-09"
      ]
     },
     "execution_count": 496,
     "metadata": {},
     "output_type": "execute_result"
    }
   ],
   "source": [
    "source_costs_long = pd.melt(source_costs, id_vars=['categories']).rename(columns={\"variable\":\"cluster\"})\n",
    "source_costs_long.head()"
   ]
  },
  {
   "cell_type": "code",
   "execution_count": 497,
   "metadata": {},
   "outputs": [],
   "source": [
    "source_costs_long = source_costs_long[source_costs_long.value != 0]"
   ]
  },
  {
   "cell_type": "code",
   "execution_count": 498,
   "metadata": {},
   "outputs": [
    {
     "data": {
      "image/png": "[encoded data removed]",
      "text/plain": [
       "<Figure size 1260x720 with 10 Axes>"
      ]
     },
     "metadata": {
      "needs_background": "light"
     },
     "output_type": "display_data"
    }
   ],
   "source": [
    "g = sns.catplot(x=\"categories\", \n",
    "                y=\"value\", \n",
    "                col=\"cluster\", \n",
    "                data=source_costs_long, \n",
    "                kind=\"box\",\n",
    "                height=5, \n",
    "                aspect=.7,\n",
    "                col_wrap=5,\n",
    "                margin_titles=True);\n",
    "g.map_dataframe(sns.stripplot, \n",
    "                x=\"categories\", \n",
    "                y=\"value\", \n",
    "                palette=[\"#404040\"], \n",
    "                alpha=0.2, dodge=True)\n",
    "g.set_axis_labels(\"Category\", \"Distance\")\n",
    "for ax in g.axes.flatten():\n",
    "    ax.tick_params(labelbottom=True)\n"
   ]
  },
  {
   "cell_type": "code",
   "execution_count": 500,
   "metadata": {},
   "outputs": [],
   "source": [
    "sink_costs = pd.DataFrame(wmd_pairs_flow.sink_feat)\n",
    "sink_costs.index = [p[1] for p in pairs]\n",
    "sink_costs = sink_costs.sort_index()\n",
    "sink_costs = sink_costs[c2.columns]\n",
    "sink_costs['categories'] = sample[2000:4000].categories.tolist()"
   ]
  },
  {
   "cell_type": "code",
   "execution_count": 501,
   "metadata": {},
   "outputs": [
    {
     "data": {
      "text/html": [
       "<div>\n",
       "<style scoped>\n",
       "    .dataframe tbody tr th:only-of-type {\n",
       "        vertical-align: middle;\n",
       "    }\n",
       "\n",
       "    .dataframe tbody tr th {\n",
       "        vertical-align: top;\n",
       "    }\n",
       "\n",
       "    .dataframe thead th {\n",
       "        text-align: right;\n",
       "    }\n",
       "</style>\n",
       "<table border=\"1\" class=\"dataframe\">\n",
       "  <thead>\n",
       "    <tr style=\"text-align: right;\">\n",
       "      <th></th>\n",
       "      <th>categories</th>\n",
       "      <th>cluster</th>\n",
       "      <th>value</th>\n",
       "    </tr>\n",
       "  </thead>\n",
       "  <tbody>\n",
       "    <tr>\n",
       "      <th>0</th>\n",
       "      <td>Restaurants</td>\n",
       "      <td>51</td>\n",
       "      <td>7.013432e-02</td>\n",
       "    </tr>\n",
       "    <tr>\n",
       "      <th>1</th>\n",
       "      <td>Restaurants</td>\n",
       "      <td>51</td>\n",
       "      <td>6.732291e-02</td>\n",
       "    </tr>\n",
       "    <tr>\n",
       "      <th>2</th>\n",
       "      <td>Restaurants</td>\n",
       "      <td>51</td>\n",
       "      <td>1.714822e-02</td>\n",
       "    </tr>\n",
       "    <tr>\n",
       "      <th>3</th>\n",
       "      <td>Restaurants</td>\n",
       "      <td>51</td>\n",
       "      <td>5.464382e-02</td>\n",
       "    </tr>\n",
       "    <tr>\n",
       "      <th>4</th>\n",
       "      <td>Restaurants</td>\n",
       "      <td>51</td>\n",
       "      <td>3.644711e-09</td>\n",
       "    </tr>\n",
       "  </tbody>\n",
       "</table>\n",
       "</div>"
      ],
      "text/plain": [
       "    categories cluster         value\n",
       "0  Restaurants      51  7.013432e-02\n",
       "1  Restaurants      51  6.732291e-02\n",
       "2  Restaurants      51  1.714822e-02\n",
       "3  Restaurants      51  5.464382e-02\n",
       "4  Restaurants      51  3.644711e-09"
      ]
     },
     "execution_count": 501,
     "metadata": {},
     "output_type": "execute_result"
    }
   ],
   "source": [
    "sink_costs_long = pd.melt(sink_costs, id_vars=['categories']).rename(columns={\"variable\":\"cluster\"})\n",
    "sink_costs_long.head()"
   ]
  },
  {
   "cell_type": "code",
   "execution_count": 925,
   "metadata": {},
   "outputs": [],
   "source": [
    "sink_costs_long = sink_costs_long[sink_costs_long.value != 0]"
   ]
  },
  {
   "cell_type": "code",
   "execution_count": 502,
   "metadata": {},
   "outputs": [
    {
     "data": {
      "image/png": "[encoded data removed]",
      "text/plain": [
       "<Figure size 1260x720 with 10 Axes>"
      ]
     },
     "metadata": {
      "needs_background": "light"
     },
     "output_type": "display_data"
    }
   ],
   "source": [
    "g = sns.catplot(x=\"categories\", \n",
    "                y=\"value\", \n",
    "                col=\"cluster\", \n",
    "                data=sink_costs_long, \n",
    "                kind=\"box\",\n",
    "                height=5, \n",
    "                aspect=.7,\n",
    "                col_wrap=5,\n",
    "                margin_titles=True);\n",
    "g.map_dataframe(sns.stripplot, \n",
    "                x=\"categories\", \n",
    "                y=\"value\", \n",
    "                palette=[\"#404040\"], \n",
    "                alpha=0.2, dodge=True)\n",
    "g.set_axis_labels(\"Category\", \"Distance\")\n",
    "for ax in g.axes.flatten():\n",
    "    ax.tick_params(labelbottom=True)\n"
   ]
  },
  {
   "cell_type": "markdown",
   "metadata": {},
   "source": [
    "## 4 Better clusters with UMAP and T-SNE"
   ]
  },
  {
   "cell_type": "markdown",
   "metadata": {},
   "source": [
    "#### 4.1 UMAP + Kmeans"
   ]
  },
  {
   "cell_type": "code",
   "execution_count": 118,
   "metadata": {},
   "outputs": [],
   "source": [
    "word2cluster_u = {features[idx]: cl for idx, cl in enumerate(labels_umap)}"
   ]
  },
  {
   "cell_type": "code",
   "execution_count": 119,
   "metadata": {},
   "outputs": [
    {
     "name": "stdout",
     "output_type": "stream",
     "text": [
      "[(']', 84), ('^_', 49), ('`', 4), ('aaargh', 3), ('aaliyah', 8), ('aamir_khan', 54), ('aaron', 13), ('aaron_eckhart', 18), ('ab_tak', 93), ('abandon', 92)]\n"
     ]
    }
   ],
   "source": [
    "print(take(10, word2cluster_u.items()))"
   ]
  },
  {
   "cell_type": "markdown",
   "metadata": {},
   "source": [
    "Now, conversely, create an index that maps each cluster to a word."
   ]
  },
  {
   "cell_type": "code",
   "execution_count": 120,
   "metadata": {},
   "outputs": [],
   "source": [
    "cluster2words_u = defaultdict(list)\n",
    "for key, value in word2cluster_u.items():\n",
    "    cluster2words_u[value].append(key)"
   ]
  },
  {
   "cell_type": "code",
   "execution_count": 121,
   "metadata": {},
   "outputs": [
    {
     "name": "stdout",
     "output_type": "stream",
     "text": [
      "Calculated distances between approximately 0 documents.\n",
      "Calculated distances between approximately 100 documents.\n",
      "Calculated distances between approximately 200 documents.\n",
      "Calculated distances between approximately 300 documents.\n",
      "Calculated distances between approximately 400 documents.\n",
      "CPU times: user 2min 3s, sys: 15.9 s, total: 2min 19s\n",
      "Wall time: 1min 13s\n"
     ]
    }
   ],
   "source": [
    "%%time \n",
    "\n",
    "wmd_pairs_flow_u = WMDPairs(pos_docs,neg_docs,pairs,E,idx2word)\n",
    "wmd_pairs_flow_u.get_distances(decompose = True, \n",
    "                               sum_clusters = True, \n",
    "                               w2c = word2cluster_u, \n",
    "                               c2w = cluster2words_u,\n",
    "                               thread = True,\n",
    "                               relax = True)"
   ]
  },
  {
   "cell_type": "code",
   "execution_count": 123,
   "metadata": {},
   "outputs": [],
   "source": [
    "wmd_pairs_flow_u.get_differences()"
   ]
  },
  {
   "cell_type": "code",
   "execution_count": 125,
   "metadata": {},
   "outputs": [],
   "source": [
    "c1_u = output_clusters(wc=wmd_pairs_flow_u.wd_source_diff.items(), \n",
    "                     cc=wmd_pairs_flow_u.cd_source.items(), \n",
    "                     c2w=cluster2words_u, \n",
    "                     n_clusters=n_clusters, \n",
    "                     n_words=n_words)\n",
    "c2_u = output_clusters(wc=wmd_pairs_flow_u.wd_sink_diff.items(), \n",
    "                     cc=wmd_pairs_flow_u.cd_sink.items(), \n",
    "                     c2w=cluster2words_u, \n",
    "                     n_clusters=n_clusters, \n",
    "                     n_words=n_words)"
   ]
  },
  {
   "cell_type": "code",
   "execution_count": 126,
   "metadata": {},
   "outputs": [
    {
     "data": {
      "text/html": [
       "<div>\n",
       "<style scoped>\n",
       "    .dataframe tbody tr th:only-of-type {\n",
       "        vertical-align: middle;\n",
       "    }\n",
       "\n",
       "    .dataframe tbody tr th {\n",
       "        vertical-align: top;\n",
       "    }\n",
       "\n",
       "    .dataframe thead th {\n",
       "        text-align: right;\n",
       "    }\n",
       "</style>\n",
       "<table border=\"1\" class=\"dataframe\">\n",
       "  <thead>\n",
       "    <tr style=\"text-align: right;\">\n",
       "      <th></th>\n",
       "      <th>38</th>\n",
       "      <th>65</th>\n",
       "      <th>48</th>\n",
       "      <th>50</th>\n",
       "      <th>6</th>\n",
       "      <th>45</th>\n",
       "      <th>78</th>\n",
       "      <th>16</th>\n",
       "      <th>14</th>\n",
       "      <th>68</th>\n",
       "    </tr>\n",
       "  </thead>\n",
       "  <tbody>\n",
       "    <tr>\n",
       "      <th>0</th>\n",
       "      <td>great (2.48)</td>\n",
       "      <td>loved (1.27)</td>\n",
       "      <td>game (1.77)</td>\n",
       "      <td>dvd (0.7)</td>\n",
       "      <td>still (1.8)</td>\n",
       "      <td>year (0.8)</td>\n",
       "      <td>film (0.68)</td>\n",
       "      <td>little (1.23)</td>\n",
       "      <td>performance (1.36)</td>\n",
       "      <td>story (0.7)</td>\n",
       "    </tr>\n",
       "    <tr>\n",
       "      <th>1</th>\n",
       "      <td>best (2.03)</td>\n",
       "      <td>enjoy (0.72)</td>\n",
       "      <td>hard (0.42)</td>\n",
       "      <td>show (0.4)</td>\n",
       "      <td>disney (0.89)</td>\n",
       "      <td>new (0.67)</td>\n",
       "      <td>although (0.37)</td>\n",
       "      <td>entertaining (0.66)</td>\n",
       "      <td>role (0.9)</td>\n",
       "      <td>quality (0.3)</td>\n",
       "    </tr>\n",
       "    <tr>\n",
       "      <th>2</th>\n",
       "      <td>excellent (1.42)</td>\n",
       "      <td>well_worth (0.67)</td>\n",
       "      <td>cartoon (0.18)</td>\n",
       "      <td>hope (0.39)</td>\n",
       "      <td>every (0.34)</td>\n",
       "      <td>night (0.43)</td>\n",
       "      <td>cinema (0.36)</td>\n",
       "      <td>hilarious (0.5)</td>\n",
       "      <td>star (0.55)</td>\n",
       "      <td>quite (0.3)</td>\n",
       "    </tr>\n",
       "    <tr>\n",
       "      <th>3</th>\n",
       "      <td>wonderful (1.3)</td>\n",
       "      <td>want (0.42)</td>\n",
       "      <td>people (0.16)</td>\n",
       "      <td>channel (0.37)</td>\n",
       "      <td>compared (0.19)</td>\n",
       "      <td>day (0.39)</td>\n",
       "      <td>hollywood (0.22)</td>\n",
       "      <td>comedy (0.43)</td>\n",
       "      <td>play (0.46)</td>\n",
       "      <td>edge_seat (0.23)</td>\n",
       "    </tr>\n",
       "    <tr>\n",
       "      <th>4</th>\n",
       "      <td>song (0.96)</td>\n",
       "      <td>check (0.25)</td>\n",
       "      <td>segal (0.15)</td>\n",
       "      <td>found (0.34)</td>\n",
       "      <td>taste (0.19)</td>\n",
       "      <td>old (0.38)</td>\n",
       "      <td>though (0.18)</td>\n",
       "      <td>plus (0.32)</td>\n",
       "      <td>playing (0.39)</td>\n",
       "      <td>build (0.23)</td>\n",
       "    </tr>\n",
       "    <tr>\n",
       "      <th>5</th>\n",
       "      <td>brilliant (0.83)</td>\n",
       "      <td>liked (0.23)</td>\n",
       "      <td>meatball (0.14)</td>\n",
       "      <td>buy (0.33)</td>\n",
       "      <td>much (0.16)</td>\n",
       "      <td>lived (0.35)</td>\n",
       "      <td>throughout (0.17)</td>\n",
       "      <td>fulci (0.3)</td>\n",
       "      <td>great_job (0.31)</td>\n",
       "      <td>clever (0.23)</td>\n",
       "    </tr>\n",
       "    <tr>\n",
       "      <th>6</th>\n",
       "      <td>perfect (0.75)</td>\n",
       "      <td>enjoyed (0.21)</td>\n",
       "      <td>animated (0.14)</td>\n",
       "      <td>glad (0.31)</td>\n",
       "      <td>one (0.15)</td>\n",
       "      <td>late (0.33)</td>\n",
       "      <td>filled (0.17)</td>\n",
       "      <td>humor (0.28)</td>\n",
       "      <td>hamlet (0.2)</td>\n",
       "      <td>bit (0.23)</td>\n",
       "    </tr>\n",
       "    <tr>\n",
       "      <th>7</th>\n",
       "      <td>beautiful (0.68)</td>\n",
       "      <td>would_recommend (0.19)</td>\n",
       "      <td>subtitle (0.14)</td>\n",
       "      <td>film_festival (0.27)</td>\n",
       "      <td>sf (0.14)</td>\n",
       "      <td>memory (0.29)</td>\n",
       "      <td>pure (0.14)</td>\n",
       "      <td>martial_art (0.26)</td>\n",
       "      <td>davy (0.19)</td>\n",
       "      <td>romantic_comedy (0.22)</td>\n",
       "    </tr>\n",
       "    <tr>\n",
       "      <th>8</th>\n",
       "      <td>soundtrack (0.67)</td>\n",
       "      <td>seen (0.17)</td>\n",
       "      <td>serial (0.13)</td>\n",
       "      <td>first_saw (0.25)</td>\n",
       "      <td>eighty (0.14)</td>\n",
       "      <td>grew (0.25)</td>\n",
       "      <td>part (0.12)</td>\n",
       "      <td>enjoyable (0.23)</td>\n",
       "      <td>rest_cast (0.18)</td>\n",
       "      <td>extremely (0.19)</td>\n",
       "    </tr>\n",
       "    <tr>\n",
       "      <th>9</th>\n",
       "      <td>amazing (0.65)</td>\n",
       "      <td>thought (0.17)</td>\n",
       "      <td>exactly (0.13)</td>\n",
       "      <td>video (0.25)</td>\n",
       "      <td>perhaps (0.13)</td>\n",
       "      <td>last (0.25)</td>\n",
       "      <td>dated (0.11)</td>\n",
       "      <td>humour (0.21)</td>\n",
       "      <td>supporting_cast (0.18)</td>\n",
       "      <td>suspenseful (0.13)</td>\n",
       "    </tr>\n",
       "  </tbody>\n",
       "</table>\n",
       "</div>"
      ],
      "text/plain": [
       "                  38                      65               48  \\\n",
       "0       great (2.48)            loved (1.27)      game (1.77)   \n",
       "1        best (2.03)            enjoy (0.72)      hard (0.42)   \n",
       "2   excellent (1.42)       well_worth (0.67)   cartoon (0.18)   \n",
       "3    wonderful (1.3)             want (0.42)    people (0.16)   \n",
       "4        song (0.96)            check (0.25)     segal (0.15)   \n",
       "5   brilliant (0.83)            liked (0.23)  meatball (0.14)   \n",
       "6     perfect (0.75)          enjoyed (0.21)  animated (0.14)   \n",
       "7   beautiful (0.68)  would_recommend (0.19)  subtitle (0.14)   \n",
       "8  soundtrack (0.67)             seen (0.17)    serial (0.13)   \n",
       "9     amazing (0.65)          thought (0.17)   exactly (0.13)   \n",
       "\n",
       "                     50               6              45                 78  \\\n",
       "0             dvd (0.7)      still (1.8)     year (0.8)        film (0.68)   \n",
       "1            show (0.4)    disney (0.89)     new (0.67)    although (0.37)   \n",
       "2           hope (0.39)     every (0.34)   night (0.43)      cinema (0.36)   \n",
       "3        channel (0.37)  compared (0.19)     day (0.39)   hollywood (0.22)   \n",
       "4          found (0.34)     taste (0.19)     old (0.38)      though (0.18)   \n",
       "5            buy (0.33)      much (0.16)   lived (0.35)  throughout (0.17)   \n",
       "6           glad (0.31)       one (0.15)    late (0.33)      filled (0.17)   \n",
       "7  film_festival (0.27)        sf (0.14)  memory (0.29)        pure (0.14)   \n",
       "8      first_saw (0.25)    eighty (0.14)    grew (0.25)        part (0.12)   \n",
       "9          video (0.25)   perhaps (0.13)    last (0.25)       dated (0.11)   \n",
       "\n",
       "                    16                      14                      68  \n",
       "0        little (1.23)      performance (1.36)             story (0.7)  \n",
       "1  entertaining (0.66)              role (0.9)           quality (0.3)  \n",
       "2      hilarious (0.5)             star (0.55)             quite (0.3)  \n",
       "3        comedy (0.43)             play (0.46)        edge_seat (0.23)  \n",
       "4          plus (0.32)          playing (0.39)            build (0.23)  \n",
       "5          fulci (0.3)        great_job (0.31)           clever (0.23)  \n",
       "6         humor (0.28)            hamlet (0.2)              bit (0.23)  \n",
       "7   martial_art (0.26)             davy (0.19)  romantic_comedy (0.22)  \n",
       "8     enjoyable (0.23)        rest_cast (0.18)        extremely (0.19)  \n",
       "9        humour (0.21)  supporting_cast (0.18)      suspenseful (0.13)  "
      ]
     },
     "execution_count": 126,
     "metadata": {},
     "output_type": "execute_result"
    }
   ],
   "source": [
    "c1_u"
   ]
  },
  {
   "cell_type": "code",
   "execution_count": 127,
   "metadata": {},
   "outputs": [
    {
     "data": {
      "text/html": [
       "<div>\n",
       "<style scoped>\n",
       "    .dataframe tbody tr th:only-of-type {\n",
       "        vertical-align: middle;\n",
       "    }\n",
       "\n",
       "    .dataframe tbody tr th {\n",
       "        vertical-align: top;\n",
       "    }\n",
       "\n",
       "    .dataframe thead th {\n",
       "        text-align: right;\n",
       "    }\n",
       "</style>\n",
       "<table border=\"1\" class=\"dataframe\">\n",
       "  <thead>\n",
       "    <tr style=\"text-align: right;\">\n",
       "      <th></th>\n",
       "      <th>65</th>\n",
       "      <th>48</th>\n",
       "      <th>56</th>\n",
       "      <th>6</th>\n",
       "      <th>30</th>\n",
       "      <th>16</th>\n",
       "      <th>63</th>\n",
       "      <th>50</th>\n",
       "      <th>78</th>\n",
       "      <th>77</th>\n",
       "    </tr>\n",
       "  </thead>\n",
       "  <tbody>\n",
       "    <tr>\n",
       "      <th>0</th>\n",
       "      <td>movie (2.33)</td>\n",
       "      <td>would (0.5)</td>\n",
       "      <td>bad (5.31)</td>\n",
       "      <td>even (1.48)</td>\n",
       "      <td>worst (2.48)</td>\n",
       "      <td>stupid (1.61)</td>\n",
       "      <td>better (1.0)</td>\n",
       "      <td>came (0.35)</td>\n",
       "      <td>director (0.41)</td>\n",
       "      <td>supposed (0.74)</td>\n",
       "    </tr>\n",
       "    <tr>\n",
       "      <th>1</th>\n",
       "      <td>really (0.94)</td>\n",
       "      <td>reason (0.47)</td>\n",
       "      <td>plot (1.52)</td>\n",
       "      <td>could (1.22)</td>\n",
       "      <td>ever_seen (0.95)</td>\n",
       "      <td>funny (0.87)</td>\n",
       "      <td>least (0.77)</td>\n",
       "      <td>fox (0.31)</td>\n",
       "      <td>effort (0.34)</td>\n",
       "      <td>case (0.52)</td>\n",
       "    </tr>\n",
       "    <tr>\n",
       "      <th>2</th>\n",
       "      <td>rating (0.84)</td>\n",
       "      <td>going (0.46)</td>\n",
       "      <td>boring (1.38)</td>\n",
       "      <td>instead (1.03)</td>\n",
       "      <td>one_worst (0.88)</td>\n",
       "      <td>joke (0.76)</td>\n",
       "      <td>nothing (0.76)</td>\n",
       "      <td>sat (0.31)</td>\n",
       "      <td>seems (0.27)</td>\n",
       "      <td>making (0.43)</td>\n",
       "    </tr>\n",
       "    <tr>\n",
       "      <th>3</th>\n",
       "      <td>say (0.72)</td>\n",
       "      <td>gave (0.42)</td>\n",
       "      <td>awful (1.34)</td>\n",
       "      <td>made (0.83)</td>\n",
       "      <td>ever (0.74)</td>\n",
       "      <td>idiotic (0.39)</td>\n",
       "      <td>ok (0.63)</td>\n",
       "      <td>episode (0.31)</td>\n",
       "      <td>numerous (0.27)</td>\n",
       "      <td>understand (0.39)</td>\n",
       "    </tr>\n",
       "    <tr>\n",
       "      <th>4</th>\n",
       "      <td>rent (0.7)</td>\n",
       "      <td>basically (0.42)</td>\n",
       "      <td>terrible (1.24)</td>\n",
       "      <td>enough (0.72)</td>\n",
       "      <td>hour (0.74)</td>\n",
       "      <td>unrealistic (0.37)</td>\n",
       "      <td>cheap (0.6)</td>\n",
       "      <td>finished (0.28)</td>\n",
       "      <td>point (0.27)</td>\n",
       "      <td>obviously (0.36)</td>\n",
       "    </tr>\n",
       "    <tr>\n",
       "      <th>5</th>\n",
       "      <td>maybe (0.61)</td>\n",
       "      <td>never (0.4)</td>\n",
       "      <td>poor (1.12)</td>\n",
       "      <td>idea (0.59)</td>\n",
       "      <td>minute (0.72)</td>\n",
       "      <td>lot (0.37)</td>\n",
       "      <td>anything (0.56)</td>\n",
       "      <td>picked (0.27)</td>\n",
       "      <td>contain (0.19)</td>\n",
       "      <td>project (0.27)</td>\n",
       "    </tr>\n",
       "    <tr>\n",
       "      <th>6</th>\n",
       "      <td>anyone (0.61)</td>\n",
       "      <td>wrong (0.4)</td>\n",
       "      <td>horrible (0.93)</td>\n",
       "      <td>either (0.46)</td>\n",
       "      <td>worse (0.72)</td>\n",
       "      <td>overall (0.32)</td>\n",
       "      <td>sequel (0.43)</td>\n",
       "      <td>series (0.25)</td>\n",
       "      <td>example (0.18)</td>\n",
       "      <td>sort (0.26)</td>\n",
       "    </tr>\n",
       "    <tr>\n",
       "      <th>7</th>\n",
       "      <td>watching (0.52)</td>\n",
       "      <td>happen (0.39)</td>\n",
       "      <td>script (0.7)</td>\n",
       "      <td>rest (0.45)</td>\n",
       "      <td>something (0.68)</td>\n",
       "      <td>nudity (0.29)</td>\n",
       "      <td>whole_thing (0.42)</td>\n",
       "      <td>blockbuster (0.25)</td>\n",
       "      <td>almost (0.15)</td>\n",
       "      <td>fact (0.26)</td>\n",
       "    </tr>\n",
       "    <tr>\n",
       "      <th>8</th>\n",
       "      <td>review (0.52)</td>\n",
       "      <td>tried (0.37)</td>\n",
       "      <td>dialog (0.63)</td>\n",
       "      <td>make_sense (0.45)</td>\n",
       "      <td>waste (0.65)</td>\n",
       "      <td>serious (0.28)</td>\n",
       "      <td>b (0.41)</td>\n",
       "      <td>rented (0.21)</td>\n",
       "      <td>shocking (0.15)</td>\n",
       "      <td>blame (0.25)</td>\n",
       "    </tr>\n",
       "    <tr>\n",
       "      <th>9</th>\n",
       "      <td>recommend (0.48)</td>\n",
       "      <td>like (0.37)</td>\n",
       "      <td>dull (0.6)</td>\n",
       "      <td>producer (0.36)</td>\n",
       "      <td>waste_time (0.61)</td>\n",
       "      <td>disgusting (0.28)</td>\n",
       "      <td>expect (0.39)</td>\n",
       "      <td>went_see (0.21)</td>\n",
       "      <td>columbo (0.14)</td>\n",
       "      <td>confused (0.25)</td>\n",
       "    </tr>\n",
       "  </tbody>\n",
       "</table>\n",
       "</div>"
      ],
      "text/plain": [
       "                 65                48               56                 6   \\\n",
       "0      movie (2.33)       would (0.5)       bad (5.31)        even (1.48)   \n",
       "1     really (0.94)     reason (0.47)      plot (1.52)       could (1.22)   \n",
       "2     rating (0.84)      going (0.46)    boring (1.38)     instead (1.03)   \n",
       "3        say (0.72)       gave (0.42)     awful (1.34)        made (0.83)   \n",
       "4        rent (0.7)  basically (0.42)  terrible (1.24)      enough (0.72)   \n",
       "5      maybe (0.61)       never (0.4)      poor (1.12)        idea (0.59)   \n",
       "6     anyone (0.61)       wrong (0.4)  horrible (0.93)      either (0.46)   \n",
       "7   watching (0.52)     happen (0.39)     script (0.7)        rest (0.45)   \n",
       "8     review (0.52)      tried (0.37)    dialog (0.63)  make_sense (0.45)   \n",
       "9  recommend (0.48)       like (0.37)       dull (0.6)    producer (0.36)   \n",
       "\n",
       "                  30                  16                  63  \\\n",
       "0       worst (2.48)       stupid (1.61)        better (1.0)   \n",
       "1   ever_seen (0.95)        funny (0.87)        least (0.77)   \n",
       "2   one_worst (0.88)         joke (0.76)      nothing (0.76)   \n",
       "3        ever (0.74)      idiotic (0.39)           ok (0.63)   \n",
       "4        hour (0.74)  unrealistic (0.37)         cheap (0.6)   \n",
       "5      minute (0.72)          lot (0.37)     anything (0.56)   \n",
       "6       worse (0.72)      overall (0.32)       sequel (0.43)   \n",
       "7   something (0.68)       nudity (0.29)  whole_thing (0.42)   \n",
       "8       waste (0.65)      serious (0.28)            b (0.41)   \n",
       "9  waste_time (0.61)   disgusting (0.28)       expect (0.39)   \n",
       "\n",
       "                   50               78                 77  \n",
       "0         came (0.35)  director (0.41)    supposed (0.74)  \n",
       "1          fox (0.31)    effort (0.34)        case (0.52)  \n",
       "2          sat (0.31)     seems (0.27)      making (0.43)  \n",
       "3      episode (0.31)  numerous (0.27)  understand (0.39)  \n",
       "4     finished (0.28)     point (0.27)   obviously (0.36)  \n",
       "5       picked (0.27)   contain (0.19)     project (0.27)  \n",
       "6       series (0.25)   example (0.18)        sort (0.26)  \n",
       "7  blockbuster (0.25)    almost (0.15)        fact (0.26)  \n",
       "8       rented (0.21)  shocking (0.15)       blame (0.25)  \n",
       "9     went_see (0.21)   columbo (0.14)    confused (0.25)  "
      ]
     },
     "execution_count": 127,
     "metadata": {},
     "output_type": "execute_result"
    }
   ],
   "source": [
    "c2_u"
   ]
  },
  {
   "cell_type": "markdown",
   "metadata": {},
   "source": [
    "#### 4.1 T-SNE + Kmeans"
   ]
  },
  {
   "cell_type": "code",
   "execution_count": 128,
   "metadata": {},
   "outputs": [],
   "source": [
    "word2cluster_t = {features[idx]: cl for idx, cl in enumerate(labels_tsne)}"
   ]
  },
  {
   "cell_type": "code",
   "execution_count": 129,
   "metadata": {},
   "outputs": [
    {
     "name": "stdout",
     "output_type": "stream",
     "text": [
      "[(']', 65), ('^_', 25), ('`', 45), ('aaargh', 79), ('aaliyah', 39), ('aamir_khan', 56), ('aaron', 84), ('aaron_eckhart', 20), ('ab_tak', 54), ('abandon', 74)]\n"
     ]
    }
   ],
   "source": [
    "print(take(10, word2cluster_t.items()))"
   ]
  },
  {
   "cell_type": "markdown",
   "metadata": {},
   "source": [
    "Now, conversely, create an index that maps each cluster to a word."
   ]
  },
  {
   "cell_type": "code",
   "execution_count": 139,
   "metadata": {},
   "outputs": [],
   "source": [
    "cluster2words_t = defaultdict(list)\n",
    "for key, value in word2cluster_t.items():\n",
    "    cluster2words_t[value].append(key)"
   ]
  },
  {
   "cell_type": "code",
   "execution_count": 141,
   "metadata": {},
   "outputs": [
    {
     "name": "stdout",
     "output_type": "stream",
     "text": [
      "Calculated distances between approximately 0 documents.\n",
      "Calculated distances between approximately 100 documents.\n",
      "Calculated distances between approximately 200 documents.\n",
      "Calculated distances between approximately 300 documents.\n",
      "Calculated distances between approximately 400 documents.\n",
      "CPU times: user 2min 5s, sys: 14.9 s, total: 2min 20s\n",
      "Wall time: 1min 16s\n"
     ]
    }
   ],
   "source": [
    "%%time \n",
    "\n",
    "wmd_pairs_flow_t = WMDPairs(pos_docs,neg_docs,pairs,E,idx2word)\n",
    "wmd_pairs_flow_t.get_distances(decompose = True, \n",
    "                               sum_clusters = True, \n",
    "                               w2c = word2cluster_t, \n",
    "                               c2w = cluster2words_t,\n",
    "                               thread = True,\n",
    "                               relax = True)"
   ]
  },
  {
   "cell_type": "code",
   "execution_count": 142,
   "metadata": {},
   "outputs": [],
   "source": [
    "wmd_pairs_flow_t.get_differences()"
   ]
  },
  {
   "cell_type": "code",
   "execution_count": 143,
   "metadata": {},
   "outputs": [],
   "source": [
    "c1_t = output_clusters(wc=wmd_pairs_flow_t.wd_source_diff.items(), \n",
    "                     cc=wmd_pairs_flow_t.cd_source.items(), \n",
    "                     c2w=cluster2words_t, \n",
    "                     n_clusters=n_clusters, \n",
    "                     n_words=n_words)\n",
    "c2_t = output_clusters(wc=wmd_pairs_flow_t.wd_sink_diff.items(), \n",
    "                     cc=wmd_pairs_flow_t.cd_sink.items(), \n",
    "                     c2w=cluster2words_t, \n",
    "                     n_clusters=n_clusters, \n",
    "                     n_words=n_words)"
   ]
  },
  {
   "cell_type": "code",
   "execution_count": 144,
   "metadata": {},
   "outputs": [
    {
     "data": {
      "text/html": [
       "<div>\n",
       "<style scoped>\n",
       "    .dataframe tbody tr th:only-of-type {\n",
       "        vertical-align: middle;\n",
       "    }\n",
       "\n",
       "    .dataframe tbody tr th {\n",
       "        vertical-align: top;\n",
       "    }\n",
       "\n",
       "    .dataframe thead th {\n",
       "        text-align: right;\n",
       "    }\n",
       "</style>\n",
       "<table border=\"1\" class=\"dataframe\">\n",
       "  <thead>\n",
       "    <tr style=\"text-align: right;\">\n",
       "      <th></th>\n",
       "      <th>92</th>\n",
       "      <th>67</th>\n",
       "      <th>86</th>\n",
       "      <th>48</th>\n",
       "      <th>99</th>\n",
       "      <th>87</th>\n",
       "      <th>10</th>\n",
       "      <th>31</th>\n",
       "      <th>17</th>\n",
       "      <th>95</th>\n",
       "    </tr>\n",
       "  </thead>\n",
       "  <tbody>\n",
       "    <tr>\n",
       "      <th>0</th>\n",
       "      <td>loved (1.27)</td>\n",
       "      <td>great (2.48)</td>\n",
       "      <td>disney (0.89)</td>\n",
       "      <td>thought (0.17)</td>\n",
       "      <td>game (1.77)</td>\n",
       "      <td>performance (1.36)</td>\n",
       "      <td>dvd (0.7)</td>\n",
       "      <td>real (0.65)</td>\n",
       "      <td>feeling (0.6)</td>\n",
       "      <td>year (0.8)</td>\n",
       "    </tr>\n",
       "    <tr>\n",
       "      <th>1</th>\n",
       "      <td>time (0.84)</td>\n",
       "      <td>excellent (1.42)</td>\n",
       "      <td>film (0.68)</td>\n",
       "      <td>people (0.16)</td>\n",
       "      <td>hilarious (0.5)</td>\n",
       "      <td>role (0.9)</td>\n",
       "      <td>hope (0.39)</td>\n",
       "      <td>often (0.4)</td>\n",
       "      <td>feel (0.54)</td>\n",
       "      <td>night (0.43)</td>\n",
       "    </tr>\n",
       "    <tr>\n",
       "      <th>2</th>\n",
       "      <td>well_worth (0.67)</td>\n",
       "      <td>wonderful (1.3)</td>\n",
       "      <td>entertaining (0.66)</td>\n",
       "      <td>exactly (0.13)</td>\n",
       "      <td>comedy (0.43)</td>\n",
       "      <td>star (0.55)</td>\n",
       "      <td>channel (0.37)</td>\n",
       "      <td>moving (0.35)</td>\n",
       "      <td>message (0.43)</td>\n",
       "      <td>day (0.39)</td>\n",
       "    </tr>\n",
       "    <tr>\n",
       "      <th>3</th>\n",
       "      <td>fan (0.55)</td>\n",
       "      <td>song (0.96)</td>\n",
       "      <td>definitely (0.54)</td>\n",
       "      <td>folk (0.12)</td>\n",
       "      <td>scifi (0.43)</td>\n",
       "      <td>play (0.46)</td>\n",
       "      <td>found (0.34)</td>\n",
       "      <td>filmed (0.21)</td>\n",
       "      <td>reality (0.34)</td>\n",
       "      <td>lived (0.35)</td>\n",
       "    </tr>\n",
       "    <tr>\n",
       "      <th>4</th>\n",
       "      <td>wish (0.28)</td>\n",
       "      <td>brilliant (0.83)</td>\n",
       "      <td>special (0.39)</td>\n",
       "      <td>shocked (0.11)</td>\n",
       "      <td>show (0.4)</td>\n",
       "      <td>playing (0.39)</td>\n",
       "      <td>buy (0.33)</td>\n",
       "      <td>top (0.17)</td>\n",
       "      <td>theme (0.3)</td>\n",
       "      <td>memory (0.29)</td>\n",
       "    </tr>\n",
       "    <tr>\n",
       "      <th>5</th>\n",
       "      <td>liked (0.23)</td>\n",
       "      <td>perfect (0.75)</td>\n",
       "      <td>cinema (0.36)</td>\n",
       "      <td>happy_ending (0.11)</td>\n",
       "      <td>humor (0.28)</td>\n",
       "      <td>great_job (0.31)</td>\n",
       "      <td>glad (0.31)</td>\n",
       "      <td>main (0.15)</td>\n",
       "      <td>issue (0.21)</td>\n",
       "      <td>future (0.26)</td>\n",
       "    </tr>\n",
       "    <tr>\n",
       "      <th>6</th>\n",
       "      <td>enjoyed (0.21)</td>\n",
       "      <td>beautiful (0.68)</td>\n",
       "      <td>particularly (0.35)</td>\n",
       "      <td>wanting (0.09)</td>\n",
       "      <td>short (0.24)</td>\n",
       "      <td>usual (0.25)</td>\n",
       "      <td>film_festival (0.27)</td>\n",
       "      <td>character (0.15)</td>\n",
       "      <td>society (0.18)</td>\n",
       "      <td>grew (0.25)</td>\n",
       "    </tr>\n",
       "    <tr>\n",
       "      <th>7</th>\n",
       "      <td>seen (0.17)</td>\n",
       "      <td>soundtrack (0.67)</td>\n",
       "      <td>classic (0.33)</td>\n",
       "      <td>figured (0.08)</td>\n",
       "      <td>clever (0.23)</td>\n",
       "      <td>rest_cast (0.18)</td>\n",
       "      <td>first_saw (0.25)</td>\n",
       "      <td>segment (0.13)</td>\n",
       "      <td>importance (0.17)</td>\n",
       "      <td>last (0.25)</td>\n",
       "    </tr>\n",
       "    <tr>\n",
       "      <th>8</th>\n",
       "      <td>buy_copy (0.16)</td>\n",
       "      <td>amazing (0.65)</td>\n",
       "      <td>work (0.33)</td>\n",
       "      <td>running_time (0.08)</td>\n",
       "      <td>humour (0.21)</td>\n",
       "      <td>supporting_cast (0.18)</td>\n",
       "      <td>video (0.25)</td>\n",
       "      <td>sequence (0.13)</td>\n",
       "      <td>complex (0.16)</td>\n",
       "      <td>took (0.22)</td>\n",
       "    </tr>\n",
       "    <tr>\n",
       "      <th>9</th>\n",
       "      <td>really_liked (0.16)</td>\n",
       "      <td>incredible (0.59)</td>\n",
       "      <td>highly_recommend (0.28)</td>\n",
       "      <td>cared (0.08)</td>\n",
       "      <td>one_liner (0.17)</td>\n",
       "      <td>shine (0.17)</td>\n",
       "      <td>theater (0.21)</td>\n",
       "      <td>edited (0.11)</td>\n",
       "      <td>dealing (0.16)</td>\n",
       "      <td>weekend (0.21)</td>\n",
       "    </tr>\n",
       "  </tbody>\n",
       "</table>\n",
       "</div>"
      ],
      "text/plain": [
       "                    92                 67                       86  \\\n",
       "0         loved (1.27)       great (2.48)            disney (0.89)   \n",
       "1          time (0.84)   excellent (1.42)              film (0.68)   \n",
       "2    well_worth (0.67)    wonderful (1.3)      entertaining (0.66)   \n",
       "3           fan (0.55)        song (0.96)        definitely (0.54)   \n",
       "4          wish (0.28)   brilliant (0.83)           special (0.39)   \n",
       "5         liked (0.23)     perfect (0.75)            cinema (0.36)   \n",
       "6       enjoyed (0.21)   beautiful (0.68)      particularly (0.35)   \n",
       "7          seen (0.17)  soundtrack (0.67)           classic (0.33)   \n",
       "8      buy_copy (0.16)     amazing (0.65)              work (0.33)   \n",
       "9  really_liked (0.16)  incredible (0.59)  highly_recommend (0.28)   \n",
       "\n",
       "                    48                99                      87  \\\n",
       "0       thought (0.17)       game (1.77)      performance (1.36)   \n",
       "1        people (0.16)   hilarious (0.5)              role (0.9)   \n",
       "2       exactly (0.13)     comedy (0.43)             star (0.55)   \n",
       "3          folk (0.12)      scifi (0.43)             play (0.46)   \n",
       "4       shocked (0.11)        show (0.4)          playing (0.39)   \n",
       "5  happy_ending (0.11)      humor (0.28)        great_job (0.31)   \n",
       "6       wanting (0.09)      short (0.24)            usual (0.25)   \n",
       "7       figured (0.08)     clever (0.23)        rest_cast (0.18)   \n",
       "8  running_time (0.08)     humour (0.21)  supporting_cast (0.18)   \n",
       "9         cared (0.08)  one_liner (0.17)            shine (0.17)   \n",
       "\n",
       "                     10                31                 17              95  \n",
       "0             dvd (0.7)       real (0.65)      feeling (0.6)      year (0.8)  \n",
       "1           hope (0.39)       often (0.4)        feel (0.54)    night (0.43)  \n",
       "2        channel (0.37)     moving (0.35)     message (0.43)      day (0.39)  \n",
       "3          found (0.34)     filmed (0.21)     reality (0.34)    lived (0.35)  \n",
       "4            buy (0.33)        top (0.17)        theme (0.3)   memory (0.29)  \n",
       "5           glad (0.31)       main (0.15)       issue (0.21)   future (0.26)  \n",
       "6  film_festival (0.27)  character (0.15)     society (0.18)     grew (0.25)  \n",
       "7      first_saw (0.25)    segment (0.13)  importance (0.17)     last (0.25)  \n",
       "8          video (0.25)   sequence (0.13)     complex (0.16)     took (0.22)  \n",
       "9        theater (0.21)     edited (0.11)     dealing (0.16)  weekend (0.21)  "
      ]
     },
     "execution_count": 144,
     "metadata": {},
     "output_type": "execute_result"
    }
   ],
   "source": [
    "c1_t"
   ]
  },
  {
   "cell_type": "code",
   "execution_count": 145,
   "metadata": {},
   "outputs": [
    {
     "data": {
      "text/html": [
       "<div>\n",
       "<style scoped>\n",
       "    .dataframe tbody tr th:only-of-type {\n",
       "        vertical-align: middle;\n",
       "    }\n",
       "\n",
       "    .dataframe tbody tr th {\n",
       "        vertical-align: top;\n",
       "    }\n",
       "\n",
       "    .dataframe thead th {\n",
       "        text-align: right;\n",
       "    }\n",
       "</style>\n",
       "<table border=\"1\" class=\"dataframe\">\n",
       "  <thead>\n",
       "    <tr style=\"text-align: right;\">\n",
       "      <th></th>\n",
       "      <th>28</th>\n",
       "      <th>92</th>\n",
       "      <th>48</th>\n",
       "      <th>89</th>\n",
       "      <th>49</th>\n",
       "      <th>19</th>\n",
       "      <th>31</th>\n",
       "      <th>42</th>\n",
       "      <th>82</th>\n",
       "      <th>86</th>\n",
       "    </tr>\n",
       "  </thead>\n",
       "  <tbody>\n",
       "    <tr>\n",
       "      <th>0</th>\n",
       "      <td>bad (5.31)</td>\n",
       "      <td>movie (2.33)</td>\n",
       "      <td>hour (0.74)</td>\n",
       "      <td>worst (2.48)</td>\n",
       "      <td>even (1.48)</td>\n",
       "      <td>really (0.94)</td>\n",
       "      <td>shot (0.67)</td>\n",
       "      <td>could (1.22)</td>\n",
       "      <td>made (0.83)</td>\n",
       "      <td>better (1.0)</td>\n",
       "    </tr>\n",
       "    <tr>\n",
       "      <th>1</th>\n",
       "      <td>stupid (1.61)</td>\n",
       "      <td>rating (0.84)</td>\n",
       "      <td>minute (0.72)</td>\n",
       "      <td>ever_seen (0.95)</td>\n",
       "      <td>enough (0.72)</td>\n",
       "      <td>maybe (0.61)</td>\n",
       "      <td>scene (0.54)</td>\n",
       "      <td>instead (1.03)</td>\n",
       "      <td>supposed (0.74)</td>\n",
       "      <td>original (0.33)</td>\n",
       "    </tr>\n",
       "    <tr>\n",
       "      <th>2</th>\n",
       "      <td>plot (1.52)</td>\n",
       "      <td>say (0.72)</td>\n",
       "      <td>anyone (0.61)</td>\n",
       "      <td>one_worst (0.88)</td>\n",
       "      <td>idea (0.59)</td>\n",
       "      <td>mean (0.42)</td>\n",
       "      <td>camera (0.51)</td>\n",
       "      <td>least (0.77)</td>\n",
       "      <td>making (0.43)</td>\n",
       "      <td>overall (0.32)</td>\n",
       "    </tr>\n",
       "    <tr>\n",
       "      <th>3</th>\n",
       "      <td>boring (1.38)</td>\n",
       "      <td>watching (0.52)</td>\n",
       "      <td>bored (0.58)</td>\n",
       "      <td>ever (0.74)</td>\n",
       "      <td>premise (0.45)</td>\n",
       "      <td>guess (0.38)</td>\n",
       "      <td>numerous (0.27)</td>\n",
       "      <td>nothing (0.76)</td>\n",
       "      <td>wrong (0.4)</td>\n",
       "      <td>serious (0.28)</td>\n",
       "    </tr>\n",
       "    <tr>\n",
       "      <th>4</th>\n",
       "      <td>awful (1.34)</td>\n",
       "      <td>review (0.52)</td>\n",
       "      <td>end (0.5)</td>\n",
       "      <td>rent (0.7)</td>\n",
       "      <td>disappointing (0.36)</td>\n",
       "      <td>like (0.37)</td>\n",
       "      <td>main_character (0.27)</td>\n",
       "      <td>anything (0.56)</td>\n",
       "      <td>line (0.27)</td>\n",
       "      <td>produced (0.14)</td>\n",
       "    </tr>\n",
       "    <tr>\n",
       "      <th>5</th>\n",
       "      <td>terrible (1.24)</td>\n",
       "      <td>reason (0.47)</td>\n",
       "      <td>depressing (0.49)</td>\n",
       "      <td>something (0.68)</td>\n",
       "      <td>producer (0.36)</td>\n",
       "      <td>someone (0.35)</td>\n",
       "      <td>echo (0.19)</td>\n",
       "      <td>either (0.46)</td>\n",
       "      <td>meant (0.17)</td>\n",
       "      <td>standard (0.08)</td>\n",
       "    </tr>\n",
       "    <tr>\n",
       "      <th>6</th>\n",
       "      <td>poor (1.12)</td>\n",
       "      <td>disappointed (0.34)</td>\n",
       "      <td>actually (0.47)</td>\n",
       "      <td>waste (0.65)</td>\n",
       "      <td>unfortunately (0.35)</td>\n",
       "      <td>seriously (0.32)</td>\n",
       "      <td>example (0.18)</td>\n",
       "      <td>gave (0.42)</td>\n",
       "      <td>looking (0.17)</td>\n",
       "      <td>bollywood (0.08)</td>\n",
       "    </tr>\n",
       "    <tr>\n",
       "      <th>7</th>\n",
       "      <td>horrible (0.93)</td>\n",
       "      <td>comment (0.34)</td>\n",
       "      <td>going (0.46)</td>\n",
       "      <td>waste_time (0.61)</td>\n",
       "      <td>stereotype (0.29)</td>\n",
       "      <td>anymore (0.26)</td>\n",
       "      <td>relentlessly (0.17)</td>\n",
       "      <td>laugh (0.34)</td>\n",
       "      <td>ruin (0.15)</td>\n",
       "      <td>worked (0.07)</td>\n",
       "    </tr>\n",
       "    <tr>\n",
       "      <th>8</th>\n",
       "      <td>worse (0.72)</td>\n",
       "      <td>saying (0.33)</td>\n",
       "      <td>make_sense (0.45)</td>\n",
       "      <td>ever_made (0.56)</td>\n",
       "      <td>seems (0.27)</td>\n",
       "      <td>hate (0.24)</td>\n",
       "      <td>clip (0.16)</td>\n",
       "      <td>cool (0.32)</td>\n",
       "      <td>appeal (0.13)</td>\n",
       "      <td>equally (0.07)</td>\n",
       "    </tr>\n",
       "    <tr>\n",
       "      <th>9</th>\n",
       "      <td>dialog (0.63)</td>\n",
       "      <td>hated (0.32)</td>\n",
       "      <td>seemed (0.45)</td>\n",
       "      <td>recommend (0.48)</td>\n",
       "      <td>project (0.27)</td>\n",
       "      <td>hell (0.24)</td>\n",
       "      <td>particular (0.16)</td>\n",
       "      <td>seagal (0.29)</td>\n",
       "      <td>describe (0.12)</td>\n",
       "      <td>dubbed (0.07)</td>\n",
       "    </tr>\n",
       "  </tbody>\n",
       "</table>\n",
       "</div>"
      ],
      "text/plain": [
       "                28                   92                 48                 89  \\\n",
       "0       bad (5.31)         movie (2.33)        hour (0.74)       worst (2.48)   \n",
       "1    stupid (1.61)        rating (0.84)      minute (0.72)   ever_seen (0.95)   \n",
       "2      plot (1.52)           say (0.72)      anyone (0.61)   one_worst (0.88)   \n",
       "3    boring (1.38)      watching (0.52)       bored (0.58)        ever (0.74)   \n",
       "4     awful (1.34)        review (0.52)          end (0.5)         rent (0.7)   \n",
       "5  terrible (1.24)        reason (0.47)  depressing (0.49)   something (0.68)   \n",
       "6      poor (1.12)  disappointed (0.34)    actually (0.47)       waste (0.65)   \n",
       "7  horrible (0.93)       comment (0.34)       going (0.46)  waste_time (0.61)   \n",
       "8     worse (0.72)        saying (0.33)  make_sense (0.45)   ever_made (0.56)   \n",
       "9    dialog (0.63)         hated (0.32)      seemed (0.45)   recommend (0.48)   \n",
       "\n",
       "                     49                19                     31  \\\n",
       "0           even (1.48)     really (0.94)            shot (0.67)   \n",
       "1         enough (0.72)      maybe (0.61)           scene (0.54)   \n",
       "2           idea (0.59)       mean (0.42)          camera (0.51)   \n",
       "3        premise (0.45)      guess (0.38)        numerous (0.27)   \n",
       "4  disappointing (0.36)       like (0.37)  main_character (0.27)   \n",
       "5       producer (0.36)    someone (0.35)            echo (0.19)   \n",
       "6  unfortunately (0.35)  seriously (0.32)         example (0.18)   \n",
       "7     stereotype (0.29)    anymore (0.26)    relentlessly (0.17)   \n",
       "8          seems (0.27)       hate (0.24)            clip (0.16)   \n",
       "9        project (0.27)       hell (0.24)      particular (0.16)   \n",
       "\n",
       "                42               82                86  \n",
       "0     could (1.22)      made (0.83)      better (1.0)  \n",
       "1   instead (1.03)  supposed (0.74)   original (0.33)  \n",
       "2     least (0.77)    making (0.43)    overall (0.32)  \n",
       "3   nothing (0.76)      wrong (0.4)    serious (0.28)  \n",
       "4  anything (0.56)      line (0.27)   produced (0.14)  \n",
       "5    either (0.46)     meant (0.17)   standard (0.08)  \n",
       "6      gave (0.42)   looking (0.17)  bollywood (0.08)  \n",
       "7     laugh (0.34)      ruin (0.15)     worked (0.07)  \n",
       "8      cool (0.32)    appeal (0.13)    equally (0.07)  \n",
       "9    seagal (0.29)  describe (0.12)     dubbed (0.07)  "
      ]
     },
     "execution_count": 145,
     "metadata": {},
     "output_type": "execute_result"
    }
   ],
   "source": [
    "c2_t"
   ]
  },
  {
   "cell_type": "markdown",
   "metadata": {},
   "source": [
    "## 5 Reduced Dimension Inputs"
   ]
  },
  {
   "cell_type": "markdown",
   "metadata": {},
   "source": [
    "### 5.1 UMAP"
   ]
  },
  {
   "cell_type": "code",
   "execution_count": null,
   "metadata": {},
   "outputs": [],
   "source": [
    "### TODO: lcwmd with UMAP"
   ]
  },
  {
   "cell_type": "code",
   "execution_count": 170,
   "metadata": {},
   "outputs": [
    {
     "name": "stdout",
     "output_type": "stream",
     "text": [
      "Calculated distances between approximately 0 documents.\n",
      "Calculated distances between approximately 100 documents.\n",
      "Calculated distances between approximately 200 documents.\n",
      "Calculated distances between approximately 300 documents.\n",
      "Calculated distances between approximately 400 documents.\n",
      "CPU times: user 1min 34s, sys: 4.71 s, total: 1min 39s\n",
      "Wall time: 1min 30s\n"
     ]
    }
   ],
   "source": [
    "%%time \n",
    "\n",
    "wmd_pairs_flow_uvecs = WMDPairs(pos_docs,neg_docs,pairs,E_umap,idx2word)\n",
    "wmd_pairs_flow_uvecs.get_distances(decompose = True, \n",
    "                                   sum_clusters = True, \n",
    "                                   w2c = word2cluster_u, \n",
    "                                   c2w = cluster2words_u,\n",
    "                                   thread = True,\n",
    "                                   relax = True)"
   ]
  },
  {
   "cell_type": "markdown",
   "metadata": {},
   "source": [
    "### 5.2 T-SNE"
   ]
  }
 ],
 "metadata": {
  "kernelspec": {
   "display_name": "venv-wmdecomp",
   "language": "python",
   "name": "venv-wmdecomp"
  },
  "language_info": {
   "codemirror_mode": {
    "name": "ipython",
    "version": 3
   },
   "file_extension": ".py",
   "mimetype": "text/x-python",
   "name": "python",
   "nbconvert_exporter": "python",
   "pygments_lexer": "ipython3",
   "version": "3.8.3"
  }
 },
 "nbformat": 4,
 "nbformat_minor": 4
}
